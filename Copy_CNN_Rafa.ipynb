{
  "nbformat": 4,
  "nbformat_minor": 0,
  "metadata": {
    "colab": {
      "name": "Copy-CNN-Rafa",
      "provenance": [],
      "collapsed_sections": [],
      "include_colab_link": true
    },
    "kernelspec": {
      "name": "python3",
      "display_name": "Python 3"
    },
    "language_info": {
      "name": "python"
    },
    "accelerator": "GPU"
  },
  "cells": [
    {
      "cell_type": "markdown",
      "metadata": {
        "id": "view-in-github",
        "colab_type": "text"
      },
      "source": [
        "<a href=\"https://colab.research.google.com/github/LuanPCunha/TCC/blob/main/Copy_CNN_Rafa.ipynb\" target=\"_parent\"><img src=\"https://colab.research.google.com/assets/colab-badge.svg\" alt=\"Open In Colab\"/></a>"
      ]
    },
    {
      "cell_type": "markdown",
      "source": [
        "# Downloads e imports"
      ],
      "metadata": {
        "id": "EvS_6l_yMUeH"
      }
    },
    {
      "cell_type": "code",
      "source": [
        "# !pip install tensorflow\n",
        "# !pip install keras"
      ],
      "metadata": {
        "id": "N5Vhr4_vECld"
      },
      "execution_count": 1,
      "outputs": []
    },
    {
      "cell_type": "code",
      "source": [
        "from google.colab import drive\n",
        "drive.mount('/content/drive')"
      ],
      "metadata": {
        "colab": {
          "base_uri": "https://localhost:8080/"
        },
        "id": "ptoQwAGEDQnl",
        "outputId": "4befe12c-7ade-458b-caef-bfbf5b0e6d8b"
      },
      "execution_count": 2,
      "outputs": [
        {
          "output_type": "stream",
          "name": "stdout",
          "text": [
            "Drive already mounted at /content/drive; to attempt to forcibly remount, call drive.mount(\"/content/drive\", force_remount=True).\n"
          ]
        }
      ]
    },
    {
      "cell_type": "code",
      "source": [
        "import sklearn\n",
        "import numpy as np\n",
        "import pandas as pd\n",
        "from numpy import loadtxt\n",
        "import matplotlib.pyplot as plt\n",
        "from sklearn.model_selection import train_test_split\n",
        "\n",
        "import tensorflow as tf\n",
        "from tensorflow import keras\n",
        "from keras import optimizers\n",
        "from keras import layers\n",
        "from keras.layers import Dropout, Conv1D, MaxPooling1D, Flatten, Dense, SpatialDropout1D, BatchNormalization\n",
        "from keras.preprocessing.text import Tokenizer\n",
        "from keras.preprocessing.sequence import pad_sequences\n",
        "from tensorflow.keras.optimizers import schedules, Adam, Adadelta, SGD, RMSprop, Adagrad, Adamax, Nadam, Ftrl # Estamos usando só o Nadam\n",
        "from keras.models import Sequential\n",
        "from keras.layers.embeddings import Embedding\n",
        "\n",
        "\n",
        "from numpy.random import seed  \n",
        "tf.random.set_seed(2)"
      ],
      "metadata": {
        "id": "OeOYrHW9Bxs_"
      },
      "execution_count": 3,
      "outputs": []
    },
    {
      "cell_type": "code",
      "source": [
        "def tokenize(tweets_list):\n",
        "    tokenizer = Tokenizer()\n",
        "    tokenizer.fit_on_texts(tweets_list)\n",
        "    return tokenizer.texts_to_sequences(tweets_list), tokenizer"
      ],
      "metadata": {
        "id": "db4KNc_2Ixyu"
      },
      "execution_count": 4,
      "outputs": []
    },
    {
      "cell_type": "code",
      "source": [
        "def pad(text_tokenized, length=None):\n",
        "    return pad_sequences(text_tokenized, maxlen=length, padding='post')"
      ],
      "metadata": {
        "id": "pwcjgZd9I6AD"
      },
      "execution_count": 5,
      "outputs": []
    },
    {
      "cell_type": "code",
      "source": [
        "def preprocess(tweets_list, max_text_length):\n",
        "    preprocess_tweets_list, tweets_list_tokenizer = tokenize(tweets_list)\n",
        "\n",
        "    preprocess_tweets_list = pad(preprocess_tweets_list, length=max_text_length)\n",
        "\n",
        "    return preprocess_tweets_list, tweets_list_tokenizer"
      ],
      "metadata": {
        "id": "fNMyJgcsI8AU"
      },
      "execution_count": 6,
      "outputs": []
    },
    {
      "cell_type": "code",
      "source": [
        "def logits_to_text(logits, tokenizer):\n",
        "    index_to_words = {id: word for word, id in tokenizer.word_index.items()}\n",
        "    index_to_words[0] = '<PAD>'\n",
        "\n",
        "    return ' '.join([index_to_words[prediction] for prediction in np.argmax(logits, 1)])"
      ],
      "metadata": {
        "id": "pX78imOBI9l8"
      },
      "execution_count": 7,
      "outputs": []
    },
    {
      "cell_type": "code",
      "source": [
        "# Plot de Gráficos\n",
        "\n",
        "def plot_accuracy(history, miny=None):\n",
        "  loss, accuracy, val_loss, val_accuracy = list(history.history.keys())\n",
        "  print(accuracy,val_accuracy,loss,val_loss)\n",
        "  acc = history.history[accuracy]\n",
        "  test_acc = history.history[val_accuracy]\n",
        "  epochs = range(len(acc))\n",
        "  plt.plot(epochs, acc)\n",
        "  plt.plot(epochs, test_acc)\n",
        "  if miny:\n",
        "    plt.ylim(miny, 1.0)\n",
        "  plt.legend(['train', 'test'], loc='upper left')\n",
        "  plt.title('accuracy') \n",
        "  plt.xlabel('epoch')\n",
        "  plt.show()\n",
        "  \n",
        "  \n",
        "# def plot_loss(history, miny=None):\n",
        "  loss = history.history[loss]\n",
        "  val_loss = history.history[val_loss]\n",
        "  epochs = range(len(loss))\n",
        "  plt.plot(epochs, loss)\n",
        "  plt.plot(epochs, val_loss)\n",
        "  if miny:\n",
        "    plt.ylim(miny, 1.0)\n",
        "  plt.legend(['train', 'test'], loc='upper left')\n",
        "  plt.title('loss') \n",
        "  plt.xlabel('epoch')\n",
        "  plt.show()"
      ],
      "metadata": {
        "id": "hTMVKvfRrQ9x"
      },
      "execution_count": 8,
      "outputs": []
    },
    {
      "cell_type": "markdown",
      "source": [
        "# Carrega base"
      ],
      "metadata": {
        "id": "kMO-knebMcYH"
      }
    },
    {
      "cell_type": "code",
      "source": [
        "# Base1 Com StopWords\n",
        "PATH_BASE1_JUNTO_COM_DA_LEILA_BALANCEADA = \"/content/drive/MyDrive/TCC/dados/processadas/balanceadas/Base1JuntaHateENotHateDaLeila_balanceada.csv\"\n",
        "#MATRIZ_CBOW_300_BASE_1 = loadtxt(\"/content/drive/MyDrive/TCC/dados/word_embeddings/Matriz_Base1JuntaHateENotHateDaLeila_balanceada_CBOW300.CSV\", delimiter=',')\n",
        "\n",
        "# Base2 Sem StopWords\n",
        "PATH_BASE2_LEILA_LIMPISSIMA_BALANCEADA = \"/content/drive/MyDrive/TCC/dados/processadas/balanceadas/Base2_maior4_menor25_limpissima_balanceada.csv\"\n",
        "#MATRIZ_CBOW_300_BASE_2_LEILA = loadtxt(\"/content/drive/MyDrive/TCC/dados/word_embeddings/Matriz_Base2_maior4_menor25_limpissima_balanceada_CBOW300.CSV\", delimiter=',')\n",
        "\n",
        "PATH_BASE_1_CLASSIFICADA_BALANCEADA = r\"/content/drive/MyDrive/TCC/dados/processadas/balanceadas/Base1_classificada_balanceada.csv\" #entrada\n",
        "\n",
        "PATH_BASE_2_CLASSIFICADA_BALANCEADA = r\"/content/drive/MyDrive/TCC/dados/processadas/balanceadas/Base2_classificada_balanceada.csv\" #entrada\n",
        "# MATRIZ_CBOW_300_BASE_2 = loadtxt(\"/content/drive/MyDrive/TCC/dados/word_embeddings/Matriz_Base2_classificada_balanceada_CBOW300.csv\", delimiter=',') #saida"
      ],
      "metadata": {
        "id": "xf_v4U5DDfU8"
      },
      "execution_count": 9,
      "outputs": []
    },
    {
      "cell_type": "markdown",
      "source": [
        "# Execução modelo"
      ],
      "metadata": {
        "id": "W9pdFxE7Ml6H"
      }
    },
    {
      "cell_type": "code",
      "source": [
        "tweets = pd.read_csv(PATH_BASE2_LEILA_LIMPISSIMA_BALANCEADA, index_col=0)\n",
        "text_column = tweets['text']\n",
        "text_column"
      ],
      "metadata": {
        "id": "7wJXwK7jCkyx",
        "outputId": "3f64142e-b7b4-4b60-c14c-f8ca3237a538",
        "colab": {
          "base_uri": "https://localhost:8080/"
        }
      },
      "execution_count": 10,
      "outputs": [
        {
          "output_type": "execute_result",
          "data": {
            "text/plain": [
              "0                            ambiguinho eu estou com nojo\n",
              "1                        menino do céu para que está feio\n",
              "2       já pergunto a porra do trem já sabendo da vdd ...\n",
              "3                                   sardella só faz merda\n",
              "4                        foda se na real vou tratar igual\n",
              "                              ...                        \n",
              "4881    estou sem presidente por quatro anos nãomerepr...\n",
              "4882    somos todos iguais braços dados ou não quem sa...\n",
              "4883    que deus nos proteja e cuidem um do outro somo...\n",
              "4884                         quem será que não sabe votar\n",
              "4885         disse o cidadão que votou no gaucho de geral\n",
              "Name: text, Length: 4886, dtype: object"
            ]
          },
          "metadata": {},
          "execution_count": 10
        }
      ]
    },
    {
      "cell_type": "code",
      "source": [
        "# Pega a média de caracteres dos tweets de toda a base\n",
        "max_text_length = int(text_column.apply(lambda x: len(str(x).split(' '))).max())\n",
        "max_text_length"
      ],
      "metadata": {
        "id": "ud3ADezRSHtI",
        "outputId": "98512735-5b0b-4c4a-c97f-f3748a0796d3",
        "colab": {
          "base_uri": "https://localhost:8080/"
        }
      },
      "execution_count": 11,
      "outputs": [
        {
          "output_type": "execute_result",
          "data": {
            "text/plain": [
              "25"
            ]
          },
          "metadata": {},
          "execution_count": 11
        }
      ]
    },
    {
      "cell_type": "code",
      "execution_count": 12,
      "metadata": {
        "colab": {
          "base_uri": "https://localhost:8080/"
        },
        "id": "UxNdO2PW2E5a",
        "outputId": "21bb6eb7-1d2a-457f-a20e-a7d353797680"
      },
      "outputs": [
        {
          "output_type": "stream",
          "name": "stdout",
          "text": [
            "0       1\n",
            "1       1\n",
            "2       1\n",
            "3       1\n",
            "4       1\n",
            "       ..\n",
            "4881    0\n",
            "4882    0\n",
            "4883    0\n",
            "4884    0\n",
            "4885    0\n",
            "Name: label, Length: 4886, dtype: int64\n",
            "<class 'pandas.core.series.Series'>\n",
            "Vocabulary size: 9147\n"
          ]
        }
      ],
      "source": [
        "output_label = tweets['label']\n",
        "print(output_label)\n",
        "print(type(output_label))\n",
        "input_data, text_tokenizer = preprocess(text_column, None)\n",
        "    \n",
        "text_vocab_size = len(text_tokenizer.word_index)\n",
        "print(\"Vocabulary size:\", text_vocab_size)"
      ]
    },
    {
      "cell_type": "code",
      "source": [
        "# parametros:\n",
        "BATCH_SIZE = 3\n",
        "EPOCHS = 5\n",
        "VAL_AND_TST_SIZE = 0.2\n",
        "LEARN_RATE = 0.00005 \n",
        "# ******\n",
        "BETA_1 = 0.09\n",
        "BETA_2 = 0.0999\n",
        "EPSILON = 1e-07\n",
        "# *****\n",
        "EMBEDDING_DIMENSION = 300  \n",
        "MAX_TEXT_SIZE = max_text_length \n",
        "VOCAB_SIZE = text_vocab_size"
      ],
      "metadata": {
        "id": "yBGbbGdfL7ps"
      },
      "execution_count": 41,
      "outputs": []
    },
    {
      "cell_type": "code",
      "source": [
        "def optimize (learning_rate, beta_1, beta_2, epsilon):\n",
        "  return Nadam(learning_rate=learning_rate, beta_1=beta_1, beta_2=beta_2, epsilon=epsilon, name=\"Nadam\")"
      ],
      "metadata": {
        "id": "bPL3sYgZ1h7j"
      },
      "execution_count": 42,
      "outputs": []
    },
    {
      "cell_type": "code",
      "source": [
        "# https://towardsdatascience.com/visualizing-how-filters-work-in-convolutional-neural-networks-cnns-7383bd84ad2c\n",
        "# https://colab.research.google.com/drive/18ejmbJn9KVcqWJzOvAz84HxIpPMeTijU#scrollTo=Hjf_s9MrZky2\n",
        "\n",
        "# https://stackoverflow.com/questions/67848962/selecting-loss-and-metrics-for-tensorflow-model ##GOD\n",
        "#https://machinelearningmastery.com/binary-classification-tutorial-with-the-keras-deep-learning-library/"
      ],
      "metadata": {
        "id": "CK6Ipo-7JNx4"
      },
      "execution_count": 43,
      "outputs": []
    },
    {
      "cell_type": "code",
      "source": [
        "def create_cnn (vocab_size, embedding_dimen, max_text_size ):\n",
        "\n",
        "  embedding_layer = Embedding(VOCAB_SIZE, EMBEDDING_DIMENSION, input_length=MAX_TEXT_SIZE)\n",
        "\n",
        "  int_sequences_input = keras.Input(shape=(None,), dtype=\"int64\")\n",
        "  embedded_sequences = embedding_layer(int_sequences_input)\n",
        "  x = layers.Conv1D(300,3, activation=\"relu\")(embedded_sequences)\n",
        "  # ******\n",
        "  x = layers.Dense(300, activation=\"relu\")(x)\n",
        "  x = layers.Dropout(0.1)(x)\n",
        " \n",
        "  x = layers.GlobalMaxPooling1D()(x)\n",
        "  # x = layers.MaxPooling1D()(x)\n",
        "  # x = layers.Conv1D(100, 3, activation=\"relu\")(x)\n",
        "  # x = layers.MaxPooling1D()(x)\n",
        "  # x = layers.Conv1D(100, 3, activation=\"relu\")(x)\n",
        "  # x = SpatialDropout1D(0.1)(x)\n",
        "  # x = BatchNormalization()(x)\n",
        "  # model.add(Flatten())\n",
        "  # *******\n",
        "  preds = layers.Dense(1)(x)\n",
        "  modelo = keras.Model(int_sequences_input, preds)\n",
        "  return modelo \n",
        "  "
      ],
      "metadata": {
        "id": "wKH2mHM5r8_6"
      },
      "execution_count": 44,
      "outputs": []
    },
    {
      "cell_type": "code",
      "source": [
        "def train_model(input_data, output_label, embedding_dimen, batch_size, epochs, validation_and_test_size):\n",
        "    \n",
        "    x_train, x_test, y_train, y_test = train_test_split(input_data, output_label, test_size=validation_and_test_size, random_state=42)\n",
        "\n",
        "    optimizer = optimize(LEARN_RATE, BETA_1, BETA_2, EPSILON)\n",
        "    \n",
        "    model = create_cnn(VOCAB_SIZE, EMBEDDING_DIMENSION, MAX_TEXT_SIZE)\n",
        "    model.summary()\n",
        "    model.compile(loss=tf.keras.losses.BinaryCrossentropy(from_logits=True), optimizer=optimizer, metrics=[tf.keras.metrics.BinaryAccuracy()])                                                                                                \n",
        "    history = model.fit(x_train, y_train, batch_size=batch_size, epochs=epochs, validation_split = validation_and_test_size, verbose=2, use_multiprocessing=True)\n",
        "    scores = model.evaluate(x_test, y_test, verbose=1)\n",
        "    \n",
        "    return history, model, x_test, y_test"
      ],
      "metadata": {
        "id": "wYnrq-34uZX5"
      },
      "execution_count": 45,
      "outputs": []
    },
    {
      "cell_type": "code",
      "source": [
        "# plot dos gráficos\n",
        "history, model1, x_test, y_test = train_model(input_data, output_label, EMBEDDING_DIMENSION, BATCH_SIZE, EPOCHS, VAL_AND_TST_SIZE)"
      ],
      "metadata": {
        "id": "9YLL1kZTDzUG",
        "outputId": "38ce55d4-6788-46f0-ebae-6b71a58038bb",
        "colab": {
          "base_uri": "https://localhost:8080/"
        }
      },
      "execution_count": 46,
      "outputs": [
        {
          "output_type": "stream",
          "name": "stdout",
          "text": [
            "Model: \"model_2\"\n",
            "_________________________________________________________________\n",
            " Layer (type)                Output Shape              Param #   \n",
            "=================================================================\n",
            " input_3 (InputLayer)        [(None, None)]            0         \n",
            "                                                                 \n",
            " embedding_2 (Embedding)     (None, None, 300)         2744100   \n",
            "                                                                 \n",
            " conv1d_2 (Conv1D)           (None, None, 300)         270300    \n",
            "                                                                 \n",
            " dense_4 (Dense)             (None, None, 300)         90300     \n",
            "                                                                 \n",
            " dropout_2 (Dropout)         (None, None, 300)         0         \n",
            "                                                                 \n",
            " global_max_pooling1d_2 (Glo  (None, 300)              0         \n",
            " balMaxPooling1D)                                                \n",
            "                                                                 \n",
            " dense_5 (Dense)             (None, 1)                 301       \n",
            "                                                                 \n",
            "=================================================================\n",
            "Total params: 3,105,001\n",
            "Trainable params: 3,105,001\n",
            "Non-trainable params: 0\n",
            "_________________________________________________________________\n",
            "Epoch 1/5\n",
            "1042/1042 - 6s - loss: 0.6018 - binary_accuracy: 0.6417 - val_loss: 0.5293 - val_binary_accuracy: 0.7148 - 6s/epoch - 5ms/step\n",
            "Epoch 2/5\n",
            "1042/1042 - 4s - loss: 0.4954 - binary_accuracy: 0.6996 - val_loss: 0.4608 - val_binary_accuracy: 0.7276 - 4s/epoch - 4ms/step\n",
            "Epoch 3/5\n",
            "1042/1042 - 4s - loss: 0.4095 - binary_accuracy: 0.7815 - val_loss: 0.3666 - val_binary_accuracy: 0.8453 - 4s/epoch - 4ms/step\n",
            "Epoch 4/5\n",
            "1042/1042 - 4s - loss: 0.3246 - binary_accuracy: 0.8439 - val_loss: 0.3010 - val_binary_accuracy: 0.8913 - 4s/epoch - 4ms/step\n",
            "Epoch 5/5\n",
            "1042/1042 - 4s - loss: 0.2843 - binary_accuracy: 0.8794 - val_loss: 0.2832 - val_binary_accuracy: 0.9143 - 4s/epoch - 4ms/step\n",
            "31/31 [==============================] - 0s 3ms/step - loss: 0.3625 - binary_accuracy: 0.8732\n"
          ]
        }
      ]
    },
    {
      "cell_type": "code",
      "source": [
        "list(history.history.keys())\n",
        "history.history"
      ],
      "metadata": {
        "colab": {
          "base_uri": "https://localhost:8080/"
        },
        "id": "LoC4rSJedE-K",
        "outputId": "665cd4e3-bd0f-433a-b106-252be0e29b43"
      },
      "execution_count": 47,
      "outputs": [
        {
          "output_type": "execute_result",
          "data": {
            "text/plain": [
              "{'binary_accuracy': [0.6417146325111389,\n",
              "  0.6996161341667175,\n",
              "  0.7815099358558655,\n",
              "  0.8438899517059326,\n",
              "  0.8793985843658447],\n",
              " 'loss': [0.6017985939979553,\n",
              "  0.49541518092155457,\n",
              "  0.409537672996521,\n",
              "  0.32462984323501587,\n",
              "  0.28427377343177795],\n",
              " 'val_binary_accuracy': [0.7148337364196777,\n",
              "  0.7276214957237244,\n",
              "  0.8452685475349426,\n",
              "  0.8913043737411499,\n",
              "  0.9143222570419312],\n",
              " 'val_loss': [0.5293168425559998,\n",
              "  0.46084094047546387,\n",
              "  0.3665913939476013,\n",
              "  0.3009761571884155,\n",
              "  0.2832016348838806]}"
            ]
          },
          "metadata": {},
          "execution_count": 47
        }
      ]
    },
    {
      "cell_type": "code",
      "source": [
        "plot_accuracy(history)\n",
        "# plot_loss(history)"
      ],
      "metadata": {
        "id": "rHqQtBxJAMZY",
        "outputId": "a329f7dc-31e1-4754-e256-3a4852e68dc5",
        "colab": {
          "base_uri": "https://localhost:8080/",
          "height": 590
        }
      },
      "execution_count": 48,
      "outputs": [
        {
          "output_type": "stream",
          "name": "stdout",
          "text": [
            "binary_accuracy val_binary_accuracy loss val_loss\n"
          ]
        },
        {
          "output_type": "display_data",
          "data": {
            "text/plain": [
              "<Figure size 432x288 with 1 Axes>"
            ],
            "image/png": "[encoded data removed]"
          },
          "metadata": {
            "needs_background": "light"
          }
        },
        {
          "output_type": "display_data",
          "data": {
            "text/plain": [
              "<Figure size 432x288 with 1 Axes>"
            ],
            "image/png": "[encoded data removed]"
          },
          "metadata": {
            "needs_background": "light"
          }
        }
      ]
    },
    {
      "cell_type": "code",
      "source": [
        "y_prob = model1.predict(x_test) \n",
        "y_labelpred = y_prob.argmax(axis=-1)\n",
        "#len(y_prob)\n",
        "print(y_labelpred)\n",
        "len(y_labelpred)"
      ],
      "metadata": {
        "id": "FR-idj87D4-N",
        "outputId": "b7db2b9f-703e-4527-d22b-e6f825b74b99",
        "colab": {
          "base_uri": "https://localhost:8080/"
        }
      },
      "execution_count": 49,
      "outputs": [
        {
          "output_type": "stream",
          "name": "stdout",
          "text": [
            "[0 0 0 0 0 0 0 0 0 0 0 0 0 0 0 0 0 0 0 0 0 0 0 0 0 0 0 0 0 0 0 0 0 0 0 0 0\n",
            " 0 0 0 0 0 0 0 0 0 0 0 0 0 0 0 0 0 0 0 0 0 0 0 0 0 0 0 0 0 0 0 0 0 0 0 0 0\n",
            " 0 0 0 0 0 0 0 0 0 0 0 0 0 0 0 0 0 0 0 0 0 0 0 0 0 0 0 0 0 0 0 0 0 0 0 0 0\n",
            " 0 0 0 0 0 0 0 0 0 0 0 0 0 0 0 0 0 0 0 0 0 0 0 0 0 0 0 0 0 0 0 0 0 0 0 0 0\n",
            " 0 0 0 0 0 0 0 0 0 0 0 0 0 0 0 0 0 0 0 0 0 0 0 0 0 0 0 0 0 0 0 0 0 0 0 0 0\n",
            " 0 0 0 0 0 0 0 0 0 0 0 0 0 0 0 0 0 0 0 0 0 0 0 0 0 0 0 0 0 0 0 0 0 0 0 0 0\n",
            " 0 0 0 0 0 0 0 0 0 0 0 0 0 0 0 0 0 0 0 0 0 0 0 0 0 0 0 0 0 0 0 0 0 0 0 0 0\n",
            " 0 0 0 0 0 0 0 0 0 0 0 0 0 0 0 0 0 0 0 0 0 0 0 0 0 0 0 0 0 0 0 0 0 0 0 0 0\n",
            " 0 0 0 0 0 0 0 0 0 0 0 0 0 0 0 0 0 0 0 0 0 0 0 0 0 0 0 0 0 0 0 0 0 0 0 0 0\n",
            " 0 0 0 0 0 0 0 0 0 0 0 0 0 0 0 0 0 0 0 0 0 0 0 0 0 0 0 0 0 0 0 0 0 0 0 0 0\n",
            " 0 0 0 0 0 0 0 0 0 0 0 0 0 0 0 0 0 0 0 0 0 0 0 0 0 0 0 0 0 0 0 0 0 0 0 0 0\n",
            " 0 0 0 0 0 0 0 0 0 0 0 0 0 0 0 0 0 0 0 0 0 0 0 0 0 0 0 0 0 0 0 0 0 0 0 0 0\n",
            " 0 0 0 0 0 0 0 0 0 0 0 0 0 0 0 0 0 0 0 0 0 0 0 0 0 0 0 0 0 0 0 0 0 0 0 0 0\n",
            " 0 0 0 0 0 0 0 0 0 0 0 0 0 0 0 0 0 0 0 0 0 0 0 0 0 0 0 0 0 0 0 0 0 0 0 0 0\n",
            " 0 0 0 0 0 0 0 0 0 0 0 0 0 0 0 0 0 0 0 0 0 0 0 0 0 0 0 0 0 0 0 0 0 0 0 0 0\n",
            " 0 0 0 0 0 0 0 0 0 0 0 0 0 0 0 0 0 0 0 0 0 0 0 0 0 0 0 0 0 0 0 0 0 0 0 0 0\n",
            " 0 0 0 0 0 0 0 0 0 0 0 0 0 0 0 0 0 0 0 0 0 0 0 0 0 0 0 0 0 0 0 0 0 0 0 0 0\n",
            " 0 0 0 0 0 0 0 0 0 0 0 0 0 0 0 0 0 0 0 0 0 0 0 0 0 0 0 0 0 0 0 0 0 0 0 0 0\n",
            " 0 0 0 0 0 0 0 0 0 0 0 0 0 0 0 0 0 0 0 0 0 0 0 0 0 0 0 0 0 0 0 0 0 0 0 0 0\n",
            " 0 0 0 0 0 0 0 0 0 0 0 0 0 0 0 0 0 0 0 0 0 0 0 0 0 0 0 0 0 0 0 0 0 0 0 0 0\n",
            " 0 0 0 0 0 0 0 0 0 0 0 0 0 0 0 0 0 0 0 0 0 0 0 0 0 0 0 0 0 0 0 0 0 0 0 0 0\n",
            " 0 0 0 0 0 0 0 0 0 0 0 0 0 0 0 0 0 0 0 0 0 0 0 0 0 0 0 0 0 0 0 0 0 0 0 0 0\n",
            " 0 0 0 0 0 0 0 0 0 0 0 0 0 0 0 0 0 0 0 0 0 0 0 0 0 0 0 0 0 0 0 0 0 0 0 0 0\n",
            " 0 0 0 0 0 0 0 0 0 0 0 0 0 0 0 0 0 0 0 0 0 0 0 0 0 0 0 0 0 0 0 0 0 0 0 0 0\n",
            " 0 0 0 0 0 0 0 0 0 0 0 0 0 0 0 0 0 0 0 0 0 0 0 0 0 0 0 0 0 0 0 0 0 0 0 0 0\n",
            " 0 0 0 0 0 0 0 0 0 0 0 0 0 0 0 0 0 0 0 0 0 0 0 0 0 0 0 0 0 0 0 0 0 0 0 0 0\n",
            " 0 0 0 0 0 0 0 0 0 0 0 0 0 0 0 0]\n"
          ]
        },
        {
          "output_type": "execute_result",
          "data": {
            "text/plain": [
              "978"
            ]
          },
          "metadata": {},
          "execution_count": 49
        }
      ]
    },
    {
      "cell_type": "code",
      "source": [
        "y_labeltrue=y_test\n",
        "print(y_labeltrue)"
      ],
      "metadata": {
        "id": "YXaoXhceD0Ic",
        "outputId": "c71ea4c9-7ea1-4b17-8a6e-669a109b62a3",
        "colab": {
          "base_uri": "https://localhost:8080/"
        }
      },
      "execution_count": 50,
      "outputs": [
        {
          "output_type": "stream",
          "name": "stdout",
          "text": [
            "1149    1\n",
            "393     1\n",
            "1268    1\n",
            "4233    0\n",
            "4181    0\n",
            "       ..\n",
            "3112    0\n",
            "84      1\n",
            "2086    1\n",
            "4126    0\n",
            "3614    0\n",
            "Name: label, Length: 978, dtype: int64\n"
          ]
        }
      ]
    },
    {
      "cell_type": "code",
      "metadata": {
        "id": "rYpv7sUlaqPH",
        "colab": {
          "base_uri": "https://localhost:8080/",
          "height": 635
        },
        "outputId": "d2f339ca-3450-403c-fdfb-f8f05ae83de9"
      },
      "source": [
        "from mlxtend.plotting import plot_confusion_matrix\n",
        "from sklearn.metrics import confusion_matrix\n",
        "import matplotlib.pyplot as plt\n",
        "\n",
        "classes = confusion_matrix(y_labeltrue,y_labelpred)\n",
        "\n",
        "fig,ax = plot_confusion_matrix(figsize=(11, 11),conf_mat=classes,\n",
        "                                colorbar=True,\n",
        "                                show_absolute=True,\n",
        "                                show_normed=True,\n",
        "                                #  class_names=[\"hate\",\"not\"],\n",
        "                              )\n",
        "plt.show()"
      ],
      "execution_count": 51,
      "outputs": [
        {
          "output_type": "display_data",
          "data": {
            "text/plain": [
              "<Figure size 792x792 with 2 Axes>"
            ],
            "image/png": "[encoded data removed]"
          },
          "metadata": {
            "needs_background": "light"
          }
        }
      ]
    },
    {
      "cell_type": "code",
      "source": [
        "# # lr_schedule = schedules.ExponentialDecay(\n",
        "# #     initial_learning_rate=lr,\n",
        "# #     decay_steps=10000,\n",
        "# #     decay_rate=0.9)\n",
        "\n",
        "# # https://keras.io/api/optimizers/\n",
        "# # https://keras.io/examples/nlp/pretrained_word_embeddings/\n",
        "# # https://keras.io/api/layers/base_layer/#layer-class\n",
        "\n",
        "# # optimizer = Adadelta(learning_rate=0.001, rho=0.95, epsilon=1e-07, name=\"Adadelta\") \n",
        "# #optimizer = SGD(learning_rate=0.01, momentum=0.0, nesterov=True, name=\"SGD\")\n",
        "# #optimizer = RMSprop(learning_rate=0.001,rho=0.9,momentum=0.0,epsilon=1e-07,centered=True,name=\"RMSprop\")\n",
        "# #optimizer = Adam(learning_rate=0.001, beta_1=0.9, beta_2=0.999, epsilon=1e-07, amsgrad=True, name=\"Adam\")\n",
        "# #optimizer = Adagrad(learning_rate=0.001, initial_accumulator_value=0.1, epsilon=1e-07, name=\"Adagrad\")\n",
        "# #optimizer = Adamax(learning_rate=0.001, beta_1=0.9, beta_2=0.999, epsilon=1e-07, name=\"Adamax\")\n",
        "# optimizer = Nadam(learning_rate=0.001, beta_1=0.9, beta_2=0.999, epsilon=1e-07, name=\"Nadam\") # 96% Embedding Treinado /\n",
        "# #optimizer = Ftrl(learning_rate=0.001, learning_rate_power=-0.5, initial_accumulator_value=0.1, l1_regularization_strength=0.1, l2_regularization_strength=0.1, l2_shrinkage_regularization_strength=0.001, beta=0.0001, name=\"Ftrl\")\n",
        "\n",
        "# # # defininindo a camada de embedding utilizando a matriz\n",
        "# # embedding_layer = Embedding(input_dim=MATRIZ_CBOW_300_BASE_2.shape[0],\n",
        "# #                             output_dim=MATRIZ_CBOW_300_BASE_2.shape[1],\n",
        "# #                             # weights=[MATRIZ_CBOW_300_BASE_2],\n",
        "# #                             embeddings_initializer=keras.initializers.Constant(MATRIZ_CBOW_300_BASE_2),\n",
        "# #                             input_length=tam_max,\n",
        "# #                             trainable=False)\n",
        "\n",
        "\n",
        "# model = Sequential()\n",
        "# # primeira camada se trata do embedding. \n",
        "# # model.add(embedding_layer)\n",
        "# model.add(Embedding(tam_vocab, embedding_dimen, input_length=tam_max)) \n",
        "\n",
        "\n",
        "# # camada convolucional\n",
        "# # filtros referentes ao output dessa camada,\n",
        "# # tamanho nucleo = 3, se tratando apenas de uma dimensão (conv1d)\n",
        "# # padding 'valid' = sem padding\n",
        "# # função de ativação = relu\n",
        "# model.add(Dropout(drp))\n",
        "# model.add(Conv1D(filtros, kernel_size, padding='same', activation='relu', strides=1))\n",
        "# model.add(Conv1D(filtros, kernel_size, padding='same', activation='relu', strides=1))\n",
        "# model.add(Dropout(drp))\n",
        "# model.add(MaxPooling1D())\n",
        "\n",
        "\n",
        "# # camada convolucional                         'valid|same'\n",
        "# model.add(Conv1D(filtros, kernel_size, padding='same', activation='relu', strides=1))\n",
        "# model.add(Conv1D(filtros, kernel_size, padding='same', activation='relu', strides=1))\n",
        "# model.add(Dropout(drp))\n",
        "# model.add(MaxPooling1D())\n",
        "\n",
        "\n",
        "# # nivela o output para utilização na camada densa\n",
        "# model.add(Flatten())\n",
        "\n",
        "# # regularização por dropout\n",
        "# model.add(Dense(2, activation='softmax'))\n",
        "\n",
        "\n",
        "# model.compile(loss=tf.keras.losses.SparseCategoricalCrossentropy(from_logits=True), optimizer=optimizer, metrics=['accuracy']) \n",
        "# model.summary()\n",
        "\n",
        "# # Fit the model                                                                                               #val split\n",
        "# history = model.fit(X_train, y_train, batch_size=batchsize, epochs=epochs,validation_data=(X_test, y_test), validation_split = 0.3, verbose=2)\n",
        "\n",
        "# # Final evaluation of the model\n",
        "# scores = model.evaluate(X_test, y_test, verbose=1)"
      ],
      "metadata": {
        "id": "vrC1KA9FLUK1"
      },
      "execution_count": 52,
      "outputs": []
    },
    {
      "cell_type": "code",
      "source": [
        "# # plot dos gráficos\n",
        "# plot_accuracy(history)\n",
        "# plot_loss(history)"
      ],
      "metadata": {
        "id": "WY8X0khP0x8w"
      },
      "execution_count": 53,
      "outputs": []
    },
    {
      "cell_type": "code",
      "source": [
        "tf.keras.utils.plot_model(model1, to_file='/meuarquivo.png', show_shapes=True)"
      ],
      "metadata": {
        "id": "SqzyjKSXJ6Tq",
        "outputId": "dd743b6d-2af6-4694-e353-5f94c7cac4be",
        "colab": {
          "base_uri": "https://localhost:8080/",
          "height": 754
        }
      },
      "execution_count": 54,
      "outputs": [
        {
          "output_type": "execute_result",
          "data": {
            "text/plain": [
              "<IPython.core.display.Image object>"
            ],
            "image/png": "[encoded data removed]"
          },
          "metadata": {},
          "execution_count": 54
        }
      ]
    }
  ]
}