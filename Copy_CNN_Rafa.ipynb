{
  "nbformat": 4,
  "nbformat_minor": 0,
  "metadata": {
    "colab": {
      "name": "Copy-CNN-Rafa",
      "provenance": [],
      "collapsed_sections": [],
      "include_colab_link": true
    },
    "kernelspec": {
      "name": "python3",
      "display_name": "Python 3"
    },
    "language_info": {
      "name": "python"
    },
    "accelerator": "GPU"
  },
  "cells": [
    {
      "cell_type": "markdown",
      "metadata": {
        "id": "view-in-github",
        "colab_type": "text"
      },
      "source": [
        "<a href=\"https://colab.research.google.com/github/LuanPCunha/TCC/blob/main/Copy_CNN_Rafa.ipynb\" target=\"_parent\"><img src=\"https://colab.research.google.com/assets/colab-badge.svg\" alt=\"Open In Colab\"/></a>"
      ]
    },
    {
      "cell_type": "markdown",
      "source": [
        "# Downloads e imports"
      ],
      "metadata": {
        "id": "EvS_6l_yMUeH"
      }
    },
    {
      "cell_type": "code",
      "source": [
        "!pip install tensorflow\n",
        "!pip install keras"
      ],
      "metadata": {
        "id": "N5Vhr4_vECld"
      },
      "execution_count": null,
      "outputs": []
    },
    {
      "cell_type": "code",
      "source": [
        "from google.colab import drive\n",
        "drive.mount('/content/drive')"
      ],
      "metadata": {
        "colab": {
          "base_uri": "https://localhost:8080/"
        },
        "id": "ptoQwAGEDQnl",
        "outputId": "7e8d6f64-c076-4983-d3b0-b79d14f16e9d"
      },
      "execution_count": 1,
      "outputs": [
        {
          "output_type": "stream",
          "name": "stdout",
          "text": [
            "Mounted at /content/drive\n"
          ]
        }
      ]
    },
    {
      "cell_type": "code",
      "source": [
        "import sklearn\n",
        "import numpy as np\n",
        "import pandas as pd\n",
        "from numpy import loadtxt\n",
        "import matplotlib.pyplot as plt\n",
        "from sklearn.model_selection import train_test_split\n",
        "\n",
        "import tensorflow as tf\n",
        "from tensorflow import keras\n",
        "from keras import optimizers\n",
        "from keras import layers\n",
        "from keras.layers import Dropout, Conv1D, MaxPooling1D, Flatten, Dense, SpatialDropout1D, BatchNormalization\n",
        "from keras.preprocessing.text import Tokenizer\n",
        "from keras.preprocessing.sequence import pad_sequences\n",
        "from tensorflow.keras.optimizers import schedules, Adam, Adadelta, SGD, RMSprop, Adagrad, Adamax, Nadam, Ftrl # Estamos usando só o Nadam\n",
        "from keras.models import Sequential\n",
        "from keras.layers.embeddings import Embedding\n",
        "\n",
        "\n",
        "from numpy.random import seed  \n",
        "tf.random.set_seed(2)"
      ],
      "metadata": {
        "id": "OeOYrHW9Bxs_"
      },
      "execution_count": 2,
      "outputs": []
    },
    {
      "cell_type": "code",
      "source": [
        "def tokenize(tweets_list):\n",
        "    tokenizer = Tokenizer()\n",
        "    tokenizer.fit_on_texts(tweets_list)\n",
        "    return tokenizer.texts_to_sequences(tweets_list), tokenizer"
      ],
      "metadata": {
        "id": "db4KNc_2Ixyu"
      },
      "execution_count": 3,
      "outputs": []
    },
    {
      "cell_type": "code",
      "source": [
        "def pad(text_tokenized, length=None):\n",
        "    return pad_sequences(text_tokenized, maxlen=length, padding='post')"
      ],
      "metadata": {
        "id": "pwcjgZd9I6AD"
      },
      "execution_count": 4,
      "outputs": []
    },
    {
      "cell_type": "code",
      "source": [
        "def preprocess(tweets_list, max_text_length):\n",
        "    preprocess_tweets_list, tweets_list_tokenizer = tokenize(tweets_list)\n",
        "\n",
        "    preprocess_tweets_list = pad(preprocess_tweets_list, length=max_text_length)\n",
        "\n",
        "    return preprocess_tweets_list, tweets_list_tokenizer"
      ],
      "metadata": {
        "id": "fNMyJgcsI8AU"
      },
      "execution_count": 5,
      "outputs": []
    },
    {
      "cell_type": "code",
      "source": [
        "def logits_to_text(logits, tokenizer):\n",
        "    index_to_words = {id: word for word, id in tokenizer.word_index.items()}\n",
        "    index_to_words[0] = '<PAD>'\n",
        "\n",
        "    return ' '.join([index_to_words[prediction] for prediction in np.argmax(logits, 1)])"
      ],
      "metadata": {
        "id": "pX78imOBI9l8"
      },
      "execution_count": 6,
      "outputs": []
    },
    {
      "cell_type": "code",
      "source": [
        "# Plot de Gráficos\n",
        "\n",
        "def plot_accuracy(history, miny=None):\n",
        "  acc = history.history['accuracy']\n",
        "  test_acc = history.history['val_accuracy']\n",
        "  epochs = range(len(acc))\n",
        "  plt.plot(epochs, acc)\n",
        "  plt.plot(epochs, test_acc)\n",
        "  if miny:\n",
        "    plt.ylim(miny, 1.0)\n",
        "  plt.legend(['train', 'test'], loc='upper left')\n",
        "  plt.title('accuracy') \n",
        "  plt.xlabel('epoch')\n",
        "  plt.show()\n",
        "  \n",
        "  \n",
        "def plot_loss(history, miny=None):\n",
        "  loss = history.history['loss']\n",
        "  val_loss = history.history['val_loss']\n",
        "  epochs = range(len(loss))\n",
        "  plt.plot(epochs, loss)\n",
        "  plt.plot(epochs, val_loss)\n",
        "  if miny:\n",
        "    plt.ylim(miny, 1.0)\n",
        "  plt.legend(['train', 'test'], loc='upper left')\n",
        "  plt.title('loss') \n",
        "  plt.xlabel('epoch')\n",
        "  plt.show()"
      ],
      "metadata": {
        "id": "hTMVKvfRrQ9x"
      },
      "execution_count": 7,
      "outputs": []
    },
    {
      "cell_type": "markdown",
      "source": [
        "# Carrega base"
      ],
      "metadata": {
        "id": "kMO-knebMcYH"
      }
    },
    {
      "cell_type": "code",
      "source": [
        "# Base1 Com StopWords\n",
        "PATH_BASE1_JUNTO_COM_DA_LEILA_BALANCEADA = \"/content/drive/MyDrive/TCC/dados/processadas/balanceadas/Base1JuntaHateENotHateDaLeila_balanceada.csv\"\n",
        "#MATRIZ_CBOW_300_BASE_1 = loadtxt(\"/content/drive/MyDrive/TCC/dados/word_embeddings/Matriz_Base1JuntaHateENotHateDaLeila_balanceada_CBOW300.CSV\", delimiter=',')\n",
        "\n",
        "# Base2 Sem StopWords\n",
        "PATH_BASE2_LEILA_LIMPISSIMA_BALANCEADA = \"/content/drive/MyDrive/TCC/dados/processadas/balanceadas/Base2_maior4_menor25_limpissima_balanceada.csv\"\n",
        "#MATRIZ_CBOW_300_BASE_2_LEILA = loadtxt(\"/content/drive/MyDrive/TCC/dados/word_embeddings/Matriz_Base2_maior4_menor25_limpissima_balanceada_CBOW300.CSV\", delimiter=',')\n",
        "\n",
        "PATH_BASE_1_CLASSIFICADA_BALANCEADA = r\"/content/drive/MyDrive/TCC/dados/processadas/balanceadas/Base1_classificada_balanceada.csv\" #entrada\n",
        "\n",
        "PATH_BASE_2_CLASSIFICADA_BALANCEADA = r\"/content/drive/MyDrive/TCC/dados/processadas/balanceadas/Base2_classificada_balanceada.csv\" #entrada\n",
        "# MATRIZ_CBOW_300_BASE_2 = loadtxt(\"/content/drive/MyDrive/TCC/dados/word_embeddings/Matriz_Base2_classificada_balanceada_CBOW300.csv\", delimiter=',') #saida"
      ],
      "metadata": {
        "id": "xf_v4U5DDfU8"
      },
      "execution_count": 8,
      "outputs": []
    },
    {
      "cell_type": "markdown",
      "source": [
        "# Execução modelo"
      ],
      "metadata": {
        "id": "W9pdFxE7Ml6H"
      }
    },
    {
      "cell_type": "code",
      "source": [
        "tweets = pd.read_csv(PATH_BASE2_LEILA_LIMPISSIMA_BALANCEADA, index_col=0)\n",
        "text_column = tweets['text']\n",
        "text_column"
      ],
      "metadata": {
        "id": "7wJXwK7jCkyx",
        "outputId": "19ee12a5-f74b-4b9b-f150-9046a07420b3",
        "colab": {
          "base_uri": "https://localhost:8080/"
        }
      },
      "execution_count": 9,
      "outputs": [
        {
          "output_type": "execute_result",
          "data": {
            "text/plain": [
              "0                            ambiguinho eu estou com nojo\n",
              "1                        menino do céu para que está feio\n",
              "2       já pergunto a porra do trem já sabendo da vdd ...\n",
              "3                                   sardella só faz merda\n",
              "4                        foda se na real vou tratar igual\n",
              "                              ...                        \n",
              "4881    estou sem presidente por quatro anos nãomerepr...\n",
              "4882    somos todos iguais braços dados ou não quem sa...\n",
              "4883    que deus nos proteja e cuidem um do outro somo...\n",
              "4884                         quem será que não sabe votar\n",
              "4885         disse o cidadão que votou no gaucho de geral\n",
              "Name: text, Length: 4886, dtype: object"
            ]
          },
          "metadata": {},
          "execution_count": 9
        }
      ]
    },
    {
      "cell_type": "code",
      "source": [
        "# Pega a média de caracteres dos tweets de toda a base\n",
        "max_text_length = int(text_column.apply(lambda x: len(str(x).split(' '))).max())\n",
        "max_text_length"
      ],
      "metadata": {
        "id": "ud3ADezRSHtI",
        "outputId": "161139c1-88d9-4efe-df13-e2db71afdb49",
        "colab": {
          "base_uri": "https://localhost:8080/"
        }
      },
      "execution_count": 10,
      "outputs": [
        {
          "output_type": "execute_result",
          "data": {
            "text/plain": [
              "25"
            ]
          },
          "metadata": {},
          "execution_count": 10
        }
      ]
    },
    {
      "cell_type": "code",
      "execution_count": 11,
      "metadata": {
        "colab": {
          "base_uri": "https://localhost:8080/"
        },
        "id": "UxNdO2PW2E5a",
        "outputId": "4afe1532-b382-400f-d8df-6422c01ab2ce"
      },
      "outputs": [
        {
          "output_type": "stream",
          "name": "stdout",
          "text": [
            "Vocabulary size: 9147\n"
          ]
        }
      ],
      "source": [
        "output_label = tweets['label']\n",
        "\n",
        "input_data, text_tokenizer = preprocess(text_column, None)\n",
        "    \n",
        "text_vocab_size = len(text_tokenizer.word_index)\n",
        "print(\"Vocabulary size:\", text_vocab_size)"
      ]
    },
    {
      "cell_type": "code",
      "source": [
        "# parametros:\n",
        "BATCH_SIZE = 3\n",
        "EPOCHS = 20\n",
        "VAL_AND_TST_SIZE = 0.2\n",
        "LEARN_RATE = 0.00005 \n",
        "# ******\n",
        "BETA_1 = 0.09\n",
        "BETA_2 = 0.0999\n",
        "EPSILON = 1e-07\n",
        "# *****\n",
        "EMBEDDING_DIMENSION = 300  \n",
        "MAX_TEXT_SIZE = max_text_length \n",
        "VOCAB_SIZE = text_vocab_size"
      ],
      "metadata": {
        "id": "yBGbbGdfL7ps"
      },
      "execution_count": 28,
      "outputs": []
    },
    {
      "cell_type": "code",
      "source": [
        "def optimize (learning_rate, beta_1, beta_2, epsilon):\n",
        "  return Nadam(learning_rate=learning_rate, beta_1=beta_1, beta_2=beta_2, epsilon=epsilon, name=\"Nadam\")"
      ],
      "metadata": {
        "id": "bPL3sYgZ1h7j"
      },
      "execution_count": 13,
      "outputs": []
    },
    {
      "cell_type": "code",
      "source": [
        "# https://towardsdatascience.com/visualizing-how-filters-work-in-convolutional-neural-networks-cnns-7383bd84ad2c\n",
        "# https://colab.research.google.com/drive/18ejmbJn9KVcqWJzOvAz84HxIpPMeTijU#scrollTo=Hjf_s9MrZky2"
      ],
      "metadata": {
        "id": "CK6Ipo-7JNx4"
      },
      "execution_count": 14,
      "outputs": []
    },
    {
      "cell_type": "code",
      "source": [
        "def create_cnn (vocab_size, embedding_dimen, max_text_size ):\n",
        "\n",
        "  embedding_layer = Embedding(VOCAB_SIZE, EMBEDDING_DIMENSION, input_length=MAX_TEXT_SIZE)\n",
        "\n",
        "  int_sequences_input = keras.Input(shape=(None,), dtype=\"int64\")\n",
        "  embedded_sequences = embedding_layer(int_sequences_input)\n",
        "  x = layers.Conv1D(2,3, activation=\"relu\")(embedded_sequences)\n",
        "  # ******\n",
        "  x = layers.Dense(2, activation=\"relu\")(x)\n",
        "  x = layers.Dropout(0.1)(x)\n",
        " \n",
        "  x = layers.GlobalMaxPooling1D()(x)\n",
        "  # x = layers.MaxPooling1D()(x)\n",
        "  # x = layers.Conv1D(100, 3, activation=\"relu\")(x)\n",
        "  # x = layers.MaxPooling1D()(x)\n",
        "  # x = layers.Conv1D(100, 3, activation=\"relu\")(x)\n",
        "  # x = SpatialDropout1D(0.1)(x)\n",
        "  # x = BatchNormalization()(x)\n",
        "  # *******\n",
        "  preds = layers.Dense(2, activation=\"softmax\")(x)\n",
        "  model = keras.Model(int_sequences_input, preds)\n",
        "  return model \n",
        "  "
      ],
      "metadata": {
        "id": "wKH2mHM5r8_6"
      },
      "execution_count": 29,
      "outputs": []
    },
    {
      "cell_type": "code",
      "source": [
        "def train_model(input_data, output_label, embedding_dimen, batch_size, epochs, validation_and_test_size):\n",
        "    \n",
        "    X_train, X_test, y_train, y_test = train_test_split(input_data, output_label, test_size=validation_and_test_size)\n",
        "\n",
        "    optimizer = optimize(LEARN_RATE, BETA_1, BETA_2, EPSILON)\n",
        "    \n",
        "    model = create_cnn(VOCAB_SIZE, EMBEDDING_DIMENSION, MAX_TEXT_SIZE)\n",
        "    model.summary()\n",
        "    model.compile(loss=tf.keras.losses.SparseCategoricalCrossentropy(from_logits=True), optimizer=optimizer, metrics=['accuracy'])                                                                                                \n",
        "    history = model.fit(X_train, y_train, batch_size=batch_size, epochs=epochs, validation_data=(X_test, y_test), validation_split = validation_and_test_size, verbose=2, use_multiprocessing=True)\n",
        "    scores = model.evaluate(X_test, y_test, verbose=1)\n",
        "    \n",
        "    return history"
      ],
      "metadata": {
        "id": "wYnrq-34uZX5"
      },
      "execution_count": 30,
      "outputs": []
    },
    {
      "cell_type": "code",
      "source": [
        "# plot dos gráficos\n",
        "history = train_model(input_data, output_label, EMBEDDING_DIMENSION, BATCH_SIZE, EPOCHS, VAL_AND_TST_SIZE)"
      ],
      "metadata": {
        "id": "9YLL1kZTDzUG",
        "outputId": "2850e954-081f-475a-f1b0-1ae83e5daa8f",
        "colab": {
          "base_uri": "https://localhost:8080/"
        }
      },
      "execution_count": 32,
      "outputs": [
        {
          "output_type": "stream",
          "name": "stdout",
          "text": [
            "Model: \"model_3\"\n",
            "_________________________________________________________________\n",
            " Layer (type)                Output Shape              Param #   \n",
            "=================================================================\n",
            " input_4 (InputLayer)        [(None, None)]            0         \n",
            "                                                                 \n",
            " embedding_3 (Embedding)     (None, None, 300)         2744100   \n",
            "                                                                 \n",
            " conv1d_3 (Conv1D)           (None, None, 2)           1802      \n",
            "                                                                 \n",
            " dense_6 (Dense)             (None, None, 2)           6         \n",
            "                                                                 \n",
            " dropout_3 (Dropout)         (None, None, 2)           0         \n",
            "                                                                 \n",
            " global_max_pooling1d_3 (Glo  (None, 2)                0         \n",
            " balMaxPooling1D)                                                \n",
            "                                                                 \n",
            " dense_7 (Dense)             (None, 2)                 6         \n",
            "                                                                 \n",
            "=================================================================\n",
            "Total params: 2,745,914\n",
            "Trainable params: 2,745,914\n",
            "Non-trainable params: 0\n",
            "_________________________________________________________________\n",
            "Epoch 1/20\n"
          ]
        },
        {
          "output_type": "stream",
          "name": "stderr",
          "text": [
            "/usr/local/lib/python3.7/dist-packages/tensorflow/python/util/dispatch.py:1082: UserWarning: \"`sparse_categorical_crossentropy` received `from_logits=True`, but the `output` argument was produced by a sigmoid or softmax activation and thus does not represent logits. Was this intended?\"\n",
            "  return dispatch_target(*args, **kwargs)\n"
          ]
        },
        {
          "output_type": "stream",
          "name": "stdout",
          "text": [
            "1042/1042 - 5s - loss: 0.6367 - accuracy: 0.5160 - val_loss: 0.5988 - val_accuracy: 0.4962 - 5s/epoch - 5ms/step\n",
            "Epoch 2/20\n",
            "1042/1042 - 4s - loss: 0.5580 - accuracy: 0.6148 - val_loss: 0.5580 - val_accuracy: 0.6739 - 4s/epoch - 4ms/step\n",
            "Epoch 3/20\n",
            "1042/1042 - 4s - loss: 0.5298 - accuracy: 0.7646 - val_loss: 0.5395 - val_accuracy: 0.7775 - 4s/epoch - 4ms/step\n",
            "Epoch 4/20\n",
            "1042/1042 - 4s - loss: 0.5139 - accuracy: 0.8391 - val_loss: 0.5240 - val_accuracy: 0.8350 - 4s/epoch - 4ms/step\n",
            "Epoch 5/20\n",
            "1042/1042 - 4s - loss: 0.4990 - accuracy: 0.8666 - val_loss: 0.5096 - val_accuracy: 0.8581 - 4s/epoch - 4ms/step\n",
            "Epoch 6/20\n",
            "1042/1042 - 4s - loss: 0.4827 - accuracy: 0.8749 - val_loss: 0.4952 - val_accuracy: 0.8721 - 4s/epoch - 4ms/step\n",
            "Epoch 7/20\n",
            "1042/1042 - 4s - loss: 0.4667 - accuracy: 0.8826 - val_loss: 0.4818 - val_accuracy: 0.8772 - 4s/epoch - 4ms/step\n",
            "Epoch 8/20\n",
            "1042/1042 - 4s - loss: 0.4541 - accuracy: 0.8906 - val_loss: 0.4695 - val_accuracy: 0.8785 - 4s/epoch - 4ms/step\n",
            "Epoch 9/20\n",
            "1042/1042 - 4s - loss: 0.4439 - accuracy: 0.8922 - val_loss: 0.4577 - val_accuracy: 0.8849 - 4s/epoch - 4ms/step\n",
            "Epoch 10/20\n",
            "1042/1042 - 4s - loss: 0.4337 - accuracy: 0.8986 - val_loss: 0.4472 - val_accuracy: 0.8926 - 4s/epoch - 4ms/step\n",
            "Epoch 11/20\n",
            "1042/1042 - 4s - loss: 0.4268 - accuracy: 0.9024 - val_loss: 0.4385 - val_accuracy: 0.8926 - 4s/epoch - 4ms/step\n",
            "Epoch 12/20\n",
            "1042/1042 - 4s - loss: 0.4159 - accuracy: 0.9028 - val_loss: 0.4298 - val_accuracy: 0.8926 - 4s/epoch - 4ms/step\n",
            "Epoch 13/20\n",
            "1042/1042 - 4s - loss: 0.4138 - accuracy: 0.9047 - val_loss: 0.4219 - val_accuracy: 0.8926 - 4s/epoch - 4ms/step\n",
            "Epoch 14/20\n",
            "1042/1042 - 4s - loss: 0.4045 - accuracy: 0.9066 - val_loss: 0.4161 - val_accuracy: 0.8939 - 4s/epoch - 4ms/step\n",
            "Epoch 15/20\n",
            "1042/1042 - 4s - loss: 0.3946 - accuracy: 0.9063 - val_loss: 0.4090 - val_accuracy: 0.8939 - 4s/epoch - 4ms/step\n",
            "Epoch 16/20\n",
            "1042/1042 - 4s - loss: 0.3988 - accuracy: 0.9104 - val_loss: 0.4027 - val_accuracy: 0.8990 - 4s/epoch - 4ms/step\n",
            "Epoch 17/20\n",
            "1042/1042 - 4s - loss: 0.3917 - accuracy: 0.9091 - val_loss: 0.3983 - val_accuracy: 0.9028 - 4s/epoch - 4ms/step\n",
            "Epoch 18/20\n",
            "1042/1042 - 4s - loss: 0.3871 - accuracy: 0.9107 - val_loss: 0.3927 - val_accuracy: 0.9041 - 4s/epoch - 4ms/step\n",
            "Epoch 19/20\n",
            "1042/1042 - 4s - loss: 0.3756 - accuracy: 0.9146 - val_loss: 0.3886 - val_accuracy: 0.9054 - 4s/epoch - 4ms/step\n",
            "Epoch 20/20\n",
            "1042/1042 - 4s - loss: 0.3774 - accuracy: 0.9143 - val_loss: 0.3843 - val_accuracy: 0.9066 - 4s/epoch - 4ms/step\n",
            "31/31 [==============================] - 0s 3ms/step - loss: 0.3912 - accuracy: 0.9039\n"
          ]
        }
      ]
    },
    {
      "cell_type": "code",
      "source": [
        "plot_accuracy(history)\n",
        "plot_loss(history)"
      ],
      "metadata": {
        "id": "rHqQtBxJAMZY",
        "outputId": "375d8ca9-6b63-4d65-e6be-a06aae53ad71",
        "colab": {
          "base_uri": "https://localhost:8080/",
          "height": 573
        }
      },
      "execution_count": 33,
      "outputs": [
        {
          "output_type": "display_data",
          "data": {
            "text/plain": [
              "<Figure size 432x288 with 1 Axes>"
            ],
            "image/png": "[encoded data removed]"
          },
          "metadata": {
            "needs_background": "light"
          }
        },
        {
          "output_type": "display_data",
          "data": {
            "text/plain": [
              "<Figure size 432x288 with 1 Axes>"
            ],
            "image/png": "[encoded data removed]"
          },
          "metadata": {
            "needs_background": "light"
          }
        }
      ]
    },
    {
      "cell_type": "code",
      "source": [
        "optimizer = Nadam(learning_rate=0.001, beta_1=0.9, beta_2=0.999, epsilon=1e-07, name=\"Nadam\")\n",
        "\n",
        "model = Sequential()\n",
        "model.add(Embedding(tam_vocab, embedding_dimen, input_length=tam_max)) \n",
        "\n",
        "model.add(Conv1D(100, 3, activation=\"relu\"))\n",
        "model.add(Conv1D(100, 3, activation=\"relu\"))\n",
        "model.add(Dropout(0.3))\n",
        "model.add(MaxPooling1D())\n",
        "model.add(Conv1D(100, 3, activation=\"relu\"))\n",
        "model.add(Conv1D(100, 3, activation=\"relu\"))\n",
        "model.add(Dropout(0.3))\n",
        "model.add(MaxPooling1D())\n",
        "\n",
        "model.add(Flatten())\n",
        "model.add(Dense(64, activation='softmax'))\n",
        "\n",
        "\n",
        "model.compile(loss=tf.keras.losses.SparseCategoricalCrossentropy(from_logits=True), optimizer=optimizer, metrics=['accuracy']) \n",
        "model.summary()\n",
        "\n",
        "# Fit the model                                                                                               #val split\n",
        "history = model.fit(X_train, y_train, batch_size=batchsize, epochs=epochs,validation_data=(X_test, y_test), validation_split = 0.3, verbose=2)\n",
        "\n",
        "# Final evaluation of the model\n",
        "scores = model.evaluate(X_test, y_test, verbose=1)"
      ],
      "metadata": {
        "id": "vQi_UXOh6FEX",
        "outputId": "39fd3436-94af-427c-e370-1379ef7dd868",
        "colab": {
          "base_uri": "https://localhost:8080/",
          "height": 235
        }
      },
      "execution_count": 19,
      "outputs": [
        {
          "output_type": "error",
          "ename": "NameError",
          "evalue": "ignored",
          "traceback": [
            "\u001b[0;31m---------------------------------------------------------------------------\u001b[0m",
            "\u001b[0;31mNameError\u001b[0m                                 Traceback (most recent call last)",
            "\u001b[0;32m<ipython-input-19-2fd2b19eb996>\u001b[0m in \u001b[0;36m<module>\u001b[0;34m()\u001b[0m\n\u001b[1;32m      2\u001b[0m \u001b[0;34m\u001b[0m\u001b[0m\n\u001b[1;32m      3\u001b[0m \u001b[0mmodel\u001b[0m \u001b[0;34m=\u001b[0m \u001b[0mSequential\u001b[0m\u001b[0;34m(\u001b[0m\u001b[0;34m)\u001b[0m\u001b[0;34m\u001b[0m\u001b[0;34m\u001b[0m\u001b[0m\n\u001b[0;32m----> 4\u001b[0;31m \u001b[0mmodel\u001b[0m\u001b[0;34m.\u001b[0m\u001b[0madd\u001b[0m\u001b[0;34m(\u001b[0m\u001b[0mEmbedding\u001b[0m\u001b[0;34m(\u001b[0m\u001b[0mtam_vocab\u001b[0m\u001b[0;34m,\u001b[0m \u001b[0membedding_dimen\u001b[0m\u001b[0;34m,\u001b[0m \u001b[0minput_length\u001b[0m\u001b[0;34m=\u001b[0m\u001b[0mtam_max\u001b[0m\u001b[0;34m)\u001b[0m\u001b[0;34m)\u001b[0m\u001b[0;34m\u001b[0m\u001b[0;34m\u001b[0m\u001b[0m\n\u001b[0m\u001b[1;32m      5\u001b[0m \u001b[0;34m\u001b[0m\u001b[0m\n\u001b[1;32m      6\u001b[0m \u001b[0mmodel\u001b[0m\u001b[0;34m.\u001b[0m\u001b[0madd\u001b[0m\u001b[0;34m(\u001b[0m\u001b[0mConv1D\u001b[0m\u001b[0;34m(\u001b[0m\u001b[0;36m100\u001b[0m\u001b[0;34m,\u001b[0m \u001b[0;36m3\u001b[0m\u001b[0;34m,\u001b[0m \u001b[0mactivation\u001b[0m\u001b[0;34m=\u001b[0m\u001b[0;34m\"relu\"\u001b[0m\u001b[0;34m)\u001b[0m\u001b[0;34m)\u001b[0m\u001b[0;34m\u001b[0m\u001b[0;34m\u001b[0m\u001b[0m\n",
            "\u001b[0;31mNameError\u001b[0m: name 'tam_vocab' is not defined"
          ]
        }
      ]
    },
    {
      "cell_type": "code",
      "source": [
        "# plot dos gráficos\n",
        "plot_accuracy(history)\n",
        "plot_loss(history)"
      ],
      "metadata": {
        "id": "_FVkSevHDxsB"
      },
      "execution_count": null,
      "outputs": []
    },
    {
      "cell_type": "code",
      "source": [
        "# lr_schedule = schedules.ExponentialDecay(\n",
        "#     initial_learning_rate=lr,\n",
        "#     decay_steps=10000,\n",
        "#     decay_rate=0.9)\n",
        "\n",
        "# https://keras.io/api/optimizers/\n",
        "# https://keras.io/examples/nlp/pretrained_word_embeddings/\n",
        "# https://keras.io/api/layers/base_layer/#layer-class\n",
        "\n",
        "# optimizer = Adadelta(learning_rate=0.001, rho=0.95, epsilon=1e-07, name=\"Adadelta\") \n",
        "#optimizer = SGD(learning_rate=0.01, momentum=0.0, nesterov=True, name=\"SGD\")\n",
        "#optimizer = RMSprop(learning_rate=0.001,rho=0.9,momentum=0.0,epsilon=1e-07,centered=True,name=\"RMSprop\")\n",
        "#optimizer = Adam(learning_rate=0.001, beta_1=0.9, beta_2=0.999, epsilon=1e-07, amsgrad=True, name=\"Adam\")\n",
        "#optimizer = Adagrad(learning_rate=0.001, initial_accumulator_value=0.1, epsilon=1e-07, name=\"Adagrad\")\n",
        "#optimizer = Adamax(learning_rate=0.001, beta_1=0.9, beta_2=0.999, epsilon=1e-07, name=\"Adamax\")\n",
        "optimizer = Nadam(learning_rate=0.001, beta_1=0.9, beta_2=0.999, epsilon=1e-07, name=\"Nadam\") # 96% Embedding Treinado /\n",
        "#optimizer = Ftrl(learning_rate=0.001, learning_rate_power=-0.5, initial_accumulator_value=0.1, l1_regularization_strength=0.1, l2_regularization_strength=0.1, l2_shrinkage_regularization_strength=0.001, beta=0.0001, name=\"Ftrl\")\n",
        "\n",
        "# # defininindo a camada de embedding utilizando a matriz\n",
        "# embedding_layer = Embedding(input_dim=MATRIZ_CBOW_300_BASE_2.shape[0],\n",
        "#                             output_dim=MATRIZ_CBOW_300_BASE_2.shape[1],\n",
        "#                             # weights=[MATRIZ_CBOW_300_BASE_2],\n",
        "#                             embeddings_initializer=keras.initializers.Constant(MATRIZ_CBOW_300_BASE_2),\n",
        "#                             input_length=tam_max,\n",
        "#                             trainable=False)\n",
        "\n",
        "\n",
        "model = Sequential()\n",
        "# primeira camada se trata do embedding. \n",
        "# model.add(embedding_layer)\n",
        "model.add(Embedding(tam_vocab, embedding_dimen, input_length=tam_max)) \n",
        "\n",
        "\n",
        "# camada convolucional\n",
        "# filtros referentes ao output dessa camada,\n",
        "# tamanho nucleo = 3, se tratando apenas de uma dimensão (conv1d)\n",
        "# padding 'valid' = sem padding\n",
        "# função de ativação = relu\n",
        "model.add(Dropout(drp))\n",
        "model.add(Conv1D(filtros, kernel_size, padding='same', activation='relu', strides=1))\n",
        "model.add(Conv1D(filtros, kernel_size, padding='same', activation='relu', strides=1))\n",
        "model.add(Dropout(drp))\n",
        "model.add(MaxPooling1D())\n",
        "\n",
        "\n",
        "# camada convolucional                         'valid|same'\n",
        "model.add(Conv1D(filtros, kernel_size, padding='same', activation='relu', strides=1))\n",
        "model.add(Conv1D(filtros, kernel_size, padding='same', activation='relu', strides=1))\n",
        "model.add(Dropout(drp))\n",
        "model.add(MaxPooling1D())\n",
        "\n",
        "\n",
        "# nivela o output para utilização na camada densa\n",
        "model.add(Flatten())\n",
        "\n",
        "# regularização por dropout\n",
        "model.add(Dense(2, activation='softmax'))\n",
        "\n",
        "\n",
        "model.compile(loss=tf.keras.losses.SparseCategoricalCrossentropy(from_logits=True), optimizer=optimizer, metrics=['accuracy']) \n",
        "model.summary()\n",
        "\n",
        "# Fit the model                                                                                               #val split\n",
        "history = model.fit(X_train, y_train, batch_size=batchsize, epochs=epochs,validation_data=(X_test, y_test), validation_split = 0.3, verbose=2)\n",
        "\n",
        "# Final evaluation of the model\n",
        "scores = model.evaluate(X_test, y_test, verbose=1)"
      ],
      "metadata": {
        "id": "vrC1KA9FLUK1"
      },
      "execution_count": null,
      "outputs": []
    },
    {
      "cell_type": "code",
      "source": [
        "# plot dos gráficos\n",
        "plot_accuracy(history)\n",
        "plot_loss(history)"
      ],
      "metadata": {
        "id": "WY8X0khP0x8w"
      },
      "execution_count": null,
      "outputs": []
    },
    {
      "cell_type": "code",
      "source": [
        "tf.keras.utils.plot_model(model, to_file='/meuarquivo.png', show_shapes=True)"
      ],
      "metadata": {
        "id": "SqzyjKSXJ6Tq"
      },
      "execution_count": null,
      "outputs": []
    }
  ]
}