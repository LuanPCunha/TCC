{
  "nbformat": 4,
  "nbformat_minor": 0,
  "metadata": {
    "colab": {
      "name": "Copy-CNN-Rafa",
      "provenance": [],
      "collapsed_sections": [],
      "include_colab_link": true
    },
    "kernelspec": {
      "name": "python3",
      "display_name": "Python 3"
    },
    "language_info": {
      "name": "python"
    },
    "accelerator": "GPU"
  },
  "cells": [
    {
      "cell_type": "markdown",
      "metadata": {
        "id": "view-in-github",
        "colab_type": "text"
      },
      "source": [
        "<a href=\"https://colab.research.google.com/github/LuanPCunha/TCC/blob/main/Copy_CNN_Rafa.ipynb\" target=\"_parent\"><img src=\"https://colab.research.google.com/assets/colab-badge.svg\" alt=\"Open In Colab\"/></a>"
      ]
    },
    {
      "cell_type": "markdown",
      "source": [
        "# Downloads e imports"
      ],
      "metadata": {
        "id": "EvS_6l_yMUeH"
      }
    },
    {
      "cell_type": "code",
      "source": [
        "!pip install tensorflow\n",
        "!pip install keras"
      ],
      "metadata": {
        "id": "N5Vhr4_vECld"
      },
      "execution_count": null,
      "outputs": []
    },
    {
      "cell_type": "code",
      "source": [
        "from google.colab import drive\n",
        "drive.mount('/content/drive')"
      ],
      "metadata": {
        "colab": {
          "base_uri": "https://localhost:8080/"
        },
        "id": "ptoQwAGEDQnl",
        "outputId": "849394f5-02f3-4bfb-80f9-1bff3e203f25"
      },
      "execution_count": 59,
      "outputs": [
        {
          "output_type": "stream",
          "name": "stdout",
          "text": [
            "Drive already mounted at /content/drive; to attempt to forcibly remount, call drive.mount(\"/content/drive\", force_remount=True).\n"
          ]
        }
      ]
    },
    {
      "cell_type": "code",
      "source": [
        "import sklearn\n",
        "import numpy as np\n",
        "import pandas as pd\n",
        "from numpy import loadtxt\n",
        "import matplotlib.pyplot as plt\n",
        "from sklearn.model_selection import train_test_split\n",
        "\n",
        "import tensorflow as tf\n",
        "from tensorflow import keras\n",
        "from keras import optimizers\n",
        "from keras import layers\n",
        "from keras.layers import Dropout, Conv1D, MaxPooling1D, Flatten, Dense\n",
        "from keras.preprocessing.text import Tokenizer\n",
        "from keras.preprocessing.sequence import pad_sequences\n",
        "from tensorflow.keras.optimizers import schedules, Adam, Adadelta, SGD, RMSprop, Adagrad, Adamax, Nadam, Ftrl # Estamos usando só o Nadam\n",
        "from keras.models import Sequential\n",
        "from keras.layers.embeddings import Embedding"
      ],
      "metadata": {
        "id": "OeOYrHW9Bxs_"
      },
      "execution_count": 60,
      "outputs": []
    },
    {
      "cell_type": "code",
      "source": [
        "def tokenize(tweets_list):\n",
        "    tokenizer = Tokenizer()\n",
        "    tokenizer.fit_on_texts(tweets_list)\n",
        "    return tokenizer.texts_to_sequences(tweets_list), tokenizer"
      ],
      "metadata": {
        "id": "db4KNc_2Ixyu"
      },
      "execution_count": 61,
      "outputs": []
    },
    {
      "cell_type": "code",
      "source": [
        "def pad(text_tokenized, length=None):\n",
        "    return pad_sequences(text_tokenized, maxlen=length, padding='post')"
      ],
      "metadata": {
        "id": "pwcjgZd9I6AD"
      },
      "execution_count": 62,
      "outputs": []
    },
    {
      "cell_type": "code",
      "source": [
        "def preprocess(tweets_list, max_text_length):\n",
        "    preprocess_tweets_list, tweets_list_tokenizer = tokenize(tweets_list)\n",
        "\n",
        "    preprocess_tweets_list = pad(preprocess_tweets_list, length=max_text_length)\n",
        "\n",
        "    return preprocess_tweets_list, tweets_list_tokenizer"
      ],
      "metadata": {
        "id": "fNMyJgcsI8AU"
      },
      "execution_count": 63,
      "outputs": []
    },
    {
      "cell_type": "code",
      "source": [
        "def logits_to_text(logits, tokenizer):\n",
        "    index_to_words = {id: word for word, id in tokenizer.word_index.items()}\n",
        "    index_to_words[0] = '<PAD>'\n",
        "\n",
        "    return ' '.join([index_to_words[prediction] for prediction in np.argmax(logits, 1)])"
      ],
      "metadata": {
        "id": "pX78imOBI9l8"
      },
      "execution_count": 64,
      "outputs": []
    },
    {
      "cell_type": "code",
      "source": [
        "# Plot de Gráficos\n",
        "\n",
        "def plot_accuracy(history, miny=None):\n",
        "  acc = history.history['accuracy']\n",
        "  test_acc = history.history['val_accuracy']\n",
        "  epochs = range(len(acc))\n",
        "  plt.plot(epochs, acc)\n",
        "  plt.plot(epochs, test_acc)\n",
        "  if miny:\n",
        "    plt.ylim(miny, 1.0)\n",
        "  plt.legend(['train', 'test'], loc='upper left')\n",
        "  plt.title('accuracy') \n",
        "  plt.xlabel('epoch')\n",
        "  plt.show()\n",
        "  \n",
        "  \n",
        "def plot_loss(history, miny=None):\n",
        "  loss = history.history['loss']\n",
        "  val_loss = history.history['val_loss']\n",
        "  epochs = range(len(loss))\n",
        "  plt.plot(epochs, loss)\n",
        "  plt.plot(epochs, val_loss)\n",
        "  if miny:\n",
        "    plt.ylim(miny, 1.0)\n",
        "  plt.legend(['train', 'test'], loc='upper left')\n",
        "  plt.title('loss') \n",
        "  plt.xlabel('epoch')\n",
        "  plt.show()"
      ],
      "metadata": {
        "id": "hTMVKvfRrQ9x"
      },
      "execution_count": 65,
      "outputs": []
    },
    {
      "cell_type": "markdown",
      "source": [
        "# Carrega base"
      ],
      "metadata": {
        "id": "kMO-knebMcYH"
      }
    },
    {
      "cell_type": "code",
      "source": [
        "# Base1 Com StopWords\n",
        "PATH_BASE1_JUNTO_COM_DA_LEILA_BALANCEADA = \"/content/drive/MyDrive/TCC/dados/processadas/balanceadas/Base1JuntaHateENotHateDaLeila_balanceada.csv\"\n",
        "#MATRIZ_CBOW_300_BASE_1 = loadtxt(\"/content/drive/MyDrive/TCC/dados/word_embeddings/Matriz_Base1JuntaHateENotHateDaLeila_balanceada_CBOW300.CSV\", delimiter=',')\n",
        "\n",
        "# Base2 Sem StopWords\n",
        "PATH_BASE2_LEILA_LIMPISSIMA_BALANCEADA = \"/content/drive/MyDrive/TCC/dados/processadas/balanceadas/Base2_maior4_menor25_limpissima_balanceada.csv\"\n",
        "#MATRIZ_CBOW_300_BASE_2_LEILA = loadtxt(\"/content/drive/MyDrive/TCC/dados/word_embeddings/Matriz_Base2_maior4_menor25_limpissima_balanceada_CBOW300.CSV\", delimiter=',')\n",
        "\n",
        "PATH_BASE_1_CLASSIFICADA_BALANCEADA = r\"/content/drive/MyDrive/TCC/dados/processadas/balanceadas/Base1_classificada_balanceada.csv\" #entrada\n",
        "\n",
        "PATH_BASE_2_CLASSIFICADA_BALANCEADA = r\"/content/drive/MyDrive/TCC/dados/processadas/balanceadas/Base2_classificada_balanceada.csv\" #entrada\n",
        "# MATRIZ_CBOW_300_BASE_2 = loadtxt(\"/content/drive/MyDrive/TCC/dados/word_embeddings/Matriz_Base2_classificada_balanceada_CBOW300.csv\", delimiter=',') #saida"
      ],
      "metadata": {
        "id": "xf_v4U5DDfU8"
      },
      "execution_count": 100,
      "outputs": []
    },
    {
      "cell_type": "markdown",
      "source": [
        "# Execução modelo"
      ],
      "metadata": {
        "id": "W9pdFxE7Ml6H"
      }
    },
    {
      "cell_type": "code",
      "source": [
        "tweets = pd.read_csv(PATH_BASE_2_CLASSIFICADA_BALANCEADA, index_col=0)\n",
        "text_column = tweets['text']\n",
        "text_column"
      ],
      "metadata": {
        "id": "7wJXwK7jCkyx",
        "outputId": "f120d4c1-b2ba-4f6c-c61b-e1e473389ca0",
        "colab": {
          "base_uri": "https://localhost:8080/"
        }
      },
      "execution_count": 101,
      "outputs": [
        {
          "output_type": "execute_result",
          "data": {
            "text/plain": [
              "0        retwet bahia fazer sendo governada pt sei baia...\n",
              "1        k imagine atitude mental negativa f idiota fec...\n",
              "2        general heleno é bolsonaro rosna late late lat...\n",
              "3        alan ser cara pau achar havendo ruptura nesse ...\n",
              "4        canalhascomunistas caçarão chapa presidencialn...\n",
              "                               ...                        \n",
              "10569               af hein amiga mandar outro número mail\n",
              "10570    egoísmo é grande parte produto sociedade émile...\n",
              "10571    abençoado novo linda querida obrigada carinho ...\n",
              "10572                              leva gente amorzinhos d\n",
              "10573                                   k k ata meia sonsa\n",
              "Name: text, Length: 10574, dtype: object"
            ]
          },
          "metadata": {},
          "execution_count": 101
        }
      ]
    },
    {
      "cell_type": "code",
      "source": [
        "# Pega a média de caracteres dos tweets de toda a base\n",
        "max_text_length = int(text_column.apply(lambda x: len(str(x).split(' '))).max())\n",
        "max_text_length"
      ],
      "metadata": {
        "id": "ud3ADezRSHtI",
        "outputId": "01e88581-9945-463f-cd5c-b9c53331b6a3",
        "colab": {
          "base_uri": "https://localhost:8080/"
        }
      },
      "execution_count": 102,
      "outputs": [
        {
          "output_type": "execute_result",
          "data": {
            "text/plain": [
              "55"
            ]
          },
          "metadata": {},
          "execution_count": 102
        }
      ]
    },
    {
      "cell_type": "code",
      "execution_count": 103,
      "metadata": {
        "colab": {
          "base_uri": "https://localhost:8080/"
        },
        "id": "UxNdO2PW2E5a",
        "outputId": "f724a54b-1693-4506-ed1f-3147d4d57f31"
      },
      "outputs": [
        {
          "output_type": "stream",
          "name": "stdout",
          "text": [
            "Vocabulary size: 19043\n"
          ]
        }
      ],
      "source": [
        "output_label = tweets['label']\n",
        "\n",
        "input_data, text_tokenizer = preprocess(text_column, None)\n",
        "    \n",
        "text_vocab_size = len(text_tokenizer.word_index)\n",
        "print(\"Vocabulary size:\", text_vocab_size)"
      ]
    },
    {
      "cell_type": "code",
      "source": [
        "# parametros:\n",
        "BATCH_SIZE = 64\n",
        "EPOCHS = 50\n",
        "VAL_AND_TST_SIZE = 0.2\n",
        "LEARN_RATE = 0.0001\n",
        "BETA_1 = 0.09\n",
        "BETA_2 = 0.0999\n",
        "EPSILON = 1e-07\n",
        "EMBEDDING_DIMENSION = 300  \n",
        "MAX_TEXT_SIZE = max_text_length \n",
        "VOCAB_SIZE = text_vocab_size\n",
        "\n"
      ],
      "metadata": {
        "id": "yBGbbGdfL7ps"
      },
      "execution_count": 118,
      "outputs": []
    },
    {
      "cell_type": "code",
      "source": [
        "def optimize (learning_rate, beta_1, beta_2, epsilon):\n",
        "  return Nadam(learning_rate=learning_rate, beta_1=beta_1, beta_2=beta_2, epsilon=epsilon, name=\"Nadam\")"
      ],
      "metadata": {
        "id": "bPL3sYgZ1h7j"
      },
      "execution_count": 119,
      "outputs": []
    },
    {
      "cell_type": "code",
      "source": [
        "def create_cnn (vocab_size, embedding_dimen, max_text_size ):\n",
        "\n",
        "  embedding_layer = Embedding(VOCAB_SIZE, EMBEDDING_DIMENSION, input_length=MAX_TEXT_SIZE)\n",
        "\n",
        "  int_sequences_input = keras.Input(shape=(None,), dtype=\"int64\")\n",
        "  embedded_sequences = embedding_layer(int_sequences_input)\n",
        "  x = layers.Conv1D(100, 3, activation=\"relu\")(embedded_sequences)\n",
        "  x = layers.MaxPooling1D()(x)\n",
        "  x = layers.Conv1D(100, 3, activation=\"relu\")(x)\n",
        "  x = layers.MaxPooling1D()(x)\n",
        "  x = layers.Conv1D(100, 3, activation=\"relu\")(x)\n",
        "  x = layers.GlobalMaxPooling1D()(x)\n",
        "  x = layers.Dense(100, activation=\"relu\")(x)\n",
        "  x = layers.Dropout(0.3)(x)\n",
        "  preds = layers.Dense(2, activation=\"softmax\")(x)\n",
        "  model = keras.Model(int_sequences_input, preds)\n",
        "  return model \n",
        "  "
      ],
      "metadata": {
        "id": "wKH2mHM5r8_6"
      },
      "execution_count": 120,
      "outputs": []
    },
    {
      "cell_type": "code",
      "source": [
        "def train_model(input_data, output_label, embedding_dimen, batch_size, epochs, validation_and_test_size):\n",
        "    \n",
        "    X_train, X_test, y_train, y_test = train_test_split(input_data, output_label, test_size=validation_and_test_size)\n",
        "\n",
        "    optimizer = optimize(LEARN_RATE, BETA_1, BETA_2, EPSILON)\n",
        "    \n",
        "    model = create_cnn(VOCAB_SIZE, EMBEDDING_DIMENSION, MAX_TEXT_SIZE)\n",
        "    model.summary()\n",
        "    model.compile(loss=tf.keras.losses.SparseCategoricalCrossentropy(from_logits=True), optimizer=optimizer, metrics=['accuracy'])                                                                                                \n",
        "    history = model.fit(X_train, y_train, batch_size=batch_size, epochs=epochs, validation_data=(X_test, y_test), validation_split = validation_and_test_size, verbose=2, use_multiprocessing=True)\n",
        "    scores = model.evaluate(X_test, y_test, verbose=1)\n",
        "    \n",
        "    return history"
      ],
      "metadata": {
        "id": "wYnrq-34uZX5"
      },
      "execution_count": 126,
      "outputs": []
    },
    {
      "cell_type": "code",
      "source": [
        "# plot dos gráficos\n",
        "history = train_model(input_data, output_label, EMBEDDING_DIMENSION, BATCH_SIZE, EPOCHS, VAL_AND_TST_SIZE)"
      ],
      "metadata": {
        "id": "9YLL1kZTDzUG",
        "outputId": "58221ee1-099c-407b-eec6-351980dc1f20",
        "colab": {
          "base_uri": "https://localhost:8080/"
        }
      },
      "execution_count": 127,
      "outputs": [
        {
          "output_type": "stream",
          "name": "stdout",
          "text": [
            "Model: \"model_23\"\n",
            "_________________________________________________________________\n",
            " Layer (type)                Output Shape              Param #   \n",
            "=================================================================\n",
            " input_24 (InputLayer)       [(None, None)]            0         \n",
            "                                                                 \n",
            " embedding_26 (Embedding)    (None, None, 300)         5712900   \n",
            "                                                                 \n",
            " conv1d_81 (Conv1D)          (None, None, 100)         90100     \n",
            "                                                                 \n",
            " max_pooling1d_52 (MaxPoolin  (None, None, 100)        0         \n",
            " g1D)                                                            \n",
            "                                                                 \n",
            " conv1d_82 (Conv1D)          (None, None, 100)         30100     \n",
            "                                                                 \n",
            " max_pooling1d_53 (MaxPoolin  (None, None, 100)        0         \n",
            " g1D)                                                            \n",
            "                                                                 \n",
            " conv1d_83 (Conv1D)          (None, None, 100)         30100     \n",
            "                                                                 \n",
            " global_max_pooling1d_23 (Gl  (None, 100)              0         \n",
            " obalMaxPooling1D)                                               \n",
            "                                                                 \n",
            " dense_49 (Dense)            (None, 100)               10100     \n",
            "                                                                 \n",
            " dropout_30 (Dropout)        (None, 100)               0         \n",
            "                                                                 \n",
            " dense_50 (Dense)            (None, 2)                 202       \n",
            "                                                                 \n",
            "=================================================================\n",
            "Total params: 5,873,502\n",
            "Trainable params: 5,873,502\n",
            "Non-trainable params: 0\n",
            "_________________________________________________________________\n",
            "Epoch 1/50\n"
          ]
        },
        {
          "output_type": "stream",
          "name": "stderr",
          "text": [
            "/usr/local/lib/python3.7/dist-packages/tensorflow/python/util/dispatch.py:1082: UserWarning: \"`sparse_categorical_crossentropy` received `from_logits=True`, but the `output` argument was produced by a sigmoid or softmax activation and thus does not represent logits. Was this intended?\"\n",
            "  return dispatch_target(*args, **kwargs)\n"
          ]
        },
        {
          "output_type": "stream",
          "name": "stdout",
          "text": [
            "106/106 - 2s - loss: 0.6824 - accuracy: 0.5942 - val_loss: 0.6720 - val_accuracy: 0.6194 - 2s/epoch - 20ms/step\n",
            "Epoch 2/50\n",
            "106/106 - 1s - loss: 0.6608 - accuracy: 0.6208 - val_loss: 0.6549 - val_accuracy: 0.6241 - 750ms/epoch - 7ms/step\n",
            "Epoch 3/50\n",
            "106/106 - 1s - loss: 0.6418 - accuracy: 0.6331 - val_loss: 0.6376 - val_accuracy: 0.6401 - 725ms/epoch - 7ms/step\n",
            "Epoch 4/50\n",
            "106/106 - 1s - loss: 0.6038 - accuracy: 0.6783 - val_loss: 0.5917 - val_accuracy: 0.6791 - 744ms/epoch - 7ms/step\n",
            "Epoch 5/50\n",
            "106/106 - 1s - loss: 0.5178 - accuracy: 0.7488 - val_loss: 0.4992 - val_accuracy: 0.7660 - 758ms/epoch - 7ms/step\n",
            "Epoch 6/50\n",
            "106/106 - 1s - loss: 0.3817 - accuracy: 0.8472 - val_loss: 0.4068 - val_accuracy: 0.8115 - 892ms/epoch - 8ms/step\n",
            "Epoch 7/50\n",
            "106/106 - 1s - loss: 0.2824 - accuracy: 0.8909 - val_loss: 0.3504 - val_accuracy: 0.8558 - 780ms/epoch - 7ms/step\n",
            "Epoch 8/50\n",
            "106/106 - 1s - loss: 0.2239 - accuracy: 0.9140 - val_loss: 0.3240 - val_accuracy: 0.8765 - 722ms/epoch - 7ms/step\n",
            "Epoch 9/50\n",
            "106/106 - 1s - loss: 0.1918 - accuracy: 0.9285 - val_loss: 0.3084 - val_accuracy: 0.8842 - 744ms/epoch - 7ms/step\n",
            "Epoch 10/50\n",
            "106/106 - 1s - loss: 0.1648 - accuracy: 0.9410 - val_loss: 0.3071 - val_accuracy: 0.8836 - 722ms/epoch - 7ms/step\n",
            "Epoch 11/50\n",
            "106/106 - 1s - loss: 0.1469 - accuracy: 0.9492 - val_loss: 0.2882 - val_accuracy: 0.8930 - 722ms/epoch - 7ms/step\n",
            "Epoch 12/50\n",
            "106/106 - 1s - loss: 0.1289 - accuracy: 0.9555 - val_loss: 0.2773 - val_accuracy: 0.8995 - 734ms/epoch - 7ms/step\n",
            "Epoch 13/50\n",
            "106/106 - 1s - loss: 0.1164 - accuracy: 0.9604 - val_loss: 0.2674 - val_accuracy: 0.9007 - 722ms/epoch - 7ms/step\n",
            "Epoch 14/50\n",
            "106/106 - 1s - loss: 0.1013 - accuracy: 0.9657 - val_loss: 0.2655 - val_accuracy: 0.9054 - 806ms/epoch - 8ms/step\n",
            "Epoch 15/50\n",
            "106/106 - 1s - loss: 0.0895 - accuracy: 0.9699 - val_loss: 0.2586 - val_accuracy: 0.9090 - 720ms/epoch - 7ms/step\n",
            "Epoch 16/50\n",
            "106/106 - 1s - loss: 0.0803 - accuracy: 0.9759 - val_loss: 0.2670 - val_accuracy: 0.9090 - 723ms/epoch - 7ms/step\n",
            "Epoch 17/50\n",
            "106/106 - 1s - loss: 0.0698 - accuracy: 0.9790 - val_loss: 0.2694 - val_accuracy: 0.9084 - 724ms/epoch - 7ms/step\n",
            "Epoch 18/50\n",
            "106/106 - 1s - loss: 0.0591 - accuracy: 0.9827 - val_loss: 0.2893 - val_accuracy: 0.9054 - 728ms/epoch - 7ms/step\n",
            "Epoch 19/50\n",
            "106/106 - 1s - loss: 0.0513 - accuracy: 0.9854 - val_loss: 0.2632 - val_accuracy: 0.9155 - 721ms/epoch - 7ms/step\n",
            "Epoch 20/50\n",
            "106/106 - 1s - loss: 0.0440 - accuracy: 0.9883 - val_loss: 0.2578 - val_accuracy: 0.9184 - 722ms/epoch - 7ms/step\n",
            "Epoch 21/50\n",
            "106/106 - 1s - loss: 0.0372 - accuracy: 0.9902 - val_loss: 0.2632 - val_accuracy: 0.9208 - 720ms/epoch - 7ms/step\n",
            "Epoch 22/50\n",
            "106/106 - 1s - loss: 0.0330 - accuracy: 0.9932 - val_loss: 0.2732 - val_accuracy: 0.9208 - 719ms/epoch - 7ms/step\n",
            "Epoch 23/50\n",
            "106/106 - 1s - loss: 0.0275 - accuracy: 0.9938 - val_loss: 0.2834 - val_accuracy: 0.9273 - 727ms/epoch - 7ms/step\n",
            "Epoch 24/50\n",
            "106/106 - 1s - loss: 0.0208 - accuracy: 0.9951 - val_loss: 0.2837 - val_accuracy: 0.9232 - 714ms/epoch - 7ms/step\n",
            "Epoch 25/50\n",
            "106/106 - 1s - loss: 0.0182 - accuracy: 0.9963 - val_loss: 0.2894 - val_accuracy: 0.9273 - 722ms/epoch - 7ms/step\n",
            "Epoch 26/50\n",
            "106/106 - 1s - loss: 0.0146 - accuracy: 0.9975 - val_loss: 0.3396 - val_accuracy: 0.9161 - 724ms/epoch - 7ms/step\n",
            "Epoch 27/50\n",
            "106/106 - 1s - loss: 0.0131 - accuracy: 0.9973 - val_loss: 0.3290 - val_accuracy: 0.9232 - 728ms/epoch - 7ms/step\n",
            "Epoch 28/50\n",
            "106/106 - 1s - loss: 0.0105 - accuracy: 0.9978 - val_loss: 0.3379 - val_accuracy: 0.9238 - 726ms/epoch - 7ms/step\n",
            "Epoch 29/50\n",
            "106/106 - 1s - loss: 0.0071 - accuracy: 0.9984 - val_loss: 0.3771 - val_accuracy: 0.9220 - 715ms/epoch - 7ms/step\n",
            "Epoch 30/50\n",
            "106/106 - 1s - loss: 0.0075 - accuracy: 0.9984 - val_loss: 0.3596 - val_accuracy: 0.9267 - 728ms/epoch - 7ms/step\n",
            "Epoch 31/50\n",
            "106/106 - 1s - loss: 0.0050 - accuracy: 0.9987 - val_loss: 0.3688 - val_accuracy: 0.9309 - 803ms/epoch - 8ms/step\n",
            "Epoch 32/50\n",
            "106/106 - 1s - loss: 0.0052 - accuracy: 0.9991 - val_loss: 0.3887 - val_accuracy: 0.9291 - 754ms/epoch - 7ms/step\n",
            "Epoch 33/50\n",
            "106/106 - 1s - loss: 0.0030 - accuracy: 0.9993 - val_loss: 0.4343 - val_accuracy: 0.9279 - 733ms/epoch - 7ms/step\n",
            "Epoch 34/50\n",
            "106/106 - 1s - loss: 0.0037 - accuracy: 0.9993 - val_loss: 0.4351 - val_accuracy: 0.9314 - 735ms/epoch - 7ms/step\n",
            "Epoch 35/50\n",
            "106/106 - 1s - loss: 0.0023 - accuracy: 0.9994 - val_loss: 0.4510 - val_accuracy: 0.9297 - 727ms/epoch - 7ms/step\n",
            "Epoch 36/50\n",
            "106/106 - 1s - loss: 4.2594e-04 - accuracy: 0.9999 - val_loss: 0.4813 - val_accuracy: 0.9320 - 707ms/epoch - 7ms/step\n",
            "Epoch 37/50\n",
            "106/106 - 1s - loss: 4.0551e-04 - accuracy: 0.9999 - val_loss: 0.4849 - val_accuracy: 0.9326 - 724ms/epoch - 7ms/step\n",
            "Epoch 38/50\n",
            "106/106 - 1s - loss: 8.8774e-05 - accuracy: 1.0000 - val_loss: 0.4760 - val_accuracy: 0.9350 - 723ms/epoch - 7ms/step\n",
            "Epoch 39/50\n",
            "106/106 - 1s - loss: 3.2954e-05 - accuracy: 1.0000 - val_loss: 0.5164 - val_accuracy: 0.9326 - 807ms/epoch - 8ms/step\n",
            "Epoch 40/50\n",
            "106/106 - 1s - loss: 2.0044e-06 - accuracy: 1.0000 - val_loss: 0.5123 - val_accuracy: 0.9320 - 724ms/epoch - 7ms/step\n",
            "Epoch 41/50\n",
            "106/106 - 1s - loss: 3.7531e-07 - accuracy: 1.0000 - val_loss: 0.5098 - val_accuracy: 0.9320 - 728ms/epoch - 7ms/step\n",
            "Epoch 42/50\n",
            "106/106 - 1s - loss: 1.7583e-07 - accuracy: 1.0000 - val_loss: 0.5309 - val_accuracy: 0.9326 - 730ms/epoch - 7ms/step\n",
            "Epoch 43/50\n",
            "106/106 - 1s - loss: 1.2056e-07 - accuracy: 1.0000 - val_loss: 0.5507 - val_accuracy: 0.9332 - 721ms/epoch - 7ms/step\n",
            "Epoch 44/50\n",
            "106/106 - 1s - loss: 6.3963e-08 - accuracy: 1.0000 - val_loss: 0.5637 - val_accuracy: 0.9350 - 724ms/epoch - 7ms/step\n",
            "Epoch 45/50\n",
            "106/106 - 1s - loss: 3.9993e-07 - accuracy: 1.0000 - val_loss: 0.5607 - val_accuracy: 0.9320 - 764ms/epoch - 7ms/step\n",
            "Epoch 46/50\n",
            "106/106 - 1s - loss: 1.8726e-08 - accuracy: 1.0000 - val_loss: 0.5622 - val_accuracy: 0.9326 - 730ms/epoch - 7ms/step\n",
            "Epoch 47/50\n",
            "106/106 - 1s - loss: 3.0951e-08 - accuracy: 1.0000 - val_loss: 0.5471 - val_accuracy: 0.9332 - 735ms/epoch - 7ms/step\n",
            "Epoch 48/50\n",
            "106/106 - 1s - loss: 1.3758e-08 - accuracy: 1.0000 - val_loss: 0.5683 - val_accuracy: 0.9326 - 708ms/epoch - 7ms/step\n",
            "Epoch 49/50\n",
            "106/106 - 1s - loss: 1.8426e-08 - accuracy: 1.0000 - val_loss: 0.5588 - val_accuracy: 0.9338 - 727ms/epoch - 7ms/step\n",
            "Epoch 50/50\n",
            "106/106 - 1s - loss: 1.4569e-08 - accuracy: 1.0000 - val_loss: 0.5660 - val_accuracy: 0.9338 - 725ms/epoch - 7ms/step\n",
            "67/67 [==============================] - 0s 3ms/step - loss: 0.5668 - accuracy: 0.9385\n"
          ]
        }
      ]
    },
    {
      "cell_type": "code",
      "source": [
        "plot_accuracy(history)\n",
        "plot_loss(history)"
      ],
      "metadata": {
        "id": "rHqQtBxJAMZY",
        "outputId": "0ec7bbfa-5b39-4f52-a00f-bf5209e19499",
        "colab": {
          "base_uri": "https://localhost:8080/",
          "height": 573
        }
      },
      "execution_count": 128,
      "outputs": [
        {
          "output_type": "display_data",
          "data": {
            "text/plain": [
              "<Figure size 432x288 with 1 Axes>"
            ],
            "image/png": "[encoded data removed]"
          },
          "metadata": {
            "needs_background": "light"
          }
        },
        {
          "output_type": "display_data",
          "data": {
            "text/plain": [
              "<Figure size 432x288 with 1 Axes>"
            ],
            "image/png": "[encoded data removed]"
          },
          "metadata": {
            "needs_background": "light"
          }
        }
      ]
    },
    {
      "cell_type": "code",
      "source": [
        "optimizer = Nadam(learning_rate=0.001, beta_1=0.9, beta_2=0.999, epsilon=1e-07, name=\"Nadam\")\n",
        "\n",
        "model = Sequential()\n",
        "model.add(Embedding(tam_vocab, embedding_dimen, input_length=tam_max)) \n",
        "\n",
        "model.add(Conv1D(100, 3, activation=\"relu\"))\n",
        "model.add(Conv1D(100, 3, activation=\"relu\"))\n",
        "model.add(Dropout(0.3))\n",
        "model.add(MaxPooling1D())\n",
        "model.add(Conv1D(100, 3, activation=\"relu\"))\n",
        "model.add(Conv1D(100, 3, activation=\"relu\"))\n",
        "model.add(Dropout(0.3))\n",
        "model.add(MaxPooling1D())\n",
        "\n",
        "model.add(Flatten())\n",
        "model.add(Dense(64, activation='softmax'))\n",
        "\n",
        "\n",
        "model.compile(loss=tf.keras.losses.SparseCategoricalCrossentropy(from_logits=True), optimizer=optimizer, metrics=['accuracy']) \n",
        "model.summary()\n",
        "\n",
        "# Fit the model                                                                                               #val split\n",
        "history = model.fit(X_train, y_train, batch_size=batchsize, epochs=epochs,validation_data=(X_test, y_test), validation_split = 0.3, verbose=2)\n",
        "\n",
        "# Final evaluation of the model\n",
        "scores = model.evaluate(X_test, y_test, verbose=1)"
      ],
      "metadata": {
        "id": "vQi_UXOh6FEX",
        "outputId": "51f91284-5edb-4dfd-a436-87788277e0a8",
        "colab": {
          "base_uri": "https://localhost:8080/",
          "height": 1000
        }
      },
      "execution_count": 110,
      "outputs": [
        {
          "output_type": "stream",
          "name": "stdout",
          "text": [
            "Model: \"sequential_2\"\n",
            "_________________________________________________________________\n",
            " Layer (type)                Output Shape              Param #   \n",
            "=================================================================\n",
            " embedding_21 (Embedding)    (None, 24, 300)           2744100   \n",
            "                                                                 \n",
            " conv1d_65 (Conv1D)          (None, 22, 100)           90100     \n",
            "                                                                 \n",
            " conv1d_66 (Conv1D)          (None, 20, 100)           30100     \n",
            "                                                                 \n",
            " dropout_24 (Dropout)        (None, 20, 100)           0         \n",
            "                                                                 \n",
            " max_pooling1d_42 (MaxPoolin  (None, 10, 100)          0         \n",
            " g1D)                                                            \n",
            "                                                                 \n",
            " conv1d_67 (Conv1D)          (None, 8, 100)            30100     \n",
            "                                                                 \n",
            " conv1d_68 (Conv1D)          (None, 6, 100)            30100     \n",
            "                                                                 \n",
            " dropout_25 (Dropout)        (None, 6, 100)            0         \n",
            "                                                                 \n",
            " max_pooling1d_43 (MaxPoolin  (None, 3, 100)           0         \n",
            " g1D)                                                            \n",
            "                                                                 \n",
            " flatten_2 (Flatten)         (None, 300)               0         \n",
            "                                                                 \n",
            " dense_40 (Dense)            (None, 64)                19264     \n",
            "                                                                 \n",
            "=================================================================\n",
            "Total params: 2,943,764\n",
            "Trainable params: 2,943,764\n",
            "Non-trainable params: 0\n",
            "_________________________________________________________________\n",
            "Epoch 1/100\n"
          ]
        },
        {
          "output_type": "stream",
          "name": "stderr",
          "text": [
            "/usr/local/lib/python3.7/dist-packages/tensorflow/python/util/dispatch.py:1082: UserWarning: \"`sparse_categorical_crossentropy` received `from_logits=True`, but the `output` argument was produced by a sigmoid or softmax activation and thus does not represent logits. Was this intended?\"\n",
            "  return dispatch_target(*args, **kwargs)\n"
          ]
        },
        {
          "output_type": "stream",
          "name": "stdout",
          "text": [
            "38/38 - 2s - loss: 1.2326 - accuracy: 0.5376 - val_loss: 0.7302 - val_accuracy: 0.7943 - 2s/epoch - 44ms/step\n",
            "Epoch 2/100\n",
            "38/38 - 0s - loss: 0.3093 - accuracy: 0.8784 - val_loss: 0.2762 - val_accuracy: 0.9318 - 270ms/epoch - 7ms/step\n",
            "Epoch 3/100\n",
            "38/38 - 0s - loss: 0.0546 - accuracy: 0.9858 - val_loss: 0.1502 - val_accuracy: 0.9522 - 258ms/epoch - 7ms/step\n",
            "Epoch 4/100\n",
            "38/38 - 0s - loss: 0.0133 - accuracy: 0.9962 - val_loss: 0.1604 - val_accuracy: 0.9415 - 282ms/epoch - 7ms/step\n",
            "Epoch 5/100\n",
            "38/38 - 0s - loss: 0.0045 - accuracy: 0.9987 - val_loss: 0.1771 - val_accuracy: 0.9396 - 291ms/epoch - 8ms/step\n",
            "Epoch 6/100\n",
            "38/38 - 0s - loss: 0.0026 - accuracy: 0.9992 - val_loss: 0.1619 - val_accuracy: 0.9454 - 292ms/epoch - 8ms/step\n",
            "Epoch 7/100\n",
            "38/38 - 0s - loss: 0.0012 - accuracy: 0.9996 - val_loss: 0.2217 - val_accuracy: 0.9327 - 265ms/epoch - 7ms/step\n",
            "Epoch 8/100\n",
            "38/38 - 0s - loss: 5.4005e-04 - accuracy: 1.0000 - val_loss: 0.1838 - val_accuracy: 0.9376 - 260ms/epoch - 7ms/step\n",
            "Epoch 9/100\n",
            "38/38 - 0s - loss: 2.1580e-04 - accuracy: 1.0000 - val_loss: 0.1975 - val_accuracy: 0.9396 - 284ms/epoch - 7ms/step\n",
            "Epoch 10/100\n",
            "38/38 - 0s - loss: 2.4388e-04 - accuracy: 1.0000 - val_loss: 0.4249 - val_accuracy: 0.8869 - 288ms/epoch - 8ms/step\n",
            "Epoch 11/100\n",
            "38/38 - 0s - loss: 0.0117 - accuracy: 0.9975 - val_loss: 0.1814 - val_accuracy: 0.9454 - 287ms/epoch - 8ms/step\n",
            "Epoch 12/100\n",
            "38/38 - 0s - loss: 0.0098 - accuracy: 0.9954 - val_loss: 0.3774 - val_accuracy: 0.9055 - 256ms/epoch - 7ms/step\n",
            "Epoch 13/100\n",
            "38/38 - 0s - loss: 0.0097 - accuracy: 0.9967 - val_loss: 0.2433 - val_accuracy: 0.9454 - 299ms/epoch - 8ms/step\n",
            "Epoch 14/100\n",
            "38/38 - 0s - loss: 0.0023 - accuracy: 0.9992 - val_loss: 0.1985 - val_accuracy: 0.9493 - 301ms/epoch - 8ms/step\n",
            "Epoch 15/100\n",
            "38/38 - 0s - loss: 0.0029 - accuracy: 0.9996 - val_loss: 0.1967 - val_accuracy: 0.9503 - 291ms/epoch - 8ms/step\n",
            "Epoch 16/100\n",
            "38/38 - 0s - loss: 7.4075e-04 - accuracy: 1.0000 - val_loss: 0.2376 - val_accuracy: 0.9396 - 260ms/epoch - 7ms/step\n",
            "Epoch 17/100\n",
            "38/38 - 0s - loss: 7.1255e-04 - accuracy: 1.0000 - val_loss: 0.2161 - val_accuracy: 0.9405 - 302ms/epoch - 8ms/step\n",
            "Epoch 18/100\n",
            "38/38 - 0s - loss: 4.9923e-04 - accuracy: 0.9996 - val_loss: 0.2711 - val_accuracy: 0.9327 - 262ms/epoch - 7ms/step\n",
            "Epoch 19/100\n",
            "38/38 - 0s - loss: 0.0017 - accuracy: 0.9996 - val_loss: 0.1838 - val_accuracy: 0.9454 - 286ms/epoch - 8ms/step\n",
            "Epoch 20/100\n",
            "38/38 - 0s - loss: 1.6985e-04 - accuracy: 1.0000 - val_loss: 0.1899 - val_accuracy: 0.9464 - 291ms/epoch - 8ms/step\n",
            "Epoch 21/100\n",
            "38/38 - 0s - loss: 9.4132e-05 - accuracy: 1.0000 - val_loss: 0.1921 - val_accuracy: 0.9483 - 283ms/epoch - 7ms/step\n",
            "Epoch 22/100\n",
            "38/38 - 0s - loss: 5.9207e-05 - accuracy: 1.0000 - val_loss: 0.1912 - val_accuracy: 0.9474 - 282ms/epoch - 7ms/step\n",
            "Epoch 23/100\n",
            "38/38 - 0s - loss: 4.5830e-05 - accuracy: 1.0000 - val_loss: 0.1921 - val_accuracy: 0.9464 - 283ms/epoch - 7ms/step\n",
            "Epoch 24/100\n",
            "38/38 - 0s - loss: 9.6953e-05 - accuracy: 1.0000 - val_loss: 0.1938 - val_accuracy: 0.9464 - 265ms/epoch - 7ms/step\n",
            "Epoch 25/100\n",
            "38/38 - 0s - loss: 3.0596e-05 - accuracy: 1.0000 - val_loss: 0.1973 - val_accuracy: 0.9464 - 282ms/epoch - 7ms/step\n",
            "Epoch 26/100\n",
            "38/38 - 0s - loss: 2.9005e-05 - accuracy: 1.0000 - val_loss: 0.1986 - val_accuracy: 0.9464 - 286ms/epoch - 8ms/step\n",
            "Epoch 27/100\n",
            "38/38 - 0s - loss: 4.7109e-05 - accuracy: 1.0000 - val_loss: 0.2000 - val_accuracy: 0.9464 - 291ms/epoch - 8ms/step\n",
            "Epoch 28/100\n",
            "38/38 - 0s - loss: 5.3758e-05 - accuracy: 1.0000 - val_loss: 0.1990 - val_accuracy: 0.9464 - 281ms/epoch - 7ms/step\n",
            "Epoch 29/100\n",
            "38/38 - 0s - loss: 4.9258e-05 - accuracy: 1.0000 - val_loss: 0.2006 - val_accuracy: 0.9464 - 287ms/epoch - 8ms/step\n",
            "Epoch 30/100\n",
            "38/38 - 0s - loss: 1.9270e-05 - accuracy: 1.0000 - val_loss: 0.2013 - val_accuracy: 0.9474 - 283ms/epoch - 7ms/step\n",
            "Epoch 31/100\n",
            "38/38 - 0s - loss: 1.6539e-05 - accuracy: 1.0000 - val_loss: 0.2023 - val_accuracy: 0.9474 - 263ms/epoch - 7ms/step\n",
            "Epoch 32/100\n",
            "38/38 - 0s - loss: 1.5630e-05 - accuracy: 1.0000 - val_loss: 0.2070 - val_accuracy: 0.9464 - 287ms/epoch - 8ms/step\n",
            "Epoch 33/100\n",
            "38/38 - 0s - loss: 1.2810e-05 - accuracy: 1.0000 - val_loss: 0.2082 - val_accuracy: 0.9464 - 279ms/epoch - 7ms/step\n",
            "Epoch 34/100\n",
            "38/38 - 0s - loss: 1.6934e-05 - accuracy: 1.0000 - val_loss: 0.2096 - val_accuracy: 0.9464 - 258ms/epoch - 7ms/step\n",
            "Epoch 35/100\n",
            "38/38 - 0s - loss: 2.3481e-05 - accuracy: 1.0000 - val_loss: 0.2116 - val_accuracy: 0.9464 - 298ms/epoch - 8ms/step\n",
            "Epoch 36/100\n",
            "38/38 - 0s - loss: 8.9137e-06 - accuracy: 1.0000 - val_loss: 0.2125 - val_accuracy: 0.9464 - 293ms/epoch - 8ms/step\n",
            "Epoch 37/100\n",
            "38/38 - 0s - loss: 8.2478e-06 - accuracy: 1.0000 - val_loss: 0.2131 - val_accuracy: 0.9464 - 283ms/epoch - 7ms/step\n",
            "Epoch 38/100\n",
            "38/38 - 0s - loss: 8.0478e-06 - accuracy: 1.0000 - val_loss: 0.2139 - val_accuracy: 0.9464 - 288ms/epoch - 8ms/step\n",
            "Epoch 39/100\n",
            "38/38 - 0s - loss: 8.5866e-06 - accuracy: 1.0000 - val_loss: 0.2149 - val_accuracy: 0.9464 - 291ms/epoch - 8ms/step\n",
            "Epoch 40/100\n",
            "38/38 - 0s - loss: 5.6800e-06 - accuracy: 1.0000 - val_loss: 0.2156 - val_accuracy: 0.9464 - 265ms/epoch - 7ms/step\n",
            "Epoch 41/100\n",
            "38/38 - 0s - loss: 7.5794e-06 - accuracy: 1.0000 - val_loss: 0.2164 - val_accuracy: 0.9464 - 254ms/epoch - 7ms/step\n",
            "Epoch 42/100\n",
            "38/38 - 0s - loss: 9.4009e-06 - accuracy: 1.0000 - val_loss: 0.2175 - val_accuracy: 0.9464 - 288ms/epoch - 8ms/step\n",
            "Epoch 43/100\n",
            "38/38 - 0s - loss: 2.0880e-05 - accuracy: 1.0000 - val_loss: 0.2191 - val_accuracy: 0.9454 - 255ms/epoch - 7ms/step\n",
            "Epoch 44/100\n",
            "38/38 - 0s - loss: 7.0369e-06 - accuracy: 1.0000 - val_loss: 0.2200 - val_accuracy: 0.9464 - 286ms/epoch - 8ms/step\n",
            "Epoch 45/100\n",
            "38/38 - 0s - loss: 1.1076e-05 - accuracy: 1.0000 - val_loss: 0.2216 - val_accuracy: 0.9464 - 265ms/epoch - 7ms/step\n",
            "Epoch 46/100\n",
            "38/38 - 0s - loss: 3.8929e-06 - accuracy: 1.0000 - val_loss: 0.2225 - val_accuracy: 0.9464 - 257ms/epoch - 7ms/step\n",
            "Epoch 47/100\n",
            "38/38 - 0s - loss: 5.6145e-06 - accuracy: 1.0000 - val_loss: 0.2234 - val_accuracy: 0.9464 - 285ms/epoch - 7ms/step\n",
            "Epoch 48/100\n",
            "38/38 - 0s - loss: 5.3542e-06 - accuracy: 1.0000 - val_loss: 0.2240 - val_accuracy: 0.9464 - 256ms/epoch - 7ms/step\n",
            "Epoch 49/100\n",
            "38/38 - 0s - loss: 5.1100e-06 - accuracy: 1.0000 - val_loss: 0.2249 - val_accuracy: 0.9464 - 261ms/epoch - 7ms/step\n",
            "Epoch 50/100\n",
            "38/38 - 0s - loss: 5.7569e-05 - accuracy: 1.0000 - val_loss: 0.2305 - val_accuracy: 0.9454 - 288ms/epoch - 8ms/step\n",
            "Epoch 51/100\n",
            "38/38 - 0s - loss: 1.8338e-05 - accuracy: 1.0000 - val_loss: 0.2352 - val_accuracy: 0.9435 - 271ms/epoch - 7ms/step\n",
            "Epoch 52/100\n",
            "38/38 - 0s - loss: 4.4375e-06 - accuracy: 1.0000 - val_loss: 0.2375 - val_accuracy: 0.9435 - 282ms/epoch - 7ms/step\n",
            "Epoch 53/100\n",
            "38/38 - 0s - loss: 1.0430e-05 - accuracy: 1.0000 - val_loss: 0.2367 - val_accuracy: 0.9454 - 267ms/epoch - 7ms/step\n",
            "Epoch 54/100\n",
            "38/38 - 0s - loss: 4.0449e-06 - accuracy: 1.0000 - val_loss: 0.2365 - val_accuracy: 0.9454 - 282ms/epoch - 7ms/step\n",
            "Epoch 55/100\n",
            "38/38 - 0s - loss: 2.8146e-06 - accuracy: 1.0000 - val_loss: 0.2361 - val_accuracy: 0.9454 - 253ms/epoch - 7ms/step\n",
            "Epoch 56/100\n"
          ]
        },
        {
          "output_type": "error",
          "ename": "KeyboardInterrupt",
          "evalue": "ignored",
          "traceback": [
            "\u001b[0;31m---------------------------------------------------------------------------\u001b[0m",
            "\u001b[0;31mKeyboardInterrupt\u001b[0m                         Traceback (most recent call last)",
            "\u001b[0;32m<ipython-input-110-2fd2b19eb996>\u001b[0m in \u001b[0;36m<module>\u001b[0;34m()\u001b[0m\n\u001b[1;32m     21\u001b[0m \u001b[0;34m\u001b[0m\u001b[0m\n\u001b[1;32m     22\u001b[0m \u001b[0;31m# Fit the model                                                                                               #val split\u001b[0m\u001b[0;34m\u001b[0m\u001b[0;34m\u001b[0m\u001b[0;34m\u001b[0m\u001b[0m\n\u001b[0;32m---> 23\u001b[0;31m \u001b[0mhistory\u001b[0m \u001b[0;34m=\u001b[0m \u001b[0mmodel\u001b[0m\u001b[0;34m.\u001b[0m\u001b[0mfit\u001b[0m\u001b[0;34m(\u001b[0m\u001b[0mX_train\u001b[0m\u001b[0;34m,\u001b[0m \u001b[0my_train\u001b[0m\u001b[0;34m,\u001b[0m \u001b[0mbatch_size\u001b[0m\u001b[0;34m=\u001b[0m\u001b[0mbatchsize\u001b[0m\u001b[0;34m,\u001b[0m \u001b[0mepochs\u001b[0m\u001b[0;34m=\u001b[0m\u001b[0mepochs\u001b[0m\u001b[0;34m,\u001b[0m\u001b[0mvalidation_data\u001b[0m\u001b[0;34m=\u001b[0m\u001b[0;34m(\u001b[0m\u001b[0mX_test\u001b[0m\u001b[0;34m,\u001b[0m \u001b[0my_test\u001b[0m\u001b[0;34m)\u001b[0m\u001b[0;34m,\u001b[0m \u001b[0mvalidation_split\u001b[0m \u001b[0;34m=\u001b[0m \u001b[0;36m0.3\u001b[0m\u001b[0;34m,\u001b[0m \u001b[0mverbose\u001b[0m\u001b[0;34m=\u001b[0m\u001b[0;36m2\u001b[0m\u001b[0;34m)\u001b[0m\u001b[0;34m\u001b[0m\u001b[0;34m\u001b[0m\u001b[0m\n\u001b[0m\u001b[1;32m     24\u001b[0m \u001b[0;34m\u001b[0m\u001b[0m\n\u001b[1;32m     25\u001b[0m \u001b[0;31m# Final evaluation of the model\u001b[0m\u001b[0;34m\u001b[0m\u001b[0;34m\u001b[0m\u001b[0;34m\u001b[0m\u001b[0m\n",
            "\u001b[0;32m/usr/local/lib/python3.7/dist-packages/keras/utils/traceback_utils.py\u001b[0m in \u001b[0;36merror_handler\u001b[0;34m(*args, **kwargs)\u001b[0m\n\u001b[1;32m     62\u001b[0m     \u001b[0mfiltered_tb\u001b[0m \u001b[0;34m=\u001b[0m \u001b[0;32mNone\u001b[0m\u001b[0;34m\u001b[0m\u001b[0;34m\u001b[0m\u001b[0m\n\u001b[1;32m     63\u001b[0m     \u001b[0;32mtry\u001b[0m\u001b[0;34m:\u001b[0m\u001b[0;34m\u001b[0m\u001b[0;34m\u001b[0m\u001b[0m\n\u001b[0;32m---> 64\u001b[0;31m       \u001b[0;32mreturn\u001b[0m \u001b[0mfn\u001b[0m\u001b[0;34m(\u001b[0m\u001b[0;34m*\u001b[0m\u001b[0margs\u001b[0m\u001b[0;34m,\u001b[0m \u001b[0;34m**\u001b[0m\u001b[0mkwargs\u001b[0m\u001b[0;34m)\u001b[0m\u001b[0;34m\u001b[0m\u001b[0;34m\u001b[0m\u001b[0m\n\u001b[0m\u001b[1;32m     65\u001b[0m     \u001b[0;32mexcept\u001b[0m \u001b[0mException\u001b[0m \u001b[0;32mas\u001b[0m \u001b[0me\u001b[0m\u001b[0;34m:\u001b[0m  \u001b[0;31m# pylint: disable=broad-except\u001b[0m\u001b[0;34m\u001b[0m\u001b[0;34m\u001b[0m\u001b[0m\n\u001b[1;32m     66\u001b[0m       \u001b[0mfiltered_tb\u001b[0m \u001b[0;34m=\u001b[0m \u001b[0m_process_traceback_frames\u001b[0m\u001b[0;34m(\u001b[0m\u001b[0me\u001b[0m\u001b[0;34m.\u001b[0m\u001b[0m__traceback__\u001b[0m\u001b[0;34m)\u001b[0m\u001b[0;34m\u001b[0m\u001b[0;34m\u001b[0m\u001b[0m\n",
            "\u001b[0;32m/usr/local/lib/python3.7/dist-packages/keras/engine/training.py\u001b[0m in \u001b[0;36mfit\u001b[0;34m(self, x, y, batch_size, epochs, verbose, callbacks, validation_split, validation_data, shuffle, class_weight, sample_weight, initial_epoch, steps_per_epoch, validation_steps, validation_batch_size, validation_freq, max_queue_size, workers, use_multiprocessing)\u001b[0m\n\u001b[1;32m   1382\u001b[0m                 _r=1):\n\u001b[1;32m   1383\u001b[0m               \u001b[0mcallbacks\u001b[0m\u001b[0;34m.\u001b[0m\u001b[0mon_train_batch_begin\u001b[0m\u001b[0;34m(\u001b[0m\u001b[0mstep\u001b[0m\u001b[0;34m)\u001b[0m\u001b[0;34m\u001b[0m\u001b[0;34m\u001b[0m\u001b[0m\n\u001b[0;32m-> 1384\u001b[0;31m               \u001b[0mtmp_logs\u001b[0m \u001b[0;34m=\u001b[0m \u001b[0mself\u001b[0m\u001b[0;34m.\u001b[0m\u001b[0mtrain_function\u001b[0m\u001b[0;34m(\u001b[0m\u001b[0miterator\u001b[0m\u001b[0;34m)\u001b[0m\u001b[0;34m\u001b[0m\u001b[0;34m\u001b[0m\u001b[0m\n\u001b[0m\u001b[1;32m   1385\u001b[0m               \u001b[0;32mif\u001b[0m \u001b[0mdata_handler\u001b[0m\u001b[0;34m.\u001b[0m\u001b[0mshould_sync\u001b[0m\u001b[0;34m:\u001b[0m\u001b[0;34m\u001b[0m\u001b[0;34m\u001b[0m\u001b[0m\n\u001b[1;32m   1386\u001b[0m                 \u001b[0mcontext\u001b[0m\u001b[0;34m.\u001b[0m\u001b[0masync_wait\u001b[0m\u001b[0;34m(\u001b[0m\u001b[0;34m)\u001b[0m\u001b[0;34m\u001b[0m\u001b[0;34m\u001b[0m\u001b[0m\n",
            "\u001b[0;32m/usr/local/lib/python3.7/dist-packages/tensorflow/python/util/traceback_utils.py\u001b[0m in \u001b[0;36merror_handler\u001b[0;34m(*args, **kwargs)\u001b[0m\n\u001b[1;32m    148\u001b[0m     \u001b[0mfiltered_tb\u001b[0m \u001b[0;34m=\u001b[0m \u001b[0;32mNone\u001b[0m\u001b[0;34m\u001b[0m\u001b[0;34m\u001b[0m\u001b[0m\n\u001b[1;32m    149\u001b[0m     \u001b[0;32mtry\u001b[0m\u001b[0;34m:\u001b[0m\u001b[0;34m\u001b[0m\u001b[0;34m\u001b[0m\u001b[0m\n\u001b[0;32m--> 150\u001b[0;31m       \u001b[0;32mreturn\u001b[0m \u001b[0mfn\u001b[0m\u001b[0;34m(\u001b[0m\u001b[0;34m*\u001b[0m\u001b[0margs\u001b[0m\u001b[0;34m,\u001b[0m \u001b[0;34m**\u001b[0m\u001b[0mkwargs\u001b[0m\u001b[0;34m)\u001b[0m\u001b[0;34m\u001b[0m\u001b[0;34m\u001b[0m\u001b[0m\n\u001b[0m\u001b[1;32m    151\u001b[0m     \u001b[0;32mexcept\u001b[0m \u001b[0mException\u001b[0m \u001b[0;32mas\u001b[0m \u001b[0me\u001b[0m\u001b[0;34m:\u001b[0m\u001b[0;34m\u001b[0m\u001b[0;34m\u001b[0m\u001b[0m\n\u001b[1;32m    152\u001b[0m       \u001b[0mfiltered_tb\u001b[0m \u001b[0;34m=\u001b[0m \u001b[0m_process_traceback_frames\u001b[0m\u001b[0;34m(\u001b[0m\u001b[0me\u001b[0m\u001b[0;34m.\u001b[0m\u001b[0m__traceback__\u001b[0m\u001b[0;34m)\u001b[0m\u001b[0;34m\u001b[0m\u001b[0;34m\u001b[0m\u001b[0m\n",
            "\u001b[0;32m/usr/local/lib/python3.7/dist-packages/tensorflow/python/eager/def_function.py\u001b[0m in \u001b[0;36m__call__\u001b[0;34m(self, *args, **kwds)\u001b[0m\n\u001b[1;32m    913\u001b[0m \u001b[0;34m\u001b[0m\u001b[0m\n\u001b[1;32m    914\u001b[0m       \u001b[0;32mwith\u001b[0m \u001b[0mOptionalXlaContext\u001b[0m\u001b[0;34m(\u001b[0m\u001b[0mself\u001b[0m\u001b[0;34m.\u001b[0m\u001b[0m_jit_compile\u001b[0m\u001b[0;34m)\u001b[0m\u001b[0;34m:\u001b[0m\u001b[0;34m\u001b[0m\u001b[0;34m\u001b[0m\u001b[0m\n\u001b[0;32m--> 915\u001b[0;31m         \u001b[0mresult\u001b[0m \u001b[0;34m=\u001b[0m \u001b[0mself\u001b[0m\u001b[0;34m.\u001b[0m\u001b[0m_call\u001b[0m\u001b[0;34m(\u001b[0m\u001b[0;34m*\u001b[0m\u001b[0margs\u001b[0m\u001b[0;34m,\u001b[0m \u001b[0;34m**\u001b[0m\u001b[0mkwds\u001b[0m\u001b[0;34m)\u001b[0m\u001b[0;34m\u001b[0m\u001b[0;34m\u001b[0m\u001b[0m\n\u001b[0m\u001b[1;32m    916\u001b[0m \u001b[0;34m\u001b[0m\u001b[0m\n\u001b[1;32m    917\u001b[0m       \u001b[0mnew_tracing_count\u001b[0m \u001b[0;34m=\u001b[0m \u001b[0mself\u001b[0m\u001b[0;34m.\u001b[0m\u001b[0mexperimental_get_tracing_count\u001b[0m\u001b[0;34m(\u001b[0m\u001b[0;34m)\u001b[0m\u001b[0;34m\u001b[0m\u001b[0;34m\u001b[0m\u001b[0m\n",
            "\u001b[0;32m/usr/local/lib/python3.7/dist-packages/tensorflow/python/eager/def_function.py\u001b[0m in \u001b[0;36m_call\u001b[0;34m(self, *args, **kwds)\u001b[0m\n\u001b[1;32m    945\u001b[0m       \u001b[0;31m# In this case we have created variables on the first call, so we run the\u001b[0m\u001b[0;34m\u001b[0m\u001b[0;34m\u001b[0m\u001b[0;34m\u001b[0m\u001b[0m\n\u001b[1;32m    946\u001b[0m       \u001b[0;31m# defunned version which is guaranteed to never create variables.\u001b[0m\u001b[0;34m\u001b[0m\u001b[0;34m\u001b[0m\u001b[0;34m\u001b[0m\u001b[0m\n\u001b[0;32m--> 947\u001b[0;31m       \u001b[0;32mreturn\u001b[0m \u001b[0mself\u001b[0m\u001b[0;34m.\u001b[0m\u001b[0m_stateless_fn\u001b[0m\u001b[0;34m(\u001b[0m\u001b[0;34m*\u001b[0m\u001b[0margs\u001b[0m\u001b[0;34m,\u001b[0m \u001b[0;34m**\u001b[0m\u001b[0mkwds\u001b[0m\u001b[0;34m)\u001b[0m  \u001b[0;31m# pylint: disable=not-callable\u001b[0m\u001b[0;34m\u001b[0m\u001b[0;34m\u001b[0m\u001b[0m\n\u001b[0m\u001b[1;32m    948\u001b[0m     \u001b[0;32melif\u001b[0m \u001b[0mself\u001b[0m\u001b[0;34m.\u001b[0m\u001b[0m_stateful_fn\u001b[0m \u001b[0;32mis\u001b[0m \u001b[0;32mnot\u001b[0m \u001b[0;32mNone\u001b[0m\u001b[0;34m:\u001b[0m\u001b[0;34m\u001b[0m\u001b[0;34m\u001b[0m\u001b[0m\n\u001b[1;32m    949\u001b[0m       \u001b[0;31m# Release the lock early so that multiple threads can perform the call\u001b[0m\u001b[0;34m\u001b[0m\u001b[0;34m\u001b[0m\u001b[0;34m\u001b[0m\u001b[0m\n",
            "\u001b[0;32m/usr/local/lib/python3.7/dist-packages/tensorflow/python/eager/function.py\u001b[0m in \u001b[0;36m__call__\u001b[0;34m(self, *args, **kwargs)\u001b[0m\n\u001b[1;32m   2955\u001b[0m        filtered_flat_args) = self._maybe_define_function(args, kwargs)\n\u001b[1;32m   2956\u001b[0m     return graph_function._call_flat(\n\u001b[0;32m-> 2957\u001b[0;31m         filtered_flat_args, captured_inputs=graph_function.captured_inputs)  # pylint: disable=protected-access\n\u001b[0m\u001b[1;32m   2958\u001b[0m \u001b[0;34m\u001b[0m\u001b[0m\n\u001b[1;32m   2959\u001b[0m   \u001b[0;34m@\u001b[0m\u001b[0mproperty\u001b[0m\u001b[0;34m\u001b[0m\u001b[0;34m\u001b[0m\u001b[0m\n",
            "\u001b[0;32m/usr/local/lib/python3.7/dist-packages/tensorflow/python/eager/function.py\u001b[0m in \u001b[0;36m_call_flat\u001b[0;34m(self, args, captured_inputs, cancellation_manager)\u001b[0m\n\u001b[1;32m   1852\u001b[0m       \u001b[0;31m# No tape is watching; skip to running the function.\u001b[0m\u001b[0;34m\u001b[0m\u001b[0;34m\u001b[0m\u001b[0;34m\u001b[0m\u001b[0m\n\u001b[1;32m   1853\u001b[0m       return self._build_call_outputs(self._inference_function.call(\n\u001b[0;32m-> 1854\u001b[0;31m           ctx, args, cancellation_manager=cancellation_manager))\n\u001b[0m\u001b[1;32m   1855\u001b[0m     forward_backward = self._select_forward_and_backward_functions(\n\u001b[1;32m   1856\u001b[0m         \u001b[0margs\u001b[0m\u001b[0;34m,\u001b[0m\u001b[0;34m\u001b[0m\u001b[0;34m\u001b[0m\u001b[0m\n",
            "\u001b[0;32m/usr/local/lib/python3.7/dist-packages/tensorflow/python/eager/function.py\u001b[0m in \u001b[0;36mcall\u001b[0;34m(self, ctx, args, cancellation_manager)\u001b[0m\n\u001b[1;32m    502\u001b[0m               \u001b[0minputs\u001b[0m\u001b[0;34m=\u001b[0m\u001b[0margs\u001b[0m\u001b[0;34m,\u001b[0m\u001b[0;34m\u001b[0m\u001b[0;34m\u001b[0m\u001b[0m\n\u001b[1;32m    503\u001b[0m               \u001b[0mattrs\u001b[0m\u001b[0;34m=\u001b[0m\u001b[0mattrs\u001b[0m\u001b[0;34m,\u001b[0m\u001b[0;34m\u001b[0m\u001b[0;34m\u001b[0m\u001b[0m\n\u001b[0;32m--> 504\u001b[0;31m               ctx=ctx)\n\u001b[0m\u001b[1;32m    505\u001b[0m         \u001b[0;32melse\u001b[0m\u001b[0;34m:\u001b[0m\u001b[0;34m\u001b[0m\u001b[0;34m\u001b[0m\u001b[0m\n\u001b[1;32m    506\u001b[0m           outputs = execute.execute_with_cancellation(\n",
            "\u001b[0;32m/usr/local/lib/python3.7/dist-packages/tensorflow/python/eager/execute.py\u001b[0m in \u001b[0;36mquick_execute\u001b[0;34m(op_name, num_outputs, inputs, attrs, ctx, name)\u001b[0m\n\u001b[1;32m     53\u001b[0m     \u001b[0mctx\u001b[0m\u001b[0;34m.\u001b[0m\u001b[0mensure_initialized\u001b[0m\u001b[0;34m(\u001b[0m\u001b[0;34m)\u001b[0m\u001b[0;34m\u001b[0m\u001b[0;34m\u001b[0m\u001b[0m\n\u001b[1;32m     54\u001b[0m     tensors = pywrap_tfe.TFE_Py_Execute(ctx._handle, device_name, op_name,\n\u001b[0;32m---> 55\u001b[0;31m                                         inputs, attrs, num_outputs)\n\u001b[0m\u001b[1;32m     56\u001b[0m   \u001b[0;32mexcept\u001b[0m \u001b[0mcore\u001b[0m\u001b[0;34m.\u001b[0m\u001b[0m_NotOkStatusException\u001b[0m \u001b[0;32mas\u001b[0m \u001b[0me\u001b[0m\u001b[0;34m:\u001b[0m\u001b[0;34m\u001b[0m\u001b[0;34m\u001b[0m\u001b[0m\n\u001b[1;32m     57\u001b[0m     \u001b[0;32mif\u001b[0m \u001b[0mname\u001b[0m \u001b[0;32mis\u001b[0m \u001b[0;32mnot\u001b[0m \u001b[0;32mNone\u001b[0m\u001b[0;34m:\u001b[0m\u001b[0;34m\u001b[0m\u001b[0;34m\u001b[0m\u001b[0m\n",
            "\u001b[0;31mKeyboardInterrupt\u001b[0m: "
          ]
        }
      ]
    },
    {
      "cell_type": "code",
      "source": [
        "# plot dos gráficos\n",
        "plot_accuracy(history)\n",
        "plot_loss(history)"
      ],
      "metadata": {
        "id": "_FVkSevHDxsB"
      },
      "execution_count": null,
      "outputs": []
    },
    {
      "cell_type": "code",
      "source": [
        "# lr_schedule = schedules.ExponentialDecay(\n",
        "#     initial_learning_rate=lr,\n",
        "#     decay_steps=10000,\n",
        "#     decay_rate=0.9)\n",
        "\n",
        "# https://keras.io/api/optimizers/\n",
        "# https://keras.io/examples/nlp/pretrained_word_embeddings/\n",
        "# https://keras.io/api/layers/base_layer/#layer-class\n",
        "\n",
        "# optimizer = Adadelta(learning_rate=0.001, rho=0.95, epsilon=1e-07, name=\"Adadelta\") \n",
        "#optimizer = SGD(learning_rate=0.01, momentum=0.0, nesterov=True, name=\"SGD\")\n",
        "#optimizer = RMSprop(learning_rate=0.001,rho=0.9,momentum=0.0,epsilon=1e-07,centered=True,name=\"RMSprop\")\n",
        "#optimizer = Adam(learning_rate=0.001, beta_1=0.9, beta_2=0.999, epsilon=1e-07, amsgrad=True, name=\"Adam\")\n",
        "#optimizer = Adagrad(learning_rate=0.001, initial_accumulator_value=0.1, epsilon=1e-07, name=\"Adagrad\")\n",
        "#optimizer = Adamax(learning_rate=0.001, beta_1=0.9, beta_2=0.999, epsilon=1e-07, name=\"Adamax\")\n",
        "optimizer = Nadam(learning_rate=0.001, beta_1=0.9, beta_2=0.999, epsilon=1e-07, name=\"Nadam\") # 96% Embedding Treinado /\n",
        "#optimizer = Ftrl(learning_rate=0.001, learning_rate_power=-0.5, initial_accumulator_value=0.1, l1_regularization_strength=0.1, l2_regularization_strength=0.1, l2_shrinkage_regularization_strength=0.001, beta=0.0001, name=\"Ftrl\")\n",
        "\n",
        "# # defininindo a camada de embedding utilizando a matriz\n",
        "# embedding_layer = Embedding(input_dim=MATRIZ_CBOW_300_BASE_2.shape[0],\n",
        "#                             output_dim=MATRIZ_CBOW_300_BASE_2.shape[1],\n",
        "#                             # weights=[MATRIZ_CBOW_300_BASE_2],\n",
        "#                             embeddings_initializer=keras.initializers.Constant(MATRIZ_CBOW_300_BASE_2),\n",
        "#                             input_length=tam_max,\n",
        "#                             trainable=False)\n",
        "\n",
        "\n",
        "model = Sequential()\n",
        "# primeira camada se trata do embedding. \n",
        "# model.add(embedding_layer)\n",
        "model.add(Embedding(tam_vocab, embedding_dimen, input_length=tam_max)) \n",
        "\n",
        "\n",
        "# camada convolucional\n",
        "# filtros referentes ao output dessa camada,\n",
        "# tamanho nucleo = 3, se tratando apenas de uma dimensão (conv1d)\n",
        "# padding 'valid' = sem padding\n",
        "# função de ativação = relu\n",
        "model.add(Dropout(drp))\n",
        "model.add(Conv1D(filtros, kernel_size, padding='same', activation='relu', strides=1))\n",
        "model.add(Conv1D(filtros, kernel_size, padding='same', activation='relu', strides=1))\n",
        "model.add(Dropout(drp))\n",
        "model.add(MaxPooling1D())\n",
        "\n",
        "\n",
        "# camada convolucional                         'valid|same'\n",
        "model.add(Conv1D(filtros, kernel_size, padding='same', activation='relu', strides=1))\n",
        "model.add(Conv1D(filtros, kernel_size, padding='same', activation='relu', strides=1))\n",
        "model.add(Dropout(drp))\n",
        "model.add(MaxPooling1D())\n",
        "\n",
        "\n",
        "# nivela o output para utilização na camada densa\n",
        "model.add(Flatten())\n",
        "\n",
        "# regularização por dropout\n",
        "model.add(Dense(2, activation='softmax'))\n",
        "\n",
        "\n",
        "model.compile(loss=tf.keras.losses.SparseCategoricalCrossentropy(from_logits=True), optimizer=optimizer, metrics=['accuracy']) \n",
        "model.summary()\n",
        "\n",
        "# Fit the model                                                                                               #val split\n",
        "history = model.fit(X_train, y_train, batch_size=batchsize, epochs=epochs,validation_data=(X_test, y_test), validation_split = 0.3, verbose=2)\n",
        "\n",
        "# Final evaluation of the model\n",
        "scores = model.evaluate(X_test, y_test, verbose=1)"
      ],
      "metadata": {
        "id": "vrC1KA9FLUK1"
      },
      "execution_count": null,
      "outputs": []
    },
    {
      "cell_type": "code",
      "source": [
        "# plot dos gráficos\n",
        "plot_accuracy(history)\n",
        "plot_loss(history)"
      ],
      "metadata": {
        "id": "WY8X0khP0x8w"
      },
      "execution_count": null,
      "outputs": []
    },
    {
      "cell_type": "code",
      "source": [
        "tf.keras.utils.plot_model(model, to_file='/meuarquivo.png', show_shapes=True)"
      ],
      "metadata": {
        "id": "SqzyjKSXJ6Tq"
      },
      "execution_count": null,
      "outputs": []
    }
  ]
}