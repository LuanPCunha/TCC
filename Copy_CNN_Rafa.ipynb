{
  "nbformat": 4,
  "nbformat_minor": 0,
  "metadata": {
    "colab": {
      "name": "Copy-CNN-Rafa",
      "provenance": [],
      "collapsed_sections": [],
      "include_colab_link": true
    },
    "kernelspec": {
      "name": "python3",
      "display_name": "Python 3"
    },
    "language_info": {
      "name": "python"
    },
    "accelerator": "GPU"
  },
  "cells": [
    {
      "cell_type": "markdown",
      "metadata": {
        "id": "view-in-github",
        "colab_type": "text"
      },
      "source": [
        "<a href=\"https://colab.research.google.com/github/LuanPCunha/TCC/blob/main/Copy_CNN_Rafa.ipynb\" target=\"_parent\"><img src=\"https://colab.research.google.com/assets/colab-badge.svg\" alt=\"Open In Colab\"/></a>"
      ]
    },
    {
      "cell_type": "markdown",
      "source": [
        "# Downloads e imports"
      ],
      "metadata": {
        "id": "EvS_6l_yMUeH"
      }
    },
    {
      "cell_type": "code",
      "source": [
        "# !pip install tensorflow\n",
        "# !pip install keras"
      ],
      "metadata": {
        "id": "N5Vhr4_vECld"
      },
      "execution_count": 1,
      "outputs": []
    },
    {
      "cell_type": "code",
      "source": [
        "from google.colab import drive\n",
        "drive.mount('/content/drive')"
      ],
      "metadata": {
        "colab": {
          "base_uri": "https://localhost:8080/"
        },
        "id": "ptoQwAGEDQnl",
        "outputId": "254aea39-38b6-4b0c-d99e-f3f53fddae7b"
      },
      "execution_count": 2,
      "outputs": [
        {
          "output_type": "stream",
          "name": "stdout",
          "text": [
            "Drive already mounted at /content/drive; to attempt to forcibly remount, call drive.mount(\"/content/drive\", force_remount=True).\n"
          ]
        }
      ]
    },
    {
      "cell_type": "code",
      "source": [
        "import sklearn\n",
        "import numpy as np\n",
        "import pandas as pd\n",
        "from numpy import loadtxt\n",
        "import matplotlib.pyplot as plt\n",
        "from sklearn.model_selection import train_test_split\n",
        "\n",
        "import tensorflow as tf\n",
        "from tensorflow import keras\n",
        "from keras import optimizers\n",
        "from keras import layers\n",
        "from keras.layers import Dropout, Conv1D, MaxPooling1D, Flatten, Dense, SpatialDropout1D, BatchNormalization\n",
        "from keras.preprocessing.text import Tokenizer\n",
        "from keras.preprocessing.sequence import pad_sequences\n",
        "from tensorflow.keras.optimizers import schedules, Adam, Adadelta, SGD, RMSprop, Adagrad, Adamax, Nadam, Ftrl # Estamos usando só o Nadam\n",
        "from keras.models import Sequential\n",
        "from keras.layers.embeddings import Embedding\n",
        "\n",
        "\n",
        "from numpy.random import seed  \n",
        "tf.random.set_seed(2)"
      ],
      "metadata": {
        "id": "OeOYrHW9Bxs_"
      },
      "execution_count": 3,
      "outputs": []
    },
    {
      "cell_type": "code",
      "source": [
        "def tokenize(tweets_list):\n",
        "    tokenizer = Tokenizer()\n",
        "    tokenizer.fit_on_texts(tweets_list)\n",
        "    return tokenizer.texts_to_sequences(tweets_list), tokenizer"
      ],
      "metadata": {
        "id": "db4KNc_2Ixyu"
      },
      "execution_count": 4,
      "outputs": []
    },
    {
      "cell_type": "code",
      "source": [
        "def pad(text_tokenized, length=None):\n",
        "    return pad_sequences(text_tokenized, maxlen=length, padding='post')"
      ],
      "metadata": {
        "id": "pwcjgZd9I6AD"
      },
      "execution_count": 5,
      "outputs": []
    },
    {
      "cell_type": "code",
      "source": [
        "def preprocess(tweets_list, max_text_length):\n",
        "    print(max_text_length)\n",
        "    preprocess_tweets_list, tweets_list_tokenizer = tokenize(tweets_list)\n",
        "\n",
        "    preprocess_tweets_list = pad(preprocess_tweets_list, length=max_text_length)\n",
        "\n",
        "    return preprocess_tweets_list, tweets_list_tokenizer"
      ],
      "metadata": {
        "id": "fNMyJgcsI8AU"
      },
      "execution_count": 6,
      "outputs": []
    },
    {
      "cell_type": "code",
      "source": [
        "def logits_to_text(logits, tokenizer):\n",
        "    index_to_words = {id: word for word, id in tokenizer.word_index.items()}\n",
        "    index_to_words[0] = '<PAD>'\n",
        "\n",
        "    return ' '.join([index_to_words[prediction] for prediction in np.argmax(logits, 1)])"
      ],
      "metadata": {
        "id": "pX78imOBI9l8"
      },
      "execution_count": 7,
      "outputs": []
    },
    {
      "cell_type": "code",
      "source": [
        "# Plot de Gráficos\n",
        "\n",
        "def plot_accuracy(history, miny=None):\n",
        "  loss, accuracy, val_loss, val_accuracy = list(history.history.keys())\n",
        "  print(accuracy,val_accuracy,loss,val_loss)\n",
        "  acc = history.history[accuracy]\n",
        "  test_acc = history.history[val_accuracy]\n",
        "  epochs = range(len(acc))\n",
        "  plt.plot(epochs, acc)\n",
        "  plt.plot(epochs, test_acc)\n",
        "  if miny:\n",
        "    plt.ylim(miny, 1.0)\n",
        "  plt.legend(['train', 'test'], loc='upper left')\n",
        "  plt.title('accuracy') \n",
        "  plt.xlabel('epoch')\n",
        "  plt.show()\n",
        "  \n",
        "  \n",
        "# def plot_loss(history, miny=None):\n",
        "  loss = history.history[loss]\n",
        "  val_loss = history.history[val_loss]\n",
        "  epochs = range(len(loss))\n",
        "  plt.plot(epochs, loss)\n",
        "  plt.plot(epochs, val_loss)\n",
        "  if miny:\n",
        "    plt.ylim(miny, 1.0)\n",
        "  plt.legend(['train', 'test'], loc='upper left')\n",
        "  plt.title('loss') \n",
        "  plt.xlabel('epoch')\n",
        "  plt.show()"
      ],
      "metadata": {
        "id": "hTMVKvfRrQ9x"
      },
      "execution_count": 8,
      "outputs": []
    },
    {
      "cell_type": "markdown",
      "source": [
        "# Carrega base"
      ],
      "metadata": {
        "id": "kMO-knebMcYH"
      }
    },
    {
      "cell_type": "code",
      "source": [
        "# Base1 Com StopWords\n",
        "PATH_BASE1_JUNTO_COM_DA_LEILA_BALANCEADA = \"/content/drive/MyDrive/TCC/dados/processadas/balanceadas/Base1JuntaHateENotHateDaLeila_balanceada.csv\"\n",
        "#MATRIZ_CBOW_300_BASE_1 = loadtxt(\"/content/drive/MyDrive/TCC/dados/word_embeddings/Matriz_Base1JuntaHateENotHateDaLeila_balanceada_CBOW300.CSV\", delimiter=',')\n",
        "\n",
        "# Base2 Sem StopWords\n",
        "PATH_BASE2_LEILA_LIMPISSIMA_BALANCEADA = \"/content/drive/MyDrive/TCC/dados/processadas/balanceadas/Base2_maior4_menor25_limpissima_balanceada.csv\"\n",
        "#MATRIZ_CBOW_300_BASE_2_LEILA = loadtxt(\"/content/drive/MyDrive/TCC/dados/word_embeddings/Matriz_Base2_maior4_menor25_limpissima_balanceada_CBOW300.CSV\", delimiter=',')\n",
        "\n",
        "PATH_BASE_1_CLASSIFICADA_BALANCEADA = r\"/content/drive/MyDrive/TCC/dados/processadas/balanceadas/Base1_classificada_balanceada.csv\" #entrada\n",
        "\n",
        "PATH_BASE_2_CLASSIFICADA_BALANCEADA = r\"/content/drive/MyDrive/TCC/dados/processadas/balanceadas/Base2_classificada_balanceada.csv\" #entrada\n",
        "# MATRIZ_CBOW_300_BASE_2 = loadtxt(\"/content/drive/MyDrive/TCC/dados/word_embeddings/Matriz_Base2_classificada_balanceada_CBOW300.csv\", delimiter=',') #saida"
      ],
      "metadata": {
        "id": "xf_v4U5DDfU8"
      },
      "execution_count": 118,
      "outputs": []
    },
    {
      "cell_type": "markdown",
      "source": [
        "# Execução modelo"
      ],
      "metadata": {
        "id": "W9pdFxE7Ml6H"
      }
    },
    {
      "cell_type": "code",
      "source": [
        "tweets = pd.read_csv(PATH_BASE_1_CLASSIFICADA_BALANCEADA, index_col=0)\n",
        "text_column = tweets['text']\n",
        "text_column"
      ],
      "metadata": {
        "id": "7wJXwK7jCkyx",
        "outputId": "f5cf498b-899c-49fc-970e-e83c75af29a6",
        "colab": {
          "base_uri": "https://localhost:8080/"
        }
      },
      "execution_count": 120,
      "outputs": [
        {
          "output_type": "execute_result",
          "data": {
            "text/plain": [
              "0        retwet a bahia em vai fazer anos sendo governa...\n",
              "1        k imagine se fosse atitude mental negativa se ...\n",
              "2        o general heleno é que nem o bolsonaro rosna m...\n",
              "3        alan tem que ser muito cara de pau achar que e...\n",
              "4        os canalhascomunistas caçarão a chapa presiden...\n",
              "                               ...                        \n",
              "11145    nosso egoísmo é em grande parte produto da soc...\n",
              "11146    abençoado ano novo sua linda e querida obrigad...\n",
              "11147          leva eles com a gente eles são amorzinhos d\n",
              "11148    se tu nunca fumou maconha cole isso no seu mur...\n",
              "11149                            k k ata eu sou meia sonsa\n",
              "Name: text, Length: 11150, dtype: object"
            ]
          },
          "metadata": {},
          "execution_count": 120
        }
      ]
    },
    {
      "cell_type": "code",
      "source": [
        "# Pega a média de caracteres dos tweets de toda a base\n",
        "max_text_length = int(text_column.apply(lambda x: len(str(x).split(' '))).max())\n",
        "max_text_length"
      ],
      "metadata": {
        "id": "ud3ADezRSHtI",
        "outputId": "b8615ee0-c21f-4e22-9dda-dc08335a6eb7",
        "colab": {
          "base_uri": "https://localhost:8080/"
        }
      },
      "execution_count": 121,
      "outputs": [
        {
          "output_type": "execute_result",
          "data": {
            "text/plain": [
              "61"
            ]
          },
          "metadata": {},
          "execution_count": 121
        }
      ]
    },
    {
      "cell_type": "code",
      "execution_count": 122,
      "metadata": {
        "colab": {
          "base_uri": "https://localhost:8080/"
        },
        "id": "UxNdO2PW2E5a",
        "outputId": "8fafbccb-93c5-4f99-bd8f-f578cbdb247c"
      },
      "outputs": [
        {
          "output_type": "stream",
          "name": "stdout",
          "text": [
            "0        1\n",
            "1        1\n",
            "2        1\n",
            "3        1\n",
            "4        1\n",
            "        ..\n",
            "11145    0\n",
            "11146    0\n",
            "11147    0\n",
            "11148    0\n",
            "11149    0\n",
            "Name: label, Length: 11150, dtype: int64\n",
            "<class 'pandas.core.series.Series'>\n",
            "None\n",
            "Vocabulary size: 19030\n"
          ]
        }
      ],
      "source": [
        "output_label = tweets['label']\n",
        "print(output_label)\n",
        "print(type(output_label))\n",
        "input_data, text_tokenizer = preprocess(text_column, None)\n",
        "    \n",
        "text_vocab_size = len(text_tokenizer.word_index)\n",
        "print(\"Vocabulary size:\", text_vocab_size)"
      ]
    },
    {
      "cell_type": "code",
      "source": [
        "x_train, x_test, y_train, y_test = train_test_split(input_data, output_label, test_size=0.2, random_state=19)"
      ],
      "metadata": {
        "id": "TC_9tX0QZ65k"
      },
      "execution_count": 123,
      "outputs": []
    },
    {
      "cell_type": "code",
      "source": [
        "x_train.shape"
      ],
      "metadata": {
        "id": "FLKz2OhUaVKq",
        "outputId": "2477335d-a9ec-48b8-ec9d-d6c7e0606b69",
        "colab": {
          "base_uri": "https://localhost:8080/"
        }
      },
      "execution_count": 124,
      "outputs": [
        {
          "output_type": "execute_result",
          "data": {
            "text/plain": [
              "(8920, 61)"
            ]
          },
          "metadata": {},
          "execution_count": 124
        }
      ]
    },
    {
      "cell_type": "code",
      "source": [
        "model = keras.Sequential([\n",
        "    keras.layers.Flatten(input_shape=(55,)),  # input layer (1)\n",
        "    keras.layers.Dense(128, activation='relu'),  # hidden layer (2)\n",
        "    keras.layers.Dense(1, activation='sigmoid') # output layer (3)\n",
        "])"
      ],
      "metadata": {
        "id": "dT9L48k-aON7"
      },
      "execution_count": 125,
      "outputs": []
    },
    {
      "cell_type": "code",
      "source": [
        "# model.compile(optimizer='adam',\n",
        "#               loss='sparse_categorical_crossentropy',\n",
        "#               metrics=['accuracy'])\n",
        "\n",
        "model.compile(optimizer='adam',\n",
        "              loss='binary_crossentropy',\n",
        "              metrics=['accuracy'])"
      ],
      "metadata": {
        "id": "gUi3Br98ao8Q"
      },
      "execution_count": 126,
      "outputs": []
    },
    {
      "cell_type": "code",
      "source": [
        "model.fit(x_train, y_train, epochs=20)  # we pass the data, labels and epochs and watch the magic!"
      ],
      "metadata": {
        "id": "xJscev-gasf3",
        "outputId": "d2db1335-836a-46ff-8fec-2b6b08215a22",
        "colab": {
          "base_uri": "https://localhost:8080/",
          "height": 588
        }
      },
      "execution_count": 127,
      "outputs": [
        {
          "output_type": "stream",
          "name": "stdout",
          "text": [
            "Epoch 1/20\n"
          ]
        },
        {
          "output_type": "error",
          "ename": "ValueError",
          "evalue": "ignored",
          "traceback": [
            "\u001b[0;31m---------------------------------------------------------------------------\u001b[0m",
            "\u001b[0;31mValueError\u001b[0m                                Traceback (most recent call last)",
            "\u001b[0;32m<ipython-input-127-e27c764055c9>\u001b[0m in \u001b[0;36m<module>\u001b[0;34m()\u001b[0m\n\u001b[0;32m----> 1\u001b[0;31m \u001b[0mmodel\u001b[0m\u001b[0;34m.\u001b[0m\u001b[0mfit\u001b[0m\u001b[0;34m(\u001b[0m\u001b[0mx_train\u001b[0m\u001b[0;34m,\u001b[0m \u001b[0my_train\u001b[0m\u001b[0;34m,\u001b[0m \u001b[0mepochs\u001b[0m\u001b[0;34m=\u001b[0m\u001b[0;36m20\u001b[0m\u001b[0;34m)\u001b[0m  \u001b[0;31m# we pass the data, labels and epochs and watch the magic!\u001b[0m\u001b[0;34m\u001b[0m\u001b[0;34m\u001b[0m\u001b[0m\n\u001b[0m",
            "\u001b[0;32m/usr/local/lib/python3.7/dist-packages/keras/utils/traceback_utils.py\u001b[0m in \u001b[0;36merror_handler\u001b[0;34m(*args, **kwargs)\u001b[0m\n\u001b[1;32m     65\u001b[0m     \u001b[0;32mexcept\u001b[0m \u001b[0mException\u001b[0m \u001b[0;32mas\u001b[0m \u001b[0me\u001b[0m\u001b[0;34m:\u001b[0m  \u001b[0;31m# pylint: disable=broad-except\u001b[0m\u001b[0;34m\u001b[0m\u001b[0;34m\u001b[0m\u001b[0m\n\u001b[1;32m     66\u001b[0m       \u001b[0mfiltered_tb\u001b[0m \u001b[0;34m=\u001b[0m \u001b[0m_process_traceback_frames\u001b[0m\u001b[0;34m(\u001b[0m\u001b[0me\u001b[0m\u001b[0;34m.\u001b[0m\u001b[0m__traceback__\u001b[0m\u001b[0;34m)\u001b[0m\u001b[0;34m\u001b[0m\u001b[0;34m\u001b[0m\u001b[0m\n\u001b[0;32m---> 67\u001b[0;31m       \u001b[0;32mraise\u001b[0m \u001b[0me\u001b[0m\u001b[0;34m.\u001b[0m\u001b[0mwith_traceback\u001b[0m\u001b[0;34m(\u001b[0m\u001b[0mfiltered_tb\u001b[0m\u001b[0;34m)\u001b[0m \u001b[0;32mfrom\u001b[0m \u001b[0;32mNone\u001b[0m\u001b[0;34m\u001b[0m\u001b[0;34m\u001b[0m\u001b[0m\n\u001b[0m\u001b[1;32m     68\u001b[0m     \u001b[0;32mfinally\u001b[0m\u001b[0;34m:\u001b[0m\u001b[0;34m\u001b[0m\u001b[0;34m\u001b[0m\u001b[0m\n\u001b[1;32m     69\u001b[0m       \u001b[0;32mdel\u001b[0m \u001b[0mfiltered_tb\u001b[0m\u001b[0;34m\u001b[0m\u001b[0;34m\u001b[0m\u001b[0m\n",
            "\u001b[0;32m/usr/local/lib/python3.7/dist-packages/tensorflow/python/framework/func_graph.py\u001b[0m in \u001b[0;36mautograph_handler\u001b[0;34m(*args, **kwargs)\u001b[0m\n\u001b[1;32m   1145\u001b[0m           \u001b[0;32mexcept\u001b[0m \u001b[0mException\u001b[0m \u001b[0;32mas\u001b[0m \u001b[0me\u001b[0m\u001b[0;34m:\u001b[0m  \u001b[0;31m# pylint:disable=broad-except\u001b[0m\u001b[0;34m\u001b[0m\u001b[0;34m\u001b[0m\u001b[0m\n\u001b[1;32m   1146\u001b[0m             \u001b[0;32mif\u001b[0m \u001b[0mhasattr\u001b[0m\u001b[0;34m(\u001b[0m\u001b[0me\u001b[0m\u001b[0;34m,\u001b[0m \u001b[0;34m\"ag_error_metadata\"\u001b[0m\u001b[0;34m)\u001b[0m\u001b[0;34m:\u001b[0m\u001b[0;34m\u001b[0m\u001b[0;34m\u001b[0m\u001b[0m\n\u001b[0;32m-> 1147\u001b[0;31m               \u001b[0;32mraise\u001b[0m \u001b[0me\u001b[0m\u001b[0;34m.\u001b[0m\u001b[0mag_error_metadata\u001b[0m\u001b[0;34m.\u001b[0m\u001b[0mto_exception\u001b[0m\u001b[0;34m(\u001b[0m\u001b[0me\u001b[0m\u001b[0;34m)\u001b[0m\u001b[0;34m\u001b[0m\u001b[0;34m\u001b[0m\u001b[0m\n\u001b[0m\u001b[1;32m   1148\u001b[0m             \u001b[0;32melse\u001b[0m\u001b[0;34m:\u001b[0m\u001b[0;34m\u001b[0m\u001b[0;34m\u001b[0m\u001b[0m\n\u001b[1;32m   1149\u001b[0m               \u001b[0;32mraise\u001b[0m\u001b[0;34m\u001b[0m\u001b[0;34m\u001b[0m\u001b[0m\n",
            "\u001b[0;31mValueError\u001b[0m: in user code:\n\n    File \"/usr/local/lib/python3.7/dist-packages/keras/engine/training.py\", line 1021, in train_function  *\n        return step_function(self, iterator)\n    File \"/usr/local/lib/python3.7/dist-packages/keras/engine/training.py\", line 1010, in step_function  **\n        outputs = model.distribute_strategy.run(run_step, args=(data,))\n    File \"/usr/local/lib/python3.7/dist-packages/keras/engine/training.py\", line 1000, in run_step  **\n        outputs = model.train_step(data)\n    File \"/usr/local/lib/python3.7/dist-packages/keras/engine/training.py\", line 859, in train_step\n        y_pred = self(x, training=True)\n    File \"/usr/local/lib/python3.7/dist-packages/keras/utils/traceback_utils.py\", line 67, in error_handler\n        raise e.with_traceback(filtered_tb) from None\n    File \"/usr/local/lib/python3.7/dist-packages/keras/engine/input_spec.py\", line 264, in assert_input_compatibility\n        raise ValueError(f'Input {input_index} of layer \"{layer_name}\" is '\n\n    ValueError: Input 0 of layer \"sequential_20\" is incompatible with the layer: expected shape=(None, 55), found shape=(None, 61)\n"
          ]
        }
      ]
    },
    {
      "cell_type": "code",
      "source": [
        "test_loss, test_acc = model.evaluate(x_test,  y_test, verbose=1) \n",
        "\n",
        "print('Test accuracy:', test_acc)"
      ],
      "metadata": {
        "id": "e2ln2dT-bCqK"
      },
      "execution_count": null,
      "outputs": []
    },
    {
      "cell_type": "markdown",
      "source": [
        "67/67 [==============================] - 0s 2ms/step - loss: 12.5913 - accuracy: 0.5357\n",
        "Test accuracy: 0.5356974005699158"
      ],
      "metadata": {
        "id": "UL75kpJleUxE"
      }
    },
    {
      "cell_type": "code",
      "source": [
        "predictions = model.predict(x_test)"
      ],
      "metadata": {
        "id": "yXJ3yIdsbY6X"
      },
      "execution_count": null,
      "outputs": []
    },
    {
      "cell_type": "code",
      "source": [
        "predictions[0]"
      ],
      "metadata": {
        "id": "Q5RQyxbSbcIp"
      },
      "execution_count": null,
      "outputs": []
    },
    {
      "cell_type": "code",
      "source": [
        "np.argmax(predictions[0])"
      ],
      "metadata": {
        "id": "ymeg0RSqboj0"
      },
      "execution_count": null,
      "outputs": []
    },
    {
      "cell_type": "code",
      "source": [
        "y_array = list(y_test)\n",
        "y_array[2]"
      ],
      "metadata": {
        "id": "F96smohFbr-6"
      },
      "execution_count": null,
      "outputs": []
    },
    {
      "cell_type": "code",
      "source": [
        "x_test"
      ],
      "metadata": {
        "id": "gC8SsvZfcA9Z"
      },
      "execution_count": null,
      "outputs": []
    },
    {
      "cell_type": "code",
      "source": [
        "# parametros:\n",
        "BATCH_SIZE = 3\n",
        "EPOCHS = 6\n",
        "VAL_AND_TST_SIZE = 0.2\n",
        "LEARN_RATE = 0.00005\n",
        "# ******\n",
        "BETA_1 = 0.09\n",
        "BETA_2 = 0.0999\n",
        "EPSILON = 1e-07\n",
        "# *****\n",
        "EMBEDDING_DIMENSION = 300  \n",
        "MAX_TEXT_SIZE = max_text_length \n",
        "VOCAB_SIZE = text_vocab_size"
      ],
      "metadata": {
        "id": "yBGbbGdfL7ps"
      },
      "execution_count": 147,
      "outputs": []
    },
    {
      "cell_type": "code",
      "source": [
        "def optimize (learning_rate, beta_1, beta_2, epsilon):\n",
        "  \n",
        "  return Adam(learning_rate=learning_rate, beta_1=beta_1, beta_2=beta_2, epsilon=epsilon, name=\"Nadam\")"
      ],
      "metadata": {
        "id": "bPL3sYgZ1h7j"
      },
      "execution_count": 163,
      "outputs": []
    },
    {
      "cell_type": "code",
      "source": [
        "# https://towardsdatascience.com/visualizing-how-filters-work-in-convolutional-neural-networks-cnns-7383bd84ad2c\n",
        "# https://colab.research.google.com/drive/18ejmbJn9KVcqWJzOvAz84HxIpPMeTijU#scrollTo=Hjf_s9MrZky2\n",
        "\n",
        "# https://stackoverflow.com/questions/67848962/selecting-loss-and-metrics-for-tensorflow-model ##GOD\n",
        "#https://machinelearningmastery.com/binary-classification-tutorial-with-the-keras-deep-learning-library/"
      ],
      "metadata": {
        "id": "CK6Ipo-7JNx4"
      },
      "execution_count": 164,
      "outputs": []
    },
    {
      "cell_type": "code",
      "source": [
        "def create_cnn (vocab_size, embedding_dimen, max_text_size ):\n",
        "\n",
        "  # embedding_layer = Embedding(VOCAB_SIZE, EMBEDDING_DIMENSION, input_length=MAX_TEXT_SIZE)\n",
        "\n",
        "  # int_sequences_input = keras.Input(shape=(None,), dtype=\"int64\")\n",
        "  # embedded_sequences = embedding_layer(int_sequences_input)\n",
        "  # x = layers.Conv1D(300,3, activation=\"relu\")(embedded_sequences)\n",
        "  # # ******\n",
        "  # x = layers.Dense(300, activation=\"relu\")(x)\n",
        "  # x = layers.Dropout(0.1)(x)\n",
        " \n",
        "  # x = layers.GlobalMaxPooling1D()(x)\n",
        "  # # x = layers.MaxPooling1D()(x)\n",
        "  # # x = layers.Conv1D(100, 3, activation=\"relu\")(x)\n",
        "  # # x = layers.MaxPooling1D()(x)\n",
        "  # # x = layers.Conv1D(100, 3, activation=\"relu\")(x)\n",
        "  # # x = SpatialDropout1D(0.1)(x)\n",
        "  # # x = BatchNormalization()(x)\n",
        "  # # model.add(Flatten())\n",
        "  # # *******\n",
        "  # preds = layers.Dense(2, activation='sigmoid')(x)\n",
        "  # modelo = keras.Model(int_sequences_input, preds)\n",
        "\n",
        "\n",
        "  modelo = keras.Sequential([\n",
        "    keras.layers.Embedding(VOCAB_SIZE, EMBEDDING_DIMENSION, input_length=MAX_TEXT_SIZE),                         \n",
        "    keras.layers.Conv1D(10,3, activation=\"relu\"),\n",
        "    keras.layers.Flatten(input_shape=(61,)),  # input layer (1)\n",
        "    keras.layers.Dense(61, activation='relu'),  # hidden layer (2)\n",
        "    keras.layers.Dropout(0.1),\n",
        "    keras.layers.Dense(2, activation='sigmoid') # output layer (3)\n",
        "    ])\n",
        "  \n",
        "  return modelo \n",
        "  "
      ],
      "metadata": {
        "id": "wKH2mHM5r8_6"
      },
      "execution_count": 165,
      "outputs": []
    },
    {
      "cell_type": "code",
      "source": [
        "def train_model(input_data, output_label, embedding_dimen, batch_size, epochs, validation_and_test_size):\n",
        "    \n",
        "    x_train, x_test, y_train, y_test = train_test_split(input_data, output_label, test_size=validation_and_test_size, random_state=42)\n",
        "\n",
        "    optimizer = optimize(LEARN_RATE, BETA_1, BETA_2, EPSILON)\n",
        "    \n",
        "    model = create_cnn(VOCAB_SIZE, EMBEDDING_DIMENSION, MAX_TEXT_SIZE)\n",
        "    model.summary()\n",
        "    model.compile(loss=tf.keras.losses.SparseCategoricalCrossentropy(from_logits=True), optimizer=optimizer, metrics=['accuracy'])                                                                                                \n",
        "    history = model.fit(x_train, y_train, batch_size=batch_size, epochs=epochs, validation_split = validation_and_test_size, verbose=2, use_multiprocessing=True)\n",
        "    scores = model.evaluate(x_test, y_test, verbose=1)\n",
        "    \n",
        "    return history, model, x_test, y_test"
      ],
      "metadata": {
        "id": "wYnrq-34uZX5"
      },
      "execution_count": 166,
      "outputs": []
    },
    {
      "cell_type": "code",
      "source": [
        "# plot dos gráficos\n",
        "history, model1, x_test, y_test = train_model(input_data, output_label, EMBEDDING_DIMENSION, BATCH_SIZE, EPOCHS, VAL_AND_TST_SIZE)"
      ],
      "metadata": {
        "id": "9YLL1kZTDzUG",
        "outputId": "2eb59c88-65be-4624-a1c8-565e9a1c4914",
        "colab": {
          "base_uri": "https://localhost:8080/"
        }
      },
      "execution_count": 167,
      "outputs": [
        {
          "output_type": "stream",
          "name": "stdout",
          "text": [
            "Model: \"sequential_23\"\n",
            "_________________________________________________________________\n",
            " Layer (type)                Output Shape              Param #   \n",
            "=================================================================\n",
            " embedding_14 (Embedding)    (None, 61, 300)           5709000   \n",
            "                                                                 \n",
            " conv1d_12 (Conv1D)          (None, 59, 10)            9010      \n",
            "                                                                 \n",
            " flatten_23 (Flatten)        (None, 590)               0         \n",
            "                                                                 \n",
            " dense_50 (Dense)            (None, 61)                36051     \n",
            "                                                                 \n",
            " dropout_12 (Dropout)        (None, 61)                0         \n",
            "                                                                 \n",
            " dense_51 (Dense)            (None, 2)                 124       \n",
            "                                                                 \n",
            "=================================================================\n",
            "Total params: 5,754,185\n",
            "Trainable params: 5,754,185\n",
            "Non-trainable params: 0\n",
            "_________________________________________________________________\n",
            "Epoch 1/6\n"
          ]
        },
        {
          "output_type": "stream",
          "name": "stderr",
          "text": [
            "/usr/local/lib/python3.7/dist-packages/tensorflow/python/util/dispatch.py:1082: UserWarning: \"`sparse_categorical_crossentropy` received `from_logits=True`, but the `output` argument was produced by a sigmoid or softmax activation and thus does not represent logits. Was this intended?\"\n",
            "  return dispatch_target(*args, **kwargs)\n"
          ]
        },
        {
          "output_type": "stream",
          "name": "stdout",
          "text": [
            "2379/2379 - 14s - loss: 0.6657 - accuracy: 0.6104 - val_loss: 0.6764 - val_accuracy: 0.6076 - 14s/epoch - 6ms/step\n",
            "Epoch 2/6\n",
            "2379/2379 - 13s - loss: 0.6545 - accuracy: 0.6239 - val_loss: 0.6788 - val_accuracy: 0.6037 - 13s/epoch - 6ms/step\n",
            "Epoch 3/6\n",
            "2379/2379 - 14s - loss: 0.6596 - accuracy: 0.6389 - val_loss: 0.6880 - val_accuracy: 0.6211 - 14s/epoch - 6ms/step\n",
            "Epoch 4/6\n",
            "2379/2379 - 14s - loss: 0.6500 - accuracy: 0.6616 - val_loss: 0.6729 - val_accuracy: 0.6435 - 14s/epoch - 6ms/step\n",
            "Epoch 5/6\n",
            "2379/2379 - 13s - loss: 0.6026 - accuracy: 0.7056 - val_loss: 0.6521 - val_accuracy: 0.6715 - 13s/epoch - 6ms/step\n",
            "Epoch 6/6\n",
            "2379/2379 - 13s - loss: 0.5672 - accuracy: 0.7311 - val_loss: 0.6504 - val_accuracy: 0.6928 - 13s/epoch - 6ms/step\n",
            "70/70 [==============================] - 0s 2ms/step - loss: 0.6006 - accuracy: 0.7309\n"
          ]
        }
      ]
    },
    {
      "cell_type": "code",
      "source": [
        "list(history.history.keys())\n",
        "history.history"
      ],
      "metadata": {
        "colab": {
          "base_uri": "https://localhost:8080/"
        },
        "id": "LoC4rSJedE-K",
        "outputId": "aa951efd-8188-4373-ac2d-99855eba12e6"
      },
      "execution_count": 176,
      "outputs": [
        {
          "output_type": "execute_result",
          "data": {
            "text/plain": [
              "{'accuracy': [0.6104260087013245,\n",
              "  0.6238788962364197,\n",
              "  0.6388733386993408,\n",
              "  0.6615751385688782,\n",
              "  0.7055773735046387,\n",
              "  0.7310818433761597],\n",
              " 'loss': [0.6657261848449707,\n",
              "  0.6545185446739197,\n",
              "  0.6595746278762817,\n",
              "  0.6500428915023804,\n",
              "  0.6025585532188416,\n",
              "  0.5671647787094116],\n",
              " 'val_accuracy': [0.6076233386993408,\n",
              "  0.6036995649337769,\n",
              "  0.621076226234436,\n",
              "  0.6434977650642395,\n",
              "  0.6715246438980103,\n",
              "  0.6928251385688782],\n",
              " 'val_loss': [0.676389753818512,\n",
              "  0.6787914633750916,\n",
              "  0.6880099773406982,\n",
              "  0.6728626489639282,\n",
              "  0.6521499156951904,\n",
              "  0.6504086852073669]}"
            ]
          },
          "metadata": {},
          "execution_count": 176
        }
      ]
    },
    {
      "cell_type": "code",
      "source": [
        "plot_accuracy(history)\n",
        "# plot_loss(history)"
      ],
      "metadata": {
        "id": "rHqQtBxJAMZY",
        "outputId": "c860f697-6209-4c6f-894e-84f72baf3ac7",
        "colab": {
          "base_uri": "https://localhost:8080/",
          "height": 590
        }
      },
      "execution_count": 177,
      "outputs": [
        {
          "output_type": "stream",
          "name": "stdout",
          "text": [
            "accuracy val_accuracy loss val_loss\n"
          ]
        },
        {
          "output_type": "display_data",
          "data": {
            "text/plain": [
              "<Figure size 432x288 with 1 Axes>"
            ],
            "image/png": "[encoded data removed]"
          },
          "metadata": {
            "needs_background": "light"
          }
        },
        {
          "output_type": "display_data",
          "data": {
            "text/plain": [
              "<Figure size 432x288 with 1 Axes>"
            ],
            "image/png": "[encoded data removed]"
          },
          "metadata": {
            "needs_background": "light"
          }
        }
      ]
    },
    {
      "cell_type": "code",
      "source": [
        "y_prob = model1.predict(x_test) \n",
        "print(y_prob)\n",
        "y_labelpred = y_prob.argmax(axis=-1)\n",
        "#len(y_prob)\n",
        "print(y_labelpred)\n",
        "len(y_labelpred)"
      ],
      "metadata": {
        "id": "FR-idj87D4-N",
        "outputId": "149a5137-9f1e-417a-86bb-0353f021c959",
        "colab": {
          "base_uri": "https://localhost:8080/"
        }
      },
      "execution_count": 170,
      "outputs": [
        {
          "output_type": "stream",
          "name": "stdout",
          "text": [
            "[[0.45459083 0.45847073]\n",
            " [0.33185753 0.64256245]\n",
            " [0.44013593 0.46555147]\n",
            " ...\n",
            " [0.09621757 0.90116984]\n",
            " [0.36499682 0.5860693 ]\n",
            " [0.18081608 0.792591  ]]\n",
            "[1 1 1 ... 1 1 1]\n"
          ]
        },
        {
          "output_type": "execute_result",
          "data": {
            "text/plain": [
              "2230"
            ]
          },
          "metadata": {},
          "execution_count": 170
        }
      ]
    },
    {
      "cell_type": "code",
      "source": [
        "y_labeltrue=y_test\n",
        "print(y_labeltrue)"
      ],
      "metadata": {
        "id": "YXaoXhceD0Ic",
        "outputId": "213ca3e3-5f1c-4b88-b8b3-abca787c6ff9",
        "colab": {
          "base_uri": "https://localhost:8080/"
        }
      },
      "execution_count": 171,
      "outputs": [
        {
          "output_type": "stream",
          "name": "stdout",
          "text": [
            "9271     0\n",
            "2874     1\n",
            "2174     1\n",
            "1744     1\n",
            "4192     1\n",
            "        ..\n",
            "11138    0\n",
            "7341     0\n",
            "5481     1\n",
            "4412     1\n",
            "4551     1\n",
            "Name: label, Length: 2230, dtype: int64\n"
          ]
        }
      ]
    },
    {
      "cell_type": "code",
      "metadata": {
        "id": "rYpv7sUlaqPH",
        "colab": {
          "base_uri": "https://localhost:8080/",
          "height": 629
        },
        "outputId": "99094769-d08e-4cce-f35a-e7b8312aaf86"
      },
      "source": [
        "from mlxtend.plotting import plot_confusion_matrix\n",
        "from sklearn.metrics import confusion_matrix\n",
        "import matplotlib.pyplot as plt\n",
        "\n",
        "classes = confusion_matrix(y_labeltrue,y_labelpred)\n",
        "\n",
        "fig,ax = plot_confusion_matrix(figsize=(11, 11),conf_mat=classes,\n",
        "                                colorbar=True,\n",
        "                                show_absolute=True,\n",
        "                                show_normed=True,\n",
        "                                #  class_names=[\"hate\",\"not\"],\n",
        "                              )\n",
        "plt.show()"
      ],
      "execution_count": 172,
      "outputs": [
        {
          "output_type": "display_data",
          "data": {
            "text/plain": [
              "<Figure size 792x792 with 2 Axes>"
            ],
            "image/png": "[encoded data removed]"
          },
          "metadata": {
            "needs_background": "light"
          }
        }
      ]
    },
    {
      "cell_type": "code",
      "source": [
        "# # lr_schedule = schedules.ExponentialDecay(\n",
        "# #     initial_learning_rate=lr,\n",
        "# #     decay_steps=10000,\n",
        "# #     decay_rate=0.9)\n",
        "\n",
        "# # https://keras.io/api/optimizers/\n",
        "# # https://keras.io/examples/nlp/pretrained_word_embeddings/\n",
        "# # https://keras.io/api/layers/base_layer/#layer-class\n",
        "\n",
        "# # optimizer = Adadelta(learning_rate=0.001, rho=0.95, epsilon=1e-07, name=\"Adadelta\") \n",
        "# #optimizer = SGD(learning_rate=0.01, momentum=0.0, nesterov=True, name=\"SGD\")\n",
        "# #optimizer = RMSprop(learning_rate=0.001,rho=0.9,momentum=0.0,epsilon=1e-07,centered=True,name=\"RMSprop\")\n",
        "# #optimizer = Adam(learning_rate=0.001, beta_1=0.9, beta_2=0.999, epsilon=1e-07, amsgrad=True, name=\"Adam\")\n",
        "# #optimizer = Adagrad(learning_rate=0.001, initial_accumulator_value=0.1, epsilon=1e-07, name=\"Adagrad\")\n",
        "# #optimizer = Adamax(learning_rate=0.001, beta_1=0.9, beta_2=0.999, epsilon=1e-07, name=\"Adamax\")\n",
        "# optimizer = Nadam(learning_rate=0.001, beta_1=0.9, beta_2=0.999, epsilon=1e-07, name=\"Nadam\") # 96% Embedding Treinado /\n",
        "# #optimizer = Ftrl(learning_rate=0.001, learning_rate_power=-0.5, initial_accumulator_value=0.1, l1_regularization_strength=0.1, l2_regularization_strength=0.1, l2_shrinkage_regularization_strength=0.001, beta=0.0001, name=\"Ftrl\")\n",
        "\n",
        "# # # defininindo a camada de embedding utilizando a matriz\n",
        "# # embedding_layer = Embedding(input_dim=MATRIZ_CBOW_300_BASE_2.shape[0],\n",
        "# #                             output_dim=MATRIZ_CBOW_300_BASE_2.shape[1],\n",
        "# #                             # weights=[MATRIZ_CBOW_300_BASE_2],\n",
        "# #                             embeddings_initializer=keras.initializers.Constant(MATRIZ_CBOW_300_BASE_2),\n",
        "# #                             input_length=tam_max,\n",
        "# #                             trainable=False)\n",
        "\n",
        "\n",
        "# model = Sequential()\n",
        "# # primeira camada se trata do embedding. \n",
        "# # model.add(embedding_layer)\n",
        "# model.add(Embedding(tam_vocab, embedding_dimen, input_length=tam_max)) \n",
        "\n",
        "\n",
        "# # camada convolucional\n",
        "# # filtros referentes ao output dessa camada,\n",
        "# # tamanho nucleo = 3, se tratando apenas de uma dimensão (conv1d)\n",
        "# # padding 'valid' = sem padding\n",
        "# # função de ativação = relu\n",
        "# model.add(Dropout(drp))\n",
        "# model.add(Conv1D(filtros, kernel_size, padding='same', activation='relu', strides=1))\n",
        "# model.add(Conv1D(filtros, kernel_size, padding='same', activation='relu', strides=1))\n",
        "# model.add(Dropout(drp))\n",
        "# model.add(MaxPooling1D())\n",
        "\n",
        "\n",
        "# # camada convolucional                         'valid|same'\n",
        "# model.add(Conv1D(filtros, kernel_size, padding='same', activation='relu', strides=1))\n",
        "# model.add(Conv1D(filtros, kernel_size, padding='same', activation='relu', strides=1))\n",
        "# model.add(Dropout(drp))\n",
        "# model.add(MaxPooling1D())\n",
        "\n",
        "\n",
        "# # nivela o output para utilização na camada densa\n",
        "# model.add(Flatten())\n",
        "\n",
        "# # regularização por dropout\n",
        "# model.add(Dense(2, activation='softmax'))\n",
        "\n",
        "\n",
        "# model.compile(loss=tf.keras.losses.SparseCategoricalCrossentropy(from_logits=True), optimizer=optimizer, metrics=['accuracy']) \n",
        "# model.summary()\n",
        "\n",
        "# # Fit the model                                                                                               #val split\n",
        "# history = model.fit(X_train, y_train, batch_size=batchsize, epochs=epochs,validation_data=(X_test, y_test), validation_split = 0.3, verbose=2)\n",
        "\n",
        "# # Final evaluation of the model\n",
        "# scores = model.evaluate(X_test, y_test, verbose=1)"
      ],
      "metadata": {
        "id": "vrC1KA9FLUK1"
      },
      "execution_count": 173,
      "outputs": []
    },
    {
      "cell_type": "code",
      "source": [
        "# # plot dos gráficos\n",
        "# plot_accuracy(history)\n",
        "# plot_loss(history)"
      ],
      "metadata": {
        "id": "WY8X0khP0x8w"
      },
      "execution_count": 174,
      "outputs": []
    },
    {
      "cell_type": "code",
      "source": [
        "tf.keras.utils.plot_model(model1, to_file='/meuarquivo.png', show_shapes=True)"
      ],
      "metadata": {
        "id": "SqzyjKSXJ6Tq",
        "outputId": "0ac3acdf-2b4c-40fc-d011-ecaad8814f94",
        "colab": {
          "base_uri": "https://localhost:8080/",
          "height": 754
        }
      },
      "execution_count": 175,
      "outputs": [
        {
          "output_type": "execute_result",
          "data": {
            "text/plain": [
              "<IPython.core.display.Image object>"
            ],
            "image/png": "[encoded data removed]"
          },
          "metadata": {},
          "execution_count": 175
        }
      ]
    }
  ]
}