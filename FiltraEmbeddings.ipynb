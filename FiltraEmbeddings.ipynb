{
  "nbformat": 4,
  "nbformat_minor": 0,
  "metadata": {
    "kernelspec": {
      "display_name": "Python 3",
      "language": "python",
      "name": "python3"
    },
    "language_info": {
      "codemirror_mode": {
        "name": "ipython",
        "version": 3
      },
      "file_extension": ".py",
      "mimetype": "text/x-python",
      "name": "python",
      "nbconvert_exporter": "python",
      "pygments_lexer": "ipython3",
      "version": "3.6.5"
    },
    "colab": {
      "name": "FiltraEmbeddings.ipynb",
      "provenance": [],
      "collapsed_sections": [],
      "include_colab_link": true
    }
  },
  "cells": [
    {
      "cell_type": "markdown",
      "metadata": {
        "id": "view-in-github",
        "colab_type": "text"
      },
      "source": [
        "<a href=\"https://colab.research.google.com/github/LuanPCunha/TCC/blob/main/FiltraEmbeddings.ipynb\" target=\"_parent\"><img src=\"https://colab.research.google.com/assets/colab-badge.svg\" alt=\"Open In Colab\"/></a>"
      ]
    },
    {
      "cell_type": "code",
      "metadata": {
        "id": "UdLrR1yH2awc",
        "colab": {
          "base_uri": "https://localhost:8080/"
        },
        "outputId": "d0ffb470-f50d-4827-de1e-6dc2f162470c"
      },
      "source": [
        "from google.colab import drive\n",
        "drive.mount('/content/drive')"
      ],
      "execution_count": null,
      "outputs": [
        {
          "output_type": "stream",
          "text": [
            "Mounted at /content/drive\n"
          ],
          "name": "stdout"
        }
      ]
    },
    {
      "cell_type": "markdown",
      "metadata": {
        "id": "Et7svvxW7cEv"
      },
      "source": [
        "# Extrai palavras unicas para uma lista"
      ]
    },
    {
      "cell_type": "code",
      "source": [
        "from google.colab import drive\n",
        "drive.mount('/content/drive')"
      ],
      "metadata": {
        "colab": {
          "base_uri": "https://localhost:8080/"
        },
        "id": "kK2PZvQcj7mt",
        "outputId": "bdb15abb-3528-4cfc-a12b-975ac050b025"
      },
      "execution_count": null,
      "outputs": [
        {
          "output_type": "stream",
          "name": "stdout",
          "text": [
            "Mounted at /content/drive\n"
          ]
        }
      ]
    },
    {
      "cell_type": "code",
      "metadata": {
        "id": "gtJvWMos1c_u"
      },
      "source": [
        "import pandas as pd"
      ],
      "execution_count": null,
      "outputs": []
    },
    {
      "cell_type": "code",
      "metadata": {
        "id": "9KgrH9_31fKg"
      },
      "source": [
        "dfx = pd.read_csv('/content/drive/MyDrive/TCC/dados/processadas/Base1_classificada.csv')"
      ],
      "execution_count": null,
      "outputs": []
    },
    {
      "cell_type": "code",
      "metadata": {
        "id": "EhCZk-v11fBl",
        "colab": {
          "base_uri": "https://localhost:8080/",
          "height": 226
        },
        "outputId": "c26c61f0-01f6-45cc-882b-9fa6c75da91e"
      },
      "source": [
        "dfx.head(2)"
      ],
      "execution_count": null,
      "outputs": [
        {
          "output_type": "execute_result",
          "data": {
            "text/plain": [
              "   Unnamed: 0               id_str                      created_at  \\\n",
              "0           1  1270005650945343489  Mon Jun 08 14:51:57 +0000 2020   \n",
              "1           2  1270002784742539264  Mon Jun 08 14:40:34 +0000 2020   \n",
              "\n",
              "                                                text entities.hashtags  \\\n",
              "0  RT @franciscoedi11: @allantercalivre Eu queria...                []   \n",
              "1  @allantercalivre @EdnaBraga Gostei da pulseira...                []   \n",
              "\n",
              "     place.full_name                                         text_limpo  \\\n",
              "0                NaN  retwet eu queria compartilhar mas antes eu gos...   \n",
              "1  Sao Paulo, Brazil  gostei da pulseira e da educação dele nossaaa ...   \n",
              "\n",
              "  classificacao_hate classificacao_badword  \n",
              "0           not_hate           not_badword  \n",
              "1           not_hate           not_badword  "
            ],
            "text/html": [
              "\n",
              "  <div id=\"df-76b17f6d-5f0c-4eb6-8973-2ab55e4ee98e\">\n",
              "    <div class=\"colab-df-container\">\n",
              "      <div>\n",
              "<style scoped>\n",
              "    .dataframe tbody tr th:only-of-type {\n",
              "        vertical-align: middle;\n",
              "    }\n",
              "\n",
              "    .dataframe tbody tr th {\n",
              "        vertical-align: top;\n",
              "    }\n",
              "\n",
              "    .dataframe thead th {\n",
              "        text-align: right;\n",
              "    }\n",
              "</style>\n",
              "<table border=\"1\" class=\"dataframe\">\n",
              "  <thead>\n",
              "    <tr style=\"text-align: right;\">\n",
              "      <th></th>\n",
              "      <th>Unnamed: 0</th>\n",
              "      <th>id_str</th>\n",
              "      <th>created_at</th>\n",
              "      <th>text</th>\n",
              "      <th>entities.hashtags</th>\n",
              "      <th>place.full_name</th>\n",
              "      <th>text_limpo</th>\n",
              "      <th>classificacao_hate</th>\n",
              "      <th>classificacao_badword</th>\n",
              "    </tr>\n",
              "  </thead>\n",
              "  <tbody>\n",
              "    <tr>\n",
              "      <th>0</th>\n",
              "      <td>1</td>\n",
              "      <td>1270005650945343489</td>\n",
              "      <td>Mon Jun 08 14:51:57 +0000 2020</td>\n",
              "      <td>RT @franciscoedi11: @allantercalivre Eu queria...</td>\n",
              "      <td>[]</td>\n",
              "      <td>NaN</td>\n",
              "      <td>retwet eu queria compartilhar mas antes eu gos...</td>\n",
              "      <td>not_hate</td>\n",
              "      <td>not_badword</td>\n",
              "    </tr>\n",
              "    <tr>\n",
              "      <th>1</th>\n",
              "      <td>2</td>\n",
              "      <td>1270002784742539264</td>\n",
              "      <td>Mon Jun 08 14:40:34 +0000 2020</td>\n",
              "      <td>@allantercalivre @EdnaBraga Gostei da pulseira...</td>\n",
              "      <td>[]</td>\n",
              "      <td>Sao Paulo, Brazil</td>\n",
              "      <td>gostei da pulseira e da educação dele nossaaa ...</td>\n",
              "      <td>not_hate</td>\n",
              "      <td>not_badword</td>\n",
              "    </tr>\n",
              "  </tbody>\n",
              "</table>\n",
              "</div>\n",
              "      <button class=\"colab-df-convert\" onclick=\"convertToInteractive('df-76b17f6d-5f0c-4eb6-8973-2ab55e4ee98e')\"\n",
              "              title=\"Convert this dataframe to an interactive table.\"\n",
              "              style=\"display:none;\">\n",
              "        \n",
              "  <svg xmlns=\"http://www.w3.org/2000/svg\" height=\"24px\"viewBox=\"0 0 24 24\"\n",
              "       width=\"24px\">\n",
              "    <path d=\"M0 0h24v24H0V0z\" fill=\"none\"/>\n",
              "    <path d=\"M18.56 5.44l.94 2.06.94-2.06 2.06-.94-2.06-.94-.94-2.06-.94 2.06-2.06.94zm-11 1L8.5 8.5l.94-2.06 2.06-.94-2.06-.94L8.5 2.5l-.94 2.06-2.06.94zm10 10l.94 2.06.94-2.06 2.06-.94-2.06-.94-.94-2.06-.94 2.06-2.06.94z\"/><path d=\"M17.41 7.96l-1.37-1.37c-.4-.4-.92-.59-1.43-.59-.52 0-1.04.2-1.43.59L10.3 9.45l-7.72 7.72c-.78.78-.78 2.05 0 2.83L4 21.41c.39.39.9.59 1.41.59.51 0 1.02-.2 1.41-.59l7.78-7.78 2.81-2.81c.8-.78.8-2.07 0-2.86zM5.41 20L4 18.59l7.72-7.72 1.47 1.35L5.41 20z\"/>\n",
              "  </svg>\n",
              "      </button>\n",
              "      \n",
              "  <style>\n",
              "    .colab-df-container {\n",
              "      display:flex;\n",
              "      flex-wrap:wrap;\n",
              "      gap: 12px;\n",
              "    }\n",
              "\n",
              "    .colab-df-convert {\n",
              "      background-color: #E8F0FE;\n",
              "      border: none;\n",
              "      border-radius: 50%;\n",
              "      cursor: pointer;\n",
              "      display: none;\n",
              "      fill: #1967D2;\n",
              "      height: 32px;\n",
              "      padding: 0 0 0 0;\n",
              "      width: 32px;\n",
              "    }\n",
              "\n",
              "    .colab-df-convert:hover {\n",
              "      background-color: #E2EBFA;\n",
              "      box-shadow: 0px 1px 2px rgba(60, 64, 67, 0.3), 0px 1px 3px 1px rgba(60, 64, 67, 0.15);\n",
              "      fill: #174EA6;\n",
              "    }\n",
              "\n",
              "    [theme=dark] .colab-df-convert {\n",
              "      background-color: #3B4455;\n",
              "      fill: #D2E3FC;\n",
              "    }\n",
              "\n",
              "    [theme=dark] .colab-df-convert:hover {\n",
              "      background-color: #434B5C;\n",
              "      box-shadow: 0px 1px 3px 1px rgba(0, 0, 0, 0.15);\n",
              "      filter: drop-shadow(0px 1px 2px rgba(0, 0, 0, 0.3));\n",
              "      fill: #FFFFFF;\n",
              "    }\n",
              "  </style>\n",
              "\n",
              "      <script>\n",
              "        const buttonEl =\n",
              "          document.querySelector('#df-76b17f6d-5f0c-4eb6-8973-2ab55e4ee98e button.colab-df-convert');\n",
              "        buttonEl.style.display =\n",
              "          google.colab.kernel.accessAllowed ? 'block' : 'none';\n",
              "\n",
              "        async function convertToInteractive(key) {\n",
              "          const element = document.querySelector('#df-76b17f6d-5f0c-4eb6-8973-2ab55e4ee98e');\n",
              "          const dataTable =\n",
              "            await google.colab.kernel.invokeFunction('convertToInteractive',\n",
              "                                                     [key], {});\n",
              "          if (!dataTable) return;\n",
              "\n",
              "          const docLinkHtml = 'Like what you see? Visit the ' +\n",
              "            '<a target=\"_blank\" href=https://colab.research.google.com/notebooks/data_table.ipynb>data table notebook</a>'\n",
              "            + ' to learn more about interactive tables.';\n",
              "          element.innerHTML = '';\n",
              "          dataTable['output_type'] = 'display_data';\n",
              "          await google.colab.output.renderOutput(dataTable, element);\n",
              "          const docLink = document.createElement('div');\n",
              "          docLink.innerHTML = docLinkHtml;\n",
              "          element.appendChild(docLink);\n",
              "        }\n",
              "      </script>\n",
              "    </div>\n",
              "  </div>\n",
              "  "
            ]
          },
          "metadata": {},
          "execution_count": 6
        }
      ]
    },
    {
      "cell_type": "code",
      "metadata": {
        "id": "T0pXmaCJ1e5L"
      },
      "source": [
        "palavras_unicas = list(dfx['text_limpo'].str.split(' ', expand=True).stack().unique())"
      ],
      "execution_count": null,
      "outputs": []
    },
    {
      "cell_type": "code",
      "metadata": {
        "colab": {
          "base_uri": "https://localhost:8080/"
        },
        "id": "PQoI3jqLFMJi",
        "outputId": "f63ab2b1-d46a-4255-a69a-c07fa32cd688"
      },
      "source": [
        "len(palavras_unicas)"
      ],
      "execution_count": null,
      "outputs": [
        {
          "output_type": "execute_result",
          "data": {
            "text/plain": [
              "52168"
            ]
          },
          "metadata": {},
          "execution_count": 8
        }
      ]
    },
    {
      "cell_type": "code",
      "metadata": {
        "id": "HAzpLio_3Cdr"
      },
      "source": [
        "with open('/content/drive/MyDrive/Colab Notebooks/baseFinal_so_label_texto_palavras_unicas.txt', 'w') as f:\n",
        "    for item in palavras_unicas:\n",
        "        f.write(\"%s\\n\" % item)"
      ],
      "execution_count": null,
      "outputs": []
    },
    {
      "cell_type": "markdown",
      "metadata": {
        "id": "NbKeOTSG7lVb"
      },
      "source": [
        "# Filtra os embeddings"
      ]
    },
    {
      "cell_type": "code",
      "metadata": {
        "id": "LZiDYSxL1NVq",
        "outputId": "d586e45c-279a-490e-df92-c19ab4c18ba0"
      },
      "source": [
        "g = open('./embeddings/baseFinal_so_label_texto_palavras_unicas.txt', encoding='utf-8')\n",
        "embeddings_de_interesse = list()\n",
        "contador = 0\n",
        "for line in g:\n",
        "    values = line.split()\n",
        "    word = values[0]\n",
        "    embeddings_de_interesse.append(word)\n",
        "g.close()\n",
        "\n",
        "print(embeddings_de_interesse)"
      ],
      "execution_count": null,
      "outputs": [
        {
          "output_type": "stream",
          "text": [
            "['policial', 'é', 'estuprada', 'por', 'oito', 'menores', 'e', 'morta', 'com', '32', 'facadas', 'na', 'zona', 'norte', 'do', 'rio', 'de', 'janeiro', 'veja', 'o', 'resultado', 'uma', 'batida', 'casa', 'das', 'lideranças', 'acampamento', 'inocente', 'mst', 'no', 'município', 'descalvado', 'sp', '2009', 'jair', 'bolsonaro', 'tinha', 'conta', 'bancária', '5', 'mil', 'dois', 'carros', 'mobilete', 'duas', 'bicicletas', 'seis', 'varas', 'pescar', '2019', 'tem', 'r', '18', 'milhões', 'casas', 'nove', 'moto', 'aquática', '12', 'apartamentos', 'investimentos', 'milionários', 'engraçado', 'mundo', 'todo', 'critica', 'trump', 'fazer', 'um', 'muro', 'para', 'evitar', 'a', 'entrada', 'ilegais', 'pelo', 'méxico', 'mas', 'ninguém', 'fala', 'nada', 'sobre', 'que', 'já', 'construiu', 'em', 'toda', 'fronteira', 'isolando', 'guatemala', 'temos', 'roubar', 'mais', 'anos', '337', 'dias', 'alguém', 'reclamar', 'os', 'petistas', 'sendo', 'ridicularizados', 'capa', 'jornal', 'francês', 'charlie', 'hebdo', 'fazenda', 'filho', 'lula', 'orçada', '50', 'reais', 'vamos', 'mostrar', 'quem', 'luta', 'pela', 'paz', 'coloque', 'faixa', 'bem', 'grande', 'sua', 'dizeres', 'residência', 'livre', 'armas', 'não', 'hora', 'combater', 'fome', 'miséria', 'muito', 'menos', 'analfabetismo', 'pt', 'comunismo', 'juntos', 'todos', 'moradores', 'brasil', 'podem', 'alegar', 'efetiva', 'necessidade', 'posse', 'isso', 'significa', 'qualquer', 'poderá', 'ter', 'arma', 'cumprindo', 'requisitos', 'cidadão', 'resto', 'da', 'vida', 'referendo', 'realizado', '2005', 'eleitores', 'brasileiros', 'votaram', 'favor', 'liberalização', 'foi', 'respeitado', 'governo', 'primeiro', 'passo', 'parar', 'consumo', 'açúcar', 'sem', 'seu', 'corpo', 'as', 'células', 'cancerígenas', 'morrem', 'naturalmente', 'segundo', 'misturar', 'fruta', 'limão', 'xícara', 'água', 'quente', 'beber', 'durante', '1', '3', 'meses', 'acordo', 'pesquisa', 'escola', 'medicina', 'maryland', '1000', 'vezes', 'melhor', 'quimioterapia', 'terceiro', 'colheres', 'óleo', 'coco', 'org', 'nico', 'manhã', 'noite', 'c', 'ncer', 'desaparecerá', 'aumentar', '20', 'número', 'leitos', 'nos', 'hospitais', 'municipais', 'até', 'final', '2018', 'assumir', 'gestão', '16', 'upas', 'estaduais', 'localizadas', 'criar', 'maternidade', 'ao', 'lado', 'hospital', 'pediátrico', 'nossa', 'senhora', 'loreto', 'ilha', 'governador', 'política', 'incentivos', 'forças', 'segurança', 'erj', 'baseada', 'atingimento', 'metas', 'melhoria', 'sensação', 'avaliação', 'desempenho', 'policiais', 'aisp', 'área', 'integrada', 'pública', 'partir', 'uso', 'periódico', 'pesquisas', 'vitimização', 'ampliar', 'horas', 'prazo', 'utilização', 'bilhete', 'único', 'carioca', 'hoje', 'esse', 'meia', 'estender', 'metr', 'exigir', 'concessionárias', 'operam', 'sistema', 'brt', 'cidade', 'aumento', 'frota', 'reduzir', 'superlotação', 'desconforto', 'dos', 'passageiros', 'viagens', 'garantir', 'iss', 'recolhido', 'uber', 'originadas', 'deixe', 'ir', 'são', 'paulo', 'seja', 'utilizado', 'exclusivamente', 'financiar', 'programa', 'subsídios', 'voltados', 'modernização', 'manutenção', 'táxi', 'ser', 'implantado', 'afrontando', 'sérgio', 'moro', 'bahia', 'rui', 'costa', 'se', 'declara', 'novo', 'presidente', 'república', 'nordeste', 'articula', 'união', 'vermelho', 'contra', 'crime', '7', 'tira', 'meio', 'milhão', 'pessoas', 'pobreza', 'medo', 'auditoria', 'causa', 'debandada', 'beneficiários', 'bolsa', 'família', 'avião', 'us', 'pago', 'dinheiro', 'povo', 'brasileiro', 'riqueza', 'lulinha', 'sócio', 'majoritário', 'frigoríficos', 'jbs', 'oi', 'polícia', 'federal', 'descobre', '200', 'suíça', 'dá', 'lhe', '60', 'chefes', 'organizado', 'ceará', 'levados', 'prisão', 'aos', 'poucos', 'super', 'ministro', 'justiça', 'mostra', 'força', 'notem', 'estão', 'saudáveis', 'prontos', 'fazerem', 'estradas', 'ferrovias', 'autoriza', 'execução', 'dívida', 'globo', '358', 'impostos', 'sonegados', 'promotor', 'manda', 'prender', 'lutadora', 'ufc', 'reagiu', 'assalto', 'espancou', 'criminoso', 'acaba', 'assinar', 'decreto', 'fim', 'carnaval', 'parada', 'gay', 'urgente', 'guedes', 'anunciar', 'bandido', 'auxílio', 'reclusão', 'está', 'ocorrendo', 'VERDADEIRO', 'massacre', 'mato', 'grosso', 'sul', 'indígenas', 'assassinados', 'foto', 'mãe', 'indígena', 'agredida', 'chegamos', '70', 'votos', 'distrito', '300', 'desempregados', 'primeira', 'vez', 'história', 'empresário', 'dirigindo', 'comandando', 'destinos', 'estado', 'vou', 'doar', 'meus', 'salários', 's', 'instituições', 'humanitárias', 'como', 'fiz', 'longo', '15', 'prefeitura', 'atendimento', 'poupatempo', 'quase', '100', 'aprovação', 'pesa', 'orçamento', 'questão', 'previdência', 'varia', 'pouco', 'ano', 'atrás', 'eram', 'torno', '4', 'ações', 'trabalhistas', 'molecada', 'idade', 'sabe', 'regra', 'três', 'simples', 'problema', 'estatuto', 'desarmamento', 'optou', 'direito', 'compra', 'munições', 'ocasião', 'minha', 'gratidão', 'psl', 'desde', 'momento', 'acreditaram', 'candidato', 'pros', 'eleito', 'eduardo', 'lei', 'brasileira', 'inclusão', 'lbi', 'parabéns', 'oab', 'intensificar', 'fiscalização', 'irá', 'permitir', 'deputado', 'tulho', 'gadeia', 'sic', 'namorado', 'fátima', 'bernardes', 'inscrição', 'realização', 'prova', 'exame', 'ordem', 'dada', 'agenda', 'dificuldade', 'casamento', 'preta', 'gil', 'roubanet', 'pasmem', '2', 'avisa', 'michele', 'regulamenta', 'profissão', 'tradutor', 'intérprete', 'língua', 'sinais', 'libras', 'maria', 'rosário', 'marido', 'votou', 'desafio', 'enfrentar', 'efeitos', 'desemprego', 'recorde', 'quando', 'população', 'nas', 'urnas', 'legítima', 'defesa', 'eu', 'fui', 'campanha', 'barata', 'vai', 'beneficiar', 'crianças', 'entre', '0', 'investimento', 'criança', 'feliz', 'será', 'bilhão', 'cada', 'nível', 'federativo', 'deverão', 'organizados', 'comitês', 'gestores', 'serão', 'disponibilizadas', 'vagas', 'cursos', 'profissionalizantes', 'entregar', 'selos', 'reconhecimento', 'municípios', 'realizarem', 'tornarem', 'amigos', 'pessoa', 'idosa', 'há', 'estudos', 'apontam', '40', 'estudantes', 'ensino', 'superior', 'analfabetos', 'funcionais', 'somos', 'último', 'lugar', 'nota', 'pisa', 'dobrou', 'gasto', 'educação', 'qualidade', 'caiu', 'provas', 'comprovam', 'estou', 'falando', '9', 'série', 'fundamental', 'nem', 'sequer', 'só', 'nessa', 'cpi', 'maus', 'tratos', 'aprovamos', 'projetos', 'tratam', 'proteção', 'cuidado', 'maconha', 'componente', 'chamado', 'canabidiol', 'subst', 'ncia', 'química', 'serve', 'têm', 'convulsão', 'ou', 'epilepsia', 'essa', 'maior', 'nação', 'católica', 'desarmado', 'você', 'quer', 'coisa', 'vexatória', 'aqui', 'upp', 'ali', 'morro', 'alemão', 'centenas', 'fugindo', 'fuzil', 'costas', 'levando', 'mortes', 'habitantes', 'violento', 'banco', 'aumentou', 'patrim', 'nio', 'últimos', 'quatro', 'correios', 'dava', 'prejuízo', 'nesse', 'semestre', 'apresentou', 'positivo', 'logo', 'dezembro', '2016', 'crescimento', 'pib', 'era', 'negativo', '36', 'seguinte', '2017', 'nós', 'liberamos', 'essas', 'contas', 'inativas', 'fgts', 'injetou', '44', 'bilhões', 'economia', 'terminar', 'mandato', 'for', 'reeleito', 'nenhuma', 'comunidade', 'poder', 'paralelo', 'novas', 'unidades', 'bibliotecas', 'parque', 'levarão', 'jovens', 'dessas', 'comunidades', 'oficinas', 'música', 'teatro', 'dança', 'línguas', 'ferramentas', 'estudo', 'vestibular', 'acesso', 'gratuito', 'internet', 'estúdios', 'gravação', 'programação', 'design', 'gráfico', 'outras', 'atividades', 'mayra', 'grita', 'miss', 'universo', 'desclassificada', 'mulher', 'francesa', 'branca', 'certa', 'provavelmente', 'também', 'cristã', 'covarde', 'brutalmente', 'espancada', 'redução', 'índices', 'relacionados', 'roubo', 'rua', 'integrar', 'chamadas', 'emergência', '190', '193', '197', '199', 'rj', 'unificado', 'letalidade', 'violenta', 'veículos', 'carga', 'dominar', 'terra', 'infiéis', 'diz', 'líder', 'religioso', 'islã', 'filme', 'corpus', 'christi', 'diretor', 'safado', 'jean', 'wyllys', 'exibido', 'cinemas', 'patrocínio', 'rouanet', 'este', 'jesus', 'seus', 'discípulos', 'gays', 'juiz', 'marco', 'aurélio', 'amigo', 'fidel', 'reserva', 'yanomami', 'talvez', 'índios', 'região', 'sudeste', 'demarcada', 'expulso', 'universidade', 'cai', 'apanha', 'pisoteado', 'chegar', 'efetivo', 'militares', 'batalhões', 'militar', 'araruama', 'nova', 'iguaçu', 'itaguaí', 'implantação', 'rede', 'corredores', 'metropolitanos', 'integrando', 'linhas', 'rápidas', 'nibus', 'metropolitana', 'inaugurados', 'regional', 'alta', 'complexidade', 'médio', 'paraíba', 'construção', 'sede', 'imagem', 'niterói', 'colocar', 'ideb', 'novos', 'trens', 'possibilitará', 'sejam', 'refrigerados', 'pra', 'ainda', 'eis', 'motivo', 'tanta', 'fúria', 'senadora', 'gleisi', 'convidou', 'dezenas', 'ativistas', 'lgbt', 'cut', 'mtst', 'etc', 'ele', 'próprio', 'disse', 'usar', 'uniforme', 'guarda', 'bolivariana', 'cubana', 'ficará', 'convidados', 'galeria', 'existe', 'emblemática', 'esta', 'aécio', 'beijando', 'cinco', 'colunista', 'folha', 'patrícia', 'mello', 'condenada', 'pagar', 'acusá', 'lo', 'propagar', 'fake', 'news', 'celular', 'nicolás', 'maduro', '1984', 'proibida', 'venezuela', 'atual', 'príncipe', 'saudí', 'kahtani', '51', 'esposa', 'nawaf', '6', 'arábia', 'preside', 'comissão', 'direitos', 'humanos', 'onu', 'concluir', 'trecho', 'rodoanel', 'dist', 'semipresencial', 'virtual', 'univesp', 'implantar', 'vigil', 'interna', 'externa', 'presídios', 'drones', 'promover', 'criação', 'parques', 'tecnológicos', 'especializados', 'tecnologias', 'verdes', 'gosta', 'dele', 'vá', 'canadá', 'algo', 'assim', 'coaf', 'cola', 'assinatura', 'aparece', 'livro', 'ouro', 'porteiros', 'condomínio', 'onde', 'mora', 'creches', 'públicas', 'violência', 'segmentos', 'especialmente', 'mulheres', 'déficit', 'habitacional', 'recursos', 'cultura', 'desenvolver', 'transporte', 'intermodal', 'assassino', 'campinas', 'filiado', 'atirando', 'indiscriminadamente', 'local', 'arnold', 'schwarzenegger', 'hotel', 'oportunidade', 'administração', 'recusou', 'dar', 'quarto', 'bela', 'feita', 'padre', 'paroquianos', 'catedral', 'vão', 'demitidos', '180', 'matou', 'cachorro', 'carrefour', 'espancado', 'populares', 'osasco', 'jovem', 'camila', 'ferraz', 'participou', 'olimpíada', 'matemática', 'yale', 'representando', 'colégio', 'brasília', 'tirou', 'medalha', 'estivesse', 'rebolando', 'estava', 'famosa', 'quanto', 'rei', 'roberto', 'carlos', 'aqueles', 'shows', 'cruzeiros', '150', 'principal', 'aliado', 'amapá', 'preso', 'pf', 'diversos', 'crimes', 'pedia', 'corrupção', 'extra', 'renuncia', 'presidência', 'antes', '16h17', 'comunicado', 'oficial', 'messias', 'futuro', 'cargo', 'matéria', 'íntegra', 'enquanto', 'falam', 'continência', 'americano', 'deixá', 'los', 'esquecer', 'referência', 'joelho', 'fez', 'ditadores', 'hugo', 'chávez', 'evo', 'morales', 'comunistas', 'terroristas', 'movimento', '8', 'outubro', 'lewandowski', 'montagem', 'fotos', 'usando', 'camisas', 'times', 'diferentes', 'coloco', 'negros', 'mesmo', 'balde', 'muitos', 'dizem', 'aí', 'escolha', 'negro', 'azar', 'jogo', 'triplo', 'paris', 'ministério', 'liberou', '89', 'ufrj', 'contratar', 'empresa', 'responsável', 'obras', 'emergenciais', 'reconstrução', 'museu', 'nacional', 'desenvolvimento', 'mostrou', 'rentável', 'tendo', 'multiplicado', 'nele', 'brics', 'investimos', 'instituição', 'aprovou', 'financiamento', 'somam', 'dobro', 'daquele', 'capital', 'proporção', 'fontes', 'renováveis', 'matriz', 'energética', 'supera', 'frente', 'média', 'mundial', 'passa', '14', 'própria', 'constituição', 'determina', 'espécie', 'integração', 'américa', 'latina', 'cúpula', 'g20', 'g20argentina', 'deve', 'chance', 'pezão', 'continuidade', 'legado', 'iniciado', 'cabral', 'relação', 'turno', 'eleição', 'representa', 'honestidade', 'precisa', 'aecio45', 'pezao15', 'minas', 'gerais', 'conseguiu', 'autorizar', 'estudante', '21', 'brinquedo', 'gizelle', 'leitte', 'agiu', 'demasiada', 'deu', 'chances', 'assaltante', 'sabia', 'arrecadação', 'veículo', 'mercosul', 'destinado', 'entidade', 'internacional', 'renac', 'reconstrucción', 'cuba', 'graduação', 'tínhamos', '148', 'faculdades', '2013', 'fomos', '323', 'multiplicamos', 'santa', '1530', 'depois', 'encerramento', 'vínculo', 'médicos', 'retirou', 'cubanos', 'recertificar', 'médico', 'deixando', 'após', '74', 'capacitação', 'embaixador', 'china', 'li', 'jinzhang', 'invadiu', 'pesca', 'chinesa', 'barco', 'oceano', 'i', 'dilma', 'assinado', 'tratado', 'cedeu', '25', 'parte', 'ii', 'semana', 'satanismo', 'ufsc', 'dia', '13', 'novembro', 'cfh', 'gustavo', 'perrella', 'dono', 'helicóptero', 'pego', 'cheio', 'cocaína', 'nomeado', 'esportes', 'hotéis', 'origem', 'black', 'friday', 'vem', 'eua', 'época', 'escravidão', 'africanos', 'comercializados', 'preço', 'barato', 'grandes', 'proprietários', 'última', 'sexta', 'feira', 'quiser', 'aula', 'faça', 'gosto', 'salário', 'ganhar', 'peça', 'demissão', 'privado', 'pescadores', 'cadastrados', 'recebendo', 'hiilary', 'clinton', 'gostaria', 'ver', 'donald', 'concorrendo', 'cargos', 'políticos', 'eles', 'honestos', 'comprados', 'professor', 'ufpr', 'trabalhar', 'recebe', 'guerreiro', 'esmagadora', 'maioria', 'desses', '52', 'deputados', 'novinhos', 'mara', 'entrar', 'estar', 'desempregado', 'sou', 'votada', 'apresentei', 'propostas', 'psol', 'entrou', 'cassar', 'cabo', 'daciolo', '2015', 'trabalho', 'custou', 'cofres', 'públicos', '17', 'bonito', 'expoentes', 'mundiais', 'mostrando', 'admiração', 'respeito', 'vocês', 'conhecem', 'luiz', 'martins', 'bom', 'lixo', 'petista', 'vereadores', 'governadores', 'senadores', 'pagam', 'imposto', 'renda', 'contribuem', 'lembrando', 'bozo', 'aposentou', '33', 'atestado', 'insanidade', 'mental', 'exército', 'acabo', 'negócio', 'creche', 'comunitária', 'obrigação', 'olhar', 'outros', 'pais', 'raciocinem', 'existem', 'apenas', 'universidades', 'forma', 'ministros', 'stf', 'digo', 'penau', 'dependentes', 'legais', 'intercambista', 'estrangeiro', 'poderão', 'exercer', 'remuneradas', 'emissão', 'carteira', 'social', 'emprego', 'ternos', 'caros', 'advogados', 'adélio', 'audiência', 'santoro', 'veste', 'camiseta', 'nunca', 'precisou', 'médica', 'trabalha', 'pode', 'trazer', 'filhos', '885', 'país', 'atuando', 'aldeias', 'comprovação', 'realmente', 'estejam', 'aptos', 'desempenhar', 'função', 'quantos', 'pedidos', 'impeachments', 'prop', 'fhc', 'dúzia', 'fizer', 'análise', 'proporcional', 'ocupa', '30', 'posição', 'ranking', 'carcerária', 'temer', 'denúncias', 'votei', 'favorável', 'renan', 'calheiros', 'autor', 'projeto', 'abuso', 'autoridade', 'entra', 'impedir', 'olha', 'bispo', 'braços', 'dados', 'quadrilha', 'virada', 'cultural', 'mogi', 'muda', 'enem', 'escritora', 'mineira', 'conceição', 'evaristo', 'homenageada', 'portão', 'fecha', 'tempo', 'menor', 'documento', 'provisório', 'registro', 'migratório', 'usado', 'identificação', 'artigos', 'religiosos', 'revistados', 'eliminação', 'gabarito', 'sairá', 'domingo', 'perdeu', 'atrasado', 'segunda', 'falta', 'energia', 'proposta', 'concreta', 'tema', 'partido', 'tomou', 'maio', '2014', 'houve', 'decisão', 'teori', 'zavascki', 'colocou', 'liberdade', 'presos', 'lava', 'jato', 'voltou', 'sergio', 'confirmado', 'entrevista', 'coletiva', 'coleta', 'perfil', 'genético', 'acabou', 'confirmar', 'presença', 'acontece', 'elemento', 'andando', 'perto', 'favela', 'chuva', 'mão', 'queria', 'quê', 'correu', 'risco', 'culpa', 'suspensão', 'ruídos', 'tarde', 'evento', 'fórmula', 'avenida', 'paulista', 'fechada', 'cancelado', 'suspeitas', 'fraude', 'google', 'sugere', 'candidatos', 'devem', 'ajustar', 'horário', 'verão', 'manualmente', 'celulares', 'android', 'passando', 'lembrar', 'haddad', 'devido', 'greve', 'caminhoneiros', 'todas', 'foram', 'adiadas', 'declaro', 'guerra', 'bancada', 'agora', 'pegaremos', 'revolução', 'igual', '59', 'condenou', 'alberto', 'fraga', 'cadeia', 'aceita', 'junto', 'ponto', 'plano', 'investigar', 'lavagem', 'partidos', 'cláusula', 'barreira', 'extintos', 'nosso', 'serviço', 'comércio', 'denúncia', 'possível', 'urna', 'suzano', 'pró', 'adiar', 'jogada', 'picaretas', 'programadas', 'd', 'computados', 'hrs', 'perderão', 'datafolha', 'computou', 'voto', 'declarado', 'joão', 'doria', 'estávamos', 'teve', 'metade', 'prefeito', 'produção', 'etanol', 'exerci', 'concurso', 'público', 'porque', 'cícero', 'martinha', 'laranja', 'odisseia', 'fm', '104', 'brigada', 'serafina', 'corrêa', 'aprendeu', 'eletrônicas', 'estavam', 'preenchida', '81', 'apreensão', 'amazonas', 'estamos', 'kakay', 'vi', 'pronunciar', 'palavra', 'fascista', 'referir', 'general', 'mourão', 'vice', 'torturador', 'ontem', 'vídeo', 'grave', 'dizendo', 'adversários', 'terão', 'exílio', 'meu', 'inferior', 'diga', 'passagem', 'dentro', 'baixado', 'cama', 'cresci', 'ruas', 'coligação', 'tiveram', '500', 'coube', 'usei', 'desse', 'fundo', 'partidário', 'inglaterra', 'diminuiu', 'tributária', 'propaganda', 'chorando', 'amelinha', 'teles', 'esquartejou', 'nome', 'ditadura', 'proletariado', 'preocupação', 'saúde', 'comecei', 'santos', 'única', 'acirrada', 'robusto', '23', 'remuneração', 'paga', 'adversário', 'falou', 'nordestinos', 'deviam', 'comer', 'capim', 'tabela', 'frete', 'supremo', 'tribunal', 'declarou', 'constitucional', 'dei', 'havia', 'ameaça', 'extrema', 'direita', 'saber', 'seria', 'assembleia', 'legislativa', 'me', 'concedeu', 'título', 'cearense', 'manifesta', 'publicamente', 'apoio', 'atores', 'obedecem', 'emissora', 'apoiam', 'organização', 'adesaf', 'contratou', 'manteve', 'orçamentária', 'reduzindo', 'valor', 'márcio', 'frança', 'mandou', 'corte', '27', 'secretaria', 'agricultura', 'cpmf', 'secretário', 'geral', 'psc', 'subsecretário', 'estadual', 'abril', 'deste', 'paes', 'acabamos', 'ouvir', 'crivella', 'witzel', 'financia', 'jorge', 'picciani', 'rafael', 'pastor', 'everaldo', 'investigado', '65', 'deixei', 'declarar', 'rendimentos', 'receita', 'empresas', 'declaradas', 'eleitoral', 'gratificação', 'acúmulo', 'criada', 'congresso', 'outro', 'disputando', 'comigo', 'controle', 'mídia', 'propõe', 'estatais', 'esperar', 'atirar', 'reagir', 'queremos', 'mexer', 'código', 'penal', 'mudança', 'expulsos', 'crescendo', 'filiei', 'psb', 'campos', 'dr', 'miguel', 'arraes', 'praticamente', 'triplicamos', 'universitários', 'período', 'gás', 'cozinha', 'tinham', 'passaram', 'tentaram', 'censurá', 'la', 'via', 'civil', 'fazem', 'decidiu', 'comprar', 'castro', 'papo', 'antigo', 'espírito', 'santo', 'papel', 'disponível', 'seções', 'eleitorais', 'paciente', 'custa', 'caro', 'cortar', 'farra', 'atingi', '29', 'prevê', 'isenção', 'ganha', 'mínimos', 'defendida', 'trabalharemos', 'maioridade', 'deseja', 'sei', 'quebrando', 'placa', 'marielle', '9909', 'seção', '777', 'eleitora', 'tapa', 'aeromoça', 'cantarem', 'mito', 'basta', 'ela', 'escolhe', 'palocci', 'afirmou', 'eleições', 'decididas', 'encomendadas', 'fraudar', 'tse', 'dizer', 'confisco', 'poupança', 'exportar', 'carne', 'jumento', 'ué', 'animal', 'ciro', 'record', 'indica', 'haverá', 'branco', 'nulo', 'mesma', 'alterar', 'inserido', 'voltem', 'jegue', 'eletrônica', 'fabricada', 'smartmatic', 'digital', 'reconhecida', 'eleitor', 'votar', 'prende', 'van', '152', '121', 'preenchidas', '72', 'forem', 'anulados', 'inteira', 'anulada', 'sempre', 'agregado', 'iva', 'sozinho', 'berlinda', 'delações', 'relativas', 'psdb', 'pp', 'pmdb', 'represadas', 'estampava', 'manchete', 'popular', 'impresso', 'substituída', 'registrados', 'nela', 'perdem', 'fiscalizar', 'apuração', 'segredo', 'fernando', 'passar', 'últimas', 'campanhas', 'rousseff', 'gastou', 'ganhando', 'cara', 'confio', 'erra', 'aprende', 'erros', 'pedi', 'abertura', 'merenda', 'pedir', 'milícia', 'lá', 'rjtv', '2006', 'solução', 'setor', 'emprega', 'hudson', 'braga', 'delação', 'premiada', 'envolve', 'indio', 'trabalhando', 'capacidade', '28', 'debate', 'tv', 'colocado', 'esporte', 'romário', 'pedindo', 'abertamente', 'situação', 'fiscal', 'piores', 'pai', 'familiar', 'acho', 'deva', 'intrometer', 'julgar', 'atitude', 'desesperado', 'virtude', 'protestos', 'manifestações', 'ocorrer', 'nossos', 'convocados', 'travesti', 'publica', 'manifestação', 'antiga', 'esqueceram', 'apagar', 'prédio', 'traz', 'desmoronou', 'gastamos', '700', 'alguma', 'presidencial', 'satélite', 'comunicação', 'emendas', 'constitucionais', 'plenário', 'câmara', 'desistiram', 'procurar', 'mãos', 'dadas', 'fora', 'pec', 'teto', 'gastos', 'famílias', 'dependem', 'tripliquei', 'advogo', '1999', 'pegaram', 'bndes', '400', 'investiram', 'infraestrutura', 'aprovado', 'copacabana', 'elesim', 'aliás', 'coordenador', 'garotinho', 'cassado', 'geramos', 'empregos', 'assinada', 'skaf', 'cobrança', 'escolas', 'sesi', 'carcerário', 'abrigam', 'chegando', '85', 'esgoto', 'utilizam', 'cptm', 'diariamente', 'pronunciou', 'cláusulas', 'pétreas', 'reposição', 'inflacionária', 'ficou', 'defasada', 'completar', 'propriedade', 'cabe', 'decidir', 'menino', 'menina', 'versa', 'acatar', 'respeitosamente', 'sabemos', 'abre', 'rápido', 'apoiei', 'instalação', 'mostram', 'ganho', 'meirelles', 'gastando', '43', 'ganhou', 'aposentam', 'cedo', 'ganham', 'lares', 'liderados', 'vivendo', '140', 'mês', 'benção', 'mdb', 'al', 'apoiou', 'impeachment', 'descobrimos', 'máfia', 'marina', 'silva', 'mortalidade', 'infantil', 'confirma', 'convite', 'eventual', 'pronaf', 'recebeu', 'tantos', 'responde', '80', 'comida', 'mesa', '63', 'violentas', 'registradas', 'proporcionalmente', 'síria', 'inteligência', '250', 'neste', 'irão', 'morrer', 'hepatite', 'ideias', 'defendidas', 'escrevi', '1996', 'mangabeira', 'unger', 'superávit', 'primário', '53', 'judiciário', 'vedou', 'farmanguinhos', 'fiocruz', 'produzir', 'remédio', 'pretexto', 'guardar', 'patente', '35', 'representação', 'vítimas', 'doméstica', 'pediu', 'vivem', 'abaixo', 'linha', 'bispos', 'católicos', 'manifestaram', 'textualmente', 'reforma', 'trabalhista', 'pobres', 'atingidas', 'genéricos', 'dialogar', 'transparência', 'inspira', 'mensagem', 'papa', 'francisco', 'ts', 'foro', 'privilegiado', 'protetor', '55', 'autoridades', 'criei', 'estruturas', 'órgãos', 'sob', 'direção', 'exemplo', 'caixa', 'mandei', 'executivos', 'séria', 'pleito', 'apresentado', 'legítimo', 'razão', 'fragilidade', 'acusação', 'nenhum', 'tenha', 'aplicado', 'medida', 'bancos', 'inclusive', 'concentram', 'crédito', 'batia', 'gomes', 'pillar', 'fizeram', 'doações', 'beneficiados', 'absolutamente', 'leva', 'numa', 'comparação', 'condenado', 'eleitorado', 'sus', 'obrigado', 'atender', 'sexual', 'citação', 'falado', 'recebido', 'recurso', 'ilegal', '93', 'entregou', 'códigos', 'venezuelanos', 'negou', 'auditores', 'guiné', 'equatorial', 'tentar', 'dólares', 'coincidência', 'perdoou', 'bilionária', 'várias', 'bilionárias', 'feitas', 'acha', 'vicente', 'juventude', 'interessa', 'professora', 'deixou', '2008', 'intenções', '38', '26', 'comparar', 'maranhão', 'baixo', 'michel', 'convidado', 'convenção', 'viagem', 'exterior', 'naquele', 'paraná', 'registrado', 'vence', 'estados', 'elegê', 'sabatina', 'uol', 'sbt', 'setembro', 'partidária', 'proponho', 'limitado', 'suprema', 'alguns', 'países', 'ficaram', 'herdou', '325', 'ato', 'prol', 'tasso', 'jereissati', 'cometemos', 'questionamos', 'pauta', 'acreditávamos', 'prejudicar', 'embarcamos', 'entreguei', '22', 'faz', 'surpresa', 'esfaqueador', 'jamais', 'tivemos', 'criminalidade', 'propina', 'quadros', 'técnicos', 'assumi', 'responsabilidade', 'acidente', 'ciclovia', 'tim', 'maia', 'botão', 'p', 'tá', 'quero', 'funcionando', 'operacional', 'conversa', 'despesas', 'previdenciárias', '57', 'esfaqueia', 'provar', 'facada', 'falsa', 'morrendo', 'rompi', 'prendeu', 'fernandinho', 'beira', 'mar', 'mostrado', 'facebook', 'relator', 'processo', 'fazendo', 'liminar', 'conhecimento', 'vereadora', 'landerleide', 'assis', 'duarte', 'prp', 'candidata', 'governadora', 'chapa', 'demitiu', 'assessora', 'ligada', 'particularmente', 'tenho', 'feito', 'despesa', '10', 'recebo', 'verba', 'indenizatória', 'alvaro', 'podemos', 'apac', 'reduz', 'custo', 'virar', 'diminuindo', 'glo', 'garantia', 'vigor', 'intervenção', 'decretada', '90', 'antenas', 'anúncio', 'presidenciais', 'contestação', 'estourar', 'ncora', 'cambial', 'provocou', 'rombo', 'externas', 'monumental', 'prefeitos', 'comercial', 'rural', 'itens', 'acervo', 'perdido', 'edição', 'obra', 'lusíadas', 'vaz', 'camões', '1572', 'pergaminho', 'datado', 'século', 'xi', 'manuscritos', 'grego', 'evangelhos', 'exemplar', 'biblioteca', 'bíblia', 'mogúncia', '1462', 'impressa', 'conter', 'informações', 'data', 'impressão', 'nomes', 'impressores', 'alemães', 'johann', 'fust', 'peter', 'schoffer', 'ex', 'sócios', 'gutemberg', 'crônica', 'nuremberg', '1493', 'considerado', 'ilustrado', 'xv', 'mapas', 'xilogravados', 'tidos', 'antigos', 'poliglota', 'antuérpia', '1569', 'renomado', 'impressor', 'xvi', 'cristóvão', 'plantin', 'vejo', 'mínima', 'aposentar', 'aquela', 'ministra', 'ambiente', 'consegui', 'aprovar', 'leis', 'importantes', 'pasta', 'funcionários', 'acre', 'melhorou', 'significativamente', 'dito', '2010', 'aborto', 'defendido', 'além', 'plebiscito', 'exportação', 'facções', 'criminosas', 'invadido', 'quadrilhas', 'indicadores', 'pioraram', 'pediatras', 'licenciados', 'prometeram', 'congelar', 'diesel', 'aumentaram', 'pegou', 'leve', 'pouca', 'bagagem', 'carregue', 'consigo', 'pois', 'acontecendo', 'pede', 'geraldo', 'alckmin', 'comissionado', 'direcionar', 'vantagem', 'caso', 'rejeição', '69', 'iniciativa', 'privada', 'apóia', 'defende', 'agosto', 'ufmg', 'domésticas', 'licença', 'hidrelétricas', 'ant', 'jirau', 'produziram', 'combate', 'alunos', 'sete', 'proficiência', 'portuguesa', 'sabem', 'resolver', 'operações', 'claramente', 'preciso', 'ajuda', 'humanitária', 'capes', 'coordenação', 'aperfeiçoamento', 'pessoal', 'enorme', 'bolsonaru', 'bala', 'cv', 'aprovam', 'vale', 'parente', 'detento', 'lgbts', 'wellington', 'firmou', 'piauí', 'eólica', '2003', 'idh', 'índice', 'humano', 'consecutivo', 'piaui', 'homicídios', 'técnico', 'aprova', 'pedofilia', 'suzane', 'von', 'richthofen', '13666', 'deputada', 'susane', '45666', 'terminei', 'senador', 'comitê', 'reconhece', 'competência', 'órgão', 'violações', 'membros', 'pinheiro', 'interamericana', 'oea', 'prevenir', 'prática', 'escravo', 'moderno', 'tráfico', 'evasão', 'escolar', 'centros', 'aborda', 'elenque', 'principais', 'problemas', 'surgir', 'quinto', 'fundeb', 'sujeito', 'ente', 'federação', 'estabelece', 'resultante', 'fapesp', 'cobertura', 'etária', 'conclui', 'inquérito', 'triplex', 'guarujá', 'inocenta', 'indicia', 'dona', 'votariam', 'cenário', 'tudo', 'eficiência', 'quesito', 'pabllovittar', 'carreira', 'encerrada', 'viver', 'homem', 'esteja', 'portando', 'autorizarei', 'abater', 'engodo', 'votação', 'estratégico', 'divulgado', 'início', 'dela', 'morre', 'isp', 'disparando', 'piauiense', 'negra', 'diplomata', 'itamaraty', 'mata', 'prtb', 'lupi', 'processado', 'valer', 'respeitada', 'vontade', 'daquelas', 'decidiram', 'fogo', 'nordestinas', 'existia', 'dissemos', 'óbice', 'unidade', 'campo', 'esquerda', 'twitter', 'remove', 'menções', 'abrir', 'tecnologia', 'unidos', 'pegar', 'iphone', 'criado', 'silício', 'departamento', 'apple', 'financiou', 'universalização', 'serviços', 'telecomunicações', 'est', 'nia', 'terço', 'legislação', 'permite', 'manifestou', 'portanto', 'favoravelmente', 'porte', 'assassinatos', 'cerca', 'julgamento', 'banespa', 'iguatemi', 'ocorrido', '1968', 'usava', 'revólver', 'calibre', 'comparsas', 'levou', 'equivalente', '800', 'jornalista', 'miriam', 'leitão', 'arquivos', 'popularidade', 'bate', 'chega', '95', 'ibope', 'meta', 'voltar', 'crescer', 'aconteceu', 'central', 'homofóbico', 'declaração', 'homens', 'mercado', 'boca', 'botaram', 'citado', 'senhor', 'youssef', 'petrobras', 'fundão', 'revogaram', 'natalidade', 'transformando', 'urbana', 'senado', 'modificar', 'kandir', 'cobrar', 'icms', 'commodities', 'afastado', 'fizemos', 'cuidar', 'dizia', 'exterminar', 'democratas', '645', 'ganhei', '644', '56', 'mudou', 'sobrenome', 'terços', 'ficha', 'limpa', 'inst', 'sozinha', 'legislatura', '2007', 'revogação', 'termina', 'básico', 'interpretar', 'texto', 'matemáticas', 'melhora', 'pernambuco', 'encarou', 'privilégios', 'continuam', 'intactos', 'ministérios', 'superpostos', 'concorrentes', 'possuem', 'siglas', '73', 'fila', 'espera', 'aguardando', 'oficialização', 'espanha', 'acionista', 'lucros', 'dividendos', 'pagamento', 'juros', 'discutida', 'cnj', 'inventar', 'custódia', 'cresceu', 'pré', 'julho', 'fechou', 'indústrias', 'permitiu', 'descuidadamente', 'financeiro', 'concentrasse', 'transações', '153', 'trabalhados', 'quantidade', 'crowdfunding', 'morte', 'atingindo', 'promete', 'continuar', 'alistamento', 'sido', 'implementado', 'bernardo', '54', '68', 'trilhão', 'emite', 'operação', 'compromissada', 'qual', 'vencimento', 'destes', 'aposentadoria', 'analisada', 'principalmente', 'sequestro', 'resolvido', 'charles', 'lindbergh', 'década', '1920', 'passado', 'naqueles', 'lulu', 'carta', 'aberta', 'admitir', 'pedófilos', 'pedem', 'aceitos', 'criou', 'bi', 'incentivo', 'renúncia', '280', 'vladimir', 'herzog', 'violentos', 'presa', 'pensão', 'neto', 'sofreu', 'estupro', 'márcia', 'mutirão', 'catarata', 'lançada', 'iptu', 'igreja', 'inteiro', 'imunidade', 'vacinar', 'obrigatório', 'descumprem', 'perder', 'conjunto', 'deveriam', 'implantadas', 'gente', 'pensar', 'expansão', 'prometida', 'rodrigo', 'rollemberg', 'fórum', 'assumimos', '243', 'fechamos', '163', 'df', 'pesquisador', 'habitante', 'cadastro', 'nascidos', 'vivos', 'construir', 'meninos', 'retirados', 'caverna', 'tail', 'ndia', 'sedados', 'posicionou', 'cassação', 'termos', 'chile', 'rica', 'vários', 'europeus', 'levam', 'decisões', 'pênaltis', '11', 'consegue', 'angra', 'reis', 'entrei', 'nacionais', 'spc', 'serasa', 'sepultamos', '324', 'apresentada', 'copa', 'aumenta', 'surto', 'sarampo', 'ligado', 'crise', 'venezuelana', 'extinto', 'vacina', 'eficaz', 'pega', 'tomar', 'encostar', 'doença', 'perigoso', 'pegam', 'curitiba', 'notas', 'fiscais', 'filiada', 'pdt', 'respondeu', 'natureza', 'investe', 'atenção', 'básica', 'passamos', 'ocupar', 'oitavo', 'nações', 'instalada', 'aliando', 'pcdob', 'atualmente', 'condições', 'primeiros', 'aposentarão', 'beneficiadas', 'aposenta', 'baixa', 'valores', 'elevados', 'maiores', 'fortemente', 'reequipar', 'melhorar', 'participei', 'prévias', 'venci', '8026', 'petróleo', 'oriunda', 'sal', 'pós', 'tre', 'minhas', 'ressalvas', 'violentada', 'convida', 'alexandre', 'ruim', 'afirmam', 'triste', 'notícia', 'abala', 'brasileiras', 'voltaram', 'cozinhar', 'lenha', 'anunciou', 'ajustes', 'diários', 'mensais', 'renovou', 'composição', 'causadas', 'usp', 'unicamp', 'unesp', 'abrem', 'reservatório', 'cantareira', 'iniciou', 'hídrica', 'confrontos', 'capitão', 'sargento', 'basicamente', 'continua', 'indulto', 'marginal', 'flagrante', '24', 'deles', 'postos', 'decide', 'fariam', 'deixamos', 'águas', 'frutal', 'andamento', 'clamor', '94', 'sociedade', 'gastar', 'sobraram', 'taxa', '802', '76', '600', 'eleitas', 'câmaras', 'cota', 'mínimo', 'sexo', 'continuamos', 'estatísticas', 'ladrão', 'morto', 'pm', 'assassinado', 'sábado', 'solicitaram', 'preventiva', 'atirou', 'suspeito', 'queima', 'roupa', 'autuada', 'homicídio', 'cruel', 'possibilidade', 'vítima', 'teria', 'excedido', 'reação', 'corregedoria', 'instaurou', 'verificar', 'transgressão', 'disciplinar', 'registramos', 'saldo', '204', 'amplo', 'atende', '160', 'anterior', 'reduzimos', 'desmatamento', 'amaz', 'contínuo', 'devastação', 'cármen', 'lúcia', 'raquel', 'dogde', 'acabam', 'emediata', 'hoffmann', 'micro', 'pequenas', 'geraram', '1109', 'assina', 'homossexual', 'divulga', 'inocência', 'quebra', 'silêncio', 'gripe', 'causando', 'mortal', 'clínicas', 'preocupada', 'adoecer', 'muita', 'desalentadas', 'começam', 'buscar', '145', 'precisamos', 'variação', 'próximo', 'significando', '47', 'pontos', 'percentuais', 'ia', 'salarial', 'negras', 'brancos', 'dessa', 'provisórios', 'atividade', 'laboral', 'devolvo', 'moradia', 'estabelecer', 'mediante', 'convênio', 'agência', 'anp', 'bombeiros', 'revendedoras', 'visando', 'sugerir', 'anatel', 'operadoras', 'fornecimento', 'preços', 'direto', 'inflação', 'apontou', '124', 'repressão', 'envolva', 'clandestina', 'envolvendo', 'mecanismo', 'normatização', 'sociais', 'comunitários', 'estrutura', 'orgânica', 'estruture', 'contrato', 'inicia', 'detalhamento', 'executivo', 'cujo', '120', 'cumprida', 'etapa', 'iniciadas', '2012', 'perda', 'áudio', 'gravado', 'joesley', 'batista', 'terrivelmente', 'veracidade', 'trouxe', 'definitiva', 'alvo', 'ação', 'controlada', 'prévia', 'autorização', 'judicial', 'adequada', 'trata', 'farto', 'probatório', 'começa', 'rocha', 'loures', 'encontro', 'rinta', 'assessor', 'procurador', 'sai', 'desejados', 'consternou', 'saída', 'certeza', 'diferença', 'alterará', 'comprometidos', 'descobrir', 'amarildo', 'fazia', 'drogas', 'destacar', 'esc', 'ndalo', 'ocorreu', 'trinta', '447', '372', 'ética', 'geddel', 'gilberto', 'kassab', 'sofre', 'investigações', 'oficiais', 'cep', 'edir', 'macedo', 'terá', 'marcelo', 'notícias', 'junho', 'tão', 'chuvoso', 'muçulmanos', 'navios', 'refugiados', 'albert', 'einstein', 'chegou', 'refugiado', 'disponibilizado', 'viaturas', 'caps', 'helvetia', 'observação', 'acolhimento', 'consultório', 'multidisciplinar', 'gastam', 'namorados', 'gasta', 'presente', 'presentes', 'pelos', 'dispostas', 'presentear', 'cassando', 'verdade', 'resultou', 'ipea', 'estouro', 'limite', 'estabelecido', 'véspera', 'otávio', 'azevedo', 'andrade', 'gutierrez', 'veio', 'reconheceu', 'erro', 'retificou', 'depoimento', 'secretários', 'demitir', 'comissionados', 'depor', 'pediram', 'ampliação', 'diretas', 'federais', 'decorrentes', 'ultrapassou', 'latrocínio', 'seguido', '122', 'subiu', '182', 'rn', 'sergipe', 'lideram', 'votamos', 'tomamos', 'medidas', 'protetivas', 'parlamentares', 'retiram', 'iniciarão', 'negociações', 'fosse', 'cumprissem', 'escrito', 'estima', 'temperatura', '2100', 'somente', 'grau', 'celsius', 'continuem', 'questões', 'ambientais', 'crack', 'vencer', 'investirá', 'criados', '460', 'qualificados', 'existentes', 'atendimentos', 'internações', 'curta', 'duração', 'crises', 'abstinência', '308', 'consultórios', 'farão', 'volante', 'locais', 'incidência', '175', 'psicossocial', 'álcool', 'ad', 'criadas', '408', 'adulto', '166', 'exclusivos', 'contingente', 'polícias', 'rodoviária', 'reforçado', 'contratação', 'tabaco', 'relacionado', 'quinze', 'cigarros', 'vendidos', 'guimbas', 'bitucas', 'cigarro', 'impactam', 'produtores', 'econ', 'mica', 'irmã', 'detida', 'justificasse', 'tamanha', 'arbitrariedade', 'mineiros', 'atos', 'legislativos', 'demonstram', 'intenção', 'obstruir', 'outra', 'investigação', 'tampouco', 'interferir', 'encarregadas', 'apurar', 'fatos', 'elevar', 'desconto', 'exigido', 'tentou', 'muitas', 'falar', 'achei', 'fraca', 'conheci', 'uns', 'dez', 'daí', 'contato', 'falei', 'fale', 'deixar', 'registrar', 'compromisso', 'perdi', 'jucá', 'odebrecht', 'porra', 'mudar', 'estancar', 'sangria', 'companhias', 'aéreas', 'passam', 'despachar', 'nesta', 'quinta', 'bagagens', 'despachadas', 'v', 'informação', 'escondida', 'letras', 'teremos', 'incentivar', 'maneira', 'significativa', 'parcerias', 'privadas', 'remover', 'incerteza', 'introduzida', 'investidores', 'acompanham', 'interesse', 'mudanças', 'havendo', 'adequadas', 'resposta', 'rápida', 'lém', 'modernizar', 'estaremos', 'realizando', 'objetivo', 'macacos', 'pretende', 'faetec', 'instalar', 'centro', 'vocacional', 'tecnológico', 'cvt', 'ciclo', 'morar', '265', 'carentes', 'prestadora', 'contrata', 'profissional', 'posso', 'quela', 'terceirizado', 'sindicatos', 'interessante', 'patronais', 'recebem', 'contribuição', 'sindical', 'facilita', 'offshores', 'febre', 'amarela', 'total', 'arrecadamos', 'ficar', 'inelegíveis', 'escolheu', 'vitalício', 'paulistas', 'cariocas', 'controlam', 'pedido', 'vista', 'condenação', 'dano', 'material', 'chefe', 'embratur', 'sarney', 'satiagraha', 'ocupadas', 'qualificação', 'administrativa', 'milit', 'expectativa', 'estivemos', 'alagoas', 'maceió', 'entregando', '1335', 'cisternas', 'esteve', 'paralisada', '863', 'concluídos', '103', 'trabalhadores', 'canteiros', 'solange', 'ajudar', 'especificamente', 'casos', 'mal', 'vaca', 'louca', 'cura', 'probabilidade', 'altíssima', 'consumir', 'bovina', 'dcj', 'alarmantes', 'prestou', '943', 'agressão', 'financeiramente', 'agressores', 'atinge', 'avançam', 'cárcere', 'desconhecidas', 'costumam', 'acontecer', 'esporádica', 'xixi', 'transar', 'evita', 'doenças', 'sexualmente', 'transmissíveis', 'dst', 'lata', 'cerveja', 'calorias', 'dose', 'caipirinha', 'intercalar', 'copo', 'latinha', 'embriaguez', 'halls', 'salva', 'bêbado', 'baf', 'metro', 'creme', 'hidratante', 'laquê', 'despistam', 'celulite', 'sobrepor', 'glitter', 'solar', 'rosto', 'pele', 'tatuagens', 'falsas', 'beijo', 'colher', 'azeite', 'ressaca', 'café', 'analgésico', 'curar', 'pisar', 'poça', 'dágua', 'leptospirose', 'coca', 'sentir', 'alcoolizado', 'bebedeira', 'moraes', 'candidatura', 'neves', '360', 'advogou', 'cunha', '109', 'milhares', 'viajantes', 'afetadas', 'imigração', 'presidentes', 'reeleitos', 'raro', 'comum', 'termine', 'ocuparam', 'mandatos', 'tipos', 'transmitir', 'silvestre', 'transmitida', 'mosquito', 'aedes', 'aegypti', 'grávidas', 'macaco', 'doente', 'smtr', 'perderam', '48', 'climatizados', 'secar', 'lugares', 'pica', 'reproduz', 'suja', 'fêmea', 'picar', 'alimenta', 'sangue', 'picada', 'diferente', 'dengue', 'contraída', 'animais', 'domésticos', 'criadouro', 'diminuição', 'fecundidade', 'altera', 'ativos', 'inativos', 'permitido', 'mail', 'comey', 'respostas', 'verdadeiras', 'consistente', 'primárias', 'lados', 'atacada', 'anúncios', 'pagos', 'wall', 'street', 'fundos', 'específico', 'islâmico', 'classe', 'sobrados', 'mucambos', 'descreveu', 'f', 'ra', 'goa', 'arrecadou', 'informado', 'tiroteio', 'armado', 'boate', 'orlando', 'comerciante', 'iniciais', 'avançamos', 'surgiu', 'mensalão', 'josé', 'alencar', 'saímos', 'pl', 'liberal', 'fundamos', 'prb', 'republicano', 'asfalto', 'elevado', 'joá', 'durou', 'governar', 'collor', 'saí', 'volta', 'tirado', 'somando', 'bethlem', 'colegas', 'engenheiros', 'geógrafos', 'geólogos', 'arquitetos', 'comanda', 'conservação', 'votando', 'peço', 'justo', 'justiceiro', 'melhores', 'cidades', 'amanhã', 'maré', 'inaugurada', 'efetivamente', 'aluguel', 'apartamento', 'quartos', 'custando', 'aquaviário', 'firjan', 'criamos', 'orçamentário', 'sétimo', 'pior', 'tr', 'nsito', 'caímos', '58', 'oferta', 'percebi', 'alegria', 'abertos', 'percebida', 'usuários', 'residentes', 'daquela', 'boa', 'vender', 'aquilo', 'essencial', 'assistência', 'começar', 'vendendo', 'estádio', 'pacaembu', 'regularizada', 'concessão', 'fornece', 'aplicativo', 'ilegalidade', 'nulos', 'vereador', 'carbono', 'árvores', 'plantadas', 'sentido', 'aguardaria', 'praticado', 'aliança', 'poderes', 'legislativo', 'tive', 'prevista', '330', 'entradas', 'previstas', '2011', 'formadoras', 'participam', 'receberão', 'adicionais', 'num', 'montante', '19', 'inserida', 'percorrer', 'longa', 'estrada', 'real', '1994', 'selo', 'pagador', 'suas', 'políticas', 'equivocadas', 'conquista', 'valorizou', '77', 'facilitar', 'inferno', 'dante', 'prisional', 'certo', 'ofertar', 'treinamento', '2050', 'ativa', 'microcefalia', 'associado', 'pesquisadores', 'vírus', 'zika', 'cuja', 'identificada', 'põe', 'ovos', 'preserva', 'território', 'florestas', 'relativamente', 'solo', 'dedicado', 'pecuária', 'turísticos', 'visitados', 'lembra', 'promotores', 'mprj', 'reúnem', 'golpe', 'mesmos', 'acusam', 'flávio', 'assessores', 'movimentaram', '49', 'olinda', 'salvador', 'cortando', 'cancela', 'jornalistas', 'sofrendo', 'restrição', 'ideologia', 'gênero', 'conservando', 'rara', 'fotografia', 'herói', 'cubano', 'che', 'guevara', 'batalha', 'lutando', 'ferozmente', 'inimnigo', 'dentes', 'saiu', 'vitorioso', 'comunista', 'implantou', 'democracia', 'tornou', 'prósperos', 'adiantados', 'vidas', 'tragédia', 'sacerdote', 'pose', 'irresponsável', 'apologia', 'planta', 'ódio', 'amor', 'né', 'harry', 'conhecer', 'enviou', 'marisa', 'letícia', 'empregada', 'herança', 'perguntada', 'credibilidade', 'armadas', 'topo', 'disseram', 'prestar', 'sr', 'john', 'bolton', 'eeuu', 'subserviência', 'americanos', 'ajoelhar', 'boquete', 'então', 'carteiras', 'assinadas', 'federalporto', 'baús', 'medicamentos', 'cheios', 'dolares', 'guerrilha', 'armada', 'vinte', 'repassem', 'destino', 'maldade', 'disfarçados', 'etiquetas', 'espanto', 'agrediu', 'mg', 'produto', 'encaixado', 'leite', 'condensado', 'achocolatado', 'imagens', 'fica', 'barrinha', 'colorida', 'venceu', 'fabricante', 'colocaram', 'produtos', 'reaproveitar', 'ótimo', 'antigas', 'recolhidas', 'termo', 'privilegiar', 'dificulta', 'ingresso', 'sabiam', 'habana', 'elam', 'escuela', 'latinoamericana', 'desabafo', 'almeida', 'responsáveis', 'integral', 'profissionais', 'destinados', 'ostentou', 'adorava', 'confeccionados', 'seda', 'palha', 'botões', 'quilates', 'cobertos', 'prata', 'disfarçar', 'alma', 'burguês', 'adora', 'luxo', 'populismo', 'enganar', 'inocentes', 'nisso', 'preservou', 'europa', 'territorialmente', 'europeia', 'nossas', 'matas', 'noruegas', 'castelo', 'afastou', 'entraram', 'quartéis', 'disso', 'participavam', 'perdesse', 'voltava', 'convive', 'homossexuais', 'escolhemos', 'administrou', 'pequeno', 'particular', 'vivência', 'equipe', 'encontra', 'carretas', 'pagas', 'abandonadas', 'eike', 'defendemos', 'férias', 'blog', 'divulgam', 'importante', 'encontrado', 'medicamento', 'importado', 'tomem', 'dipirona', 'contém', 'marburg', 'considerados', 'perigosos', 'tido', 'empregado', 'procura', 'seguro', 'contou', 'detém', 'spaulo', 'band', 'kit', 'chegaria', 'livros', 'cartazes', 'filmes', 'passariam', 'acariciando', 'rotulou', 'walderice', 'injusta', 'funcionária', 'fantasma', 'boletim', 'administrativo', 'gilmar', 'mendes', 'saio', 'pabllo', 'vittar', 'paro', 'cantar', '61', '391', 'btg', 'pactual', '37', 'cid', 'novamente', 'detona', 'nao', 'fotografem', 'comprovante', 'apertei', 'aparecendo', 'adulterada', 'chamar', 'provado', 'autoteste', 'teclados', 'diebold', 'adulteraram', 'digitados', 'enviar', 'joaquim', 'barbosa', 'vote', 'acusado', 'estuprar', 'pequena', 'vitória', 'perdendo', 'fonte', 'despedida', 'autorizado', 'viviane', 'senna', 'piano', 'tracking', 'sair', 'quis', 'entrevistar', 'deveria', 'produz', 'rival', 'henrique', 'cardoso', '95000', 'presidiário', '131918', 'convence', 'contratada', 'ligação', 'aloizio', 'mercadante', 'mobilizou', 'incluído', 'municipal', 'rádio', 'guaíba', 'compl', 'espalhando', 'descaradas', 'descontextualizadas', 'feminino', 'mim', 'toneladas', 'cargas', 'movimentadas', 'portos', 'realizada', 'jornais', 'mico', 'revista', 'cbn', 'aparecer', 'vota', 'conheça', 'senhorinha', 'comovente', 'amélia', 'guerrilheira', 'conhecida', 'araguaia', 'juntamente', 'césar', 'matado', 'esquartejado', 'posam', 'conseguimos', 'zerar', 'consta', 'página', 'agrária', 'características', 'socialistas', 'caviar', 'lifestyle', 'privatizar', 'sabesp', 'queda', 'cortei', 'custeio', 'procuradoria', 'investiga', 'sujo', 'produtor', 'guarulhos', 'colocava', 'coloca', 'in', 'natura', 'tietê', 'acréscimo', 'tupi', 'ricos', 'sufocado', 'ponta', 'roger', 'waters', 'envolvido', 'esquema', 'chamada', 'daqui', 'embraer', 'aviões', 'privados', 'através', 'prato', '328', 'frequentando', 'farinata', 'doutora', 'zilda', 'arns', 'ajudou', 'cardozo', 'manuela', 'ávila', 'cortou', 'incentivou', 'coitado', 'fugiu', 'emprestou', 'jatinho', 'extremo', 'desastre', 'tempos', 'distribui', 'sat', 'mec', 'vaza', 'tramando', 'cita', 'mandamentos', 'lênin', 'visita', 'oferece', 'professoras', 'façam', 'FALSO', 'camisa', 'kg', 'aeroporto', 'congonhas', 'ferrari', '180000000', 'dúvidas', 'deverá', 'paises', '236', 'torna', 'legal', 'deixaria', 'escreveu', 'fundação', 'político', 'honesto', 'utiliza', 'agrotóxicos', 'cidadãos', 'declararam', 'plenamente', 'regime', 'imprensa', 'maciça', 'pan', 'aprenda', 'práticas', 'trilhões', 'bandeirantes', 'uerj', 'amanheceu', 'teatrão', 'informa', 'pelas', 'levaria', 'esclarecer', 'motivos', 'levaram', 'anulação', 'representam', '62', 'rasuras', 'ambiguidade', 'criador', 'bens', 'fraterna', 'preveem', 'compartilhar', 'patrimoniais', 'merda', 'deixa', 'escapar', 'confessa', 'garante', 'bandeira', 'tremulará', 'pobre', 'cor', 'possa', 'identificar', 'bolsonariano', 'mesários', 'n', 'anular', 'inimigo', 'vivemos', 'querem', 'padres', 'casem', 'casados', 'divorciem', 'héteros', 'tenham', 'relacionamentos', 'líquidos', '45', 'wi', 'fi', 'piada', 'crê', 'palhaço', 'igrejas', 'circo', 'flavio', 'usou', 'estampada', 'frase', 'artista', 'conhecido', 'hollywood', 'taí', 'protestam', 'apreende', 'elenão', 'artistas', 'vêm', 'mamando', 'descobriram', 'homofobia', 'criancinhas', 'assistirem', 'meninas', 'defendia', 'dirceu', 'tirar', 'cristianismo', 'desaparecer', 'diminuir', 'encolher', 'bolsas', 'concedidas', 'prouni', 'fies', 'guilherme', 'boulos', 'prometeu', 'carro', 'ipva', 'taurus', 'acabar', 'adicional', 'zerei', 'farinha', 'trigo', 'pão', 'macarrão', '86', '760', 'presas', 'grávida', 'insalubre', 'perícia', 'técnica', 'bico', 'acumulamos', 'reservas', 'cambiais', 'tal', 'estimular', 'filha', 'leitura', 'disponibilizada', 'manifestantes', 'universal', 'desmascara', 'instituto', 'penitenciárias', 'bloqueador', 'fechando', 'salas', 'lisete', 'ndido', 'improbidade', 'marinho', 'conselho', 'disponíveis', 'farmácias', 'assaltada', 'tce', 'indicando', 'correntes', 'tavares', 'parcial', 'anulado', 'av', '220', 'fecharam', 'patriota', 'acima', 'desalentados', 'informalidade', 'convocar', 'notáveis', 'participação', 'submeter', 'redigida', 'constituinte', 'quais', 'bases', 'identidade', 'oliveira', 'eletr', 'quito', 'acertou', 'unasul', 'caminho', 'ache', 'acusações', 'corria', 'vara', 'movido', 'réu', 'provada', 'colocando', 'deus', 'céu', 'assume', 'governos', 'elas', 'aumentamos', 'multidão', 'desfile', 'bloco', 'galo', 'madrugada', 'rapaz', 'assola', 'presidiu', 'cursando', 'aprendendo', 'refeições', 'estágio', 'beneficiou', 'dobrei', 'extrativistas', 'enfermeira', 'surtando', 'divulgação', 'levadas', 'receberem', 'caído', 'estupros', 'demarcou', 'terras', 'cobra', 'heranças', 'entram', 'formam', '41', 'abandonam', 'implantei', 'doaram', 'crescente', 'apoia', 'trem', 'indenização', 'optar', '130', 'arrepiar', 'vencerá', 'claro', 'acredito', 'inflation', 'target', 'chama', 'peguei', 'mentirosa', 'promessa', 'superar', '980', 'produzidos', 'minuto', 'nomeia', 'chamam', 'argumentação', 'rachel', 'dodge', 'comprometia', 'votado', 'rainha', 'bateu', 'repórter', 'cena', 'canal', 'recessão', 'reeleição', 'renato', 'duque', 'rumor', 'poderia', '123', 'cumpri', 'delas', 'inimigos', 'falo', 't', 'escolhendo', 'encontrada', 'atentado', 'apoiadores', 'adesivo', 'bastaram', 'voltasse', 'mapa', 'duplicado', 'aproximadamente', 'professores', 'atuam', 'licenciatura', 'específica', 'disciplinas', 'lecionam', 'estudavam', 'trabalhavam', 'percentual', 'completou', 'níveis', 'adequados', 'suspeitava', 'explique', 'kajuru', 'soubessem', 'ficariam', 'enojadas', 'atacou', 'companhia', 'fortuna', 'portugal', 'define', 'ocupando', 'exatamente', 'mesmas', 'funções', 'agredidas', 'pgr', 'formação', 'agressor', 'peito', 'negado', '2002', '4200', 'descobriu', 'planejava', 'assassinato', 'matar', 'seguidor', 'atacado', 'mineiro', 'tentativa', 'entrando', 'pé', 'mendonça', 'dem', 'indústria', 'marcos', 'pereira', 'base', 'volto', 'nomeei', 'serra', 'relações', 'exteriores', 'levei', 'palácio', 'planalto', 'prezadíssimo', 'imbassahy', 'ideal', 'classificaria', 'útil', 'arnaldo', 'jabor', 'desejo', 'lidera', 'mantém', '34', '217', 'estoque', 'excessivamente', 'comparado', 'japão', 'índia', 'ápice', 'seguida', 'apresentar', 'quedas', 'constantes', 'patamares', 'inferiores', 'segmento', 'corresponde', 'recente', 'ibge', 'juscelino', 'kubitschek', 'crescemos', 'afirma', 'levar', 'violação', 'saiba', 'isto', 'vídeos', 'toras', 'mogno', 'apreendidas', 'desmatadores', 'críticas', 'demora', 'licenciamento', 'defendo', 'transitar', 'capitalização', 'contribuições', 'atlas', '1988', 'terminam', '228', 'ptc', 'subimos', 'promoção', 'cidadania', 'desconstrução', 'heteronormatividade', 'ensinando', 'algumas', 'errado', 'acabado', 'seminário', 'discutindo', 'comemorando', 'lançamento', 'passou', 'aparelho', 'cia', 'ouviu', 'empregaria', 'turnos', 'explícita', 'posições', 'global', 'innovation', 'index', 'destaque', '795', 'biocombustíveis', 'transtornos', 'ansiedade', '450', 'universitária', '126', 'fiesp', 'un', 'nime', 'esquece', 'nessas', 'roubadas', 'assaltadas', 'violentadas', 'fau', 'desenvolveu', 'desenvolve', 'hidroanel', 'metropolitano', '137', 'recebiam', 'golpista', 'ameaçado', '326', 'domicílios', 'deixaram', 'receber', 'benefício', 'matrículas', 'saltaram', 'planos', 'coletivos', 'individuais', 'declarando', 'consentir', 'adultos', 'liderança', '8657', 'estiveram', 'associadas', 'previsto', '139', 'renúncias', 'tributárias', '3035', 'silvio', 'salvar', 'corrupto', 'u', '108', 'luxemburgo', 'orgulho', 'pagou', 'fmi', 'humilhados', 'expulsa', 'unidas', '110', '270', 'quil', 'metros', 'cobramos', 'alíquota', 'destinada', 'bomba', 'embolsou', '317', 'pesquisado', 'amamentam', 'causasse', 'explosão', 'inicial', 'falava', 'demarcado', 'quilombola', 'ambiental', 'monte', 'devolvemos', 'agronegócio', 'nono', 'ler', 'gabinete', 'funcional', 'joel', 'malucelli', 'investigada', 'ataquei', 'banqueiros', 'portugueses', 'pisavam', 'áfrica', 'just', 'out', '39', 'unemployment', 'is', 'broken', 'the', 'meantime', 'witch', 'hunt', 'j', 'realdonaldtrump', 'parlamentar', 'zero', 'máximo', 'começo', 'iate', 'estranha', '115', '5000', 'bruta', 'perde', 'opinião', 'recordista', 'representações', 'mães', 'solteiras', 'emenda', 'relativizou', 'hackers', 'invadem', 'insiste', 'seguras', 'confia', 'irmãos', 'irmãs', 'humilhação', 'terem', 'sujos', 'empurrou', 'osso', 'prenderam', 'sentença', 'envia', 'indeterminados', 'cresce', 'vacinação', 'paula', 'souza', '230', 'diabetes', 'tipo', 'serem', 'garotada', 'cirurgias', 'eletivas', 'pendentes', '62500', 'intervir', 'militarmente', '2001', '3503', 'algum', 'receberam', 'apelido', 'planilhas', 'mazzaropi', '67', 'corujão', 'cirurgia', 'realizou', 'transformação', 'representava', 'esses', 'unanimidade', 'velha', 'lógica', 'colonial', 'cru', 'importar', 'derivado', 'radical', 'bilionários', 'chegue', 'revogar', 'artigo', 'venda', 'gerações', 'manufaturados', '60000', 'subtraia', 'paisana', 'cometidas', '31', 'iremos', 'destituir', 'arrecada', 'financeira', 'juro', 'rolagem', 'preferência', 'refino', 'prerrogativa', 'condenados', 'propunha', 'atraso', 'atrasou', '75', 'masculino', 'escolaridade', 'bebê', 'nascer', 'sinusite', 'rinite', 'aprovaram', 'parentes', 'deslocamentos', 'visitas', 'prisionais', 'majoritária', 'executado', 'documentalmente', '5170', 'profunda', 'impacta', '1977', 'arena', '1982', 'pds', 'aviso', 'prévio', '184', 'proteger', 'atacar', 'quantia', 'adotar', 'símbolo', 'alerta', 'aprovados', 'bradesco', 'doador', 'inadimplência', 'nona', 'sobrevivem', '136', 'suplente', 'sim', 'saneamento', 'tratada', 'exaurem', 'graus', 'cobram', 'colhemos', 'safras', 'fevereiro', 'pensionistas', 'herdeiras', 'combatentes', 'paraguai', 'inss', 'pagará', 'complementar', 'definido', 'definida', 'desajuste', 'cálculo', 'atuarial', 'alternativas', 'corretas', 'realizamos', 'ctas', 'disponibilizados', 'ampliando', 'vulnerabilidade', 'ppp', 'habitação', 'publicação', 'edital', 'lotes', 'habitacionais', 'exames', 'localizados', 'praças', 'embora', 'preveja', 'duplicação', 'conexão', 'disponibilizar', 'localidades', 'condenaram', 'convicção', '1986', 'diploma', 'universitário', 'afligem', 'luís', 'barroso', 'observou', 'toffoli', 'geralmente', 'famoso', 'balanço', 'custos', 'previsão', 'magistrados', 'reajustados', 'anualmente', 'ocorre', 'colaboração', 'numeração', 'habeas', '154500', 'daquilo', 'divergências', '87', 'engravidou', 'marcinho', 'vp', 'eleita', 'comando', 'bancou', 'resolvem', 'felizes', 'turismo', 'biscate', 'correr', 'rapa', 'trabalhador', 'virando', 'honestamente', 'formais', '127', 'sadios', 'amanheceram', '2004', 'restrições', 'vigoraram', 'forte', 'sofreram', 'completo', 'assunto', 'ocorreram', 'semelhante', 'verificado', 'divergente', 'seguintes', 'recolheu', 'consulta', 'proibição', 'rejeitada', 'marca', 'alcançadas', 'eleitos', 'democrático', 'direta', 'recolheram', 'campeões', 'recolhimento', 'campeão', 'quadruplicou', 'taxas', 'modalidade', 'tese', 'profundo', 'mbito', 'study', 'on', 'homicide', 'united', 'nations', 'office', 'drugs', 'and', 'abandonou', 'longas', 'tornando', 'dispensável', 'simplesmente', 'comprovou', 'experiência', 'cometem', 'evoluindo', 'tratamento', 'exemplos', 'globais', 'desarmamentista', '171', '269', 'encaminha', 'próxima', 'apenados', 'condição', 'temporária', 'encontram', 'grades', 'anuário', 'estatístico', 'realizava', 'concursos', 'separação', 'alocou', 'residual', 'falha', 'capitais', 'atribuição', 'certamente', 'esforço', 'caindo', 'igualdade', 'tratando', 'daqueles', 'chegara', 'aumentáramos', 'reajuste', 'honra', 'signatário', 'proíbe', 'nucleares', 'beneficiaria', 'beneficiado', 'constitucionalidade', 'estuda', 'contribuir', 'repente', 'diminuímos', 'previdenciária', 'expressiva', 'grécia', 'vencimentos', 'acabando', 'avanço', 'torcemos', 'q', 'validade', 'may', 'olho', 'geoffrey', 'robertson', 'advogado', 'acompanha', 'brit', 'avaliar', 'fundamentais', 'ninja', 'holiday', 'mails', 'internos', 'oas', 'informavam', 'oposição', 'crucificando', 'assaltou', 'bloqueado', 'trabalhado', 'magno', 'malta', 'pr', 'es', 'porto', 'alegre', 'sóstenes', 'cavalcante', 'plena', 'contratações', 'temporárias', 'natal', 'venderam', 'geraria', 'comprova', 'recolhe', 'safra', 'comprovar', 'aumentando', 'gatilho', 'detalhe', 'assalariado', 'balança', 'atingiu', 'histórico', 'dão', 'claros', 'revitalização', 'empresários', 'participaram', 'elaboração', 'andou', '340', 'meios', 'comunicações', 'publicidade', 'obama', 'grampeou', 'rússia', 'inventada', 'desculpa', 'tramitação', 'tríplex', 'marcado', 'fontana', 'rs', 'dando', 'prisões', 'uruguai', 'legalização', 'mario', 'layera', 'informou', 'descriminalização', 'implicou', 'diretamente', 'droga', 'lactantes', 'trabalharem', 'insalubres', 'haja', '118', 'cumpre', 'mp', 'vanessa', 'grazziotin', 'pc', 'b', 'am', 'paulinho', 'sd', 'negociado', 'patrão', 'compensação', 'limonada', 'juntosfazemos', 'pictwittercom', 'f0se823rlx', 'governodobrasil', 'november', 'consolidando', 'avanços', 'retomam', 'premiadas', 'daniel', 'gerber', 'eliseu', 'padilha', 'janot', 'anulou', 'doleiro', 'lúcio', 'funaro', 'delatores', 'mentiram', 'mauro', 'emprestado', 'viajar', 'aceito', 'julio', 'delgado', '587', 'auferidos', 'alessandro', 'molon', 'tática', 'karl', 'marx', 'dividir', 'conquistar', 'hitler', 'mero', 'docinhos', 'stalin', 'propus', 'nazismo', 'desastres', 'naturais', 'pestes', 'planeta', 'junta', 'enriqueceu', 'caem', 'reconhecer', 'perdemos', 'considerar', 'marta', 'renovável', 'preocupa', 'concentrado', 'resgatando', 'equilíbrio', 'voltando', 'congressistas', 'grupo', 'permissão', 'supremacistas', 'protestar', 'modo', '15/ago', 'áreas', 'melhorando', 'prioridade', 'física', '4000', 'romero', 'planejamento', 'batemos', 'recordes', 'históricos', 'exportações', 'agropecuária', 'consultou', 'mariz', 'enfrentou', 'simão', 'sessim', 'compor', 'apoiado', 'antiterrorismo', 'puxar', 'foracunha', 'florestal', 'criminalmente', 'condenar', 'proibiu', 'negociadas', 'criminosos', 'confessos', 'validam', 'convicções', 'contidas', 'procuradores', 'houvesse', 'apresentação', 'justifiquem', 'expressos', 'ressalvo', 'ignoradas', 'cristiano', 'zanin', 'migração', 'aposentados', 'cá', 'roraima', 'autossuficiente', 'arroz', 'mandava', 'pouquinho', 'guianas', 'importa', 'destruíram', 'caminhões', 'roubados', 'viabilizar', 'provisória', 'estrangeiros', 'comprem', 'oeste', 'montanhas', 'vir', 'clt', 'rurais', 'depender', 'ilícita', 'inválida', 'feminina', 'abrisse', 'prestação', 'conjuntamente', 'tesoureiro', 'edinho', 'caetano', 'inédito', 'cria', 'existiam', 'floresta', 'jamanxim', 'pará', 'reduzidos', 'hectares', 'empréstimos', 'avançar', 'negócios', 'fato', 'import', 'cortamos', 'sacrificar', 'imaginávamos', 'veríamos', 'reformulamos', 'igualmente', 'empregados', 'vê', 'reportagens', 'variadas', 'espaço', 'relev', 'revalorizamos', 'lançamos', 'cartão', 'tanto', 'desprezamos', '125', 'revalorização', 'dobramos', 'custam', 'disputa', '2020', 'prefeituras', '247', 'jornadas', 'ngelo', 'fabiano', 'farias', 'vulnerável', 'acidentes', 'terceirizados', 'contribui', 'panfleto', 'pegarmos', 'recentes', 'magistratura', 'legislações', 'ficam', 'imutáveis', '101', 'dúvida', 'constituições', 'anteriores', 'comparada', 'europeias', 'prerrogativas', 'extirpar', 'vejam', 'inventam', 'blogs', 'conhece', 'proliferando', 'invenção', 'vira', 'ridícula', 'defendendo', 'contrabando', 'alteração', 'despenalizou', 'usuário', 'descriminalizou', 'invés', 'aumentasse', 'tipificar', 'naquela', 'tênue', 'traficante', 'vende', 'sustentar', 'vício', 'tipificado', 'machistas', 'previdenciário', 'retomamos', 'recentemente', 'obedecer', 'afinal', 'pedaços', 'freixo', 'faltam', 'brts', 'calculados', 'viabilidade', 'transportando', 'santiago', 'processando', 'especialistas', 'administrados', 'inventando', 'publicar', 'éramos', 'voluntários', 'ar', 'condicionado', 'superdotados', 'aprovada', 'aluno', 'superdotado', 'supervisão', 'acompanhado', 'banners', 'alianças', 'modestas', 'blocs', 'compatível', 'leal', 'justa', 'contrário', 'corrente', 'chamou', 'shimon', 'peres', 'genocida', 'lancei', 'corre', 'decida', 'válida', 'escreve', 'revisão', 'transolímpica', 'pedágio', 'proposto', 'discussão', 'motorista', 'combustível', 'furtos', 'assaltos', 'quadra', 'poliesportiva', '6000', 'jandira', 'acusada', 'pedro', '7500', 'guardas', 'feghali', 'tuberculose', 'indicou', 'psd', 'te', 'apoiando', 'olhamos', 'funprev', 'prev', 'zerado', 'razoável', 'ceus', 'prometidos', 'suplicy', 'ubs', '3000', 'major', 'olímpio', 'pagamos', '119', 'táxis', 'aplicativos', 'regulamentando', 'documentos', 'baixaram', 'celso', 'russomanno', 'avaliada', 'avalia', 'circulação', 'regularizar', 'ousados', 'habitat', 'reduziram', 'presta', 'servico', 'taxistas', 'luiza', 'erundina', 'transgressores', 'invasores', 'considerou', 'lutam', 'osorio', 'aplicados', 'descontados', '417', 'pescado', 'conforme', 'procuram', 'cumpriu', 'obriga', 'anual', 'servidor', 'flagrado', 'pescando', 'venha', 'vices', 'cemitérios', 'darem', 'fornecem', 'péssimo', 'km', 'faixas', 'exclusivas', 'entregues', 'realizar', 'pedestres', 'motocicletas', 'transportes', '410', 'esperando', 'toma', 'carmen', 'migueles', 'jacarezinho', 'curso', 'lagoa', 'licitação', 'suspeita', 'cartel', 'programas', 'desta', 'avançou', '9h', 'oferecerá', '7h30', 'cresceram', 'alarmante', 'materna', 'recuperamos', 'espraiada', '151', 'credores', 'porta', 'motivou', 'discutidas', 'reconhecido', 'soube', 'auditor', 'parecer', 'ajudado', 'elaborar', 'auditou', 'esclarecida', 'decretos', 'editados', 'tcu', 'interpretação', 'gcm', 'exitosos', 'sobretudo', 'melhoraram', 'trágicos', 'estagnou', 'santana', 'moram', 'pergunta', 'laudo', 'querer', 'tópico', 'impopular', 'inocentado', 'combatem', 'impunidade', 'estimula', 'amedronta', 'coragem', 'maturidade', 'ampla', 'garantindo', 'transparente', 'denunciados', 'age', 'seletividade', 'concentra', 'repasses', 'desvio', 'impedi', 'lista', 'delito', '1992', 'elegeram', 'síndico', 'lembrete', 'jefferson', 'reelegeu', 'outrem', 'pronatec', 'mentiroso', 'fruto', 'rasteira', 'devemos', 'manter', 'revalorizá', 'ampliá', 'presidenta', 'tratar', 'vivêssemos', 'parlamentarista', 'suspeição', 'necessária', 'suficiente', 'delator', 'colaborador', 'testemunha', 'sin', 'nimo', 'oportunidades', 'ocupados', 'motta', 'defensor', 'desconsiderarmos', 'elétrica', '102', 'extinção', 'benefícios', 'assistenciais', 'corresponderam', 'mantidas', 'regras', 'atuais', 'tende', 'exponencialmente', 'diante', 'envelhecimento', 'esperado', 'dado', 'explicitar', 'similar', 'errei', 'demorado', 'perceber', 'tivéssemos', 'começado', 'inflexão', 'indício', 'envergadura', 'percebem', 'liberaram', 'caos', 'colocamos', 'centrais', 'sindicais', 'liberarem', 'generalizado', 'reflexão', 'felicidade', 'praticando', 'retrospecto', 'números', 'esquecem', 'tentam', 'memória', 'subsídio', 'percebeu', 'saindo']\n"
          ],
          "name": "stdout"
        }
      ]
    },
    {
      "cell_type": "code",
      "metadata": {
        "id": "fWJLXVam1NV7",
        "outputId": "41c0e106-20eb-4969-a63a-a0ed6917eaad"
      },
      "source": [
        "# Código para filtrar o arquivo de embeddings\n",
        "# gerando um novo arquivo só com as palavras desejadas.\n",
        "\n",
        "from numpy import array\n",
        "from numpy import asarray\n",
        "from numpy import zeros\n",
        "\n",
        "embeddings_index = dict()\n",
        "f = open('./embeddings/cbow_s50.txt', encoding='utf-8')\n",
        "\n",
        "for line in f:\n",
        "    values = line.split()\n",
        "    word = values[0]\n",
        "    if (word in embeddings_de_interesse):\n",
        "        coefs = asarray(values[1:], dtype='float32')\n",
        "        embeddings_index[word] = coefs\n",
        "        contador += 1\n",
        "f.close()\n",
        "print(embeddings_index.keys())"
      ],
      "execution_count": null,
      "outputs": [
        {
          "output_type": "stream",
          "text": [
            "dict_keys(['de', 'a', 'o', 'e', 'que', 'do', 'da', 'em', 'para', 'um', 'no', 'com', 'é', 'uma', 'os', 'não', 'na', 'por', 'as', 'se', 'dos', 'foi', 'como', 'ao', 'mais', '0', 'das', 'mas', 'sua', 'ou', 'ser', 'seu', 'são', 'pelo', 'eu', 'ele', 'está', 'pela', 'também', 'nos', 'sobre', 'você', 'entre', 'tem', 'já', 'isso', 'anos', 'ainda', 'muito', 'aos', 'até', 'quando', 'era', 'ter', 'bem', 'foram', 'mesmo', 'pode', 'nas', 'este', 'segundo', 'comissão', 'ano', 'dois', 'seus', 'ela', 'onde', 'depois', 'há', 'esta', 'dia', 'todos', 'só', 'me', 'vai', 'sem', 'grande', 'parte', 'presidente', 'fazer', 'outros', 'durante', 'estado', 'contra', 'vez', 'apenas', 'primeiro', 'tempo', 'disse', 'assim', 'cidade', 'após', 'suas', 'agora', 'três', 'primeira', 'acordo', 'pessoas', 'estão', 'conselho', 'porque', 'forma', 'governo', 'então', 'trabalho', 'tudo', 'desde', 'eles', 'aqui', 'grupo', 'maior', 'duas', 'caso', 'quem', 'antes', 'país', 'além', 'casa', 'estava', 'meu', 'será', 'deve', 'sido', 'brasil', 'hoje', 'essa', 'esse', 'novo', 'sendo', 'tinha', 'mundo', 'final', 'pelos', 'cada', 'outro', 'qual', 'melhor', 'países', 'nome', 'rio', 'nova', 'milhões', 'seja', 'nacional', 'vida', 'num', 'menos', 'união', 'europeia', 'qualquer', 'sempre', 'jogo', 'região', 'alguns', 'minha', 'dias', 'política', 'mil', 'paulo', 'lugar', 'outras', 'senhor', 'todo', 'estou', 'numa', 'fez', 'quer', 'neste', 'fim', 'nem', 'artigo', 'processo', 'desta', 'estados', 'pouco', 'nesta', 'decisão', 'lado', 'teve', 'área', 'janeiro', 'podem', 'sistema', 'todas', 'mercado', 'enquanto', 'the', 'nós', 'família', 'cerca', 'sim', 'partir', 'quatro', 'conta', 'público', 'número', 'ver', 'têm', 'programa', 'vamos', 'portugal', 'deste', 'diz', 'nada', 'tendo', 'vezes', 'bom', 'período', 'direito', 'através', 'dizer', 'empresa', 'vou', 'ponto', 'faz', 'sul', 'local', 'fora', 'nunca', 'comunidade', 'tão', 'desenvolvimento', 'isto', 'europa', 'outra', 'segunda', 'lhe', 'meio', 'história', 'quanto', 'segurança', 'base', 'população', 'ontem', 'nível', 'tenho', 'situação', 'disso', 'social', 'relação', 'algumas', 'início', 'temos', 'noite', 'momento', 'pontos', 'empresas', 'dar', 'toda', 'importante', 'série', 'estar', 'presente', 'tal', 'principal', 'cinco', 'lá', 'exemplo', 'saúde', 'seria', 'guerra', 'polícia', 'pelas', 'pois', 'volta', 'poder', 'muitos', 'homem', 'filme', 'semana', 'possível', 'equipe', 'sob', 'quais', 'brasileiro', 'tarde', 'dezembro', 'embora', 'sabe', 'centro', 'josé', 'quase', 'medidas', 'junho', 'unidos', 'havia', 'coisa', 'norte', 'causa', 'dentro', 'mundial', 'produtos', 'internacional', 'tipo', 'devem', 'grandes', 'meses', 'filho', 'proposta', 'questão', 'pai', 'serviços', 'julho', 'passado', 'maio', 'certo', 'água', 'n', 'tanto', 'frente', 'mesma', 'produção', 'porto', 'geral', 'vários', 'abril', 'nossa', 'condições', 'outubro', 'apoio', 'sou', 'direitos', 'música', 'problema', 'boa', 'te', 'posição', 'ficou', 'setembro', 'campo', 'último', 'p', 'sei', 'problemas', 'joão', 'devido', 'capital', 'estamos', 'partido', 'feito', 'afirmou', 'eram', 'última', 'quero', 'república', 'muitas', 'dados', 'espécie', 'acho', 'mim', 'tribunal', 'título', 'termos', 'logo', 'vão', 'morte', 'novembro', 'habitantes', 'algo', 'maioria', 'total', 'valor', 'seis', 'favor', 'informações', 'i', 'nosso', 'modo', 'comum', 'lei', 'verdade', 'passou', 'mãe', 'ficar', 'ir', 'federal', 'várias', 'chegou', 'município', 'terra', 'época', 'justiça', 'horas', 'd', 'sentido', 'dinheiro', 'posso', 'século', 'longo', 'câmara', 'serviço', 'mulher', 'vitória', 'agosto', 'papel', 'formação', 'fevereiro', 'central', 'escola', 'tenha', 'respeito', 'casos', 'terá', 'vista', 'defesa', 'banco', 'serão', 'deu', 'novos', 'falar', 'copa', 'rede', 'ministro', 'deus', 'informação', 'ordem', 'zona', 'gente', 'próximo', 'próprio', 'universidade', 'diferentes', 'mulheres', 'membros', 'resultado', 'seguinte', 'falta', 'dele', 'real', 'carlos', 'domingo', 'plano', 'principais', 'poderia', 'mês', 'talvez', 'for', 'fazendo', 'costa', 'pra', 'maria', 'conhecido', 'claro', 'pública', 'livro', 'saber', 'pessoa', 'deputado', 'oficial', 'preciso', 'homens', 'junto', 'cara', 'novas', 'ministério', 'acesso', 'hora', 'criação', 'tratado', 'matéria', 'sociedade', 'alguma', 'único', 'militar', 'qualidade', 'conjunto', 'espaço', 'silva', 'últimos', 'brasileira', 'força', 'construção', 'corpo', 'linha', 'ajuda', 'organização', 'frança', 'santa', 'senhora', 'forte', 'aumento', 'portuguesa', 'c', 'fica', 'teria', 'esses', 'ambiente', 'autoridades', 'futuro', 'santos', 'superior', 'obras', 'média', 'ninguém', 'vem', 'prazo', 'medida', 'poderá', 'crianças', 'técnico', 'lista', 'terceiro', 'participação', 'data', 'recebeu', 'essas', 'aí', 'responsável', 'carreira', 'projeto', 'rua', 'conseguiu', 'nacionais', 'igreja', 'nesse', 'campanha', 'recursos', 'fosse', 'la', 'civil', 'obra', 'pedido', 'origem', 'distrito', 'resposta', 'luta', 'única', 'própria', 'educação', 'nenhum', 'estavam', 'acabou', 'chegar', 'ii', 'existe', 'algum', 'desse', 'deverá', 'vocês', 'podemos', 'energia', 'carro', 'investigação', 'economia', 'dez', 'precisa', 'houve', 'jornal', 'manhã', 'uso', 'político', 'sete', 'primeiros', 'dessa', 'idade', 'dá', 'sejam', 'fundo', 'edição', 'deixar', 'cultura', 'sábado', 'emprego', 'aconteceu', 'gestão', 'espanha', 'trabalhadores', 'sociais', 'território', 'rei', 'gostaria', 'regime', 'chamado', 'pedro', 'programas', 'elas', 'entrada', 'comunicação', 'administração', 'jovem', 'deixou', 'municipal', 'deles', 'políticas', 'atualmente', 'alguém', 'pessoal', 'profissional', 'b', 'américa', 'razão', 'capacidade', 'locais', 'necessidade', 'passar', 'principalmente', 'livre', 'preços', 's', 'movimento', 'próxima', 'mar', 'ensino', 'risco', 'igualmente', 'perto', 'alta', 'relativamente', 'imagens', 'deveria', 'instituto', 'comércio', 'regras', 'crescimento', 'indústria', 'sair', 'feita', 'departamento', 'mal', 'deputados', 'operação', 'líder', 'maiores', 'amor', 'questões', 'eleições', 'áreas', 'americano', 'trabalhar', 'manter', 'importantes', 'oito', 'possibilidade', 'prova', 'atenção', 'caminho', 'propostas', 'forças', 'sede', 'taxa', 'queria', 'quarto', 'tinham', 'entrar', 'dado', 'jovens', 'atual', 'relações', 'presença', 'tv', 'interesse', 'maneira', 'melhores', 'anterior', 'década', 'encontro', 'filha', 'nota', 'paz', 'instituições', 'eua', 'diversos', 'imprensa', 'filhos', 'km', 'passa', 'ilha', 'afirma', 'metros', 'fernando', 'tomar', 'hospital', 'novamente', 'contrato', 'companhia', 'amigo', 'debate', 'criar', 'acima', 'existem', 'fato', 'amigos', 'francesa', 'utilização', 'via', 'dela', 'sr', 'voltar', 'exército', 'orçamento', 'cidadãos', 'atrás', 'estádio', 'cargo', 'cidades', 'ajudar', 'ali', 'função', 'chefe', 'levar', 'efeitos', 'estudo', 'teatro', 'continua', 'professor', 'texto', 'valores', 'nessa', 'ar', 'humanos', 'animais', 'regional', 'considerado', 'crise', 'serem', 'evento', 'referência', 'diferente', 'significa', 'irá', 'portanto', 'nenhuma', 'prática', 'realmente', 'tentar', 'tratamento', 'execução', 'presidência', 'meus', 'sobretudo', 'assembleia', 'transporte', 'contrário', 'representa', 'ação', 'unidade', 'nossos', 'francês', 'diretor', 'estudos', 'francisco', 'produto', 'povo', 'antigo', 'possa', 'simples', 'ouro', 'popular', 'evitar', 'muita', 'garantir', 'levou', 'apresentar', 'agência', 'opinião', 'preço', 'voltou', 'revista', 'análise', 'língua', 'lo', 'veio', 'europeus', 'avaliação', 'esteve', 'ganhou', 'santo', 'legislação', 'fazem', 'jorge', 'fonte', 'objetivo', 'liberdade', 'continuar', 'entrou', 'mão', 'vale', 'médio', 'autoridade', 'chamada', 'conhecida', 'políticos', 'marca', 'redução', 'estrutura', 'contas', 'obrigado', 'curso', 'menor', 'branco', 'filmes', 'venda', 'receber', 'especialmente', 'estadual', 'paris', 'gênero', 'realizado', 'somente', 'tema', 'imagem', 'abertura', 'autor', 'baixo', 'in', 'natureza', 'diante', 'crime', 'pequena', 'pais', 'portugueses', 'esquerda', 'seguida', 'carta', 'espera', 'john', 'responsabilidade', 'campeão', 'acha', 'comercial', 'fundos', 'pequeno', 'parecer', 'palavra', 'parque', 'alemão', 'lançamento', 'realização', 'experiência', 'documento', 'and', 'direção', 'prisão', 'iniciativa', 'controle', 'mãos', 'usar', 'assunto', 'oportunidade', 'reforma', 'certeza', 'vigor', 'meios', 'luís', 'gerais', 'vídeo', 'técnica', 'oeste', 'pagar', 'oliveira', 'cuja', 'antiga', 'termo', 'votos', 'acontece', 'candidato', 'operações', 'perdeu', 'anunciou', 'decidiu', 'solução', 'particular', 'custos', 'administrativa', 'ganhar', 'começa', 'investimento', 'entrevista', 'tiveram', 'médico', 'instituição', 'realizada', 'amanhã', 'saída', 'china', 'destes', 'conforme', 'nomes', 'rússia', 'acidente', 'armas', 'procura', 'negócios', 'quê', 'tempos', 'feliz', 'paulista', 'públicos', 'pagamento', 'decisões', 'mostra', 'despesas', 'militares', 'alteração', 'internet', 'doença', 'conhecimento', 'apresentação', 'tenham', 'queda', 'veículos', 'negociações', 'cultural', 'veja', 'vontade', 'intervenção', 'vi', 'terem', 'venceu', 'informou', 'criado', 'porta', 'material', 'mudança', 'europeias', 'nove', 'responsáveis', 'los', 'comigo', 'meia', 'legal', 'tecnologia', 'áfrica', 'tornou', 'espírito', 'permite', 'escolas', 'realizar', 'cujo', 'pesquisa', 'rádio', 'documentos', 'públicas', 'metade', 'desses', 'eduardo', 'governador', 'fizeram', 'ocorreu', 'japão', 'relativas', 'aquela', 'declaração', 'perder', 'gosto', 'combate', 'consumo', 'baixa', 'comando', 'casamento', 'funcionários', 'viagem', 'aumentar', 'participou', 'dada', 'profissionais', 'unidades', 'começar', 'candidatos', 'congresso', 'criança', 'nações', 'deixa', 'campos', 'avenida', 'cobertos', 'funções', 'geralmente', 'dólares', 'minas', 'pensar', 'poucos', 'provavelmente', 'psd', 'alunos', 'máximo', 'apresentou', 'atividades', 'financiamento', 'inglaterra', 'uns', 'chega', 'canal', 'financeira', 'suficiente', 'saiu', 'secretário', 'usado', 'aqueles', 'prefeitura', 'verão', 'batalha', 'passo', 'fala', 'global', 'sexo', 'fundação', 'votação', 'certa', 'aproximadamente', 'encontra', 'r', 'apresentado', 'disputa', 'setor', 'abaixo', 'esposa', 'livros', 'constituição', 'oposição', 'números', 'vítima', 'classe', 'ações', 'resto', 'transportes', 'direita', 'vir', 'igual', 'montante', 'motivo', 'diferença', 'falando', 'secretaria', 'sabia', 'cabo', 'melhorar', 'somos', 'quantidade', 'eleito', 'passagem', 'previsto', 'recentemente', 'aquilo', 'feitas', 'contou', 'taxas', 'eleitoral', 'henrique', 'vencer', 'utilizado', 'agricultura', 'estrangeiros', 'fundamental', 'pretende', 'veículo', 'colocar', 'juiz', 'nossas', 'marcelo', 'pesca', 'estudantes', 'museu', 'financeiro', 'pequenas', 'fogo', 'código', 'publicação', 'artigos', 'escolha', 'acontecer', 'jesus', 'pediu', 'preso', 'mudar', 'vítimas', 'medo', 'escreveu', 'seguintes', 'visita', 'características', 'ia', 'dizendo', 'poderão', 'juntos', 'rápido', 'ouvir', 'estrada', 'águas', 'linhas', 'dilma', 'escrito', 'dessas', 'palácio', 'fui', 'comunitária', 'marido', 'concurso', 'ministros', 'famílias', 'inicial', 'miguel', 'permitir', 'comunidades', 'provas', 'pedir', 'mandato', 'federação', 'níveis', 'violência', 'executivo', 'querem', 'pergunta', 'declarou', 'natal', 'mostrar', 'caixa', 'luiz', 'convenção', 'pé', 'mínimo', 'corte', 'morto', 'localidades', 'v', 'inclusive', 'fontes', 'vantagem', 'mesa', 'tipos', 'recurso', 'trata', 'aprovação', 'general', 'ligação', 'esperar', 'órgão', 'brasília', 'democracia', 'policiais', 'planos', 'etapa', 'etc', 'fronteira', 'deverão', 'partidos', 'presentes', 'casas', 'solo', 'viver', 'tentativa', 'ficaram', 'criada', 'municípios', 'terão', 'folha', 'grécia', 'assistência', 'pior', 'lugares', 'promover', 'oficiais', 'torno', 'anteriores', 'leva', 'colegas', 'longa', 'entidade', 'lula', 'juntamente', 'auxílio', 'faixa', 'brasileiros', 'daqui', 'sangue', 'consegue', 'pt', 'prevê', 'pereira', 'inquérito', 'vá', 'destaque', 'crédito', 'dizem', 'peça', 'precisamos', 'voto', 'aeroporto', 'produtores', 'artistas', 'investimentos', 'daí', 'faça', 'acaba', 'vê', 'globo', 'castelo', 'dando', 'integração', 'manutenção', 'delas', 'passando', 'aliás', 'praticamente', 'desempenho', 'atividade', 'bancos', 'tirar', 'ruas', 'mesmos', 'quinta', 'custo', 'falou', 'mudanças', 'entra', 'aparece', 'advogado', 'anual', 'tentou', 'boca', 'simplesmente', 'grave', 'enorme', 'abrir', 'bilhões', 'destino', 'intenção', 'resolver', 'artista', 'física', 'esteja', 'fiz', 'compromisso', 'médicos', 'devemos', 'dr', 'serra', 'histórico', 'ocasião', 'carne', 'capitão', 'críticas', 'recente', 'compra', 'fiscal', 'reduzir', 'minhas', 'propriedade', 'camisa', 'notícias', 'limite', 'dívida', 'condição', 'unidas', 'méxico', 'chance', 'cor', 'estabelece', 'inferior', 'existentes', 'discussão', 'sp', 'últimas', 'diga', 'terras', 'desenvolver', 'usando', 'humano', 'dúvida', 'gomes', 'oi', 'perda', 'caiu', 'queremos', 'pegar', 'vírus', 'cena', 'índice', 'posse', 'importa', 'disponíveis', 'circulação', 'promoção', 'professores', 'carros', 'naturais', 'poderes', 'times', 'irmã', 'conhecer', 'exterior', 'roberto', 'prefeito', 'programação', 'policial', 'prevista', 'quis', 'turismo', 'moradores', 'erro', 'desejo', 'posições', 'iniciou', 'tive', 'milhares', 'dito', 'parar', 'reserva', 'mensagem', 'jornalista', 'bens', 'disponível', 'seguro', 'oportunidades', 'autorização', 'animal', 'comprar', 'impostos', 'contém', 'passageiros', 'jornalistas', 'cedo', 'papa', 'leite', 'particularmente', 'necessária', 'comunicado', 'passaram', 'governos', 'relator', 'recebe', 'arena', 'negócio', 'guarda', 'gosta', 'cunha', 'olha', 'alegre', 'revisão', 'parlamentar', 'fazia', 'chamar', 'venha', 'arma', 'café', 'ocorre', 'desemprego', 'matar', 'preocupação', 'reais', 'sofreu', 'memória', 'esforço', 'daquele', 'reconhecimento', 'drogas', 'senado', 'liderança', 'olhar', 'mostrou', 'bahia', 'enfrentar', 'naquele', 'van', 'técnicos', 'estatuto', 'droga', 'motivos', 'nomeado', 'contato', 'esporte', 'garantia', 'cenário', 'horário', 'monte', 'alvo', 'postos', 'sabemos', 'semelhante', 'práticas', 'eleição', 'página', 'hotel', 'grau', 'navios', 'estabelecer', 'milhão', 'bolsa', 'acabar', 'criou', 'gás', 'adversário', 'começo', 'órgãos', 'elevado', 'marco', 'leitura', 'atitude', 'foto', 'feminino', 'crimes', 'essencial', 'príncipe', 'mudou', 'rainha', 'padre', 'assumir', 'encontrado', 'duração', 'irão', 'planeta', 'pedidos', 'concessão', 'residência', 'branca', 'vagas', 'cursos', 'senador', 'irmãos', 'imposto', 'claramente', 'previstas', 'notícia', 'fazenda', 'deputada', 'marcado', 'velha', 'revolução', 'tomou', 'antigos', 'vejo', 'medalha', 'letras', 'estruturas', 'projetos', 'menores', 'onu', 'rural', 'igualdade', 'acredito', 'haverá', 'colocado', 'avião', 'produtor', 'oferta', 'sentir', 'lançada', 'ambiental', 'braga', 'suíça', 'coordenação', 'rui', 'interna', 'ideias', 'decidir', 'carga', 'errado', 'ótimo', 'nele', 'deixando', 'continuam', 'daniel', 'índia', 'doenças', 'construir', 'mesmas', 'consigo', 'afinal', 'empresário', 'aberta', 'vinte', 'canadá', 'conhece', 'línguas', 'centros', 'dúvidas', 'quiser', 'recebido', 'inflação', 'bombeiros', 'vermelho', 'procurar', 'apresentada', 'trabalha', 'ato', 'exportação', 'toneladas', 'positivo', 'atendimento', 'salvador', 'presos', 'corrupção', 'chama', 'fundamentais', 'exame', 'negro', 'elemento', 'juventude', 'sexta', 'turno', 'conversa', 'ameaça', 'golpe', 'temperatura', 'aprovado', 'requisitos', 'possuem', 'minuto', 'dificuldade', 'colaboração', 'almeida', 'morrer', 'torna', 'ficam', 'certamente', 'suspeito', 'identidade', 'martins', 'leis', 'sabem', 'juros', 'ciclo', 'considerou', 'alberto', 'audiência', 'instalação', 'emergência', 'lembra', 'sai', 'bandeira', 'externa', 'tido', 'trouxe', 'alexandre', 'sequer', 'proteção', 'melhoria', 'prata', 'marcos', 'castro', 'desafio', 'reservas', 'sinais', 'americanos', 'terminar', 'surgiu', 'completo', 'naquela', 'nordeste', 'nisso', 'rápida', 'paraná', 'medicina', 'investigações', 'realizou', 'diretamente', 'cuidado', 'considerar', 'atingiu', 'licença', 'julgamento', 'universo', 'madrugada', 'interpretação', 'conquista', 'quinto', 'católica', 'surpresa', 'dança', 'supremo', 'encontram', 'comer', 'haja', 'culpa', 'gabinete', 'grego', 'mantém', 'ponta', 'céu', 'impedir', 'eficaz', 'tratar', 'querer', 'petróleo', 'expectativa', 't', 'trazer', 'feira', 'tecnologias', 'fotos', 'encontrada', 'fórmula', 'deveriam', 'colégio', 'considerados', 'regra', 'faixas', 'famoso', 'proteger', 'honra', 'divulgação', 'menino', 'ler', 'trabalhando', 'emissora', 'masculino', 'cadeia', 'equilíbrio', 'composição', 'recorde', 'representação', 'chuva', 'receita', 'traz', 'jornais', 'buscar', 'garante', 'suspensão', 'campeões', 'us', 'carioca', 'tabela', 'prédio', 'temer', 'relacionados', 'defende', 'chegando', 'chamou', 'volante', 'produzir', 'privado', 'acontecendo', 'cartão', 'contribuição', 'rodrigo', 'alma', 'recentes', 'centenas', 'exatamente', 'renda', 'menina', 'bispo', 'deixe', 'peter', 'sexual', 'corrente', 'rosto', 'tráfico', 'rapaz', 'erros', 'tá', 'salários', 'manteve', 'reis', 'mendes', 'sérgio', 'bloco', 'contribuir', 'mediante', 'rocha', 'f', 'indica', 'dono', 'greve', 'favorável', 'cá', 'usuários', 'comparação', 'prejuízo', 'comunitários', 'latina', 'refugiados', 'al', 'exclusivamente', 'candidatura', 'aliança', 'sozinho', 'alemães', 'competência', 'consulta', 'mato', 'votar', 'obrigação', 'colocou', 'perdido', 'césar', 'pib', 'previsão', 'dão', 'ruim', 'comida', 'pesquisas', 'tivemos', 'cobertura', 'assinatura', 'grosso', 'vender', 'daquela', 'bateu', 'decreto', 'expansão', 'inteiro', 'rival', 'motorista', 'esquema', 'naturalmente', 'serve', 'judicial', 'neto', 'constitucional', 'pm', 'baseada', 'correr', 'descobrir', 'costas', 'oferece', 'leve', 'achei', 'forem', 'destinados', 'populares', 'vivem', 'bebê', 'equivalente', 'capitais', 'basta', 'digital', 'verificar', 'interessante', 'impeachment', 'notas', 'pede', 'útil', 'joaquim', 'crescente', 'prioridade', 'duque', 'assinado', 'prestação', 'digo', 'aprovada', 'dizia', 'passam', 'agenda', 'souza', 'publicidade', 'fiscalização', 'empréstimos', 'permitiu', 'denúncia', 'super', 'disseram', 'dezenas', 'específico', 'pele', 'respondeu', 'fiscais', 'elaboração', 'estabelecido', 'eventual', 'pmdb', 'salário', 'direto', 'transformação', 'avançar', 'universal', 'lembrar', 'rafael', 'guilherme', 'zero', 'anúncio', 'j', 'avaliar', 'exemplos', 'emissão', 'divulgado', 'privada', 'chances', 'parada', 'centrais', 'férias', 'bela', 'mata', 'infantil', 'ligado', 'shows', 'pobres', 'levando', 'definido', 'seguido', 'topo', 'ficará', 'michel', 'estrangeiro', 'quente', 'prestar', 'destinado', 'on', 'células', 'identificação', 'conquistar', 'levaram', 'especialistas', 'identificar', 'acusado', 'combater', 'benefícios', 'charles', 'dona', 'olho', 'luxemburgo', 'meta', 'médica', 'cidadão', 'comunista', 'familiar', 'cardoso', 'biblioteca', 'fome', 'parlamentares', 'ganha', 'santana', 'altera', 'celular', 'açúcar', 'cama', 'quadros', 'investidores', 'atraso', 'convite', 'aparelho', 'satélite', 'junta', 'transparência', 'gravação', 'salvar', 'facilitar', 'triste', 'corresponde', 'carnaval', 'estiveram', 'acidentes', 'estudante', 'chile', 'eleitores', 'registro', 'exportações', 'enviar', 'aumentou', 'medicamentos', 'pernambuco', 'empresários', 'juro', 'bases', 'teremos', 'nação', 'segredo', 'floresta', 'acompanhado', 'esperando', 'organizado', 'socialistas', 'nela', 'concluir', 'adequada', 'síria', 'united', 'subiu', 'mandou', 'acusações', 'especificamente', 'ambientais', 'alterar', 'termina', 'metropolitana', 'conservação', 'facebook', 'telecomunicações', 'viagens', 'representam', 'participaram', 'estejam', 'treinamento', 'rousseff', 'planta', 'alerta', 'mecanismo', 'lados', 'ocorrido', 'fizemos', 'semestre', 'mostram', 'ranking', 'eliminação', 'universidades', 'soube', 'esquecer', 'clinton', 'exames', 'antigas', 'aprovou', 'democrático', 'lava', 'municipais', 'merda', 'mortes', 'cargos', 'individuais', 'ouviu', 'vicente', 'comunicações', 'respostas', 'lixo', 'negra', 'indústrias', 'vêm', 'ideal', 'lógica', 'ajudou', 'balanço', 'kg', 'jato', 'cobrança', 'cresceu', 'enviou', 'deixaram', 'aviso', 'cálculo', 'pobre', 'símbolo', 'ilegal', 'convidado', 'companhias', 'estivesse', 'roupa', 'urbana', 'advogados', 'sudeste', 'pobreza', 'vereador', 'matou', 'absolutamente', 'barbosa', 'aparecer', 'coloca', 'suspeita', 'ocorrer', 'convidados', 'matemática', 'bonito', 'operacional', 'árvores', 'estradas', 'gastos', 'referendo', 'propõe', 'crescer', 'zika', 'psdb', 'oceano', 'envolvendo', 'manifestação', 'reação', 'silêncio', 'obrigatório', 'específica', 'cabe', 'frota', 'empregos', 'estatais', 'restrições', 'pouca', 'proibição', 'campanhas', 'pago', 'mineiro', 'começam', 'estatísticas', 'atender', 'mínima', 'encerramento', 'curta', 'química', 'cria', 'paga', 'destinada', 'cheio', 'florestas', 'diminuição', 'alegria', 'jamais', 'es', 'pegou', 'atos', 'reconhecido', 'usou', 'perfil', 'parcial', 'observação', 'adultos', 'frase', 'comitê', 'exercer', 'trecho', 'beira', 'armadas', 'combustível', 'virtude', 'ocupa', 'jean', 'braços', 'coletiva', 'tantos', 'entraram', 'salas', 'reconhecer', 'von', 'quinze', 'significativa', 'coligação', 'condenado', 'manifestações', 'barco', 'rica', 'impressão', 'continuidade', 'perdendo', 'custa', 'apartamento', 'adicionais', 'constantes', 'diminuir', 'vidas', 'receberam', 'pp', 'tanta', 'mundiais', 'penal', 'acusação', 'chamadas', 'trinta', 'abre', 'integrar', 'inclusão', 'justo', 'solar', 'quebra', 'google', 'doente', 'perceber', 'referir', 'assassinato', 'definida', 'escolar', 'ceará', 'capa', 'atuais', 'famosa', 'provar', 'negros', 'sujeito', 'cantar', 'aviões', 'legislativo', 'andrade', 'contratação', 'bomba', 'avanço', 'plenário', 'inteligência', 'legais', 'herói', 'benefício', 'aceita', 'paciente', 'elétrica', 'renato', 'ex', 'fotografia', 'fatos', 'curitiba', 'administrativo', 'cuba', 'uruguai', 'violação', 'paula', 'decide', 'cirurgia', 'meninas', 'privados', 'coragem', 'beneficiar', 'major', 'plena', 'durou', 'fornecimento', 'eficiência', 'legislativa', 'inimigo', 'provocou', 'fortemente', 'black', 'completou', 'resultou', 'cuidar', 'usuário', 'negativo', 'professora', 'gravado', 'boletim', 'daqueles', 'petrobras', 'explosão', 'rendimentos', 'fechou', 'feminina', 'conseguimos', 'ampla', 'bernardo', 'contribuições', 'concorrentes', 'inscrição', 'adversários', 'demissão', 'corre', 'ligada', 'anualmente', 'caro', 'entregar', 'vídeos', 'fomos', 'reconhece', 'depoimento', 'envolve', 'aula', 'mora', 'descobriu', 'profissão', 'brasileiras', 'maia', 'internos', 'chefes', 'santiago', 'apple', 'confirmar', 'álcool', 'rurais', 'is', 'cozinha', 'piano', 'coordenador', 'toma', 'atacar', 'mídia', 'atores', 'decidiram', 'igrejas', 'verdes', 'dava', 'preta', 'assalto', 'jogada', 'mapa', 'hospitais', 'nucleares', 'venezuela', 'carteira', 'profunda', 'pasta', 'metro', 'criados', 'twitter', 'ufc', 'sindicatos', 'hollywood', 'roger', 'esperado', 'modalidade', 'planejamento', 'tese', 'graus', 'fabricante', 'design', 'alternativas', 'inimigos', 'associado', 'fraude', 'gil', 'exigir', 'pará', 'habitação', 'perde', 'campinas', 'assume', 'tornando', 'presidentes', 'deseja', 'fórum', 'neves', 'citado', 'compensação', 'desculpa', 'duarte', 'stf', 'utiliza', 'atribuição', 'xvi', 'aprovar', 'presidencial', 'externas', 'trabalhador', 'rodoviária', 'adicional', 'eleitos', 'limitado', 'exibido', 'ética', 'extremo', 'moto', 'harry', 'sensação', 'brancos', 'cerveja', 'elevados', 'conter', 'proposto', 'separação', 'direta', 'dedicado', 'moderno', 'falei', 'gustavo', 'peito', 'pedindo', 'vendidos', 'aplicado', 'assinar', 'aumenta', 'uniforme', 'produzidos', 'propaganda', 'invés', 'arquivos', 'privadas', 'ocupar', 'desenvolveu', 'variação', 'paraíba', 'unanimidade', 'completar', 'pinheiro', 'esportes', 'estaduais', 'protestos', 'namorado', 'define', 'federais', 'imigração', 'promessa', 'manifestantes', 'saindo', 'falha', 'escapar', 'envolvido', 'quantos', 'plenamente', 'qualificação', 'planalto', 'produz', 'empregados', 'havendo', 'miss', 'ovos', 'galeria', 'criminosos', 'caros', 'cristiano', 'adequadas', 'índios', 'reconheceu', 'escreve', 'montanhas', 'registrado', 'porte', 'reflexão', 'liberal', 'riqueza', 'galo', 'lucros', 'tirou', 'beber', 'confirmado', 'inteira', 'óleo', 'complementar', 'amazonas', 'isenção', 'promete', 'similar', 'dei', 'maranhão', 'investigar', 'cristã', 'superar', 'prometeu', 'street', 'trem', 'negou', 'mostrando', 'paraguai', 'republicano', 'subsídios', 'supervisão', 'integral', 'iniciais', 'iniciado', 'estávamos', 'muda', 'sozinha', 'recebem', 'recusou', 'relacionado', 'implantação', 'formam', 'aluno', 'atentado', 'morta', 'record', 'visitas', 'iva', 'fruto', 'recebendo', 'proprietários', 'intenções', 'charlie', 'ganho', 'inferno', 'hugo', 'sofre', 'componente', 'universitário', 'sétimo', 'indígenas', 'orgulho', 'afirmam', 'básico', 'batista', 'básica', 'viajar', 'felicidade', 'perigoso', 'mg', 'chinesa', 'informa', 'sic', 'gay', 'trump', 'desempenhar', 'acervo', 'ricos', 'vice', 'vacina', 'residentes', 'extinção', 'terroristas', 'seminário', 'amplo', 'catedral', 'islâmico', 'ferramentas', 'ditadura', 'participam', 'véspera', 'diploma', 'consta', 'renan', 'meninos', 'comunistas', 'febre', 'modernização', 'aéreas', 'correntes', 'responde', 'arroz', 'sugere', 'muçulmanos', 'históricos', 'visando', 'sentença', 'integrada', 'vivos', 'acertou', 'criadas', 'pão', 'elaborar', 'atinge', 'abertos', 'definitiva', 'representando', 'pensão', 'consegui', 'cortar', 'informado', 'dentes', 'nessas', 'anunciar', 'bolsas', 'ocorreram', 'falam', 'perderam', 'ministra', 'pc', 'escolheu', 'quadra', 'afastado', 'embaixador', 'patente', 'matriz', 'hectares', 'popularidade', 'azevedo', 'razoável', 'conceição', 'ganhando', 'preferência', 'placa', 'transmitir', 'radical', 'eleitorais', 'indicadores', 'diariamente', 'extra', 'determina', 'fechada', 'cidadania', 'itens', 'inicia', 'câmaras', 'basicamente', 'pagos', 'portos', 'religioso', 'fale', 'tragédia', 'bancada', 'cai', 'defensor', 'voltaram', 'decorrentes', 'confrontos', 'tim', 'denúncias', 'homicídio', 'saldo', 'provisória', 'liberalização', 'carbono', 'fugiu', 'acompanha', 'tínhamos', 'índices', 'descobre', 'virtual', 'urgente', 'mario', 'obama', 'financiar', 'interessa', 'roubo', 'desfile', 'vereadores', 'permitido', 'publicamente', 'fhc', 'existia', 'reconstrução', 'prévia', 'repente', 'varia', 'engraçado', 'mental', 'precisou', 'manda', 'dengue', 'presa', 'caetano', 'inaugurada', 'põe', 'reconhecida', 'acabam', 'cachorro', 'armada', 'segmento', 'montagem', 'gripe', 'voluntários', 'falava', 'paralelo', 'levam', 'esclarecer', 'gerações', 'levados', 'luxo', 'inferiores', 'provisório', 'dadas', 'surgir', 'u', 'sal', 'teto', 'entradas', 'pesquisadores', 'presidenciais', 'saiba', 'virar', 'tabaco', 'beneficiários', 'códigos', 'energética', 'sócios', 'virada', 'barroso', 'av', 'enfrentou', 'religiosos', 'suspeitas', 'extrema', 'abuso', 'iremos', 'resultante', 'eis', 'aprovados', 'incluído', 'mosquito', 'validade', 'entram', 'xv', 'abandonou', 'estágio', 'pega', 'orlando', 'terço', 'tentaram', 'muro', 'apoia', 'tecnológico', 'remuneração', 'voltando', 'profundo', 'apontam', 'desvio', 'assassino', 'roubar', 'longas', 'atuando', 'lagoa', 'intervir', 'ativos', 'criador', 'incentivar', 'vara', 'apontou', 'proporção', 'felizes', 'tavares', 'mello', 'morro', 'ibge', 'deviam', 'avançou', 'incentivo', 'católicos', 'fila', 'demora', 'senadores', 'utilizam', 'globais', 'né', 'selo', 'ativa', 'publicar', 'emprestado', 'acabado', 'quartos', 'façam', 'pescadores', 'seção', 'irmãs', 'porra', 'significativamente', 'autorizado', 'africanos', 'estranha', 'assassinado', 'declarado', 'fortuna', 'instalada', 'credibilidade', 'despesa', 'cpi', 'andamento', 'moro', 'tira', 'morar', 'repórter', 'li', 'joelho', 'laranja', 'vivendo', 'desastre', 'entregues', 'expulso', 'justa', 'manifestou', 'indicou', 'ad', 'mães', 'infraestrutura', 'aplicativo', 'morre', 'registrados', 'repressão', 'procurador', 'multidão', 'macedo', 'maus', 'legislações', 'optou', 'malta', 'conclui', 'correu', 'apoiado', 'falo', 'marinho', 'concursos', 'adequados', 'temporária', 'cláusula', 'aumentando', 'cabral', 'usp', 'mp', 'apelido', 'incidência', 'tentam', 'verba', 'confirma', 'saneamento', 'aborto', 'mostrado', 'marina', 'guiné', 'judiciário', 'criminalidade', 'fmi', 'piauí', 'entrando', 'vacinação', 'parentes', 'herança', 'subsídio', 'houvesse', 'democratas', 'desempregados', 'colonial', 'peço', 'polícias', 'bíblia', 'eletrônica', 'faltam', 'fornece', 'convicção', 'admitir', 'percebeu', 'salarial', 'conexão', 'grávida', 'acolhimento', 'aliado', 'exteriores', 'libras', 'auditoria', 'cia', 'quantia', 'fraca', 'complexidade', 'dose', 'resolvido', 'mínimos', 'entregou', 'gilberto', 'concedeu', 'metas', 'leal', 'causando', 'cocaína', 'chamam', 'cumpriu', 'hitler', 'construiu', 'beijo', 'associadas', 'assis', 'contribui', 'humanitária', 'preocupa', 'convidou', 'donald', 'am', 'conhecem', 'perdi', 'armado', 'parabéns', 'claros', 'apurar', 'ilegais', 'guerreiro', 'colocando', 'condenação', 'band', 'interpretar', 'pagou', 'albert', 'compatível', 'prato', 'controlada', 'ódio', 'detém', 'habitat', 'sbt', 'reajuste', 'moraes', 'executado', 'declarar', 'testemunha', 'preventiva', 'barreira', 'cura', 'legislatura', 'agressão', 'válida', 'massacre', 'promotor', 'bilhão', 'sócio', 'prontos', 'piores', 'geraldo', 'daquilo', 'falado', 'crises', 'ampliação', 'pf', 'primário', 'dividir', 'candidata', 'prevenir', 'procuram', 'destacar', 'contratar', 'probabilidade', 'estratégico', 'oitavo', 'lavagem', 'transmitida', 'fantasma', 'gráfico', 'flagrante', 'contingente', 'fátima', 'previdência', 'microcefalia', 'celulares', 'julgar', 'diminuiu', 'substituída', 'pauta', 'sindical', 'raro', 'anulação', 'piada', 'obriga', 'cumpre', 'descreveu', 'pastor', 'séria', 'instalar', 'louca', 'valer', 'exemplar', 'trigo', 'sofreram', 'adulto', 'aceito', 'divergências', 'desenvolve', 'garantindo', 'guardas', 'news', 'botão', 'estúdios', 'acampamento', 'alagoas', 'q', 'pediram', 'ampliar', 'adotar', 'apreensão', 'bilhete', 'indígena', 'servidor', 'votado', 'android', 'celso', 'parques', 'eleita', 'prejudicar', 'gastar', 'mogi', 'amarela', 'estimular', 'rj', 'bandeirantes', 'comparado', 'observou', 'empregado', 'cristianismo', 'condenados', 'dobro', 'caos', 'aprendeu', 'falsa', 'governadores', 'iphone', 'rejeição', 'graduação', 'criminoso', 'brigada', 'maconha', 'gratuito', 'perigosos', 'cinemas', 'recessão', 'hotéis', 'pr', 'violações', 'cúpula', 'atingindo', 'defendendo', 'comecei', 'assessor', 'petista', 'existiam', 'acre', 'poupança', 'executivos', 'ministérios', 'fazerem', 'optar', 'depender', 'incentivos', 'reagir', 'notáveis', 'assinada', 'bispos', 'fm', 'usava', 'transparente', 'cobrar', 'extinto', 'permissão', 'corredores', 'ingresso', 'comerciante', 'restrição', 'sargento', 'cobra', 'mineira', 'trabalhado', 'gasto', 'aumentaram', 'aplicados', 'romero', 'despedida', 'destinos', 'coloque', 'tende', 'localizados', 'percentual', 'apoiou', 'flávio', 'pedi', 'avanços', 'concedidas', 'out', 'táxi', 'parcerias', 'presas', 'atirar', 'mandatos', 'contínuo', 'doações', 'arábia', 'atende', 'líquidos', 'exílio', 'viabilidade', 'dominar', 'pedaços', 'correios', 'xi', 'engenheiros', 'percentuais', 'governar', 'barato', 'urnas', 'aprova', 'emenda', 'aedes', 'segmentos', 'começado', 'viaturas', 'metropolitano', 'mendonça', 'márcio', 'deixei', 'pretexto', 'declara', 'balança', 'áudio', 'proibida', 'circo', 'crescendo', 'conheci', 'constitucionais', 'escritora', 'cita', 'karl', 'investigado', 'eleitorado', 'bate', 'nascer', 'mortal', 'mauro', 'atacou', 'autorizar', 'trabalhista', 'costumam', 'quadrilha', 'medicamento', 'convocados', 'credores', 'bancária', 'cargas', 'chapa', 'batida', 'funcionando', 'lembrando', 'reagiu', 'legado', 'melhora', 'cresce', 'peguei', 'florestal', 'delação', 'caindo', 'daquelas', 'renováveis', 'especializados', 'sergipe', 'desconto', 'domésticos', 'coleta', 'fizer', 'inocente', 'sofrendo', 'prisões', 'lutando', 'jefferson', 'levadas', 'propina', 'efetivamente', 'renúncia', 'aposentadoria', 'estima', 'arrecadação', 'ferrari', 'tupi', 'patrocínio', 'conjuntamente', 'miséria', 'rosário', 'incerteza', 'lúcio', 'pagas', 'perícia', 'publica', 'exigido', 'nono', 'estuda', 'angra', 'aldeias', 'pego', 'prol', 'padres', 'deva', 'concreta', 'mito', 'guedes', 'efetivo', 'preocupada', 'invadiu', 'primárias', 'bala', 'ocupados', 'atirou', 'migração', 'un', 'acabando', 'indicando', 'helicóptero', 'sergio', 'limpa', 'cadastro', 'dependentes', 'nao', 'vladimir', 'investiga', 'barata', 'dano', 'votei', 'lidera', 'guardar', 'dependem', 'verificado', 'odebrecht', 'collor', 'liminar', 'insiste', 'atacado', 'oficinas', 'votou', 'perdemos', 'mexer', 'estaremos', 'votaram', 'anúncios', 'custou', 'farão', 'terços', 'reeleição', 'pênaltis', 'realizando', 'contratou', 'orgânica', 'cristóvão', 'diários', 'vira', 'joel', 'inédito', 'remédio', 'vaca', 'julio', 'premiada', 'cartazes', 'morrendo', 'ficha', 'vendendo', 'universitários', 'wellington', 'convida', 'compor', 'copo', 'desaparecer', 'andando', 'mapas', 'avalia', 'homicídios', 'violenta', 'cruel', 'vence', 'portão', 'pec', 'gestores', 'rara', 'edital', 'organizados', 'mensais', 'vínculo', 'ideologia', 'retirou', 'derivado', 'violento', 'vaz', 'chegue', 'introduzida', 'acréscimo', 'estupro', 'ganham', 'contribuem', 'funcional', 'psb', 'lúcia', 'pedem', 'vivemos', 'disciplinas', 'falsas', 'intérprete', 'olimpíada', 'calibre', 'paulinho', 'ansiedade', 'parente', 'praças', 'azeite', 'tratada', 'legítimo', 'aécio', 'doméstica', 'manifesta', 'universitária', 'chegamos', 'atrasado', 'prender', 'adiar', 'marta', 'volto', 'mortalidade', 'detalhe', 'ladrão', 'presta', 'trens', 'praticado', 'reclamar', 'recordes', 'lotes', 'marginal', 'licitação', 'representações', 'age', 'caído', 'promotores', 'wall', 'pacaembu', 'empregada', 'senna', 'nona', 'verdadeiras', 'prestou', 'pronunciar', 'esgoto', 'clínicas', 'formais', 'retirados', 'melhorou', 'comparar', 'déficit', 'silvio', 'cearense', 'sabiam', 'percorrer', 'rs', 'pesquisador', 'pagam', 'maternidade', 'vende', 'sacerdote', 'caminhões', 'paulistas', 'aluguel', 'jornadas', 'modificar', 'negras', 'favoravelmente', 'identificada', 'homossexuais', 'gilmar', 'critica', 'farinha', 'localizadas', 'percebi', 'surto', 'procuradoria', 'sindicais', 'cedeu', 'consecutivo', 'invenção', 'sustentar', 'aegypti', 'prévio', 'coincidência', 'patrão', 'sarney', 'faculdades', 'aperfeiçoamento', 'ocupando', 'aplicativos', 'tática', 'iguaçu', 'proíbe', 'cigarros', 'levaria', 'autoriza', 'violentos', 'macaco', 'pecuária', 'submeter', 'descobriram', 'bibliotecas', 'rachel', 'reduz', 'cassação', 'registradas', 'turísticos', 'osso', 'safra', 'condenou', 'reeleito', 'vejam', 'tse', 'respeitado', 'disciplinar', 'operadoras', 'colocaram', 'proporcional', 'registrar', 'manuela', 'pan', 'blog', 'defendido', 'operam', 'diplomata', 'negociado', 'apartamentos', 'consistente', 'aurélio', 'simão', 'atuam', 'encerrada', 'diesel', 'privilégios', 'magno', 'maceió', 'contestação', 'rápidas', 'guerrilha', 'variadas', 'salva', 'reduzidos', 'aborda', 'cambial', 'dúzia', 'agregado', 'maduro', 'suprema', 'remover', 'demonstram', 'honesto', 'ameaçado', 'comunismo', 'apagar', 'réu', 'reposição', 'corrêa', 'imunidade', 'inocência', 'anular', 'magistrados', 'presidenta', 'adora', 'compartilhar', 'sobrenome', 'importar', 'enfermeira', 'tiroteio', 'reduzindo', 'cláusulas', 'apuração', 'assaltos', 'fecha', 'dirceu', 'passamos', 'abertamente', 'niterói', 'representava', 'cofres', 'deixaria', 'roraima', 'contidas', 'maturidade', 'admiração', 'queima', 'ultrapassou', 'cigarro', 'fi', 'combatentes', 'eleitor', 'munições', 'sus', 'defendida', 'paes', 'uber', 'afastou', 'liderados', 'mineiros', 'quedas', 'fruta', 'reforçado', 'sugerir', 'defendia', 'ajudado', 'concluídos', 'legítima', 'pdt', 'amapá', 'elevar', 'colher', 'escravo', 'partidária', 'cícero', 'cv', 'constituinte', 'tributária', 'marx', 'assassinatos', 'dirigindo', 'condenada', 'envia', 'manchete', 'prendeu', 'vanessa', 'prisional', 'vencimento', 'estender', 'sequestro', 'lata', 'pedia', 'intensificar', 'bagagem', 'apoiam', 'calheiros', 'qualificados', 'chorando', 'fúria', 'foro', 'privilegiado', 'bêbado', 'fabiano', 'guatemala', 'enganar', 'escolhe', 'interferir', 'carmen', 'bruta', 'envelhecimento', 'maré', 'namorados', 'inocentes', 'cortou', 'efetiva', 'escolaridade', 'dem', 'acusada', 'fechando', 'disponibilizar', 'concentrado', 'continuem', 'laudo', 'pl', 'azar', 'andou', 'fugindo', 'arnaldo', 'mercosul', 'convocar', 'escravidão', 'farias', 'peres', 'alianças', 'éramos', 'provado', 'ciro', 'morrem', 'pouquinho', 'corpus', 'cubano', 'reportagens', 'manifestaram', 'mero', 'comparada', 'avaliada', 'patrícia', 'licenciamento', 'saí', 'favela', 'ocorrendo', 'amélia', 'meirelles', 'acabamos', 'refeições', 'negado', 'crônica', 'turnos', 'abrem', 'laboral', 'tecnológicos', 'pesa', 'cancelado', 'discutida', 'johann', 'condicionado', 'bico', 'seda', 'brinquedo', 'perdem', 'caverna', 'péssimo', 'suplente', 'casados', 'íntegra', 'diabetes', 'camisas', 'cheios', 'periódico', 'cardozo', 'df', 'contratada', 'causadas', 'legislativos', 'fêmea', 'ferraz', 'osasco', 'esquece', 'escrevi', 'estoque', 'expulsos', 'moram', 'monumental', 'rejeitada', 'concentra', 'cota', 'evita', 'atingidas', 'cresceram', 'delgado', 'coube', 'lideranças', 'comprovar', 'aparecendo', 'camões', 'tratam', 'cartel', 'romário', 'mantidas', 'grávidas', 'fornecem', 'condenar', 'ganhei', 'comanda', 'excessivamente', 'presidiu', 'revólver', 'loures', 'sujo', 'kit', 'jucá', 'alencar', 'hudson', 'tuberculose', 'disponibilizados', 'conheça', 'tietê', 'ajustes', 'homossexual', 'licenciatura', 'botões', 'agrária', 'gays', 'custam', 'cariocas', 'datado', 'viajantes', 'apoiando', 'cumprida', 'otávio', 'janot', 'fecharam', 'custódia', 'pendentes', 'entrei', 'acompanham', 'trabalhistas', 'trabalhavam', 'triplo', 'confia', 'pleito', 'facilita', 'detida', 'assina', 'evasão', 'agropecuária', 'corria', 'assessores', 'delito', 'nico', 'secretários', 'iniciadas', 'continuamos', 'micro', 'financeiramente', 'creme', 'emendas', 'expressos', 'copacabana', 'vício', 'may', 'lutam', 'declararam', 'diminuindo', 'decretos', 'protestar', 'genético', 'sairá', 'leitão', 'disponibilizado', 'ajustar', 'avisa', 'puxar', 'inserido', 'facções', 'tratando', 'transar', 'alessandro', 'condomínio', 'marisa', 'palha', 'terminam', 'disputando', 'bicicletas', 'exclusivos', 'numeração', 'vulnerável', 'macacos', 'coco', 'intercalar', 'reservatório', 'melhorando', 'colaborador', 'transações', 'saudáveis', 'obedecer', 'dante', 'esmagadora', 'revogação', 'taxistas', 'just', 'atlas', 'argumentação', 'afetadas', 'sexualmente', 'receberão', 'cumprindo', 'manuscritos', 'bndes', 'confessa', 'partidário', 'bovina', 'prefeitos', 'camila', 'aguardando', 'palhaço', 'nascidos', 'darem', 'motta', 'contratações', 'naqueles', 'enem', 'papo', 'ocuparam', 'impresso', 'cirurgias', 'office', 'alckmin', 'matado', 'boate', 'procuradores', 'asfalto', 'roubados', 'funcionária', 'gastou', 'beneficiado', 'cozinhar', 'arnold', 'somando', 'atendimentos', 'acabo', 'etária', 'filiado', 'materna', 'duplicação', 'einstein', 'analisada', 'goa', 'vitorioso', 'ocupadas', 'reúnem', 'fidel', 'urna', 'citação', 'luiza', 'estatístico', 'relacionamentos', 'ativistas', 'caem', 'mec', 'cola', 'seções', 'herdou', 'lares', 'transformando', 'demitir', 'indenização', 'somam', 'traficante', 'agiu', 'recolhidas', 'raquel', 'dividendos', 'depor', 'maciça', 'domicílios', 'curar', 'preside', 'motivou', 'invasores', 'crack', 'anatel', 'fragilidade', 'discípulos', 'suja', 'emprega', 'habitacional', 'gasta', 'coletivos', 'convênio', 'violentas', 'selos', 'beneficiou', 'comercializados', 'importado', 'pronunciou', 'teori', 'generalizado', 'moradia', 'protetor', 'acusam', 'guarujá', 'vestibular', 'teles', 'unicamp', 'anulado', 'voltem', 'consumir', 'voltava', 'integrando', 'colunista', 'votada', 'escondida', 'olinda', 'nulo', 'tivéssemos', 'tirado', 'aprovaram', 'pescar', 'tidos', 'cubana', 'ilegalidade', 'psol', 'pgr', 'convicções', 'datafolha', 'pedestres', 'viabilizar', 'funcionais', 'tomem', 'seguras', 'veste', 'espanto', 'exportar', 'quebrando', 'bandido', 'temporárias', 'mandei', 'preenchidas', 'deixamos', 'cut', 'diretas', 'desarmamento', 'arrecadou', 'emite', 'transtornos', 'aprende', 'honestidade', 'alimenta', 'máfia', 'inss', 'tramitação', 'expressiva', 'confio', 'cubanos', 'est', 'inserida', 'movido', 'silvestre', 'proibiu', 'estivemos', 'explícita', 'gratidão', 'oab', 'doar', 'inventar', 'jair', 'leitos', 'implantado', 'cometidas', 'contrabando', 'guarulhos', 'implantar', 'renovou', 'arquitetos', 'significando', 'ibope', 'pegaram', 'vencimentos', 'matas', 'atestado', 'desesperado', 'equatorial', 'camiseta', 'prévias', 'prende', 'mail', 'tamanha', 'fiscalizar', 'desastres', 'respeitada', 'voltados', 'saímos', 'comprados', 'tornarem', 'desconhecidas', 'chegaria', 'grades', 'táxis', 'tre', 'lewandowski', 'pós', 'recolhido', 'liberou', 'cambiais', 'tradutor', 'recordista', 'fariam', 'eliseu', 'dispostas', 'idosa', 'letícia', 'prefeituras', 'habitante', 'humanitárias', 'decretada', 'exclusivas', 'declarando', 'domésticas', 'receberem', 'crê', 'desconforto', 'envergadura', 'mensalão', 'levei', 'bradesco', 'aposentar', 'dificulta', 'tomamos', 'carteiras', 'capacitação', 'impressa', 'demitiu', 'tampouco', 'cruzeiros', 'fascista', 'calculados', 'misturar', 'revitalização', 'aprendendo', 'decida', 'farmácias', 'comprovante', 'atacada', 'mentiroso', 'edinho', 'zavascki', 'fernandinho', 'implementado', 'desempregado', 'ninja', 'saio', 'limão', 'disponibilizada', 'licenciados', 'furtos', 'ápice', 'maryland', 'vulnerabilidade', 'irresponsável', 'haddad', 'voltasse', 'controlam', 'tcu', 'clandestina', 'assassinados', 'supera', 'apreendidas', 'covarde', 'produziram', 'legalização', 'impunidade', 'milícia', 'antenas', 'bloqueado', 'ficariam', 'prometida', 'recebiam', 'freixo', 'senadora', 'virando', 'aposentados', 'auditor', 'márcia', 'padilha', 'solicitaram', 'discutindo', 'garotinho', 'teclados', 'disponibilizadas', 'uol', 'etanol', 'hepatite', 'magistratura', 'avançam', 'dissemos', 'injusta', 'cid', 'agressor', 'ávila', 'motocicletas', 'criminosas', 'lgbt', 'sabesp', 'indício', 'menções', 'oas', 'recolhimento', 'usei', 'modernizar', 'patronais', 'termine', 'rn', 'anulou', 'aptos', 'natura', 'discutidas', 'superávit', 'rumor', 'nazismo', 'petistas', 'atirando', 'creche', 'unificado', 'piauiense', 'fundão', 'invadido', 'rentável', 'flagrado', 'declaradas', 'antuérpia', 'fraga', 'percebem', 'pds', 'divulga', 'auditores', 'tesoureiro', 'recolheu', 'humilhação', 'beneficiados', 'pescado', 'pisa', 'tratos', 'vereadora', 'picada', 'quesito', 'stalin', 'plebiscito', 'ra', 'vota', 'refugiado', 'carentes', 'ridícula', 'apresentei', 'messias', 'transmissíveis', 'firmou', 'palocci', 'cortando', 'distribui', 'decididas', 'proporcionalmente', 'honestamente', 'che', 'nulos', 'acionista', 'habeas', 'juscelino', 'iate', 'grita', 'ilustrado', 'balde', 'cep', 'prisionais', 'acúmulo', 'abandonadas', 'terminei', 'iss', 'pensionistas', 'provisórios', 'silício', 'dágua', 'doador', 'ache', 'colocamos', 'natalidade', 'yale', 'concentram', 'sesi', 'destruíram', 'veracidade', 'processado', 'cru', 'colocava', 'ferrovias', 'propunha', 'trabalharem', 'pros', 'araguaia', 'dialogar', 'fabricada', 'denunciados', 'farto', 'lenha', 'abater', 'xixi', 'investigada', 'mercadante', 'quito', 'mourão', 'assaltante', 'capitalização', 'congressistas', 'tapa', 'venderam', 'outrem', 'prerrogativas', 'revogar', 'convence', 'residual', 'sacrificar', 'doria', 'inspira', 'realizarem', 'defendemos', 'preenchida', 'banqueiros', 'maldade', 'extintos', 'resolvem', 'investe', 'comprovação', 'nomeia', 'retrospecto', 'mst', 'ressaca', 'batalhões', 'consultório', 'cassado', 'bernardes', 'vivência', 'pagará', 'realizava', 'proponho', 'ambiguidade', 'pisar', 'eletrônicas', 'repasses', 'ufrj', 'privilegiar', 'nicolás', 'aposentou', 'matemáticas', 'venezuelana', 'empurrou', 'renomado', 'morales', 'pré', 'icms', 'descobrimos', 'praticando', 'editados', 'financia', 'adorava', 'creches', 'bi', 'criamos', 'chávez', 'estimula', 'orçamentária', 'concessionárias', 'unesp', 'regulamenta', 'prerrogativa', 'reclusão', 'anulada', 'ruídos', 'oriunda', 'ciclovia', 'islã', 'colorida', 'doutora', 'lulu', 'pezão', 'matrículas', 'explique', 'ente', 'evangelhos', 'tópico', 'agressores', 'sin', 'incentivou', 'defendo', 'mara', 'corrupto', 'disfarçar', 'programadas', 'administrados', 'secar', 'evoluindo', 'quimioterapia', 'expulsa', 'macarrão', 'suzano', 'carregue', 'desmatamento', 'cantareira', 'evaristo', 'assalariado', 'kubitschek', 'alíquota', 'visitados', 'crivella', 'regularizar', 'fgts', 'transportando', 'mandamentos', 'renovável', 'gutierrez', 'emprestou', 'entregando', 'apoiadores', 'genéricos', 'chuvoso', 'habitacionais', 'coca', 'atrasou', 'corregedoria', 'fiesp', 'mutirão', 'preveja', 'michele', 'comemorando', 'comandando', 'biocombustíveis', 'youssef', 'ampliando', 'hunt', 'participavam', 'vote', 'embraer', 'bagagens', 'recebo', 'negociadas', 'geraram', 'prenderam', 'subsecretário', 'vacinar', 'demorado', 'prb', 'reproduz', 'manualmente', 'miriam', 'escolhendo', 'suplicy', 'cavalcante', 'congelar', 'pedofilia', 'expoentes', 'bolsonaro', 'demasiada', 'roubadas', 'recolhe', 'xícara', 'assessora', 'perdesse', 'encostar', 'tr', 'sobrevivem', 'embriaguez', 'waters', 'merenda', 'pose', 'contrata', 'coloco', 'pagamos', 'ensinando', 'cadastrados', 'elegeram', 'melhoraram', 'psc', 'provada', 'beijando', 'ilícita', 'planejava', 'prometeram', 'mobilizou', 'mandava', 'robusto', 'itamaraty', 'quartéis', 'comprometidos', 'santoro', 'quadrilhas', 'hackers', 'improbidade', 'comitês', 'reduziram', 'pcdob', 'gatilho', 'chegara', 'passariam', 'cemitérios', 'comprova', 'aceitos', 'upp', 'implicou', 'envolva', 'coitado', 'ubs', 'demitidos', 'geoffrey', 'cresci', 'cobram', 'encarou', 'analfabetismo', 'brutalmente', 'mdb', 'batia', 'instaurou', 'inadimplência', 'portando', 'honestos', 'financiou', 'calorias', 'varas', 'fuzil', 'hoffmann', 'presídios', 'fontana', 'pedágio', 'pegam', 'desistiram', 'ppp', 'defendidas', 'cárcere', 'perdoou', 'espancado', 'cpmf', 'maioridade', 'inventada', 'espalhando', 'concorrendo', 'lideram', 'terrivelmente', 'rombo', 'commodities', 'acirrada', 'alegar', 'criei', 'tatuagens', 'doleiro', 'congonhas', 'esclarecida', 'cptm', 'trilhões', 'militarmente', 'milionários', 'esqueceram', 'iguatemi', 'posicionou', 'pró', 'comprovam', 'tce', 'dobrou', 'assinadas', 'alarmante', 'delator', 'apanha', 'fies', 'aprenda', 'golpista', 'guaíba', 'preserva', 'constituições', 'christi', 'desabafo', 'facadas', 'celsius', 'benção', 'declaro', 'baixado', 'idh', 'gastam', 'pagador', 'solange', 'iptu', 'multidisciplinar', 'etiquetas', 'implantou', 'gastando', 'participei', 'agrediu', 'filiada', 'deixá', 'escolhemos', 'transitar', 'obstruir', 'plantadas', 'proletariado', 'hidrelétricas', 'lutadora', 'sd', 'erra', 'dizeres', 'panfleto', 'alvaro', 'acreditaram', 'paralisada', 'capim', 'olhamos', 'frete', 'investiram', 'devastação', 'encarregadas', 'eólica', 'agredida', 'constitucionalidade', 'robertson', 'apologia', 'baixaram', 'esquecem', 'corretas', 'privatizar', 'ufmg', 'anuário', 'picciani', 'assaltada', 'impopular', 'seguidor', 'estourar', 'homofobia', 'holiday', 'custando', 'sujos', 'agronegócio', 'patrimoniais', 'cometem', 'apóia', 'levarão', 'guevara', 'blogs', 'abandonam', 'consultou', 'aquática', 'brt', 'tasso', 'modestas', 'entrevistar', 'obedecem', 'beneficiadas', 'invadem', 'leitte', 'homenageada', 'desejados', 'banespa', 'custeio', 'metropolitanos', 'consolidando', 'nordestinos', 'premiadas', 'herzog', 'isp', 'superlotação', 'viviane', 'drones', 'governadora', 'estuprada', 'acatar', 'comovente', 'estouro', 'jandira', 'trágicos', 'flavio', 'patriota', 'patamares', 'paises', 'deslocamentos', 'implantadas', 'abstinência', 'vitalício', 'multiplicado', 'arraes', 'solteiras', 'siglas', 'oea', 'percebida', 'mentirosa', 'erundina', 'canteiros', 'epilepsia', 'redigida', 'retiram', 'suspeição', 'versa', 'nuremberg', 'caviar', 'propagar', 'fapesp', 'trabalhados', 'populismo', 'fiocruz', 'desarmado', 'comprovou', 'odisseia', 'justifiquem', 'planilhas', 'convive', 'alcançadas', 'emblemática', 'travesti', 'pergaminho', 'bolton', 'anp', 'burguês', 'shimon', 'friday', 'votando', 'venezuelanos', 'dodge', 'movimentadas', 'index', 'renuncia', 'condenaram', 'schwarzenegger', 'assumimos', 'valorizou', 'orçada', 'clamor', 'protestam', 'aloizio', 'assumi', 'abrigam', 'soubessem', 'loreto', 'combatem', 'offshores', 'adiadas', 'adiantados', 'professoras', 'errei', 'aprovam', 'delações', 'broken', 'sobraram', 'adesivo', 'frigoríficos', 'toffoli', 'analfabetos', 'majoritário', 'signatário', 'cbn', 'everaldo', 'hídrica', 'gratificação', 'latrocínio', 'cancela', 'prp', 'detento', 'gleisi', 'carrefour', 'kassab', 'org', 'cnj', 'eleitas', 'ternos', 'inventando', 'insanidade', 'fecundidade', 'ditadores', 'mangabeira', 'paro', 'direcionar', 'mariz', 'ignoradas', 'sangria', 'majoritária', 'disparando', 'evo', 'amarildo', 'rasteira', 'previdenciária', 'transgressão', 'triplex', 'inativos', 'engravidou', 'divergente', 'sarampo', 'safado', 'migratório', 'apoiei', 'cursando', 'prouni', 'duplicado', 'cometemos', 'demarcada', 'propus', 'estancar', 'confisco', 'lindbergh', 'rjtv', 'anulados', 'paisana', 'conservando', 'encaminha', 'federativo', 'alarmantes', 'emergenciais', 'recolheram', 'carretas', 'uerj', 'prometidos', 'internações', 'consentir', 'debandada', 'despachar', 'oferecerá', 'brit', 'assistirem', 'rolagem', 'inflexão', 'facada', 'administrou', 'convulsão', 'target', 'remove', 'study', 'amanheceu', 'garotada', 'abrisse', 'edir', 'contraída', 'sat', 'suzane', 'suspeitava', 'nations', 'tríplex', 'disfarçados', 'tributárias', 'farra', 'criminalmente', 'brics', 'olímpio', 'heranças', 'excedido', 'estupros', 'delatores', 'rouanet', 'taurus', 'altíssima', 'votamos', 'preveem', 'gabarito', 'cumpri', 'intactos', 'presentear', 'lusíadas', 'ipea', 'estuprar', 'condensado', 'consultórios', 'cisternas', 'indulto', 'regularizada', 'jereissati', 'revalorização', 'agrotóxicos', 'pedófilos', 'venci', 'geddel', 'limonada', 'esc', 'realizamos', 'pronatec', 'justiceiro', 'trilhão', 'exponencialmente', 'orçamentário', 'comissionados', 'fechamos', 'ferozmente', 'encolher', 'articula', 'araruama', 'confeccionados', 'poça', 'cancerígenas', 'exterminar', 'prósperos', 'assola', 'tênue', 'infiéis', 'pediátrico', 'comparsas', 'colheres', 'impedi', 'assistenciais', 'refino', 'inflacionária', 'ressalvas', 'lênin', 'hebdo', 'psl', 'caminhoneiros', 'itaguaí', 'remuneradas', 'cortei', 'marcinho', 'vices', 'beneficiaria', 'indiscriminadamente', 'gastamos', 'interamericana', 'sobrepor', 'saltaram', 'assaltou', 'profissionalizantes', 'entreguei', 'originadas', 'tramando', 'ousados', 'estampada', 'oficialização', 'previdenciário', 'arbitrariedade', 'spc', 'prtb', 'abala', 'indicia', 'catarata', 'clt', 'witch', 'serasa', 'explicitar', 'processando', 'osorio', 'cármen', 'proficiência', 'intermodal', 'retomam', 'estudavam', 'criancinhas', 'encomendadas', 'possibilitará', 'mtst', 'perderão', 'cassar', 'comprem', 'penitenciárias', 'rollemberg', 'frequentando', 'pica', 'alistamento', 'terceirizados', 'capes', 'cvt', 'descontados', 'caps', 'mico', 'universalização', 'geólogos', 'vocacional', 'inaugurados', 'detalhamento', 'manufaturados', 'ideb', 'jacarezinho', 'corresponderam', 'nio', 'vencerá', 'aumentasse', 'doaram', 'quilates', 'batemos', 'tail', 'geógrafos', 'zerado', 'psicossocial', 'ipva', 'preservou', 'enriqueceu', 'caímos', 'bebedeira', 'comissionado', 'dst', 'dispensável', 'sabatina', 'aprovamos', 'bastaram', 'analgésico', 'inválida', 'skaf', 'picar', 'arrecada', 'pegaremos', 'liberaram', 'jatinho', 'síndico', 'berlinda', 'ptc', 'mica', 'upas', 'zilda', 'intrometer', 'crescemos', 'safras', 'ufsc', 'fraudar', 'pesquisado', 'divulgam', 'btg', 'votariam', 'pioraram', 'sufocado', 'movimentaram', 'funaro', 'bilionários', 'prop', 'glitter', 'vaza', 'innovation', 'jbs', 'boquete', 'aliando', 'lembrete', 'isolando', 'violentada', 'pactual', 'resgatando', 'respeitosamente', 'ufpr', 'ts', 'mogno', 'gcm', 'desmoronou', 'geraria', 'richthofen', 'destituir', 'informalidade', 'desconstrução', 'advogou', 'eike', 'avançamos', 'jumento', 'computados', 'paroquianos', 'inocentado', 'parlamentarista', 'espancada', 'arrepiar', 'guianas', 'zerar', 'probatório', 'carcerária', 'pegarmos', 'pescando', 'desclassificada', 'mayra', 'lançamos', 'prestadora', 'unasul', 'feghali', 'mogúncia', 'kandir', 'dolares', 'ofertar', 'justificasse', 'descriminalização', 'comprometia', 'perguntada', 'desaparecerá', 'adoecer', 'ant', 'bloqueador', 'lulinha', 'afligem', 'lupi', 'esporádica', 'antiterrorismo', 'rodoanel', 'humilhados', 'vp', 'arns', 'encaixado', 'subimos', 'presidiário', 'import', 'cantarem', 'indio', 'investimos', 'criadouro', 'textualmente', 'carcerário', 'serafina', 'porteiros', 'mesários', 'ajoelhar', 'atingi', 'reeleitos', 'inventam', 'subserviência', 'fraterna', 'homofóbico', 'alcoolizado', 'auferidos', 'torturador', 'pediatras', 'trabalharemos', 'reajustados', 'refrigerados', 'reelegeu', 'equivocadas', 'imbassahy', 'bozo', 'nordestinas', 'escuela', 'impressor', 'iniciarão', 'zanin', 'molon', 'russomanno', 'devolvo', 'poliglota', 'autuada', 'aeromoça', 'bolivariana', 'imutáveis', 'drugs', 'poliesportiva', 'firjan', 'veríamos', 'lancei', 'seletividade', 'classificaria', 'coaf', 'satanismo', 'alterará', 'guerrilheira', 'investirá', 'bancou', 'revistados', 'impacta', 'mentiram', 'reduzimos', 'estagnou', 'banners', 'mazzaropi', 'eletivas', 'crowdfunding', 'engodo', 'grazziotin', 'detona', 'wyllys', 'toras', 'injetou', 'boulos', 'territorialmente', 'celulite', 'machistas', 'molecada', 'frutal', 'aumentamos', 'baús', 'pestes', 'recuperamos', 'formadoras', 'assaltadas', 'embratur', 'renúncias', 'lactantes', 'bethlem', 'hidratante', 'inelegíveis', 'unger', 'sobrados', 'eleitora', 'leptospirose', 'pillar', 'cortamos', 'agredidas', 'fake', 'adulterada', 'herdeiras', 'nia', 'aposenta', 'poupatempo', 'previdenciárias', 'cumprissem', 'imaginávamos', 'caipirinha', 'barrinha', 'letalidade', 'gerber', 'continência', 'esquartejado', 'marburg', 'sinusite', 'jabor', 'insalubres', 'apenados', 'november', 'demarcado', 'ostentou', 'quilombola', 'surtando', 'regulamentando', 'vitimização', 'botaram', 'apertei', 'terceirizado', 'óbice', 'rapa', 'ué', 'espancou', 'picaretas', 'notem', 'insalubre', 'apac', 'comey', 'habana', 'malucelli', 'vexatória', 'canabidiol', 'homicide', 'joá', 'blocs', 'rinite', 'latinha', 'quadruplicou', 'atuarial', 'informavam', 'achocolatado', 'normatização', 'causasse', 'acariciando', 'fundeb', 'transgressores', 'fau', 'hrs', 'yanomami', 'jegue', 'halls', 'tipificado', 'registramos', 'embolsou', 'casem', 'corujão', 'amelinha', 'bilionária', 'kajuru', 'héteros', 'lifestyle', 'acreditávamos', 'demarcou', 'apreende', 'tracking', 'jirau', 'torcemos', 'gutemberg', 'acusá', 'cobramos', 'perrella', 'sadios', 'faetec', 'extirpar', 'colhemos', 'amanheceram', 'concentrasse', 'extrativistas', 'rotulou', 'martinha', 'questionamos', 'impactam', 'descalvado', 'desajuste', 'latinoamericana', 'inativas', 'elam', 'indeterminados', 'senhorinha', 'revendedoras', 'reaproveitar', 'ceus', 'autossuficiente', 'ataquei', 'indenizatória', 'posam', 'genocida', 'documentalmente', 'docinhos', 'violentadas', 'taí', 'devolvemos', 'amedronta', 'retomamos', 'despachadas', 'defasada', 'lgbts', 'impressores', 'desmascara', 'rompi', 'liberarem', 'relativizou', 'esfaqueia', 'exerci', 'pronaf', 'confessos', 'afrontando', 'ridicularizados', 'liberamos', 'novinhos', 'kakay', 'wi', 'inst', 'aposentam', 'satiagraha', 'rasuras', 'mprj', 'digitados', 'estampava', 'biscate', 'vivêssemos', 'vigoraram', 'rebolando', 'aquaviário', 'protetivas', 'superdotados', 'pasmem', 'econ', 'bilionárias', 'pisoteado', 'glo', 'nomeei', 'marielle', 'diminuímos', 'dipirona', 'quela', 'mails', 'reequipar', 'geramos', 'vigil', 'dcj', 'pétreas', 'lecionam', 'atingimento', 'embarcamos', 'retificou', 'advogo', 'espraiada', 'sóstenes', 'climatizados', 'arrecadamos', 'amamentam', 'tipificar', 'servico', 'mamando', 'elegê', 'joesley', 'superpostos', 'brts', 'pisavam', 'lisete', 'revogaram', 'piaui', 'dobrei', 'alocou', 'empregaria', 'vedou', 'dobramos', 'sonegados', 'grampeou', 'computou', 'intercambista', 'descaradas', 'superdotado', 'fust', 'represadas', 'aguardaria', 'compromissada', 'fundamos', 'transolímpica', 'unemployment', 'adélio', 'validam', 'esquartejou', 'inocenta', 'helvetia', 'laquê', 'teatrão', 'plantin', 'acumulamos', 'exitosos', 'subtraia', 'erj', 'proliferando', 'descuidadamente', 'descumprem', 'subst', 'ampliá', 'bitucas', 'aisp', 'mobilete', 'gadeia', 'sessim', 'meantime', 'univesp', 'censurá', 'semipresencial', 'supremacistas', 'desprezamos', 'quil', 'adulteraram', 'desalentados', 'dist', 'nawaf', 'inflation', 'descontextualizadas', 'repassem', 'baf', 'sedados', 'cassando', 'multiplicamos', 'ressalvo', 'smtr', 'auditou', 'cfh', 'prev', 'eeuu', 'consternou', 'estruture', 'implantei', 'daciolo', 'fotografem', 'migueles', 'heteronormatividade', 'crucificando', 'jamanxim', 'farmanguinhos', 'despistam', 'divorciem', 'desmatadores', 'descriminalizou', 'witzel', 'lém', 'desconsiderarmos', 'reformulamos', 'pabllo', 'despenalizou', 'exaurem', 'autorizarei', 'mucambos', 'filiei', 'guimbas', 'ctas', 'diebold', 'zerei', 'triplicamos', 'vittar', 'tripliquei', 'metr', 'raciocinem', 'impeachments', 'ncia', 'desalentadas', 'ndia', 'esfaqueador', 'amaz', 'mbito', 'enojadas', 'ngelo', 'autoteste', 'reconstrucción', 'nibus', 'funprev', 'nime', 'nimo', 'susane', 'compl', 'revalorizamos', 'desarmamentista', 'adesaf', 'sepultamos', 'realdonaldtrump', 'lbi', 'aposentarão', 'dogde', 'prezadíssimo', 'farinata', 'revalorizá', 'elenão'])\n"
          ],
          "name": "stdout"
        }
      ]
    },
    {
      "cell_type": "code",
      "metadata": {
        "id": "gzAVTlit1NWD"
      },
      "source": [
        "def monta_linha(palavra, coeficientes):\n",
        "    # Monta a linha com palavra _ coeficientes.\n",
        "    \n",
        "    linha = f'{palavra}'\n",
        "    for coef in coeficientes:\n",
        "        linha += f' {coef:.5f}'\n",
        "    linha += '\\n'\n",
        "    \n",
        "    return linha\n",
        "    "
      ],
      "execution_count": null,
      "outputs": []
    },
    {
      "cell_type": "code",
      "metadata": {
        "id": "3bCGmM5d1NWN"
      },
      "source": [
        "# Grava o novo arquivo com as embeddings de interesse.\n",
        "\n",
        "f = open('./embeddings/cbow_s50_filtrado.txt', 'w+', encoding='utf-8')\n",
        "# imprime a linha de cabecalho: \n",
        "cabecalho = f\"{len(embeddings_index)} {len(embeddings_index['a'])}\\n\"\n",
        "f.write(cabecalho)\n",
        "for word in embeddings_index:\n",
        "    coeficientes = embeddings_index[word]\n",
        "    linha = monta_linha(word, coeficientes)\n",
        "    f.write(linha)\n",
        "f.close()\n",
        "\n",
        "\n",
        "## fim da rotina"
      ],
      "execution_count": null,
      "outputs": []
    },
    {
      "cell_type": "code",
      "metadata": {
        "id": "KHvv7vDsDnN8"
      },
      "source": [
        "def clearLista(lista):\n",
        "  indice = 0\n",
        "  for tweet in lista:\n",
        "    \n",
        "    textLimpo = re.sub(r'http\\S+', '', tweet)                 # remove links\n",
        "    textLimpo = re.sub(r'https?:\\/\\/.*\\/\\w*', ' ', textLimpo) # remove outros hiperlinks\n",
        "    textLimpo = re.sub(r\"@(\\w+)\", ' ', textLimpo)             # remove mention\n",
        "    textLimpo = re.sub(r\"RT :\",' ',textLimpo)                 # remove RT\n",
        "    textLimpo = re.sub(r'[^\\w\\s]', ' ', textLimpo)            # remove pontuação\n",
        "    textLimpo = re.sub(r\"\\d\",' ', textLimpo)                  # remove digitos\n",
        "    textLimpo = re.sub(r'\\s\\s+', ' ', textlimpo)              # remove espaços em branco\n",
        "    textLimpo  = re.sub(r'\\\\t', ' ', textLimpo)               # remove tabulação\n",
        "    #textLimpo = re.sub('\\W+',' ', textLimpo)                 #retira char especiais, deixa só as letras\n",
        "    textLimpo = re.sub(r\"-()\\#/_;:<>{}`+=~|.!?,'$\", \"\", textLimpo)   # remove caracteres especiais \n",
        "    t['text'][indice] = textLimpo\n",
        "    indice = indice + 1\n",
        "    "
      ],
      "execution_count": null,
      "outputs": []
    },
    {
      "cell_type": "code",
      "metadata": {
        "id": "Q9c4cNTfBKUV"
      },
      "source": [
        "def modificaText(lista):                                #troca tweets pequenos pelo caracter '1'\n",
        "  indice = 0\n",
        "  for tweet in lista:\n",
        "    textTokenized = tokenize.word_tokenize(tweet, language='portuguese')\n",
        "    if(len(textTokenized)<2):\n",
        "      t['text'][indice] = '1'          \n",
        "\n",
        "    indice = indice + 1"
      ],
      "execution_count": null,
      "outputs": []
    },
    {
      "cell_type": "code",
      "metadata": {
        "id": "F9R4_0zxEVNo",
        "colab": {
          "base_uri": "https://localhost:8080/",
          "height": 411
        },
        "outputId": "83b85f1d-337e-4f96-f536-508205da3bf0"
      },
      "source": [
        "clearLista(t['text'])\n",
        "modificaText(t['text'])\n",
        "\n",
        "t['text']"
      ],
      "execution_count": null,
      "outputs": [
        {
          "output_type": "stream",
          "text": [
            "/usr/local/lib/python3.6/dist-packages/ipykernel_launcher.py:12: SettingWithCopyWarning: \n",
            "A value is trying to be set on a copy of a slice from a DataFrame\n",
            "\n",
            "See the caveats in the documentation: https://pandas.pydata.org/pandas-docs/stable/user_guide/indexing.html#returning-a-view-versus-a-copy\n",
            "  if sys.path[0] == '':\n",
            "/usr/local/lib/python3.6/dist-packages/ipykernel_launcher.py:6: SettingWithCopyWarning: \n",
            "A value is trying to be set on a copy of a slice from a DataFrame\n",
            "\n",
            "See the caveats in the documentation: https://pandas.pydata.org/pandas-docs/stable/user_guide/indexing.html#returning-a-view-versus-a-copy\n",
            "  \n"
          ],
          "name": "stderr"
        },
        {
          "output_type": "execute_result",
          "data": {
            "text/plain": [
              "0                     Janeiro tá até de mancada pp rt kkk\n",
              "1       Vídeo exato do momento que o Corona vírus cheg...\n",
              "2                             So estresse parceiro kkkkkk\n",
              "3                                   A Barbie tá diferente\n",
              "4       Eu tô todo felizinho com Pshycal da Dua Lipa q...\n",
              "                              ...                        \n",
              "3066    Que td mundo que me deve em possa me pagar em ...\n",
              "3067    Acho uma palhaçada eu indo trabalhar e o Lucas...\n",
              "3068                                      Última foto de \n",
              "3069    Deixa acontecer naturalmenteeeeeee eu não quer...\n",
              "3070     paulamcarrion gabiiimenezes danielpajeh Posso...\n",
              "Name: text, Length: 3071, dtype: object"
            ]
          },
          "metadata": {
            "tags": []
          },
          "execution_count": 100
        }
      ]
    },
    {
      "cell_type": "code",
      "metadata": {
        "id": "4iMFLhk3ERyM"
      },
      "source": [
        "indexNames = t[ t['text'] == '1' ].index    \n",
        " \n",
        "# apaga as linhas com o texto = '1'\n",
        "t.drop(indexNames , inplace=True)"
      ],
      "execution_count": null,
      "outputs": []
    },
    {
      "cell_type": "code",
      "metadata": {
        "id": "DadiSq4PFi-2",
        "colab": {
          "base_uri": "https://localhost:8080/",
          "height": 196
        },
        "outputId": "3fe96610-f8b2-4597-86a3-310a827d0f1f"
      },
      "source": [
        "t.head(2)"
      ],
      "execution_count": null,
      "outputs": [
        {
          "output_type": "execute_result",
          "data": {
            "text/html": [
              "<div>\n",
              "<style scoped>\n",
              "    .dataframe tbody tr th:only-of-type {\n",
              "        vertical-align: middle;\n",
              "    }\n",
              "\n",
              "    .dataframe tbody tr th {\n",
              "        vertical-align: top;\n",
              "    }\n",
              "\n",
              "    .dataframe thead th {\n",
              "        text-align: right;\n",
              "    }\n",
              "</style>\n",
              "<table border=\"1\" class=\"dataframe\">\n",
              "  <thead>\n",
              "    <tr style=\"text-align: right;\">\n",
              "      <th></th>\n",
              "      <th>Unnamed: 0</th>\n",
              "      <th>Unnamed: 0.1</th>\n",
              "      <th>id_str</th>\n",
              "      <th>created_at</th>\n",
              "      <th>text</th>\n",
              "      <th>entities.hashtags</th>\n",
              "      <th>place.full_name</th>\n",
              "    </tr>\n",
              "  </thead>\n",
              "  <tbody>\n",
              "    <tr>\n",
              "      <th>0</th>\n",
              "      <td>0</td>\n",
              "      <td>0</td>\n",
              "      <td>1223259637178302464</td>\n",
              "      <td>Fri Jan 31 14:59:59 +0000 2020</td>\n",
              "      <td>Janeiro tá até de mancada pp rt kkk</td>\n",
              "      <td>[]</td>\n",
              "      <td>Duque de Caxias, Brasil</td>\n",
              "    </tr>\n",
              "    <tr>\n",
              "      <th>1</th>\n",
              "      <td>1</td>\n",
              "      <td>1</td>\n",
              "      <td>1223259637002182663</td>\n",
              "      <td>Fri Jan 31 14:59:59 +0000 2020</td>\n",
              "      <td>Vídeo exato do momento que o Corona vírus cheg...</td>\n",
              "      <td>[]</td>\n",
              "      <td>Belém, Brazil</td>\n",
              "    </tr>\n",
              "  </tbody>\n",
              "</table>\n",
              "</div>"
            ],
            "text/plain": [
              "   Unnamed: 0  Unnamed: 0.1  ...  entities.hashtags          place.full_name\n",
              "0           0             0  ...                 []  Duque de Caxias, Brasil\n",
              "1           1             1  ...                 []            Belém, Brazil\n",
              "\n",
              "[2 rows x 7 columns]"
            ]
          },
          "metadata": {
            "tags": []
          },
          "execution_count": 102
        }
      ]
    },
    {
      "cell_type": "code",
      "metadata": {
        "id": "oJwKxJyVQTnW"
      },
      "source": [
        "#devemos alterar a quantidade de vezes\n",
        "min_threshold_rep = 9\n",
        "column_name = 'text'\n",
        "t['teste']= t['text'].str.replace(r'(\\w)\\1{%d,}'%(min_threshold_rep-1), r'\\1')"
      ],
      "execution_count": null,
      "outputs": []
    },
    {
      "cell_type": "code",
      "metadata": {
        "id": "ao-czwQdQTiy",
        "colab": {
          "base_uri": "https://localhost:8080/",
          "height": 221
        },
        "outputId": "215bbde0-b0de-4b1b-c833-2ebbf74601d6"
      },
      "source": [
        "t['teste']"
      ],
      "execution_count": null,
      "outputs": [
        {
          "output_type": "execute_result",
          "data": {
            "text/plain": [
              "0                     Janeiro tá até de mancada pp rt kkk\n",
              "1       Vídeo exato do momento que o Corona vírus cheg...\n",
              "2                             So estresse parceiro kkkkkk\n",
              "3                                   A Barbie tá diferente\n",
              "4       Eu tô todo felizinho com Pshycal da Dua Lipa q...\n",
              "                              ...                        \n",
              "3066    Que td mundo que me deve em possa me pagar em ...\n",
              "3067    Acho uma palhaçada eu indo trabalhar e o Lucas...\n",
              "3068                                      Última foto de \n",
              "3069    Deixa acontecer naturalmenteeeeeee eu não quer...\n",
              "3070     paulamcarrion gabiiimenezes danielpajeh Posso...\n",
              "Name: teste, Length: 3067, dtype: object"
            ]
          },
          "metadata": {
            "tags": []
          },
          "execution_count": 119
        }
      ]
    },
    {
      "cell_type": "code",
      "metadata": {
        "id": "JVC0wwS9QTP1"
      },
      "source": [
        ""
      ],
      "execution_count": null,
      "outputs": []
    },
    {
      "cell_type": "code",
      "metadata": {
        "id": "3VZAgJ2AKM9u"
      },
      "source": [
        "t.to_csv('/content/drive/My Drive/Colab Notebooks/Artigo Hate/novos notebooks/jan_limpo_teste.csv')"
      ],
      "execution_count": null,
      "outputs": []
    }
  ]
}