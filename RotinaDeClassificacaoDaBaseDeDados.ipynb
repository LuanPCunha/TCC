{
  "nbformat": 4,
  "nbformat_minor": 0,
  "metadata": {
    "colab": {
      "name": "RotinaDeClassificacaoDaBaseDeDados.ipynb",
      "provenance": [],
      "authorship_tag": "ABX9TyPhJSa0l2mM7McaJwGIDdUR",
      "include_colab_link": true
    },
    "kernelspec": {
      "name": "python3",
      "display_name": "Python 3"
    },
    "language_info": {
      "name": "python"
    }
  },
  "cells": [
    {
      "cell_type": "markdown",
      "metadata": {
        "id": "view-in-github",
        "colab_type": "text"
      },
      "source": [
        "<a href=\"https://colab.research.google.com/github/LuanPCunha/TCC/blob/main/RotinaDeClassificacaoDaBaseDeDados.ipynb\" target=\"_parent\"><img src=\"https://colab.research.google.com/assets/colab-badge.svg\" alt=\"Open In Colab\"/></a>"
      ]
    },
    {
      "cell_type": "code",
      "execution_count": null,
      "metadata": {
        "id": "48rHmBtajC8X"
      },
      "outputs": [],
      "source": [
        "from google.colab import drive\n",
        "drive.mount('/content/drive')"
      ]
    },
    {
      "cell_type": "markdown",
      "source": [
        "Base de Dados Twitter\n",
        "\n",
        "Análise da base de dados do Twitter com linguagem ofensiva\n",
        "\n",
        "Classificação"
      ],
      "metadata": {
        "id": "Zm09rOk5jmXZ"
      }
    },
    {
      "cell_type": "markdown",
      "source": [
        "Import e instalação das bibliotecas necessárias"
      ],
      "metadata": {
        "id": "5c2Gi9DJjsB6"
      }
    },
    {
      "cell_type": "code",
      "source": [
        "#Install e downloads\n",
        "!pip install emoji\n",
        "!pip install pandas\n",
        "!pip install nltk\n",
        "#nltk.download('all-nltk') #Demora um pouco"
      ],
      "metadata": {
        "id": "QNsNXZRsjt_Y"
      },
      "execution_count": null,
      "outputs": []
    },
    {
      "cell_type": "code",
      "source": [
        "#Imports\n",
        "import pandas as pd\n",
        "from nltk.tokenize import RegexpTokenizer\n",
        "import re\n",
        "import itertools"
      ],
      "metadata": {
        "id": "ZsV_6r2Rjh7w"
      },
      "execution_count": null,
      "outputs": []
    },
    {
      "cell_type": "code",
      "source": [
        "########## PATHS DE ARQUIVOS ##########\n",
        "\n",
        "# Base completa bruta\n",
        "PATH_BASE1_COM_STOPWORDS = r\"/content/drive/MyDrive/TCC/dados/processadas/Base1_Com_StopWords.csv\"  \n",
        "\n",
        "# Base teste bruta\n",
        "PATH_BASE2_SEM_STOPWORDS = r\"/content/drive/MyDrive/TCC/dados/processadas/Base2_Sem_StopWords.csv\"\n",
        "\n",
        "# Lista de Hates\n",
        "PATH_LIST_HATE_EXPRESSIONS_PT_BR = r\"/content/drive/MyDrive/TCC/dados/dicionarios/odio_list.csv\""
      ],
      "metadata": {
        "id": "EahfFd6Qj3hK"
      },
      "execution_count": null,
      "outputs": []
    },
    {
      "cell_type": "code",
      "source": [
        "#Carrega a base de dados com stopWords\n",
        "base1 = pd.read_csv(PATH_BASE1_COM_STOPWORDS, index_col=0)\n",
        "base1.head()"
      ],
      "metadata": {
        "id": "vuGQ6EzekJD8"
      },
      "execution_count": null,
      "outputs": []
    },
    {
      "cell_type": "code",
      "source": [
        "#Carrega a base de dados sem stopWords\n",
        "base2= pd.read_csv(PATH_BASE2_SEM_STOPWORDS, index_col=0)\n",
        "base2.head()"
      ],
      "metadata": {
        "id": "6Yq9b9sZkalp"
      },
      "execution_count": null,
      "outputs": []
    },
    {
      "cell_type": "code",
      "source": [
        "base1.shape"
      ],
      "metadata": {
        "id": "YVX0FZ1ik9AI"
      },
      "execution_count": null,
      "outputs": []
    },
    {
      "cell_type": "code",
      "source": [
        "base2.shape"
      ],
      "metadata": {
        "id": "v4VpeC7IkWko"
      },
      "execution_count": null,
      "outputs": []
    },
    {
      "cell_type": "markdown",
      "source": [
        "Classificação Hate, Hate+ e outros"
      ],
      "metadata": {
        "id": "m8kNfzkslUp4"
      }
    },
    {
      "cell_type": "code",
      "source": [
        "# Carrega dicionário hate\n",
        "dict_hate = pd.read_csv(PATH_LIST_HATE_EXPRESSIONS_PT_BR)\n",
        "dict_hate.head(5)"
      ],
      "metadata": {
        "id": "TBsc3pnLlDaI"
      },
      "execution_count": null,
      "outputs": []
    },
    {
      "cell_type": "code",
      "source": [
        "# Parte de classificação hate\n",
        "text = \"lula tá na cadeia bolsonaro lula tá na cadeia a\"\n",
        "palavra_hate = 'lula tá na cadeia'\n",
        "soma = 0\n",
        "result = re.subn(r'^' + palavra_hate + '\\s', palavra_hate + ' ',text) # Substitui no início\n",
        "print(result[1])\n",
        "soma+=result[1]\n",
        "result = re.subn(r'\\s' + palavra_hate + '$',' '+ palavra_hate,text) # Substitui no final\n",
        "print(result[1])\n",
        "soma+=result[1]\n",
        "result = re.subn(r'\\s' + palavra_hate + '\\s', ' '+palavra_hate+ ' ',text) #Substitui no meio\n",
        "print(result[1])\n",
        "soma+=result[1]\n",
        "print(\"soma:\"+str(soma))"
      ],
      "metadata": {
        "id": "x08hkDvIlR1z"
      },
      "execution_count": null,
      "outputs": []
    }
  ]
}