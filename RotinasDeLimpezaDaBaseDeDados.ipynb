{
  "nbformat": 4,
  "nbformat_minor": 0,
  "metadata": {
    "colab": {
      "name": "RotinasDeLimpezaDaBaseDeDados.ipynb",
      "provenance": [],
      "include_colab_link": true
    },
    "kernelspec": {
      "name": "python3",
      "display_name": "Python 3"
    },
    "language_info": {
      "name": "python"
    }
  },
  "cells": [
    {
      "cell_type": "markdown",
      "metadata": {
        "id": "view-in-github",
        "colab_type": "text"
      },
      "source": [
        "<a href=\"https://colab.research.google.com/github/LuanPCunha/TCC/blob/main/RotinasDeLimpezaDaBaseDeDados.ipynb\" target=\"_parent\"><img src=\"https://colab.research.google.com/assets/colab-badge.svg\" alt=\"Open In Colab\"/></a>"
      ]
    },
    {
      "cell_type": "code",
      "metadata": {
        "id": "wt-O7UFhHFvA"
      },
      "source": [
        "Teste Do primeiro push e do primira montagem de drive"
      ],
      "execution_count": null,
      "outputs": []
    },
    {
      "cell_type": "code",
      "metadata": {
        "id": "Qq3kCvNZKqEq",
        "outputId": "488fb1e9-e07d-4b5a-b1d3-da419bbdc750",
        "colab": {
          "base_uri": "https://localhost:8080/"
        }
      },
      "source": [
        "# Thalessa aqui\n",
        "arq = open(\"/content/drive/MyDrive/TCC/dados/dicionarios/vogais_duplicadas.csv\",\"r\")\n",
        "print(arq.read())\n",
        "arq.close()"
      ],
      "execution_count": 5,
      "outputs": [
        {
          "output_type": "stream",
          "name": "stdout",
          "text": [
            "vogais_duplicadas\n",
            "enjôo\n",
            "enjôos\n",
            "abençôo\n",
            "perdôo\n",
            "crêem\n",
            "dêem\n",
            "lêem\n",
            "vêem\n",
            "relêem\n",
            "prevêem\n",
            "voo\n",
            "voos\n",
            "enjoo\n",
            "enjoos\n",
            "abençoo\n",
            "perdoo\n",
            "creem\n",
            "deem\n",
            "leem\n",
            "veem\n",
            "releem\n",
            "preveem\n"
          ]
        }
      ]
    }
  ]
}