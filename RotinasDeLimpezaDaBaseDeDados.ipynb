{
  "nbformat": 4,
  "nbformat_minor": 0,
  "metadata": {
    "colab": {
      "name": "RotinasDeLimpezaDaBaseDeDados.ipynb",
      "provenance": [],
      "include_colab_link": true
    },
    "kernelspec": {
      "name": "python3",
      "display_name": "Python 3"
    },
    "language_info": {
      "name": "python"
    }
  },
  "cells": [
    {
      "cell_type": "markdown",
      "metadata": {
        "id": "view-in-github",
        "colab_type": "text"
      },
      "source": [
        "<a href=\"https://colab.research.google.com/github/LuanPCunha/TCC/blob/main/RotinasDeLimpezaDaBaseDeDados.ipynb\" target=\"_parent\"><img src=\"https://colab.research.google.com/assets/colab-badge.svg\" alt=\"Open In Colab\"/></a>"
      ]
    },
    {
      "cell_type": "code",
      "metadata": {
        "id": "U8-4D6gHR9cH",
        "outputId": "2118e2ce-b8c2-4d09-cec6-b38b165c47a1",
        "colab": {
          "base_uri": "https://localhost:8080/"
        }
      },
      "source": [
        "from google.colab import drive\n",
        "drive.mount('/content/drive')"
      ],
      "execution_count": 1,
      "outputs": [
        {
          "output_type": "stream",
          "name": "stdout",
          "text": [
            "Mounted at /content/drive\n"
          ]
        }
      ]
    },
    {
      "cell_type": "markdown",
      "metadata": {
        "id": "85MWVC-MRkEq"
      },
      "source": [
        "Base de Dados Twitter\n",
        "\n",
        "Análise da base de dados do Twitter com linguagem ofensiva\n",
        "\n",
        "Pré - Processamento do texto\n",
        "\n",
        "Classificação"
      ]
    },
    {
      "cell_type": "markdown",
      "metadata": {
        "id": "QhJufh39Rono"
      },
      "source": [
        "Import e instalação das bibliotecas necessárias"
      ]
    },
    {
      "cell_type": "code",
      "metadata": {
        "id": "lhGx5h16Rj0l",
        "outputId": "65bddd31-6a48-4d2b-cc0b-71908a6a7af9",
        "colab": {
          "base_uri": "https://localhost:8080/"
        }
      },
      "source": [
        "#Install e downloads\n",
        "!pip install emoji\n",
        "!pip install pandas\n",
        "!pip install nltk\n",
        "#nltk.download('all-nltk') #Demora um pouco"
      ],
      "execution_count": null,
      "outputs": [
        {
          "output_type": "stream",
          "name": "stdout",
          "text": [
            "Collecting emoji\n",
            "  Downloading emoji-1.6.3.tar.gz (174 kB)\n",
            "\u001b[?25l\r\u001b[K     |█▉                              | 10 kB 17.5 MB/s eta 0:00:01\r\u001b[K     |███▊                            | 20 kB 11.2 MB/s eta 0:00:01\r\u001b[K     |█████▋                          | 30 kB 9.1 MB/s eta 0:00:01\r\u001b[K     |███████▌                        | 40 kB 8.0 MB/s eta 0:00:01\r\u001b[K     |█████████▍                      | 51 kB 4.5 MB/s eta 0:00:01\r\u001b[K     |███████████▎                    | 61 kB 5.3 MB/s eta 0:00:01\r\u001b[K     |█████████████▏                  | 71 kB 5.3 MB/s eta 0:00:01\r\u001b[K     |███████████████                 | 81 kB 5.2 MB/s eta 0:00:01\r\u001b[K     |█████████████████               | 92 kB 5.7 MB/s eta 0:00:01\r\u001b[K     |██████████████████▉             | 102 kB 5.1 MB/s eta 0:00:01\r\u001b[K     |████████████████████▊           | 112 kB 5.1 MB/s eta 0:00:01\r\u001b[K     |██████████████████████▋         | 122 kB 5.1 MB/s eta 0:00:01\r\u001b[K     |████████████████████████▌       | 133 kB 5.1 MB/s eta 0:00:01\r\u001b[K     |██████████████████████████▍     | 143 kB 5.1 MB/s eta 0:00:01\r\u001b[K     |████████████████████████████▏   | 153 kB 5.1 MB/s eta 0:00:01\r\u001b[K     |██████████████████████████████  | 163 kB 5.1 MB/s eta 0:00:01\r\u001b[K     |████████████████████████████████| 174 kB 5.1 MB/s eta 0:00:01\r\u001b[K     |████████████████████████████████| 174 kB 5.1 MB/s \n",
            "\u001b[?25hBuilding wheels for collected packages: emoji\n",
            "  Building wheel for emoji (setup.py) ... \u001b[?25l\u001b[?25hdone\n",
            "  Created wheel for emoji: filename=emoji-1.6.3-py3-none-any.whl size=170298 sha256=3318b57d50ba90e1ba53b541b4c942ac10afbca3eaa4dd018c55921c84aeed68\n",
            "  Stored in directory: /root/.cache/pip/wheels/03/8b/d7/ad579fbef83c287215c0caab60fb0ae0f30c4d7ce5f580eade\n",
            "Successfully built emoji\n",
            "Installing collected packages: emoji\n",
            "Successfully installed emoji-1.6.3\n",
            "Requirement already satisfied: pandas in /usr/local/lib/python3.7/dist-packages (1.3.5)\n",
            "Requirement already satisfied: numpy>=1.17.3 in /usr/local/lib/python3.7/dist-packages (from pandas) (1.21.5)\n",
            "Requirement already satisfied: pytz>=2017.3 in /usr/local/lib/python3.7/dist-packages (from pandas) (2018.9)\n",
            "Requirement already satisfied: python-dateutil>=2.7.3 in /usr/local/lib/python3.7/dist-packages (from pandas) (2.8.2)\n",
            "Requirement already satisfied: six>=1.5 in /usr/local/lib/python3.7/dist-packages (from python-dateutil>=2.7.3->pandas) (1.15.0)\n",
            "Requirement already satisfied: nltk in /usr/local/lib/python3.7/dist-packages (3.2.5)\n",
            "Requirement already satisfied: six in /usr/local/lib/python3.7/dist-packages (from nltk) (1.15.0)\n"
          ]
        }
      ]
    },
    {
      "cell_type": "code",
      "metadata": {
        "id": "CVE3AI4FRwiJ"
      },
      "source": [
        "#Imports\n",
        "import pandas as pd\n",
        "from nltk.tokenize import RegexpTokenizer\n",
        "import re\n",
        "import itertools"
      ],
      "execution_count": 2,
      "outputs": []
    },
    {
      "cell_type": "code",
      "metadata": {
        "id": "4gx9VCYwRzhC"
      },
      "source": [
        "# Definição de constantes\n",
        "\n",
        "# Padrão RegEx\n",
        "PADRAO_PALAVRAS_PT = r'[a-zA-Zà-úÀ-Ú0-9]+'\n",
        "\n",
        "# Quantidade tokens tweets pequeno\n",
        "QUANT_TOKENS_MIN = 5\n",
        "\n",
        "########## PATHS DE ARQUIVOS ##########\n",
        "# Base completa bruta\n",
        "PATH_BASE_COMPLETA_BRUTA = r\"/content/drive/MyDrive/TCC/dados/tweets_coletados/base80k.csv\"\n",
        "\n",
        "# Base teste bruta\n",
        "PATH_BASE_TESTE_BRUTA = r\"/content/drive/MyDrive/TCC/dados/tweets_coletados/base_teste.csv\"\n",
        "\n",
        "# Dicionário de palavrões\n",
        "PATH_DICT_PALAVROES = r\"/content/drive/MyDrive/TCC/dados/dicionarios/badword_list.csv\"\n",
        "\n",
        "# Dicionário de internetes\n",
        "PATH_DICT_INTERNETES = r\"/content/drive/MyDrive/TCC/dados/dicionarios/internetes_list.csv\"\n",
        "\n",
        "# Dicionário de estados\n",
        "PATH_DICT_ESTADOS = r\"/content/drive/MyDrive/TCC/dados/dicionarios/estados_list.csv\"\n",
        "\n",
        "# Dicionário de expressões contraídas\n",
        "PATH_DICT_EXPRESSOES = r\"/content/drive/MyDrive/TCC/dados/dicionarios/dict_hate_contraidos.csv\"\n",
        "\n",
        "# Lista de vogais duplicadas\n",
        "PATH_LIST_VOGAIS_DUPLICADAS = r\"/content/drive/MyDrive/TCC/dados/dicionarios/vogais_duplicadas.csv\"\n",
        "\n",
        "# Lista de stopWords\n",
        "PATH_LIST_STOP_WORDS_PT_BR = r\"/content/drive/MyDrive/TCC/dados/dicionarios/stop_word_list.txt\"\n",
        "\n"
      ],
      "execution_count": 94,
      "outputs": []
    },
    {
      "cell_type": "code",
      "metadata": {
        "id": "FaVkPTQ-T5gc",
        "outputId": "7c5c7ba6-6827-4a2f-a98e-92bbe8dc0297",
        "colab": {
          "base_uri": "https://localhost:8080/",
          "height": 337
        }
      },
      "source": [
        "#Carrega a base de dados\n",
        "baseTweets = pd.read_csv(PATH_BASE_COMPLETA_BRUTA, index_col=0)\n",
        "#baseTweets = baseTweets.sample(n=1000) #PEGANDO 1000 REGISTROS DA BASE PARA TESTE, REMOVER ISSO DEPOIS\n",
        "baseTweets.head()"
      ],
      "execution_count": 95,
      "outputs": [
        {
          "output_type": "execute_result",
          "data": {
            "text/html": [
              "\n",
              "  <div id=\"df-80d36876-af52-46a5-8261-33712e4862ba\">\n",
              "    <div class=\"colab-df-container\">\n",
              "      <div>\n",
              "<style scoped>\n",
              "    .dataframe tbody tr th:only-of-type {\n",
              "        vertical-align: middle;\n",
              "    }\n",
              "\n",
              "    .dataframe tbody tr th {\n",
              "        vertical-align: top;\n",
              "    }\n",
              "\n",
              "    .dataframe thead th {\n",
              "        text-align: right;\n",
              "    }\n",
              "</style>\n",
              "<table border=\"1\" class=\"dataframe\">\n",
              "  <thead>\n",
              "    <tr style=\"text-align: right;\">\n",
              "      <th></th>\n",
              "      <th>id_str</th>\n",
              "      <th>created_at</th>\n",
              "      <th>text</th>\n",
              "      <th>entities.hashtags</th>\n",
              "      <th>place.full_name</th>\n",
              "    </tr>\n",
              "  </thead>\n",
              "  <tbody>\n",
              "    <tr>\n",
              "      <th>0</th>\n",
              "      <td>1270007273088339969</td>\n",
              "      <td>Mon Jun 08 14:58:24 +0000 2020</td>\n",
              "      <td>@allantercalivre PARABÉNS @allantercalivre</td>\n",
              "      <td>[]</td>\n",
              "      <td>Sao Paulo, Brazil</td>\n",
              "    </tr>\n",
              "    <tr>\n",
              "      <th>1</th>\n",
              "      <td>1270005650945343489</td>\n",
              "      <td>Mon Jun 08 14:51:57 +0000 2020</td>\n",
              "      <td>RT @franciscoedi11: @allantercalivre Eu queria...</td>\n",
              "      <td>[]</td>\n",
              "      <td>NaN</td>\n",
              "    </tr>\n",
              "    <tr>\n",
              "      <th>2</th>\n",
              "      <td>1270002784742539264</td>\n",
              "      <td>Mon Jun 08 14:40:34 +0000 2020</td>\n",
              "      <td>@allantercalivre @EdnaBraga Gostei da pulseira...</td>\n",
              "      <td>[]</td>\n",
              "      <td>Sao Paulo, Brazil</td>\n",
              "    </tr>\n",
              "    <tr>\n",
              "      <th>3</th>\n",
              "      <td>1270001502124417025</td>\n",
              "      <td>Mon Jun 08 14:35:28 +0000 2020</td>\n",
              "      <td>@allantercalivre @FBI Esses não irão ao encont...</td>\n",
              "      <td>[]</td>\n",
              "      <td>Recife, Brazil</td>\n",
              "    </tr>\n",
              "    <tr>\n",
              "      <th>4</th>\n",
              "      <td>1270000103416266754</td>\n",
              "      <td>Mon Jun 08 14:29:54 +0000 2020</td>\n",
              "      <td>@allantercalivre Cadê eles ?\\r\\nTá faltando</td>\n",
              "      <td>[]</td>\n",
              "      <td>Nova Iguaçu, Brasil</td>\n",
              "    </tr>\n",
              "  </tbody>\n",
              "</table>\n",
              "</div>\n",
              "      <button class=\"colab-df-convert\" onclick=\"convertToInteractive('df-80d36876-af52-46a5-8261-33712e4862ba')\"\n",
              "              title=\"Convert this dataframe to an interactive table.\"\n",
              "              style=\"display:none;\">\n",
              "        \n",
              "  <svg xmlns=\"http://www.w3.org/2000/svg\" height=\"24px\"viewBox=\"0 0 24 24\"\n",
              "       width=\"24px\">\n",
              "    <path d=\"M0 0h24v24H0V0z\" fill=\"none\"/>\n",
              "    <path d=\"M18.56 5.44l.94 2.06.94-2.06 2.06-.94-2.06-.94-.94-2.06-.94 2.06-2.06.94zm-11 1L8.5 8.5l.94-2.06 2.06-.94-2.06-.94L8.5 2.5l-.94 2.06-2.06.94zm10 10l.94 2.06.94-2.06 2.06-.94-2.06-.94-.94-2.06-.94 2.06-2.06.94z\"/><path d=\"M17.41 7.96l-1.37-1.37c-.4-.4-.92-.59-1.43-.59-.52 0-1.04.2-1.43.59L10.3 9.45l-7.72 7.72c-.78.78-.78 2.05 0 2.83L4 21.41c.39.39.9.59 1.41.59.51 0 1.02-.2 1.41-.59l7.78-7.78 2.81-2.81c.8-.78.8-2.07 0-2.86zM5.41 20L4 18.59l7.72-7.72 1.47 1.35L5.41 20z\"/>\n",
              "  </svg>\n",
              "      </button>\n",
              "      \n",
              "  <style>\n",
              "    .colab-df-container {\n",
              "      display:flex;\n",
              "      flex-wrap:wrap;\n",
              "      gap: 12px;\n",
              "    }\n",
              "\n",
              "    .colab-df-convert {\n",
              "      background-color: #E8F0FE;\n",
              "      border: none;\n",
              "      border-radius: 50%;\n",
              "      cursor: pointer;\n",
              "      display: none;\n",
              "      fill: #1967D2;\n",
              "      height: 32px;\n",
              "      padding: 0 0 0 0;\n",
              "      width: 32px;\n",
              "    }\n",
              "\n",
              "    .colab-df-convert:hover {\n",
              "      background-color: #E2EBFA;\n",
              "      box-shadow: 0px 1px 2px rgba(60, 64, 67, 0.3), 0px 1px 3px 1px rgba(60, 64, 67, 0.15);\n",
              "      fill: #174EA6;\n",
              "    }\n",
              "\n",
              "    [theme=dark] .colab-df-convert {\n",
              "      background-color: #3B4455;\n",
              "      fill: #D2E3FC;\n",
              "    }\n",
              "\n",
              "    [theme=dark] .colab-df-convert:hover {\n",
              "      background-color: #434B5C;\n",
              "      box-shadow: 0px 1px 3px 1px rgba(0, 0, 0, 0.15);\n",
              "      filter: drop-shadow(0px 1px 2px rgba(0, 0, 0, 0.3));\n",
              "      fill: #FFFFFF;\n",
              "    }\n",
              "  </style>\n",
              "\n",
              "      <script>\n",
              "        const buttonEl =\n",
              "          document.querySelector('#df-80d36876-af52-46a5-8261-33712e4862ba button.colab-df-convert');\n",
              "        buttonEl.style.display =\n",
              "          google.colab.kernel.accessAllowed ? 'block' : 'none';\n",
              "\n",
              "        async function convertToInteractive(key) {\n",
              "          const element = document.querySelector('#df-80d36876-af52-46a5-8261-33712e4862ba');\n",
              "          const dataTable =\n",
              "            await google.colab.kernel.invokeFunction('convertToInteractive',\n",
              "                                                     [key], {});\n",
              "          if (!dataTable) return;\n",
              "\n",
              "          const docLinkHtml = 'Like what you see? Visit the ' +\n",
              "            '<a target=\"_blank\" href=https://colab.research.google.com/notebooks/data_table.ipynb>data table notebook</a>'\n",
              "            + ' to learn more about interactive tables.';\n",
              "          element.innerHTML = '';\n",
              "          dataTable['output_type'] = 'display_data';\n",
              "          await google.colab.output.renderOutput(dataTable, element);\n",
              "          const docLink = document.createElement('div');\n",
              "          docLink.innerHTML = docLinkHtml;\n",
              "          element.appendChild(docLink);\n",
              "        }\n",
              "      </script>\n",
              "    </div>\n",
              "  </div>\n",
              "  "
            ],
            "text/plain": [
              "                id_str                      created_at  \\\n",
              "0  1270007273088339969  Mon Jun 08 14:58:24 +0000 2020   \n",
              "1  1270005650945343489  Mon Jun 08 14:51:57 +0000 2020   \n",
              "2  1270002784742539264  Mon Jun 08 14:40:34 +0000 2020   \n",
              "3  1270001502124417025  Mon Jun 08 14:35:28 +0000 2020   \n",
              "4  1270000103416266754  Mon Jun 08 14:29:54 +0000 2020   \n",
              "\n",
              "                                                text entities.hashtags  \\\n",
              "0         @allantercalivre PARABÉNS @allantercalivre                []   \n",
              "1  RT @franciscoedi11: @allantercalivre Eu queria...                []   \n",
              "2  @allantercalivre @EdnaBraga Gostei da pulseira...                []   \n",
              "3  @allantercalivre @FBI Esses não irão ao encont...                []   \n",
              "4        @allantercalivre Cadê eles ?\\r\\nTá faltando                []   \n",
              "\n",
              "       place.full_name  \n",
              "0    Sao Paulo, Brazil  \n",
              "1                  NaN  \n",
              "2    Sao Paulo, Brazil  \n",
              "3       Recife, Brazil  \n",
              "4  Nova Iguaçu, Brasil  "
            ]
          },
          "metadata": {},
          "execution_count": 95
        }
      ]
    },
    {
      "cell_type": "code",
      "source": [
        "baseTweets.shape"
      ],
      "metadata": {
        "id": "4wkzYMsa_LcH",
        "outputId": "79f05458-df63-4470-a1ad-893398f00bd3",
        "colab": {
          "base_uri": "https://localhost:8080/"
        }
      },
      "execution_count": 96,
      "outputs": [
        {
          "output_type": "execute_result",
          "data": {
            "text/plain": [
              "(82149, 5)"
            ]
          },
          "metadata": {},
          "execution_count": 96
        }
      ]
    },
    {
      "cell_type": "markdown",
      "metadata": {
        "id": "nXsmpxj_VCxY"
      },
      "source": [
        "Fase 1\n",
        "Definição das funções usadas na limpeza Etapas:\n",
        "\n",
        "1. Remover menções (Remover @fulano)\n",
        "2. Remover caracteres especiais Remover caracteres de pontuação\n",
        "3. Remover emojis\n",
        "4. Expandir internetês\n",
        "5. Normalizar nomes de estados (SP->São Paulo)\n",
        "6. Retirar letras repetidas\n",
        "7. Remover tweets com <5 tokens\n",
        "8. Remover tweets repetidos (texto idêntico)"
      ]
    },
    {
      "cell_type": "code",
      "metadata": {
        "id": "hLDPHRyvVEsD"
      },
      "source": [
        "# Main\n",
        "\n",
        "# Carregando dicionários\n",
        "tokenizer = RegexpTokenizer(PADRAO_PALAVRAS_PT)\n",
        "dict_internetes = pd.read_csv(PATH_DICT_INTERNETES)\n",
        "dict_estados = pd.read_csv(PATH_DICT_ESTADOS)\n",
        "dict_expressoes = pd.read_csv(PATH_DICT_EXPRESSOES, encoding='latin-1')\n",
        "list_vogais_duplicadas = pd.read_csv(PATH_LIST_VOGAIS_DUPLICADAS)\n",
        "\n",
        "def pre_processamento(text):\n",
        "    # Limpeza\n",
        "    text = remover_mencao(text.lower()) # Remover menções\n",
        "    text = re.sub(r'http\\S+', '', text) # Remover links\n",
        "    tokens = tokenizer.tokenize(text) # Remover caracteres especiais, pontuação e emojis\n",
        "    tokens = expandir_sigla(tokens,dict_internetes) # Expandir Internetes\n",
        "    tokens = expandir_sigla(tokens,dict_estados) # Normalizar nomes de estado\n",
        "    tokens = remover_letras_repetidas(tokens, list_vogais_duplicadas) # Retirar letras repetidas\n",
        "    tokens = seta_tweet_pequeno_para_um(tokens) # Marca tweets pequenos\n",
        "\n",
        "    text_limpo = \" \".join(tokens)\n",
        "    return text_limpo\n",
        "\n",
        "# Remover menções   \n",
        "def remover_mencao(tweet):\n",
        "    tweet_sem_mencao = re.sub(r'[@]\\w+', '', tweet)\n",
        "    tweet_sem_mencao = \" \".join(tweet_sem_mencao.split()) # Remover espaços a mais\n",
        "    return tweet_sem_mencao\n",
        "\n",
        "# ESSA FUNÇÃO É CASE-SENSITIVE\n",
        "def expandir_sigla(tokens, dicionario):\n",
        "    colunas_dicionario = dicionario.columns\n",
        "    dicionario_py = dicionario.set_index(colunas_dicionario[0]).to_dict() # Converte Dataframe para dicionário python\n",
        "    dicionario_py = dicionario_py[colunas_dicionario[1]]\n",
        "    keys = list(dicionario_py.keys())\n",
        "\n",
        "    indice = 0\n",
        "    for token in tokens:\n",
        "      if token in keys:\n",
        "        tokens[indice] = dicionario_py[token]\n",
        "      indice+=1\n",
        "    \n",
        "    return tokens\n",
        "\n",
        "# Retirar letras repetidas\n",
        "def remover_letras_repetidas(tokens, lista):\n",
        "    lista = list(lista['vogais_duplicadas'])\n",
        "    tokens_sem_letras_repetidas = []\n",
        "    for token in tokens:\n",
        "        flag = True\n",
        "        if token not in lista: # Se for uma palavra com vogais dobradas não modifica o token\n",
        "            for i in range(len(token)):\n",
        "                # Se tiver \"rr\" ou \"ss\" não modifica o token\n",
        "                try:\n",
        "                    if (token[i].lower()=='r' and token[i+1].lower()=='r') or\\\n",
        "                        (token[i].lower()=='s' and token[i+1].lower()=='s'):\n",
        "                        flag = False\n",
        "                        break\n",
        "                except:\n",
        "                    break\n",
        "            if flag:\n",
        "                # Remove letras repetidas\n",
        "                token = ''.join(c[0] for c in itertools.groupby(token))\n",
        "        tokens_sem_letras_repetidas.append(token)\n",
        "    return tokens_sem_letras_repetidas\n",
        "\n",
        "# Marca tweets pequenos\n",
        "def seta_tweet_pequeno_para_um(tokens):\n",
        "    if len(tokens)<QUANT_TOKENS_MIN:\n",
        "        tokens = '1'\n",
        "    return tokens"
      ],
      "execution_count": 97,
      "outputs": []
    },
    {
      "cell_type": "code",
      "metadata": {
        "id": "lUHrn97DYh89"
      },
      "source": [
        "# Aplicar pré processamento na base\n",
        "baseTweets['text_limpo'] = baseTweets['text'].apply(lambda x: pre_processamento(x))\n",
        "baseTweets.head()"
      ],
      "execution_count": 98,
      "outputs": []
    },
    {
      "cell_type": "code",
      "source": [
        "# Remover tweets marcados como pequenos e remove tweets repetidos(texto idêntico) \n",
        "baseTweets.drop_duplicates(subset='text_limpo', keep='first', inplace=True)\n",
        "\n",
        "# apaga a linha com o texto = '1' que sobra\n",
        "baseTweets = baseTweets[baseTweets['text_limpo']!='1']\n",
        "\n",
        "# consertar o index\n",
        "#baseTweets.reset_index(inplace=True)\n",
        "#baseTweets.drop(columns=\"index\" , inplace=True)"
      ],
      "metadata": {
        "id": "6LCOpBVk8SHs"
      },
      "execution_count": 99,
      "outputs": []
    },
    {
      "cell_type": "code",
      "source": [
        "# Porque está diminuindo quando rodamos mais de uma vez ?\n",
        "baseTweets.shape"
      ],
      "metadata": {
        "id": "BB4RWsuA_PPG",
        "colab": {
          "base_uri": "https://localhost:8080/"
        },
        "outputId": "dec38210-3550-45dd-d34e-c739ac8ce5ab"
      },
      "execution_count": 100,
      "outputs": [
        {
          "output_type": "execute_result",
          "data": {
            "text/plain": [
              "(63380, 6)"
            ]
          },
          "metadata": {},
          "execution_count": 100
        }
      ]
    },
    {
      "cell_type": "code",
      "metadata": {
        "id": "yFZz24V3Fecx"
      },
      "source": [
        "baseTweets.to_csv('/content/drive/MyDrive/TCC/dados/processadas/Base1_Com_StopWords.csv') #Salva base limpa"
      ],
      "execution_count": 102,
      "outputs": []
    },
    {
      "cell_type": "markdown",
      "metadata": {
        "id": "oTxagMLGFCo_"
      },
      "source": [
        "Fase 2\n",
        "remover stopswords"
      ]
    },
    {
      "cell_type": "code",
      "metadata": {
        "id": "eWB-wfr8YqqZ"
      },
      "source": [
        "# O arquivo \"portuguese\" contem Stopwords em Portugues\n",
        "Sw = open(PATH_LIST_STOP_WORDS_PT_BR,'r',encoding='utf-8')\n",
        "ptBr_stopwords = Sw.read()"
      ],
      "execution_count": 103,
      "outputs": []
    },
    {
      "cell_type": "code",
      "metadata": {
        "id": "J4ut0uAnFMjB",
        "colab": {
          "base_uri": "https://localhost:8080/",
          "height": 600
        },
        "outputId": "4d9ddd7d-9057-4175-d2ac-513af7c968c8"
      },
      "source": [
        "baseTweets['text_cleanStopWords'] = baseTweets['text_limpo'].apply(lambda x: ' '.join([word for word in x.split() if word not in (ptBr_stopwords)]))\n",
        "baseTweets.head()"
      ],
      "execution_count": 104,
      "outputs": [
        {
          "output_type": "execute_result",
          "data": {
            "text/html": [
              "\n",
              "  <div id=\"df-aec69c75-a0cd-45ef-b90d-eb58d3e15725\">\n",
              "    <div class=\"colab-df-container\">\n",
              "      <div>\n",
              "<style scoped>\n",
              "    .dataframe tbody tr th:only-of-type {\n",
              "        vertical-align: middle;\n",
              "    }\n",
              "\n",
              "    .dataframe tbody tr th {\n",
              "        vertical-align: top;\n",
              "    }\n",
              "\n",
              "    .dataframe thead th {\n",
              "        text-align: right;\n",
              "    }\n",
              "</style>\n",
              "<table border=\"1\" class=\"dataframe\">\n",
              "  <thead>\n",
              "    <tr style=\"text-align: right;\">\n",
              "      <th></th>\n",
              "      <th>id_str</th>\n",
              "      <th>created_at</th>\n",
              "      <th>text</th>\n",
              "      <th>entities.hashtags</th>\n",
              "      <th>place.full_name</th>\n",
              "      <th>text_limpo</th>\n",
              "      <th>text_cleanStopWords</th>\n",
              "    </tr>\n",
              "  </thead>\n",
              "  <tbody>\n",
              "    <tr>\n",
              "      <th>1</th>\n",
              "      <td>1270005650945343489</td>\n",
              "      <td>Mon Jun 08 14:51:57 +0000 2020</td>\n",
              "      <td>RT @franciscoedi11: @allantercalivre Eu queria...</td>\n",
              "      <td>[]</td>\n",
              "      <td>NaN</td>\n",
              "      <td>retwet eu queria compartilhar mas antes eu gos...</td>\n",
              "      <td>retwet queria compartilhar antes gostaria sabe...</td>\n",
              "    </tr>\n",
              "    <tr>\n",
              "      <th>2</th>\n",
              "      <td>1270002784742539264</td>\n",
              "      <td>Mon Jun 08 14:40:34 +0000 2020</td>\n",
              "      <td>@allantercalivre @EdnaBraga Gostei da pulseira...</td>\n",
              "      <td>[]</td>\n",
              "      <td>Sao Paulo, Brazil</td>\n",
              "      <td>gostei da pulseira e da educação dele nossaaa ...</td>\n",
              "      <td>gostei pulseira educação nossaaa muita elegânc...</td>\n",
              "    </tr>\n",
              "    <tr>\n",
              "      <th>3</th>\n",
              "      <td>1270001502124417025</td>\n",
              "      <td>Mon Jun 08 14:35:28 +0000 2020</td>\n",
              "      <td>@allantercalivre @FBI Esses não irão ao encont...</td>\n",
              "      <td>[]</td>\n",
              "      <td>Recife, Brazil</td>\n",
              "      <td>esses não irão ao encontro e beijing</td>\n",
              "      <td>irão encontro beijing</td>\n",
              "    </tr>\n",
              "    <tr>\n",
              "      <th>5</th>\n",
              "      <td>1269998146601529344</td>\n",
              "      <td>Mon Jun 08 14:22:08 +0000 2020</td>\n",
              "      <td>@allantercalivre e eu me questionando:  “quem ...</td>\n",
              "      <td>[]</td>\n",
              "      <td>Mossoró, Brasil</td>\n",
              "      <td>e eu me questionando quem é esse blogueiro sem...</td>\n",
              "      <td>questionando blogueiro blog juntos</td>\n",
              "    </tr>\n",
              "    <tr>\n",
              "      <th>6</th>\n",
              "      <td>1269997249746087939</td>\n",
              "      <td>Mon Jun 08 14:18:34 +0000 2020</td>\n",
              "      <td>@allantercalivre @marciolabre @jairbolsonaro R...</td>\n",
              "      <td>[]</td>\n",
              "      <td>Uberlândia, Brasil</td>\n",
              "      <td>renan caloteiro desonesto vejam link abaixo</td>\n",
              "      <td>renan caloteiro desonesto vejam link abaixo</td>\n",
              "    </tr>\n",
              "  </tbody>\n",
              "</table>\n",
              "</div>\n",
              "      <button class=\"colab-df-convert\" onclick=\"convertToInteractive('df-aec69c75-a0cd-45ef-b90d-eb58d3e15725')\"\n",
              "              title=\"Convert this dataframe to an interactive table.\"\n",
              "              style=\"display:none;\">\n",
              "        \n",
              "  <svg xmlns=\"http://www.w3.org/2000/svg\" height=\"24px\"viewBox=\"0 0 24 24\"\n",
              "       width=\"24px\">\n",
              "    <path d=\"M0 0h24v24H0V0z\" fill=\"none\"/>\n",
              "    <path d=\"M18.56 5.44l.94 2.06.94-2.06 2.06-.94-2.06-.94-.94-2.06-.94 2.06-2.06.94zm-11 1L8.5 8.5l.94-2.06 2.06-.94-2.06-.94L8.5 2.5l-.94 2.06-2.06.94zm10 10l.94 2.06.94-2.06 2.06-.94-2.06-.94-.94-2.06-.94 2.06-2.06.94z\"/><path d=\"M17.41 7.96l-1.37-1.37c-.4-.4-.92-.59-1.43-.59-.52 0-1.04.2-1.43.59L10.3 9.45l-7.72 7.72c-.78.78-.78 2.05 0 2.83L4 21.41c.39.39.9.59 1.41.59.51 0 1.02-.2 1.41-.59l7.78-7.78 2.81-2.81c.8-.78.8-2.07 0-2.86zM5.41 20L4 18.59l7.72-7.72 1.47 1.35L5.41 20z\"/>\n",
              "  </svg>\n",
              "      </button>\n",
              "      \n",
              "  <style>\n",
              "    .colab-df-container {\n",
              "      display:flex;\n",
              "      flex-wrap:wrap;\n",
              "      gap: 12px;\n",
              "    }\n",
              "\n",
              "    .colab-df-convert {\n",
              "      background-color: #E8F0FE;\n",
              "      border: none;\n",
              "      border-radius: 50%;\n",
              "      cursor: pointer;\n",
              "      display: none;\n",
              "      fill: #1967D2;\n",
              "      height: 32px;\n",
              "      padding: 0 0 0 0;\n",
              "      width: 32px;\n",
              "    }\n",
              "\n",
              "    .colab-df-convert:hover {\n",
              "      background-color: #E2EBFA;\n",
              "      box-shadow: 0px 1px 2px rgba(60, 64, 67, 0.3), 0px 1px 3px 1px rgba(60, 64, 67, 0.15);\n",
              "      fill: #174EA6;\n",
              "    }\n",
              "\n",
              "    [theme=dark] .colab-df-convert {\n",
              "      background-color: #3B4455;\n",
              "      fill: #D2E3FC;\n",
              "    }\n",
              "\n",
              "    [theme=dark] .colab-df-convert:hover {\n",
              "      background-color: #434B5C;\n",
              "      box-shadow: 0px 1px 3px 1px rgba(0, 0, 0, 0.15);\n",
              "      filter: drop-shadow(0px 1px 2px rgba(0, 0, 0, 0.3));\n",
              "      fill: #FFFFFF;\n",
              "    }\n",
              "  </style>\n",
              "\n",
              "      <script>\n",
              "        const buttonEl =\n",
              "          document.querySelector('#df-aec69c75-a0cd-45ef-b90d-eb58d3e15725 button.colab-df-convert');\n",
              "        buttonEl.style.display =\n",
              "          google.colab.kernel.accessAllowed ? 'block' : 'none';\n",
              "\n",
              "        async function convertToInteractive(key) {\n",
              "          const element = document.querySelector('#df-aec69c75-a0cd-45ef-b90d-eb58d3e15725');\n",
              "          const dataTable =\n",
              "            await google.colab.kernel.invokeFunction('convertToInteractive',\n",
              "                                                     [key], {});\n",
              "          if (!dataTable) return;\n",
              "\n",
              "          const docLinkHtml = 'Like what you see? Visit the ' +\n",
              "            '<a target=\"_blank\" href=https://colab.research.google.com/notebooks/data_table.ipynb>data table notebook</a>'\n",
              "            + ' to learn more about interactive tables.';\n",
              "          element.innerHTML = '';\n",
              "          dataTable['output_type'] = 'display_data';\n",
              "          await google.colab.output.renderOutput(dataTable, element);\n",
              "          const docLink = document.createElement('div');\n",
              "          docLink.innerHTML = docLinkHtml;\n",
              "          element.appendChild(docLink);\n",
              "        }\n",
              "      </script>\n",
              "    </div>\n",
              "  </div>\n",
              "  "
            ],
            "text/plain": [
              "                id_str                      created_at  \\\n",
              "1  1270005650945343489  Mon Jun 08 14:51:57 +0000 2020   \n",
              "2  1270002784742539264  Mon Jun 08 14:40:34 +0000 2020   \n",
              "3  1270001502124417025  Mon Jun 08 14:35:28 +0000 2020   \n",
              "5  1269998146601529344  Mon Jun 08 14:22:08 +0000 2020   \n",
              "6  1269997249746087939  Mon Jun 08 14:18:34 +0000 2020   \n",
              "\n",
              "                                                text entities.hashtags  \\\n",
              "1  RT @franciscoedi11: @allantercalivre Eu queria...                []   \n",
              "2  @allantercalivre @EdnaBraga Gostei da pulseira...                []   \n",
              "3  @allantercalivre @FBI Esses não irão ao encont...                []   \n",
              "5  @allantercalivre e eu me questionando:  “quem ...                []   \n",
              "6  @allantercalivre @marciolabre @jairbolsonaro R...                []   \n",
              "\n",
              "      place.full_name                                         text_limpo  \\\n",
              "1                 NaN  retwet eu queria compartilhar mas antes eu gos...   \n",
              "2   Sao Paulo, Brazil  gostei da pulseira e da educação dele nossaaa ...   \n",
              "3      Recife, Brazil               esses não irão ao encontro e beijing   \n",
              "5     Mossoró, Brasil  e eu me questionando quem é esse blogueiro sem...   \n",
              "6  Uberlândia, Brasil        renan caloteiro desonesto vejam link abaixo   \n",
              "\n",
              "                                 text_cleanStopWords  \n",
              "1  retwet queria compartilhar antes gostaria sabe...  \n",
              "2  gostei pulseira educação nossaaa muita elegânc...  \n",
              "3                              irão encontro beijing  \n",
              "5                 questionando blogueiro blog juntos  \n",
              "6        renan caloteiro desonesto vejam link abaixo  "
            ]
          },
          "metadata": {},
          "execution_count": 104
        }
      ]
    },
    {
      "cell_type": "code",
      "metadata": {
        "id": "4FsVbVhzFNJw"
      },
      "source": [
        "baseTweets.to_csv('/content/drive/MyDrive/TCC/dados/processadas/Base2_Sem_StopWords.csv') #Salva base limpa"
      ],
      "execution_count": 105,
      "outputs": []
    },
    {
      "cell_type": "code",
      "source": [
        ""
      ],
      "metadata": {
        "id": "c3vf5eVQXxnk"
      },
      "execution_count": null,
      "outputs": []
    }
  ]
}