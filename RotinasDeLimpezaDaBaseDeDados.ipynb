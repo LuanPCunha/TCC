{
  "nbformat": 4,
  "nbformat_minor": 0,
  "metadata": {
    "colab": {
      "name": "RotinasDeLimpezaDaBaseDeDados.ipynb",
      "provenance": [],
      "mount_file_id": "1ilIzz0Is67f9kifjOSWNlPsYAAElInMN",
      "authorship_tag": "ABX9TyOyONY5CVhzylipG+5H1mXZ",
      "include_colab_link": true
    },
    "kernelspec": {
      "name": "python3",
      "display_name": "Python 3"
    },
    "language_info": {
      "name": "python"
    }
  },
  "cells": [
    {
      "cell_type": "markdown",
      "metadata": {
        "id": "view-in-github",
        "colab_type": "text"
      },
      "source": [
        "<a href=\"https://colab.research.google.com/github/LuanPCunha/TCC/blob/main/RotinasDeLimpezaDaBaseDeDados.ipynb\" target=\"_parent\"><img src=\"https://colab.research.google.com/assets/colab-badge.svg\" alt=\"Open In Colab\"/></a>"
      ]
    },
    {
      "cell_type": "code",
      "metadata": {
        "id": "wt-O7UFhHFvA"
      },
      "source": [
        "Teste Do primeiro push e do primira montagem de drive"
      ],
      "execution_count": null,
      "outputs": []
    }
  ]
}