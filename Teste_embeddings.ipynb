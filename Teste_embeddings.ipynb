{
  "nbformat": 4,
  "nbformat_minor": 0,
  "metadata": {
    "colab": {
      "name": "Teste embeddings.ipynb",
      "provenance": [],
      "authorship_tag": "ABX9TyPqMOFJb/JJBRX4o1xDCXsn",
      "include_colab_link": true
    },
    "kernelspec": {
      "name": "python3",
      "display_name": "Python 3"
    },
    "language_info": {
      "name": "python"
    }
  },
  "cells": [
    {
      "cell_type": "markdown",
      "metadata": {
        "id": "view-in-github",
        "colab_type": "text"
      },
      "source": [
        "<a href=\"https://colab.research.google.com/github/LuanPCunha/TCC/blob/main/Teste_embeddings.ipynb\" target=\"_parent\"><img src=\"https://colab.research.google.com/assets/colab-badge.svg\" alt=\"Open In Colab\"/></a>"
      ]
    },
    {
      "cell_type": "markdown",
      "source": [
        "# Rotinas de Criação de Matriz de Embeddings\n"
      ],
      "metadata": {
        "id": "TS5C7AO_6jmN"
      }
    },
    {
      "cell_type": "code",
      "source": [
        "! pip install keras==2.7.0\n",
        "! pip show keras"
      ],
      "metadata": {
        "id": "Wdy49u0KnZA_",
        "colab": {
          "base_uri": "https://localhost:8080/",
          "height": 505
        },
        "outputId": "576d7714-7e4d-4fac-82f9-15e182dc6033"
      },
      "execution_count": 74,
      "outputs": [
        {
          "output_type": "stream",
          "name": "stdout",
          "text": [
            "Collecting keras==2.7.0\n",
            "  Downloading keras-2.7.0-py2.py3-none-any.whl (1.3 MB)\n",
            "\u001b[?25l\r\u001b[K     |▎                               | 10 kB 24.9 MB/s eta 0:00:01\r\u001b[K     |▌                               | 20 kB 29.0 MB/s eta 0:00:01\r\u001b[K     |▊                               | 30 kB 35.5 MB/s eta 0:00:01\r\u001b[K     |█                               | 40 kB 27.2 MB/s eta 0:00:01\r\u001b[K     |█▎                              | 51 kB 21.3 MB/s eta 0:00:01\r\u001b[K     |█▌                              | 61 kB 24.0 MB/s eta 0:00:01\r\u001b[K     |█▊                              | 71 kB 24.7 MB/s eta 0:00:01\r\u001b[K     |██                              | 81 kB 26.3 MB/s eta 0:00:01\r\u001b[K     |██▏                             | 92 kB 28.7 MB/s eta 0:00:01\r\u001b[K     |██▌                             | 102 kB 27.4 MB/s eta 0:00:01\r\u001b[K     |██▊                             | 112 kB 27.4 MB/s eta 0:00:01\r\u001b[K     |███                             | 122 kB 27.4 MB/s eta 0:00:01\r\u001b[K     |███▏                            | 133 kB 27.4 MB/s eta 0:00:01\r\u001b[K     |███▍                            | 143 kB 27.4 MB/s eta 0:00:01\r\u001b[K     |███▊                            | 153 kB 27.4 MB/s eta 0:00:01\r\u001b[K     |████                            | 163 kB 27.4 MB/s eta 0:00:01\r\u001b[K     |████▏                           | 174 kB 27.4 MB/s eta 0:00:01\r\u001b[K     |████▍                           | 184 kB 27.4 MB/s eta 0:00:01\r\u001b[K     |████▊                           | 194 kB 27.4 MB/s eta 0:00:01\r\u001b[K     |█████                           | 204 kB 27.4 MB/s eta 0:00:01\r\u001b[K     |█████▏                          | 215 kB 27.4 MB/s eta 0:00:01\r\u001b[K     |█████▍                          | 225 kB 27.4 MB/s eta 0:00:01\r\u001b[K     |█████▋                          | 235 kB 27.4 MB/s eta 0:00:01\r\u001b[K     |██████                          | 245 kB 27.4 MB/s eta 0:00:01\r\u001b[K     |██████▏                         | 256 kB 27.4 MB/s eta 0:00:01\r\u001b[K     |██████▍                         | 266 kB 27.4 MB/s eta 0:00:01\r\u001b[K     |██████▋                         | 276 kB 27.4 MB/s eta 0:00:01\r\u001b[K     |██████▉                         | 286 kB 27.4 MB/s eta 0:00:01\r\u001b[K     |███████▏                        | 296 kB 27.4 MB/s eta 0:00:01\r\u001b[K     |███████▍                        | 307 kB 27.4 MB/s eta 0:00:01\r\u001b[K     |███████▋                        | 317 kB 27.4 MB/s eta 0:00:01\r\u001b[K     |███████▉                        | 327 kB 27.4 MB/s eta 0:00:01\r\u001b[K     |████████▏                       | 337 kB 27.4 MB/s eta 0:00:01\r\u001b[K     |████████▍                       | 348 kB 27.4 MB/s eta 0:00:01\r\u001b[K     |████████▋                       | 358 kB 27.4 MB/s eta 0:00:01\r\u001b[K     |████████▉                       | 368 kB 27.4 MB/s eta 0:00:01\r\u001b[K     |█████████                       | 378 kB 27.4 MB/s eta 0:00:01\r\u001b[K     |█████████▍                      | 389 kB 27.4 MB/s eta 0:00:01\r\u001b[K     |█████████▋                      | 399 kB 27.4 MB/s eta 0:00:01\r\u001b[K     |█████████▉                      | 409 kB 27.4 MB/s eta 0:00:01\r\u001b[K     |██████████                      | 419 kB 27.4 MB/s eta 0:00:01\r\u001b[K     |██████████▎                     | 430 kB 27.4 MB/s eta 0:00:01\r\u001b[K     |██████████▋                     | 440 kB 27.4 MB/s eta 0:00:01\r\u001b[K     |██████████▉                     | 450 kB 27.4 MB/s eta 0:00:01\r\u001b[K     |███████████                     | 460 kB 27.4 MB/s eta 0:00:01\r\u001b[K     |███████████▎                    | 471 kB 27.4 MB/s eta 0:00:01\r\u001b[K     |███████████▋                    | 481 kB 27.4 MB/s eta 0:00:01\r\u001b[K     |███████████▉                    | 491 kB 27.4 MB/s eta 0:00:01\r\u001b[K     |████████████                    | 501 kB 27.4 MB/s eta 0:00:01\r\u001b[K     |████████████▎                   | 512 kB 27.4 MB/s eta 0:00:01\r\u001b[K     |████████████▌                   | 522 kB 27.4 MB/s eta 0:00:01\r\u001b[K     |████████████▉                   | 532 kB 27.4 MB/s eta 0:00:01\r\u001b[K     |█████████████                   | 542 kB 27.4 MB/s eta 0:00:01\r\u001b[K     |█████████████▎                  | 552 kB 27.4 MB/s eta 0:00:01\r\u001b[K     |█████████████▌                  | 563 kB 27.4 MB/s eta 0:00:01\r\u001b[K     |█████████████▊                  | 573 kB 27.4 MB/s eta 0:00:01\r\u001b[K     |██████████████                  | 583 kB 27.4 MB/s eta 0:00:01\r\u001b[K     |██████████████▎                 | 593 kB 27.4 MB/s eta 0:00:01\r\u001b[K     |██████████████▌                 | 604 kB 27.4 MB/s eta 0:00:01\r\u001b[K     |██████████████▊                 | 614 kB 27.4 MB/s eta 0:00:01\r\u001b[K     |███████████████                 | 624 kB 27.4 MB/s eta 0:00:01\r\u001b[K     |███████████████▎                | 634 kB 27.4 MB/s eta 0:00:01\r\u001b[K     |███████████████▌                | 645 kB 27.4 MB/s eta 0:00:01\r\u001b[K     |███████████████▊                | 655 kB 27.4 MB/s eta 0:00:01\r\u001b[K     |████████████████                | 665 kB 27.4 MB/s eta 0:00:01\r\u001b[K     |████████████████▎               | 675 kB 27.4 MB/s eta 0:00:01\r\u001b[K     |████████████████▌               | 686 kB 27.4 MB/s eta 0:00:01\r\u001b[K     |████████████████▊               | 696 kB 27.4 MB/s eta 0:00:01\r\u001b[K     |█████████████████               | 706 kB 27.4 MB/s eta 0:00:01\r\u001b[K     |█████████████████▏              | 716 kB 27.4 MB/s eta 0:00:01\r\u001b[K     |█████████████████▌              | 727 kB 27.4 MB/s eta 0:00:01\r\u001b[K     |█████████████████▊              | 737 kB 27.4 MB/s eta 0:00:01\r\u001b[K     |██████████████████              | 747 kB 27.4 MB/s eta 0:00:01\r\u001b[K     |██████████████████▏             | 757 kB 27.4 MB/s eta 0:00:01\r\u001b[K     |██████████████████▌             | 768 kB 27.4 MB/s eta 0:00:01\r\u001b[K     |██████████████████▊             | 778 kB 27.4 MB/s eta 0:00:01\r\u001b[K     |███████████████████             | 788 kB 27.4 MB/s eta 0:00:01\r\u001b[K     |███████████████████▏            | 798 kB 27.4 MB/s eta 0:00:01\r\u001b[K     |███████████████████▍            | 808 kB 27.4 MB/s eta 0:00:01\r\u001b[K     |███████████████████▊            | 819 kB 27.4 MB/s eta 0:00:01\r\u001b[K     |████████████████████            | 829 kB 27.4 MB/s eta 0:00:01\r\u001b[K     |████████████████████▏           | 839 kB 27.4 MB/s eta 0:00:01\r\u001b[K     |████████████████████▍           | 849 kB 27.4 MB/s eta 0:00:01\r\u001b[K     |████████████████████▋           | 860 kB 27.4 MB/s eta 0:00:01\r\u001b[K     |█████████████████████           | 870 kB 27.4 MB/s eta 0:00:01\r\u001b[K     |█████████████████████▏          | 880 kB 27.4 MB/s eta 0:00:01\r\u001b[K     |█████████████████████▍          | 890 kB 27.4 MB/s eta 0:00:01\r\u001b[K     |█████████████████████▋          | 901 kB 27.4 MB/s eta 0:00:01\r\u001b[K     |██████████████████████          | 911 kB 27.4 MB/s eta 0:00:01\r\u001b[K     |██████████████████████▏         | 921 kB 27.4 MB/s eta 0:00:01\r\u001b[K     |██████████████████████▍         | 931 kB 27.4 MB/s eta 0:00:01\r\u001b[K     |██████████████████████▋         | 942 kB 27.4 MB/s eta 0:00:01\r\u001b[K     |██████████████████████▉         | 952 kB 27.4 MB/s eta 0:00:01\r\u001b[K     |███████████████████████▏        | 962 kB 27.4 MB/s eta 0:00:01\r\u001b[K     |███████████████████████▍        | 972 kB 27.4 MB/s eta 0:00:01\r\u001b[K     |███████████████████████▋        | 983 kB 27.4 MB/s eta 0:00:01\r\u001b[K     |███████████████████████▉        | 993 kB 27.4 MB/s eta 0:00:01\r\u001b[K     |████████████████████████        | 1.0 MB 27.4 MB/s eta 0:00:01\r\u001b[K     |████████████████████████▍       | 1.0 MB 27.4 MB/s eta 0:00:01\r\u001b[K     |████████████████████████▋       | 1.0 MB 27.4 MB/s eta 0:00:01\r\u001b[K     |████████████████████████▉       | 1.0 MB 27.4 MB/s eta 0:00:01\r\u001b[K     |█████████████████████████       | 1.0 MB 27.4 MB/s eta 0:00:01\r\u001b[K     |█████████████████████████▍      | 1.1 MB 27.4 MB/s eta 0:00:01\r\u001b[K     |█████████████████████████▋      | 1.1 MB 27.4 MB/s eta 0:00:01\r\u001b[K     |█████████████████████████▉      | 1.1 MB 27.4 MB/s eta 0:00:01\r\u001b[K     |██████████████████████████      | 1.1 MB 27.4 MB/s eta 0:00:01\r\u001b[K     |██████████████████████████▎     | 1.1 MB 27.4 MB/s eta 0:00:01\r\u001b[K     |██████████████████████████▋     | 1.1 MB 27.4 MB/s eta 0:00:01\r\u001b[K     |██████████████████████████▉     | 1.1 MB 27.4 MB/s eta 0:00:01\r\u001b[K     |███████████████████████████     | 1.1 MB 27.4 MB/s eta 0:00:01\r\u001b[K     |███████████████████████████▎    | 1.1 MB 27.4 MB/s eta 0:00:01\r\u001b[K     |███████████████████████████▌    | 1.1 MB 27.4 MB/s eta 0:00:01\r\u001b[K     |███████████████████████████▉    | 1.2 MB 27.4 MB/s eta 0:00:01\r\u001b[K     |████████████████████████████    | 1.2 MB 27.4 MB/s eta 0:00:01\r\u001b[K     |████████████████████████████▎   | 1.2 MB 27.4 MB/s eta 0:00:01\r\u001b[K     |████████████████████████████▌   | 1.2 MB 27.4 MB/s eta 0:00:01\r\u001b[K     |████████████████████████████▉   | 1.2 MB 27.4 MB/s eta 0:00:01\r\u001b[K     |█████████████████████████████   | 1.2 MB 27.4 MB/s eta 0:00:01\r\u001b[K     |█████████████████████████████▎  | 1.2 MB 27.4 MB/s eta 0:00:01\r\u001b[K     |█████████████████████████████▌  | 1.2 MB 27.4 MB/s eta 0:00:01\r\u001b[K     |█████████████████████████████▊  | 1.2 MB 27.4 MB/s eta 0:00:01\r\u001b[K     |██████████████████████████████  | 1.2 MB 27.4 MB/s eta 0:00:01\r\u001b[K     |██████████████████████████████▎ | 1.3 MB 27.4 MB/s eta 0:00:01\r\u001b[K     |██████████████████████████████▌ | 1.3 MB 27.4 MB/s eta 0:00:01\r\u001b[K     |██████████████████████████████▊ | 1.3 MB 27.4 MB/s eta 0:00:01\r\u001b[K     |███████████████████████████████ | 1.3 MB 27.4 MB/s eta 0:00:01\r\u001b[K     |███████████████████████████████▎| 1.3 MB 27.4 MB/s eta 0:00:01\r\u001b[K     |███████████████████████████████▌| 1.3 MB 27.4 MB/s eta 0:00:01\r\u001b[K     |███████████████████████████████▊| 1.3 MB 27.4 MB/s eta 0:00:01\r\u001b[K     |████████████████████████████████| 1.3 MB 27.4 MB/s eta 0:00:01\r\u001b[K     |████████████████████████████████| 1.3 MB 27.4 MB/s \n",
            "\u001b[?25hInstalling collected packages: keras\n",
            "  Attempting uninstall: keras\n",
            "    Found existing installation: keras 2.8.0\n",
            "    Uninstalling keras-2.8.0:\n",
            "      Successfully uninstalled keras-2.8.0\n",
            "\u001b[31mERROR: pip's dependency resolver does not currently take into account all the packages that are installed. This behaviour is the source of the following dependency conflicts.\n",
            "tensorflow 2.8.0 requires tf-estimator-nightly==2.8.0.dev2021122109, which is not installed.\n",
            "tensorflow 2.8.0 requires keras<2.9,>=2.8.0rc0, but you have keras 2.7.0 which is incompatible.\u001b[0m\n",
            "Successfully installed keras-2.7.0\n"
          ]
        },
        {
          "output_type": "display_data",
          "data": {
            "application/vnd.colab-display-data+json": {
              "pip_warning": {
                "packages": [
                  "keras"
                ]
              }
            }
          },
          "metadata": {}
        },
        {
          "output_type": "stream",
          "name": "stdout",
          "text": [
            "Name: keras\n",
            "Version: 2.7.0\n",
            "Summary: Deep learning for humans.\n",
            "Home-page: https://keras.io/\n",
            "Author: Keras team\n",
            "Author-email: keras-users@googlegroups.com\n",
            "License: Apache 2.0\n",
            "Location: /usr/local/lib/python3.7/dist-packages\n",
            "Requires: \n",
            "Required-by: tensorflow, keras-vis\n"
          ]
        }
      ]
    },
    {
      "cell_type": "code",
      "source": [
        "from google.colab import drive\n",
        "drive.mount('/content/drive')"
      ],
      "metadata": {
        "colab": {
          "base_uri": "https://localhost:8080/"
        },
        "id": "kK2PZvQcj7mt",
        "outputId": "04f63134-a552-447f-8ab3-e5fe277e58cf"
      },
      "execution_count": 75,
      "outputs": [
        {
          "output_type": "stream",
          "name": "stdout",
          "text": [
            "Drive already mounted at /content/drive; to attempt to forcibly remount, call drive.mount(\"/content/drive\", force_remount=True).\n"
          ]
        }
      ]
    },
    {
      "cell_type": "code",
      "source": [
        "import numpy\n",
        "import itertools\n",
        "import nltk\n",
        "import string, re\n",
        "import pandas as pd\n",
        "from numpy import array\n",
        "from numpy import asarray\n",
        "from numpy import loadtxt\n",
        "from numpy import savetxt\n",
        "from numpy import zeros\n",
        "from keras.preprocessing.text import Tokenizer\n",
        "from keras.preprocessing import text, sequence"
      ],
      "metadata": {
        "id": "YYGxUH68sUuH"
      },
      "execution_count": 91,
      "outputs": []
    },
    {
      "cell_type": "code",
      "source": [
        "########## PATHS DE ARQUIVOS ##########\n",
        "# \n",
        "PATH_CBOW_s300 = r\"/content/drive/MyDrive/TCC/dados/word_embeddings/cbow_s300_modifyed.txt\"\n",
        "\n",
        "#\n",
        "PATH_BASE_1_CLASSIFICADA = r\"/content/drive/MyDrive/TCC/dados/processadas/balanceadas/Base1JuntaHateENotHateDaLeila_balanceada.csv\"\n",
        "PATH_MATRIZ_CBOW_300_BASE_1 = r\"/content/drive/MyDrive/TCC/dados/word_embeddings/Matriz_Base1JuntaHateENotHateDaLeila_balanceada_CBOW300.CSV\"\n",
        "#\n",
        "PATH_BASE_2_CLASSIFICADA = r\"/content/drive/MyDrive/TCC/dados/processadas/balanceadas/Base2_maior4_menor25_limpissima_balanceada.csv\"\n",
        "PATH_MATRIZ_CBOW_300_BASE_2 = r\"/content/drive/MyDrive/TCC/dados/word_embeddings/Matriz_Base2_maior4_menor25_limpissima_balanceada_CBOW300.CSV\""
      ],
      "metadata": {
        "id": "_gEOopRzDETo"
      },
      "execution_count": 92,
      "outputs": []
    },
    {
      "cell_type": "code",
      "metadata": {
        "id": "9KgrH9_31fKg",
        "colab": {
          "base_uri": "https://localhost:8080/",
          "height": 206
        },
        "outputId": "3f5e1d36-199b-47ad-ad22-b9e9f01826aa"
      },
      "source": [
        "#DataFrame_Base= pd.read_csv(PATH_BASE_1_CLASSIFICADA)\n",
        "DataFrame_Base = pd.read_csv(PATH_BASE_2_CLASSIFICADA)\n",
        "DataFrame_Base.head()"
      ],
      "execution_count": 93,
      "outputs": [
        {
          "output_type": "execute_result",
          "data": {
            "text/plain": [
              "   Unnamed: 0  label                                               text\n",
              "0           0      1                       ambiguinho eu estou com nojo\n",
              "1           1      1                   menino do céu para que está feio\n",
              "2           2      1  já pergunto a porra do trem já sabendo da vdd ...\n",
              "3           3      1                              sardella só faz merda\n",
              "4           4      1                   foda se na real vou tratar igual"
            ],
            "text/html": [
              "\n",
              "  <div id=\"df-cb553bcb-5a80-4a39-8c4b-63dc17e7e179\">\n",
              "    <div class=\"colab-df-container\">\n",
              "      <div>\n",
              "<style scoped>\n",
              "    .dataframe tbody tr th:only-of-type {\n",
              "        vertical-align: middle;\n",
              "    }\n",
              "\n",
              "    .dataframe tbody tr th {\n",
              "        vertical-align: top;\n",
              "    }\n",
              "\n",
              "    .dataframe thead th {\n",
              "        text-align: right;\n",
              "    }\n",
              "</style>\n",
              "<table border=\"1\" class=\"dataframe\">\n",
              "  <thead>\n",
              "    <tr style=\"text-align: right;\">\n",
              "      <th></th>\n",
              "      <th>Unnamed: 0</th>\n",
              "      <th>label</th>\n",
              "      <th>text</th>\n",
              "    </tr>\n",
              "  </thead>\n",
              "  <tbody>\n",
              "    <tr>\n",
              "      <th>0</th>\n",
              "      <td>0</td>\n",
              "      <td>1</td>\n",
              "      <td>ambiguinho eu estou com nojo</td>\n",
              "    </tr>\n",
              "    <tr>\n",
              "      <th>1</th>\n",
              "      <td>1</td>\n",
              "      <td>1</td>\n",
              "      <td>menino do céu para que está feio</td>\n",
              "    </tr>\n",
              "    <tr>\n",
              "      <th>2</th>\n",
              "      <td>2</td>\n",
              "      <td>1</td>\n",
              "      <td>já pergunto a porra do trem já sabendo da vdd ...</td>\n",
              "    </tr>\n",
              "    <tr>\n",
              "      <th>3</th>\n",
              "      <td>3</td>\n",
              "      <td>1</td>\n",
              "      <td>sardella só faz merda</td>\n",
              "    </tr>\n",
              "    <tr>\n",
              "      <th>4</th>\n",
              "      <td>4</td>\n",
              "      <td>1</td>\n",
              "      <td>foda se na real vou tratar igual</td>\n",
              "    </tr>\n",
              "  </tbody>\n",
              "</table>\n",
              "</div>\n",
              "      <button class=\"colab-df-convert\" onclick=\"convertToInteractive('df-cb553bcb-5a80-4a39-8c4b-63dc17e7e179')\"\n",
              "              title=\"Convert this dataframe to an interactive table.\"\n",
              "              style=\"display:none;\">\n",
              "        \n",
              "  <svg xmlns=\"http://www.w3.org/2000/svg\" height=\"24px\"viewBox=\"0 0 24 24\"\n",
              "       width=\"24px\">\n",
              "    <path d=\"M0 0h24v24H0V0z\" fill=\"none\"/>\n",
              "    <path d=\"M18.56 5.44l.94 2.06.94-2.06 2.06-.94-2.06-.94-.94-2.06-.94 2.06-2.06.94zm-11 1L8.5 8.5l.94-2.06 2.06-.94-2.06-.94L8.5 2.5l-.94 2.06-2.06.94zm10 10l.94 2.06.94-2.06 2.06-.94-2.06-.94-.94-2.06-.94 2.06-2.06.94z\"/><path d=\"M17.41 7.96l-1.37-1.37c-.4-.4-.92-.59-1.43-.59-.52 0-1.04.2-1.43.59L10.3 9.45l-7.72 7.72c-.78.78-.78 2.05 0 2.83L4 21.41c.39.39.9.59 1.41.59.51 0 1.02-.2 1.41-.59l7.78-7.78 2.81-2.81c.8-.78.8-2.07 0-2.86zM5.41 20L4 18.59l7.72-7.72 1.47 1.35L5.41 20z\"/>\n",
              "  </svg>\n",
              "      </button>\n",
              "      \n",
              "  <style>\n",
              "    .colab-df-container {\n",
              "      display:flex;\n",
              "      flex-wrap:wrap;\n",
              "      gap: 12px;\n",
              "    }\n",
              "\n",
              "    .colab-df-convert {\n",
              "      background-color: #E8F0FE;\n",
              "      border: none;\n",
              "      border-radius: 50%;\n",
              "      cursor: pointer;\n",
              "      display: none;\n",
              "      fill: #1967D2;\n",
              "      height: 32px;\n",
              "      padding: 0 0 0 0;\n",
              "      width: 32px;\n",
              "    }\n",
              "\n",
              "    .colab-df-convert:hover {\n",
              "      background-color: #E2EBFA;\n",
              "      box-shadow: 0px 1px 2px rgba(60, 64, 67, 0.3), 0px 1px 3px 1px rgba(60, 64, 67, 0.15);\n",
              "      fill: #174EA6;\n",
              "    }\n",
              "\n",
              "    [theme=dark] .colab-df-convert {\n",
              "      background-color: #3B4455;\n",
              "      fill: #D2E3FC;\n",
              "    }\n",
              "\n",
              "    [theme=dark] .colab-df-convert:hover {\n",
              "      background-color: #434B5C;\n",
              "      box-shadow: 0px 1px 3px 1px rgba(0, 0, 0, 0.15);\n",
              "      filter: drop-shadow(0px 1px 2px rgba(0, 0, 0, 0.3));\n",
              "      fill: #FFFFFF;\n",
              "    }\n",
              "  </style>\n",
              "\n",
              "      <script>\n",
              "        const buttonEl =\n",
              "          document.querySelector('#df-cb553bcb-5a80-4a39-8c4b-63dc17e7e179 button.colab-df-convert');\n",
              "        buttonEl.style.display =\n",
              "          google.colab.kernel.accessAllowed ? 'block' : 'none';\n",
              "\n",
              "        async function convertToInteractive(key) {\n",
              "          const element = document.querySelector('#df-cb553bcb-5a80-4a39-8c4b-63dc17e7e179');\n",
              "          const dataTable =\n",
              "            await google.colab.kernel.invokeFunction('convertToInteractive',\n",
              "                                                     [key], {});\n",
              "          if (!dataTable) return;\n",
              "\n",
              "          const docLinkHtml = 'Like what you see? Visit the ' +\n",
              "            '<a target=\"_blank\" href=https://colab.research.google.com/notebooks/data_table.ipynb>data table notebook</a>'\n",
              "            + ' to learn more about interactive tables.';\n",
              "          element.innerHTML = '';\n",
              "          dataTable['output_type'] = 'display_data';\n",
              "          await google.colab.output.renderOutput(dataTable, element);\n",
              "          const docLink = document.createElement('div');\n",
              "          docLink.innerHTML = docLinkHtml;\n",
              "          element.appendChild(docLink);\n",
              "        }\n",
              "      </script>\n",
              "    </div>\n",
              "  </div>\n",
              "  "
            ]
          },
          "metadata": {},
          "execution_count": 93
        }
      ]
    },
    {
      "cell_type": "code",
      "metadata": {
        "id": "T0pXmaCJ1e5L",
        "colab": {
          "base_uri": "https://localhost:8080/"
        },
        "outputId": "d31ffa20-8419-4b17-9dc9-cc78bfdb9e20"
      },
      "source": [
        "palavras_unicas = list(DataFrame_Base['text'].str.split(' ', expand=True).stack().unique())\n",
        "print(len(palavras_unicas))\n",
        "# retira eventuais numeros. Numeros unicos por algum motivo matam o processo de filtragem. \n",
        "palavras_unicas = set(map(lambda x: re.findall(r'^\\D+', x)[0] if re.findall(r'^\\D+', x) != [] else \"a\" ,palavras_unicas))\n",
        "print(len(palavras_unicas))"
      ],
      "execution_count": 105,
      "outputs": [
        {
          "output_type": "stream",
          "name": "stdout",
          "text": [
            "9144\n",
            "9081\n"
          ]
        }
      ]
    },
    {
      "cell_type": "markdown",
      "metadata": {
        "id": "NbKeOTSG7lVb"
      },
      "source": [
        "# Filtra os embeddings"
      ]
    },
    {
      "cell_type": "code",
      "metadata": {
        "id": "fWJLXVam1NV7"
      },
      "source": [
        "# Código para filtrar o arquivo de embeddings.\n",
        "\n",
        "embeddings_index = dict()\n",
        "\n",
        "f = open(PATH_CBOW_s300, encoding='utf-8')\n",
        "\n",
        "for line in f:\n",
        "    values = line.split()\n",
        "    word = values[0]\n",
        "    if (word in palavras_unicas):\n",
        "        coefs = asarray(values[1:], dtype='float32')\n",
        "        embeddings_index[word] = coefs\n",
        "f.close()"
      ],
      "execution_count": 95,
      "outputs": []
    },
    {
      "cell_type": "code",
      "metadata": {
        "id": "gzAVTlit1NWD"
      },
      "source": [
        "def monta_linha(palavra, coeficientes):\n",
        "    # Monta a linha com palavra _ coeficientes.\n",
        "    \n",
        "    linha = f'{palavra}'\n",
        "    for coef in coeficientes:\n",
        "        linha += f' {coef:.5f}'\n",
        "    linha += '\\n'\n",
        "    \n",
        "    return linha"
      ],
      "execution_count": 96,
      "outputs": []
    },
    {
      "cell_type": "code",
      "metadata": {
        "id": "3bCGmM5d1NWN"
      },
      "source": [
        "lista_de_embeddings = []\n",
        "for word in embeddings_index:\n",
        "    coeficientes = embeddings_index[word]\n",
        "    linha = monta_linha(word, coeficientes)\n",
        "    lista_de_embeddings.append(linha)"
      ],
      "execution_count": 97,
      "outputs": []
    },
    {
      "cell_type": "code",
      "execution_count": 98,
      "metadata": {
        "id": "ECPc-3521XPJ"
      },
      "outputs": [],
      "source": [
        "embeddings_dict = {}\n",
        "for i, line in enumerate(lista_de_embeddings):\n",
        "    values = line.split()\n",
        "    embeddings_dict[values[0]] = numpy.asarray(values[1:], dtype='float32')"
      ]
    },
    {
      "cell_type": "code",
      "source": [
        "token = text.Tokenizer()\n",
        "token.fit_on_texts(palavras_unicas)\n",
        "#word_index: dictionary mapping words (str) to their rank/index (int). Only set after fit_on_texts was called.\n",
        "word_index = token.word_index"
      ],
      "metadata": {
        "id": "y93yx2HwJA1u"
      },
      "execution_count": 99,
      "outputs": []
    },
    {
      "cell_type": "code",
      "execution_count": 100,
      "metadata": {
        "id": "VKH3aSKC1qfM"
      },
      "outputs": [],
      "source": [
        "# create token-embedding mapping\n",
        "\n",
        "lista_de_chaves = list(embeddings_dict.keys())\n",
        "\n",
        "tamanho_da_dimensao = len(embeddings_dict[lista_de_chaves[0]])\n",
        "\n",
        "embedding_matrix = numpy.zeros((len(word_index) + 1, tamanho_da_dimensao ))\n",
        "\n",
        "for word, i in word_index.items():\n",
        "    embedding_vector = embeddings_dict.get(word)\n",
        "    if embedding_vector is not None:\n",
        "        embedding_matrix[i] = embedding_vector"
      ]
    },
    {
      "cell_type": "code",
      "source": [
        "print(type(embedding_matrix))"
      ],
      "metadata": {
        "id": "4LyRI70OBoyW",
        "outputId": "0edbe9e1-44f8-452c-b165-c7125a2c7894",
        "colab": {
          "base_uri": "https://localhost:8080/"
        }
      },
      "execution_count": 101,
      "outputs": [
        {
          "output_type": "stream",
          "name": "stdout",
          "text": [
            "<class 'numpy.ndarray'>\n"
          ]
        }
      ]
    },
    {
      "cell_type": "code",
      "source": [
        "print(embedding_matrix)"
      ],
      "metadata": {
        "id": "k1cTnTqz-hXn",
        "outputId": "08ccded8-706b-4ff1-acad-734ddb806a1c",
        "colab": {
          "base_uri": "https://localhost:8080/"
        }
      },
      "execution_count": 102,
      "outputs": [
        {
          "output_type": "stream",
          "name": "stdout",
          "text": [
            "[[ 0.          0.          0.         ...  0.          0.\n",
            "   0.        ]\n",
            " [ 0.17693999 -0.04666    -0.148      ... -0.27713001  0.17879\n",
            "   0.0385    ]\n",
            " [ 0.40718001 -0.28492001  0.00271    ... -0.27092999 -0.21365\n",
            "   0.07886   ]\n",
            " ...\n",
            " [ 0.          0.          0.         ...  0.          0.\n",
            "   0.        ]\n",
            " [ 0.          0.          0.         ...  0.          0.\n",
            "   0.        ]\n",
            " [-0.44192001 -0.45881999 -0.18363    ... -0.09414    -0.29789999\n",
            "  -0.40656   ]]\n"
          ]
        }
      ]
    },
    {
      "cell_type": "code",
      "source": [
        "# save to csv file\n",
        "savetxt(PATH_MATRIZ_CBOW_300_BASE_2, embedding_matrix, delimiter=',')"
      ],
      "metadata": {
        "id": "t2tDfP2u-WRh"
      },
      "execution_count": 103,
      "outputs": []
    },
    {
      "cell_type": "code",
      "source": [
        "# data = loadtxt('data.csv', delimiter=',')\n",
        "# # print the array\n",
        "# print(data)"
      ],
      "metadata": {
        "id": "SNMblFf--e6H"
      },
      "execution_count": 104,
      "outputs": []
    }
  ]
}