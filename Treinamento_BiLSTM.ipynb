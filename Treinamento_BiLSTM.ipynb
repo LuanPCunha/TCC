{
  "nbformat": 4,
  "nbformat_minor": 0,
  "metadata": {
    "colab": {
      "name": "Treinamento_BiLSTM.ipynb",
      "provenance": [],
      "include_colab_link": true
    },
    "kernelspec": {
      "name": "python3",
      "display_name": "Python 3"
    },
    "language_info": {
      "name": "python"
    },
    "accelerator": "GPU",
    "gpuClass": "standard"
  },
  "cells": [
    {
      "cell_type": "markdown",
      "metadata": {
        "id": "view-in-github",
        "colab_type": "text"
      },
      "source": [
        "<a href=\"https://colab.research.google.com/github/LuanPCunha/TCC/blob/main/Treinamento_BiLSTM.ipynb\" target=\"_parent\"><img src=\"https://colab.research.google.com/assets/colab-badge.svg\" alt=\"Open In Colab\"/></a>"
      ]
    },
    {
      "cell_type": "markdown",
      "source": [
        "# Imports e definições de funções"
      ],
      "metadata": {
        "id": "EvS_6l_yMUeH"
      }
    },
    {
      "cell_type": "code",
      "source": [
        "# !pip install tensorflow\n",
        "# !pip install keras"
      ],
      "metadata": {
        "id": "RUMI_nMHmNNY"
      },
      "execution_count": 40,
      "outputs": []
    },
    {
      "cell_type": "code",
      "source": [
        "from google.colab import drive\n",
        "drive.mount('/content/drive')"
      ],
      "metadata": {
        "colab": {
          "base_uri": "https://localhost:8080/"
        },
        "outputId": "6d7ea931-7dc9-48b3-de17-f4e61c76bb53",
        "id": "lOOaaOGqmNNa"
      },
      "execution_count": 41,
      "outputs": [
        {
          "output_type": "stream",
          "name": "stdout",
          "text": [
            "Drive already mounted at /content/drive; to attempt to forcibly remount, call drive.mount(\"/content/drive\", force_remount=True).\n"
          ]
        }
      ]
    },
    {
      "cell_type": "code",
      "source": [
        "import json\n",
        "import sklearn\n",
        "import numpy as np\n",
        "import pandas as pd\n",
        "from numpy import loadtxt\n",
        "import matplotlib.pyplot as plt\n",
        "from sklearn.model_selection import train_test_split\n",
        "\n",
        "import tensorflow as tf\n",
        "from tensorflow import keras\n",
        "from keras import optimizers\n",
        "from keras import layers\n",
        "from keras.layers import Dropout, Conv1D, MaxPooling1D, Flatten, Dense, SpatialDropout1D, BatchNormalization\n",
        "from keras.preprocessing.text import Tokenizer\n",
        "from tensorflow.keras.optimizers import Adam, Adadelta, SGD, RMSprop, Adagrad, Adamax, Nadam, Ftrl\n",
        "from keras.models import Sequential\n",
        "from keras.layers.embeddings import Embedding\n",
        "\n",
        "from mlxtend.plotting import plot_confusion_matrix\n",
        "from keras.callbacks import Callback, ModelCheckpoint, CSVLogger\n",
        "from sklearn.metrics import roc_auc_score, roc_curve, confusion_matrix\n",
        "from keras.callbacks import EarlyStopping"
      ],
      "metadata": {
        "id": "havuz11omNNb"
      },
      "execution_count": 42,
      "outputs": []
    },
    {
      "cell_type": "code",
      "source": [
        "def tokenize(tweets_list):\n",
        "    tokenizer = Tokenizer()\n",
        "    tokenizer.fit_on_texts(tweets_list)\n",
        "    return tokenizer.texts_to_sequences(tweets_list), tokenizer"
      ],
      "metadata": {
        "id": "db4KNc_2Ixyu"
      },
      "execution_count": 43,
      "outputs": []
    },
    {
      "cell_type": "code",
      "source": [
        "class RocAucEvaluation(Callback):\n",
        "    def __init__(self, validation_data=(), interval=1):\n",
        "        super(Callback, self).__init__()\n",
        "\n",
        "        self.interval = interval\n",
        "        self.X_val, self.y_val = validation_data\n",
        "\n",
        "    def on_epoch_end(self, epoch, logs={}):\n",
        "        if epoch % self.interval == 0:\n",
        "            y_pred = self.model.predict(self.X_val, verbose=0)\n",
        "            self.score = roc_auc_score(self.y_val, y_pred)\n",
        "            self.false_positive_rate, self.true_positive_rate, _ = roc_curve(self.y_val, y_pred) \n",
        "                   "
      ],
      "metadata": {
        "id": "Z6oXSNJSmNNd"
      },
      "execution_count": 44,
      "outputs": []
    },
    {
      "cell_type": "markdown",
      "source": [
        "# Carrega arquivo de saída (resultados)"
      ],
      "metadata": {
        "id": "fKJhhwTlmURl"
      }
    },
    {
      "cell_type": "code",
      "source": [
        "# CONSTANTES DOS RESULTADOS\n",
        "REDE = 'Bi-LSTM'\n",
        "\n",
        "BASE_NAME = 'BASE 0'\n",
        "#BASE_NAME = 'BASE 1'\n",
        "#BASE_NAME = 'BASE 2'\n",
        "\n",
        "# Caminho arquivo de saída\n",
        "PATH_ARQ_SAIDA = \"/content/drive/MyDrive/TCC/resultados/resultados.csv\"\n",
        "\n",
        "#  rede base otimizador acuracia val_loss learning_rate dropout batch_size roc_curve train_resume confusion_matrix\n",
        "resultados = pd.read_csv(PATH_ARQ_SAIDA, index_col=0)\n",
        "resultados.head()"
      ],
      "metadata": {
        "outputId": "ee25c65d-acad-444e-eca7-67858ea649cc",
        "colab": {
          "base_uri": "https://localhost:8080/",
          "height": 444
        },
        "id": "-Lo37XnkmURn"
      },
      "execution_count": 45,
      "outputs": [
        {
          "output_type": "execute_result",
          "data": {
            "text/plain": [
              "  rede    base otimizador  acuracia  val_loss  learning_rate  dropout  \\\n",
              "0  CNN  BASE 0      Nadam  0.905660  0.242821         0.0001      0.1   \n",
              "1  CNN  BASE 0      Nadam  0.907278  0.240671         0.0001      0.2   \n",
              "2  CNN  BASE 0      Nadam  0.908895  0.238317         0.0001      0.3   \n",
              "3  CNN  BASE 0    RMSProp  0.896496  0.242737         0.0001      0.1   \n",
              "4  CNN  BASE 0    RMSProp  0.900270  0.250310         0.0001      0.2   \n",
              "\n",
              "   batch_size                                          roc_curve  \\\n",
              "0          32  {\"false_positive_rate\": [0.0, 0.0, 0.0, 0.0, 0...   \n",
              "1          32  {\"false_positive_rate\": [0.0, 0.0, 0.0, 0.0, 0...   \n",
              "2          32  {\"false_positive_rate\": [0.0, 0.0, 0.0, 0.0, 0...   \n",
              "3          32  {\"false_positive_rate\": [0.0, 0.0, 0.0, 0.0, 0...   \n",
              "4          32  {\"false_positive_rate\": [0.0, 0.0, 0.0, 0.0, 0...   \n",
              "\n",
              "                                        train_resume  \\\n",
              "0  {\"epoch\": {\"0\": 0, \"1\": 1, \"2\": 2, \"3\": 3, \"4\"...   \n",
              "1  {\"epoch\": {\"0\": 0, \"1\": 1, \"2\": 2, \"3\": 3, \"4\"...   \n",
              "2  {\"epoch\": {\"0\": 0, \"1\": 1, \"2\": 2, \"3\": 3, \"4\"...   \n",
              "3  {\"epoch\": {\"0\": 0, \"1\": 1, \"2\": 2, \"3\": 3, \"4\"...   \n",
              "4  {\"epoch\": {\"0\": 0, \"1\": 1, \"2\": 2, \"3\": 3, \"4\"...   \n",
              "\n",
              "                              confusion_matrix    epochs  rank  \n",
              "0  {\"00\": 860, \"01\": 68, \"10\": 107, \"11\": 820}  3.729751   NaN  \n",
              "1   {\"00\": 848, \"01\": 80, \"10\": 92, \"11\": 835}  3.769780   NaN  \n",
              "2  {\"00\": 861, \"01\": 67, \"10\": 102, \"11\": 825}  3.813809   NaN  \n",
              "3  {\"00\": 842, \"01\": 86, \"10\": 106, \"11\": 821}  3.693281   NaN  \n",
              "4  {\"00\": 847, \"01\": 81, \"10\": 104, \"11\": 823}  3.596621   NaN  "
            ],
            "text/html": [
              "\n",
              "  <div id=\"df-1664463a-bd3d-4888-be23-f037a4f8870c\">\n",
              "    <div class=\"colab-df-container\">\n",
              "      <div>\n",
              "<style scoped>\n",
              "    .dataframe tbody tr th:only-of-type {\n",
              "        vertical-align: middle;\n",
              "    }\n",
              "\n",
              "    .dataframe tbody tr th {\n",
              "        vertical-align: top;\n",
              "    }\n",
              "\n",
              "    .dataframe thead th {\n",
              "        text-align: right;\n",
              "    }\n",
              "</style>\n",
              "<table border=\"1\" class=\"dataframe\">\n",
              "  <thead>\n",
              "    <tr style=\"text-align: right;\">\n",
              "      <th></th>\n",
              "      <th>rede</th>\n",
              "      <th>base</th>\n",
              "      <th>otimizador</th>\n",
              "      <th>acuracia</th>\n",
              "      <th>val_loss</th>\n",
              "      <th>learning_rate</th>\n",
              "      <th>dropout</th>\n",
              "      <th>batch_size</th>\n",
              "      <th>roc_curve</th>\n",
              "      <th>train_resume</th>\n",
              "      <th>confusion_matrix</th>\n",
              "      <th>epochs</th>\n",
              "      <th>rank</th>\n",
              "    </tr>\n",
              "  </thead>\n",
              "  <tbody>\n",
              "    <tr>\n",
              "      <th>0</th>\n",
              "      <td>CNN</td>\n",
              "      <td>BASE 0</td>\n",
              "      <td>Nadam</td>\n",
              "      <td>0.905660</td>\n",
              "      <td>0.242821</td>\n",
              "      <td>0.0001</td>\n",
              "      <td>0.1</td>\n",
              "      <td>32</td>\n",
              "      <td>{\"false_positive_rate\": [0.0, 0.0, 0.0, 0.0, 0...</td>\n",
              "      <td>{\"epoch\": {\"0\": 0, \"1\": 1, \"2\": 2, \"3\": 3, \"4\"...</td>\n",
              "      <td>{\"00\": 860, \"01\": 68, \"10\": 107, \"11\": 820}</td>\n",
              "      <td>3.729751</td>\n",
              "      <td>NaN</td>\n",
              "    </tr>\n",
              "    <tr>\n",
              "      <th>1</th>\n",
              "      <td>CNN</td>\n",
              "      <td>BASE 0</td>\n",
              "      <td>Nadam</td>\n",
              "      <td>0.907278</td>\n",
              "      <td>0.240671</td>\n",
              "      <td>0.0001</td>\n",
              "      <td>0.2</td>\n",
              "      <td>32</td>\n",
              "      <td>{\"false_positive_rate\": [0.0, 0.0, 0.0, 0.0, 0...</td>\n",
              "      <td>{\"epoch\": {\"0\": 0, \"1\": 1, \"2\": 2, \"3\": 3, \"4\"...</td>\n",
              "      <td>{\"00\": 848, \"01\": 80, \"10\": 92, \"11\": 835}</td>\n",
              "      <td>3.769780</td>\n",
              "      <td>NaN</td>\n",
              "    </tr>\n",
              "    <tr>\n",
              "      <th>2</th>\n",
              "      <td>CNN</td>\n",
              "      <td>BASE 0</td>\n",
              "      <td>Nadam</td>\n",
              "      <td>0.908895</td>\n",
              "      <td>0.238317</td>\n",
              "      <td>0.0001</td>\n",
              "      <td>0.3</td>\n",
              "      <td>32</td>\n",
              "      <td>{\"false_positive_rate\": [0.0, 0.0, 0.0, 0.0, 0...</td>\n",
              "      <td>{\"epoch\": {\"0\": 0, \"1\": 1, \"2\": 2, \"3\": 3, \"4\"...</td>\n",
              "      <td>{\"00\": 861, \"01\": 67, \"10\": 102, \"11\": 825}</td>\n",
              "      <td>3.813809</td>\n",
              "      <td>NaN</td>\n",
              "    </tr>\n",
              "    <tr>\n",
              "      <th>3</th>\n",
              "      <td>CNN</td>\n",
              "      <td>BASE 0</td>\n",
              "      <td>RMSProp</td>\n",
              "      <td>0.896496</td>\n",
              "      <td>0.242737</td>\n",
              "      <td>0.0001</td>\n",
              "      <td>0.1</td>\n",
              "      <td>32</td>\n",
              "      <td>{\"false_positive_rate\": [0.0, 0.0, 0.0, 0.0, 0...</td>\n",
              "      <td>{\"epoch\": {\"0\": 0, \"1\": 1, \"2\": 2, \"3\": 3, \"4\"...</td>\n",
              "      <td>{\"00\": 842, \"01\": 86, \"10\": 106, \"11\": 821}</td>\n",
              "      <td>3.693281</td>\n",
              "      <td>NaN</td>\n",
              "    </tr>\n",
              "    <tr>\n",
              "      <th>4</th>\n",
              "      <td>CNN</td>\n",
              "      <td>BASE 0</td>\n",
              "      <td>RMSProp</td>\n",
              "      <td>0.900270</td>\n",
              "      <td>0.250310</td>\n",
              "      <td>0.0001</td>\n",
              "      <td>0.2</td>\n",
              "      <td>32</td>\n",
              "      <td>{\"false_positive_rate\": [0.0, 0.0, 0.0, 0.0, 0...</td>\n",
              "      <td>{\"epoch\": {\"0\": 0, \"1\": 1, \"2\": 2, \"3\": 3, \"4\"...</td>\n",
              "      <td>{\"00\": 847, \"01\": 81, \"10\": 104, \"11\": 823}</td>\n",
              "      <td>3.596621</td>\n",
              "      <td>NaN</td>\n",
              "    </tr>\n",
              "  </tbody>\n",
              "</table>\n",
              "</div>\n",
              "      <button class=\"colab-df-convert\" onclick=\"convertToInteractive('df-1664463a-bd3d-4888-be23-f037a4f8870c')\"\n",
              "              title=\"Convert this dataframe to an interactive table.\"\n",
              "              style=\"display:none;\">\n",
              "        \n",
              "  <svg xmlns=\"http://www.w3.org/2000/svg\" height=\"24px\"viewBox=\"0 0 24 24\"\n",
              "       width=\"24px\">\n",
              "    <path d=\"M0 0h24v24H0V0z\" fill=\"none\"/>\n",
              "    <path d=\"M18.56 5.44l.94 2.06.94-2.06 2.06-.94-2.06-.94-.94-2.06-.94 2.06-2.06.94zm-11 1L8.5 8.5l.94-2.06 2.06-.94-2.06-.94L8.5 2.5l-.94 2.06-2.06.94zm10 10l.94 2.06.94-2.06 2.06-.94-2.06-.94-.94-2.06-.94 2.06-2.06.94z\"/><path d=\"M17.41 7.96l-1.37-1.37c-.4-.4-.92-.59-1.43-.59-.52 0-1.04.2-1.43.59L10.3 9.45l-7.72 7.72c-.78.78-.78 2.05 0 2.83L4 21.41c.39.39.9.59 1.41.59.51 0 1.02-.2 1.41-.59l7.78-7.78 2.81-2.81c.8-.78.8-2.07 0-2.86zM5.41 20L4 18.59l7.72-7.72 1.47 1.35L5.41 20z\"/>\n",
              "  </svg>\n",
              "      </button>\n",
              "      \n",
              "  <style>\n",
              "    .colab-df-container {\n",
              "      display:flex;\n",
              "      flex-wrap:wrap;\n",
              "      gap: 12px;\n",
              "    }\n",
              "\n",
              "    .colab-df-convert {\n",
              "      background-color: #E8F0FE;\n",
              "      border: none;\n",
              "      border-radius: 50%;\n",
              "      cursor: pointer;\n",
              "      display: none;\n",
              "      fill: #1967D2;\n",
              "      height: 32px;\n",
              "      padding: 0 0 0 0;\n",
              "      width: 32px;\n",
              "    }\n",
              "\n",
              "    .colab-df-convert:hover {\n",
              "      background-color: #E2EBFA;\n",
              "      box-shadow: 0px 1px 2px rgba(60, 64, 67, 0.3), 0px 1px 3px 1px rgba(60, 64, 67, 0.15);\n",
              "      fill: #174EA6;\n",
              "    }\n",
              "\n",
              "    [theme=dark] .colab-df-convert {\n",
              "      background-color: #3B4455;\n",
              "      fill: #D2E3FC;\n",
              "    }\n",
              "\n",
              "    [theme=dark] .colab-df-convert:hover {\n",
              "      background-color: #434B5C;\n",
              "      box-shadow: 0px 1px 3px 1px rgba(0, 0, 0, 0.15);\n",
              "      filter: drop-shadow(0px 1px 2px rgba(0, 0, 0, 0.3));\n",
              "      fill: #FFFFFF;\n",
              "    }\n",
              "  </style>\n",
              "\n",
              "      <script>\n",
              "        const buttonEl =\n",
              "          document.querySelector('#df-1664463a-bd3d-4888-be23-f037a4f8870c button.colab-df-convert');\n",
              "        buttonEl.style.display =\n",
              "          google.colab.kernel.accessAllowed ? 'block' : 'none';\n",
              "\n",
              "        async function convertToInteractive(key) {\n",
              "          const element = document.querySelector('#df-1664463a-bd3d-4888-be23-f037a4f8870c');\n",
              "          const dataTable =\n",
              "            await google.colab.kernel.invokeFunction('convertToInteractive',\n",
              "                                                     [key], {});\n",
              "          if (!dataTable) return;\n",
              "\n",
              "          const docLinkHtml = 'Like what you see? Visit the ' +\n",
              "            '<a target=\"_blank\" href=https://colab.research.google.com/notebooks/data_table.ipynb>data table notebook</a>'\n",
              "            + ' to learn more about interactive tables.';\n",
              "          element.innerHTML = '';\n",
              "          dataTable['output_type'] = 'display_data';\n",
              "          await google.colab.output.renderOutput(dataTable, element);\n",
              "          const docLink = document.createElement('div');\n",
              "          docLink.innerHTML = docLinkHtml;\n",
              "          element.appendChild(docLink);\n",
              "        }\n",
              "      </script>\n",
              "    </div>\n",
              "  </div>\n",
              "  "
            ]
          },
          "metadata": {},
          "execution_count": 45
        }
      ]
    },
    {
      "cell_type": "markdown",
      "source": [
        "# Carrega base"
      ],
      "metadata": {
        "id": "kMO-knebMcYH"
      }
    },
    {
      "cell_type": "code",
      "source": [
        "# Base1 Com StopWords\n",
        "PATH_BASE1_JUNTO_COM_DA_LEILA_BALANCEADA = \"/content/drive/MyDrive/TCC/dados/processadas/balanceadas/Base1JuntaHateENotHateDaLeila_balanceada.csv\"\n",
        "#MATRIZ_CBOW_300_BASE_1 = loadtxt(\"/content/drive/MyDrive/TCC/dados/word_embeddings/Matriz_Base1JuntaHateENotHateDaLeila_balanceada_CBOW300.CSV\", delimiter=',')\n",
        "\n",
        "# Base2 Sem StopWords\n",
        "PATH_BASE2_LEILA_LIMPISSIMA_BALANCEADA = \"/content/drive/MyDrive/TCC/dados/processadas/balanceadas/Base2_maior4_menor25_limpissima_balanceada.csv\"\n",
        "#MATRIZ_CBOW_300_BASE_2_LEILA = loadtxt(\"/content/drive/MyDrive/TCC/dados/word_embeddings/Matriz_Base2_maior4_menor25_limpissima_balanceada_CBOW300.CSV\", delimiter=',')\n",
        "\n",
        "# Base0 Bruta Não processada\n",
        "PATH_BASE0_NAO_PROCESSADA = \"/content/drive/MyDrive/TCC/dados/processadas/balanceadas/Base0_classificada_balanceada.csv\"\n",
        "\n",
        "PATH_BASE_1_CLASSIFICADA_BALANCEADA = r\"/content/drive/MyDrive/TCC/dados/processadas/balanceadas/Base1_classificada_balanceada.csv\" #entrada\n",
        "\n",
        "PATH_BASE_2_CLASSIFICADA_BALANCEADA = r\"/content/drive/MyDrive/TCC/dados/processadas/balanceadas/Base2_classificada_balanceada.csv\" #entrada\n",
        "#MATRIZ_CBOW_300_BASE_2 = loadtxt(\"/content/drive/MyDrive/TCC/dados/word_embeddings/Matriz_Base2_classificada_balanceada_CBOW300.csv\", delimiter=',') #saida"
      ],
      "metadata": {
        "id": "xf_v4U5DDfU8"
      },
      "execution_count": 46,
      "outputs": []
    },
    {
      "cell_type": "code",
      "source": [
        "tweets = pd.read_csv(PATH_BASE0_NAO_PROCESSADA, index_col=0)\n",
        "tweets"
      ],
      "metadata": {
        "outputId": "f496bc0e-2dee-4335-e9f5-13538aa7e398",
        "colab": {
          "base_uri": "https://localhost:8080/",
          "height": 835
        },
        "id": "BOaE8dYemcPq"
      },
      "execution_count": 47,
      "outputs": [
        {
          "output_type": "execute_result",
          "data": {
            "text/plain": [
              "                                                   text  label\n",
              "0     RT @ThomasM71708305: @allantercalivre A Bahia ...      1\n",
              "1     @allantercalivre @gen_heleno @CNNBrasil O Gene...      1\n",
              "2     @allantercalivre @gen_heleno @CNNBrasil Alan t...      1\n",
              "3     @allantercalivre @OlavoOpressor @opropriolavo ...      1\n",
              "4     RT @ThomasM71708305: @allantercalivre A Bahia ...      1\n",
              "...                                                 ...    ...\n",
              "9269        simplesmente amoooo https://t.co/I12jVsUdvb      0\n",
              "9270  @Mary_Greicy Abençoado Ano Novo  sua linda e q...      0\n",
              "9271  @MarcusConcolato leva eles com a gente, eles s...      0\n",
              "9272  se tu NUNCA fumou maconha cole isso no seu mur...      0\n",
              "9273         @trizbeiro Kkkkk kkk ata eu sou meia sonsa      0\n",
              "\n",
              "[9274 rows x 2 columns]"
            ],
            "text/html": [
              "\n",
              "  <div id=\"df-0b61b77e-31c8-4274-87dc-786b027368ce\">\n",
              "    <div class=\"colab-df-container\">\n",
              "      <div>\n",
              "<style scoped>\n",
              "    .dataframe tbody tr th:only-of-type {\n",
              "        vertical-align: middle;\n",
              "    }\n",
              "\n",
              "    .dataframe tbody tr th {\n",
              "        vertical-align: top;\n",
              "    }\n",
              "\n",
              "    .dataframe thead th {\n",
              "        text-align: right;\n",
              "    }\n",
              "</style>\n",
              "<table border=\"1\" class=\"dataframe\">\n",
              "  <thead>\n",
              "    <tr style=\"text-align: right;\">\n",
              "      <th></th>\n",
              "      <th>text</th>\n",
              "      <th>label</th>\n",
              "    </tr>\n",
              "  </thead>\n",
              "  <tbody>\n",
              "    <tr>\n",
              "      <th>0</th>\n",
              "      <td>RT @ThomasM71708305: @allantercalivre A Bahia ...</td>\n",
              "      <td>1</td>\n",
              "    </tr>\n",
              "    <tr>\n",
              "      <th>1</th>\n",
              "      <td>@allantercalivre @gen_heleno @CNNBrasil O Gene...</td>\n",
              "      <td>1</td>\n",
              "    </tr>\n",
              "    <tr>\n",
              "      <th>2</th>\n",
              "      <td>@allantercalivre @gen_heleno @CNNBrasil Alan t...</td>\n",
              "      <td>1</td>\n",
              "    </tr>\n",
              "    <tr>\n",
              "      <th>3</th>\n",
              "      <td>@allantercalivre @OlavoOpressor @opropriolavo ...</td>\n",
              "      <td>1</td>\n",
              "    </tr>\n",
              "    <tr>\n",
              "      <th>4</th>\n",
              "      <td>RT @ThomasM71708305: @allantercalivre A Bahia ...</td>\n",
              "      <td>1</td>\n",
              "    </tr>\n",
              "    <tr>\n",
              "      <th>...</th>\n",
              "      <td>...</td>\n",
              "      <td>...</td>\n",
              "    </tr>\n",
              "    <tr>\n",
              "      <th>9269</th>\n",
              "      <td>simplesmente amoooo https://t.co/I12jVsUdvb</td>\n",
              "      <td>0</td>\n",
              "    </tr>\n",
              "    <tr>\n",
              "      <th>9270</th>\n",
              "      <td>@Mary_Greicy Abençoado Ano Novo  sua linda e q...</td>\n",
              "      <td>0</td>\n",
              "    </tr>\n",
              "    <tr>\n",
              "      <th>9271</th>\n",
              "      <td>@MarcusConcolato leva eles com a gente, eles s...</td>\n",
              "      <td>0</td>\n",
              "    </tr>\n",
              "    <tr>\n",
              "      <th>9272</th>\n",
              "      <td>se tu NUNCA fumou maconha cole isso no seu mur...</td>\n",
              "      <td>0</td>\n",
              "    </tr>\n",
              "    <tr>\n",
              "      <th>9273</th>\n",
              "      <td>@trizbeiro Kkkkk kkk ata eu sou meia sonsa</td>\n",
              "      <td>0</td>\n",
              "    </tr>\n",
              "  </tbody>\n",
              "</table>\n",
              "<p>9274 rows × 2 columns</p>\n",
              "</div>\n",
              "      <button class=\"colab-df-convert\" onclick=\"convertToInteractive('df-0b61b77e-31c8-4274-87dc-786b027368ce')\"\n",
              "              title=\"Convert this dataframe to an interactive table.\"\n",
              "              style=\"display:none;\">\n",
              "        \n",
              "  <svg xmlns=\"http://www.w3.org/2000/svg\" height=\"24px\"viewBox=\"0 0 24 24\"\n",
              "       width=\"24px\">\n",
              "    <path d=\"M0 0h24v24H0V0z\" fill=\"none\"/>\n",
              "    <path d=\"M18.56 5.44l.94 2.06.94-2.06 2.06-.94-2.06-.94-.94-2.06-.94 2.06-2.06.94zm-11 1L8.5 8.5l.94-2.06 2.06-.94-2.06-.94L8.5 2.5l-.94 2.06-2.06.94zm10 10l.94 2.06.94-2.06 2.06-.94-2.06-.94-.94-2.06-.94 2.06-2.06.94z\"/><path d=\"M17.41 7.96l-1.37-1.37c-.4-.4-.92-.59-1.43-.59-.52 0-1.04.2-1.43.59L10.3 9.45l-7.72 7.72c-.78.78-.78 2.05 0 2.83L4 21.41c.39.39.9.59 1.41.59.51 0 1.02-.2 1.41-.59l7.78-7.78 2.81-2.81c.8-.78.8-2.07 0-2.86zM5.41 20L4 18.59l7.72-7.72 1.47 1.35L5.41 20z\"/>\n",
              "  </svg>\n",
              "      </button>\n",
              "      \n",
              "  <style>\n",
              "    .colab-df-container {\n",
              "      display:flex;\n",
              "      flex-wrap:wrap;\n",
              "      gap: 12px;\n",
              "    }\n",
              "\n",
              "    .colab-df-convert {\n",
              "      background-color: #E8F0FE;\n",
              "      border: none;\n",
              "      border-radius: 50%;\n",
              "      cursor: pointer;\n",
              "      display: none;\n",
              "      fill: #1967D2;\n",
              "      height: 32px;\n",
              "      padding: 0 0 0 0;\n",
              "      width: 32px;\n",
              "    }\n",
              "\n",
              "    .colab-df-convert:hover {\n",
              "      background-color: #E2EBFA;\n",
              "      box-shadow: 0px 1px 2px rgba(60, 64, 67, 0.3), 0px 1px 3px 1px rgba(60, 64, 67, 0.15);\n",
              "      fill: #174EA6;\n",
              "    }\n",
              "\n",
              "    [theme=dark] .colab-df-convert {\n",
              "      background-color: #3B4455;\n",
              "      fill: #D2E3FC;\n",
              "    }\n",
              "\n",
              "    [theme=dark] .colab-df-convert:hover {\n",
              "      background-color: #434B5C;\n",
              "      box-shadow: 0px 1px 3px 1px rgba(0, 0, 0, 0.15);\n",
              "      filter: drop-shadow(0px 1px 2px rgba(0, 0, 0, 0.3));\n",
              "      fill: #FFFFFF;\n",
              "    }\n",
              "  </style>\n",
              "\n",
              "      <script>\n",
              "        const buttonEl =\n",
              "          document.querySelector('#df-0b61b77e-31c8-4274-87dc-786b027368ce button.colab-df-convert');\n",
              "        buttonEl.style.display =\n",
              "          google.colab.kernel.accessAllowed ? 'block' : 'none';\n",
              "\n",
              "        async function convertToInteractive(key) {\n",
              "          const element = document.querySelector('#df-0b61b77e-31c8-4274-87dc-786b027368ce');\n",
              "          const dataTable =\n",
              "            await google.colab.kernel.invokeFunction('convertToInteractive',\n",
              "                                                     [key], {});\n",
              "          if (!dataTable) return;\n",
              "\n",
              "          const docLinkHtml = 'Like what you see? Visit the ' +\n",
              "            '<a target=\"_blank\" href=https://colab.research.google.com/notebooks/data_table.ipynb>data table notebook</a>'\n",
              "            + ' to learn more about interactive tables.';\n",
              "          element.innerHTML = '';\n",
              "          dataTable['output_type'] = 'display_data';\n",
              "          await google.colab.output.renderOutput(dataTable, element);\n",
              "          const docLink = document.createElement('div');\n",
              "          docLink.innerHTML = docLinkHtml;\n",
              "          element.appendChild(docLink);\n",
              "        }\n",
              "      </script>\n",
              "    </div>\n",
              "  </div>\n",
              "  "
            ]
          },
          "metadata": {},
          "execution_count": 47
        }
      ]
    },
    {
      "cell_type": "code",
      "execution_count": 48,
      "metadata": {
        "colab": {
          "base_uri": "https://localhost:8080/"
        },
        "outputId": "3ee7d638-381f-4032-b0eb-6b38d85e4904",
        "id": "alna4LAXmcPu"
      },
      "outputs": [
        {
          "output_type": "stream",
          "name": "stdout",
          "text": [
            "Vocabulary size: 24839\n"
          ]
        }
      ],
      "source": [
        "# Pega a quantidade de palavras únicas dos tweets de toda a base\n",
        "_, text_tokenizer = tokenize(tweets['text'])\n",
        "text_vocab_size = len(text_tokenizer.word_index)\n",
        "print(\"Vocabulary size:\", text_vocab_size)"
      ]
    },
    {
      "cell_type": "markdown",
      "source": [
        "# Prepara os dados de train, test e validation da base\n"
      ],
      "metadata": {
        "id": "Ax2iFKj9iNhG"
      }
    },
    {
      "cell_type": "code",
      "source": [
        "NUM_BASES = 4\n",
        "# Carrega os paths das divisões das bases\n",
        "LIST_PATH_TRAIN = []\n",
        "LIST_PATH_TEST = []\n",
        "LIST_PATH_VAL = []\n",
        "for i in range(NUM_BASES):\n",
        "  LIST_PATH_TRAIN.append('/content/drive/MyDrive/TCC/dados/processadas/bases_balanceadas_divididas/train'+str(i)+'.csv')\n",
        "  LIST_PATH_TEST.append('/content/drive/MyDrive/TCC/dados/processadas/bases_balanceadas_divididas/test'+str(i)+'.csv')\n",
        "  LIST_PATH_VAL.append('/content/drive/MyDrive/TCC/dados/processadas/bases_balanceadas_divididas/val'+str(i)+'.csv')"
      ],
      "metadata": {
        "id": "DoW9UGLGess_"
      },
      "execution_count": 49,
      "outputs": []
    },
    {
      "cell_type": "code",
      "source": [
        "# 0 - Base0 bruta não processada\n",
        "# 1 - Base1 Com StopWords\n",
        "# 2 - Base2 Sem StopWords\n",
        "# 3 - Base2 Nossa sem stopwords\n",
        "base_index = int(BASE_NAME.split()[1])\n",
        "base_train = pd.read_csv(LIST_PATH_TRAIN[base_index], index_col=0)\n",
        "base_test = pd.read_csv(LIST_PATH_TEST[base_index], index_col=0)\n",
        "base_val = pd.read_csv(LIST_PATH_VAL[base_index], index_col=0)"
      ],
      "metadata": {
        "id": "wewdmA2Wihhh"
      },
      "execution_count": 50,
      "outputs": []
    },
    {
      "cell_type": "code",
      "source": [
        "# Dados train\n",
        "Y_TRAIN = base_train['label']\n",
        "base_train.drop(['label'], axis='columns', inplace=True)\n",
        "X_TRAIN = base_train.to_numpy()\n",
        "\n",
        "# Dados test\n",
        "Y_TEST = base_test['label']\n",
        "base_test.drop(['label'], axis='columns', inplace=True)\n",
        "X_TEST = base_test.to_numpy()\n",
        "\n",
        "# Dados validation\n",
        "Y_VAL = base_val['label']\n",
        "base_val.drop(['label'], axis='columns', inplace=True)\n",
        "X_VAL = base_val.to_numpy()\n",
        "\n",
        "max_text_length = X_TRAIN.shape[1]\n",
        "\n",
        "print(X_TRAIN.shape)\n",
        "print(X_TEST.shape)\n",
        "print(X_VAL.shape)"
      ],
      "metadata": {
        "id": "ttfmkRkij4kF",
        "outputId": "2ecfd071-e198-46ca-ccba-6cfe11608e1a",
        "colab": {
          "base_uri": "https://localhost:8080/"
        }
      },
      "execution_count": 51,
      "outputs": [
        {
          "output_type": "stream",
          "name": "stdout",
          "text": [
            "(5564, 72)\n",
            "(1855, 72)\n",
            "(1855, 72)\n"
          ]
        }
      ]
    },
    {
      "cell_type": "markdown",
      "source": [
        "# Execução modelo"
      ],
      "metadata": {
        "id": "1yalwYvXmpCe"
      }
    },
    {
      "cell_type": "code",
      "source": [
        "# parametros tunning:\n",
        "BATCH_SIZE = [32, 64]\n",
        "LEARN_RATE = [0.0001, 0.001]\n",
        "OTMIZADORES = ['Nadam', 'RMSProp', 'SGD']\n",
        "DROPOUT = [0.1, 0.2, 0.3]\n",
        "\n",
        "# parametros estaticos:\n",
        "EPOCHS = 10\n",
        "EMBEDDING_DIMENSION = 300  \n",
        "MAX_TEXT_SIZE = max_text_length \n",
        "VOCAB_SIZE = text_vocab_size"
      ],
      "metadata": {
        "id": "yBGbbGdfL7ps"
      },
      "execution_count": 52,
      "outputs": []
    },
    {
      "cell_type": "code",
      "source": [
        "def optimize (optimize, learning_rate):\n",
        "  if optimize == 'Nadam':\n",
        "    return Nadam(learning_rate=learning_rate, name=\"Nadam\")\n",
        "  \n",
        "  if optimize == 'RMSProp':\n",
        "    return RMSprop(learning_rate=learning_rate, name=\"RMSprop\")\n",
        "  \n",
        "  if optimize == 'SGD':\n",
        "    return SGD(learning_rate=learning_rate, name=\"SGD\")"
      ],
      "metadata": {
        "id": "bPL3sYgZ1h7j"
      },
      "execution_count": 53,
      "outputs": []
    },
    {
      "cell_type": "code",
      "source": [
        "def create_bilstm (vocab_size, embedding_dimen, max_text_size, dropout_rate ):\n",
        "  forward_layer = keras.layers.LSTM(max_text_size, dropout=dropout_rate)\n",
        "  backward_layer = keras.layers.LSTM(max_text_size, dropout=dropout_rate)\n",
        "  \n",
        "  modelo = keras.Sequential([\n",
        "    keras.layers.Embedding(VOCAB_SIZE, EMBEDDING_DIMENSION, input_length=max_text_size),\n",
        "    # keras.layers.Embedding(input_dim=MATRIZ_CBOW_300_BASE_2.shape[0],\n",
        "                            # output_dim=MATRIZ_CBOW_300_BASE_2.shape[1],\n",
        "                            # weights=[MATRIZ_CBOW_300_BASE_2],\n",
        "                            # embeddings_initializer=keras.initializers.Constant(MATRIZ_CBOW_300_BASE_2),\n",
        "                            # input_length=max_text_size,\n",
        "                            # trainable=True),\n",
        "    #keras.layers.Bidirectional(layers.LSTM(50, dropout=0.15, name=\"LSTM\")),\n",
        "    keras.layers.Bidirectional(forward_layer, backward_layer=backward_layer),\n",
        "    keras.layers.Dense(1, activation='sigmoid')\n",
        "    ])\n",
        "\n",
        "  return modelo  "
      ],
      "metadata": {
        "id": "5TLQc-wunBTz"
      },
      "execution_count": 54,
      "outputs": []
    },
    {
      "cell_type": "code",
      "source": [
        "def train_model(embedding_dimen, batch_size, epochs, learning_rate, optimizer, dropout_rate):\n",
        "    opt = optimize(optimizer, learning_rate)\n",
        "    \n",
        "    model = create_bilstm(VOCAB_SIZE, EMBEDDING_DIMENSION, MAX_TEXT_SIZE, dropout_rate)\n",
        "\n",
        "    model.compile(loss=tf.keras.losses.BinaryCrossentropy(), optimizer=opt, metrics=['accuracy'])        \n",
        "    \n",
        "    ra_val = RocAucEvaluation(validation_data=(X_VAL, Y_VAL), interval = 1)\n",
        "    \n",
        "    csv_logger = CSVLogger('log.csv', append=False, separator=';')\n",
        "\n",
        "    early_stop = EarlyStopping(monitor = \"val_loss\", mode = \"min\", verbose = 0, patience = 1)                                                                                       \n",
        "   \n",
        "    history = model.fit(X_TRAIN, Y_TRAIN, batch_size=batch_size, epochs=epochs, validation_data=(X_VAL, Y_VAL), verbose=0, use_multiprocessing=True,  callbacks = [ra_val, csv_logger, early_stop])\n",
        "    \n",
        "    scores = model.evaluate(X_TEST, Y_TEST, verbose=0)\n",
        "    \n",
        "    return history, model, ra_val, scores, csv_logger\n"
      ],
      "metadata": {
        "id": "wYnrq-34uZX5"
      },
      "execution_count": 55,
      "outputs": []
    },
    {
      "cell_type": "code",
      "source": [
        "history, model1, ra_val, scores, csv_logger = train_model(EMBEDDING_DIMENSION, 32, 10, 0.001, 'Nadam', 0.2)"
      ],
      "metadata": {
        "id": "X4qoLT63_Q4B",
        "outputId": "22e194cf-1fd6-4826-e9ba-e3c7c31d31cd",
        "colab": {
          "base_uri": "https://localhost:8080/",
          "height": 336
        }
      },
      "execution_count": 57,
      "outputs": [
        {
          "output_type": "error",
          "ename": "ValueError",
          "evalue": "ignored",
          "traceback": [
            "\u001b[0;31m---------------------------------------------------------------------------\u001b[0m",
            "\u001b[0;31mValueError\u001b[0m                                Traceback (most recent call last)",
            "\u001b[0;32m<ipython-input-57-0db7f61f0339>\u001b[0m in \u001b[0;36m<module>\u001b[0;34m()\u001b[0m\n\u001b[0;32m----> 1\u001b[0;31m \u001b[0mhistory\u001b[0m\u001b[0;34m,\u001b[0m \u001b[0mmodel1\u001b[0m\u001b[0;34m,\u001b[0m \u001b[0mra_val\u001b[0m\u001b[0;34m,\u001b[0m \u001b[0mscores\u001b[0m\u001b[0;34m,\u001b[0m \u001b[0mcsv_logger\u001b[0m \u001b[0;34m=\u001b[0m \u001b[0mtrain_model\u001b[0m\u001b[0;34m(\u001b[0m\u001b[0mEMBEDDING_DIMENSION\u001b[0m\u001b[0;34m,\u001b[0m \u001b[0;36m32\u001b[0m\u001b[0;34m,\u001b[0m \u001b[0;36m10\u001b[0m\u001b[0;34m,\u001b[0m \u001b[0;36m0.001\u001b[0m\u001b[0;34m,\u001b[0m \u001b[0;34m'Nadam'\u001b[0m\u001b[0;34m,\u001b[0m \u001b[0;36m0.2\u001b[0m\u001b[0;34m)\u001b[0m\u001b[0;34m\u001b[0m\u001b[0;34m\u001b[0m\u001b[0m\n\u001b[0m",
            "\u001b[0;32m<ipython-input-55-f5a2d087be69>\u001b[0m in \u001b[0;36mtrain_model\u001b[0;34m(embedding_dimen, batch_size, epochs, learning_rate, optimizer, dropout_rate)\u001b[0m\n\u001b[1;32m      2\u001b[0m     \u001b[0mopt\u001b[0m \u001b[0;34m=\u001b[0m \u001b[0moptimize\u001b[0m\u001b[0;34m(\u001b[0m\u001b[0moptimizer\u001b[0m\u001b[0;34m,\u001b[0m \u001b[0mlearning_rate\u001b[0m\u001b[0;34m)\u001b[0m\u001b[0;34m\u001b[0m\u001b[0;34m\u001b[0m\u001b[0m\n\u001b[1;32m      3\u001b[0m \u001b[0;34m\u001b[0m\u001b[0m\n\u001b[0;32m----> 4\u001b[0;31m     \u001b[0mmodel\u001b[0m \u001b[0;34m=\u001b[0m \u001b[0mcreate_bilstm\u001b[0m\u001b[0;34m(\u001b[0m\u001b[0mVOCAB_SIZE\u001b[0m\u001b[0;34m,\u001b[0m \u001b[0mEMBEDDING_DIMENSION\u001b[0m\u001b[0;34m,\u001b[0m \u001b[0mMAX_TEXT_SIZE\u001b[0m\u001b[0;34m,\u001b[0m \u001b[0mdropout_rate\u001b[0m\u001b[0;34m)\u001b[0m\u001b[0;34m\u001b[0m\u001b[0;34m\u001b[0m\u001b[0m\n\u001b[0m\u001b[1;32m      5\u001b[0m \u001b[0;34m\u001b[0m\u001b[0m\n\u001b[1;32m      6\u001b[0m     \u001b[0mmodel\u001b[0m\u001b[0;34m.\u001b[0m\u001b[0mcompile\u001b[0m\u001b[0;34m(\u001b[0m\u001b[0mloss\u001b[0m\u001b[0;34m=\u001b[0m\u001b[0mtf\u001b[0m\u001b[0;34m.\u001b[0m\u001b[0mkeras\u001b[0m\u001b[0;34m.\u001b[0m\u001b[0mlosses\u001b[0m\u001b[0;34m.\u001b[0m\u001b[0mBinaryCrossentropy\u001b[0m\u001b[0;34m(\u001b[0m\u001b[0;34m)\u001b[0m\u001b[0;34m,\u001b[0m \u001b[0moptimizer\u001b[0m\u001b[0;34m=\u001b[0m\u001b[0mopt\u001b[0m\u001b[0;34m,\u001b[0m \u001b[0mmetrics\u001b[0m\u001b[0;34m=\u001b[0m\u001b[0;34m[\u001b[0m\u001b[0;34m'accuracy'\u001b[0m\u001b[0;34m]\u001b[0m\u001b[0;34m)\u001b[0m\u001b[0;34m\u001b[0m\u001b[0;34m\u001b[0m\u001b[0m\n",
            "\u001b[0;32m<ipython-input-54-17555f85506b>\u001b[0m in \u001b[0;36mcreate_bilstm\u001b[0;34m(vocab_size, embedding_dimen, max_text_size, dropout_rate)\u001b[0m\n\u001b[1;32m     12\u001b[0m                             \u001b[0;31m# trainable=True),\u001b[0m\u001b[0;34m\u001b[0m\u001b[0;34m\u001b[0m\u001b[0;34m\u001b[0m\u001b[0m\n\u001b[1;32m     13\u001b[0m     \u001b[0;31m#keras.layers.Bidirectional(layers.LSTM(50, dropout=0.15, name=\"LSTM\")),\u001b[0m\u001b[0;34m\u001b[0m\u001b[0;34m\u001b[0m\u001b[0;34m\u001b[0m\u001b[0m\n\u001b[0;32m---> 14\u001b[0;31m     \u001b[0mkeras\u001b[0m\u001b[0;34m.\u001b[0m\u001b[0mlayers\u001b[0m\u001b[0;34m.\u001b[0m\u001b[0mBidirectional\u001b[0m\u001b[0;34m(\u001b[0m\u001b[0mforward_layer\u001b[0m\u001b[0;34m,\u001b[0m \u001b[0mbackward_layer\u001b[0m\u001b[0;34m=\u001b[0m\u001b[0mbackward_layer\u001b[0m\u001b[0;34m)\u001b[0m\u001b[0;34m,\u001b[0m\u001b[0;34m\u001b[0m\u001b[0;34m\u001b[0m\u001b[0m\n\u001b[0m\u001b[1;32m     15\u001b[0m     \u001b[0mkeras\u001b[0m\u001b[0;34m.\u001b[0m\u001b[0mlayers\u001b[0m\u001b[0;34m.\u001b[0m\u001b[0mDense\u001b[0m\u001b[0;34m(\u001b[0m\u001b[0;36m1\u001b[0m\u001b[0;34m,\u001b[0m \u001b[0mactivation\u001b[0m\u001b[0;34m=\u001b[0m\u001b[0;34m'sigmoid'\u001b[0m\u001b[0;34m)\u001b[0m\u001b[0;34m\u001b[0m\u001b[0;34m\u001b[0m\u001b[0m\n\u001b[1;32m     16\u001b[0m     ])\n",
            "\u001b[0;32m/usr/local/lib/python3.7/dist-packages/keras/layers/wrappers.py\u001b[0m in \u001b[0;36m__init__\u001b[0;34m(self, layer, merge_mode, weights, backward_layer, **kwargs)\u001b[0m\n\u001b[1;32m    486\u001b[0m     \u001b[0mself\u001b[0m\u001b[0;34m.\u001b[0m\u001b[0mbackward_layer\u001b[0m\u001b[0;34m.\u001b[0m\u001b[0m_name\u001b[0m \u001b[0;34m=\u001b[0m \u001b[0;34m'backward_'\u001b[0m \u001b[0;34m+\u001b[0m \u001b[0mself\u001b[0m\u001b[0;34m.\u001b[0m\u001b[0mbackward_layer\u001b[0m\u001b[0;34m.\u001b[0m\u001b[0mname\u001b[0m\u001b[0;34m\u001b[0m\u001b[0;34m\u001b[0m\u001b[0m\n\u001b[1;32m    487\u001b[0m \u001b[0;34m\u001b[0m\u001b[0m\n\u001b[0;32m--> 488\u001b[0;31m     \u001b[0mself\u001b[0m\u001b[0;34m.\u001b[0m\u001b[0m_verify_layer_config\u001b[0m\u001b[0;34m(\u001b[0m\u001b[0;34m)\u001b[0m\u001b[0;34m\u001b[0m\u001b[0;34m\u001b[0m\u001b[0m\n\u001b[0m\u001b[1;32m    489\u001b[0m \u001b[0;34m\u001b[0m\u001b[0m\n\u001b[1;32m    490\u001b[0m     \u001b[0;32mdef\u001b[0m \u001b[0mforce_zero_output_for_mask\u001b[0m\u001b[0;34m(\u001b[0m\u001b[0mlayer\u001b[0m\u001b[0;34m)\u001b[0m\u001b[0;34m:\u001b[0m\u001b[0;34m\u001b[0m\u001b[0;34m\u001b[0m\u001b[0m\n",
            "\u001b[0;32m/usr/local/lib/python3.7/dist-packages/keras/layers/wrappers.py\u001b[0m in \u001b[0;36m_verify_layer_config\u001b[0;34m(self)\u001b[0m\n\u001b[1;32m    517\u001b[0m     \u001b[0;32mif\u001b[0m \u001b[0mself\u001b[0m\u001b[0;34m.\u001b[0m\u001b[0mforward_layer\u001b[0m\u001b[0;34m.\u001b[0m\u001b[0mgo_backwards\u001b[0m \u001b[0;34m==\u001b[0m \u001b[0mself\u001b[0m\u001b[0;34m.\u001b[0m\u001b[0mbackward_layer\u001b[0m\u001b[0;34m.\u001b[0m\u001b[0mgo_backwards\u001b[0m\u001b[0;34m:\u001b[0m\u001b[0;34m\u001b[0m\u001b[0;34m\u001b[0m\u001b[0m\n\u001b[1;32m    518\u001b[0m       raise ValueError(\n\u001b[0;32m--> 519\u001b[0;31m           \u001b[0;34m'Forward layer and backward layer should have different '\u001b[0m\u001b[0;34m\u001b[0m\u001b[0;34m\u001b[0m\u001b[0m\n\u001b[0m\u001b[1;32m    520\u001b[0m           \u001b[0;34m'`go_backwards` value.'\u001b[0m\u001b[0;34m\u001b[0m\u001b[0;34m\u001b[0m\u001b[0m\n\u001b[1;32m    521\u001b[0m           \u001b[0;34mf'forward_layer.go_backwards = {self.forward_layer.go_backwards},'\u001b[0m\u001b[0;34m\u001b[0m\u001b[0;34m\u001b[0m\u001b[0m\n",
            "\u001b[0;31mValueError\u001b[0m: Forward layer and backward layer should have different `go_backwards` value.forward_layer.go_backwards = False,backward_layer.go_backwards = False"
          ]
        }
      ]
    },
    {
      "cell_type": "code",
      "source": [
        "my_log = pd.read_csv('log.csv',sep=';')\n",
        "my_log"
      ],
      "metadata": {
        "id": "yGNPy8I5gszr",
        "outputId": "9935ace1-78ed-4614-c667-82adf760811c",
        "colab": {
          "base_uri": "https://localhost:8080/",
          "height": 143
        }
      },
      "execution_count": 58,
      "outputs": [
        {
          "output_type": "execute_result",
          "data": {
            "text/plain": [
              "   epoch  accuracy      loss  val_accuracy  val_loss\n",
              "0      0  0.666068  0.600566      0.807547  0.432336\n",
              "1      1  0.914270  0.231864      0.921294  0.219413\n",
              "2      2  0.983825  0.060482      0.913208  0.274649"
            ],
            "text/html": [
              "\n",
              "  <div id=\"df-db1d740c-d680-46f2-8dd8-b00996791107\">\n",
              "    <div class=\"colab-df-container\">\n",
              "      <div>\n",
              "<style scoped>\n",
              "    .dataframe tbody tr th:only-of-type {\n",
              "        vertical-align: middle;\n",
              "    }\n",
              "\n",
              "    .dataframe tbody tr th {\n",
              "        vertical-align: top;\n",
              "    }\n",
              "\n",
              "    .dataframe thead th {\n",
              "        text-align: right;\n",
              "    }\n",
              "</style>\n",
              "<table border=\"1\" class=\"dataframe\">\n",
              "  <thead>\n",
              "    <tr style=\"text-align: right;\">\n",
              "      <th></th>\n",
              "      <th>epoch</th>\n",
              "      <th>accuracy</th>\n",
              "      <th>loss</th>\n",
              "      <th>val_accuracy</th>\n",
              "      <th>val_loss</th>\n",
              "    </tr>\n",
              "  </thead>\n",
              "  <tbody>\n",
              "    <tr>\n",
              "      <th>0</th>\n",
              "      <td>0</td>\n",
              "      <td>0.666068</td>\n",
              "      <td>0.600566</td>\n",
              "      <td>0.807547</td>\n",
              "      <td>0.432336</td>\n",
              "    </tr>\n",
              "    <tr>\n",
              "      <th>1</th>\n",
              "      <td>1</td>\n",
              "      <td>0.914270</td>\n",
              "      <td>0.231864</td>\n",
              "      <td>0.921294</td>\n",
              "      <td>0.219413</td>\n",
              "    </tr>\n",
              "    <tr>\n",
              "      <th>2</th>\n",
              "      <td>2</td>\n",
              "      <td>0.983825</td>\n",
              "      <td>0.060482</td>\n",
              "      <td>0.913208</td>\n",
              "      <td>0.274649</td>\n",
              "    </tr>\n",
              "  </tbody>\n",
              "</table>\n",
              "</div>\n",
              "      <button class=\"colab-df-convert\" onclick=\"convertToInteractive('df-db1d740c-d680-46f2-8dd8-b00996791107')\"\n",
              "              title=\"Convert this dataframe to an interactive table.\"\n",
              "              style=\"display:none;\">\n",
              "        \n",
              "  <svg xmlns=\"http://www.w3.org/2000/svg\" height=\"24px\"viewBox=\"0 0 24 24\"\n",
              "       width=\"24px\">\n",
              "    <path d=\"M0 0h24v24H0V0z\" fill=\"none\"/>\n",
              "    <path d=\"M18.56 5.44l.94 2.06.94-2.06 2.06-.94-2.06-.94-.94-2.06-.94 2.06-2.06.94zm-11 1L8.5 8.5l.94-2.06 2.06-.94-2.06-.94L8.5 2.5l-.94 2.06-2.06.94zm10 10l.94 2.06.94-2.06 2.06-.94-2.06-.94-.94-2.06-.94 2.06-2.06.94z\"/><path d=\"M17.41 7.96l-1.37-1.37c-.4-.4-.92-.59-1.43-.59-.52 0-1.04.2-1.43.59L10.3 9.45l-7.72 7.72c-.78.78-.78 2.05 0 2.83L4 21.41c.39.39.9.59 1.41.59.51 0 1.02-.2 1.41-.59l7.78-7.78 2.81-2.81c.8-.78.8-2.07 0-2.86zM5.41 20L4 18.59l7.72-7.72 1.47 1.35L5.41 20z\"/>\n",
              "  </svg>\n",
              "      </button>\n",
              "      \n",
              "  <style>\n",
              "    .colab-df-container {\n",
              "      display:flex;\n",
              "      flex-wrap:wrap;\n",
              "      gap: 12px;\n",
              "    }\n",
              "\n",
              "    .colab-df-convert {\n",
              "      background-color: #E8F0FE;\n",
              "      border: none;\n",
              "      border-radius: 50%;\n",
              "      cursor: pointer;\n",
              "      display: none;\n",
              "      fill: #1967D2;\n",
              "      height: 32px;\n",
              "      padding: 0 0 0 0;\n",
              "      width: 32px;\n",
              "    }\n",
              "\n",
              "    .colab-df-convert:hover {\n",
              "      background-color: #E2EBFA;\n",
              "      box-shadow: 0px 1px 2px rgba(60, 64, 67, 0.3), 0px 1px 3px 1px rgba(60, 64, 67, 0.15);\n",
              "      fill: #174EA6;\n",
              "    }\n",
              "\n",
              "    [theme=dark] .colab-df-convert {\n",
              "      background-color: #3B4455;\n",
              "      fill: #D2E3FC;\n",
              "    }\n",
              "\n",
              "    [theme=dark] .colab-df-convert:hover {\n",
              "      background-color: #434B5C;\n",
              "      box-shadow: 0px 1px 3px 1px rgba(0, 0, 0, 0.15);\n",
              "      filter: drop-shadow(0px 1px 2px rgba(0, 0, 0, 0.3));\n",
              "      fill: #FFFFFF;\n",
              "    }\n",
              "  </style>\n",
              "\n",
              "      <script>\n",
              "        const buttonEl =\n",
              "          document.querySelector('#df-db1d740c-d680-46f2-8dd8-b00996791107 button.colab-df-convert');\n",
              "        buttonEl.style.display =\n",
              "          google.colab.kernel.accessAllowed ? 'block' : 'none';\n",
              "\n",
              "        async function convertToInteractive(key) {\n",
              "          const element = document.querySelector('#df-db1d740c-d680-46f2-8dd8-b00996791107');\n",
              "          const dataTable =\n",
              "            await google.colab.kernel.invokeFunction('convertToInteractive',\n",
              "                                                     [key], {});\n",
              "          if (!dataTable) return;\n",
              "\n",
              "          const docLinkHtml = 'Like what you see? Visit the ' +\n",
              "            '<a target=\"_blank\" href=https://colab.research.google.com/notebooks/data_table.ipynb>data table notebook</a>'\n",
              "            + ' to learn more about interactive tables.';\n",
              "          element.innerHTML = '';\n",
              "          dataTable['output_type'] = 'display_data';\n",
              "          await google.colab.output.renderOutput(dataTable, element);\n",
              "          const docLink = document.createElement('div');\n",
              "          docLink.innerHTML = docLinkHtml;\n",
              "          element.appendChild(docLink);\n",
              "        }\n",
              "      </script>\n",
              "    </div>\n",
              "  </div>\n",
              "  "
            ]
          },
          "metadata": {},
          "execution_count": 58
        }
      ]
    },
    {
      "cell_type": "code",
      "source": [
        "# plot dos gráficos\n",
        "count = 1\n",
        "for BS in BATCH_SIZE:\n",
        "  for LR in LEARN_RATE:\n",
        "    for OT in OTMIZADORES:\n",
        "      for DO in DROPOUT:\n",
        "        print(\"Iteração \"+str(count))\n",
        "        count+=1\n",
        "        \n",
        "        history, model1, ra_val, scores, csv_logger = train_model(EMBEDDING_DIMENSION, BS, EPOCHS, LR, OT, DO)\n",
        "\n",
        "        #\n",
        "        y_predito = model1.predict(X_TEST).round()\n",
        "        y_gabarito = Y_TEST\n",
        "        \n",
        "        # Parâmetros\n",
        "        # rede base otimizador acuracia val_loss learning_rate dropout batch_size roc_curve train_resume confusion_matrix\n",
        "        NOME_REDE = REDE\n",
        "        NOME_BASE = BASE_NAME\n",
        "        NOME_OTIMIZADOR = OT\n",
        "        ACURACIA = scores[1]\n",
        "        LOSS = scores[0] \n",
        "        LEARNING_RATE = LR\n",
        "        DROPOUT_RATE = DO\n",
        "        BATCH = BS\n",
        "        ROC_CURVE = json.dumps({\n",
        "            \"false_positive_rate\": list(ra_val.false_positive_rate),\n",
        "            \"true_positive_rate\": list(ra_val.true_positive_rate),\n",
        "            \"score\": ra_val.score})\n",
        "        TRAIN_RESUME = json.dumps(pd.read_csv('log.csv',sep=';').to_dict()) \n",
        "        \n",
        "        confusion = confusion_matrix(y_gabarito, y_predito)\n",
        "        CONFUSION_MATRIX = json.dumps({\n",
        "            \"00\": int(confusion[0][0]),\n",
        "            \"01\": int(confusion[0][1]),\n",
        "            \"10\": int(confusion[1][0]),\n",
        "            \"11\": int(confusion[1][1])\n",
        "        })\n",
        "\n",
        "        EPOCHS = len(history.history['val_loss'])\n",
        "        RANK = ACURACIA/LOSS\n",
        " \n",
        "        # Salvando resultado do modelo\n",
        "        registro_resultado = {resultados.columns[0]: NOME_REDE, \n",
        "                              resultados.columns[1]: NOME_BASE, \n",
        "                              resultados.columns[2]: NOME_OTIMIZADOR,\n",
        "                              resultados.columns[3]: ACURACIA, \n",
        "                              resultados.columns[4]: LOSS,\n",
        "                              resultados.columns[5]: LEARNING_RATE,\n",
        "                              resultados.columns[6]: DROPOUT_RATE,\n",
        "                              resultados.columns[7]: BATCH,\n",
        "                              resultados.columns[8]: ROC_CURVE,\n",
        "                              resultados.columns[9]: TRAIN_RESUME,\n",
        "                              resultados.columns[10]: CONFUSION_MATRIX,\n",
        "                              resultados.columns[11]: EPOCHS,\n",
        "                              resultados.columns[12]: RANK,\n",
        "                            }\n",
        "\n",
        "        resultados = resultados.append(registro_resultado, ignore_index=True)"
      ],
      "metadata": {
        "id": "fnTXleZnmpCp"
      },
      "execution_count": null,
      "outputs": []
    },
    {
      "cell_type": "code",
      "source": [
        "resultados"
      ],
      "metadata": {
        "id": "IyYXjusOASJm"
      },
      "execution_count": null,
      "outputs": []
    },
    {
      "cell_type": "code",
      "source": [
        "# Caso queira deletar uma linha use o código abaixo\n",
        "# Use a propriedade label para especificar o índice da linha\n",
        "#resultados = resultados.drop(labels=1, axis=0)\n",
        "#resultados = resultados.reset_index(drop=True)\n",
        "#resultados"
      ],
      "metadata": {
        "id": "mbVMg1mympCq"
      },
      "execution_count": null,
      "outputs": []
    },
    {
      "cell_type": "code",
      "source": [
        "# Salva arquivo de saída\n",
        "resultados.to_csv(PATH_ARQ_SAIDA)"
      ],
      "metadata": {
        "id": "zGa-jCKvmpCr"
      },
      "execution_count": null,
      "outputs": []
    },
    {
      "cell_type": "code",
      "source": [
        "# Fazer a separação de Treinamento, Teste e validação \n",
        "  # Alterar todos os modelos para ler desse novo jeito\n",
        "# Ver NaiveBayes, colocar na tabela\n",
        "  # Falta salvar o treinamento no arquivo de resultados\n",
        "# Ver ShallowNet, colocar na tabela\n",
        "  # ler igual a tarefa1\n",
        "# Rever LSTM\n",
        "  # rever o foward e backward layer\n",
        "# Prioridade é fechar o Resultado ( Tabelas )\n",
        "  # Rodar tudo\n",
        "# Ajustar Tabelas ( embelezar )\n",
        "# Ajustar Graficos ( embelezar )\n",
        "# Ver BiLstm / Otmizador \n",
        "# Gerar e Salvar os Graficos \n",
        "# Escrever Resultados\n",
        "# Revisar Monografia\n",
        "# Preparar apresentação"
      ],
      "metadata": {
        "id": "KXhecZ-T4gvP"
      },
      "execution_count": null,
      "outputs": []
    },
    {
      "cell_type": "markdown",
      "source": [
        "grafico Acuracy b1  \n",
        "\t\tb1 cnn melhor\n",
        "\t\tb1 lstm melhor\n",
        "\t\t.\n",
        "\t\t.\n",
        "\n",
        "grafico Loss b1  \n",
        "\t\tb1 cnn melhor\n",
        "\t\tb1 lstm melhor\n",
        "\t\t.\n",
        "\t\t.\n",
        "\n",
        "grafico Acuracy b2 \n",
        "\t\tb2 cnn melhor\n",
        "\t\tb2 lstm melhor\n",
        "\t\t.\n",
        "\t\t.\n",
        "\n",
        "grafico Loss b2 \n",
        "\t\tb2 cnn melhor\n",
        "\t\tb2 lstm melhor\n",
        "\t\t.\n",
        "\t\t.\n",
        "\n",
        "grafico Acuracy b0\n",
        "\t\tbo cnn melhor\n",
        "\t\tb0 lstm melhor\n",
        "\n",
        "grafico Loss b0\n",
        "\t\tb0 cnn melhor\n",
        "\t\tb0 lstm melhor\n",
        "\t\t.\n",
        "\t\t.\n"
      ],
      "metadata": {
        "id": "60WPEwEam0mw"
      }
    },
    {
      "cell_type": "code",
      "source": [
        "tf.keras.utils.plot_model(model1, to_file='/meuarquivo.png', show_shapes=True)"
      ],
      "metadata": {
        "id": "SqzyjKSXJ6Tq",
        "outputId": "75019e33-920d-4fcb-fb17-d07de447b3dd",
        "colab": {
          "base_uri": "https://localhost:8080/",
          "height": 422
        }
      },
      "execution_count": 20,
      "outputs": [
        {
          "output_type": "execute_result",
          "data": {
            "text/plain": [
              "<IPython.core.display.Image object>"
            ],
            "image/png": "[encoded data removed]"
          },
          "metadata": {},
          "execution_count": 20
        }
      ]
    },
    {
      "cell_type": "code",
      "source": [
        ""
      ],
      "metadata": {
        "id": "e19lKr2koewt"
      },
      "execution_count": null,
      "outputs": []
    }
  ]
}