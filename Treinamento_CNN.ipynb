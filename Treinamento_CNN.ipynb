{
  "nbformat": 4,
  "nbformat_minor": 0,
  "metadata": {
    "colab": {
      "name": " Treinamento_CNN.ipynb",
      "provenance": [],
      "include_colab_link": true
    },
    "kernelspec": {
      "name": "python3",
      "display_name": "Python 3"
    },
    "language_info": {
      "name": "python"
    },
    "accelerator": "GPU"
  },
  "cells": [
    {
      "cell_type": "markdown",
      "metadata": {
        "id": "view-in-github",
        "colab_type": "text"
      },
      "source": [
        "<a href=\"https://colab.research.google.com/github/LuanPCunha/TCC/blob/main/Treinamento_CNN.ipynb\" target=\"_parent\"><img src=\"https://colab.research.google.com/assets/colab-badge.svg\" alt=\"Open In Colab\"/></a>"
      ]
    },
    {
      "cell_type": "markdown",
      "source": [
        "# Downloads e imports"
      ],
      "metadata": {
        "id": "EvS_6l_yMUeH"
      }
    },
    {
      "cell_type": "code",
      "source": [
        "# !pip install tensorflow\n",
        "# !pip install keras"
      ],
      "metadata": {
        "id": "N5Vhr4_vECld"
      },
      "execution_count": null,
      "outputs": []
    },
    {
      "cell_type": "code",
      "source": [
        "from google.colab import drive\n",
        "drive.mount('/content/drive')"
      ],
      "metadata": {
        "colab": {
          "base_uri": "https://localhost:8080/"
        },
        "id": "ptoQwAGEDQnl",
        "outputId": "41001c5f-c020-46c9-b5ca-84bb72d6e291"
      },
      "execution_count": null,
      "outputs": [
        {
          "output_type": "stream",
          "name": "stdout",
          "text": [
            "Drive already mounted at /content/drive; to attempt to forcibly remount, call drive.mount(\"/content/drive\", force_remount=True).\n"
          ]
        }
      ]
    },
    {
      "cell_type": "code",
      "source": [
        "import sklearn\n",
        "import numpy as np\n",
        "import pandas as pd\n",
        "from numpy import loadtxt\n",
        "import matplotlib.pyplot as plt\n",
        "from sklearn.model_selection import train_test_split\n",
        "\n",
        "import tensorflow as tf\n",
        "from tensorflow import keras\n",
        "from keras import optimizers\n",
        "from keras import layers\n",
        "from keras.layers import Dropout, Conv1D, MaxPooling1D, Flatten, Dense, SpatialDropout1D, BatchNormalization\n",
        "from keras.preprocessing.text import Tokenizer\n",
        "from keras.preprocessing.sequence import pad_sequences\n",
        "from tensorflow.keras.optimizers import schedules, Adam, Adadelta, SGD, RMSprop, Adagrad, Adamax, Nadam, Ftrl # Estamos usando só o Nadam\n",
        "from keras.models import Sequential\n",
        "from keras.layers.embeddings import Embedding\n",
        "\n",
        "from keras.callbacks import Callback, ModelCheckpoint, CSVLogger\n",
        "from sklearn.metrics import roc_auc_score, roc_curve"
      ],
      "metadata": {
        "id": "OeOYrHW9Bxs_"
      },
      "execution_count": null,
      "outputs": []
    },
    {
      "cell_type": "code",
      "source": [
        "def tokenize(tweets_list):\n",
        "    tokenizer = Tokenizer()\n",
        "    tokenizer.fit_on_texts(tweets_list)\n",
        "    return tokenizer.texts_to_sequences(tweets_list), tokenizer"
      ],
      "metadata": {
        "id": "db4KNc_2Ixyu"
      },
      "execution_count": null,
      "outputs": []
    },
    {
      "cell_type": "code",
      "source": [
        "def pad(text_tokenized, length=None):\n",
        "    return pad_sequences(text_tokenized, maxlen=length, padding='post')"
      ],
      "metadata": {
        "id": "pwcjgZd9I6AD"
      },
      "execution_count": null,
      "outputs": []
    },
    {
      "cell_type": "code",
      "source": [
        "def preprocess(tweets_list, max_text_length):\n",
        "   \n",
        "    preprocess_tweets_list, tweets_list_tokenizer = tokenize(tweets_list)\n",
        "\n",
        "    preprocess_tweets_list = pad(preprocess_tweets_list, length=max_text_length)\n",
        "\n",
        "    return preprocess_tweets_list, tweets_list_tokenizer"
      ],
      "metadata": {
        "id": "fNMyJgcsI8AU"
      },
      "execution_count": null,
      "outputs": []
    },
    {
      "cell_type": "code",
      "source": [
        "def logits_to_text(logits, tokenizer):\n",
        "    index_to_words = {id: word for word, id in tokenizer.word_index.items()}\n",
        "    index_to_words[0] = '<PAD>'\n",
        "\n",
        "    return ' '.join([index_to_words[prediction] for prediction in np.argmax(logits, 1)])"
      ],
      "metadata": {
        "id": "pX78imOBI9l8"
      },
      "execution_count": null,
      "outputs": []
    },
    {
      "cell_type": "code",
      "source": [
        "# Plot de Gráficos\n",
        "\n",
        "def plot_accuracy(history, miny=None):\n",
        "  loss, accuracy, val_loss, val_accuracy = list(history.history.keys())\n",
        "  print(accuracy,val_accuracy,loss,val_loss)\n",
        "  acc = history.history[accuracy]\n",
        "  test_acc = history.history[val_accuracy]\n",
        "  epochs = range(len(acc))\n",
        "  plt.plot(epochs, acc)\n",
        "  plt.plot(epochs, test_acc)\n",
        "  if miny:\n",
        "    plt.ylim(miny, 1.0)\n",
        "  plt.legend(['train', 'test'], loc='upper left')\n",
        "  plt.title('accuracy') \n",
        "  plt.xlabel('epoch')\n",
        "  plt.show()\n",
        "  \n",
        "  loss = history.history[loss]\n",
        "  val_loss = history.history[val_loss]\n",
        "  epochs = range(len(loss))\n",
        "  plt.plot(epochs, loss)\n",
        "  plt.plot(epochs, val_loss)\n",
        "  if miny:\n",
        "    plt.ylim(miny, 1.0)\n",
        "  plt.legend(['train', 'test'], loc='upper left')\n",
        "  plt.title('loss') \n",
        "  plt.xlabel('epoch')\n",
        "  plt.show()"
      ],
      "metadata": {
        "id": "hTMVKvfRrQ9x"
      },
      "execution_count": null,
      "outputs": []
    },
    {
      "cell_type": "code",
      "source": [
        "class RocAucEvaluation(Callback):\n",
        "    def __init__(self, validation_data=(), interval=1):\n",
        "        super(Callback, self).__init__()\n",
        "\n",
        "        self.interval = interval\n",
        "        self.X_val, self.y_val = validation_data\n",
        "\n",
        "    def on_epoch_end(self, epoch, logs={}):\n",
        "        if epoch % self.interval == 0:\n",
        "            y_pred = self.model.predict(self.X_val, verbose=0)\n",
        "            self.score = roc_auc_score(self.y_val, y_pred)\n",
        "            self.false_positive_rate, self.true_positive_rate, _ = roc_curve(self.y_val, y_pred)\n",
        "            print(\"\\n ROC-AUC - epoch: {:d} - score: {:.6f}\".format(epoch+1, self.score))\n",
        "            \n",
        "    def print_curve(self):        \n",
        "        plt.figure()\n",
        "        lw = 2\n",
        "        plt.plot(self.false_positive_rate,self.true_positive_rate,color=\"darkorange\",lw=lw,label=\"ROC curve (area = %0.2f)\" % self.score)\n",
        "        plt.plot([0, 1], [0, 1], color=\"navy\", lw=lw, linestyle=\"--\")\n",
        "        plt.xlim([0.0, 1.0])\n",
        "        plt.ylim([0.0, 1.05])\n",
        "        plt.xlabel(\"False Positive Rate\")\n",
        "        plt.ylabel(\"True Positive Rate\")\n",
        "        plt.title(\"Receiver operating characteristic example\")\n",
        "        plt.legend(loc=\"lower right\")\n",
        "        plt.show()\n",
        "              "
      ],
      "metadata": {
        "id": "DLBaKxGhrbRU"
      },
      "execution_count": null,
      "outputs": []
    },
    {
      "cell_type": "markdown",
      "source": [
        "# Carrega base"
      ],
      "metadata": {
        "id": "kMO-knebMcYH"
      }
    },
    {
      "cell_type": "code",
      "source": [
        "# Base1 Com StopWords\n",
        "PATH_BASE1_JUNTO_COM_DA_LEILA_BALANCEADA = \"/content/drive/MyDrive/TCC/dados/processadas/balanceadas/Base1JuntaHateENotHateDaLeila_balanceada.csv\"\n",
        "#MATRIZ_CBOW_300_BASE_1 = loadtxt(\"/content/drive/MyDrive/TCC/dados/word_embeddings/Matriz_Base1JuntaHateENotHateDaLeila_balanceada_CBOW300.CSV\", delimiter=',')\n",
        "\n",
        "# Base2 Sem StopWords\n",
        "PATH_BASE2_LEILA_LIMPISSIMA_BALANCEADA = \"/content/drive/MyDrive/TCC/dados/processadas/balanceadas/Base2_maior4_menor25_limpissima_balanceada.csv\"\n",
        "#MATRIZ_CBOW_300_BASE_2_LEILA = loadtxt(\"/content/drive/MyDrive/TCC/dados/word_embeddings/Matriz_Base2_maior4_menor25_limpissima_balanceada_CBOW300.CSV\", delimiter=',')\n",
        "\n",
        "PATH_BASE_1_CLASSIFICADA_BALANCEADA = r\"/content/drive/MyDrive/TCC/dados/processadas/balanceadas/Base1_classificada_balanceada.csv\" #entrada\n",
        "\n",
        "PATH_BASE_2_CLASSIFICADA_BALANCEADA = r\"/content/drive/MyDrive/TCC/dados/processadas/balanceadas/Base2_classificada_balanceada.csv\" #entrada\n",
        "MATRIZ_CBOW_300_BASE_2 = loadtxt(\"/content/drive/MyDrive/TCC/dados/word_embeddings/Matriz_Base2_classificada_balanceada_CBOW300.csv\", delimiter=',') #saida"
      ],
      "metadata": {
        "id": "xf_v4U5DDfU8"
      },
      "execution_count": null,
      "outputs": []
    },
    {
      "cell_type": "markdown",
      "source": [
        "# Execução modelo"
      ],
      "metadata": {
        "id": "W9pdFxE7Ml6H"
      }
    },
    {
      "cell_type": "code",
      "source": [
        "tweets = pd.read_csv(PATH_BASE_2_CLASSIFICADA_BALANCEADA, index_col=0)\n",
        "text_column = tweets['text']\n",
        "text_column"
      ],
      "metadata": {
        "id": "7wJXwK7jCkyx",
        "outputId": "77119821-c657-48dc-c9ea-c03c23f72d78",
        "colab": {
          "base_uri": "https://localhost:8080/"
        }
      },
      "execution_count": null,
      "outputs": [
        {
          "output_type": "execute_result",
          "data": {
            "text/plain": [
              "0        retwet bahia fazer sendo governada pt sei baia...\n",
              "1        k imagine atitude mental negativa f idiota fec...\n",
              "2        general heleno é bolsonaro rosna late late lat...\n",
              "3        alan ser cara pau achar havendo ruptura nesse ...\n",
              "4        canalhascomunistas caçarão chapa presidencialn...\n",
              "                               ...                        \n",
              "10569               af hein amiga mandar outro número mail\n",
              "10570    egoísmo é grande parte produto sociedade émile...\n",
              "10571    abençoado novo linda querida obrigada carinho ...\n",
              "10572                              leva gente amorzinhos d\n",
              "10573                                   k k ata meia sonsa\n",
              "Name: text, Length: 10574, dtype: object"
            ]
          },
          "metadata": {},
          "execution_count": 66
        }
      ]
    },
    {
      "cell_type": "code",
      "source": [
        "# Pega a média de caracteres dos tweets de toda a base\n",
        "max_text_length = int(text_column.apply(lambda x: len(str(x).split(' '))).max())\n",
        "max_text_length"
      ],
      "metadata": {
        "id": "ud3ADezRSHtI",
        "outputId": "73693623-f938-4348-c79f-74624aa8c4ae",
        "colab": {
          "base_uri": "https://localhost:8080/"
        }
      },
      "execution_count": null,
      "outputs": [
        {
          "output_type": "execute_result",
          "data": {
            "text/plain": [
              "55"
            ]
          },
          "metadata": {},
          "execution_count": 67
        }
      ]
    },
    {
      "cell_type": "code",
      "execution_count": null,
      "metadata": {
        "colab": {
          "base_uri": "https://localhost:8080/"
        },
        "id": "UxNdO2PW2E5a",
        "outputId": "61ee8538-d0b8-4766-a356-99d9ed8a06c9"
      },
      "outputs": [
        {
          "output_type": "stream",
          "name": "stdout",
          "text": [
            "Vocabulary size: 19043\n"
          ]
        }
      ],
      "source": [
        "output_label = tweets['label']\n",
        "input_data, text_tokenizer = preprocess(text_column, None)\n",
        "    \n",
        "text_vocab_size = len(text_tokenizer.word_index)\n",
        "print(\"Vocabulary size:\", text_vocab_size)"
      ]
    },
    {
      "cell_type": "code",
      "source": [
        "# parametros:\n",
        "BATCH_SIZE = 64\n",
        "EPOCHS = 100\n",
        "VAL_AND_TST_SIZE = 0.2\n",
        "LEARN_RATE = 0.0001\n",
        "# ******\n",
        "BETA_1 = 0.09\n",
        "BETA_2 = 0.0999\n",
        "EPSILON = 1e-07\n",
        "# *****\n",
        "EMBEDDING_DIMENSION = 300  \n",
        "MAX_TEXT_SIZE = max_text_length \n",
        "VOCAB_SIZE = text_vocab_size"
      ],
      "metadata": {
        "id": "yBGbbGdfL7ps"
      },
      "execution_count": null,
      "outputs": []
    },
    {
      "cell_type": "code",
      "source": [
        "def optimize (learning_rate, beta_1, beta_2, epsilon):\n",
        "  \n",
        "  # return Nadam(learning_rate=learning_rate, beta_1=beta_1, beta_2=beta_2, epsilon=epsilon, name=\"Nadam\")\n",
        "  return RMSprop(learning_rate=learning_rate,rho=0.9,momentum=0.0,epsilon=epsilon,centered=True,name=\"RMSprop\")"
      ],
      "metadata": {
        "id": "bPL3sYgZ1h7j"
      },
      "execution_count": null,
      "outputs": []
    },
    {
      "cell_type": "code",
      "source": [
        "# #optimizer = Adadelta(learning_rate=0.001, rho=0.95, epsilon=1e-07, name=\"Adadelta\") \n",
        "# #optimizer = SGD(learning_rate=0.01, momentum=0.0, nesterov=True, name=\"SGD\")\n",
        "# #optimizer = RMSprop(learning_rate=0.001,rho=0.9,momentum=0.0,epsilon=1e-07,centered=True,name=\"RMSprop\")\n",
        "# #optimizer = Adam(learning_rate=0.001, beta_1=0.9, beta_2=0.999, epsilon=1e-07, amsgrad=True, name=\"Adam\")\n",
        "# #optimizer = Adagrad(learning_rate=0.001, initial_accumulator_value=0.1, epsilon=1e-07, name=\"Adagrad\")\n",
        "# #optimizer = Adamax(learning_rate=0.001, beta_1=0.9, beta_2=0.999, epsilon=1e-07, name=\"Adamax\")\n",
        "# #optimizer = Nadam(learning_rate=0.001, beta_1=0.9, beta_2=0.999, epsilon=1e-07, name=\"Nadam\") # 96% Embedding Treinado /\n",
        "# #optimizer = Ftrl(learning_rate=0.001, learning_rate_power=-0.5, initial_accumulator_value=0.1, l1_regularization_strength=0.1, l2_regularization_strength=0.1, l2_shrinkage_regularization_strength=0.001, beta=0.0001, name=\"Ftrl\")"
      ],
      "metadata": {
        "id": "1x4MvEYPdC7q"
      },
      "execution_count": null,
      "outputs": []
    },
    {
      "cell_type": "code",
      "source": [
        "def create_cnn (vocab_size, embedding_dimen, max_text_size ):\n",
        "\n",
        "  modelo = keras.Sequential([\n",
        "    keras.layers.Embedding(VOCAB_SIZE, EMBEDDING_DIMENSION, input_length=max_text_size),\n",
        "    # keras.layers.Embedding(input_dim=MATRIZ_CBOW_300_BASE_2.shape[0],\n",
        "                            # output_dim=MATRIZ_CBOW_300_BASE_2.shape[1],\n",
        "                            # weights=[MATRIZ_CBOW_300_BASE_2],\n",
        "                            # embeddings_initializer=keras.initializers.Constant(MATRIZ_CBOW_300_BASE_2),\n",
        "                            # input_length=max_text_size,\n",
        "                            # trainable=True),                         \n",
        "    keras.layers.Conv1D(10,3, activation=\"relu\"),\n",
        "    keras.layers.Flatten(input_shape=(max_text_size,)),\n",
        "    keras.layers.Dense(max_text_size, activation='relu'),\n",
        "    keras.layers.Dropout(0.1),\n",
        "    keras.layers.Dense(1, activation='sigmoid')\n",
        "    ])\n",
        "  \n",
        "  return modelo \n",
        "  "
      ],
      "metadata": {
        "id": "wKH2mHM5r8_6"
      },
      "execution_count": null,
      "outputs": []
    },
    {
      "cell_type": "code",
      "source": [
        "def train_model(input_data, output_label, embedding_dimen, batch_size, epochs, validation_and_test_size):\n",
        "    \n",
        "    x_train, x_test, y_train, y_test = train_test_split(input_data, output_label, test_size=validation_and_test_size, random_state=42)\n",
        "\n",
        "    optimizer = optimize(LEARN_RATE, BETA_1, BETA_2, EPSILON)\n",
        "    \n",
        "    model = create_cnn(VOCAB_SIZE, EMBEDDING_DIMENSION, MAX_TEXT_SIZE)\n",
        "    model.summary()\n",
        "    # model.compile(loss=tf.keras.losses.SparseCategoricalCrossentropy(from_logits=False), optimizer=optimizer, metrics=['accuracy'])\n",
        "    model.compile(loss=tf.keras.losses.BinaryCrossentropy(), optimizer=optimizer, metrics=['accuracy'])        \n",
        "    \n",
        "    ra_val = RocAucEvaluation(validation_data=(x_test, y_test), interval = 1)\n",
        "    csv_logger = CSVLogger('log.csv', append=False, separator=';')                                                                                        \n",
        "    \n",
        "    history = model.fit(x_train, y_train, batch_size=batch_size, epochs=epochs, validation_split = validation_and_test_size, verbose=2, use_multiprocessing=True,  callbacks = [ra_val,csv_logger])\n",
        "    scores = model.evaluate(x_test, y_test, verbose=1)\n",
        "    \n",
        "    return history, model, x_test, y_test, ra_val\n"
      ],
      "metadata": {
        "id": "wYnrq-34uZX5"
      },
      "execution_count": null,
      "outputs": []
    },
    {
      "cell_type": "code",
      "source": [
        "# plot dos gráficos\n",
        "history, model1, x_test, y_test, ra_val = train_model(input_data, output_label, EMBEDDING_DIMENSION, BATCH_SIZE, EPOCHS, VAL_AND_TST_SIZE)"
      ],
      "metadata": {
        "id": "9YLL1kZTDzUG",
        "outputId": "6299c4d2-f2c1-403b-cf17-af802ce9b502",
        "colab": {
          "base_uri": "https://localhost:8080/"
        }
      },
      "execution_count": null,
      "outputs": [
        {
          "output_type": "stream",
          "name": "stdout",
          "text": [
            "Model: \"sequential_11\"\n",
            "_________________________________________________________________\n",
            " Layer (type)                Output Shape              Param #   \n",
            "=================================================================\n",
            " embedding_11 (Embedding)    (None, 55, 300)           5712900   \n",
            "                                                                 \n",
            " conv1d_11 (Conv1D)          (None, 53, 10)            9010      \n",
            "                                                                 \n",
            " flatten_11 (Flatten)        (None, 530)               0         \n",
            "                                                                 \n",
            " dense_22 (Dense)            (None, 55)                29205     \n",
            "                                                                 \n",
            " dropout_11 (Dropout)        (None, 55)                0         \n",
            "                                                                 \n",
            " dense_23 (Dense)            (None, 1)                 56        \n",
            "                                                                 \n",
            "=================================================================\n",
            "Total params: 5,751,171\n",
            "Trainable params: 5,751,171\n",
            "Non-trainable params: 0\n",
            "_________________________________________________________________\n",
            "Epoch 1/100\n",
            "\n",
            " ROC-AUC - epoch: 1 - score: 0.654986\n",
            "106/106 - 3s - loss: 0.6814 - accuracy: 0.5753 - val_loss: 0.6703 - val_accuracy: 0.6117 - 3s/epoch - 26ms/step\n",
            "Epoch 2/100\n",
            "\n",
            " ROC-AUC - epoch: 2 - score: 0.665656\n",
            "106/106 - 1s - loss: 0.6572 - accuracy: 0.6180 - val_loss: 0.6580 - val_accuracy: 0.6170 - 692ms/epoch - 7ms/step\n",
            "Epoch 3/100\n",
            "\n",
            " ROC-AUC - epoch: 3 - score: 0.688361\n",
            "106/106 - 1s - loss: 0.6420 - accuracy: 0.6314 - val_loss: 0.6454 - val_accuracy: 0.6395 - 732ms/epoch - 7ms/step\n",
            "Epoch 4/100\n",
            "\n",
            " ROC-AUC - epoch: 4 - score: 0.743689\n",
            "106/106 - 1s - loss: 0.6111 - accuracy: 0.6660 - val_loss: 0.6134 - val_accuracy: 0.6761 - 665ms/epoch - 6ms/step\n",
            "Epoch 5/100\n",
            "\n",
            " ROC-AUC - epoch: 5 - score: 0.829963\n",
            "106/106 - 1s - loss: 0.5442 - accuracy: 0.7408 - val_loss: 0.5433 - val_accuracy: 0.7435 - 661ms/epoch - 6ms/step\n",
            "Epoch 6/100\n",
            "\n",
            " ROC-AUC - epoch: 6 - score: 0.907053\n",
            "106/106 - 1s - loss: 0.4261 - accuracy: 0.8496 - val_loss: 0.4496 - val_accuracy: 0.8008 - 711ms/epoch - 7ms/step\n",
            "Epoch 7/100\n",
            "\n",
            " ROC-AUC - epoch: 7 - score: 0.946869\n",
            "106/106 - 1s - loss: 0.3017 - accuracy: 0.9165 - val_loss: 0.3569 - val_accuracy: 0.8599 - 650ms/epoch - 6ms/step\n",
            "Epoch 8/100\n",
            "\n",
            " ROC-AUC - epoch: 8 - score: 0.957546\n",
            "106/106 - 1s - loss: 0.2046 - accuracy: 0.9449 - val_loss: 0.3062 - val_accuracy: 0.8712 - 706ms/epoch - 7ms/step\n",
            "Epoch 9/100\n",
            "\n",
            " ROC-AUC - epoch: 9 - score: 0.966114\n",
            "106/106 - 1s - loss: 0.1452 - accuracy: 0.9582 - val_loss: 0.2713 - val_accuracy: 0.8889 - 666ms/epoch - 6ms/step\n",
            "Epoch 10/100\n",
            "\n",
            " ROC-AUC - epoch: 10 - score: 0.971026\n",
            "106/106 - 1s - loss: 0.1067 - accuracy: 0.9688 - val_loss: 0.2550 - val_accuracy: 0.8960 - 645ms/epoch - 6ms/step\n",
            "Epoch 11/100\n",
            "\n",
            " ROC-AUC - epoch: 11 - score: 0.973630\n",
            "106/106 - 1s - loss: 0.0791 - accuracy: 0.9784 - val_loss: 0.2380 - val_accuracy: 0.9090 - 724ms/epoch - 7ms/step\n",
            "Epoch 12/100\n",
            "\n",
            " ROC-AUC - epoch: 12 - score: 0.976356\n",
            "106/106 - 1s - loss: 0.0594 - accuracy: 0.9829 - val_loss: 0.2270 - val_accuracy: 0.9102 - 724ms/epoch - 7ms/step\n",
            "Epoch 13/100\n",
            "\n",
            " ROC-AUC - epoch: 13 - score: 0.977711\n",
            "106/106 - 1s - loss: 0.0442 - accuracy: 0.9891 - val_loss: 0.2245 - val_accuracy: 0.9131 - 650ms/epoch - 6ms/step\n",
            "Epoch 14/100\n",
            "\n",
            " ROC-AUC - epoch: 14 - score: 0.979815\n",
            "106/106 - 1s - loss: 0.0347 - accuracy: 0.9901 - val_loss: 0.2212 - val_accuracy: 0.9149 - 705ms/epoch - 7ms/step\n",
            "Epoch 15/100\n",
            "\n",
            " ROC-AUC - epoch: 15 - score: 0.980651\n",
            "106/106 - 1s - loss: 0.0263 - accuracy: 0.9929 - val_loss: 0.2335 - val_accuracy: 0.9137 - 673ms/epoch - 6ms/step\n",
            "67/67 [==============================] - 0s 2ms/step - loss: 0.1969 - accuracy: 0.9267\n"
          ]
        }
      ]
    },
    {
      "cell_type": "code",
      "source": [
        "# 67/67 [==============================] - 0s 3ms/step - loss: 0.5627 - accuracy: 0.7059 -> Com Embeddings\n",
        "# 67/67 [==============================] - 0s 3ms/step - loss: 0.4298 - accuracy: 0.8113 -> Sem Embeddings"
      ],
      "metadata": {
        "id": "75yZp3uxd4oK"
      },
      "execution_count": null,
      "outputs": []
    },
    {
      "cell_type": "code",
      "source": [
        "plot_accuracy(history)\n",
        "ra_val.print_curve()"
      ],
      "metadata": {
        "id": "rHqQtBxJAMZY",
        "outputId": "108902d2-d475-4652-9450-905cb723a67c",
        "colab": {
          "base_uri": "https://localhost:8080/",
          "height": 868
        }
      },
      "execution_count": null,
      "outputs": [
        {
          "output_type": "stream",
          "name": "stdout",
          "text": [
            "accuracy val_accuracy loss val_loss\n"
          ]
        },
        {
          "output_type": "display_data",
          "data": {
            "text/plain": [
              "<Figure size 432x288 with 1 Axes>"
            ],
            "image/png": "[encoded data removed]"
          },
          "metadata": {
            "needs_background": "light"
          }
        },
        {
          "output_type": "display_data",
          "data": {
            "text/plain": [
              "<Figure size 432x288 with 1 Axes>"
            ],
            "image/png": "[encoded data removed]"
          },
          "metadata": {
            "needs_background": "light"
          }
        },
        {
          "output_type": "display_data",
          "data": {
            "text/plain": [
              "<Figure size 432x288 with 1 Axes>"
            ],
            "image/png": "[encoded data removed]"
          },
          "metadata": {
            "needs_background": "light"
          }
        }
      ]
    },
    {
      "cell_type": "code",
      "source": [
        "his = pd.read_csv('log.csv',sep=';') \n",
        "his.head(55)"
      ],
      "metadata": {
        "id": "IcDWcBD_Ve4x",
        "outputId": "de3c366f-e2f6-4e48-8068-4fa9b9ccfa27",
        "colab": {
          "base_uri": "https://localhost:8080/",
          "height": 520
        }
      },
      "execution_count": null,
      "outputs": [
        {
          "output_type": "execute_result",
          "data": {
            "text/plain": [
              "    epoch  accuracy      loss  val_accuracy  val_loss\n",
              "0       0  0.575292  0.681431      0.611702  0.670293\n",
              "1       1  0.617999  0.657157      0.617021  0.658044\n",
              "2       2  0.631447  0.642030      0.639480  0.645447\n",
              "3       3  0.666026  0.611101      0.676123  0.613437\n",
              "4       4  0.740801  0.544231      0.743499  0.543318\n",
              "5       5  0.849564  0.426128      0.800827  0.449593\n",
              "6       6  0.916507  0.301694      0.859929  0.356896\n",
              "7       7  0.944880  0.204615      0.871158  0.306187\n",
              "8       8  0.958179  0.145203      0.888889  0.271328\n",
              "9       9  0.968819  0.106739      0.895981  0.255009\n",
              "10     10  0.978425  0.079051      0.908983  0.238003\n",
              "11     11  0.982858  0.059434      0.910165  0.226976\n",
              "12     12  0.989065  0.044246      0.913121  0.224496\n",
              "13     13  0.990099  0.034655      0.914894  0.221195\n",
              "14     14  0.992907  0.026288      0.913712  0.233525"
            ],
            "text/html": [
              "\n",
              "  <div id=\"df-f8476c76-83b0-4865-849c-a643421a9054\">\n",
              "    <div class=\"colab-df-container\">\n",
              "      <div>\n",
              "<style scoped>\n",
              "    .dataframe tbody tr th:only-of-type {\n",
              "        vertical-align: middle;\n",
              "    }\n",
              "\n",
              "    .dataframe tbody tr th {\n",
              "        vertical-align: top;\n",
              "    }\n",
              "\n",
              "    .dataframe thead th {\n",
              "        text-align: right;\n",
              "    }\n",
              "</style>\n",
              "<table border=\"1\" class=\"dataframe\">\n",
              "  <thead>\n",
              "    <tr style=\"text-align: right;\">\n",
              "      <th></th>\n",
              "      <th>epoch</th>\n",
              "      <th>accuracy</th>\n",
              "      <th>loss</th>\n",
              "      <th>val_accuracy</th>\n",
              "      <th>val_loss</th>\n",
              "    </tr>\n",
              "  </thead>\n",
              "  <tbody>\n",
              "    <tr>\n",
              "      <th>0</th>\n",
              "      <td>0</td>\n",
              "      <td>0.575292</td>\n",
              "      <td>0.681431</td>\n",
              "      <td>0.611702</td>\n",
              "      <td>0.670293</td>\n",
              "    </tr>\n",
              "    <tr>\n",
              "      <th>1</th>\n",
              "      <td>1</td>\n",
              "      <td>0.617999</td>\n",
              "      <td>0.657157</td>\n",
              "      <td>0.617021</td>\n",
              "      <td>0.658044</td>\n",
              "    </tr>\n",
              "    <tr>\n",
              "      <th>2</th>\n",
              "      <td>2</td>\n",
              "      <td>0.631447</td>\n",
              "      <td>0.642030</td>\n",
              "      <td>0.639480</td>\n",
              "      <td>0.645447</td>\n",
              "    </tr>\n",
              "    <tr>\n",
              "      <th>3</th>\n",
              "      <td>3</td>\n",
              "      <td>0.666026</td>\n",
              "      <td>0.611101</td>\n",
              "      <td>0.676123</td>\n",
              "      <td>0.613437</td>\n",
              "    </tr>\n",
              "    <tr>\n",
              "      <th>4</th>\n",
              "      <td>4</td>\n",
              "      <td>0.740801</td>\n",
              "      <td>0.544231</td>\n",
              "      <td>0.743499</td>\n",
              "      <td>0.543318</td>\n",
              "    </tr>\n",
              "    <tr>\n",
              "      <th>5</th>\n",
              "      <td>5</td>\n",
              "      <td>0.849564</td>\n",
              "      <td>0.426128</td>\n",
              "      <td>0.800827</td>\n",
              "      <td>0.449593</td>\n",
              "    </tr>\n",
              "    <tr>\n",
              "      <th>6</th>\n",
              "      <td>6</td>\n",
              "      <td>0.916507</td>\n",
              "      <td>0.301694</td>\n",
              "      <td>0.859929</td>\n",
              "      <td>0.356896</td>\n",
              "    </tr>\n",
              "    <tr>\n",
              "      <th>7</th>\n",
              "      <td>7</td>\n",
              "      <td>0.944880</td>\n",
              "      <td>0.204615</td>\n",
              "      <td>0.871158</td>\n",
              "      <td>0.306187</td>\n",
              "    </tr>\n",
              "    <tr>\n",
              "      <th>8</th>\n",
              "      <td>8</td>\n",
              "      <td>0.958179</td>\n",
              "      <td>0.145203</td>\n",
              "      <td>0.888889</td>\n",
              "      <td>0.271328</td>\n",
              "    </tr>\n",
              "    <tr>\n",
              "      <th>9</th>\n",
              "      <td>9</td>\n",
              "      <td>0.968819</td>\n",
              "      <td>0.106739</td>\n",
              "      <td>0.895981</td>\n",
              "      <td>0.255009</td>\n",
              "    </tr>\n",
              "    <tr>\n",
              "      <th>10</th>\n",
              "      <td>10</td>\n",
              "      <td>0.978425</td>\n",
              "      <td>0.079051</td>\n",
              "      <td>0.908983</td>\n",
              "      <td>0.238003</td>\n",
              "    </tr>\n",
              "    <tr>\n",
              "      <th>11</th>\n",
              "      <td>11</td>\n",
              "      <td>0.982858</td>\n",
              "      <td>0.059434</td>\n",
              "      <td>0.910165</td>\n",
              "      <td>0.226976</td>\n",
              "    </tr>\n",
              "    <tr>\n",
              "      <th>12</th>\n",
              "      <td>12</td>\n",
              "      <td>0.989065</td>\n",
              "      <td>0.044246</td>\n",
              "      <td>0.913121</td>\n",
              "      <td>0.224496</td>\n",
              "    </tr>\n",
              "    <tr>\n",
              "      <th>13</th>\n",
              "      <td>13</td>\n",
              "      <td>0.990099</td>\n",
              "      <td>0.034655</td>\n",
              "      <td>0.914894</td>\n",
              "      <td>0.221195</td>\n",
              "    </tr>\n",
              "    <tr>\n",
              "      <th>14</th>\n",
              "      <td>14</td>\n",
              "      <td>0.992907</td>\n",
              "      <td>0.026288</td>\n",
              "      <td>0.913712</td>\n",
              "      <td>0.233525</td>\n",
              "    </tr>\n",
              "  </tbody>\n",
              "</table>\n",
              "</div>\n",
              "      <button class=\"colab-df-convert\" onclick=\"convertToInteractive('df-f8476c76-83b0-4865-849c-a643421a9054')\"\n",
              "              title=\"Convert this dataframe to an interactive table.\"\n",
              "              style=\"display:none;\">\n",
              "        \n",
              "  <svg xmlns=\"http://www.w3.org/2000/svg\" height=\"24px\"viewBox=\"0 0 24 24\"\n",
              "       width=\"24px\">\n",
              "    <path d=\"M0 0h24v24H0V0z\" fill=\"none\"/>\n",
              "    <path d=\"M18.56 5.44l.94 2.06.94-2.06 2.06-.94-2.06-.94-.94-2.06-.94 2.06-2.06.94zm-11 1L8.5 8.5l.94-2.06 2.06-.94-2.06-.94L8.5 2.5l-.94 2.06-2.06.94zm10 10l.94 2.06.94-2.06 2.06-.94-2.06-.94-.94-2.06-.94 2.06-2.06.94z\"/><path d=\"M17.41 7.96l-1.37-1.37c-.4-.4-.92-.59-1.43-.59-.52 0-1.04.2-1.43.59L10.3 9.45l-7.72 7.72c-.78.78-.78 2.05 0 2.83L4 21.41c.39.39.9.59 1.41.59.51 0 1.02-.2 1.41-.59l7.78-7.78 2.81-2.81c.8-.78.8-2.07 0-2.86zM5.41 20L4 18.59l7.72-7.72 1.47 1.35L5.41 20z\"/>\n",
              "  </svg>\n",
              "      </button>\n",
              "      \n",
              "  <style>\n",
              "    .colab-df-container {\n",
              "      display:flex;\n",
              "      flex-wrap:wrap;\n",
              "      gap: 12px;\n",
              "    }\n",
              "\n",
              "    .colab-df-convert {\n",
              "      background-color: #E8F0FE;\n",
              "      border: none;\n",
              "      border-radius: 50%;\n",
              "      cursor: pointer;\n",
              "      display: none;\n",
              "      fill: #1967D2;\n",
              "      height: 32px;\n",
              "      padding: 0 0 0 0;\n",
              "      width: 32px;\n",
              "    }\n",
              "\n",
              "    .colab-df-convert:hover {\n",
              "      background-color: #E2EBFA;\n",
              "      box-shadow: 0px 1px 2px rgba(60, 64, 67, 0.3), 0px 1px 3px 1px rgba(60, 64, 67, 0.15);\n",
              "      fill: #174EA6;\n",
              "    }\n",
              "\n",
              "    [theme=dark] .colab-df-convert {\n",
              "      background-color: #3B4455;\n",
              "      fill: #D2E3FC;\n",
              "    }\n",
              "\n",
              "    [theme=dark] .colab-df-convert:hover {\n",
              "      background-color: #434B5C;\n",
              "      box-shadow: 0px 1px 3px 1px rgba(0, 0, 0, 0.15);\n",
              "      filter: drop-shadow(0px 1px 2px rgba(0, 0, 0, 0.3));\n",
              "      fill: #FFFFFF;\n",
              "    }\n",
              "  </style>\n",
              "\n",
              "      <script>\n",
              "        const buttonEl =\n",
              "          document.querySelector('#df-f8476c76-83b0-4865-849c-a643421a9054 button.colab-df-convert');\n",
              "        buttonEl.style.display =\n",
              "          google.colab.kernel.accessAllowed ? 'block' : 'none';\n",
              "\n",
              "        async function convertToInteractive(key) {\n",
              "          const element = document.querySelector('#df-f8476c76-83b0-4865-849c-a643421a9054');\n",
              "          const dataTable =\n",
              "            await google.colab.kernel.invokeFunction('convertToInteractive',\n",
              "                                                     [key], {});\n",
              "          if (!dataTable) return;\n",
              "\n",
              "          const docLinkHtml = 'Like what you see? Visit the ' +\n",
              "            '<a target=\"_blank\" href=https://colab.research.google.com/notebooks/data_table.ipynb>data table notebook</a>'\n",
              "            + ' to learn more about interactive tables.';\n",
              "          element.innerHTML = '';\n",
              "          dataTable['output_type'] = 'display_data';\n",
              "          await google.colab.output.renderOutput(dataTable, element);\n",
              "          const docLink = document.createElement('div');\n",
              "          docLink.innerHTML = docLinkHtml;\n",
              "          element.appendChild(docLink);\n",
              "        }\n",
              "      </script>\n",
              "    </div>\n",
              "  </div>\n",
              "  "
            ]
          },
          "metadata": {},
          "execution_count": 168
        }
      ]
    },
    {
      "cell_type": "code",
      "source": [
        "y_prob = model1.predict(x_test) \n",
        "#y_labelpred = y_prob.argmax(axis=-1)\n",
        "print(y_prob)\n",
        "y_labelpred = y_prob.round()\n",
        "\n",
        "y_labeltrue=y_test"
      ],
      "metadata": {
        "id": "FR-idj87D4-N",
        "outputId": "1f80b3e4-bbd0-4bee-b8f1-8803264346d8",
        "colab": {
          "base_uri": "https://localhost:8080/"
        }
      },
      "execution_count": null,
      "outputs": [
        {
          "output_type": "stream",
          "name": "stdout",
          "text": [
            "[[1.        ]\n",
            " [0.00445946]\n",
            " [0.14951415]\n",
            " ...\n",
            " [0.00628558]\n",
            " [0.99999976]\n",
            " [0.3786324 ]]\n"
          ]
        }
      ]
    },
    {
      "cell_type": "code",
      "metadata": {
        "id": "rYpv7sUlaqPH",
        "colab": {
          "base_uri": "https://localhost:8080/",
          "height": 629
        },
        "outputId": "b44e19c3-1d3c-4d37-dc8d-4aac52318b4a"
      },
      "source": [
        "from mlxtend.plotting import plot_confusion_matrix\n",
        "from sklearn.metrics import confusion_matrix\n",
        "import matplotlib.pyplot as plt\n",
        "\n",
        "classes = confusion_matrix(y_labeltrue,y_labelpred)\n",
        "\n",
        "fig,ax = plot_confusion_matrix(figsize=(11, 11),conf_mat=classes,\n",
        "                                colorbar=True,\n",
        "                                show_absolute=True,\n",
        "                                show_normed=True,\n",
        "                              )\n",
        "plt.show()"
      ],
      "execution_count": null,
      "outputs": [
        {
          "output_type": "display_data",
          "data": {
            "text/plain": [
              "<Figure size 792x792 with 2 Axes>"
            ],
            "image/png": "[encoded data removed]"
          },
          "metadata": {
            "needs_background": "light"
          }
        }
      ]
    },
    {
      "cell_type": "code",
      "source": [
        "tf.keras.utils.plot_model(model1, to_file='/meuarquivo.png', show_shapes=True)"
      ],
      "metadata": {
        "id": "SqzyjKSXJ6Tq",
        "outputId": "a462af80-6d55-46a2-fbfe-8f175448a90d",
        "colab": {
          "base_uri": "https://localhost:8080/",
          "height": 754
        }
      },
      "execution_count": null,
      "outputs": [
        {
          "output_type": "execute_result",
          "data": {
            "text/plain": [
              "<IPython.core.display.Image object>"
            ],
            "image/png": "[encoded data removed]"
          },
          "metadata": {},
          "execution_count": 171
        }
      ]
    }
  ]
}