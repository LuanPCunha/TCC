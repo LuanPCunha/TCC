{
  "nbformat": 4,
  "nbformat_minor": 0,
  "metadata": {
    "colab": {
      "name": " Treinamento_CNN.ipynb",
      "provenance": [],
      "include_colab_link": true
    },
    "kernelspec": {
      "name": "python3",
      "display_name": "Python 3"
    },
    "language_info": {
      "name": "python"
    },
    "accelerator": "TPU"
  },
  "cells": [
    {
      "cell_type": "markdown",
      "metadata": {
        "id": "view-in-github",
        "colab_type": "text"
      },
      "source": [
        "<a href=\"https://colab.research.google.com/github/LuanPCunha/TCC/blob/main/Treinamento_CNN.ipynb\" target=\"_parent\"><img src=\"https://colab.research.google.com/assets/colab-badge.svg\" alt=\"Open In Colab\"/></a>"
      ]
    },
    {
      "cell_type": "markdown",
      "source": [
        "## Configurações Iniciais "
      ],
      "metadata": {
        "id": "uWzXvUMH86xE"
      }
    },
    {
      "cell_type": "code",
      "source": [
        "from google.colab import drive\n",
        "drive.mount('/content/drive')"
      ],
      "metadata": {
        "colab": {
          "base_uri": "https://localhost:8080/"
        },
        "id": "_oj5I6fco9eB",
        "outputId": "fc9689fe-9d0e-4139-8c54-89dd39f9d346"
      },
      "execution_count": 2,
      "outputs": [
        {
          "output_type": "stream",
          "name": "stdout",
          "text": [
            "Drive already mounted at /content/drive; to attempt to forcibly remount, call drive.mount(\"/content/drive\", force_remount=True).\n"
          ]
        }
      ]
    },
    {
      "cell_type": "code",
      "source": [
        "import pandas as pd\n",
        "import numpy as np\n",
        "from numpy import array\n",
        "from numpy import asarray\n",
        "from numpy import zeros\n",
        "import string, re\n",
        "import itertools\n",
        "import nltk\n",
        "import plotly.offline as py\n",
        "import plotly.graph_objs as go\n",
        "import matplotlib.pyplot as plt\n",
        "import seaborn as sns\n",
        "from sklearn.model_selection import train_test_split\n",
        "from sklearn.metrics import confusion_matrix\n",
        "from sklearn.feature_extraction.text import TfidfVectorizer\n",
        "from sklearn.naive_bayes import MultinomialNB\n",
        "from sklearn.metrics import accuracy_score\n",
        "from keras.preprocessing.text import Tokenizer\n",
        "from keras.preprocessing.sequence import pad_sequences\n",
        "from keras.models import Sequential\n",
        "from keras.layers import Dense, Embedding, LSTM\n",
        "from keras.callbacks import EarlyStopping\n",
        "py.init_notebook_mode(connected=True)\n",
        "%matplotlib inline\n",
        "from sklearn import model_selection, preprocessing, linear_model, naive_bayes, metrics, svm\n",
        "from sklearn.feature_extraction.text import TfidfVectorizer, CountVectorizer\n",
        "from sklearn import decomposition, ensemble\n",
        "import pandas, xgboost, numpy, textblob, string\n",
        "from keras.preprocessing import text, sequence\n",
        "from keras import layers, models, optimizers"
      ],
      "metadata": {
        "colab": {
          "base_uri": "https://localhost:8080/",
          "height": 17
        },
        "id": "YYGxUH68sUuH",
        "outputId": "9a7a9994-c816-4f95-98fd-9b35e265ec9a"
      },
      "execution_count": 16,
      "outputs": [
        {
          "output_type": "display_data",
          "data": {
            "text/html": [
              "        <script type=\"text/javascript\">\n",
              "        window.PlotlyConfig = {MathJaxConfig: 'local'};\n",
              "        if (window.MathJax) {MathJax.Hub.Config({SVG: {font: \"STIX-Web\"}});}\n",
              "        if (typeof require !== 'undefined') {\n",
              "        require.undef(\"plotly\");\n",
              "        requirejs.config({\n",
              "            paths: {\n",
              "                'plotly': ['https://cdn.plot.ly/plotly-2.8.3.min']\n",
              "            }\n",
              "        });\n",
              "        require(['plotly'], function(Plotly) {\n",
              "            window._Plotly = Plotly;\n",
              "        });\n",
              "        }\n",
              "        </script>\n",
              "        "
            ]
          },
          "metadata": {}
        }
      ]
    },
    {
      "cell_type": "markdown",
      "metadata": {
        "id": "D0hk9_ndbmUK"
      },
      "source": [
        "## Lendo a Base"
      ]
    },
    {
      "cell_type": "code",
      "source": [
        "# Base1 Com StopWords\n",
        "PATH_BASE1 = \"/content/drive/MyDrive/TCC/dados/processadas/Base1_classificada.csv\"\n",
        "\n",
        "# Base2 Sem StopWords\n",
        "PATH_BASE2 = \"/content/drive/MyDrive/TCC/dados/processadas/Base2_classificada.csv\"\n",
        "\n",
        "# Base1 Com StopWords\n",
        "PATH_BASE1_JUNTO_COM_DA_LEILA = \"/content/drive/MyDrive/TCC/dados/processadas/Base1JuntaHateENotHateDaLeila.csv\"\n",
        "\n",
        "# Base2 Sem StopWords\n",
        "PATH_BASE2_LEILA_LIMPISSIMA = \"/content/drive/MyDrive/TCC/dados/processadas/Base2_maior4_menor25_limpissima.csv\""
      ],
      "metadata": {
        "id": "W6LWWnwVpLVQ"
      },
      "execution_count": 4,
      "outputs": []
    },
    {
      "cell_type": "code",
      "execution_count": 5,
      "metadata": {
        "id": "YxMcfFGUMqoD"
      },
      "outputs": [],
      "source": [
        "#trainDF = pd.read_csv(PATH_BASE2_LEILA_LIMPISSIMA, index_col=0)\n",
        "trainDF = pd.read_csv(PATH_BASE2_LEILA_LIMPISSIMA)"
      ]
    },
    {
      "cell_type": "code",
      "execution_count": 6,
      "metadata": {
        "colab": {
          "base_uri": "https://localhost:8080/",
          "height": 143
        },
        "id": "aiuYPDsqbeqQ",
        "outputId": "bfcb7d64-ae10-432e-b5fe-f1ed8d7ca7fc"
      },
      "outputs": [
        {
          "output_type": "execute_result",
          "data": {
            "text/plain": [
              "           text\n",
              "label          \n",
              "hate       2443\n",
              "not_hate  19282"
            ],
            "text/html": [
              "\n",
              "  <div id=\"df-d6733f93-5b4e-47d7-9199-ccbd45cc8570\">\n",
              "    <div class=\"colab-df-container\">\n",
              "      <div>\n",
              "<style scoped>\n",
              "    .dataframe tbody tr th:only-of-type {\n",
              "        vertical-align: middle;\n",
              "    }\n",
              "\n",
              "    .dataframe tbody tr th {\n",
              "        vertical-align: top;\n",
              "    }\n",
              "\n",
              "    .dataframe thead th {\n",
              "        text-align: right;\n",
              "    }\n",
              "</style>\n",
              "<table border=\"1\" class=\"dataframe\">\n",
              "  <thead>\n",
              "    <tr style=\"text-align: right;\">\n",
              "      <th></th>\n",
              "      <th>text</th>\n",
              "    </tr>\n",
              "    <tr>\n",
              "      <th>label</th>\n",
              "      <th></th>\n",
              "    </tr>\n",
              "  </thead>\n",
              "  <tbody>\n",
              "    <tr>\n",
              "      <th>hate</th>\n",
              "      <td>2443</td>\n",
              "    </tr>\n",
              "    <tr>\n",
              "      <th>not_hate</th>\n",
              "      <td>19282</td>\n",
              "    </tr>\n",
              "  </tbody>\n",
              "</table>\n",
              "</div>\n",
              "      <button class=\"colab-df-convert\" onclick=\"convertToInteractive('df-d6733f93-5b4e-47d7-9199-ccbd45cc8570')\"\n",
              "              title=\"Convert this dataframe to an interactive table.\"\n",
              "              style=\"display:none;\">\n",
              "        \n",
              "  <svg xmlns=\"http://www.w3.org/2000/svg\" height=\"24px\"viewBox=\"0 0 24 24\"\n",
              "       width=\"24px\">\n",
              "    <path d=\"M0 0h24v24H0V0z\" fill=\"none\"/>\n",
              "    <path d=\"M18.56 5.44l.94 2.06.94-2.06 2.06-.94-2.06-.94-.94-2.06-.94 2.06-2.06.94zm-11 1L8.5 8.5l.94-2.06 2.06-.94-2.06-.94L8.5 2.5l-.94 2.06-2.06.94zm10 10l.94 2.06.94-2.06 2.06-.94-2.06-.94-.94-2.06-.94 2.06-2.06.94z\"/><path d=\"M17.41 7.96l-1.37-1.37c-.4-.4-.92-.59-1.43-.59-.52 0-1.04.2-1.43.59L10.3 9.45l-7.72 7.72c-.78.78-.78 2.05 0 2.83L4 21.41c.39.39.9.59 1.41.59.51 0 1.02-.2 1.41-.59l7.78-7.78 2.81-2.81c.8-.78.8-2.07 0-2.86zM5.41 20L4 18.59l7.72-7.72 1.47 1.35L5.41 20z\"/>\n",
              "  </svg>\n",
              "      </button>\n",
              "      \n",
              "  <style>\n",
              "    .colab-df-container {\n",
              "      display:flex;\n",
              "      flex-wrap:wrap;\n",
              "      gap: 12px;\n",
              "    }\n",
              "\n",
              "    .colab-df-convert {\n",
              "      background-color: #E8F0FE;\n",
              "      border: none;\n",
              "      border-radius: 50%;\n",
              "      cursor: pointer;\n",
              "      display: none;\n",
              "      fill: #1967D2;\n",
              "      height: 32px;\n",
              "      padding: 0 0 0 0;\n",
              "      width: 32px;\n",
              "    }\n",
              "\n",
              "    .colab-df-convert:hover {\n",
              "      background-color: #E2EBFA;\n",
              "      box-shadow: 0px 1px 2px rgba(60, 64, 67, 0.3), 0px 1px 3px 1px rgba(60, 64, 67, 0.15);\n",
              "      fill: #174EA6;\n",
              "    }\n",
              "\n",
              "    [theme=dark] .colab-df-convert {\n",
              "      background-color: #3B4455;\n",
              "      fill: #D2E3FC;\n",
              "    }\n",
              "\n",
              "    [theme=dark] .colab-df-convert:hover {\n",
              "      background-color: #434B5C;\n",
              "      box-shadow: 0px 1px 3px 1px rgba(0, 0, 0, 0.15);\n",
              "      filter: drop-shadow(0px 1px 2px rgba(0, 0, 0, 0.3));\n",
              "      fill: #FFFFFF;\n",
              "    }\n",
              "  </style>\n",
              "\n",
              "      <script>\n",
              "        const buttonEl =\n",
              "          document.querySelector('#df-d6733f93-5b4e-47d7-9199-ccbd45cc8570 button.colab-df-convert');\n",
              "        buttonEl.style.display =\n",
              "          google.colab.kernel.accessAllowed ? 'block' : 'none';\n",
              "\n",
              "        async function convertToInteractive(key) {\n",
              "          const element = document.querySelector('#df-d6733f93-5b4e-47d7-9199-ccbd45cc8570');\n",
              "          const dataTable =\n",
              "            await google.colab.kernel.invokeFunction('convertToInteractive',\n",
              "                                                     [key], {});\n",
              "          if (!dataTable) return;\n",
              "\n",
              "          const docLinkHtml = 'Like what you see? Visit the ' +\n",
              "            '<a target=\"_blank\" href=https://colab.research.google.com/notebooks/data_table.ipynb>data table notebook</a>'\n",
              "            + ' to learn more about interactive tables.';\n",
              "          element.innerHTML = '';\n",
              "          dataTable['output_type'] = 'display_data';\n",
              "          await google.colab.output.renderOutput(dataTable, element);\n",
              "          const docLink = document.createElement('div');\n",
              "          docLink.innerHTML = docLinkHtml;\n",
              "          element.appendChild(docLink);\n",
              "        }\n",
              "      </script>\n",
              "    </div>\n",
              "  </div>\n",
              "  "
            ]
          },
          "metadata": {},
          "execution_count": 6
        }
      ],
      "source": [
        "# Agrupa dados por label\n",
        "trainDF.groupby('label').count()"
      ]
    },
    {
      "cell_type": "code",
      "execution_count": 7,
      "metadata": {
        "id": "aPgAzmA4WwyS",
        "colab": {
          "base_uri": "https://localhost:8080/"
        },
        "outputId": "bae456cf-3691-4cd6-ddba-efd69c87eab9"
      },
      "outputs": [
        {
          "output_type": "execute_result",
          "data": {
            "text/plain": [
              "(21725, 2)"
            ]
          },
          "metadata": {},
          "execution_count": 7
        }
      ],
      "source": [
        "categorias_desejadas = ['hate', 'not_hate'] # !!!\n",
        "df_filtrado = trainDF[trainDF.label.isin(categorias_desejadas)]\n",
        "df_filtrado.shape"
      ]
    },
    {
      "cell_type": "code",
      "source": [
        "df_filtrado"
      ],
      "metadata": {
        "colab": {
          "base_uri": "https://localhost:8080/",
          "height": 424
        },
        "id": "tBQcKJj4ohQ4",
        "outputId": "0fb5ef9c-7081-4979-fabb-896e3b2c601b"
      },
      "execution_count": 8,
      "outputs": [
        {
          "output_type": "execute_result",
          "data": {
            "text/plain": [
              "          label                                               text\n",
              "0      not_hate                           geral foi no jogo do foz\n",
              "1      not_hate               pois é não é gente é isso ai pessoal\n",
              "2      not_hate  ontem eu estava tão mal que escrevi tudo o que...\n",
              "3      not_hate  eu devo ter um coração de pedra não sou de me ...\n",
              "4      not_hate       camimq vivobr pois é estou tentando entender\n",
              "...         ...                                                ...\n",
              "21720      hate   eduguim depois falam que nordestino não sabe ...\n",
              "21721      hate     e dizem por aí que o nordestino não sabe votar\n",
              "21722      hate    ain que nordestino não sabe votar e blá blá blá\n",
              "21723      hate  imagine essa turma da extrema direita soltando...\n",
              "21724      hate  ei seu coiso tomasse o que para ficar com essa...\n",
              "\n",
              "[21725 rows x 2 columns]"
            ],
            "text/html": [
              "\n",
              "  <div id=\"df-98fa71a5-a15b-444e-8264-de943afdf2a6\">\n",
              "    <div class=\"colab-df-container\">\n",
              "      <div>\n",
              "<style scoped>\n",
              "    .dataframe tbody tr th:only-of-type {\n",
              "        vertical-align: middle;\n",
              "    }\n",
              "\n",
              "    .dataframe tbody tr th {\n",
              "        vertical-align: top;\n",
              "    }\n",
              "\n",
              "    .dataframe thead th {\n",
              "        text-align: right;\n",
              "    }\n",
              "</style>\n",
              "<table border=\"1\" class=\"dataframe\">\n",
              "  <thead>\n",
              "    <tr style=\"text-align: right;\">\n",
              "      <th></th>\n",
              "      <th>label</th>\n",
              "      <th>text</th>\n",
              "    </tr>\n",
              "  </thead>\n",
              "  <tbody>\n",
              "    <tr>\n",
              "      <th>0</th>\n",
              "      <td>not_hate</td>\n",
              "      <td>geral foi no jogo do foz</td>\n",
              "    </tr>\n",
              "    <tr>\n",
              "      <th>1</th>\n",
              "      <td>not_hate</td>\n",
              "      <td>pois é não é gente é isso ai pessoal</td>\n",
              "    </tr>\n",
              "    <tr>\n",
              "      <th>2</th>\n",
              "      <td>not_hate</td>\n",
              "      <td>ontem eu estava tão mal que escrevi tudo o que...</td>\n",
              "    </tr>\n",
              "    <tr>\n",
              "      <th>3</th>\n",
              "      <td>not_hate</td>\n",
              "      <td>eu devo ter um coração de pedra não sou de me ...</td>\n",
              "    </tr>\n",
              "    <tr>\n",
              "      <th>4</th>\n",
              "      <td>not_hate</td>\n",
              "      <td>camimq vivobr pois é estou tentando entender</td>\n",
              "    </tr>\n",
              "    <tr>\n",
              "      <th>...</th>\n",
              "      <td>...</td>\n",
              "      <td>...</td>\n",
              "    </tr>\n",
              "    <tr>\n",
              "      <th>21720</th>\n",
              "      <td>hate</td>\n",
              "      <td>eduguim depois falam que nordestino não sabe ...</td>\n",
              "    </tr>\n",
              "    <tr>\n",
              "      <th>21721</th>\n",
              "      <td>hate</td>\n",
              "      <td>e dizem por aí que o nordestino não sabe votar</td>\n",
              "    </tr>\n",
              "    <tr>\n",
              "      <th>21722</th>\n",
              "      <td>hate</td>\n",
              "      <td>ain que nordestino não sabe votar e blá blá blá</td>\n",
              "    </tr>\n",
              "    <tr>\n",
              "      <th>21723</th>\n",
              "      <td>hate</td>\n",
              "      <td>imagine essa turma da extrema direita soltando...</td>\n",
              "    </tr>\n",
              "    <tr>\n",
              "      <th>21724</th>\n",
              "      <td>hate</td>\n",
              "      <td>ei seu coiso tomasse o que para ficar com essa...</td>\n",
              "    </tr>\n",
              "  </tbody>\n",
              "</table>\n",
              "<p>21725 rows × 2 columns</p>\n",
              "</div>\n",
              "      <button class=\"colab-df-convert\" onclick=\"convertToInteractive('df-98fa71a5-a15b-444e-8264-de943afdf2a6')\"\n",
              "              title=\"Convert this dataframe to an interactive table.\"\n",
              "              style=\"display:none;\">\n",
              "        \n",
              "  <svg xmlns=\"http://www.w3.org/2000/svg\" height=\"24px\"viewBox=\"0 0 24 24\"\n",
              "       width=\"24px\">\n",
              "    <path d=\"M0 0h24v24H0V0z\" fill=\"none\"/>\n",
              "    <path d=\"M18.56 5.44l.94 2.06.94-2.06 2.06-.94-2.06-.94-.94-2.06-.94 2.06-2.06.94zm-11 1L8.5 8.5l.94-2.06 2.06-.94-2.06-.94L8.5 2.5l-.94 2.06-2.06.94zm10 10l.94 2.06.94-2.06 2.06-.94-2.06-.94-.94-2.06-.94 2.06-2.06.94z\"/><path d=\"M17.41 7.96l-1.37-1.37c-.4-.4-.92-.59-1.43-.59-.52 0-1.04.2-1.43.59L10.3 9.45l-7.72 7.72c-.78.78-.78 2.05 0 2.83L4 21.41c.39.39.9.59 1.41.59.51 0 1.02-.2 1.41-.59l7.78-7.78 2.81-2.81c.8-.78.8-2.07 0-2.86zM5.41 20L4 18.59l7.72-7.72 1.47 1.35L5.41 20z\"/>\n",
              "  </svg>\n",
              "      </button>\n",
              "      \n",
              "  <style>\n",
              "    .colab-df-container {\n",
              "      display:flex;\n",
              "      flex-wrap:wrap;\n",
              "      gap: 12px;\n",
              "    }\n",
              "\n",
              "    .colab-df-convert {\n",
              "      background-color: #E8F0FE;\n",
              "      border: none;\n",
              "      border-radius: 50%;\n",
              "      cursor: pointer;\n",
              "      display: none;\n",
              "      fill: #1967D2;\n",
              "      height: 32px;\n",
              "      padding: 0 0 0 0;\n",
              "      width: 32px;\n",
              "    }\n",
              "\n",
              "    .colab-df-convert:hover {\n",
              "      background-color: #E2EBFA;\n",
              "      box-shadow: 0px 1px 2px rgba(60, 64, 67, 0.3), 0px 1px 3px 1px rgba(60, 64, 67, 0.15);\n",
              "      fill: #174EA6;\n",
              "    }\n",
              "\n",
              "    [theme=dark] .colab-df-convert {\n",
              "      background-color: #3B4455;\n",
              "      fill: #D2E3FC;\n",
              "    }\n",
              "\n",
              "    [theme=dark] .colab-df-convert:hover {\n",
              "      background-color: #434B5C;\n",
              "      box-shadow: 0px 1px 3px 1px rgba(0, 0, 0, 0.15);\n",
              "      filter: drop-shadow(0px 1px 2px rgba(0, 0, 0, 0.3));\n",
              "      fill: #FFFFFF;\n",
              "    }\n",
              "  </style>\n",
              "\n",
              "      <script>\n",
              "        const buttonEl =\n",
              "          document.querySelector('#df-98fa71a5-a15b-444e-8264-de943afdf2a6 button.colab-df-convert');\n",
              "        buttonEl.style.display =\n",
              "          google.colab.kernel.accessAllowed ? 'block' : 'none';\n",
              "\n",
              "        async function convertToInteractive(key) {\n",
              "          const element = document.querySelector('#df-98fa71a5-a15b-444e-8264-de943afdf2a6');\n",
              "          const dataTable =\n",
              "            await google.colab.kernel.invokeFunction('convertToInteractive',\n",
              "                                                     [key], {});\n",
              "          if (!dataTable) return;\n",
              "\n",
              "          const docLinkHtml = 'Like what you see? Visit the ' +\n",
              "            '<a target=\"_blank\" href=https://colab.research.google.com/notebooks/data_table.ipynb>data table notebook</a>'\n",
              "            + ' to learn more about interactive tables.';\n",
              "          element.innerHTML = '';\n",
              "          dataTable['output_type'] = 'display_data';\n",
              "          await google.colab.output.renderOutput(dataTable, element);\n",
              "          const docLink = document.createElement('div');\n",
              "          docLink.innerHTML = docLinkHtml;\n",
              "          element.appendChild(docLink);\n",
              "        }\n",
              "      </script>\n",
              "    </div>\n",
              "  </div>\n",
              "  "
            ]
          },
          "metadata": {},
          "execution_count": 8
        }
      ]
    },
    {
      "cell_type": "code",
      "execution_count": 9,
      "metadata": {
        "id": "uMzd9gmZYY0Z"
      },
      "outputs": [],
      "source": [
        "def balanceia_dados(df, verbose=0):\n",
        "    # Esta funcao recebe um dataframe original e retorna um dataset\n",
        "    # contendo um numero igual de noticias das categorias\n",
        "    # por simplicidade, vou supor que são somente duas categorias.\n",
        "    global categorias_desejadas\n",
        "    df_balanceado = df.copy()\n",
        "    \n",
        "    # cria um dataframe para cada classe. Assim podemos remover o excesso\n",
        "    df_F = df_balanceado.loc[df_balanceado.label == categorias_desejadas[0]]\n",
        "    df_T = df_balanceado.loc[df_balanceado.label == categorias_desejadas[1]]\n",
        "\n",
        "    num_amostras_F, num_amostras_T = df_F.shape[0], df_T.shape[0]\n",
        "    num_amostras_a_remover = abs(num_amostras_F - num_amostras_T)\n",
        "    \n",
        "    # remove amostras da classe majoritaria\n",
        "    if num_amostras_F > num_amostras_T:\n",
        "        #print(df_F[:num_amostras_a_remover)\n",
        "        df_F = df_F[num_amostras_a_remover:]\n",
        "        \n",
        "    elif num_amostras_T > num_amostras_F:\n",
        "        #\n",
        "        df_T = df_T[num_amostras_a_remover:]\n",
        "\n",
        "    return pd.concat([df_F, df_T])"
      ]
    },
    {
      "cell_type": "code",
      "execution_count": 10,
      "metadata": {
        "id": "k2exHJsoYekL",
        "colab": {
          "base_uri": "https://localhost:8080/"
        },
        "outputId": "35ba85a5-4ba4-435e-868c-0c6399994881"
      },
      "outputs": [
        {
          "output_type": "execute_result",
          "data": {
            "text/plain": [
              "(4886, 2)"
            ]
          },
          "metadata": {},
          "execution_count": 10
        }
      ],
      "source": [
        "# Aplica função de balancear os dados\n",
        "dataBC = balanceia_dados(df_filtrado)\n",
        "\n",
        "# DATA BALANCEADO\n",
        "trainDF = dataBC\n",
        "trainDF.reset_index(drop=True, inplace=True) # reseta index\n",
        "trainDF.shape"
      ]
    },
    {
      "cell_type": "code",
      "source": [
        "# convert output  hate =1 not_hate =0\n",
        "trainDF.label = [1 if each == \"hate\" else 0 for each in trainDF.label] "
      ],
      "metadata": {
        "id": "v7U-59d_Kppj"
      },
      "execution_count": 11,
      "outputs": []
    },
    {
      "cell_type": "code",
      "execution_count": 12,
      "metadata": {
        "id": "1DKJnw1abd79",
        "outputId": "89634b10-c7e4-486f-e259-1ecbebb032f7",
        "colab": {
          "base_uri": "https://localhost:8080/",
          "height": 143
        }
      },
      "outputs": [
        {
          "output_type": "execute_result",
          "data": {
            "text/plain": [
              "       text\n",
              "label      \n",
              "0      2443\n",
              "1      2443"
            ],
            "text/html": [
              "\n",
              "  <div id=\"df-f068ee31-ab14-4b8a-9ef5-7bb3b8accd48\">\n",
              "    <div class=\"colab-df-container\">\n",
              "      <div>\n",
              "<style scoped>\n",
              "    .dataframe tbody tr th:only-of-type {\n",
              "        vertical-align: middle;\n",
              "    }\n",
              "\n",
              "    .dataframe tbody tr th {\n",
              "        vertical-align: top;\n",
              "    }\n",
              "\n",
              "    .dataframe thead th {\n",
              "        text-align: right;\n",
              "    }\n",
              "</style>\n",
              "<table border=\"1\" class=\"dataframe\">\n",
              "  <thead>\n",
              "    <tr style=\"text-align: right;\">\n",
              "      <th></th>\n",
              "      <th>text</th>\n",
              "    </tr>\n",
              "    <tr>\n",
              "      <th>label</th>\n",
              "      <th></th>\n",
              "    </tr>\n",
              "  </thead>\n",
              "  <tbody>\n",
              "    <tr>\n",
              "      <th>0</th>\n",
              "      <td>2443</td>\n",
              "    </tr>\n",
              "    <tr>\n",
              "      <th>1</th>\n",
              "      <td>2443</td>\n",
              "    </tr>\n",
              "  </tbody>\n",
              "</table>\n",
              "</div>\n",
              "      <button class=\"colab-df-convert\" onclick=\"convertToInteractive('df-f068ee31-ab14-4b8a-9ef5-7bb3b8accd48')\"\n",
              "              title=\"Convert this dataframe to an interactive table.\"\n",
              "              style=\"display:none;\">\n",
              "        \n",
              "  <svg xmlns=\"http://www.w3.org/2000/svg\" height=\"24px\"viewBox=\"0 0 24 24\"\n",
              "       width=\"24px\">\n",
              "    <path d=\"M0 0h24v24H0V0z\" fill=\"none\"/>\n",
              "    <path d=\"M18.56 5.44l.94 2.06.94-2.06 2.06-.94-2.06-.94-.94-2.06-.94 2.06-2.06.94zm-11 1L8.5 8.5l.94-2.06 2.06-.94-2.06-.94L8.5 2.5l-.94 2.06-2.06.94zm10 10l.94 2.06.94-2.06 2.06-.94-2.06-.94-.94-2.06-.94 2.06-2.06.94z\"/><path d=\"M17.41 7.96l-1.37-1.37c-.4-.4-.92-.59-1.43-.59-.52 0-1.04.2-1.43.59L10.3 9.45l-7.72 7.72c-.78.78-.78 2.05 0 2.83L4 21.41c.39.39.9.59 1.41.59.51 0 1.02-.2 1.41-.59l7.78-7.78 2.81-2.81c.8-.78.8-2.07 0-2.86zM5.41 20L4 18.59l7.72-7.72 1.47 1.35L5.41 20z\"/>\n",
              "  </svg>\n",
              "      </button>\n",
              "      \n",
              "  <style>\n",
              "    .colab-df-container {\n",
              "      display:flex;\n",
              "      flex-wrap:wrap;\n",
              "      gap: 12px;\n",
              "    }\n",
              "\n",
              "    .colab-df-convert {\n",
              "      background-color: #E8F0FE;\n",
              "      border: none;\n",
              "      border-radius: 50%;\n",
              "      cursor: pointer;\n",
              "      display: none;\n",
              "      fill: #1967D2;\n",
              "      height: 32px;\n",
              "      padding: 0 0 0 0;\n",
              "      width: 32px;\n",
              "    }\n",
              "\n",
              "    .colab-df-convert:hover {\n",
              "      background-color: #E2EBFA;\n",
              "      box-shadow: 0px 1px 2px rgba(60, 64, 67, 0.3), 0px 1px 3px 1px rgba(60, 64, 67, 0.15);\n",
              "      fill: #174EA6;\n",
              "    }\n",
              "\n",
              "    [theme=dark] .colab-df-convert {\n",
              "      background-color: #3B4455;\n",
              "      fill: #D2E3FC;\n",
              "    }\n",
              "\n",
              "    [theme=dark] .colab-df-convert:hover {\n",
              "      background-color: #434B5C;\n",
              "      box-shadow: 0px 1px 3px 1px rgba(0, 0, 0, 0.15);\n",
              "      filter: drop-shadow(0px 1px 2px rgba(0, 0, 0, 0.3));\n",
              "      fill: #FFFFFF;\n",
              "    }\n",
              "  </style>\n",
              "\n",
              "      <script>\n",
              "        const buttonEl =\n",
              "          document.querySelector('#df-f068ee31-ab14-4b8a-9ef5-7bb3b8accd48 button.colab-df-convert');\n",
              "        buttonEl.style.display =\n",
              "          google.colab.kernel.accessAllowed ? 'block' : 'none';\n",
              "\n",
              "        async function convertToInteractive(key) {\n",
              "          const element = document.querySelector('#df-f068ee31-ab14-4b8a-9ef5-7bb3b8accd48');\n",
              "          const dataTable =\n",
              "            await google.colab.kernel.invokeFunction('convertToInteractive',\n",
              "                                                     [key], {});\n",
              "          if (!dataTable) return;\n",
              "\n",
              "          const docLinkHtml = 'Like what you see? Visit the ' +\n",
              "            '<a target=\"_blank\" href=https://colab.research.google.com/notebooks/data_table.ipynb>data table notebook</a>'\n",
              "            + ' to learn more about interactive tables.';\n",
              "          element.innerHTML = '';\n",
              "          dataTable['output_type'] = 'display_data';\n",
              "          await google.colab.output.renderOutput(dataTable, element);\n",
              "          const docLink = document.createElement('div');\n",
              "          docLink.innerHTML = docLinkHtml;\n",
              "          element.appendChild(docLink);\n",
              "        }\n",
              "      </script>\n",
              "    </div>\n",
              "  </div>\n",
              "  "
            ]
          },
          "metadata": {},
          "execution_count": 12
        }
      ],
      "source": [
        "trainDF.groupby('label').count()"
      ]
    },
    {
      "cell_type": "code",
      "source": [
        "# Pega a média de caracteres dos tweets de toda a base\n",
        "average_len = int(trainDF['text'].apply(lambda x: len(str(x))).mean())\n",
        "average_len"
      ],
      "metadata": {
        "colab": {
          "base_uri": "https://localhost:8080/"
        },
        "id": "QN8zzra54iMy",
        "outputId": "febbd50e-48b5-4137-e385-d48b609ac0d4"
      },
      "execution_count": 13,
      "outputs": [
        {
          "output_type": "execute_result",
          "data": {
            "text/plain": [
              "62"
            ]
          },
          "metadata": {},
          "execution_count": 13
        }
      ]
    },
    {
      "cell_type": "code",
      "source": [
        "palavras_unicas = list ( trainDF['text'].str.split(' ', expand=True).stack().unique() ) \n",
        "quantidade_palavras_unicas = len( palavras_unicas )\n",
        "quantidade_palavras_unicas"
      ],
      "metadata": {
        "id": "UhOYgOU8EN6R",
        "outputId": "2c6f28c3-a8c3-40bd-ad82-a9103af52cb3",
        "colab": {
          "base_uri": "https://localhost:8080/"
        }
      },
      "execution_count": 14,
      "outputs": [
        {
          "output_type": "execute_result",
          "data": {
            "text/plain": [
              "9144"
            ]
          },
          "metadata": {},
          "execution_count": 14
        }
      ]
    },
    {
      "cell_type": "markdown",
      "source": [
        "## Filtra Embeddings"
      ],
      "metadata": {
        "id": "q9w7_brIERUn"
      }
    },
    {
      "cell_type": "code",
      "source": [
        "def monta_linha(palavra, coeficientes):\n",
        "    # Monta a linha com palavra _ coeficientes.\n",
        "    \n",
        "    linha = f'{palavra}'\n",
        "    for coef in coeficientes:\n",
        "        linha += f' {coef:.5f}'\n",
        "    linha += '\\n'\n",
        "    \n",
        "    return linha\n",
        "    "
      ],
      "metadata": {
        "id": "oRQJ__8jKzSR"
      },
      "execution_count": 27,
      "outputs": []
    },
    {
      "cell_type": "code",
      "source": [
        "embeddings_index = dict()\n",
        "with open('/content/drive/MyDrive/Colab Notebooks/cbow300Filtratoteste.txt', 'w') as arquivo:\n",
        "  f = open('/content/drive/MyDrive/TCC/dados/word_embeddings/cbow_s300-002.txt', encoding='utf-8')\n",
        "\n",
        "  for line in f:\n",
        "      values = line.split()\n",
        "      palavra = values[0]\n",
        "      if (palavra in palavras_unicas):\n",
        "          coefs = asarray(values[1:], dtype='float32')\n",
        "          string = monta_linha(palavra,coefs)\n",
        "          arquivo.write\n",
        "          (\n",
        "              f\"{string}\\n\"\n",
        "          )\n",
        "         \n",
        "  f.close()\n",
        "  print(embeddings_index)"
      ],
      "metadata": {
        "id": "2IZu07S6EVP_",
        "outputId": "ac1a93fd-a8f6-42a8-e158-0198ea4104be",
        "colab": {
          "base_uri": "https://localhost:8080/"
        }
      },
      "execution_count": 28,
      "outputs": [
        {
          "output_type": "stream",
          "name": "stdout",
          "text": [
            "{}\n"
          ]
        }
      ]
    },
    {
      "cell_type": "markdown",
      "metadata": {
        "id": "TuzhOW-tx5ek"
      },
      "source": [
        "# Word embeddings"
      ]
    },
    {
      "cell_type": "code",
      "source": [
        "# WORD EMBEDDING cbow s50 filtrado\n",
        "PATH_WORD_EMBEDDING_CBOW_50FILTRADO = \"/content/drive/MyDrive/TCC/dados/word_embeddings/cbow_s50_filtrado.txt\""
      ],
      "metadata": {
        "id": "Yq3uDLdzyMpt"
      },
      "execution_count": null,
      "outputs": []
    },
    {
      "cell_type": "code",
      "execution_count": null,
      "metadata": {
        "id": "8J8kwNM_yQM0"
      },
      "outputs": [],
      "source": [
        "from gensim.models import KeyedVectors"
      ]
    },
    {
      "cell_type": "code",
      "execution_count": null,
      "metadata": {
        "id": "4cuyWU6v03mN"
      },
      "outputs": [],
      "source": [
        "model = KeyedVectors.load_word2vec_format(PATH_WORD_EMBEDDING_CBOW_50FILTRADO)"
      ]
    },
    {
      "cell_type": "code",
      "execution_count": null,
      "metadata": {
        "id": "ECPc-3521XPJ"
      },
      "outputs": [],
      "source": [
        "# load the pre-trained word-embedding vectors \n",
        "embeddings_index = {}\n",
        "for i, line in enumerate(open(PATH_WORD_EMBEDDING_CBOW_50FILTRADO)):\n",
        "    values = line.split()\n",
        "    embeddings_index[values[0]] = numpy.asarray(values[1:], dtype='float32')"
      ]
    },
    {
      "cell_type": "code",
      "execution_count": null,
      "metadata": {
        "id": "pqcsKrWZ1iS1"
      },
      "outputs": [],
      "source": [
        "# create a tokenizer \n",
        "token = text.Tokenizer()\n",
        "token.fit_on_texts(trainDF['text'])\n",
        "word_index = token.word_index\n"
      ]
    },
    {
      "cell_type": "code",
      "execution_count": null,
      "metadata": {
        "id": "Rq5oB-liw2yA"
      },
      "outputs": [],
      "source": [
        "tam= len(word_index)\n",
        "tam"
      ]
    },
    {
      "cell_type": "code",
      "source": [
        "# split the dataset into training and validation datasets \n",
        "train_x, valid_x, train_y, valid_y = model_selection.train_test_split(trainDF['text'], trainDF['label'], test_size=0.3, random_state=2)"
      ],
      "metadata": {
        "id": "vhVeu78H0ufi"
      },
      "execution_count": null,
      "outputs": []
    },
    {
      "cell_type": "code",
      "execution_count": null,
      "metadata": {
        "id": "H_QQ9maX1nP5"
      },
      "outputs": [],
      "source": [
        "# convert text to sequence of tokens and pad them to ensure equal length vectors \n",
        "train_seq_x = sequence.pad_sequences(token.texts_to_sequences(train_x)) # tiramos o parâmetro maxlen, então usa o tam do maior tweet\n",
        "valid_seq_x = sequence.pad_sequences(token.texts_to_sequences(valid_x))"
      ]
    },
    {
      "cell_type": "code",
      "execution_count": null,
      "metadata": {
        "id": "VKH3aSKC1qfM"
      },
      "outputs": [],
      "source": [
        "# create token-embedding mapping\n",
        "embedding_matrix = numpy.zeros((len(word_index) + 1, 50))\n",
        "for word, i in word_index.items():\n",
        "    embedding_vector = embeddings_index.get(word)\n",
        "    if embedding_vector is not None:\n",
        "        embedding_matrix[i] = embedding_vector"
      ]
    },
    {
      "cell_type": "markdown",
      "metadata": {
        "id": "iRJ3Z8M3jGRs"
      },
      "source": [
        "# CNN model"
      ]
    },
    {
      "cell_type": "code",
      "source": [
        "from sklearn import metrics\n",
        "from keras import layers, models, optimizers\n",
        "\n",
        "def train_model(classifier, feature_vector_train, label, feature_vector_valid):\n",
        "    # fit the training dataset on the classifier\n",
        "    classifier.compile(loss='binary_crossentropy', optimizer='adam', metrics=['accuracy'])\n",
        "    print(classifier.summary())\n",
        "    classifier.fit(feature_vector_train, label, epochs=3)\n",
        "    return classifier\n",
        "\n",
        "def create_rnn_lstm(embedding_matrix):\n",
        "  \n",
        "  model_input = layers.Input(shape=(50, ),name=\"input\",dtype='int32')\n",
        "  embedding = layers.Embedding(len(word_index) + 1, 50, weights=[embedding_matrix])(model_input)\n",
        "  embedding = layers.SpatialDropout1D(0.3)(embedding)\n",
        "  lstm = layers.LSTM(1000, dropout =0.1, name=\"LSTM\")(embedding)\n",
        "  output = layers.Dense(1, activation='sigmoid',name='sigmoid')(lstm)\n",
        "  model = models.Model(inputs=model_input,outputs=output)\n",
        "  return model\n",
        "\n",
        "classifier = create_rnn_lstm(embedding_matrix)\n",
        "trainedModel = train_model(classifier, train_seq_x, train_y, valid_seq_x)\n",
        "# predict the labels on validation dataset\n",
        "predictions = trainedModel.predict(valid_seq_x)\n",
        "predictions = predictions.round()\n",
        "\n",
        "print(\"RNN-LSTM, Word Embeddings\",  metrics.accuracy_score(valid_y,predictions))\n",
        "print(predictions)"
      ],
      "metadata": {
        "id": "hyJNDeOp5II9"
      },
      "execution_count": null,
      "outputs": []
    },
    {
      "cell_type": "code",
      "source": [
        "def train_model(classifier, feature_vector_train, label, feature_vector_valid, is_neural_net=False):\n",
        "    # fit the training dataset on the classifier\n",
        "    classifier.fit(feature_vector_train, label, epochs=10) #adicionamos epoca\n",
        "    \n",
        "    # predict the labels on validation dataset\n",
        "    predictions = classifier.predict(feature_vector_valid)\n",
        "    \n",
        "    if is_neural_net:\n",
        "        predictions = predictions.argmax(axis=-1)\n",
        "    \n",
        "    return metrics.accuracy_score(predictions, valid_y)"
      ],
      "metadata": {
        "id": "oinV3GGN22R-"
      },
      "execution_count": null,
      "outputs": []
    },
    {
      "cell_type": "code",
      "execution_count": null,
      "metadata": {
        "id": "AHk31johw4MA"
      },
      "outputs": [],
      "source": [
        "def create_cnn():\n",
        "    # Add an Input Layer\n",
        "    input_layer = layers.Input((24, ))\n",
        "\n",
        "    # Add the word embedding Layer\n",
        "    embedding_layer = layers.Embedding(len(word_index) + 1, 50, weights=[embedding_matrix], trainable=True)(input_layer)\n",
        "    embedding_layer = layers.SpatialDropout1D(0.3)(embedding_layer)\n",
        "\n",
        "    # Add the convolutional Layer\n",
        "    conv_layer = layers.Convolution1D(100, 3, activation=\"relu\")(embedding_layer)\n",
        "\n",
        "    # Add the pooling Layer\n",
        "    pooling_layer = layers.GlobalMaxPool1D()(conv_layer)\n",
        "\n",
        "    # Add the output Layers\n",
        "    output_layer1 = layers.Dense(64, activation=\"relu\")(pooling_layer)\n",
        "    output_layer1 = layers.Dropout(0.25)(output_layer1)\n",
        "    output_layer2 = layers.Dense(1, activation=\"sigmoid\")(output_layer1)\n",
        "\n",
        "    # Compile the model\n",
        "    #sgd = optimizers.SGD(lr=0.01, decay=1e-6, momentum=0.9, nesterov=True)\n",
        "    model = models.Model(inputs=input_layer, outputs=output_layer2)\n",
        "    model.compile(optimizer='sgd', loss='mean_squared_error', metrics = ['acc', 'mae'])\n",
        "  \n",
        "    return model"
      ]
    },
    {
      "cell_type": "code",
      "execution_count": null,
      "metadata": {
        "id": "20ODtGE3xw3H"
      },
      "outputs": [],
      "source": [
        "classifier = create_cnn()\n",
        "accuracyCNN = train_model(classifier,train_seq_x, train_y, valid_seq_x, is_neural_net=True)\n",
        "print (\"CNN, Word Embeddings - accuracy\",  accuracyCNN)"
      ]
    },
    {
      "cell_type": "code",
      "source": [
        ""
      ],
      "metadata": {
        "id": "J3kblMcj4VCV"
      },
      "execution_count": null,
      "outputs": []
    }
  ]
}