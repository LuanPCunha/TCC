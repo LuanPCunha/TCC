{
  "nbformat": 4,
  "nbformat_minor": 0,
  "metadata": {
    "colab": {
      "name": " Treinamento_CNN.ipynb",
      "provenance": [],
      "include_colab_link": true
    },
    "kernelspec": {
      "name": "python3",
      "display_name": "Python 3"
    },
    "language_info": {
      "name": "python"
    },
    "accelerator": "GPU"
  },
  "cells": [
    {
      "cell_type": "markdown",
      "metadata": {
        "id": "view-in-github",
        "colab_type": "text"
      },
      "source": [
        "<a href=\"https://colab.research.google.com/github/LuanPCunha/TCC/blob/main/Treinamento_CNN.ipynb\" target=\"_parent\"><img src=\"https://colab.research.google.com/assets/colab-badge.svg\" alt=\"Open In Colab\"/></a>"
      ]
    },
    {
      "cell_type": "markdown",
      "source": [
        "# Downloads e imports"
      ],
      "metadata": {
        "id": "EvS_6l_yMUeH"
      }
    },
    {
      "cell_type": "code",
      "source": [
        "# !pip install tensorflow\n",
        "# !pip install keras"
      ],
      "metadata": {
        "id": "N5Vhr4_vECld"
      },
      "execution_count": 77,
      "outputs": []
    },
    {
      "cell_type": "code",
      "source": [
        "from google.colab import drive\n",
        "drive.mount('/content/drive')"
      ],
      "metadata": {
        "colab": {
          "base_uri": "https://localhost:8080/"
        },
        "id": "ptoQwAGEDQnl",
        "outputId": "648379ca-76eb-47eb-a430-7e6409df46fc"
      },
      "execution_count": 78,
      "outputs": [
        {
          "output_type": "stream",
          "name": "stdout",
          "text": [
            "Drive already mounted at /content/drive; to attempt to forcibly remount, call drive.mount(\"/content/drive\", force_remount=True).\n"
          ]
        }
      ]
    },
    {
      "cell_type": "code",
      "source": [
        "import json\n",
        "import sklearn\n",
        "import numpy as np\n",
        "import pandas as pd\n",
        "from numpy import loadtxt\n",
        "import matplotlib.pyplot as plt\n",
        "from sklearn.model_selection import train_test_split\n",
        "\n",
        "import tensorflow as tf\n",
        "from tensorflow import keras\n",
        "from keras import optimizers\n",
        "from keras import layers\n",
        "from keras.layers import Dropout, Conv1D, MaxPooling1D, Flatten, Dense, SpatialDropout1D, BatchNormalization\n",
        "from keras.preprocessing.text import Tokenizer\n",
        "from keras.preprocessing.sequence import pad_sequences\n",
        "from tensorflow.keras.optimizers import schedules, Adam, Adadelta, SGD, RMSprop, Adagrad, Adamax, Nadam, Ftrl # Estamos usando só o Nadam\n",
        "from keras.models import Sequential\n",
        "from keras.layers.embeddings import Embedding\n",
        "\n",
        "from mlxtend.plotting import plot_confusion_matrix\n",
        "from keras.callbacks import Callback, ModelCheckpoint, CSVLogger\n",
        "from sklearn.metrics import roc_auc_score, roc_curve, confusion_matrix"
      ],
      "metadata": {
        "id": "OeOYrHW9Bxs_"
      },
      "execution_count": 79,
      "outputs": []
    },
    {
      "cell_type": "code",
      "source": [
        "def tokenize(tweets_list):\n",
        "    tokenizer = Tokenizer()\n",
        "    tokenizer.fit_on_texts(tweets_list)\n",
        "    return tokenizer.texts_to_sequences(tweets_list), tokenizer"
      ],
      "metadata": {
        "id": "db4KNc_2Ixyu"
      },
      "execution_count": 80,
      "outputs": []
    },
    {
      "cell_type": "code",
      "source": [
        "def pad(text_tokenized, length=None):\n",
        "    return pad_sequences(text_tokenized, maxlen=length, padding='post')"
      ],
      "metadata": {
        "id": "pwcjgZd9I6AD"
      },
      "execution_count": 81,
      "outputs": []
    },
    {
      "cell_type": "code",
      "source": [
        "def preprocess(tweets_list, max_text_length):\n",
        "   \n",
        "    preprocess_tweets_list, tweets_list_tokenizer = tokenize(tweets_list)\n",
        "\n",
        "    preprocess_tweets_list = pad(preprocess_tweets_list, length=max_text_length)\n",
        "\n",
        "    return preprocess_tweets_list, tweets_list_tokenizer"
      ],
      "metadata": {
        "id": "fNMyJgcsI8AU"
      },
      "execution_count": 82,
      "outputs": []
    },
    {
      "cell_type": "code",
      "source": [
        "def logits_to_text(logits, tokenizer):\n",
        "    index_to_words = {id: word for word, id in tokenizer.word_index.items()}\n",
        "    index_to_words[0] = '<PAD>'\n",
        "\n",
        "    return ' '.join([index_to_words[prediction] for prediction in np.argmax(logits, 1)])"
      ],
      "metadata": {
        "id": "pX78imOBI9l8"
      },
      "execution_count": 83,
      "outputs": []
    },
    {
      "cell_type": "code",
      "source": [
        "class RocAucEvaluation(Callback):\n",
        "    def __init__(self, validation_data=(), interval=1):\n",
        "        super(Callback, self).__init__()\n",
        "\n",
        "        self.interval = interval\n",
        "        self.X_val, self.y_val = validation_data\n",
        "\n",
        "    def on_epoch_end(self, epoch, logs={}):\n",
        "        if epoch % self.interval == 0:\n",
        "            y_pred = self.model.predict(self.X_val, verbose=0)\n",
        "            self.score = roc_auc_score(self.y_val, y_pred)\n",
        "            self.false_positive_rate, self.true_positive_rate, _ = roc_curve(self.y_val, y_pred)\n",
        "            print(\"\\n ROC-AUC - epoch: {:d} - score: {:.6f}\".format(epoch+1, self.score))             "
      ],
      "metadata": {
        "id": "DLBaKxGhrbRU"
      },
      "execution_count": 84,
      "outputs": []
    },
    {
      "cell_type": "markdown",
      "source": [
        "# Carrega arquivo de saída (resultados)"
      ],
      "metadata": {
        "id": "rbA3XJK6kIrM"
      }
    },
    {
      "cell_type": "code",
      "source": [
        "# CONSTANTES DOS RESULTADOS\n",
        "\n",
        "REDE_CNN = 'CNN'\n",
        "REDE_LSTM = 'LSTM'\n",
        "REDE_BILSTM = 'Bi-LSTM'\n",
        "\n",
        "BASE_1 = 'BASE 1'\n",
        "BASE_2 = 'BASE 2'\n",
        "\n",
        "FUNCAO_ATV_SIGMOID = 'SIGMOID'\n",
        "FUNCAO_ATV_SOFTMAX = 'SOFTMAX'\n",
        "FUNCAO_ATV_RELU = 'RELU'\n",
        "\n",
        "OTIMIZADOR_1 = '1'\n",
        "OTIMIZADOR_2 = '2'\n",
        "OTIMIZADOR_3 = '3'\n",
        "OTIMIZADOR_4 = '4'\n",
        "\n",
        "# Caminho arquivo de saída\n",
        "PATH_ARQ_SAIDA = \"/content/drive/MyDrive/TCC/resultados/resultados.csv\"\n",
        "\n",
        "resultados = pd.read_csv(PATH_ARQ_SAIDA, index_col=0)\n",
        "resultados.head()"
      ],
      "metadata": {
        "id": "wvPJKDAQnAUQ",
        "outputId": "1aa89f1f-e4ae-47f0-b688-a03d99166fb5",
        "colab": {
          "base_uri": "https://localhost:8080/",
          "height": 49
        }
      },
      "execution_count": 85,
      "outputs": [
        {
          "output_type": "execute_result",
          "data": {
            "text/plain": [
              "Empty DataFrame\n",
              "Columns: [rede, base, funcao_ativacao, otimizador, acuracia, roc_curve, train_resume, confusion_matrix]\n",
              "Index: []"
            ],
            "text/html": [
              "\n",
              "  <div id=\"df-ef4e1d96-05ed-4cc7-b7ab-2791415b4b6c\">\n",
              "    <div class=\"colab-df-container\">\n",
              "      <div>\n",
              "<style scoped>\n",
              "    .dataframe tbody tr th:only-of-type {\n",
              "        vertical-align: middle;\n",
              "    }\n",
              "\n",
              "    .dataframe tbody tr th {\n",
              "        vertical-align: top;\n",
              "    }\n",
              "\n",
              "    .dataframe thead th {\n",
              "        text-align: right;\n",
              "    }\n",
              "</style>\n",
              "<table border=\"1\" class=\"dataframe\">\n",
              "  <thead>\n",
              "    <tr style=\"text-align: right;\">\n",
              "      <th></th>\n",
              "      <th>rede</th>\n",
              "      <th>base</th>\n",
              "      <th>funcao_ativacao</th>\n",
              "      <th>otimizador</th>\n",
              "      <th>acuracia</th>\n",
              "      <th>roc_curve</th>\n",
              "      <th>train_resume</th>\n",
              "      <th>confusion_matrix</th>\n",
              "    </tr>\n",
              "  </thead>\n",
              "  <tbody>\n",
              "  </tbody>\n",
              "</table>\n",
              "</div>\n",
              "      <button class=\"colab-df-convert\" onclick=\"convertToInteractive('df-ef4e1d96-05ed-4cc7-b7ab-2791415b4b6c')\"\n",
              "              title=\"Convert this dataframe to an interactive table.\"\n",
              "              style=\"display:none;\">\n",
              "        \n",
              "  <svg xmlns=\"http://www.w3.org/2000/svg\" height=\"24px\"viewBox=\"0 0 24 24\"\n",
              "       width=\"24px\">\n",
              "    <path d=\"M0 0h24v24H0V0z\" fill=\"none\"/>\n",
              "    <path d=\"M18.56 5.44l.94 2.06.94-2.06 2.06-.94-2.06-.94-.94-2.06-.94 2.06-2.06.94zm-11 1L8.5 8.5l.94-2.06 2.06-.94-2.06-.94L8.5 2.5l-.94 2.06-2.06.94zm10 10l.94 2.06.94-2.06 2.06-.94-2.06-.94-.94-2.06-.94 2.06-2.06.94z\"/><path d=\"M17.41 7.96l-1.37-1.37c-.4-.4-.92-.59-1.43-.59-.52 0-1.04.2-1.43.59L10.3 9.45l-7.72 7.72c-.78.78-.78 2.05 0 2.83L4 21.41c.39.39.9.59 1.41.59.51 0 1.02-.2 1.41-.59l7.78-7.78 2.81-2.81c.8-.78.8-2.07 0-2.86zM5.41 20L4 18.59l7.72-7.72 1.47 1.35L5.41 20z\"/>\n",
              "  </svg>\n",
              "      </button>\n",
              "      \n",
              "  <style>\n",
              "    .colab-df-container {\n",
              "      display:flex;\n",
              "      flex-wrap:wrap;\n",
              "      gap: 12px;\n",
              "    }\n",
              "\n",
              "    .colab-df-convert {\n",
              "      background-color: #E8F0FE;\n",
              "      border: none;\n",
              "      border-radius: 50%;\n",
              "      cursor: pointer;\n",
              "      display: none;\n",
              "      fill: #1967D2;\n",
              "      height: 32px;\n",
              "      padding: 0 0 0 0;\n",
              "      width: 32px;\n",
              "    }\n",
              "\n",
              "    .colab-df-convert:hover {\n",
              "      background-color: #E2EBFA;\n",
              "      box-shadow: 0px 1px 2px rgba(60, 64, 67, 0.3), 0px 1px 3px 1px rgba(60, 64, 67, 0.15);\n",
              "      fill: #174EA6;\n",
              "    }\n",
              "\n",
              "    [theme=dark] .colab-df-convert {\n",
              "      background-color: #3B4455;\n",
              "      fill: #D2E3FC;\n",
              "    }\n",
              "\n",
              "    [theme=dark] .colab-df-convert:hover {\n",
              "      background-color: #434B5C;\n",
              "      box-shadow: 0px 1px 3px 1px rgba(0, 0, 0, 0.15);\n",
              "      filter: drop-shadow(0px 1px 2px rgba(0, 0, 0, 0.3));\n",
              "      fill: #FFFFFF;\n",
              "    }\n",
              "  </style>\n",
              "\n",
              "      <script>\n",
              "        const buttonEl =\n",
              "          document.querySelector('#df-ef4e1d96-05ed-4cc7-b7ab-2791415b4b6c button.colab-df-convert');\n",
              "        buttonEl.style.display =\n",
              "          google.colab.kernel.accessAllowed ? 'block' : 'none';\n",
              "\n",
              "        async function convertToInteractive(key) {\n",
              "          const element = document.querySelector('#df-ef4e1d96-05ed-4cc7-b7ab-2791415b4b6c');\n",
              "          const dataTable =\n",
              "            await google.colab.kernel.invokeFunction('convertToInteractive',\n",
              "                                                     [key], {});\n",
              "          if (!dataTable) return;\n",
              "\n",
              "          const docLinkHtml = 'Like what you see? Visit the ' +\n",
              "            '<a target=\"_blank\" href=https://colab.research.google.com/notebooks/data_table.ipynb>data table notebook</a>'\n",
              "            + ' to learn more about interactive tables.';\n",
              "          element.innerHTML = '';\n",
              "          dataTable['output_type'] = 'display_data';\n",
              "          await google.colab.output.renderOutput(dataTable, element);\n",
              "          const docLink = document.createElement('div');\n",
              "          docLink.innerHTML = docLinkHtml;\n",
              "          element.appendChild(docLink);\n",
              "        }\n",
              "      </script>\n",
              "    </div>\n",
              "  </div>\n",
              "  "
            ]
          },
          "metadata": {},
          "execution_count": 85
        }
      ]
    },
    {
      "cell_type": "markdown",
      "source": [
        "# Carrega base"
      ],
      "metadata": {
        "id": "kMO-knebMcYH"
      }
    },
    {
      "cell_type": "code",
      "source": [
        "# Base1 Com StopWords\n",
        "PATH_BASE1_JUNTO_COM_DA_LEILA_BALANCEADA = \"/content/drive/MyDrive/TCC/dados/processadas/balanceadas/Base1JuntaHateENotHateDaLeila_balanceada.csv\"\n",
        "#MATRIZ_CBOW_300_BASE_1 = loadtxt(\"/content/drive/MyDrive/TCC/dados/word_embeddings/Matriz_Base1JuntaHateENotHateDaLeila_balanceada_CBOW300.CSV\", delimiter=',')\n",
        "\n",
        "# Base2 Sem StopWords\n",
        "PATH_BASE2_LEILA_LIMPISSIMA_BALANCEADA = \"/content/drive/MyDrive/TCC/dados/processadas/balanceadas/Base2_maior4_menor25_limpissima_balanceada.csv\"\n",
        "#MATRIZ_CBOW_300_BASE_2_LEILA = loadtxt(\"/content/drive/MyDrive/TCC/dados/word_embeddings/Matriz_Base2_maior4_menor25_limpissima_balanceada_CBOW300.CSV\", delimiter=',')\n",
        "\n",
        "PATH_BASE_1_CLASSIFICADA_BALANCEADA = r\"/content/drive/MyDrive/TCC/dados/processadas/balanceadas/Base1_classificada_balanceada.csv\" #entrada\n",
        "\n",
        "PATH_BASE_2_CLASSIFICADA_BALANCEADA = r\"/content/drive/MyDrive/TCC/dados/processadas/balanceadas/Base2_classificada_balanceada.csv\" #entrada\n",
        "MATRIZ_CBOW_300_BASE_2 = loadtxt(\"/content/drive/MyDrive/TCC/dados/word_embeddings/Matriz_Base2_classificada_balanceada_CBOW300.csv\", delimiter=',') #saida"
      ],
      "metadata": {
        "id": "xf_v4U5DDfU8"
      },
      "execution_count": 86,
      "outputs": []
    },
    {
      "cell_type": "markdown",
      "source": [
        "# Execução modelo"
      ],
      "metadata": {
        "id": "W9pdFxE7Ml6H"
      }
    },
    {
      "cell_type": "code",
      "source": [
        "tweets = pd.read_csv(PATH_BASE_2_CLASSIFICADA_BALANCEADA, index_col=0)\n",
        "text_column = tweets['text']\n",
        "text_column"
      ],
      "metadata": {
        "id": "7wJXwK7jCkyx",
        "outputId": "9ccde70f-778f-4117-ec2b-2756284ac585",
        "colab": {
          "base_uri": "https://localhost:8080/"
        }
      },
      "execution_count": 87,
      "outputs": [
        {
          "output_type": "execute_result",
          "data": {
            "text/plain": [
              "0        retwet bahia fazer sendo governada pt sei baia...\n",
              "1        k imagine atitude mental negativa f idiota fec...\n",
              "2        general heleno é bolsonaro rosna late late lat...\n",
              "3        alan ser cara pau achar havendo ruptura nesse ...\n",
              "4        canalhascomunistas caçarão chapa presidencialn...\n",
              "                               ...                        \n",
              "10569               af hein amiga mandar outro número mail\n",
              "10570    egoísmo é grande parte produto sociedade émile...\n",
              "10571    abençoado novo linda querida obrigada carinho ...\n",
              "10572                              leva gente amorzinhos d\n",
              "10573                                   k k ata meia sonsa\n",
              "Name: text, Length: 10574, dtype: object"
            ]
          },
          "metadata": {},
          "execution_count": 87
        }
      ]
    },
    {
      "cell_type": "code",
      "source": [
        "# Pega a média de caracteres dos tweets de toda a base\n",
        "max_text_length = int(text_column.apply(lambda x: len(str(x).split(' '))).max())\n",
        "max_text_length"
      ],
      "metadata": {
        "id": "ud3ADezRSHtI",
        "outputId": "ed34532e-1eaa-4262-e6ce-7208ce5f68f6",
        "colab": {
          "base_uri": "https://localhost:8080/"
        }
      },
      "execution_count": 88,
      "outputs": [
        {
          "output_type": "execute_result",
          "data": {
            "text/plain": [
              "55"
            ]
          },
          "metadata": {},
          "execution_count": 88
        }
      ]
    },
    {
      "cell_type": "code",
      "execution_count": 89,
      "metadata": {
        "colab": {
          "base_uri": "https://localhost:8080/"
        },
        "id": "UxNdO2PW2E5a",
        "outputId": "0849375a-8fe0-494e-be39-45c8ea930603"
      },
      "outputs": [
        {
          "output_type": "stream",
          "name": "stdout",
          "text": [
            "Vocabulary size: 19043\n"
          ]
        }
      ],
      "source": [
        "output_label = tweets['label']\n",
        "input_data, text_tokenizer = preprocess(text_column, None)\n",
        "    \n",
        "text_vocab_size = len(text_tokenizer.word_index)\n",
        "print(\"Vocabulary size:\", text_vocab_size)"
      ]
    },
    {
      "cell_type": "code",
      "source": [
        "# parametros:\n",
        "BATCH_SIZE = 64\n",
        "EPOCHS = 10\n",
        "VAL_AND_TST_SIZE = 0.2\n",
        "LEARN_RATE = 0.0001\n",
        "# ******\n",
        "BETA_1 = 0.09\n",
        "BETA_2 = 0.0999\n",
        "EPSILON = 1e-07\n",
        "# *****\n",
        "EMBEDDING_DIMENSION = 300  \n",
        "MAX_TEXT_SIZE = max_text_length \n",
        "VOCAB_SIZE = text_vocab_size"
      ],
      "metadata": {
        "id": "yBGbbGdfL7ps"
      },
      "execution_count": 90,
      "outputs": []
    },
    {
      "cell_type": "code",
      "source": [
        "def optimize (learning_rate, beta_1, beta_2, epsilon):\n",
        "  \n",
        "  # return Nadam(learning_rate=learning_rate, beta_1=beta_1, beta_2=beta_2, epsilon=epsilon, name=\"Nadam\")\n",
        "  return RMSprop(learning_rate=learning_rate,rho=0.9,momentum=0.0,epsilon=epsilon,centered=True,name=\"RMSprop\")"
      ],
      "metadata": {
        "id": "bPL3sYgZ1h7j"
      },
      "execution_count": 91,
      "outputs": []
    },
    {
      "cell_type": "code",
      "source": [
        "# #optimizer = Adadelta(learning_rate=0.001, rho=0.95, epsilon=1e-07, name=\"Adadelta\") \n",
        "# #optimizer = SGD(learning_rate=0.01, momentum=0.0, nesterov=True, name=\"SGD\")\n",
        "# #optimizer = RMSprop(learning_rate=0.001,rho=0.9,momentum=0.0,epsilon=1e-07,centered=True,name=\"RMSprop\")\n",
        "# #optimizer = Adam(learning_rate=0.001, beta_1=0.9, beta_2=0.999, epsilon=1e-07, amsgrad=True, name=\"Adam\")\n",
        "# #optimizer = Adagrad(learning_rate=0.001, initial_accumulator_value=0.1, epsilon=1e-07, name=\"Adagrad\")\n",
        "# #optimizer = Adamax(learning_rate=0.001, beta_1=0.9, beta_2=0.999, epsilon=1e-07, name=\"Adamax\")\n",
        "# #optimizer = Nadam(learning_rate=0.001, beta_1=0.9, beta_2=0.999, epsilon=1e-07, name=\"Nadam\") # 96% Embedding Treinado /\n",
        "# #optimizer = Ftrl(learning_rate=0.001, learning_rate_power=-0.5, initial_accumulator_value=0.1, l1_regularization_strength=0.1, l2_regularization_strength=0.1, l2_shrinkage_regularization_strength=0.001, beta=0.0001, name=\"Ftrl\")"
      ],
      "metadata": {
        "id": "1x4MvEYPdC7q"
      },
      "execution_count": 92,
      "outputs": []
    },
    {
      "cell_type": "code",
      "source": [
        "def create_cnn (vocab_size, embedding_dimen, max_text_size ):\n",
        "\n",
        "  modelo = keras.Sequential([\n",
        "    keras.layers.Embedding(VOCAB_SIZE, EMBEDDING_DIMENSION, input_length=max_text_size),\n",
        "    # keras.layers.Embedding(input_dim=MATRIZ_CBOW_300_BASE_2.shape[0],\n",
        "                            # output_dim=MATRIZ_CBOW_300_BASE_2.shape[1],\n",
        "                            # weights=[MATRIZ_CBOW_300_BASE_2],\n",
        "                            # embeddings_initializer=keras.initializers.Constant(MATRIZ_CBOW_300_BASE_2),\n",
        "                            # input_length=max_text_size,\n",
        "                            # trainable=True),                         \n",
        "    keras.layers.Conv1D(10,3, activation=\"relu\"),\n",
        "    keras.layers.Flatten(input_shape=(max_text_size,)),\n",
        "    keras.layers.Dense(max_text_size, activation='relu'),\n",
        "    keras.layers.Dropout(0.1),\n",
        "    keras.layers.Dense(1, activation='sigmoid')\n",
        "    ])\n",
        "  \n",
        "  return modelo \n",
        "  "
      ],
      "metadata": {
        "id": "wKH2mHM5r8_6"
      },
      "execution_count": 93,
      "outputs": []
    },
    {
      "cell_type": "code",
      "source": [
        "def train_model(input_data, output_label, embedding_dimen, batch_size, epochs, validation_and_test_size):\n",
        "    \n",
        "    x_train, x_test, y_train, y_test = train_test_split(input_data, output_label, test_size=validation_and_test_size, random_state=42)\n",
        "\n",
        "    optimizer = optimize(LEARN_RATE, BETA_1, BETA_2, EPSILON)\n",
        "    \n",
        "    model = create_cnn(VOCAB_SIZE, EMBEDDING_DIMENSION, MAX_TEXT_SIZE)\n",
        "    model.summary()\n",
        "    model.compile(loss=tf.keras.losses.BinaryCrossentropy(), optimizer=optimizer, metrics=['accuracy'])        \n",
        "    \n",
        "    ra_val = RocAucEvaluation(validation_data=(x_test, y_test), interval = 1)\n",
        "    csv_logger = CSVLogger('log.csv', append=False, separator=';')                                                                                       \n",
        "    \n",
        "    history = model.fit(x_train, y_train, batch_size=batch_size, epochs=epochs, validation_split = validation_and_test_size, verbose=2, use_multiprocessing=True,  callbacks = [ra_val, csv_logger])\n",
        "    scores = model.evaluate(x_test, y_test, verbose=1)\n",
        "    \n",
        "    return history, model, x_test, y_test, ra_val, scores, csv_logger\n"
      ],
      "metadata": {
        "id": "wYnrq-34uZX5"
      },
      "execution_count": 94,
      "outputs": []
    },
    {
      "cell_type": "code",
      "source": [
        "# plot dos gráficos\n",
        "history, model1, x_test, y_test, ra_val, scores, csv_logger = train_model(input_data, output_label, EMBEDDING_DIMENSION, BATCH_SIZE, EPOCHS, VAL_AND_TST_SIZE)"
      ],
      "metadata": {
        "id": "9YLL1kZTDzUG",
        "outputId": "ff4e4f56-9c74-4355-d429-1432db846e74",
        "colab": {
          "base_uri": "https://localhost:8080/"
        }
      },
      "execution_count": 95,
      "outputs": [
        {
          "output_type": "stream",
          "name": "stdout",
          "text": [
            "Model: \"sequential_3\"\n",
            "_________________________________________________________________\n",
            " Layer (type)                Output Shape              Param #   \n",
            "=================================================================\n",
            " embedding_3 (Embedding)     (None, 55, 300)           5712900   \n",
            "                                                                 \n",
            " conv1d_3 (Conv1D)           (None, 53, 10)            9010      \n",
            "                                                                 \n",
            " flatten_3 (Flatten)         (None, 530)               0         \n",
            "                                                                 \n",
            " dense_6 (Dense)             (None, 55)                29205     \n",
            "                                                                 \n",
            " dropout_3 (Dropout)         (None, 55)                0         \n",
            "                                                                 \n",
            " dense_7 (Dense)             (None, 1)                 56        \n",
            "                                                                 \n",
            "=================================================================\n",
            "Total params: 5,751,171\n",
            "Trainable params: 5,751,171\n",
            "Non-trainable params: 0\n",
            "_________________________________________________________________\n",
            "Epoch 1/10\n",
            "\n",
            " ROC-AUC - epoch: 1 - score: 0.662297\n",
            "106/106 - 2s - loss: 0.6780 - accuracy: 0.5921 - val_loss: 0.6657 - val_accuracy: 0.6099 - 2s/epoch - 16ms/step\n",
            "Epoch 2/10\n",
            "\n",
            " ROC-AUC - epoch: 2 - score: 0.680021\n",
            "106/106 - 1s - loss: 0.6527 - accuracy: 0.6167 - val_loss: 0.6508 - val_accuracy: 0.6241 - 713ms/epoch - 7ms/step\n",
            "Epoch 3/10\n",
            "\n",
            " ROC-AUC - epoch: 3 - score: 0.720004\n",
            "106/106 - 1s - loss: 0.6298 - accuracy: 0.6445 - val_loss: 0.6275 - val_accuracy: 0.6472 - 736ms/epoch - 7ms/step\n",
            "Epoch 4/10\n",
            "\n",
            " ROC-AUC - epoch: 4 - score: 0.805611\n",
            "106/106 - 1s - loss: 0.5769 - accuracy: 0.7018 - val_loss: 0.5694 - val_accuracy: 0.7128 - 726ms/epoch - 7ms/step\n",
            "Epoch 5/10\n",
            "\n",
            " ROC-AUC - epoch: 5 - score: 0.896750\n",
            "106/106 - 1s - loss: 0.4757 - accuracy: 0.8104 - val_loss: 0.4740 - val_accuracy: 0.7949 - 722ms/epoch - 7ms/step\n",
            "Epoch 6/10\n",
            "\n",
            " ROC-AUC - epoch: 6 - score: 0.937779\n",
            "106/106 - 1s - loss: 0.3470 - accuracy: 0.8995 - val_loss: 0.3845 - val_accuracy: 0.8487 - 685ms/epoch - 6ms/step\n",
            "Epoch 7/10\n",
            "\n",
            " ROC-AUC - epoch: 7 - score: 0.952794\n",
            "106/106 - 1s - loss: 0.2377 - accuracy: 0.9316 - val_loss: 0.3206 - val_accuracy: 0.8676 - 720ms/epoch - 7ms/step\n",
            "Epoch 8/10\n",
            "\n",
            " ROC-AUC - epoch: 8 - score: 0.961964\n",
            "106/106 - 1s - loss: 0.1669 - accuracy: 0.9509 - val_loss: 0.2837 - val_accuracy: 0.8830 - 730ms/epoch - 7ms/step\n",
            "Epoch 9/10\n",
            "\n",
            " ROC-AUC - epoch: 9 - score: 0.967627\n",
            "106/106 - 1s - loss: 0.1195 - accuracy: 0.9660 - val_loss: 0.2597 - val_accuracy: 0.8954 - 670ms/epoch - 6ms/step\n",
            "Epoch 10/10\n",
            "\n",
            " ROC-AUC - epoch: 10 - score: 0.971185\n",
            "106/106 - 1s - loss: 0.0882 - accuracy: 0.9740 - val_loss: 0.2492 - val_accuracy: 0.8948 - 720ms/epoch - 7ms/step\n",
            "67/67 [==============================] - 0s 3ms/step - loss: 0.2240 - accuracy: 0.9125\n"
          ]
        }
      ]
    },
    {
      "cell_type": "code",
      "source": [
        "y_prob = model1.predict(x_test) \n",
        "\n",
        "y_labelpred = y_prob.round()\n",
        "\n",
        "y_labeltrue=y_test"
      ],
      "metadata": {
        "id": "FR-idj87D4-N"
      },
      "execution_count": 96,
      "outputs": []
    },
    {
      "cell_type": "code",
      "source": [
        "# Parâmetros\n",
        "NOME_REDE = REDE_CNN\n",
        "NOME_BASE = BASE_2\n",
        "NOME_FUNCAO = FUNCAO_ATV_SIGMOID\n",
        "NOME_OTIMIZADOR = OTIMIZADOR_1\n",
        "\n",
        "train_resume = json.dumps(pd.read_csv('log.csv',sep=';').to_dict()) \n",
        "\n",
        "roc_curve =  json.dumps({\n",
        "    \"false_positive_rate\": list(ra_val.false_positive_rate),\n",
        "    \"true_positive_rate\": list(ra_val.true_positive_rate),\n",
        "    \"score\": ra_val.score\n",
        "})\n",
        "\n",
        "confusion = confusion_matrix(y_labeltrue,y_labelpred)\n",
        "\n",
        "# Salvando resultado do modelo\n",
        "registro_resultado = {resultados.columns[0]: NOME_REDE, \n",
        "                      resultados.columns[1]: NOME_BASE, \n",
        "                      resultados.columns[2]: NOME_FUNCAO, \n",
        "                      resultados.columns[3]: NOME_OTIMIZADOR, \n",
        "                      resultados.columns[4]: scores[1],\n",
        "                      resultados.columns[5]: roc_curve,\n",
        "                      resultados.columns[6]: train_resume,\n",
        "                      resultados.columns[7]: confusion}\n",
        "\n",
        "resultados = resultados.append(registro_resultado, ignore_index=True)\n",
        "resultados"
      ],
      "metadata": {
        "id": "wjgeZV9tsZVy",
        "outputId": "64055382-444a-4c4d-a6bb-08944de818ec",
        "colab": {
          "base_uri": "https://localhost:8080/",
          "height": 112
        }
      },
      "execution_count": 100,
      "outputs": [
        {
          "output_type": "execute_result",
          "data": {
            "text/plain": [
              "  rede    base funcao_ativacao otimizador  acuracia  \\\n",
              "0  CNN  BASE 2         SIGMOID          1   0.91253   \n",
              "1  CNN  BASE 2         SIGMOID          1   0.91253   \n",
              "\n",
              "                                           roc_curve  \\\n",
              "0  {\"false_positive_rate\": [0.0, 0.0, 0.0, 0.0, 0...   \n",
              "1  {\"false_positive_rate\": [0.0, 0.0, 0.0, 0.0, 0...   \n",
              "\n",
              "                                        train_resume         confusion_matrix  \n",
              "0  {\"epoch\": {\"0\": 0, \"1\": 1, \"2\": 2, \"3\": 3, \"4\"...  [[945, 102], [83, 985]]  \n",
              "1  {\"epoch\": {\"0\": 0, \"1\": 1, \"2\": 2, \"3\": 3, \"4\"...  [[945, 102], [83, 985]]  "
            ],
            "text/html": [
              "\n",
              "  <div id=\"df-22da36fa-4790-4d9e-b69e-c78930c0725f\">\n",
              "    <div class=\"colab-df-container\">\n",
              "      <div>\n",
              "<style scoped>\n",
              "    .dataframe tbody tr th:only-of-type {\n",
              "        vertical-align: middle;\n",
              "    }\n",
              "\n",
              "    .dataframe tbody tr th {\n",
              "        vertical-align: top;\n",
              "    }\n",
              "\n",
              "    .dataframe thead th {\n",
              "        text-align: right;\n",
              "    }\n",
              "</style>\n",
              "<table border=\"1\" class=\"dataframe\">\n",
              "  <thead>\n",
              "    <tr style=\"text-align: right;\">\n",
              "      <th></th>\n",
              "      <th>rede</th>\n",
              "      <th>base</th>\n",
              "      <th>funcao_ativacao</th>\n",
              "      <th>otimizador</th>\n",
              "      <th>acuracia</th>\n",
              "      <th>roc_curve</th>\n",
              "      <th>train_resume</th>\n",
              "      <th>confusion_matrix</th>\n",
              "    </tr>\n",
              "  </thead>\n",
              "  <tbody>\n",
              "    <tr>\n",
              "      <th>0</th>\n",
              "      <td>CNN</td>\n",
              "      <td>BASE 2</td>\n",
              "      <td>SIGMOID</td>\n",
              "      <td>1</td>\n",
              "      <td>0.91253</td>\n",
              "      <td>{\"false_positive_rate\": [0.0, 0.0, 0.0, 0.0, 0...</td>\n",
              "      <td>{\"epoch\": {\"0\": 0, \"1\": 1, \"2\": 2, \"3\": 3, \"4\"...</td>\n",
              "      <td>[[945, 102], [83, 985]]</td>\n",
              "    </tr>\n",
              "    <tr>\n",
              "      <th>1</th>\n",
              "      <td>CNN</td>\n",
              "      <td>BASE 2</td>\n",
              "      <td>SIGMOID</td>\n",
              "      <td>1</td>\n",
              "      <td>0.91253</td>\n",
              "      <td>{\"false_positive_rate\": [0.0, 0.0, 0.0, 0.0, 0...</td>\n",
              "      <td>{\"epoch\": {\"0\": 0, \"1\": 1, \"2\": 2, \"3\": 3, \"4\"...</td>\n",
              "      <td>[[945, 102], [83, 985]]</td>\n",
              "    </tr>\n",
              "  </tbody>\n",
              "</table>\n",
              "</div>\n",
              "      <button class=\"colab-df-convert\" onclick=\"convertToInteractive('df-22da36fa-4790-4d9e-b69e-c78930c0725f')\"\n",
              "              title=\"Convert this dataframe to an interactive table.\"\n",
              "              style=\"display:none;\">\n",
              "        \n",
              "  <svg xmlns=\"http://www.w3.org/2000/svg\" height=\"24px\"viewBox=\"0 0 24 24\"\n",
              "       width=\"24px\">\n",
              "    <path d=\"M0 0h24v24H0V0z\" fill=\"none\"/>\n",
              "    <path d=\"M18.56 5.44l.94 2.06.94-2.06 2.06-.94-2.06-.94-.94-2.06-.94 2.06-2.06.94zm-11 1L8.5 8.5l.94-2.06 2.06-.94-2.06-.94L8.5 2.5l-.94 2.06-2.06.94zm10 10l.94 2.06.94-2.06 2.06-.94-2.06-.94-.94-2.06-.94 2.06-2.06.94z\"/><path d=\"M17.41 7.96l-1.37-1.37c-.4-.4-.92-.59-1.43-.59-.52 0-1.04.2-1.43.59L10.3 9.45l-7.72 7.72c-.78.78-.78 2.05 0 2.83L4 21.41c.39.39.9.59 1.41.59.51 0 1.02-.2 1.41-.59l7.78-7.78 2.81-2.81c.8-.78.8-2.07 0-2.86zM5.41 20L4 18.59l7.72-7.72 1.47 1.35L5.41 20z\"/>\n",
              "  </svg>\n",
              "      </button>\n",
              "      \n",
              "  <style>\n",
              "    .colab-df-container {\n",
              "      display:flex;\n",
              "      flex-wrap:wrap;\n",
              "      gap: 12px;\n",
              "    }\n",
              "\n",
              "    .colab-df-convert {\n",
              "      background-color: #E8F0FE;\n",
              "      border: none;\n",
              "      border-radius: 50%;\n",
              "      cursor: pointer;\n",
              "      display: none;\n",
              "      fill: #1967D2;\n",
              "      height: 32px;\n",
              "      padding: 0 0 0 0;\n",
              "      width: 32px;\n",
              "    }\n",
              "\n",
              "    .colab-df-convert:hover {\n",
              "      background-color: #E2EBFA;\n",
              "      box-shadow: 0px 1px 2px rgba(60, 64, 67, 0.3), 0px 1px 3px 1px rgba(60, 64, 67, 0.15);\n",
              "      fill: #174EA6;\n",
              "    }\n",
              "\n",
              "    [theme=dark] .colab-df-convert {\n",
              "      background-color: #3B4455;\n",
              "      fill: #D2E3FC;\n",
              "    }\n",
              "\n",
              "    [theme=dark] .colab-df-convert:hover {\n",
              "      background-color: #434B5C;\n",
              "      box-shadow: 0px 1px 3px 1px rgba(0, 0, 0, 0.15);\n",
              "      filter: drop-shadow(0px 1px 2px rgba(0, 0, 0, 0.3));\n",
              "      fill: #FFFFFF;\n",
              "    }\n",
              "  </style>\n",
              "\n",
              "      <script>\n",
              "        const buttonEl =\n",
              "          document.querySelector('#df-22da36fa-4790-4d9e-b69e-c78930c0725f button.colab-df-convert');\n",
              "        buttonEl.style.display =\n",
              "          google.colab.kernel.accessAllowed ? 'block' : 'none';\n",
              "\n",
              "        async function convertToInteractive(key) {\n",
              "          const element = document.querySelector('#df-22da36fa-4790-4d9e-b69e-c78930c0725f');\n",
              "          const dataTable =\n",
              "            await google.colab.kernel.invokeFunction('convertToInteractive',\n",
              "                                                     [key], {});\n",
              "          if (!dataTable) return;\n",
              "\n",
              "          const docLinkHtml = 'Like what you see? Visit the ' +\n",
              "            '<a target=\"_blank\" href=https://colab.research.google.com/notebooks/data_table.ipynb>data table notebook</a>'\n",
              "            + ' to learn more about interactive tables.';\n",
              "          element.innerHTML = '';\n",
              "          dataTable['output_type'] = 'display_data';\n",
              "          await google.colab.output.renderOutput(dataTable, element);\n",
              "          const docLink = document.createElement('div');\n",
              "          docLink.innerHTML = docLinkHtml;\n",
              "          element.appendChild(docLink);\n",
              "        }\n",
              "      </script>\n",
              "    </div>\n",
              "  </div>\n",
              "  "
            ]
          },
          "metadata": {},
          "execution_count": 100
        }
      ]
    },
    {
      "cell_type": "code",
      "source": [
        "# Caso queira deletar uma linha use o código abaixo\n",
        "# Use a propriedade label para especificar o índice da linha\n",
        "#resultados = resultados.drop(labels=1, axis=0)\n",
        "#resultados = resultados.reset_index(drop=True)\n",
        "#resultados"
      ],
      "metadata": {
        "id": "nP3enYmss2v9"
      },
      "execution_count": 101,
      "outputs": []
    },
    {
      "cell_type": "code",
      "source": [
        "# Salva arquivo de saída\n",
        "resultados.to_csv(PATH_ARQ_SAIDA)"
      ],
      "metadata": {
        "id": "y519ohA8u9jW"
      },
      "execution_count": 102,
      "outputs": []
    }
  ]
}