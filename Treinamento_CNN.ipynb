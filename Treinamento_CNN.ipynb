{
  "nbformat": 4,
  "nbformat_minor": 0,
  "metadata": {
    "colab": {
      "name": " Treinamento_CNN.ipynb",
      "provenance": [],
      "include_colab_link": true
    },
    "kernelspec": {
      "name": "python3",
      "display_name": "Python 3"
    },
    "language_info": {
      "name": "python"
    },
    "accelerator": "GPU",
    "gpuClass": "standard"
  },
  "cells": [
    {
      "cell_type": "markdown",
      "metadata": {
        "id": "view-in-github",
        "colab_type": "text"
      },
      "source": [
        "<a href=\"https://colab.research.google.com/github/LuanPCunha/TCC/blob/main/Treinamento_CNN.ipynb\" target=\"_parent\"><img src=\"https://colab.research.google.com/assets/colab-badge.svg\" alt=\"Open In Colab\"/></a>"
      ]
    },
    {
      "cell_type": "markdown",
      "source": [
        "# Imports e definições de funções"
      ],
      "metadata": {
        "id": "EvS_6l_yMUeH"
      }
    },
    {
      "cell_type": "code",
      "source": [
        "# !pip install tensorflow\n",
        "# !pip install keras"
      ],
      "metadata": {
        "id": "N5Vhr4_vECld"
      },
      "execution_count": 21,
      "outputs": []
    },
    {
      "cell_type": "code",
      "source": [
        "from google.colab import drive\n",
        "drive.mount('/content/drive')"
      ],
      "metadata": {
        "colab": {
          "base_uri": "https://localhost:8080/"
        },
        "id": "ptoQwAGEDQnl",
        "outputId": "483b04ce-334c-4aec-849f-ac47fb3d03df"
      },
      "execution_count": 22,
      "outputs": [
        {
          "output_type": "stream",
          "name": "stdout",
          "text": [
            "Drive already mounted at /content/drive; to attempt to forcibly remount, call drive.mount(\"/content/drive\", force_remount=True).\n"
          ]
        }
      ]
    },
    {
      "cell_type": "code",
      "source": [
        "import json\n",
        "import sklearn\n",
        "import numpy as np\n",
        "import pandas as pd\n",
        "from numpy import loadtxt\n",
        "import matplotlib.pyplot as plt\n",
        "from sklearn.model_selection import train_test_split\n",
        "\n",
        "import tensorflow as tf\n",
        "from tensorflow import keras\n",
        "from keras import optimizers\n",
        "from keras import layers\n",
        "from keras.layers import Dropout, Conv1D, MaxPooling1D, Flatten, Dense, SpatialDropout1D, BatchNormalization\n",
        "from keras.preprocessing.text import Tokenizer\n",
        "from tensorflow.keras.optimizers import Adam, Adadelta, SGD, RMSprop, Adagrad, Adamax, Nadam, Ftrl\n",
        "from keras.models import Sequential\n",
        "from keras.layers.embeddings import Embedding\n",
        "\n",
        "from mlxtend.plotting import plot_confusion_matrix\n",
        "from keras.callbacks import Callback, ModelCheckpoint, CSVLogger\n",
        "from sklearn.metrics import roc_auc_score, roc_curve, confusion_matrix\n",
        "from keras.callbacks import EarlyStopping"
      ],
      "metadata": {
        "id": "OeOYrHW9Bxs_"
      },
      "execution_count": 23,
      "outputs": []
    },
    {
      "cell_type": "code",
      "source": [
        "def tokenize(tweets_list):\n",
        "    tokenizer = Tokenizer()\n",
        "    tokenizer.fit_on_texts(tweets_list)\n",
        "    return tokenizer.texts_to_sequences(tweets_list), tokenizer"
      ],
      "metadata": {
        "id": "db4KNc_2Ixyu"
      },
      "execution_count": 24,
      "outputs": []
    },
    {
      "cell_type": "code",
      "source": [
        "class RocAucEvaluation(Callback):\n",
        "    def __init__(self, validation_data=(), interval=1):\n",
        "        super(Callback, self).__init__()\n",
        "\n",
        "        self.interval = interval\n",
        "        self.X_val, self.y_val = validation_data\n",
        "\n",
        "    def on_epoch_end(self, epoch, logs={}):\n",
        "        if epoch % self.interval == 0:\n",
        "            y_pred = self.model.predict(self.X_val, verbose=0)\n",
        "            self.score = roc_auc_score(self.y_val, y_pred)\n",
        "            self.false_positive_rate, self.true_positive_rate, _ = roc_curve(self.y_val, y_pred)          "
      ],
      "metadata": {
        "id": "DLBaKxGhrbRU"
      },
      "execution_count": 25,
      "outputs": []
    },
    {
      "cell_type": "markdown",
      "source": [
        "# Carrega arquivo de saída (resultados)"
      ],
      "metadata": {
        "id": "rbA3XJK6kIrM"
      }
    },
    {
      "cell_type": "code",
      "source": [
        "# CONSTANTES DOS RESULTADOS\n",
        "REDE = 'CNN'\n",
        "\n",
        "# BASE_NAME = 'BASE 0'\n",
        "# BASE_NAME = 'BASE 1'\n",
        "BASE_NAME = 'BASE 2'\n",
        "\n",
        "# Caminho arquivo de saída\n",
        "PATH_ARQ_SAIDA = \"/content/drive/MyDrive/TCC/resultados/resultados.csv\"\n",
        "\n",
        "#  rede base otimizador acuracia val_loss learning_rate dropout batch_size roc_curve train_resume confusion_matrix\n",
        "resultados = pd.read_csv(PATH_ARQ_SAIDA, index_col=0)\n",
        "resultados.head()"
      ],
      "metadata": {
        "id": "wvPJKDAQnAUQ",
        "outputId": "d237cb21-757b-4aa4-9fe3-0d6056a2b198",
        "colab": {
          "base_uri": "https://localhost:8080/",
          "height": 337
        }
      },
      "execution_count": 26,
      "outputs": [
        {
          "output_type": "execute_result",
          "data": {
            "text/plain": [
              "      rede    base otimizador  acuracia  val_loss  learning_rate  dropout  \\\n",
              "0  Bi-LSTM  BASE 0      Nadam  0.864151  0.359641         0.0001      0.1   \n",
              "1  Bi-LSTM  BASE 0      Nadam  0.876550  0.302028         0.0001      0.2   \n",
              "2  Bi-LSTM  BASE 0      Nadam  0.864151  0.318839         0.0001      0.3   \n",
              "3  Bi-LSTM  BASE 0    RMSProp  0.852291  0.325597         0.0001      0.1   \n",
              "4  Bi-LSTM  BASE 0    RMSProp  0.852291  0.327882         0.0001      0.2   \n",
              "\n",
              "   batch_size                                          roc_curve  \\\n",
              "0          32  {\"false_positive_rate\": [0.0, 0.0, 0.0, 0.0, 0...   \n",
              "1          32  {\"false_positive_rate\": [0.0, 0.0, 0.0, 0.0, 0...   \n",
              "2          32  {\"false_positive_rate\": [0.0, 0.0, 0.0, 0.0, 0...   \n",
              "3          32  {\"false_positive_rate\": [0.0, 0.0, 0.0, 0.0, 0...   \n",
              "4          32  {\"false_positive_rate\": [0.0, 0.0, 0.0, 0.0, 0...   \n",
              "\n",
              "                                        train_resume  \\\n",
              "0  {\"epoch\": {\"0\": 0, \"1\": 1, \"2\": 2, \"3\": 3}, \"a...   \n",
              "1  {\"epoch\": {\"0\": 0, \"1\": 1, \"2\": 2, \"3\": 3}, \"a...   \n",
              "2  {\"epoch\": {\"0\": 0, \"1\": 1, \"2\": 2, \"3\": 3}, \"a...   \n",
              "3  {\"epoch\": {\"0\": 0, \"1\": 1, \"2\": 2, \"3\": 3}, \"a...   \n",
              "4  {\"epoch\": {\"0\": 0, \"1\": 1, \"2\": 2, \"3\": 3}, \"a...   \n",
              "\n",
              "                               confusion_matrix  epochs      rank  \n",
              "0   {\"00\": 855, \"01\": 73, \"10\": 179, \"11\": 748}       4  2.402818  \n",
              "1  {\"00\": 803, \"01\": 125, \"10\": 104, \"11\": 823}       4  2.902218  \n",
              "2  {\"00\": 802, \"01\": 126, \"10\": 126, \"11\": 801}       4  2.710301  \n",
              "3  {\"00\": 800, \"01\": 128, \"10\": 146, \"11\": 781}       4  2.617622  \n",
              "4   {\"00\": 838, \"01\": 90, \"10\": 184, \"11\": 743}       4  2.599382  "
            ],
            "text/html": [
              "\n",
              "  <div id=\"df-daf1fa4b-c996-4a10-ad2b-cfc60902fea8\">\n",
              "    <div class=\"colab-df-container\">\n",
              "      <div>\n",
              "<style scoped>\n",
              "    .dataframe tbody tr th:only-of-type {\n",
              "        vertical-align: middle;\n",
              "    }\n",
              "\n",
              "    .dataframe tbody tr th {\n",
              "        vertical-align: top;\n",
              "    }\n",
              "\n",
              "    .dataframe thead th {\n",
              "        text-align: right;\n",
              "    }\n",
              "</style>\n",
              "<table border=\"1\" class=\"dataframe\">\n",
              "  <thead>\n",
              "    <tr style=\"text-align: right;\">\n",
              "      <th></th>\n",
              "      <th>rede</th>\n",
              "      <th>base</th>\n",
              "      <th>otimizador</th>\n",
              "      <th>acuracia</th>\n",
              "      <th>val_loss</th>\n",
              "      <th>learning_rate</th>\n",
              "      <th>dropout</th>\n",
              "      <th>batch_size</th>\n",
              "      <th>roc_curve</th>\n",
              "      <th>train_resume</th>\n",
              "      <th>confusion_matrix</th>\n",
              "      <th>epochs</th>\n",
              "      <th>rank</th>\n",
              "    </tr>\n",
              "  </thead>\n",
              "  <tbody>\n",
              "    <tr>\n",
              "      <th>0</th>\n",
              "      <td>Bi-LSTM</td>\n",
              "      <td>BASE 0</td>\n",
              "      <td>Nadam</td>\n",
              "      <td>0.864151</td>\n",
              "      <td>0.359641</td>\n",
              "      <td>0.0001</td>\n",
              "      <td>0.1</td>\n",
              "      <td>32</td>\n",
              "      <td>{\"false_positive_rate\": [0.0, 0.0, 0.0, 0.0, 0...</td>\n",
              "      <td>{\"epoch\": {\"0\": 0, \"1\": 1, \"2\": 2, \"3\": 3}, \"a...</td>\n",
              "      <td>{\"00\": 855, \"01\": 73, \"10\": 179, \"11\": 748}</td>\n",
              "      <td>4</td>\n",
              "      <td>2.402818</td>\n",
              "    </tr>\n",
              "    <tr>\n",
              "      <th>1</th>\n",
              "      <td>Bi-LSTM</td>\n",
              "      <td>BASE 0</td>\n",
              "      <td>Nadam</td>\n",
              "      <td>0.876550</td>\n",
              "      <td>0.302028</td>\n",
              "      <td>0.0001</td>\n",
              "      <td>0.2</td>\n",
              "      <td>32</td>\n",
              "      <td>{\"false_positive_rate\": [0.0, 0.0, 0.0, 0.0, 0...</td>\n",
              "      <td>{\"epoch\": {\"0\": 0, \"1\": 1, \"2\": 2, \"3\": 3}, \"a...</td>\n",
              "      <td>{\"00\": 803, \"01\": 125, \"10\": 104, \"11\": 823}</td>\n",
              "      <td>4</td>\n",
              "      <td>2.902218</td>\n",
              "    </tr>\n",
              "    <tr>\n",
              "      <th>2</th>\n",
              "      <td>Bi-LSTM</td>\n",
              "      <td>BASE 0</td>\n",
              "      <td>Nadam</td>\n",
              "      <td>0.864151</td>\n",
              "      <td>0.318839</td>\n",
              "      <td>0.0001</td>\n",
              "      <td>0.3</td>\n",
              "      <td>32</td>\n",
              "      <td>{\"false_positive_rate\": [0.0, 0.0, 0.0, 0.0, 0...</td>\n",
              "      <td>{\"epoch\": {\"0\": 0, \"1\": 1, \"2\": 2, \"3\": 3}, \"a...</td>\n",
              "      <td>{\"00\": 802, \"01\": 126, \"10\": 126, \"11\": 801}</td>\n",
              "      <td>4</td>\n",
              "      <td>2.710301</td>\n",
              "    </tr>\n",
              "    <tr>\n",
              "      <th>3</th>\n",
              "      <td>Bi-LSTM</td>\n",
              "      <td>BASE 0</td>\n",
              "      <td>RMSProp</td>\n",
              "      <td>0.852291</td>\n",
              "      <td>0.325597</td>\n",
              "      <td>0.0001</td>\n",
              "      <td>0.1</td>\n",
              "      <td>32</td>\n",
              "      <td>{\"false_positive_rate\": [0.0, 0.0, 0.0, 0.0, 0...</td>\n",
              "      <td>{\"epoch\": {\"0\": 0, \"1\": 1, \"2\": 2, \"3\": 3}, \"a...</td>\n",
              "      <td>{\"00\": 800, \"01\": 128, \"10\": 146, \"11\": 781}</td>\n",
              "      <td>4</td>\n",
              "      <td>2.617622</td>\n",
              "    </tr>\n",
              "    <tr>\n",
              "      <th>4</th>\n",
              "      <td>Bi-LSTM</td>\n",
              "      <td>BASE 0</td>\n",
              "      <td>RMSProp</td>\n",
              "      <td>0.852291</td>\n",
              "      <td>0.327882</td>\n",
              "      <td>0.0001</td>\n",
              "      <td>0.2</td>\n",
              "      <td>32</td>\n",
              "      <td>{\"false_positive_rate\": [0.0, 0.0, 0.0, 0.0, 0...</td>\n",
              "      <td>{\"epoch\": {\"0\": 0, \"1\": 1, \"2\": 2, \"3\": 3}, \"a...</td>\n",
              "      <td>{\"00\": 838, \"01\": 90, \"10\": 184, \"11\": 743}</td>\n",
              "      <td>4</td>\n",
              "      <td>2.599382</td>\n",
              "    </tr>\n",
              "  </tbody>\n",
              "</table>\n",
              "</div>\n",
              "      <button class=\"colab-df-convert\" onclick=\"convertToInteractive('df-daf1fa4b-c996-4a10-ad2b-cfc60902fea8')\"\n",
              "              title=\"Convert this dataframe to an interactive table.\"\n",
              "              style=\"display:none;\">\n",
              "        \n",
              "  <svg xmlns=\"http://www.w3.org/2000/svg\" height=\"24px\"viewBox=\"0 0 24 24\"\n",
              "       width=\"24px\">\n",
              "    <path d=\"M0 0h24v24H0V0z\" fill=\"none\"/>\n",
              "    <path d=\"M18.56 5.44l.94 2.06.94-2.06 2.06-.94-2.06-.94-.94-2.06-.94 2.06-2.06.94zm-11 1L8.5 8.5l.94-2.06 2.06-.94-2.06-.94L8.5 2.5l-.94 2.06-2.06.94zm10 10l.94 2.06.94-2.06 2.06-.94-2.06-.94-.94-2.06-.94 2.06-2.06.94z\"/><path d=\"M17.41 7.96l-1.37-1.37c-.4-.4-.92-.59-1.43-.59-.52 0-1.04.2-1.43.59L10.3 9.45l-7.72 7.72c-.78.78-.78 2.05 0 2.83L4 21.41c.39.39.9.59 1.41.59.51 0 1.02-.2 1.41-.59l7.78-7.78 2.81-2.81c.8-.78.8-2.07 0-2.86zM5.41 20L4 18.59l7.72-7.72 1.47 1.35L5.41 20z\"/>\n",
              "  </svg>\n",
              "      </button>\n",
              "      \n",
              "  <style>\n",
              "    .colab-df-container {\n",
              "      display:flex;\n",
              "      flex-wrap:wrap;\n",
              "      gap: 12px;\n",
              "    }\n",
              "\n",
              "    .colab-df-convert {\n",
              "      background-color: #E8F0FE;\n",
              "      border: none;\n",
              "      border-radius: 50%;\n",
              "      cursor: pointer;\n",
              "      display: none;\n",
              "      fill: #1967D2;\n",
              "      height: 32px;\n",
              "      padding: 0 0 0 0;\n",
              "      width: 32px;\n",
              "    }\n",
              "\n",
              "    .colab-df-convert:hover {\n",
              "      background-color: #E2EBFA;\n",
              "      box-shadow: 0px 1px 2px rgba(60, 64, 67, 0.3), 0px 1px 3px 1px rgba(60, 64, 67, 0.15);\n",
              "      fill: #174EA6;\n",
              "    }\n",
              "\n",
              "    [theme=dark] .colab-df-convert {\n",
              "      background-color: #3B4455;\n",
              "      fill: #D2E3FC;\n",
              "    }\n",
              "\n",
              "    [theme=dark] .colab-df-convert:hover {\n",
              "      background-color: #434B5C;\n",
              "      box-shadow: 0px 1px 3px 1px rgba(0, 0, 0, 0.15);\n",
              "      filter: drop-shadow(0px 1px 2px rgba(0, 0, 0, 0.3));\n",
              "      fill: #FFFFFF;\n",
              "    }\n",
              "  </style>\n",
              "\n",
              "      <script>\n",
              "        const buttonEl =\n",
              "          document.querySelector('#df-daf1fa4b-c996-4a10-ad2b-cfc60902fea8 button.colab-df-convert');\n",
              "        buttonEl.style.display =\n",
              "          google.colab.kernel.accessAllowed ? 'block' : 'none';\n",
              "\n",
              "        async function convertToInteractive(key) {\n",
              "          const element = document.querySelector('#df-daf1fa4b-c996-4a10-ad2b-cfc60902fea8');\n",
              "          const dataTable =\n",
              "            await google.colab.kernel.invokeFunction('convertToInteractive',\n",
              "                                                     [key], {});\n",
              "          if (!dataTable) return;\n",
              "\n",
              "          const docLinkHtml = 'Like what you see? Visit the ' +\n",
              "            '<a target=\"_blank\" href=https://colab.research.google.com/notebooks/data_table.ipynb>data table notebook</a>'\n",
              "            + ' to learn more about interactive tables.';\n",
              "          element.innerHTML = '';\n",
              "          dataTable['output_type'] = 'display_data';\n",
              "          await google.colab.output.renderOutput(dataTable, element);\n",
              "          const docLink = document.createElement('div');\n",
              "          docLink.innerHTML = docLinkHtml;\n",
              "          element.appendChild(docLink);\n",
              "        }\n",
              "      </script>\n",
              "    </div>\n",
              "  </div>\n",
              "  "
            ]
          },
          "metadata": {},
          "execution_count": 26
        }
      ]
    },
    {
      "cell_type": "markdown",
      "source": [
        "# Carrega base"
      ],
      "metadata": {
        "id": "kMO-knebMcYH"
      }
    },
    {
      "cell_type": "code",
      "source": [
        "if BASE_NAME == 'BASE 0':\n",
        "  # PATH_BASE0_NAO_PROCESSADA  -Base0 Bruta Não processada\n",
        "  PATH_BASE = \"/content/drive/MyDrive/TCC/dados/processadas/balanceadas/Base0_classificada_balanceada.csv\"\n",
        "\n",
        "if BASE_NAME == 'BASE 1':\n",
        "  # PATH_BASE1_JUNTO_COM_DA_LEILA_BALANCEADA - Base1 Com StopWords\n",
        "  PATH_BASE = \"/content/drive/MyDrive/TCC/dados/processadas/balanceadas/Base1JuntaHateENotHateDaLeila_balanceada.csv\"\n",
        "\n",
        "if BASE_NAME == 'BASE 2':\n",
        "  # PATH_BASE2_LEILA_LIMPISSIMA_BALANCEADA - Base2 Sem StopWords\n",
        "  PATH_BASE = \"/content/drive/MyDrive/TCC/dados/processadas/balanceadas/Base2_maior4_menor25_limpissima_balanceada.csv\""
      ],
      "metadata": {
        "id": "xf_v4U5DDfU8"
      },
      "execution_count": 27,
      "outputs": []
    },
    {
      "cell_type": "code",
      "source": [
        "# # Base0 Bruta Não processada\n",
        "# PATH_BASE_1_CLASSIFICADA_BALANCEADA = r\"/content/drive/MyDrive/TCC/dados/processadas/balanceadas/Base1_classificada_balanceada.csv\"\n",
        "# #Base0 Bruta Não processada\n",
        "# PATH_BASE_2_CLASSIFICADA_BALANCEADA = r\"/content/drive/MyDrive/TCC/dados/processadas/balanceadas/Base2_classificada_balanceada.csv\"\n",
        "# #MATRIZ_CBOW_300_BASE_1 = loadtxt(\"/content/drive/MyDrive/TCC/dados/word_embeddings/Matriz_Base1JuntaHateENotHateDaLeila_balanceada_CBOW300.CSV\", delimiter=',')\n",
        "# #MATRIZ_CBOW_300_BASE_2_LEILA = loadtxt(\"/content/drive/MyDrive/TCC/dados/word_embeddings/Matriz_Base2_maior4_menor25_limpissima_balanceada_CBOW300.CSV\", delimiter=',')\n",
        "# #MATRIZ_CBOW_300_BASE_2 = loadtxt(\"/content/drive/MyDrive/TCC/dados/word_embeddings/Matriz_Base2_classificada_balanceada_CBOW300.csv\", delimiter=',') #saida"
      ],
      "metadata": {
        "id": "IotUcqVLVPIY"
      },
      "execution_count": 28,
      "outputs": []
    },
    {
      "cell_type": "code",
      "source": [
        "tweets = pd.read_csv(PATH_BASE, index_col=0)\n",
        "tweets"
      ],
      "metadata": {
        "id": "7wJXwK7jCkyx",
        "outputId": "6479ebb4-87bd-4f4f-edd9-d645ebf08d62",
        "colab": {
          "base_uri": "https://localhost:8080/",
          "height": 424
        }
      },
      "execution_count": 29,
      "outputs": [
        {
          "output_type": "execute_result",
          "data": {
            "text/plain": [
              "      label                                               text\n",
              "0         1                       ambiguinho eu estou com nojo\n",
              "1         1                   menino do céu para que está feio\n",
              "2         1  já pergunto a porra do trem já sabendo da vdd ...\n",
              "3         1                              sardella só faz merda\n",
              "4         1                   foda se na real vou tratar igual\n",
              "...     ...                                                ...\n",
              "4881      0  estou sem presidente por quatro anos nãomerepr...\n",
              "4882      0  somos todos iguais braços dados ou não quem sa...\n",
              "4883      0  que deus nos proteja e cuidem um do outro somo...\n",
              "4884      0                       quem será que não sabe votar\n",
              "4885      0       disse o cidadão que votou no gaucho de geral\n",
              "\n",
              "[4886 rows x 2 columns]"
            ],
            "text/html": [
              "\n",
              "  <div id=\"df-a2408545-5f4c-40ea-a26e-95d79a8f33f7\">\n",
              "    <div class=\"colab-df-container\">\n",
              "      <div>\n",
              "<style scoped>\n",
              "    .dataframe tbody tr th:only-of-type {\n",
              "        vertical-align: middle;\n",
              "    }\n",
              "\n",
              "    .dataframe tbody tr th {\n",
              "        vertical-align: top;\n",
              "    }\n",
              "\n",
              "    .dataframe thead th {\n",
              "        text-align: right;\n",
              "    }\n",
              "</style>\n",
              "<table border=\"1\" class=\"dataframe\">\n",
              "  <thead>\n",
              "    <tr style=\"text-align: right;\">\n",
              "      <th></th>\n",
              "      <th>label</th>\n",
              "      <th>text</th>\n",
              "    </tr>\n",
              "  </thead>\n",
              "  <tbody>\n",
              "    <tr>\n",
              "      <th>0</th>\n",
              "      <td>1</td>\n",
              "      <td>ambiguinho eu estou com nojo</td>\n",
              "    </tr>\n",
              "    <tr>\n",
              "      <th>1</th>\n",
              "      <td>1</td>\n",
              "      <td>menino do céu para que está feio</td>\n",
              "    </tr>\n",
              "    <tr>\n",
              "      <th>2</th>\n",
              "      <td>1</td>\n",
              "      <td>já pergunto a porra do trem já sabendo da vdd ...</td>\n",
              "    </tr>\n",
              "    <tr>\n",
              "      <th>3</th>\n",
              "      <td>1</td>\n",
              "      <td>sardella só faz merda</td>\n",
              "    </tr>\n",
              "    <tr>\n",
              "      <th>4</th>\n",
              "      <td>1</td>\n",
              "      <td>foda se na real vou tratar igual</td>\n",
              "    </tr>\n",
              "    <tr>\n",
              "      <th>...</th>\n",
              "      <td>...</td>\n",
              "      <td>...</td>\n",
              "    </tr>\n",
              "    <tr>\n",
              "      <th>4881</th>\n",
              "      <td>0</td>\n",
              "      <td>estou sem presidente por quatro anos nãomerepr...</td>\n",
              "    </tr>\n",
              "    <tr>\n",
              "      <th>4882</th>\n",
              "      <td>0</td>\n",
              "      <td>somos todos iguais braços dados ou não quem sa...</td>\n",
              "    </tr>\n",
              "    <tr>\n",
              "      <th>4883</th>\n",
              "      <td>0</td>\n",
              "      <td>que deus nos proteja e cuidem um do outro somo...</td>\n",
              "    </tr>\n",
              "    <tr>\n",
              "      <th>4884</th>\n",
              "      <td>0</td>\n",
              "      <td>quem será que não sabe votar</td>\n",
              "    </tr>\n",
              "    <tr>\n",
              "      <th>4885</th>\n",
              "      <td>0</td>\n",
              "      <td>disse o cidadão que votou no gaucho de geral</td>\n",
              "    </tr>\n",
              "  </tbody>\n",
              "</table>\n",
              "<p>4886 rows × 2 columns</p>\n",
              "</div>\n",
              "      <button class=\"colab-df-convert\" onclick=\"convertToInteractive('df-a2408545-5f4c-40ea-a26e-95d79a8f33f7')\"\n",
              "              title=\"Convert this dataframe to an interactive table.\"\n",
              "              style=\"display:none;\">\n",
              "        \n",
              "  <svg xmlns=\"http://www.w3.org/2000/svg\" height=\"24px\"viewBox=\"0 0 24 24\"\n",
              "       width=\"24px\">\n",
              "    <path d=\"M0 0h24v24H0V0z\" fill=\"none\"/>\n",
              "    <path d=\"M18.56 5.44l.94 2.06.94-2.06 2.06-.94-2.06-.94-.94-2.06-.94 2.06-2.06.94zm-11 1L8.5 8.5l.94-2.06 2.06-.94-2.06-.94L8.5 2.5l-.94 2.06-2.06.94zm10 10l.94 2.06.94-2.06 2.06-.94-2.06-.94-.94-2.06-.94 2.06-2.06.94z\"/><path d=\"M17.41 7.96l-1.37-1.37c-.4-.4-.92-.59-1.43-.59-.52 0-1.04.2-1.43.59L10.3 9.45l-7.72 7.72c-.78.78-.78 2.05 0 2.83L4 21.41c.39.39.9.59 1.41.59.51 0 1.02-.2 1.41-.59l7.78-7.78 2.81-2.81c.8-.78.8-2.07 0-2.86zM5.41 20L4 18.59l7.72-7.72 1.47 1.35L5.41 20z\"/>\n",
              "  </svg>\n",
              "      </button>\n",
              "      \n",
              "  <style>\n",
              "    .colab-df-container {\n",
              "      display:flex;\n",
              "      flex-wrap:wrap;\n",
              "      gap: 12px;\n",
              "    }\n",
              "\n",
              "    .colab-df-convert {\n",
              "      background-color: #E8F0FE;\n",
              "      border: none;\n",
              "      border-radius: 50%;\n",
              "      cursor: pointer;\n",
              "      display: none;\n",
              "      fill: #1967D2;\n",
              "      height: 32px;\n",
              "      padding: 0 0 0 0;\n",
              "      width: 32px;\n",
              "    }\n",
              "\n",
              "    .colab-df-convert:hover {\n",
              "      background-color: #E2EBFA;\n",
              "      box-shadow: 0px 1px 2px rgba(60, 64, 67, 0.3), 0px 1px 3px 1px rgba(60, 64, 67, 0.15);\n",
              "      fill: #174EA6;\n",
              "    }\n",
              "\n",
              "    [theme=dark] .colab-df-convert {\n",
              "      background-color: #3B4455;\n",
              "      fill: #D2E3FC;\n",
              "    }\n",
              "\n",
              "    [theme=dark] .colab-df-convert:hover {\n",
              "      background-color: #434B5C;\n",
              "      box-shadow: 0px 1px 3px 1px rgba(0, 0, 0, 0.15);\n",
              "      filter: drop-shadow(0px 1px 2px rgba(0, 0, 0, 0.3));\n",
              "      fill: #FFFFFF;\n",
              "    }\n",
              "  </style>\n",
              "\n",
              "      <script>\n",
              "        const buttonEl =\n",
              "          document.querySelector('#df-a2408545-5f4c-40ea-a26e-95d79a8f33f7 button.colab-df-convert');\n",
              "        buttonEl.style.display =\n",
              "          google.colab.kernel.accessAllowed ? 'block' : 'none';\n",
              "\n",
              "        async function convertToInteractive(key) {\n",
              "          const element = document.querySelector('#df-a2408545-5f4c-40ea-a26e-95d79a8f33f7');\n",
              "          const dataTable =\n",
              "            await google.colab.kernel.invokeFunction('convertToInteractive',\n",
              "                                                     [key], {});\n",
              "          if (!dataTable) return;\n",
              "\n",
              "          const docLinkHtml = 'Like what you see? Visit the ' +\n",
              "            '<a target=\"_blank\" href=https://colab.research.google.com/notebooks/data_table.ipynb>data table notebook</a>'\n",
              "            + ' to learn more about interactive tables.';\n",
              "          element.innerHTML = '';\n",
              "          dataTable['output_type'] = 'display_data';\n",
              "          await google.colab.output.renderOutput(dataTable, element);\n",
              "          const docLink = document.createElement('div');\n",
              "          docLink.innerHTML = docLinkHtml;\n",
              "          element.appendChild(docLink);\n",
              "        }\n",
              "      </script>\n",
              "    </div>\n",
              "  </div>\n",
              "  "
            ]
          },
          "metadata": {},
          "execution_count": 29
        }
      ]
    },
    {
      "cell_type": "code",
      "execution_count": 30,
      "metadata": {
        "colab": {
          "base_uri": "https://localhost:8080/"
        },
        "id": "UxNdO2PW2E5a",
        "outputId": "dacd5030-010f-427e-e876-417a6ec1a57c"
      },
      "outputs": [
        {
          "output_type": "stream",
          "name": "stdout",
          "text": [
            "Vocabulary size: 9147\n"
          ]
        }
      ],
      "source": [
        "# Pega a quantidade de palavras únicas dos tweets de toda a base\n",
        "_, text_tokenizer = tokenize(tweets['text'])\n",
        "text_vocab_size = len(text_tokenizer.word_index)\n",
        "print(\"Vocabulary size:\", text_vocab_size)"
      ]
    },
    {
      "cell_type": "markdown",
      "source": [
        "# Prepara os dados de train, test e validation da base\n"
      ],
      "metadata": {
        "id": "Ax2iFKj9iNhG"
      }
    },
    {
      "cell_type": "code",
      "source": [
        "NUM_BASES = 4\n",
        "# Carrega os paths das divisões das bases\n",
        "LIST_PATH_TRAIN = []\n",
        "LIST_PATH_TEST = []\n",
        "LIST_PATH_VAL = []\n",
        "for i in range(NUM_BASES):\n",
        "  LIST_PATH_TRAIN.append('/content/drive/MyDrive/TCC/dados/processadas/bases_balanceadas_divididas/train'+str(i)+'.csv')\n",
        "  LIST_PATH_TEST.append('/content/drive/MyDrive/TCC/dados/processadas/bases_balanceadas_divididas/test'+str(i)+'.csv')\n",
        "  LIST_PATH_VAL.append('/content/drive/MyDrive/TCC/dados/processadas/bases_balanceadas_divididas/val'+str(i)+'.csv')"
      ],
      "metadata": {
        "id": "DoW9UGLGess_"
      },
      "execution_count": 31,
      "outputs": []
    },
    {
      "cell_type": "code",
      "source": [
        "# 0 - Base0 bruta não processada\n",
        "# 1 - Base1 Com StopWords\n",
        "# 2 - Base2 Sem StopWords\n",
        "# 3 - Base2 Nossa sem stopwords\n",
        "base_index = int(BASE_NAME.split()[1])\n",
        "base_train = pd.read_csv(LIST_PATH_TRAIN[base_index], index_col=0)\n",
        "base_test = pd.read_csv(LIST_PATH_TEST[base_index], index_col=0)\n",
        "base_val = pd.read_csv(LIST_PATH_VAL[base_index], index_col=0)"
      ],
      "metadata": {
        "id": "wewdmA2Wihhh"
      },
      "execution_count": 32,
      "outputs": []
    },
    {
      "cell_type": "code",
      "source": [
        "# Dados train\n",
        "Y_TRAIN = base_train['label']\n",
        "base_train.drop(['label'], axis='columns', inplace=True)\n",
        "X_TRAIN = base_train.to_numpy()\n",
        "\n",
        "# Dados test\n",
        "Y_TEST = base_test['label']\n",
        "base_test.drop(['label'], axis='columns', inplace=True)\n",
        "X_TEST = base_test.to_numpy()\n",
        "\n",
        "# Dados validation\n",
        "Y_VAL = base_val['label']\n",
        "base_val.drop(['label'], axis='columns', inplace=True)\n",
        "X_VAL = base_val.to_numpy()\n",
        "\n",
        "max_text_length = X_TRAIN.shape[1]\n",
        "\n",
        "print(X_TRAIN.shape)\n",
        "print(X_TEST.shape)\n",
        "print(X_VAL.shape)"
      ],
      "metadata": {
        "id": "ttfmkRkij4kF",
        "outputId": "50401d20-c46b-401e-b6ae-79d00b4f17c3",
        "colab": {
          "base_uri": "https://localhost:8080/"
        }
      },
      "execution_count": 33,
      "outputs": [
        {
          "output_type": "stream",
          "name": "stdout",
          "text": [
            "(2930, 24)\n",
            "(978, 24)\n",
            "(978, 24)\n"
          ]
        }
      ]
    },
    {
      "cell_type": "markdown",
      "source": [
        "# Execução modelo"
      ],
      "metadata": {
        "id": "W9pdFxE7Ml6H"
      }
    },
    {
      "cell_type": "code",
      "source": [
        "# parametros tunning:\n",
        "BATCH_SIZE = [32, 64]\n",
        "LEARN_RATE = [0.0001, 0.001]\n",
        "OTMIZADORES = ['Nadam', 'RMSProp', 'SGD']\n",
        "DROPOUT = [0.1, 0.2, 0.3]\n",
        "\n",
        "# parametros estaticos:\n",
        "EPOCHS = 10\n",
        "EMBEDDING_DIMENSION = 300  \n",
        "MAX_TEXT_SIZE = max_text_length \n",
        "VOCAB_SIZE = text_vocab_size"
      ],
      "metadata": {
        "id": "yBGbbGdfL7ps"
      },
      "execution_count": 34,
      "outputs": []
    },
    {
      "cell_type": "code",
      "source": [
        "def optimize (optimize, learning_rate):\n",
        "  if optimize == 'Nadam':\n",
        "    return Nadam(learning_rate=learning_rate, name=\"Nadam\")\n",
        "  \n",
        "  if optimize == 'RMSProp':\n",
        "    return RMSprop(learning_rate=learning_rate, name=\"RMSprop\")\n",
        "  \n",
        "  if optimize == 'SGD':\n",
        "    return SGD(learning_rate=learning_rate, name=\"SGD\")"
      ],
      "metadata": {
        "id": "bPL3sYgZ1h7j"
      },
      "execution_count": 35,
      "outputs": []
    },
    {
      "cell_type": "code",
      "source": [
        "def create_cnn (vocab_size, embedding_dimen, max_text_size, dropout_rate ):\n",
        "\n",
        "  modelo = keras.Sequential([\n",
        "    keras.layers.Embedding(VOCAB_SIZE, EMBEDDING_DIMENSION, input_length=max_text_size),\n",
        "    # keras.layers.Embedding(input_dim=MATRIZ_CBOW_300_BASE_2.shape[0],\n",
        "                            # output_dim=MATRIZ_CBOW_300_BASE_2.shape[1],\n",
        "                            # weights=[MATRIZ_CBOW_300_BASE_2],\n",
        "                            # embeddings_initializer=keras.initializers.Constant(MATRIZ_CBOW_300_BASE_2),\n",
        "                            # input_length=max_text_size,\n",
        "                            # trainable=True),                         \n",
        "    keras.layers.Conv1D(max_text_size, 3, activation=\"relu\"),\n",
        "    keras.layers.Flatten(input_shape=(max_text_size,)),\n",
        "    keras.layers.Dense(max_text_size, activation='relu'),\n",
        "    keras.layers.Dropout(dropout_rate),\n",
        "    keras.layers.Dense(1, activation='sigmoid')\n",
        "    ])\n",
        "  \n",
        "  return modelo "
      ],
      "metadata": {
        "id": "wKH2mHM5r8_6"
      },
      "execution_count": 36,
      "outputs": []
    },
    {
      "cell_type": "code",
      "source": [
        "def train_model(embedding_dimen, batch_size, epochs, learning_rate, optimizer, dropout_rate):\n",
        "    opt = optimize(optimizer, learning_rate)\n",
        "    \n",
        "    model = create_cnn(VOCAB_SIZE, EMBEDDING_DIMENSION, MAX_TEXT_SIZE, dropout_rate)\n",
        "\n",
        "    model.compile(loss=tf.keras.losses.BinaryCrossentropy(), optimizer=opt, metrics=['accuracy'])        \n",
        "    \n",
        "    ra_val = RocAucEvaluation(validation_data=(X_VAL, Y_VAL), interval = 1)\n",
        "    \n",
        "    csv_logger = CSVLogger('log.csv', append=False, separator=';')\n",
        "\n",
        "    early_stop = EarlyStopping(monitor = \"val_loss\", mode = \"min\", verbose = 0, patience = 1)                                                                                       \n",
        "   \n",
        "    history = model.fit(X_TRAIN, Y_TRAIN, batch_size=batch_size, epochs=epochs, validation_data=(X_VAL, Y_VAL), verbose=0, use_multiprocessing=True,  callbacks = [ra_val, csv_logger, early_stop])\n",
        "    \n",
        "    scores = model.evaluate(X_TEST, Y_TEST, verbose=0)\n",
        "    \n",
        "    return history, model, ra_val, scores, csv_logger\n"
      ],
      "metadata": {
        "id": "wYnrq-34uZX5"
      },
      "execution_count": 37,
      "outputs": []
    },
    {
      "cell_type": "code",
      "source": [
        "# history, model1, ra_val, scores, csv_logger = train_model(EMBEDDING_DIMENSION, 32, 1, 0.001, 'Nadam', 0.2)"
      ],
      "metadata": {
        "id": "X4qoLT63_Q4B"
      },
      "execution_count": 38,
      "outputs": []
    },
    {
      "cell_type": "code",
      "source": [
        "# my_log = pd.read_csv('log.csv',sep=';')\n",
        "# my_log"
      ],
      "metadata": {
        "id": "yGNPy8I5gszr"
      },
      "execution_count": 39,
      "outputs": []
    },
    {
      "cell_type": "code",
      "source": [
        "# plot dos gráficos\n",
        "count = 1\n",
        "for BS in BATCH_SIZE:\n",
        "  for LR in LEARN_RATE:\n",
        "    for OT in OTMIZADORES:\n",
        "      for DO in DROPOUT:\n",
        "        print(\"Iteração \"+str(count))\n",
        "        count+=1\n",
        "        \n",
        "        history, model1, ra_val, scores, csv_logger = train_model(EMBEDDING_DIMENSION, BS, EPOCHS, LR, OT, DO)\n",
        "\n",
        "        #\n",
        "        y_predito = model1.predict(X_TEST).round()\n",
        "        y_gabarito = Y_TEST\n",
        "        \n",
        "        # Parâmetros\n",
        "        # rede base otimizador acuracia val_loss learning_rate dropout batch_size roc_curve train_resume confusion_matrix\n",
        "        NOME_REDE = REDE\n",
        "        NOME_BASE = BASE_NAME\n",
        "        NOME_OTIMIZADOR = OT\n",
        "        ACURACIA = scores[1]\n",
        "        LOSS = scores[0] \n",
        "        LEARNING_RATE = LR\n",
        "        DROPOUT_RATE = DO\n",
        "        BATCH = BS\n",
        "        ROC_CURVE = json.dumps({\n",
        "            \"false_positive_rate\": list(ra_val.false_positive_rate),\n",
        "            \"true_positive_rate\": list(ra_val.true_positive_rate),\n",
        "            \"score\": ra_val.score})\n",
        "        TRAIN_RESUME = json.dumps(pd.read_csv('log.csv',sep=';').to_dict()) \n",
        "        \n",
        "        confusion = confusion_matrix(y_gabarito, y_predito)\n",
        "        CONFUSION_MATRIX = json.dumps({\n",
        "            \"00\": int(confusion[0][0]),\n",
        "            \"01\": int(confusion[0][1]),\n",
        "            \"10\": int(confusion[1][0]),\n",
        "            \"11\": int(confusion[1][1])\n",
        "        })\n",
        "\n",
        "        EPOCHS = len(history.history['val_loss'])\n",
        "        RANK = ACURACIA/LOSS\n",
        " \n",
        "        # Salvando resultado do modelo\n",
        "        registro_resultado = {resultados.columns[0]: NOME_REDE, \n",
        "                              resultados.columns[1]: NOME_BASE, \n",
        "                              resultados.columns[2]: NOME_OTIMIZADOR,\n",
        "                              resultados.columns[3]: ACURACIA, \n",
        "                              resultados.columns[4]: LOSS,\n",
        "                              resultados.columns[5]: LEARNING_RATE,\n",
        "                              resultados.columns[6]: DROPOUT_RATE,\n",
        "                              resultados.columns[7]: BATCH,\n",
        "                              resultados.columns[8]: ROC_CURVE,\n",
        "                              resultados.columns[9]: TRAIN_RESUME,\n",
        "                              resultados.columns[10]: CONFUSION_MATRIX,\n",
        "                              resultados.columns[11]: EPOCHS,\n",
        "                              resultados.columns[12]: RANK,\n",
        "                            }\n",
        "\n",
        "        resultados = resultados.append(registro_resultado, ignore_index=True)"
      ],
      "metadata": {
        "id": "9YLL1kZTDzUG",
        "colab": {
          "base_uri": "https://localhost:8080/",
          "height": 1000
        },
        "outputId": "56ceed5b-c574-4aa5-d9f9-56b80a98fce7"
      },
      "execution_count": 40,
      "outputs": [
        {
          "output_type": "stream",
          "name": "stdout",
          "text": [
            "Iteração 1\n"
          ]
        },
        {
          "output_type": "error",
          "ename": "InvalidArgumentError",
          "evalue": "ignored",
          "traceback": [
            "\u001b[0;31m---------------------------------------------------------------------------\u001b[0m",
            "\u001b[0;31mInvalidArgumentError\u001b[0m                      Traceback (most recent call last)",
            "\u001b[0;32m<ipython-input-40-04375cca01a6>\u001b[0m in \u001b[0;36m<module>\u001b[0;34m()\u001b[0m\n\u001b[1;32m      8\u001b[0m         \u001b[0mcount\u001b[0m\u001b[0;34m+=\u001b[0m\u001b[0;36m1\u001b[0m\u001b[0;34m\u001b[0m\u001b[0;34m\u001b[0m\u001b[0m\n\u001b[1;32m      9\u001b[0m \u001b[0;34m\u001b[0m\u001b[0m\n\u001b[0;32m---> 10\u001b[0;31m         \u001b[0mhistory\u001b[0m\u001b[0;34m,\u001b[0m \u001b[0mmodel1\u001b[0m\u001b[0;34m,\u001b[0m \u001b[0mra_val\u001b[0m\u001b[0;34m,\u001b[0m \u001b[0mscores\u001b[0m\u001b[0;34m,\u001b[0m \u001b[0mcsv_logger\u001b[0m \u001b[0;34m=\u001b[0m \u001b[0mtrain_model\u001b[0m\u001b[0;34m(\u001b[0m\u001b[0mEMBEDDING_DIMENSION\u001b[0m\u001b[0;34m,\u001b[0m \u001b[0mBS\u001b[0m\u001b[0;34m,\u001b[0m \u001b[0mEPOCHS\u001b[0m\u001b[0;34m,\u001b[0m \u001b[0mLR\u001b[0m\u001b[0;34m,\u001b[0m \u001b[0mOT\u001b[0m\u001b[0;34m,\u001b[0m \u001b[0mDO\u001b[0m\u001b[0;34m)\u001b[0m\u001b[0;34m\u001b[0m\u001b[0;34m\u001b[0m\u001b[0m\n\u001b[0m\u001b[1;32m     11\u001b[0m \u001b[0;34m\u001b[0m\u001b[0m\n\u001b[1;32m     12\u001b[0m         \u001b[0;31m#\u001b[0m\u001b[0;34m\u001b[0m\u001b[0;34m\u001b[0m\u001b[0;34m\u001b[0m\u001b[0m\n",
            "\u001b[0;32m<ipython-input-37-5047d93bf1bf>\u001b[0m in \u001b[0;36mtrain_model\u001b[0;34m(embedding_dimen, batch_size, epochs, learning_rate, optimizer, dropout_rate)\u001b[0m\n\u001b[1;32m     12\u001b[0m     \u001b[0mearly_stop\u001b[0m \u001b[0;34m=\u001b[0m \u001b[0mEarlyStopping\u001b[0m\u001b[0;34m(\u001b[0m\u001b[0mmonitor\u001b[0m \u001b[0;34m=\u001b[0m \u001b[0;34m\"val_loss\"\u001b[0m\u001b[0;34m,\u001b[0m \u001b[0mmode\u001b[0m \u001b[0;34m=\u001b[0m \u001b[0;34m\"min\"\u001b[0m\u001b[0;34m,\u001b[0m \u001b[0mverbose\u001b[0m \u001b[0;34m=\u001b[0m \u001b[0;36m0\u001b[0m\u001b[0;34m,\u001b[0m \u001b[0mpatience\u001b[0m \u001b[0;34m=\u001b[0m \u001b[0;36m1\u001b[0m\u001b[0;34m)\u001b[0m\u001b[0;34m\u001b[0m\u001b[0;34m\u001b[0m\u001b[0m\n\u001b[1;32m     13\u001b[0m \u001b[0;34m\u001b[0m\u001b[0m\n\u001b[0;32m---> 14\u001b[0;31m     \u001b[0mhistory\u001b[0m \u001b[0;34m=\u001b[0m \u001b[0mmodel\u001b[0m\u001b[0;34m.\u001b[0m\u001b[0mfit\u001b[0m\u001b[0;34m(\u001b[0m\u001b[0mX_TRAIN\u001b[0m\u001b[0;34m,\u001b[0m \u001b[0mY_TRAIN\u001b[0m\u001b[0;34m,\u001b[0m \u001b[0mbatch_size\u001b[0m\u001b[0;34m=\u001b[0m\u001b[0mbatch_size\u001b[0m\u001b[0;34m,\u001b[0m \u001b[0mepochs\u001b[0m\u001b[0;34m=\u001b[0m\u001b[0mepochs\u001b[0m\u001b[0;34m,\u001b[0m \u001b[0mvalidation_data\u001b[0m\u001b[0;34m=\u001b[0m\u001b[0;34m(\u001b[0m\u001b[0mX_VAL\u001b[0m\u001b[0;34m,\u001b[0m \u001b[0mY_VAL\u001b[0m\u001b[0;34m)\u001b[0m\u001b[0;34m,\u001b[0m \u001b[0mverbose\u001b[0m\u001b[0;34m=\u001b[0m\u001b[0;36m0\u001b[0m\u001b[0;34m,\u001b[0m \u001b[0muse_multiprocessing\u001b[0m\u001b[0;34m=\u001b[0m\u001b[0;32mTrue\u001b[0m\u001b[0;34m,\u001b[0m  \u001b[0mcallbacks\u001b[0m \u001b[0;34m=\u001b[0m \u001b[0;34m[\u001b[0m\u001b[0mra_val\u001b[0m\u001b[0;34m,\u001b[0m \u001b[0mcsv_logger\u001b[0m\u001b[0;34m,\u001b[0m \u001b[0mearly_stop\u001b[0m\u001b[0;34m]\u001b[0m\u001b[0;34m)\u001b[0m\u001b[0;34m\u001b[0m\u001b[0;34m\u001b[0m\u001b[0m\n\u001b[0m\u001b[1;32m     15\u001b[0m \u001b[0;34m\u001b[0m\u001b[0m\n\u001b[1;32m     16\u001b[0m     \u001b[0mscores\u001b[0m \u001b[0;34m=\u001b[0m \u001b[0mmodel\u001b[0m\u001b[0;34m.\u001b[0m\u001b[0mevaluate\u001b[0m\u001b[0;34m(\u001b[0m\u001b[0mX_TEST\u001b[0m\u001b[0;34m,\u001b[0m \u001b[0mY_TEST\u001b[0m\u001b[0;34m,\u001b[0m \u001b[0mverbose\u001b[0m\u001b[0;34m=\u001b[0m\u001b[0;36m0\u001b[0m\u001b[0;34m)\u001b[0m\u001b[0;34m\u001b[0m\u001b[0;34m\u001b[0m\u001b[0m\n",
            "\u001b[0;32m/usr/local/lib/python3.7/dist-packages/keras/utils/traceback_utils.py\u001b[0m in \u001b[0;36merror_handler\u001b[0;34m(*args, **kwargs)\u001b[0m\n\u001b[1;32m     65\u001b[0m     \u001b[0;32mexcept\u001b[0m \u001b[0mException\u001b[0m \u001b[0;32mas\u001b[0m \u001b[0me\u001b[0m\u001b[0;34m:\u001b[0m  \u001b[0;31m# pylint: disable=broad-except\u001b[0m\u001b[0;34m\u001b[0m\u001b[0;34m\u001b[0m\u001b[0m\n\u001b[1;32m     66\u001b[0m       \u001b[0mfiltered_tb\u001b[0m \u001b[0;34m=\u001b[0m \u001b[0m_process_traceback_frames\u001b[0m\u001b[0;34m(\u001b[0m\u001b[0me\u001b[0m\u001b[0;34m.\u001b[0m\u001b[0m__traceback__\u001b[0m\u001b[0;34m)\u001b[0m\u001b[0;34m\u001b[0m\u001b[0;34m\u001b[0m\u001b[0m\n\u001b[0;32m---> 67\u001b[0;31m       \u001b[0;32mraise\u001b[0m \u001b[0me\u001b[0m\u001b[0;34m.\u001b[0m\u001b[0mwith_traceback\u001b[0m\u001b[0;34m(\u001b[0m\u001b[0mfiltered_tb\u001b[0m\u001b[0;34m)\u001b[0m \u001b[0;32mfrom\u001b[0m \u001b[0;32mNone\u001b[0m\u001b[0;34m\u001b[0m\u001b[0;34m\u001b[0m\u001b[0m\n\u001b[0m\u001b[1;32m     68\u001b[0m     \u001b[0;32mfinally\u001b[0m\u001b[0;34m:\u001b[0m\u001b[0;34m\u001b[0m\u001b[0;34m\u001b[0m\u001b[0m\n\u001b[1;32m     69\u001b[0m       \u001b[0;32mdel\u001b[0m \u001b[0mfiltered_tb\u001b[0m\u001b[0;34m\u001b[0m\u001b[0;34m\u001b[0m\u001b[0m\n",
            "\u001b[0;32m/usr/local/lib/python3.7/dist-packages/tensorflow/python/eager/execute.py\u001b[0m in \u001b[0;36mquick_execute\u001b[0;34m(op_name, num_outputs, inputs, attrs, ctx, name)\u001b[0m\n\u001b[1;32m     53\u001b[0m     \u001b[0mctx\u001b[0m\u001b[0;34m.\u001b[0m\u001b[0mensure_initialized\u001b[0m\u001b[0;34m(\u001b[0m\u001b[0;34m)\u001b[0m\u001b[0;34m\u001b[0m\u001b[0;34m\u001b[0m\u001b[0m\n\u001b[1;32m     54\u001b[0m     tensors = pywrap_tfe.TFE_Py_Execute(ctx._handle, device_name, op_name,\n\u001b[0;32m---> 55\u001b[0;31m                                         inputs, attrs, num_outputs)\n\u001b[0m\u001b[1;32m     56\u001b[0m   \u001b[0;32mexcept\u001b[0m \u001b[0mcore\u001b[0m\u001b[0;34m.\u001b[0m\u001b[0m_NotOkStatusException\u001b[0m \u001b[0;32mas\u001b[0m \u001b[0me\u001b[0m\u001b[0;34m:\u001b[0m\u001b[0;34m\u001b[0m\u001b[0;34m\u001b[0m\u001b[0m\n\u001b[1;32m     57\u001b[0m     \u001b[0;32mif\u001b[0m \u001b[0mname\u001b[0m \u001b[0;32mis\u001b[0m \u001b[0;32mnot\u001b[0m \u001b[0;32mNone\u001b[0m\u001b[0;34m:\u001b[0m\u001b[0;34m\u001b[0m\u001b[0;34m\u001b[0m\u001b[0m\n",
            "\u001b[0;31mInvalidArgumentError\u001b[0m: Graph execution error:\n\nDetected at node 'sequential_1/embedding_1/embedding_lookup' defined at (most recent call last):\n    File \"/usr/lib/python3.7/runpy.py\", line 193, in _run_module_as_main\n      \"__main__\", mod_spec)\n    File \"/usr/lib/python3.7/runpy.py\", line 85, in _run_code\n      exec(code, run_globals)\n    File \"/usr/local/lib/python3.7/dist-packages/ipykernel_launcher.py\", line 16, in <module>\n      app.launch_new_instance()\n    File \"/usr/local/lib/python3.7/dist-packages/traitlets/config/application.py\", line 846, in launch_instance\n      app.start()\n    File \"/usr/local/lib/python3.7/dist-packages/ipykernel/kernelapp.py\", line 499, in start\n      self.io_loop.start()\n    File \"/usr/local/lib/python3.7/dist-packages/tornado/platform/asyncio.py\", line 132, in start\n      self.asyncio_loop.run_forever()\n    File \"/usr/lib/python3.7/asyncio/base_events.py\", line 541, in run_forever\n      self._run_once()\n    File \"/usr/lib/python3.7/asyncio/base_events.py\", line 1786, in _run_once\n      handle._run()\n    File \"/usr/lib/python3.7/asyncio/events.py\", line 88, in _run\n      self._context.run(self._callback, *self._args)\n    File \"/usr/local/lib/python3.7/dist-packages/tornado/ioloop.py\", line 758, in _run_callback\n      ret = callback()\n    File \"/usr/local/lib/python3.7/dist-packages/tornado/stack_context.py\", line 300, in null_wrapper\n      return fn(*args, **kwargs)\n    File \"/usr/local/lib/python3.7/dist-packages/zmq/eventloop/zmqstream.py\", line 661, in <lambda>\n      self.io_loop.add_callback(lambda: self._handle_events(self.socket, 0))\n    File \"/usr/local/lib/python3.7/dist-packages/zmq/eventloop/zmqstream.py\", line 577, in _handle_events\n      self._handle_recv()\n    File \"/usr/local/lib/python3.7/dist-packages/zmq/eventloop/zmqstream.py\", line 606, in _handle_recv\n      self._run_callback(callback, msg)\n    File \"/usr/local/lib/python3.7/dist-packages/zmq/eventloop/zmqstream.py\", line 556, in _run_callback\n      callback(*args, **kwargs)\n    File \"/usr/local/lib/python3.7/dist-packages/tornado/stack_context.py\", line 300, in null_wrapper\n      return fn(*args, **kwargs)\n    File \"/usr/local/lib/python3.7/dist-packages/ipykernel/kernelbase.py\", line 283, in dispatcher\n      return self.dispatch_shell(stream, msg)\n    File \"/usr/local/lib/python3.7/dist-packages/ipykernel/kernelbase.py\", line 233, in dispatch_shell\n      handler(stream, idents, msg)\n    File \"/usr/local/lib/python3.7/dist-packages/ipykernel/kernelbase.py\", line 399, in execute_request\n      user_expressions, allow_stdin)\n    File \"/usr/local/lib/python3.7/dist-packages/ipykernel/ipkernel.py\", line 208, in do_execute\n      res = shell.run_cell(code, store_history=store_history, silent=silent)\n    File \"/usr/local/lib/python3.7/dist-packages/ipykernel/zmqshell.py\", line 537, in run_cell\n      return super(ZMQInteractiveShell, self).run_cell(*args, **kwargs)\n    File \"/usr/local/lib/python3.7/dist-packages/IPython/core/interactiveshell.py\", line 2718, in run_cell\n      interactivity=interactivity, compiler=compiler, result=result)\n    File \"/usr/local/lib/python3.7/dist-packages/IPython/core/interactiveshell.py\", line 2822, in run_ast_nodes\n      if self.run_code(code, result):\n    File \"/usr/local/lib/python3.7/dist-packages/IPython/core/interactiveshell.py\", line 2882, in run_code\n      exec(code_obj, self.user_global_ns, self.user_ns)\n    File \"<ipython-input-40-04375cca01a6>\", line 10, in <module>\n      history, model1, ra_val, scores, csv_logger = train_model(EMBEDDING_DIMENSION, BS, EPOCHS, LR, OT, DO)\n    File \"<ipython-input-37-5047d93bf1bf>\", line 14, in train_model\n      history = model.fit(X_TRAIN, Y_TRAIN, batch_size=batch_size, epochs=epochs, validation_data=(X_VAL, Y_VAL), verbose=0, use_multiprocessing=True,  callbacks = [ra_val, csv_logger, early_stop])\n    File \"/usr/local/lib/python3.7/dist-packages/keras/utils/traceback_utils.py\", line 64, in error_handler\n      return fn(*args, **kwargs)\n    File \"/usr/local/lib/python3.7/dist-packages/keras/engine/training.py\", line 1384, in fit\n      tmp_logs = self.train_function(iterator)\n    File \"/usr/local/lib/python3.7/dist-packages/keras/engine/training.py\", line 1021, in train_function\n      return step_function(self, iterator)\n    File \"/usr/local/lib/python3.7/dist-packages/keras/engine/training.py\", line 1010, in step_function\n      outputs = model.distribute_strategy.run(run_step, args=(data,))\n    File \"/usr/local/lib/python3.7/dist-packages/keras/engine/training.py\", line 1000, in run_step\n      outputs = model.train_step(data)\n    File \"/usr/local/lib/python3.7/dist-packages/keras/engine/training.py\", line 859, in train_step\n      y_pred = self(x, training=True)\n    File \"/usr/local/lib/python3.7/dist-packages/keras/utils/traceback_utils.py\", line 64, in error_handler\n      return fn(*args, **kwargs)\n    File \"/usr/local/lib/python3.7/dist-packages/keras/engine/base_layer.py\", line 1096, in __call__\n      outputs = call_fn(inputs, *args, **kwargs)\n    File \"/usr/local/lib/python3.7/dist-packages/keras/utils/traceback_utils.py\", line 92, in error_handler\n      return fn(*args, **kwargs)\n    File \"/usr/local/lib/python3.7/dist-packages/keras/engine/sequential.py\", line 374, in call\n      return super(Sequential, self).call(inputs, training=training, mask=mask)\n    File \"/usr/local/lib/python3.7/dist-packages/keras/engine/functional.py\", line 452, in call\n      inputs, training=training, mask=mask)\n    File \"/usr/local/lib/python3.7/dist-packages/keras/engine/functional.py\", line 589, in _run_internal_graph\n      outputs = node.layer(*args, **kwargs)\n    File \"/usr/local/lib/python3.7/dist-packages/keras/utils/traceback_utils.py\", line 64, in error_handler\n      return fn(*args, **kwargs)\n    File \"/usr/local/lib/python3.7/dist-packages/keras/engine/base_layer.py\", line 1096, in __call__\n      outputs = call_fn(inputs, *args, **kwargs)\n    File \"/usr/local/lib/python3.7/dist-packages/keras/utils/traceback_utils.py\", line 92, in error_handler\n      return fn(*args, **kwargs)\n    File \"/usr/local/lib/python3.7/dist-packages/keras/layers/embeddings.py\", line 197, in call\n      out = tf.nn.embedding_lookup(self.embeddings, inputs)\nNode: 'sequential_1/embedding_1/embedding_lookup'\nindices[3,6] = 9147 is not in [0, 9147)\n\t [[{{node sequential_1/embedding_1/embedding_lookup}}]] [Op:__inference_train_function_2749]"
          ]
        }
      ]
    },
    {
      "cell_type": "code",
      "source": [
        "resultados.head()"
      ],
      "metadata": {
        "id": "IyYXjusOASJm"
      },
      "execution_count": null,
      "outputs": []
    },
    {
      "cell_type": "code",
      "source": [
        "resultados.tail(36)"
      ],
      "metadata": {
        "id": "mUbhxhFeVe2J"
      },
      "execution_count": null,
      "outputs": []
    },
    {
      "cell_type": "code",
      "source": [
        "# Caso queira deletar uma linha use o código abaixo\n",
        "# Use a propriedade label para especificar o índice da linha\n",
        "#resultados = resultados.drop(labels=1, axis=0)\n",
        "#resultados = resultados.reset_index(drop=True)\n",
        "#resultados"
      ],
      "metadata": {
        "id": "nP3enYmss2v9"
      },
      "execution_count": null,
      "outputs": []
    },
    {
      "cell_type": "code",
      "source": [
        "# Salva arquivo de saída\n",
        "resultados.to_csv(PATH_ARQ_SAIDA)"
      ],
      "metadata": {
        "id": "y519ohA8u9jW"
      },
      "execution_count": null,
      "outputs": []
    },
    {
      "cell_type": "code",
      "source": [
        "tf.keras.utils.plot_model(model1, to_file='/meuarquivo.png', show_shapes=True)"
      ],
      "metadata": {
        "id": "Smimd6T9nPUg"
      },
      "execution_count": null,
      "outputs": []
    },
    {
      "cell_type": "code",
      "source": [
        "# Fazer a separação de Treinamento, Teste e validação \n",
        "  # Alterar todos os modelos para ler desse novo jeito\n",
        "# Ver NaiveBayes, colocar na tabela\n",
        "  # Falta salvar o treinamento no arquivo de resultados\n",
        "# Ver ShallowNet, colocar na tabela\n",
        "  # ler igual a tarefa1\n",
        "# Rever LSTM\n",
        "  # rever o foward e backward layer\n",
        "# Prioridade é fechar o Resultado ( Tabelas )\n",
        "  # Rodar tudo\n",
        "# Ajustar Tabelas ( embelezar )\n",
        "# Ajustar Graficos ( embelezar )\n",
        "# Ver BiLstm / Otmizador \n",
        "# Gerar e Salvar os Graficos \n",
        "# Escrever Resultados\n",
        "# Revisar Monografia\n",
        "# Preparar apresentação"
      ],
      "metadata": {
        "id": "KXhecZ-T4gvP"
      },
      "execution_count": null,
      "outputs": []
    },
    {
      "cell_type": "markdown",
      "source": [
        "grafico Acuracy b1  \n",
        "\t\tb1 cnn melhor\n",
        "\t\tb1 lstm melhor\n",
        "\t\t.\n",
        "\t\t.\n",
        "\n",
        "grafico Loss b1  \n",
        "\t\tb1 cnn melhor\n",
        "\t\tb1 lstm melhor\n",
        "\t\t.\n",
        "\t\t.\n",
        "\n",
        "grafico Acuracy b2 \n",
        "\t\tb2 cnn melhor\n",
        "\t\tb2 lstm melhor\n",
        "\t\t.\n",
        "\t\t.\n",
        "\n",
        "grafico Loss b2 \n",
        "\t\tb2 cnn melhor\n",
        "\t\tb2 lstm melhor\n",
        "\t\t.\n",
        "\t\t.\n",
        "\n",
        "grafico Acuracy b0\n",
        "\t\tbo cnn melhor\n",
        "\t\tb0 lstm melhor\n",
        "\n",
        "grafico Loss b0\n",
        "\t\tb0 cnn melhor\n",
        "\t\tb0 lstm melhor\n",
        "\t\t.\n",
        "\t\t.\n"
      ],
      "metadata": {
        "id": "60WPEwEam0mw"
      }
    },
    {
      "cell_type": "code",
      "source": [
        ""
      ],
      "metadata": {
        "id": "NqUMo2YGm0Uw"
      },
      "execution_count": null,
      "outputs": []
    }
  ]
}