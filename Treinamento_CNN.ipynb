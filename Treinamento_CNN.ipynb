{
  "nbformat": 4,
  "nbformat_minor": 0,
  "metadata": {
    "colab": {
      "name": " Treinamento_CNN.ipynb",
      "provenance": [],
      "include_colab_link": true
    },
    "kernelspec": {
      "name": "python3",
      "display_name": "Python 3"
    },
    "language_info": {
      "name": "python"
    },
    "accelerator": "GPU"
  },
  "cells": [
    {
      "cell_type": "markdown",
      "metadata": {
        "id": "view-in-github",
        "colab_type": "text"
      },
      "source": [
        "<a href=\"https://colab.research.google.com/github/LuanPCunha/TCC/blob/main/Treinamento_CNN.ipynb\" target=\"_parent\"><img src=\"https://colab.research.google.com/assets/colab-badge.svg\" alt=\"Open In Colab\"/></a>"
      ]
    },
    {
      "cell_type": "markdown",
      "source": [
        "# Downloads e imports"
      ],
      "metadata": {
        "id": "EvS_6l_yMUeH"
      }
    },
    {
      "cell_type": "code",
      "source": [
        "# !pip install tensorflow\n",
        "# !pip install keras"
      ],
      "metadata": {
        "id": "N5Vhr4_vECld"
      },
      "execution_count": 1,
      "outputs": []
    },
    {
      "cell_type": "code",
      "source": [
        "from google.colab import drive\n",
        "drive.mount('/content/drive')"
      ],
      "metadata": {
        "colab": {
          "base_uri": "https://localhost:8080/"
        },
        "id": "ptoQwAGEDQnl",
        "outputId": "06fcceca-bf26-46eb-a56b-ab88f172fb81"
      },
      "execution_count": 2,
      "outputs": [
        {
          "output_type": "stream",
          "name": "stdout",
          "text": [
            "Mounted at /content/drive\n"
          ]
        }
      ]
    },
    {
      "cell_type": "code",
      "source": [
        "import sklearn\n",
        "import numpy as np\n",
        "import pandas as pd\n",
        "from numpy import loadtxt\n",
        "import matplotlib.pyplot as plt\n",
        "from sklearn.model_selection import train_test_split\n",
        "\n",
        "import tensorflow as tf\n",
        "from tensorflow import keras\n",
        "from keras import optimizers\n",
        "from keras import layers\n",
        "from keras.layers import Dropout, Conv1D, MaxPooling1D, Flatten, Dense, SpatialDropout1D, BatchNormalization\n",
        "from keras.preprocessing.text import Tokenizer\n",
        "from keras.preprocessing.sequence import pad_sequences\n",
        "from tensorflow.keras.optimizers import schedules, Adam, Adadelta, SGD, RMSprop, Adagrad, Adamax, Nadam, Ftrl # Estamos usando só o Nadam\n",
        "from keras.models import Sequential\n",
        "from keras.layers.embeddings import Embedding\n",
        "\n",
        "from keras.callbacks import Callback\n",
        "from keras.callbacks import EarlyStopping, ModelCheckpoint, LearningRateScheduler,CSVLogger\n",
        "from sklearn.metrics import roc_auc_score\n",
        "\n",
        "from numpy.random import seed  \n",
        "tf.random.set_seed(2)"
      ],
      "metadata": {
        "id": "OeOYrHW9Bxs_"
      },
      "execution_count": 3,
      "outputs": []
    },
    {
      "cell_type": "code",
      "source": [
        "def tokenize(tweets_list):\n",
        "    tokenizer = Tokenizer()\n",
        "    tokenizer.fit_on_texts(tweets_list)\n",
        "    return tokenizer.texts_to_sequences(tweets_list), tokenizer"
      ],
      "metadata": {
        "id": "db4KNc_2Ixyu"
      },
      "execution_count": 4,
      "outputs": []
    },
    {
      "cell_type": "code",
      "source": [
        "def pad(text_tokenized, length=None):\n",
        "    return pad_sequences(text_tokenized, maxlen=length, padding='post')"
      ],
      "metadata": {
        "id": "pwcjgZd9I6AD"
      },
      "execution_count": 5,
      "outputs": []
    },
    {
      "cell_type": "code",
      "source": [
        "def preprocess(tweets_list, max_text_length):\n",
        "    print(max_text_length)\n",
        "    preprocess_tweets_list, tweets_list_tokenizer = tokenize(tweets_list)\n",
        "\n",
        "    preprocess_tweets_list = pad(preprocess_tweets_list, length=max_text_length)\n",
        "\n",
        "    return preprocess_tweets_list, tweets_list_tokenizer"
      ],
      "metadata": {
        "id": "fNMyJgcsI8AU"
      },
      "execution_count": 6,
      "outputs": []
    },
    {
      "cell_type": "code",
      "source": [
        "def logits_to_text(logits, tokenizer):\n",
        "    index_to_words = {id: word for word, id in tokenizer.word_index.items()}\n",
        "    index_to_words[0] = '<PAD>'\n",
        "\n",
        "    return ' '.join([index_to_words[prediction] for prediction in np.argmax(logits, 1)])"
      ],
      "metadata": {
        "id": "pX78imOBI9l8"
      },
      "execution_count": 7,
      "outputs": []
    },
    {
      "cell_type": "code",
      "source": [
        "# Plot de Gráficos\n",
        "\n",
        "def plot_accuracy(history, miny=None):\n",
        "  loss, accuracy, val_loss, val_accuracy = list(history.history.keys())\n",
        "  print(accuracy,val_accuracy,loss,val_loss)\n",
        "  acc = history.history[accuracy]\n",
        "  test_acc = history.history[val_accuracy]\n",
        "  epochs = range(len(acc))\n",
        "  plt.plot(epochs, acc)\n",
        "  plt.plot(epochs, test_acc)\n",
        "  if miny:\n",
        "    plt.ylim(miny, 1.0)\n",
        "  plt.legend(['train', 'test'], loc='upper left')\n",
        "  plt.title('accuracy') \n",
        "  plt.xlabel('epoch')\n",
        "  plt.show()\n",
        "  \n",
        "  loss = history.history[loss]\n",
        "  val_loss = history.history[val_loss]\n",
        "  epochs = range(len(loss))\n",
        "  plt.plot(epochs, loss)\n",
        "  plt.plot(epochs, val_loss)\n",
        "  if miny:\n",
        "    plt.ylim(miny, 1.0)\n",
        "  plt.legend(['train', 'test'], loc='upper left')\n",
        "  plt.title('loss') \n",
        "  plt.xlabel('epoch')\n",
        "  plt.show()"
      ],
      "metadata": {
        "id": "hTMVKvfRrQ9x"
      },
      "execution_count": 8,
      "outputs": []
    },
    {
      "cell_type": "code",
      "source": [
        "class RocAucEvaluation(Callback):\n",
        "    def __init__(self, validation_data=(), interval=1):\n",
        "        super(Callback, self).__init__()\n",
        "\n",
        "        self.interval = interval\n",
        "        self.X_val, self.y_val = validation_data\n",
        "\n",
        "    def on_epoch_end(self, epoch, logs={}):\n",
        "        if epoch % self.interval == 0:\n",
        "            y_pred = self.model.predict(self.X_val, verbose=0)\n",
        "            score = roc_auc_score(self.y_val, y_pred)\n",
        "            print(\"\\n ROC-AUC - epoch: {:d} - score: {:.6f}\".format(epoch+1, score))"
      ],
      "metadata": {
        "id": "DLBaKxGhrbRU"
      },
      "execution_count": 9,
      "outputs": []
    },
    {
      "cell_type": "markdown",
      "source": [
        "# Carrega base"
      ],
      "metadata": {
        "id": "kMO-knebMcYH"
      }
    },
    {
      "cell_type": "code",
      "source": [
        "# Base1 Com StopWords\n",
        "PATH_BASE1_JUNTO_COM_DA_LEILA_BALANCEADA = \"/content/drive/MyDrive/TCC/dados/processadas/balanceadas/Base1JuntaHateENotHateDaLeila_balanceada.csv\"\n",
        "#MATRIZ_CBOW_300_BASE_1 = loadtxt(\"/content/drive/MyDrive/TCC/dados/word_embeddings/Matriz_Base1JuntaHateENotHateDaLeila_balanceada_CBOW300.CSV\", delimiter=',')\n",
        "\n",
        "# Base2 Sem StopWords\n",
        "PATH_BASE2_LEILA_LIMPISSIMA_BALANCEADA = \"/content/drive/MyDrive/TCC/dados/processadas/balanceadas/Base2_maior4_menor25_limpissima_balanceada.csv\"\n",
        "#MATRIZ_CBOW_300_BASE_2_LEILA = loadtxt(\"/content/drive/MyDrive/TCC/dados/word_embeddings/Matriz_Base2_maior4_menor25_limpissima_balanceada_CBOW300.CSV\", delimiter=',')\n",
        "\n",
        "PATH_BASE_1_CLASSIFICADA_BALANCEADA = r\"/content/drive/MyDrive/TCC/dados/processadas/balanceadas/Base1_classificada_balanceada.csv\" #entrada\n",
        "\n",
        "PATH_BASE_2_CLASSIFICADA_BALANCEADA = r\"/content/drive/MyDrive/TCC/dados/processadas/balanceadas/Base2_classificada_balanceada.csv\" #entrada\n",
        "MATRIZ_CBOW_300_BASE_2 = loadtxt(\"/content/drive/MyDrive/TCC/dados/word_embeddings/Matriz_Base2_classificada_balanceada_CBOW300.csv\", delimiter=',') #saida"
      ],
      "metadata": {
        "id": "xf_v4U5DDfU8"
      },
      "execution_count": 10,
      "outputs": []
    },
    {
      "cell_type": "markdown",
      "source": [
        "# Execução modelo"
      ],
      "metadata": {
        "id": "W9pdFxE7Ml6H"
      }
    },
    {
      "cell_type": "code",
      "source": [
        "tweets = pd.read_csv(PATH_BASE_2_CLASSIFICADA_BALANCEADA, index_col=0)\n",
        "text_column = tweets['text']\n",
        "text_column"
      ],
      "metadata": {
        "id": "7wJXwK7jCkyx",
        "outputId": "77e08091-1802-4d24-d4a5-afe6b6edded1",
        "colab": {
          "base_uri": "https://localhost:8080/"
        }
      },
      "execution_count": 11,
      "outputs": [
        {
          "output_type": "execute_result",
          "data": {
            "text/plain": [
              "0        retwet bahia fazer sendo governada pt sei baia...\n",
              "1        k imagine atitude mental negativa f idiota fec...\n",
              "2        general heleno é bolsonaro rosna late late lat...\n",
              "3        alan ser cara pau achar havendo ruptura nesse ...\n",
              "4        canalhascomunistas caçarão chapa presidencialn...\n",
              "                               ...                        \n",
              "10569               af hein amiga mandar outro número mail\n",
              "10570    egoísmo é grande parte produto sociedade émile...\n",
              "10571    abençoado novo linda querida obrigada carinho ...\n",
              "10572                              leva gente amorzinhos d\n",
              "10573                                   k k ata meia sonsa\n",
              "Name: text, Length: 10574, dtype: object"
            ]
          },
          "metadata": {},
          "execution_count": 11
        }
      ]
    },
    {
      "cell_type": "code",
      "source": [
        "# Pega a média de caracteres dos tweets de toda a base\n",
        "max_text_length = int(text_column.apply(lambda x: len(str(x).split(' '))).max())\n",
        "max_text_length"
      ],
      "metadata": {
        "id": "ud3ADezRSHtI",
        "outputId": "88ebe6fc-32aa-4316-ac30-8218b3123140",
        "colab": {
          "base_uri": "https://localhost:8080/"
        }
      },
      "execution_count": 12,
      "outputs": [
        {
          "output_type": "execute_result",
          "data": {
            "text/plain": [
              "55"
            ]
          },
          "metadata": {},
          "execution_count": 12
        }
      ]
    },
    {
      "cell_type": "code",
      "execution_count": 13,
      "metadata": {
        "colab": {
          "base_uri": "https://localhost:8080/"
        },
        "id": "UxNdO2PW2E5a",
        "outputId": "89e362ce-1751-4384-bcac-e6832e2e53d7"
      },
      "outputs": [
        {
          "output_type": "stream",
          "name": "stdout",
          "text": [
            "None\n",
            "Vocabulary size: 19043\n"
          ]
        }
      ],
      "source": [
        "output_label = tweets['label']\n",
        "input_data, text_tokenizer = preprocess(text_column, None)\n",
        "    \n",
        "text_vocab_size = len(text_tokenizer.word_index)\n",
        "print(\"Vocabulary size:\", text_vocab_size)"
      ]
    },
    {
      "cell_type": "code",
      "source": [
        "# parametros:\n",
        "BATCH_SIZE = 64\n",
        "EPOCHS = 50\n",
        "VAL_AND_TST_SIZE = 0.2\n",
        "LEARN_RATE = 0.0001\n",
        "# ******\n",
        "BETA_1 = 0.09\n",
        "BETA_2 = 0.0999\n",
        "EPSILON = 1e-07\n",
        "# *****\n",
        "EMBEDDING_DIMENSION = 300  \n",
        "MAX_TEXT_SIZE = max_text_length \n",
        "VOCAB_SIZE = text_vocab_size\n",
        "# ****\n"
      ],
      "metadata": {
        "id": "yBGbbGdfL7ps"
      },
      "execution_count": 14,
      "outputs": []
    },
    {
      "cell_type": "code",
      "source": [
        "def optimize (learning_rate, beta_1, beta_2, epsilon):\n",
        "  \n",
        "  return Nadam(learning_rate=learning_rate, beta_1=beta_1, beta_2=beta_2, epsilon=epsilon, name=\"Nadam\")"
      ],
      "metadata": {
        "id": "bPL3sYgZ1h7j"
      },
      "execution_count": 15,
      "outputs": []
    },
    {
      "cell_type": "code",
      "source": [
        "# #optimizer = Adadelta(learning_rate=0.001, rho=0.95, epsilon=1e-07, name=\"Adadelta\") \n",
        "# #optimizer = SGD(learning_rate=0.01, momentum=0.0, nesterov=True, name=\"SGD\")\n",
        "# #optimizer = RMSprop(learning_rate=0.001,rho=0.9,momentum=0.0,epsilon=1e-07,centered=True,name=\"RMSprop\")\n",
        "# #optimizer = Adam(learning_rate=0.001, beta_1=0.9, beta_2=0.999, epsilon=1e-07, amsgrad=True, name=\"Adam\")\n",
        "# #optimizer = Adagrad(learning_rate=0.001, initial_accumulator_value=0.1, epsilon=1e-07, name=\"Adagrad\")\n",
        "# #optimizer = Adamax(learning_rate=0.001, beta_1=0.9, beta_2=0.999, epsilon=1e-07, name=\"Adamax\")\n",
        "# #optimizer = Nadam(learning_rate=0.001, beta_1=0.9, beta_2=0.999, epsilon=1e-07, name=\"Nadam\") # 96% Embedding Treinado /\n",
        "# #optimizer = Ftrl(learning_rate=0.001, learning_rate_power=-0.5, initial_accumulator_value=0.1, l1_regularization_strength=0.1, l2_regularization_strength=0.1, l2_shrinkage_regularization_strength=0.001, beta=0.0001, name=\"Ftrl\")"
      ],
      "metadata": {
        "id": "1x4MvEYPdC7q"
      },
      "execution_count": 16,
      "outputs": []
    },
    {
      "cell_type": "code",
      "source": [
        "def create_cnn (vocab_size, embedding_dimen, max_text_size ):\n",
        "\n",
        "  modelo = keras.Sequential([\n",
        "    keras.layers.Embedding(VOCAB_SIZE, EMBEDDING_DIMENSION, input_length=max_text_size),\n",
        "    # keras.layers.Embedding(input_dim=MATRIZ_CBOW_300_BASE_2.shape[0],\n",
        "                            # output_dim=MATRIZ_CBOW_300_BASE_2.shape[1],\n",
        "                            # weights=[MATRIZ_CBOW_300_BASE_2],\n",
        "                            # embeddings_initializer=keras.initializers.Constant(MATRIZ_CBOW_300_BASE_2),\n",
        "                            # input_length=max_text_size,\n",
        "                            # trainable=True),                         \n",
        "    keras.layers.Conv1D(10,3, activation=\"relu\"),\n",
        "    keras.layers.Flatten(input_shape=(max_text_size,)),\n",
        "    keras.layers.Dense(max_text_size, activation='relu'),\n",
        "    keras.layers.Dropout(0.1),\n",
        "    keras.layers.Dense(1, activation='sigmoid')\n",
        "    ])\n",
        "  \n",
        "  return modelo \n",
        "  "
      ],
      "metadata": {
        "id": "wKH2mHM5r8_6"
      },
      "execution_count": 17,
      "outputs": []
    },
    {
      "cell_type": "code",
      "source": [
        "def train_model(input_data, output_label, embedding_dimen, batch_size, epochs, validation_and_test_size):\n",
        "    \n",
        "    x_train, x_test, y_train, y_test = train_test_split(input_data, output_label, test_size=validation_and_test_size, random_state=42)\n",
        "\n",
        "    optimizer = optimize(LEARN_RATE, BETA_1, BETA_2, EPSILON)\n",
        "    \n",
        "    model = create_cnn(VOCAB_SIZE, EMBEDDING_DIMENSION, MAX_TEXT_SIZE)\n",
        "    model.summary()\n",
        "    # model.compile(loss=tf.keras.losses.SparseCategoricalCrossentropy(from_logits=False), optimizer=optimizer, metrics=['accuracy'])\n",
        "    model.compile(loss=tf.keras.losses.BinaryCrossentropy(), optimizer=optimizer, metrics=tf.keras.metrics.AUC(num_thresholds=2000))        \n",
        "    \n",
        "    ra_val = RocAucEvaluation(validation_data=(x_test, y_test), interval = 20)\n",
        "    early_stop = EarlyStopping(monitor = \"val_loss\", mode = \"min\", patience = 2, restore_best_weights=True)\n",
        "    csv_logger = CSVLogger('log.csv', append=False, separator=';')                                                                                        \n",
        "    \n",
        "    history = model.fit(x_train, y_train, batch_size=batch_size, epochs=epochs, validation_split = validation_and_test_size, verbose=2, use_multiprocessing=True,  callbacks = [ra_val,early_stop,csv_logger])\n",
        "    scores = model.evaluate(x_test, y_test, verbose=1)\n",
        "    \n",
        "    return history, model, x_test, y_test"
      ],
      "metadata": {
        "id": "wYnrq-34uZX5"
      },
      "execution_count": 58,
      "outputs": []
    },
    {
      "cell_type": "code",
      "source": [
        "# plot dos gráficos\n",
        "history, model1, x_test, y_test = train_model(input_data, output_label, EMBEDDING_DIMENSION, BATCH_SIZE, EPOCHS, VAL_AND_TST_SIZE)"
      ],
      "metadata": {
        "id": "9YLL1kZTDzUG",
        "outputId": "9c92381b-c0f1-4499-b67f-ceb9145e199c",
        "colab": {
          "base_uri": "https://localhost:8080/"
        }
      },
      "execution_count": 59,
      "outputs": [
        {
          "output_type": "stream",
          "name": "stdout",
          "text": [
            "Model: \"sequential_4\"\n",
            "_________________________________________________________________\n",
            " Layer (type)                Output Shape              Param #   \n",
            "=================================================================\n",
            " embedding_4 (Embedding)     (None, 55, 300)           5712900   \n",
            "                                                                 \n",
            " conv1d_4 (Conv1D)           (None, 53, 10)            9010      \n",
            "                                                                 \n",
            " flatten_4 (Flatten)         (None, 530)               0         \n",
            "                                                                 \n",
            " dense_8 (Dense)             (None, 55)                29205     \n",
            "                                                                 \n",
            " dropout_4 (Dropout)         (None, 55)                0         \n",
            "                                                                 \n",
            " dense_9 (Dense)             (None, 1)                 56        \n",
            "                                                                 \n",
            "=================================================================\n",
            "Total params: 5,751,171\n",
            "Trainable params: 5,751,171\n",
            "Non-trainable params: 0\n",
            "_________________________________________________________________\n",
            "Epoch 1/50\n",
            "\n",
            " ROC-AUC - epoch: 1 - score: 0.659587\n",
            "106/106 - 2s - loss: 0.6886 - auc_3: 0.5995 - val_loss: 0.6821 - val_auc_3: 0.6490 - 2s/epoch - 21ms/step\n",
            "Epoch 2/50\n",
            "106/106 - 1s - loss: 0.6715 - auc_3: 0.6516 - val_loss: 0.6650 - val_auc_3: 0.6563 - 633ms/epoch - 6ms/step\n",
            "Epoch 3/50\n",
            "106/106 - 1s - loss: 0.6543 - auc_3: 0.6687 - val_loss: 0.6520 - val_auc_3: 0.6708 - 619ms/epoch - 6ms/step\n",
            "Epoch 4/50\n",
            "106/106 - 1s - loss: 0.6354 - auc_3: 0.6993 - val_loss: 0.6358 - val_auc_3: 0.6995 - 620ms/epoch - 6ms/step\n",
            "Epoch 5/50\n",
            "106/106 - 1s - loss: 0.6076 - auc_3: 0.7429 - val_loss: 0.6080 - val_auc_3: 0.7413 - 644ms/epoch - 6ms/step\n",
            "Epoch 6/50\n",
            "106/106 - 1s - loss: 0.5646 - auc_3: 0.7996 - val_loss: 0.5673 - val_auc_3: 0.7929 - 614ms/epoch - 6ms/step\n",
            "Epoch 7/50\n",
            "106/106 - 1s - loss: 0.5051 - auc_3: 0.8615 - val_loss: 0.5149 - val_auc_3: 0.8513 - 724ms/epoch - 7ms/step\n",
            "Epoch 8/50\n",
            "106/106 - 1s - loss: 0.4386 - auc_3: 0.9097 - val_loss: 0.4602 - val_auc_3: 0.8832 - 724ms/epoch - 7ms/step\n",
            "Epoch 9/50\n",
            "106/106 - 1s - loss: 0.3683 - auc_3: 0.9414 - val_loss: 0.4071 - val_auc_3: 0.9107 - 615ms/epoch - 6ms/step\n",
            "Epoch 10/50\n",
            "106/106 - 1s - loss: 0.3148 - auc_3: 0.9543 - val_loss: 0.3682 - val_auc_3: 0.9232 - 637ms/epoch - 6ms/step\n",
            "Epoch 11/50\n",
            "106/106 - 1s - loss: 0.2715 - auc_3: 0.9641 - val_loss: 0.3435 - val_auc_3: 0.9295 - 709ms/epoch - 7ms/step\n",
            "Epoch 12/50\n",
            "106/106 - 1s - loss: 0.2429 - auc_3: 0.9696 - val_loss: 0.3250 - val_auc_3: 0.9352 - 622ms/epoch - 6ms/step\n",
            "Epoch 13/50\n",
            "106/106 - 1s - loss: 0.2223 - auc_3: 0.9731 - val_loss: 0.3139 - val_auc_3: 0.9393 - 650ms/epoch - 6ms/step\n",
            "Epoch 14/50\n",
            "106/106 - 1s - loss: 0.2068 - auc_3: 0.9757 - val_loss: 0.3061 - val_auc_3: 0.9433 - 624ms/epoch - 6ms/step\n",
            "Epoch 15/50\n",
            "106/106 - 1s - loss: 0.1931 - auc_3: 0.9786 - val_loss: 0.3064 - val_auc_3: 0.9449 - 606ms/epoch - 6ms/step\n",
            "Epoch 16/50\n",
            "106/106 - 1s - loss: 0.1856 - auc_3: 0.9794 - val_loss: 0.2980 - val_auc_3: 0.9484 - 654ms/epoch - 6ms/step\n",
            "Epoch 17/50\n",
            "106/106 - 1s - loss: 0.1764 - auc_3: 0.9817 - val_loss: 0.2915 - val_auc_3: 0.9505 - 722ms/epoch - 7ms/step\n",
            "Epoch 18/50\n",
            "106/106 - 1s - loss: 0.1677 - auc_3: 0.9831 - val_loss: 0.2876 - val_auc_3: 0.9521 - 717ms/epoch - 7ms/step\n",
            "Epoch 19/50\n",
            "106/106 - 1s - loss: 0.1617 - auc_3: 0.9845 - val_loss: 0.2823 - val_auc_3: 0.9542 - 636ms/epoch - 6ms/step\n",
            "Epoch 20/50\n",
            "106/106 - 1s - loss: 0.1567 - auc_3: 0.9854 - val_loss: 0.2777 - val_auc_3: 0.9561 - 638ms/epoch - 6ms/step\n",
            "Epoch 21/50\n",
            "\n",
            " ROC-AUC - epoch: 21 - score: 0.967120\n",
            "106/106 - 1s - loss: 0.1510 - auc_3: 0.9862 - val_loss: 0.2754 - val_auc_3: 0.9580 - 759ms/epoch - 7ms/step\n",
            "Epoch 22/50\n",
            "106/106 - 1s - loss: 0.1445 - auc_3: 0.9877 - val_loss: 0.2716 - val_auc_3: 0.9592 - 643ms/epoch - 6ms/step\n",
            "Epoch 23/50\n",
            "106/106 - 1s - loss: 0.1397 - auc_3: 0.9881 - val_loss: 0.2696 - val_auc_3: 0.9607 - 625ms/epoch - 6ms/step\n",
            "Epoch 24/50\n",
            "106/106 - 1s - loss: 0.1347 - auc_3: 0.9887 - val_loss: 0.2666 - val_auc_3: 0.9613 - 710ms/epoch - 7ms/step\n",
            "Epoch 25/50\n",
            "106/106 - 1s - loss: 0.1290 - auc_3: 0.9899 - val_loss: 0.2648 - val_auc_3: 0.9630 - 644ms/epoch - 6ms/step\n",
            "Epoch 26/50\n",
            "106/106 - 1s - loss: 0.1268 - auc_3: 0.9903 - val_loss: 0.2686 - val_auc_3: 0.9627 - 704ms/epoch - 7ms/step\n",
            "Epoch 27/50\n",
            "106/106 - 1s - loss: 0.1213 - auc_3: 0.9906 - val_loss: 0.2587 - val_auc_3: 0.9650 - 627ms/epoch - 6ms/step\n",
            "Epoch 28/50\n",
            "106/106 - 1s - loss: 0.1168 - auc_3: 0.9915 - val_loss: 0.2605 - val_auc_3: 0.9656 - 698ms/epoch - 7ms/step\n",
            "Epoch 29/50\n",
            "106/106 - 1s - loss: 0.1115 - auc_3: 0.9920 - val_loss: 0.2563 - val_auc_3: 0.9664 - 639ms/epoch - 6ms/step\n",
            "Epoch 30/50\n",
            "106/106 - 1s - loss: 0.1085 - auc_3: 0.9924 - val_loss: 0.2544 - val_auc_3: 0.9673 - 711ms/epoch - 7ms/step\n",
            "Epoch 31/50\n",
            "106/106 - 1s - loss: 0.1045 - auc_3: 0.9930 - val_loss: 0.2534 - val_auc_3: 0.9684 - 668ms/epoch - 6ms/step\n",
            "Epoch 32/50\n",
            "106/106 - 1s - loss: 0.1024 - auc_3: 0.9932 - val_loss: 0.2466 - val_auc_3: 0.9694 - 714ms/epoch - 7ms/step\n",
            "Epoch 33/50\n",
            "106/106 - 1s - loss: 0.0957 - auc_3: 0.9940 - val_loss: 0.2484 - val_auc_3: 0.9697 - 614ms/epoch - 6ms/step\n",
            "Epoch 34/50\n",
            "106/106 - 1s - loss: 0.0952 - auc_3: 0.9940 - val_loss: 0.2439 - val_auc_3: 0.9705 - 634ms/epoch - 6ms/step\n",
            "Epoch 35/50\n",
            "106/106 - 1s - loss: 0.0902 - auc_3: 0.9948 - val_loss: 0.2418 - val_auc_3: 0.9717 - 696ms/epoch - 7ms/step\n",
            "Epoch 36/50\n",
            "106/106 - 1s - loss: 0.0891 - auc_3: 0.9945 - val_loss: 0.2406 - val_auc_3: 0.9717 - 1s/epoch - 11ms/step\n",
            "Epoch 37/50\n",
            "106/106 - 1s - loss: 0.0859 - auc_3: 0.9949 - val_loss: 0.2372 - val_auc_3: 0.9724 - 986ms/epoch - 9ms/step\n",
            "Epoch 38/50\n",
            "106/106 - 1s - loss: 0.0820 - auc_3: 0.9954 - val_loss: 0.2373 - val_auc_3: 0.9731 - 756ms/epoch - 7ms/step\n",
            "Epoch 39/50\n",
            "106/106 - 1s - loss: 0.0809 - auc_3: 0.9954 - val_loss: 0.2321 - val_auc_3: 0.9739 - 695ms/epoch - 7ms/step\n",
            "Epoch 40/50\n",
            "106/106 - 1s - loss: 0.0769 - auc_3: 0.9955 - val_loss: 0.2312 - val_auc_3: 0.9748 - 643ms/epoch - 6ms/step\n",
            "Epoch 41/50\n",
            "\n",
            " ROC-AUC - epoch: 41 - score: 0.979628\n",
            "106/106 - 1s - loss: 0.0747 - auc_3: 0.9959 - val_loss: 0.2313 - val_auc_3: 0.9745 - 879ms/epoch - 8ms/step\n",
            "Epoch 42/50\n",
            "106/106 - 1s - loss: 0.0724 - auc_3: 0.9962 - val_loss: 0.2285 - val_auc_3: 0.9748 - 613ms/epoch - 6ms/step\n",
            "Epoch 43/50\n",
            "106/106 - 1s - loss: 0.0701 - auc_3: 0.9962 - val_loss: 0.2259 - val_auc_3: 0.9756 - 703ms/epoch - 7ms/step\n",
            "Epoch 44/50\n",
            "106/106 - 1s - loss: 0.0667 - auc_3: 0.9966 - val_loss: 0.2229 - val_auc_3: 0.9760 - 637ms/epoch - 6ms/step\n",
            "Epoch 45/50\n",
            "106/106 - 1s - loss: 0.0648 - auc_3: 0.9969 - val_loss: 0.2225 - val_auc_3: 0.9768 - 638ms/epoch - 6ms/step\n",
            "Epoch 46/50\n",
            "106/106 - 1s - loss: 0.0612 - auc_3: 0.9971 - val_loss: 0.2235 - val_auc_3: 0.9772 - 625ms/epoch - 6ms/step\n",
            "Epoch 47/50\n",
            "106/106 - 1s - loss: 0.0608 - auc_3: 0.9972 - val_loss: 0.2172 - val_auc_3: 0.9778 - 710ms/epoch - 7ms/step\n",
            "Epoch 48/50\n",
            "106/106 - 1s - loss: 0.0573 - auc_3: 0.9977 - val_loss: 0.2155 - val_auc_3: 0.9780 - 614ms/epoch - 6ms/step\n",
            "Epoch 49/50\n",
            "106/106 - 1s - loss: 0.0563 - auc_3: 0.9972 - val_loss: 0.2146 - val_auc_3: 0.9786 - 644ms/epoch - 6ms/step\n",
            "Epoch 50/50\n",
            "106/106 - 1s - loss: 0.0540 - auc_3: 0.9979 - val_loss: 0.2126 - val_auc_3: 0.9790 - 624ms/epoch - 6ms/step\n",
            "67/67 [==============================] - 0s 3ms/step - loss: 0.1969 - auc_3: 0.9814\n"
          ]
        }
      ]
    },
    {
      "cell_type": "code",
      "source": [
        "# 67/67 [==============================] - 0s 3ms/step - loss: 0.5627 - accuracy: 0.7059 -> Com Embeddings\n",
        "# 67/67 [==============================] - 0s 3ms/step - loss: 0.4298 - accuracy: 0.8113 -> Sem Embeddings"
      ],
      "metadata": {
        "id": "75yZp3uxd4oK"
      },
      "execution_count": 60,
      "outputs": []
    },
    {
      "cell_type": "code",
      "source": [
        "plot_accuracy(history)"
      ],
      "metadata": {
        "id": "rHqQtBxJAMZY",
        "outputId": "93bf8336-2233-499c-fd33-3680a18d5be0",
        "colab": {
          "base_uri": "https://localhost:8080/",
          "height": 590
        }
      },
      "execution_count": 61,
      "outputs": [
        {
          "output_type": "stream",
          "name": "stdout",
          "text": [
            "auc_3 val_auc_3 loss val_loss\n"
          ]
        },
        {
          "output_type": "display_data",
          "data": {
            "text/plain": [
              "<Figure size 432x288 with 1 Axes>"
            ],
            "image/png": "[encoded data removed]"
          },
          "metadata": {
            "needs_background": "light"
          }
        },
        {
          "output_type": "display_data",
          "data": {
            "text/plain": [
              "<Figure size 432x288 with 1 Axes>"
            ],
            "image/png": "[encoded data removed]"
          },
          "metadata": {
            "needs_background": "light"
          }
        }
      ]
    },
    {
      "cell_type": "code",
      "source": [
        "his = pd.read_csv('log.csv',sep=';') \n",
        "his.head(55)"
      ],
      "metadata": {
        "id": "IcDWcBD_Ve4x",
        "outputId": "f7180bcb-2b23-413e-9fb7-8b56914e6d97",
        "colab": {
          "base_uri": "https://localhost:8080/",
          "height": 1000
        }
      },
      "execution_count": 62,
      "outputs": [
        {
          "output_type": "execute_result",
          "data": {
            "text/plain": [
              "    epoch     auc_3      loss  val_auc_3  val_loss\n",
              "0       0  0.599523  0.688603   0.648994  0.682079\n",
              "1       1  0.651606  0.671549   0.656258  0.665045\n",
              "2       2  0.668706  0.654299   0.670767  0.652001\n",
              "3       3  0.699260  0.635437   0.699463  0.635796\n",
              "4       4  0.742931  0.607583   0.741278  0.608047\n",
              "5       5  0.799588  0.564597   0.792867  0.567305\n",
              "6       6  0.861513  0.505146   0.851284  0.514884\n",
              "7       7  0.909708  0.438593   0.883187  0.460224\n",
              "8       8  0.941404  0.368338   0.910697  0.407107\n",
              "9       9  0.954258  0.314828   0.923155  0.368201\n",
              "10     10  0.964080  0.271513   0.929480  0.343459\n",
              "11     11  0.969566  0.242892   0.935191  0.325010\n",
              "12     12  0.973095  0.222343   0.939308  0.313939\n",
              "13     13  0.975665  0.206823   0.943325  0.306085\n",
              "14     14  0.978635  0.193138   0.944885  0.306352\n",
              "15     15  0.979433  0.185614   0.948444  0.298038\n",
              "16     16  0.981672  0.176369   0.950478  0.291537\n",
              "17     17  0.983069  0.167661   0.952099  0.287571\n",
              "18     18  0.984472  0.161735   0.954173  0.282319\n",
              "19     19  0.985416  0.156679   0.956129  0.277748\n",
              "20     20  0.986172  0.150972   0.958024  0.275367\n",
              "21     21  0.987699  0.144466   0.959174  0.271559\n",
              "22     22  0.988107  0.139667   0.960730  0.269636\n",
              "23     23  0.988690  0.134662   0.961313  0.266626\n",
              "24     24  0.989920  0.128959   0.962955  0.264821\n",
              "25     25  0.990258  0.126757   0.962732  0.268624\n",
              "26     26  0.990601  0.121286   0.965015  0.258729\n",
              "27     27  0.991540  0.116797   0.965649  0.260530\n",
              "28     28  0.991994  0.111542   0.966364  0.256271\n",
              "29     29  0.992399  0.108474   0.967318  0.254425\n",
              "30     30  0.993006  0.104492   0.968363  0.253420\n",
              "31     31  0.993167  0.102377   0.969376  0.246565\n",
              "32     32  0.994023  0.095720   0.969656  0.248401\n",
              "33     33  0.994005  0.095228   0.970451  0.243898\n",
              "34     34  0.994823  0.090179   0.971748  0.241820\n",
              "35     35  0.994461  0.089122   0.971731  0.240560\n",
              "36     36  0.994923  0.085944   0.972370  0.237165\n",
              "37     37  0.995363  0.081998   0.973099  0.237272\n",
              "38     38  0.995381  0.080896   0.973915  0.232095\n",
              "39     39  0.995519  0.076906   0.974791  0.231243\n",
              "40     40  0.995861  0.074695   0.974456  0.231296\n",
              "41     41  0.996239  0.072376   0.974831  0.228502\n",
              "42     42  0.996166  0.070112   0.975575  0.225897\n",
              "43     43  0.996625  0.066689   0.975983  0.222905\n",
              "44     44  0.996858  0.064793   0.976848  0.222477\n",
              "45     45  0.997117  0.061228   0.977242  0.223546\n",
              "46     46  0.997178  0.060763   0.977773  0.217209\n",
              "47     47  0.997667  0.057274   0.978039  0.215478\n",
              "48     48  0.997169  0.056264   0.978602  0.214638\n",
              "49     49  0.997856  0.053955   0.979031  0.212552"
            ],
            "text/html": [
              "\n",
              "  <div id=\"df-d3553e84-7553-4594-bee6-25ee249a9d23\">\n",
              "    <div class=\"colab-df-container\">\n",
              "      <div>\n",
              "<style scoped>\n",
              "    .dataframe tbody tr th:only-of-type {\n",
              "        vertical-align: middle;\n",
              "    }\n",
              "\n",
              "    .dataframe tbody tr th {\n",
              "        vertical-align: top;\n",
              "    }\n",
              "\n",
              "    .dataframe thead th {\n",
              "        text-align: right;\n",
              "    }\n",
              "</style>\n",
              "<table border=\"1\" class=\"dataframe\">\n",
              "  <thead>\n",
              "    <tr style=\"text-align: right;\">\n",
              "      <th></th>\n",
              "      <th>epoch</th>\n",
              "      <th>auc_3</th>\n",
              "      <th>loss</th>\n",
              "      <th>val_auc_3</th>\n",
              "      <th>val_loss</th>\n",
              "    </tr>\n",
              "  </thead>\n",
              "  <tbody>\n",
              "    <tr>\n",
              "      <th>0</th>\n",
              "      <td>0</td>\n",
              "      <td>0.599523</td>\n",
              "      <td>0.688603</td>\n",
              "      <td>0.648994</td>\n",
              "      <td>0.682079</td>\n",
              "    </tr>\n",
              "    <tr>\n",
              "      <th>1</th>\n",
              "      <td>1</td>\n",
              "      <td>0.651606</td>\n",
              "      <td>0.671549</td>\n",
              "      <td>0.656258</td>\n",
              "      <td>0.665045</td>\n",
              "    </tr>\n",
              "    <tr>\n",
              "      <th>2</th>\n",
              "      <td>2</td>\n",
              "      <td>0.668706</td>\n",
              "      <td>0.654299</td>\n",
              "      <td>0.670767</td>\n",
              "      <td>0.652001</td>\n",
              "    </tr>\n",
              "    <tr>\n",
              "      <th>3</th>\n",
              "      <td>3</td>\n",
              "      <td>0.699260</td>\n",
              "      <td>0.635437</td>\n",
              "      <td>0.699463</td>\n",
              "      <td>0.635796</td>\n",
              "    </tr>\n",
              "    <tr>\n",
              "      <th>4</th>\n",
              "      <td>4</td>\n",
              "      <td>0.742931</td>\n",
              "      <td>0.607583</td>\n",
              "      <td>0.741278</td>\n",
              "      <td>0.608047</td>\n",
              "    </tr>\n",
              "    <tr>\n",
              "      <th>5</th>\n",
              "      <td>5</td>\n",
              "      <td>0.799588</td>\n",
              "      <td>0.564597</td>\n",
              "      <td>0.792867</td>\n",
              "      <td>0.567305</td>\n",
              "    </tr>\n",
              "    <tr>\n",
              "      <th>6</th>\n",
              "      <td>6</td>\n",
              "      <td>0.861513</td>\n",
              "      <td>0.505146</td>\n",
              "      <td>0.851284</td>\n",
              "      <td>0.514884</td>\n",
              "    </tr>\n",
              "    <tr>\n",
              "      <th>7</th>\n",
              "      <td>7</td>\n",
              "      <td>0.909708</td>\n",
              "      <td>0.438593</td>\n",
              "      <td>0.883187</td>\n",
              "      <td>0.460224</td>\n",
              "    </tr>\n",
              "    <tr>\n",
              "      <th>8</th>\n",
              "      <td>8</td>\n",
              "      <td>0.941404</td>\n",
              "      <td>0.368338</td>\n",
              "      <td>0.910697</td>\n",
              "      <td>0.407107</td>\n",
              "    </tr>\n",
              "    <tr>\n",
              "      <th>9</th>\n",
              "      <td>9</td>\n",
              "      <td>0.954258</td>\n",
              "      <td>0.314828</td>\n",
              "      <td>0.923155</td>\n",
              "      <td>0.368201</td>\n",
              "    </tr>\n",
              "    <tr>\n",
              "      <th>10</th>\n",
              "      <td>10</td>\n",
              "      <td>0.964080</td>\n",
              "      <td>0.271513</td>\n",
              "      <td>0.929480</td>\n",
              "      <td>0.343459</td>\n",
              "    </tr>\n",
              "    <tr>\n",
              "      <th>11</th>\n",
              "      <td>11</td>\n",
              "      <td>0.969566</td>\n",
              "      <td>0.242892</td>\n",
              "      <td>0.935191</td>\n",
              "      <td>0.325010</td>\n",
              "    </tr>\n",
              "    <tr>\n",
              "      <th>12</th>\n",
              "      <td>12</td>\n",
              "      <td>0.973095</td>\n",
              "      <td>0.222343</td>\n",
              "      <td>0.939308</td>\n",
              "      <td>0.313939</td>\n",
              "    </tr>\n",
              "    <tr>\n",
              "      <th>13</th>\n",
              "      <td>13</td>\n",
              "      <td>0.975665</td>\n",
              "      <td>0.206823</td>\n",
              "      <td>0.943325</td>\n",
              "      <td>0.306085</td>\n",
              "    </tr>\n",
              "    <tr>\n",
              "      <th>14</th>\n",
              "      <td>14</td>\n",
              "      <td>0.978635</td>\n",
              "      <td>0.193138</td>\n",
              "      <td>0.944885</td>\n",
              "      <td>0.306352</td>\n",
              "    </tr>\n",
              "    <tr>\n",
              "      <th>15</th>\n",
              "      <td>15</td>\n",
              "      <td>0.979433</td>\n",
              "      <td>0.185614</td>\n",
              "      <td>0.948444</td>\n",
              "      <td>0.298038</td>\n",
              "    </tr>\n",
              "    <tr>\n",
              "      <th>16</th>\n",
              "      <td>16</td>\n",
              "      <td>0.981672</td>\n",
              "      <td>0.176369</td>\n",
              "      <td>0.950478</td>\n",
              "      <td>0.291537</td>\n",
              "    </tr>\n",
              "    <tr>\n",
              "      <th>17</th>\n",
              "      <td>17</td>\n",
              "      <td>0.983069</td>\n",
              "      <td>0.167661</td>\n",
              "      <td>0.952099</td>\n",
              "      <td>0.287571</td>\n",
              "    </tr>\n",
              "    <tr>\n",
              "      <th>18</th>\n",
              "      <td>18</td>\n",
              "      <td>0.984472</td>\n",
              "      <td>0.161735</td>\n",
              "      <td>0.954173</td>\n",
              "      <td>0.282319</td>\n",
              "    </tr>\n",
              "    <tr>\n",
              "      <th>19</th>\n",
              "      <td>19</td>\n",
              "      <td>0.985416</td>\n",
              "      <td>0.156679</td>\n",
              "      <td>0.956129</td>\n",
              "      <td>0.277748</td>\n",
              "    </tr>\n",
              "    <tr>\n",
              "      <th>20</th>\n",
              "      <td>20</td>\n",
              "      <td>0.986172</td>\n",
              "      <td>0.150972</td>\n",
              "      <td>0.958024</td>\n",
              "      <td>0.275367</td>\n",
              "    </tr>\n",
              "    <tr>\n",
              "      <th>21</th>\n",
              "      <td>21</td>\n",
              "      <td>0.987699</td>\n",
              "      <td>0.144466</td>\n",
              "      <td>0.959174</td>\n",
              "      <td>0.271559</td>\n",
              "    </tr>\n",
              "    <tr>\n",
              "      <th>22</th>\n",
              "      <td>22</td>\n",
              "      <td>0.988107</td>\n",
              "      <td>0.139667</td>\n",
              "      <td>0.960730</td>\n",
              "      <td>0.269636</td>\n",
              "    </tr>\n",
              "    <tr>\n",
              "      <th>23</th>\n",
              "      <td>23</td>\n",
              "      <td>0.988690</td>\n",
              "      <td>0.134662</td>\n",
              "      <td>0.961313</td>\n",
              "      <td>0.266626</td>\n",
              "    </tr>\n",
              "    <tr>\n",
              "      <th>24</th>\n",
              "      <td>24</td>\n",
              "      <td>0.989920</td>\n",
              "      <td>0.128959</td>\n",
              "      <td>0.962955</td>\n",
              "      <td>0.264821</td>\n",
              "    </tr>\n",
              "    <tr>\n",
              "      <th>25</th>\n",
              "      <td>25</td>\n",
              "      <td>0.990258</td>\n",
              "      <td>0.126757</td>\n",
              "      <td>0.962732</td>\n",
              "      <td>0.268624</td>\n",
              "    </tr>\n",
              "    <tr>\n",
              "      <th>26</th>\n",
              "      <td>26</td>\n",
              "      <td>0.990601</td>\n",
              "      <td>0.121286</td>\n",
              "      <td>0.965015</td>\n",
              "      <td>0.258729</td>\n",
              "    </tr>\n",
              "    <tr>\n",
              "      <th>27</th>\n",
              "      <td>27</td>\n",
              "      <td>0.991540</td>\n",
              "      <td>0.116797</td>\n",
              "      <td>0.965649</td>\n",
              "      <td>0.260530</td>\n",
              "    </tr>\n",
              "    <tr>\n",
              "      <th>28</th>\n",
              "      <td>28</td>\n",
              "      <td>0.991994</td>\n",
              "      <td>0.111542</td>\n",
              "      <td>0.966364</td>\n",
              "      <td>0.256271</td>\n",
              "    </tr>\n",
              "    <tr>\n",
              "      <th>29</th>\n",
              "      <td>29</td>\n",
              "      <td>0.992399</td>\n",
              "      <td>0.108474</td>\n",
              "      <td>0.967318</td>\n",
              "      <td>0.254425</td>\n",
              "    </tr>\n",
              "    <tr>\n",
              "      <th>30</th>\n",
              "      <td>30</td>\n",
              "      <td>0.993006</td>\n",
              "      <td>0.104492</td>\n",
              "      <td>0.968363</td>\n",
              "      <td>0.253420</td>\n",
              "    </tr>\n",
              "    <tr>\n",
              "      <th>31</th>\n",
              "      <td>31</td>\n",
              "      <td>0.993167</td>\n",
              "      <td>0.102377</td>\n",
              "      <td>0.969376</td>\n",
              "      <td>0.246565</td>\n",
              "    </tr>\n",
              "    <tr>\n",
              "      <th>32</th>\n",
              "      <td>32</td>\n",
              "      <td>0.994023</td>\n",
              "      <td>0.095720</td>\n",
              "      <td>0.969656</td>\n",
              "      <td>0.248401</td>\n",
              "    </tr>\n",
              "    <tr>\n",
              "      <th>33</th>\n",
              "      <td>33</td>\n",
              "      <td>0.994005</td>\n",
              "      <td>0.095228</td>\n",
              "      <td>0.970451</td>\n",
              "      <td>0.243898</td>\n",
              "    </tr>\n",
              "    <tr>\n",
              "      <th>34</th>\n",
              "      <td>34</td>\n",
              "      <td>0.994823</td>\n",
              "      <td>0.090179</td>\n",
              "      <td>0.971748</td>\n",
              "      <td>0.241820</td>\n",
              "    </tr>\n",
              "    <tr>\n",
              "      <th>35</th>\n",
              "      <td>35</td>\n",
              "      <td>0.994461</td>\n",
              "      <td>0.089122</td>\n",
              "      <td>0.971731</td>\n",
              "      <td>0.240560</td>\n",
              "    </tr>\n",
              "    <tr>\n",
              "      <th>36</th>\n",
              "      <td>36</td>\n",
              "      <td>0.994923</td>\n",
              "      <td>0.085944</td>\n",
              "      <td>0.972370</td>\n",
              "      <td>0.237165</td>\n",
              "    </tr>\n",
              "    <tr>\n",
              "      <th>37</th>\n",
              "      <td>37</td>\n",
              "      <td>0.995363</td>\n",
              "      <td>0.081998</td>\n",
              "      <td>0.973099</td>\n",
              "      <td>0.237272</td>\n",
              "    </tr>\n",
              "    <tr>\n",
              "      <th>38</th>\n",
              "      <td>38</td>\n",
              "      <td>0.995381</td>\n",
              "      <td>0.080896</td>\n",
              "      <td>0.973915</td>\n",
              "      <td>0.232095</td>\n",
              "    </tr>\n",
              "    <tr>\n",
              "      <th>39</th>\n",
              "      <td>39</td>\n",
              "      <td>0.995519</td>\n",
              "      <td>0.076906</td>\n",
              "      <td>0.974791</td>\n",
              "      <td>0.231243</td>\n",
              "    </tr>\n",
              "    <tr>\n",
              "      <th>40</th>\n",
              "      <td>40</td>\n",
              "      <td>0.995861</td>\n",
              "      <td>0.074695</td>\n",
              "      <td>0.974456</td>\n",
              "      <td>0.231296</td>\n",
              "    </tr>\n",
              "    <tr>\n",
              "      <th>41</th>\n",
              "      <td>41</td>\n",
              "      <td>0.996239</td>\n",
              "      <td>0.072376</td>\n",
              "      <td>0.974831</td>\n",
              "      <td>0.228502</td>\n",
              "    </tr>\n",
              "    <tr>\n",
              "      <th>42</th>\n",
              "      <td>42</td>\n",
              "      <td>0.996166</td>\n",
              "      <td>0.070112</td>\n",
              "      <td>0.975575</td>\n",
              "      <td>0.225897</td>\n",
              "    </tr>\n",
              "    <tr>\n",
              "      <th>43</th>\n",
              "      <td>43</td>\n",
              "      <td>0.996625</td>\n",
              "      <td>0.066689</td>\n",
              "      <td>0.975983</td>\n",
              "      <td>0.222905</td>\n",
              "    </tr>\n",
              "    <tr>\n",
              "      <th>44</th>\n",
              "      <td>44</td>\n",
              "      <td>0.996858</td>\n",
              "      <td>0.064793</td>\n",
              "      <td>0.976848</td>\n",
              "      <td>0.222477</td>\n",
              "    </tr>\n",
              "    <tr>\n",
              "      <th>45</th>\n",
              "      <td>45</td>\n",
              "      <td>0.997117</td>\n",
              "      <td>0.061228</td>\n",
              "      <td>0.977242</td>\n",
              "      <td>0.223546</td>\n",
              "    </tr>\n",
              "    <tr>\n",
              "      <th>46</th>\n",
              "      <td>46</td>\n",
              "      <td>0.997178</td>\n",
              "      <td>0.060763</td>\n",
              "      <td>0.977773</td>\n",
              "      <td>0.217209</td>\n",
              "    </tr>\n",
              "    <tr>\n",
              "      <th>47</th>\n",
              "      <td>47</td>\n",
              "      <td>0.997667</td>\n",
              "      <td>0.057274</td>\n",
              "      <td>0.978039</td>\n",
              "      <td>0.215478</td>\n",
              "    </tr>\n",
              "    <tr>\n",
              "      <th>48</th>\n",
              "      <td>48</td>\n",
              "      <td>0.997169</td>\n",
              "      <td>0.056264</td>\n",
              "      <td>0.978602</td>\n",
              "      <td>0.214638</td>\n",
              "    </tr>\n",
              "    <tr>\n",
              "      <th>49</th>\n",
              "      <td>49</td>\n",
              "      <td>0.997856</td>\n",
              "      <td>0.053955</td>\n",
              "      <td>0.979031</td>\n",
              "      <td>0.212552</td>\n",
              "    </tr>\n",
              "  </tbody>\n",
              "</table>\n",
              "</div>\n",
              "      <button class=\"colab-df-convert\" onclick=\"convertToInteractive('df-d3553e84-7553-4594-bee6-25ee249a9d23')\"\n",
              "              title=\"Convert this dataframe to an interactive table.\"\n",
              "              style=\"display:none;\">\n",
              "        \n",
              "  <svg xmlns=\"http://www.w3.org/2000/svg\" height=\"24px\"viewBox=\"0 0 24 24\"\n",
              "       width=\"24px\">\n",
              "    <path d=\"M0 0h24v24H0V0z\" fill=\"none\"/>\n",
              "    <path d=\"M18.56 5.44l.94 2.06.94-2.06 2.06-.94-2.06-.94-.94-2.06-.94 2.06-2.06.94zm-11 1L8.5 8.5l.94-2.06 2.06-.94-2.06-.94L8.5 2.5l-.94 2.06-2.06.94zm10 10l.94 2.06.94-2.06 2.06-.94-2.06-.94-.94-2.06-.94 2.06-2.06.94z\"/><path d=\"M17.41 7.96l-1.37-1.37c-.4-.4-.92-.59-1.43-.59-.52 0-1.04.2-1.43.59L10.3 9.45l-7.72 7.72c-.78.78-.78 2.05 0 2.83L4 21.41c.39.39.9.59 1.41.59.51 0 1.02-.2 1.41-.59l7.78-7.78 2.81-2.81c.8-.78.8-2.07 0-2.86zM5.41 20L4 18.59l7.72-7.72 1.47 1.35L5.41 20z\"/>\n",
              "  </svg>\n",
              "      </button>\n",
              "      \n",
              "  <style>\n",
              "    .colab-df-container {\n",
              "      display:flex;\n",
              "      flex-wrap:wrap;\n",
              "      gap: 12px;\n",
              "    }\n",
              "\n",
              "    .colab-df-convert {\n",
              "      background-color: #E8F0FE;\n",
              "      border: none;\n",
              "      border-radius: 50%;\n",
              "      cursor: pointer;\n",
              "      display: none;\n",
              "      fill: #1967D2;\n",
              "      height: 32px;\n",
              "      padding: 0 0 0 0;\n",
              "      width: 32px;\n",
              "    }\n",
              "\n",
              "    .colab-df-convert:hover {\n",
              "      background-color: #E2EBFA;\n",
              "      box-shadow: 0px 1px 2px rgba(60, 64, 67, 0.3), 0px 1px 3px 1px rgba(60, 64, 67, 0.15);\n",
              "      fill: #174EA6;\n",
              "    }\n",
              "\n",
              "    [theme=dark] .colab-df-convert {\n",
              "      background-color: #3B4455;\n",
              "      fill: #D2E3FC;\n",
              "    }\n",
              "\n",
              "    [theme=dark] .colab-df-convert:hover {\n",
              "      background-color: #434B5C;\n",
              "      box-shadow: 0px 1px 3px 1px rgba(0, 0, 0, 0.15);\n",
              "      filter: drop-shadow(0px 1px 2px rgba(0, 0, 0, 0.3));\n",
              "      fill: #FFFFFF;\n",
              "    }\n",
              "  </style>\n",
              "\n",
              "      <script>\n",
              "        const buttonEl =\n",
              "          document.querySelector('#df-d3553e84-7553-4594-bee6-25ee249a9d23 button.colab-df-convert');\n",
              "        buttonEl.style.display =\n",
              "          google.colab.kernel.accessAllowed ? 'block' : 'none';\n",
              "\n",
              "        async function convertToInteractive(key) {\n",
              "          const element = document.querySelector('#df-d3553e84-7553-4594-bee6-25ee249a9d23');\n",
              "          const dataTable =\n",
              "            await google.colab.kernel.invokeFunction('convertToInteractive',\n",
              "                                                     [key], {});\n",
              "          if (!dataTable) return;\n",
              "\n",
              "          const docLinkHtml = 'Like what you see? Visit the ' +\n",
              "            '<a target=\"_blank\" href=https://colab.research.google.com/notebooks/data_table.ipynb>data table notebook</a>'\n",
              "            + ' to learn more about interactive tables.';\n",
              "          element.innerHTML = '';\n",
              "          dataTable['output_type'] = 'display_data';\n",
              "          await google.colab.output.renderOutput(dataTable, element);\n",
              "          const docLink = document.createElement('div');\n",
              "          docLink.innerHTML = docLinkHtml;\n",
              "          element.appendChild(docLink);\n",
              "        }\n",
              "      </script>\n",
              "    </div>\n",
              "  </div>\n",
              "  "
            ]
          },
          "metadata": {},
          "execution_count": 62
        }
      ]
    },
    {
      "cell_type": "code",
      "source": [
        "y_prob = model1.predict(x_test) \n",
        "#y_labelpred = y_prob.argmax(axis=-1)\n",
        "print(y_prob)\n",
        "y_labelpred = y_prob.round()\n",
        "\n",
        "y_labeltrue=y_test"
      ],
      "metadata": {
        "id": "FR-idj87D4-N",
        "outputId": "5b03b806-47d5-4496-e984-53d187f61c5e",
        "colab": {
          "base_uri": "https://localhost:8080/"
        }
      },
      "execution_count": 63,
      "outputs": [
        {
          "output_type": "stream",
          "name": "stdout",
          "text": [
            "[[1.        ]\n",
            " [0.00267668]\n",
            " [0.05825845]\n",
            " ...\n",
            " [0.00663634]\n",
            " [1.        ]\n",
            " [0.03667284]]\n"
          ]
        }
      ]
    },
    {
      "cell_type": "code",
      "metadata": {
        "id": "rYpv7sUlaqPH",
        "colab": {
          "base_uri": "https://localhost:8080/",
          "height": 629
        },
        "outputId": "f1d10e48-9f54-4b54-e0ca-549b8872afea"
      },
      "source": [
        "from mlxtend.plotting import plot_confusion_matrix\n",
        "from sklearn.metrics import confusion_matrix\n",
        "import matplotlib.pyplot as plt\n",
        "\n",
        "classes = confusion_matrix(y_labeltrue,y_labelpred)\n",
        "\n",
        "fig,ax = plot_confusion_matrix(figsize=(11, 11),conf_mat=classes,\n",
        "                                colorbar=True,\n",
        "                                show_absolute=True,\n",
        "                                show_normed=True,\n",
        "                              )\n",
        "plt.show()"
      ],
      "execution_count": 64,
      "outputs": [
        {
          "output_type": "display_data",
          "data": {
            "text/plain": [
              "<Figure size 792x792 with 2 Axes>"
            ],
            "image/png": "[encoded data removed]"
          },
          "metadata": {
            "needs_background": "light"
          }
        }
      ]
    },
    {
      "cell_type": "code",
      "source": [
        "tf.keras.utils.plot_model(model1, to_file='/meuarquivo.png', show_shapes=True)"
      ],
      "metadata": {
        "id": "SqzyjKSXJ6Tq",
        "outputId": "c2653b1f-205a-4697-82f5-f30cba6e6df1",
        "colab": {
          "base_uri": "https://localhost:8080/",
          "height": 754
        }
      },
      "execution_count": 65,
      "outputs": [
        {
          "output_type": "execute_result",
          "data": {
            "text/plain": [
              "<IPython.core.display.Image object>"
            ],
            "image/png": "[encoded data removed]"
          },
          "metadata": {},
          "execution_count": 65
        }
      ]
    }
  ]
}