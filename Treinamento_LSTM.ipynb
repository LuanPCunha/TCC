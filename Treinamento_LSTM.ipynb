{
  "nbformat": 4,
  "nbformat_minor": 0,
  "metadata": {
    "colab": {
      "name": "Treinamento_LSTM.ipynb",
      "provenance": [],
      "include_colab_link": true
    },
    "kernelspec": {
      "name": "python3",
      "display_name": "Python 3"
    },
    "language_info": {
      "name": "python"
    },
    "accelerator": "GPU",
    "gpuClass": "standard"
  },
  "cells": [
    {
      "cell_type": "markdown",
      "metadata": {
        "id": "view-in-github",
        "colab_type": "text"
      },
      "source": [
        "<a href=\"https://colab.research.google.com/github/LuanPCunha/TCC/blob/main/Treinamento_LSTM.ipynb\" target=\"_parent\"><img src=\"https://colab.research.google.com/assets/colab-badge.svg\" alt=\"Open In Colab\"/></a>"
      ]
    },
    {
      "cell_type": "markdown",
      "source": [
        "# Downloads e imports"
      ],
      "metadata": {
        "id": "EvS_6l_yMUeH"
      }
    },
    {
      "cell_type": "code",
      "source": [
        "# !pip install tensorflow\n",
        "# !pip install keras"
      ],
      "metadata": {
        "id": "ZCHIFzERCiA1"
      },
      "execution_count": 1,
      "outputs": []
    },
    {
      "cell_type": "code",
      "source": [
        "from google.colab import drive\n",
        "drive.mount('/content/drive')"
      ],
      "metadata": {
        "colab": {
          "base_uri": "https://localhost:8080/"
        },
        "id": "ptoQwAGEDQnl",
        "outputId": "5ca08ffe-2265-4205-a35a-49f7dca20e25"
      },
      "execution_count": 2,
      "outputs": [
        {
          "output_type": "stream",
          "name": "stdout",
          "text": [
            "Mounted at /content/drive\n"
          ]
        }
      ]
    },
    {
      "cell_type": "code",
      "source": [
        "import json\n",
        "import sklearn\n",
        "import numpy as np\n",
        "import pandas as pd\n",
        "from numpy import loadtxt\n",
        "import matplotlib.pyplot as plt\n",
        "from sklearn.model_selection import train_test_split\n",
        "\n",
        "import tensorflow as tf\n",
        "from tensorflow import keras\n",
        "from keras import optimizers\n",
        "from keras import layers\n",
        "from keras.layers import Dropout, Conv1D, MaxPooling1D, Flatten, Dense, SpatialDropout1D, BatchNormalization\n",
        "from keras.preprocessing.text import Tokenizer\n",
        "from keras.preprocessing.sequence import pad_sequences\n",
        "from tensorflow.keras.optimizers import Adam, Adadelta, SGD, RMSprop, Adagrad, Adamax, Nadam, Ftrl\n",
        "from keras.models import Sequential\n",
        "from keras.layers.embeddings import Embedding\n",
        "\n",
        "from mlxtend.plotting import plot_confusion_matrix\n",
        "from keras.callbacks import Callback, ModelCheckpoint, CSVLogger\n",
        "from sklearn.metrics import roc_auc_score, roc_curve, confusion_matrix"
      ],
      "metadata": {
        "id": "OeOYrHW9Bxs_"
      },
      "execution_count": 3,
      "outputs": []
    },
    {
      "cell_type": "code",
      "source": [
        "def tokenize(tweets_list):\n",
        "    tokenizer = Tokenizer()\n",
        "    tokenizer.fit_on_texts(tweets_list)\n",
        "    return tokenizer.texts_to_sequences(tweets_list), tokenizer"
      ],
      "metadata": {
        "id": "db4KNc_2Ixyu"
      },
      "execution_count": 4,
      "outputs": []
    },
    {
      "cell_type": "code",
      "source": [
        "def pad(text_tokenized, length=None):\n",
        "    return pad_sequences(text_tokenized, maxlen=length, padding='post')"
      ],
      "metadata": {
        "id": "pwcjgZd9I6AD"
      },
      "execution_count": 5,
      "outputs": []
    },
    {
      "cell_type": "code",
      "source": [
        "def preprocess(tweets_list, max_text_length):\n",
        "    \n",
        "    preprocess_tweets_list, tweets_list_tokenizer = tokenize(tweets_list)\n",
        "\n",
        "    preprocess_tweets_list = pad(preprocess_tweets_list, length=max_text_length)\n",
        "\n",
        "    return preprocess_tweets_list, tweets_list_tokenizer"
      ],
      "metadata": {
        "id": "fNMyJgcsI8AU"
      },
      "execution_count": 6,
      "outputs": []
    },
    {
      "cell_type": "code",
      "source": [
        "def logits_to_text(logits, tokenizer):\n",
        "    index_to_words = {id: word for word, id in tokenizer.word_index.items()}\n",
        "    index_to_words[0] = '<PAD>'\n",
        "\n",
        "    return ' '.join([index_to_words[prediction] for prediction in np.argmax(logits, 1)])"
      ],
      "metadata": {
        "id": "pX78imOBI9l8"
      },
      "execution_count": 7,
      "outputs": []
    },
    {
      "cell_type": "code",
      "source": [
        "class RocAucEvaluation(Callback):\n",
        "    def __init__(self, validation_data=(), interval=1):\n",
        "        super(Callback, self).__init__()\n",
        "\n",
        "        self.interval = interval\n",
        "        self.X_val, self.y_val = validation_data\n",
        "\n",
        "    def on_epoch_end(self, epoch, logs={}):\n",
        "        if epoch % self.interval == 0:\n",
        "            y_pred = self.model.predict(self.X_val, verbose=0)\n",
        "            self.score = roc_auc_score(self.y_val, y_pred)\n",
        "            self.false_positive_rate, self.true_positive_rate, _ = roc_curve(self.y_val, y_pred)          "
      ],
      "metadata": {
        "id": "ZXRgKxhbDuJ-"
      },
      "execution_count": 8,
      "outputs": []
    },
    {
      "cell_type": "markdown",
      "source": [
        "# Carrega arquivo de saída (resultados)"
      ],
      "metadata": {
        "id": "rbA3XJK6kIrM"
      }
    },
    {
      "cell_type": "code",
      "source": [
        "# CONSTANTES DOS RESULTADOS\n",
        "REDE = 'LSTM'\n",
        "\n",
        "BASE_0 = 'BASE 0'\n",
        "BASE_1 = 'BASE 1'\n",
        "BASE_2 = 'BASE 2'\n",
        "\n",
        "# Caminho arquivo de saída\n",
        "PATH_ARQ_SAIDA = \"/content/drive/MyDrive/TCC/resultados/resultados.csv\"\n",
        "\n",
        "#  rede base otimizador acuracia val_loss learning_rate dropout batch_size roc_curve train_resume confusion_matrix\n",
        "resultados = pd.read_csv(PATH_ARQ_SAIDA, index_col=0)\n",
        "resultados.head()"
      ],
      "metadata": {
        "id": "wvPJKDAQnAUQ",
        "outputId": "710e2a83-68f1-43d3-ec4e-4ee0f77e8ab4",
        "colab": {
          "base_uri": "https://localhost:8080/",
          "height": 337
        }
      },
      "execution_count": 9,
      "outputs": [
        {
          "output_type": "execute_result",
          "data": {
            "text/plain": [
              "  rede    base otimizador  acuracia  val_loss  learning_rate  dropout  \\\n",
              "0  CNN  BASE 2      Nadam  0.938061  0.201470         0.0001      0.1   \n",
              "1  CNN  BASE 2      Nadam  0.933333  0.198454         0.0001      0.2   \n",
              "2  CNN  BASE 2      Nadam  0.939007  0.197918         0.0001      0.3   \n",
              "3  CNN  BASE 2    RMSProp  0.933333  0.215135         0.0001      0.1   \n",
              "4  CNN  BASE 2    RMSProp  0.932388  0.217581         0.0001      0.2   \n",
              "\n",
              "   batch_size                                          roc_curve  \\\n",
              "0          32  {\"false_positive_rate\": [0.0, 0.0, 0.0, 0.0, 0...   \n",
              "1          32  {\"false_positive_rate\": [0.0, 0.0, 0.0, 0.0, 0...   \n",
              "2          32  {\"false_positive_rate\": [0.0, 0.0, 0.0, 0.0, 0...   \n",
              "3          32  {\"false_positive_rate\": [0.0, 0.0, 0.0, 0.0, 0...   \n",
              "4          32  {\"false_positive_rate\": [0.0, 0.0, 0.0, 0.0, 0...   \n",
              "\n",
              "                                        train_resume  \\\n",
              "0  {\"epoch\": {\"0\": 0, \"1\": 1, \"2\": 2, \"3\": 3, \"4\"...   \n",
              "1  {\"epoch\": {\"0\": 0, \"1\": 1, \"2\": 2, \"3\": 3, \"4\"...   \n",
              "2  {\"epoch\": {\"0\": 0, \"1\": 1, \"2\": 2, \"3\": 3, \"4\"...   \n",
              "3  {\"epoch\": {\"0\": 0, \"1\": 1, \"2\": 2, \"3\": 3, \"4\"...   \n",
              "4  {\"epoch\": {\"0\": 0, \"1\": 1, \"2\": 2, \"3\": 3, \"4\"...   \n",
              "\n",
              "                              confusion_matrix  \n",
              "0  {\"00\": 1000, \"01\": 58, \"10\": 73, \"11\": 984}  \n",
              "1   {\"00\": 981, \"01\": 77, \"10\": 64, \"11\": 993}  \n",
              "2   {\"00\": 999, \"01\": 59, \"10\": 70, \"11\": 987}  \n",
              "3   {\"00\": 981, \"01\": 77, \"10\": 64, \"11\": 993}  \n",
              "4  {\"00\": 971, \"01\": 87, \"10\": 56, \"11\": 1001}  "
            ],
            "text/html": [
              "\n",
              "  <div id=\"df-37ab6baa-6d80-453f-b598-03b61b18669c\">\n",
              "    <div class=\"colab-df-container\">\n",
              "      <div>\n",
              "<style scoped>\n",
              "    .dataframe tbody tr th:only-of-type {\n",
              "        vertical-align: middle;\n",
              "    }\n",
              "\n",
              "    .dataframe tbody tr th {\n",
              "        vertical-align: top;\n",
              "    }\n",
              "\n",
              "    .dataframe thead th {\n",
              "        text-align: right;\n",
              "    }\n",
              "</style>\n",
              "<table border=\"1\" class=\"dataframe\">\n",
              "  <thead>\n",
              "    <tr style=\"text-align: right;\">\n",
              "      <th></th>\n",
              "      <th>rede</th>\n",
              "      <th>base</th>\n",
              "      <th>otimizador</th>\n",
              "      <th>acuracia</th>\n",
              "      <th>val_loss</th>\n",
              "      <th>learning_rate</th>\n",
              "      <th>dropout</th>\n",
              "      <th>batch_size</th>\n",
              "      <th>roc_curve</th>\n",
              "      <th>train_resume</th>\n",
              "      <th>confusion_matrix</th>\n",
              "    </tr>\n",
              "  </thead>\n",
              "  <tbody>\n",
              "    <tr>\n",
              "      <th>0</th>\n",
              "      <td>CNN</td>\n",
              "      <td>BASE 2</td>\n",
              "      <td>Nadam</td>\n",
              "      <td>0.938061</td>\n",
              "      <td>0.201470</td>\n",
              "      <td>0.0001</td>\n",
              "      <td>0.1</td>\n",
              "      <td>32</td>\n",
              "      <td>{\"false_positive_rate\": [0.0, 0.0, 0.0, 0.0, 0...</td>\n",
              "      <td>{\"epoch\": {\"0\": 0, \"1\": 1, \"2\": 2, \"3\": 3, \"4\"...</td>\n",
              "      <td>{\"00\": 1000, \"01\": 58, \"10\": 73, \"11\": 984}</td>\n",
              "    </tr>\n",
              "    <tr>\n",
              "      <th>1</th>\n",
              "      <td>CNN</td>\n",
              "      <td>BASE 2</td>\n",
              "      <td>Nadam</td>\n",
              "      <td>0.933333</td>\n",
              "      <td>0.198454</td>\n",
              "      <td>0.0001</td>\n",
              "      <td>0.2</td>\n",
              "      <td>32</td>\n",
              "      <td>{\"false_positive_rate\": [0.0, 0.0, 0.0, 0.0, 0...</td>\n",
              "      <td>{\"epoch\": {\"0\": 0, \"1\": 1, \"2\": 2, \"3\": 3, \"4\"...</td>\n",
              "      <td>{\"00\": 981, \"01\": 77, \"10\": 64, \"11\": 993}</td>\n",
              "    </tr>\n",
              "    <tr>\n",
              "      <th>2</th>\n",
              "      <td>CNN</td>\n",
              "      <td>BASE 2</td>\n",
              "      <td>Nadam</td>\n",
              "      <td>0.939007</td>\n",
              "      <td>0.197918</td>\n",
              "      <td>0.0001</td>\n",
              "      <td>0.3</td>\n",
              "      <td>32</td>\n",
              "      <td>{\"false_positive_rate\": [0.0, 0.0, 0.0, 0.0, 0...</td>\n",
              "      <td>{\"epoch\": {\"0\": 0, \"1\": 1, \"2\": 2, \"3\": 3, \"4\"...</td>\n",
              "      <td>{\"00\": 999, \"01\": 59, \"10\": 70, \"11\": 987}</td>\n",
              "    </tr>\n",
              "    <tr>\n",
              "      <th>3</th>\n",
              "      <td>CNN</td>\n",
              "      <td>BASE 2</td>\n",
              "      <td>RMSProp</td>\n",
              "      <td>0.933333</td>\n",
              "      <td>0.215135</td>\n",
              "      <td>0.0001</td>\n",
              "      <td>0.1</td>\n",
              "      <td>32</td>\n",
              "      <td>{\"false_positive_rate\": [0.0, 0.0, 0.0, 0.0, 0...</td>\n",
              "      <td>{\"epoch\": {\"0\": 0, \"1\": 1, \"2\": 2, \"3\": 3, \"4\"...</td>\n",
              "      <td>{\"00\": 981, \"01\": 77, \"10\": 64, \"11\": 993}</td>\n",
              "    </tr>\n",
              "    <tr>\n",
              "      <th>4</th>\n",
              "      <td>CNN</td>\n",
              "      <td>BASE 2</td>\n",
              "      <td>RMSProp</td>\n",
              "      <td>0.932388</td>\n",
              "      <td>0.217581</td>\n",
              "      <td>0.0001</td>\n",
              "      <td>0.2</td>\n",
              "      <td>32</td>\n",
              "      <td>{\"false_positive_rate\": [0.0, 0.0, 0.0, 0.0, 0...</td>\n",
              "      <td>{\"epoch\": {\"0\": 0, \"1\": 1, \"2\": 2, \"3\": 3, \"4\"...</td>\n",
              "      <td>{\"00\": 971, \"01\": 87, \"10\": 56, \"11\": 1001}</td>\n",
              "    </tr>\n",
              "  </tbody>\n",
              "</table>\n",
              "</div>\n",
              "      <button class=\"colab-df-convert\" onclick=\"convertToInteractive('df-37ab6baa-6d80-453f-b598-03b61b18669c')\"\n",
              "              title=\"Convert this dataframe to an interactive table.\"\n",
              "              style=\"display:none;\">\n",
              "        \n",
              "  <svg xmlns=\"http://www.w3.org/2000/svg\" height=\"24px\"viewBox=\"0 0 24 24\"\n",
              "       width=\"24px\">\n",
              "    <path d=\"M0 0h24v24H0V0z\" fill=\"none\"/>\n",
              "    <path d=\"M18.56 5.44l.94 2.06.94-2.06 2.06-.94-2.06-.94-.94-2.06-.94 2.06-2.06.94zm-11 1L8.5 8.5l.94-2.06 2.06-.94-2.06-.94L8.5 2.5l-.94 2.06-2.06.94zm10 10l.94 2.06.94-2.06 2.06-.94-2.06-.94-.94-2.06-.94 2.06-2.06.94z\"/><path d=\"M17.41 7.96l-1.37-1.37c-.4-.4-.92-.59-1.43-.59-.52 0-1.04.2-1.43.59L10.3 9.45l-7.72 7.72c-.78.78-.78 2.05 0 2.83L4 21.41c.39.39.9.59 1.41.59.51 0 1.02-.2 1.41-.59l7.78-7.78 2.81-2.81c.8-.78.8-2.07 0-2.86zM5.41 20L4 18.59l7.72-7.72 1.47 1.35L5.41 20z\"/>\n",
              "  </svg>\n",
              "      </button>\n",
              "      \n",
              "  <style>\n",
              "    .colab-df-container {\n",
              "      display:flex;\n",
              "      flex-wrap:wrap;\n",
              "      gap: 12px;\n",
              "    }\n",
              "\n",
              "    .colab-df-convert {\n",
              "      background-color: #E8F0FE;\n",
              "      border: none;\n",
              "      border-radius: 50%;\n",
              "      cursor: pointer;\n",
              "      display: none;\n",
              "      fill: #1967D2;\n",
              "      height: 32px;\n",
              "      padding: 0 0 0 0;\n",
              "      width: 32px;\n",
              "    }\n",
              "\n",
              "    .colab-df-convert:hover {\n",
              "      background-color: #E2EBFA;\n",
              "      box-shadow: 0px 1px 2px rgba(60, 64, 67, 0.3), 0px 1px 3px 1px rgba(60, 64, 67, 0.15);\n",
              "      fill: #174EA6;\n",
              "    }\n",
              "\n",
              "    [theme=dark] .colab-df-convert {\n",
              "      background-color: #3B4455;\n",
              "      fill: #D2E3FC;\n",
              "    }\n",
              "\n",
              "    [theme=dark] .colab-df-convert:hover {\n",
              "      background-color: #434B5C;\n",
              "      box-shadow: 0px 1px 3px 1px rgba(0, 0, 0, 0.15);\n",
              "      filter: drop-shadow(0px 1px 2px rgba(0, 0, 0, 0.3));\n",
              "      fill: #FFFFFF;\n",
              "    }\n",
              "  </style>\n",
              "\n",
              "      <script>\n",
              "        const buttonEl =\n",
              "          document.querySelector('#df-37ab6baa-6d80-453f-b598-03b61b18669c button.colab-df-convert');\n",
              "        buttonEl.style.display =\n",
              "          google.colab.kernel.accessAllowed ? 'block' : 'none';\n",
              "\n",
              "        async function convertToInteractive(key) {\n",
              "          const element = document.querySelector('#df-37ab6baa-6d80-453f-b598-03b61b18669c');\n",
              "          const dataTable =\n",
              "            await google.colab.kernel.invokeFunction('convertToInteractive',\n",
              "                                                     [key], {});\n",
              "          if (!dataTable) return;\n",
              "\n",
              "          const docLinkHtml = 'Like what you see? Visit the ' +\n",
              "            '<a target=\"_blank\" href=https://colab.research.google.com/notebooks/data_table.ipynb>data table notebook</a>'\n",
              "            + ' to learn more about interactive tables.';\n",
              "          element.innerHTML = '';\n",
              "          dataTable['output_type'] = 'display_data';\n",
              "          await google.colab.output.renderOutput(dataTable, element);\n",
              "          const docLink = document.createElement('div');\n",
              "          docLink.innerHTML = docLinkHtml;\n",
              "          element.appendChild(docLink);\n",
              "        }\n",
              "      </script>\n",
              "    </div>\n",
              "  </div>\n",
              "  "
            ]
          },
          "metadata": {},
          "execution_count": 9
        }
      ]
    },
    {
      "cell_type": "markdown",
      "source": [
        "# Carrega base"
      ],
      "metadata": {
        "id": "kMO-knebMcYH"
      }
    },
    {
      "cell_type": "code",
      "source": [
        "# Base1 Com StopWords\n",
        "PATH_BASE1_JUNTO_COM_DA_LEILA_BALANCEADA = \"/content/drive/MyDrive/TCC/dados/processadas/balanceadas/Base1JuntaHateENotHateDaLeila_balanceada.csv\"\n",
        "#MATRIZ_CBOW_300_BASE_1 = loadtxt(\"/content/drive/MyDrive/TCC/dados/word_embeddings/Matriz_Base1JuntaHateENotHateDaLeila_balanceada_CBOW300.CSV\", delimiter=',')\n",
        "\n",
        "# Base2 Sem StopWords\n",
        "PATH_BASE2_LEILA_LIMPISSIMA_BALANCEADA = \"/content/drive/MyDrive/TCC/dados/processadas/balanceadas/Base2_maior4_menor25_limpissima_balanceada.csv\"\n",
        "#MATRIZ_CBOW_300_BASE_2_LEILA = loadtxt(\"/content/drive/MyDrive/TCC/dados/word_embeddings/Matriz_Base2_maior4_menor25_limpissima_balanceada_CBOW300.CSV\", delimiter=',')\n",
        "\n",
        "PATH_BASE_1_CLASSIFICADA_BALANCEADA = r\"/content/drive/MyDrive/TCC/dados/processadas/balanceadas/Base1_classificada_balanceada.csv\" #entrada\n",
        "\n",
        "PATH_BASE_2_CLASSIFICADA_BALANCEADA = r\"/content/drive/MyDrive/TCC/dados/processadas/balanceadas/Base2_classificada_balanceada.csv\" #entrada\n",
        "MATRIZ_CBOW_300_BASE_2 = loadtxt(\"/content/drive/MyDrive/TCC/dados/word_embeddings/Matriz_Base2_classificada_balanceada_CBOW300.csv\", delimiter=',') #saida"
      ],
      "metadata": {
        "id": "xf_v4U5DDfU8"
      },
      "execution_count": 10,
      "outputs": []
    },
    {
      "cell_type": "markdown",
      "source": [
        "# Execução modelo"
      ],
      "metadata": {
        "id": "W9pdFxE7Ml6H"
      }
    },
    {
      "cell_type": "code",
      "source": [
        "tweets = pd.read_csv(PATH_BASE_2_CLASSIFICADA_BALANCEADA, index_col=0)\n",
        "text_column = tweets['text']\n",
        "text_column"
      ],
      "metadata": {
        "id": "7wJXwK7jCkyx",
        "outputId": "58432c58-4fdc-4db8-ece9-b6a70953a9d2",
        "colab": {
          "base_uri": "https://localhost:8080/"
        }
      },
      "execution_count": 11,
      "outputs": [
        {
          "output_type": "execute_result",
          "data": {
            "text/plain": [
              "0        retwet bahia fazer sendo governada pt sei baia...\n",
              "1        k imagine atitude mental negativa f idiota fec...\n",
              "2        general heleno é bolsonaro rosna late late lat...\n",
              "3        alan ser cara pau achar havendo ruptura nesse ...\n",
              "4        canalhascomunistas caçarão chapa presidencialn...\n",
              "                               ...                        \n",
              "10569               af hein amiga mandar outro número mail\n",
              "10570    egoísmo é grande parte produto sociedade émile...\n",
              "10571    abençoado novo linda querida obrigada carinho ...\n",
              "10572                              leva gente amorzinhos d\n",
              "10573                                   k k ata meia sonsa\n",
              "Name: text, Length: 10574, dtype: object"
            ]
          },
          "metadata": {},
          "execution_count": 11
        }
      ]
    },
    {
      "cell_type": "code",
      "source": [
        "# Pega a média de caracteres dos tweets de toda a base\n",
        "max_text_length = int(text_column.apply(lambda x: len(str(x).split(' '))).max())\n",
        "max_text_length"
      ],
      "metadata": {
        "id": "ud3ADezRSHtI",
        "outputId": "7d1e42ac-c12f-4d34-9640-e6dc05076c4f",
        "colab": {
          "base_uri": "https://localhost:8080/"
        }
      },
      "execution_count": 12,
      "outputs": [
        {
          "output_type": "execute_result",
          "data": {
            "text/plain": [
              "55"
            ]
          },
          "metadata": {},
          "execution_count": 12
        }
      ]
    },
    {
      "cell_type": "code",
      "execution_count": 13,
      "metadata": {
        "colab": {
          "base_uri": "https://localhost:8080/"
        },
        "id": "UxNdO2PW2E5a",
        "outputId": "6bebbaab-90d4-4e70-d477-3b88885a3082"
      },
      "outputs": [
        {
          "output_type": "stream",
          "name": "stdout",
          "text": [
            "Vocabulary size: 19043\n"
          ]
        }
      ],
      "source": [
        "output_label = tweets['label']\n",
        "input_data, text_tokenizer = preprocess(text_column, None)\n",
        "    \n",
        "text_vocab_size = len(text_tokenizer.word_index)\n",
        "print(\"Vocabulary size:\", text_vocab_size)"
      ]
    },
    {
      "cell_type": "code",
      "source": [
        "# parametros tunning:\n",
        "BATCH_SIZE = [32, 64]\n",
        "LEARN_RATE = [0.0001, 0.001]\n",
        "OTMIZADORES = ['Nadam', 'RMSProp', 'SGD']\n",
        "DROPOUT = [0.1, 0.2, 0.3]\n",
        "\n",
        "# parametros estaticos:\n",
        "EPOCHS = 10\n",
        "VAL_AND_TST_SIZE = 0.2 # Fazer na mão\n",
        "EMBEDDING_DIMENSION = 300  \n",
        "MAX_TEXT_SIZE = max_text_length \n",
        "VOCAB_SIZE = text_vocab_size"
      ],
      "metadata": {
        "id": "yBGbbGdfL7ps"
      },
      "execution_count": 14,
      "outputs": []
    },
    {
      "cell_type": "code",
      "source": [
        "def optimize (optimize, learning_rate):\n",
        "  if optimize == 'Nadam':\n",
        "    return Nadam(learning_rate=learning_rate, name=\"Nadam\")\n",
        "  \n",
        "  if optimize == 'RMSProp':\n",
        "    return RMSprop(learning_rate=learning_rate, name=\"RMSprop\")\n",
        "  \n",
        "  if optimize == 'SGD':\n",
        "    return SGD(learning_rate=learning_rate, name=\"SGD\")"
      ],
      "metadata": {
        "id": "bPL3sYgZ1h7j"
      },
      "execution_count": 15,
      "outputs": []
    },
    {
      "cell_type": "code",
      "source": [
        "def create_lstm (vocab_size, embedding_dimen, max_text_size, dropout_rate ):\n",
        "\n",
        "  modelo = keras.Sequential([\n",
        "    keras.layers.Embedding(VOCAB_SIZE, EMBEDDING_DIMENSION, input_length=max_text_size),\n",
        "    # keras.layers.Embedding(input_dim=MATRIZ_CBOW_300_BASE_2.shape[0],\n",
        "                            # output_dim=MATRIZ_CBOW_300_BASE_2.shape[1],\n",
        "                            # weights=[MATRIZ_CBOW_300_BASE_2],\n",
        "                            # embeddings_initializer=keras.initializers.Constant(MATRIZ_CBOW_300_BASE_2),\n",
        "                            # input_length=max_text_size,\n",
        "                            # trainable=True),\n",
        "    keras.layers.LSTM(max_text_size, dropout=dropout_rate, name=\"LSTM\"),\n",
        "    keras.layers.Dense(1, activation='sigmoid')\n",
        "    ])\n",
        "\n",
        "  return modelo  "
      ],
      "metadata": {
        "id": "wKH2mHM5r8_6"
      },
      "execution_count": 16,
      "outputs": []
    },
    {
      "cell_type": "code",
      "source": [
        "def train_model(input_data, output_label, embedding_dimen, batch_size, epochs, validation_and_test_size, learning_rate, optimizer, dropout_rate):\n",
        "    \n",
        "    x_main, x_test, y_main, y_test = train_test_split(input_data, output_label, test_size=0.2, stratify=output_label, random_state=42)\n",
        "    \n",
        "    x_train, x_val, y_train, y_val = train_test_split(x_main, y_main, test_size=0.2, stratify=y_main, random_state=42)\n",
        "\n",
        "    opt = optimize(optimizer, learning_rate)\n",
        "    \n",
        "    model = create_lstm(VOCAB_SIZE, EMBEDDING_DIMENSION, MAX_TEXT_SIZE, dropout_rate)\n",
        "\n",
        "    model.compile(loss=tf.keras.losses.BinaryCrossentropy(), optimizer=opt, metrics=['accuracy'])        \n",
        "    \n",
        "    ra_val = RocAucEvaluation(validation_data=(x_val, y_val), interval = 1)\n",
        "    \n",
        "    csv_logger = CSVLogger('log.csv', append=False, separator=';')                                                                                       \n",
        "    \n",
        "    history = model.fit(x_train, y_train, batch_size=batch_size, epochs=epochs, validation_data=(x_val, y_val), verbose=0, use_multiprocessing=True,  callbacks = [ra_val, csv_logger])\n",
        "    \n",
        "    scores = model.evaluate(x_test, y_test, verbose=0)\n",
        "    \n",
        "    return history, model, x_test, y_test, ra_val, scores, csv_logger"
      ],
      "metadata": {
        "id": "wYnrq-34uZX5"
      },
      "execution_count": 17,
      "outputs": []
    },
    {
      "cell_type": "code",
      "source": [
        "# plot dos gráficos\n",
        "for BS in BATCH_SIZE:\n",
        "  for LR in LEARN_RATE:\n",
        "    for OT in OTMIZADORES:\n",
        "      for DO in DROPOUT:\n",
        "        \n",
        "        history, model1, x_test, y_test, ra_val, scores, csv_logger = train_model(input_data, output_label, EMBEDDING_DIMENSION, BS, EPOCHS, VAL_AND_TST_SIZE, LR, OT, DO)\n",
        "\n",
        "        #\n",
        "        y_predito = model1.predict(x_test).round()\n",
        "        y_gabarito = y_test\n",
        "        \n",
        "        # Parâmetros\n",
        "        # rede base otimizador acuracia val_loss learning_rate dropout batch_size roc_curve train_resume confusion_matrix\n",
        "        NOME_REDE = REDE\n",
        "        NOME_BASE = BASE_2\n",
        "        NOME_OTIMIZADOR = OT\n",
        "        ACURACIA = scores[1]\n",
        "        VAL_LOSS = scores[0] \n",
        "        LEARNING_RATE = LR\n",
        "        DROPOUT_RATE = DO\n",
        "        BATCH = BS\n",
        "        ROC_CURVE = json.dumps({\n",
        "            \"false_positive_rate\": list(ra_val.false_positive_rate),\n",
        "            \"true_positive_rate\": list(ra_val.true_positive_rate),\n",
        "            \"score\": ra_val.score})\n",
        "        TRAIN_RESUME = json.dumps(pd.read_csv('log.csv',sep=';').to_dict()) \n",
        "        \n",
        "        confusion = confusion_matrix(y_gabarito, y_predito)\n",
        "        CONFUSION_MATRIX = json.dumps({\n",
        "            \"00\": int(confusion[0][0]),\n",
        "            \"01\": int(confusion[0][1]),\n",
        "            \"10\": int(confusion[1][0]),\n",
        "            \"11\": int(confusion[1][1])\n",
        "        })\n",
        " \n",
        "        # Salvando resultado do modelo\n",
        "        registro_resultado = {resultados.columns[0]: NOME_REDE, \n",
        "                              resultados.columns[1]: NOME_BASE, \n",
        "                              resultados.columns[2]: NOME_OTIMIZADOR,\n",
        "                              resultados.columns[3]: ACURACIA, \n",
        "                              resultados.columns[4]: VAL_LOSS,\n",
        "                              resultados.columns[5]: LEARNING_RATE,\n",
        "                              resultados.columns[6]: DROPOUT_RATE,\n",
        "                              resultados.columns[7]: BATCH,\n",
        "                              resultados.columns[8]: ROC_CURVE,\n",
        "                              resultados.columns[9]: TRAIN_RESUME,\n",
        "                              resultados.columns[10]: CONFUSION_MATRIX\n",
        "                            }\n",
        "\n",
        "        resultados = resultados.append(registro_resultado, ignore_index=True)"
      ],
      "metadata": {
        "id": "9YLL1kZTDzUG"
      },
      "execution_count": 18,
      "outputs": []
    },
    {
      "cell_type": "code",
      "source": [
        "resultados"
      ],
      "metadata": {
        "id": "wjgeZV9tsZVy",
        "outputId": "e351cc73-78c4-4da5-f368-6e634aebf0db",
        "colab": {
          "base_uri": "https://localhost:8080/",
          "height": 641
        }
      },
      "execution_count": 19,
      "outputs": [
        {
          "output_type": "execute_result",
          "data": {
            "text/plain": [
              "    rede    base otimizador  acuracia  val_loss  learning_rate  dropout  \\\n",
              "0    CNN  BASE 2      Nadam  0.938061  0.201470         0.0001      0.1   \n",
              "1    CNN  BASE 2      Nadam  0.933333  0.198454         0.0001      0.2   \n",
              "2    CNN  BASE 2      Nadam  0.939007  0.197918         0.0001      0.3   \n",
              "3    CNN  BASE 2    RMSProp  0.933333  0.215135         0.0001      0.1   \n",
              "4    CNN  BASE 2    RMSProp  0.932388  0.217581         0.0001      0.2   \n",
              "..   ...     ...        ...       ...       ...            ...      ...   \n",
              "67  LSTM  BASE 2    RMSProp  0.869031  0.511743         0.0010      0.2   \n",
              "68  LSTM  BASE 2    RMSProp  0.557447  0.695758         0.0010      0.3   \n",
              "69  LSTM  BASE 2        SGD  0.500236  0.693156         0.0010      0.1   \n",
              "70  LSTM  BASE 2        SGD  0.499764  0.693147         0.0010      0.2   \n",
              "71  LSTM  BASE 2        SGD  0.499764  0.693146         0.0010      0.3   \n",
              "\n",
              "    batch_size                                          roc_curve  \\\n",
              "0           32  {\"false_positive_rate\": [0.0, 0.0, 0.0, 0.0, 0...   \n",
              "1           32  {\"false_positive_rate\": [0.0, 0.0, 0.0, 0.0, 0...   \n",
              "2           32  {\"false_positive_rate\": [0.0, 0.0, 0.0, 0.0, 0...   \n",
              "3           32  {\"false_positive_rate\": [0.0, 0.0, 0.0, 0.0, 0...   \n",
              "4           32  {\"false_positive_rate\": [0.0, 0.0, 0.0, 0.0, 0...   \n",
              "..         ...                                                ...   \n",
              "67          64  {\"false_positive_rate\": [0.0, 0.0, 0.0, 0.0, 0...   \n",
              "68          64  {\"false_positive_rate\": [0.0, 0.0, 0.0, 0.0011...   \n",
              "69          64  {\"false_positive_rate\": [0.0, 0.00118203309692...   \n",
              "70          64  {\"false_positive_rate\": [0.0, 0.0, 0.0, 0.0023...   \n",
              "71          64  {\"false_positive_rate\": [0.0, 0.0, 0.0, 0.0011...   \n",
              "\n",
              "                                         train_resume  \\\n",
              "0   {\"epoch\": {\"0\": 0, \"1\": 1, \"2\": 2, \"3\": 3, \"4\"...   \n",
              "1   {\"epoch\": {\"0\": 0, \"1\": 1, \"2\": 2, \"3\": 3, \"4\"...   \n",
              "2   {\"epoch\": {\"0\": 0, \"1\": 1, \"2\": 2, \"3\": 3, \"4\"...   \n",
              "3   {\"epoch\": {\"0\": 0, \"1\": 1, \"2\": 2, \"3\": 3, \"4\"...   \n",
              "4   {\"epoch\": {\"0\": 0, \"1\": 1, \"2\": 2, \"3\": 3, \"4\"...   \n",
              "..                                                ...   \n",
              "67  {\"epoch\": {\"0\": 0, \"1\": 1, \"2\": 2, \"3\": 3, \"4\"...   \n",
              "68  {\"epoch\": {\"0\": 0, \"1\": 1, \"2\": 2, \"3\": 3, \"4\"...   \n",
              "69  {\"epoch\": {\"0\": 0, \"1\": 1, \"2\": 2, \"3\": 3, \"4\"...   \n",
              "70  {\"epoch\": {\"0\": 0, \"1\": 1, \"2\": 2, \"3\": 3, \"4\"...   \n",
              "71  {\"epoch\": {\"0\": 0, \"1\": 1, \"2\": 2, \"3\": 3, \"4\"...   \n",
              "\n",
              "                                confusion_matrix  \n",
              "0    {\"00\": 1000, \"01\": 58, \"10\": 73, \"11\": 984}  \n",
              "1     {\"00\": 981, \"01\": 77, \"10\": 64, \"11\": 993}  \n",
              "2     {\"00\": 999, \"01\": 59, \"10\": 70, \"11\": 987}  \n",
              "3     {\"00\": 981, \"01\": 77, \"10\": 64, \"11\": 993}  \n",
              "4    {\"00\": 971, \"01\": 87, \"10\": 56, \"11\": 1001}  \n",
              "..                                           ...  \n",
              "67  {\"00\": 908, \"01\": 150, \"10\": 127, \"11\": 930}  \n",
              "68  {\"00\": 691, \"01\": 367, \"10\": 569, \"11\": 488}  \n",
              "69    {\"00\": 1058, \"01\": 0, \"10\": 1057, \"11\": 0}  \n",
              "70    {\"00\": 0, \"01\": 1058, \"10\": 0, \"11\": 1057}  \n",
              "71    {\"00\": 0, \"01\": 1058, \"10\": 0, \"11\": 1057}  \n",
              "\n",
              "[72 rows x 11 columns]"
            ],
            "text/html": [
              "\n",
              "  <div id=\"df-df4b54e7-f4fc-4e1c-868a-86a363ed8a0f\">\n",
              "    <div class=\"colab-df-container\">\n",
              "      <div>\n",
              "<style scoped>\n",
              "    .dataframe tbody tr th:only-of-type {\n",
              "        vertical-align: middle;\n",
              "    }\n",
              "\n",
              "    .dataframe tbody tr th {\n",
              "        vertical-align: top;\n",
              "    }\n",
              "\n",
              "    .dataframe thead th {\n",
              "        text-align: right;\n",
              "    }\n",
              "</style>\n",
              "<table border=\"1\" class=\"dataframe\">\n",
              "  <thead>\n",
              "    <tr style=\"text-align: right;\">\n",
              "      <th></th>\n",
              "      <th>rede</th>\n",
              "      <th>base</th>\n",
              "      <th>otimizador</th>\n",
              "      <th>acuracia</th>\n",
              "      <th>val_loss</th>\n",
              "      <th>learning_rate</th>\n",
              "      <th>dropout</th>\n",
              "      <th>batch_size</th>\n",
              "      <th>roc_curve</th>\n",
              "      <th>train_resume</th>\n",
              "      <th>confusion_matrix</th>\n",
              "    </tr>\n",
              "  </thead>\n",
              "  <tbody>\n",
              "    <tr>\n",
              "      <th>0</th>\n",
              "      <td>CNN</td>\n",
              "      <td>BASE 2</td>\n",
              "      <td>Nadam</td>\n",
              "      <td>0.938061</td>\n",
              "      <td>0.201470</td>\n",
              "      <td>0.0001</td>\n",
              "      <td>0.1</td>\n",
              "      <td>32</td>\n",
              "      <td>{\"false_positive_rate\": [0.0, 0.0, 0.0, 0.0, 0...</td>\n",
              "      <td>{\"epoch\": {\"0\": 0, \"1\": 1, \"2\": 2, \"3\": 3, \"4\"...</td>\n",
              "      <td>{\"00\": 1000, \"01\": 58, \"10\": 73, \"11\": 984}</td>\n",
              "    </tr>\n",
              "    <tr>\n",
              "      <th>1</th>\n",
              "      <td>CNN</td>\n",
              "      <td>BASE 2</td>\n",
              "      <td>Nadam</td>\n",
              "      <td>0.933333</td>\n",
              "      <td>0.198454</td>\n",
              "      <td>0.0001</td>\n",
              "      <td>0.2</td>\n",
              "      <td>32</td>\n",
              "      <td>{\"false_positive_rate\": [0.0, 0.0, 0.0, 0.0, 0...</td>\n",
              "      <td>{\"epoch\": {\"0\": 0, \"1\": 1, \"2\": 2, \"3\": 3, \"4\"...</td>\n",
              "      <td>{\"00\": 981, \"01\": 77, \"10\": 64, \"11\": 993}</td>\n",
              "    </tr>\n",
              "    <tr>\n",
              "      <th>2</th>\n",
              "      <td>CNN</td>\n",
              "      <td>BASE 2</td>\n",
              "      <td>Nadam</td>\n",
              "      <td>0.939007</td>\n",
              "      <td>0.197918</td>\n",
              "      <td>0.0001</td>\n",
              "      <td>0.3</td>\n",
              "      <td>32</td>\n",
              "      <td>{\"false_positive_rate\": [0.0, 0.0, 0.0, 0.0, 0...</td>\n",
              "      <td>{\"epoch\": {\"0\": 0, \"1\": 1, \"2\": 2, \"3\": 3, \"4\"...</td>\n",
              "      <td>{\"00\": 999, \"01\": 59, \"10\": 70, \"11\": 987}</td>\n",
              "    </tr>\n",
              "    <tr>\n",
              "      <th>3</th>\n",
              "      <td>CNN</td>\n",
              "      <td>BASE 2</td>\n",
              "      <td>RMSProp</td>\n",
              "      <td>0.933333</td>\n",
              "      <td>0.215135</td>\n",
              "      <td>0.0001</td>\n",
              "      <td>0.1</td>\n",
              "      <td>32</td>\n",
              "      <td>{\"false_positive_rate\": [0.0, 0.0, 0.0, 0.0, 0...</td>\n",
              "      <td>{\"epoch\": {\"0\": 0, \"1\": 1, \"2\": 2, \"3\": 3, \"4\"...</td>\n",
              "      <td>{\"00\": 981, \"01\": 77, \"10\": 64, \"11\": 993}</td>\n",
              "    </tr>\n",
              "    <tr>\n",
              "      <th>4</th>\n",
              "      <td>CNN</td>\n",
              "      <td>BASE 2</td>\n",
              "      <td>RMSProp</td>\n",
              "      <td>0.932388</td>\n",
              "      <td>0.217581</td>\n",
              "      <td>0.0001</td>\n",
              "      <td>0.2</td>\n",
              "      <td>32</td>\n",
              "      <td>{\"false_positive_rate\": [0.0, 0.0, 0.0, 0.0, 0...</td>\n",
              "      <td>{\"epoch\": {\"0\": 0, \"1\": 1, \"2\": 2, \"3\": 3, \"4\"...</td>\n",
              "      <td>{\"00\": 971, \"01\": 87, \"10\": 56, \"11\": 1001}</td>\n",
              "    </tr>\n",
              "    <tr>\n",
              "      <th>...</th>\n",
              "      <td>...</td>\n",
              "      <td>...</td>\n",
              "      <td>...</td>\n",
              "      <td>...</td>\n",
              "      <td>...</td>\n",
              "      <td>...</td>\n",
              "      <td>...</td>\n",
              "      <td>...</td>\n",
              "      <td>...</td>\n",
              "      <td>...</td>\n",
              "      <td>...</td>\n",
              "    </tr>\n",
              "    <tr>\n",
              "      <th>67</th>\n",
              "      <td>LSTM</td>\n",
              "      <td>BASE 2</td>\n",
              "      <td>RMSProp</td>\n",
              "      <td>0.869031</td>\n",
              "      <td>0.511743</td>\n",
              "      <td>0.0010</td>\n",
              "      <td>0.2</td>\n",
              "      <td>64</td>\n",
              "      <td>{\"false_positive_rate\": [0.0, 0.0, 0.0, 0.0, 0...</td>\n",
              "      <td>{\"epoch\": {\"0\": 0, \"1\": 1, \"2\": 2, \"3\": 3, \"4\"...</td>\n",
              "      <td>{\"00\": 908, \"01\": 150, \"10\": 127, \"11\": 930}</td>\n",
              "    </tr>\n",
              "    <tr>\n",
              "      <th>68</th>\n",
              "      <td>LSTM</td>\n",
              "      <td>BASE 2</td>\n",
              "      <td>RMSProp</td>\n",
              "      <td>0.557447</td>\n",
              "      <td>0.695758</td>\n",
              "      <td>0.0010</td>\n",
              "      <td>0.3</td>\n",
              "      <td>64</td>\n",
              "      <td>{\"false_positive_rate\": [0.0, 0.0, 0.0, 0.0011...</td>\n",
              "      <td>{\"epoch\": {\"0\": 0, \"1\": 1, \"2\": 2, \"3\": 3, \"4\"...</td>\n",
              "      <td>{\"00\": 691, \"01\": 367, \"10\": 569, \"11\": 488}</td>\n",
              "    </tr>\n",
              "    <tr>\n",
              "      <th>69</th>\n",
              "      <td>LSTM</td>\n",
              "      <td>BASE 2</td>\n",
              "      <td>SGD</td>\n",
              "      <td>0.500236</td>\n",
              "      <td>0.693156</td>\n",
              "      <td>0.0010</td>\n",
              "      <td>0.1</td>\n",
              "      <td>64</td>\n",
              "      <td>{\"false_positive_rate\": [0.0, 0.00118203309692...</td>\n",
              "      <td>{\"epoch\": {\"0\": 0, \"1\": 1, \"2\": 2, \"3\": 3, \"4\"...</td>\n",
              "      <td>{\"00\": 1058, \"01\": 0, \"10\": 1057, \"11\": 0}</td>\n",
              "    </tr>\n",
              "    <tr>\n",
              "      <th>70</th>\n",
              "      <td>LSTM</td>\n",
              "      <td>BASE 2</td>\n",
              "      <td>SGD</td>\n",
              "      <td>0.499764</td>\n",
              "      <td>0.693147</td>\n",
              "      <td>0.0010</td>\n",
              "      <td>0.2</td>\n",
              "      <td>64</td>\n",
              "      <td>{\"false_positive_rate\": [0.0, 0.0, 0.0, 0.0023...</td>\n",
              "      <td>{\"epoch\": {\"0\": 0, \"1\": 1, \"2\": 2, \"3\": 3, \"4\"...</td>\n",
              "      <td>{\"00\": 0, \"01\": 1058, \"10\": 0, \"11\": 1057}</td>\n",
              "    </tr>\n",
              "    <tr>\n",
              "      <th>71</th>\n",
              "      <td>LSTM</td>\n",
              "      <td>BASE 2</td>\n",
              "      <td>SGD</td>\n",
              "      <td>0.499764</td>\n",
              "      <td>0.693146</td>\n",
              "      <td>0.0010</td>\n",
              "      <td>0.3</td>\n",
              "      <td>64</td>\n",
              "      <td>{\"false_positive_rate\": [0.0, 0.0, 0.0, 0.0011...</td>\n",
              "      <td>{\"epoch\": {\"0\": 0, \"1\": 1, \"2\": 2, \"3\": 3, \"4\"...</td>\n",
              "      <td>{\"00\": 0, \"01\": 1058, \"10\": 0, \"11\": 1057}</td>\n",
              "    </tr>\n",
              "  </tbody>\n",
              "</table>\n",
              "<p>72 rows × 11 columns</p>\n",
              "</div>\n",
              "      <button class=\"colab-df-convert\" onclick=\"convertToInteractive('df-df4b54e7-f4fc-4e1c-868a-86a363ed8a0f')\"\n",
              "              title=\"Convert this dataframe to an interactive table.\"\n",
              "              style=\"display:none;\">\n",
              "        \n",
              "  <svg xmlns=\"http://www.w3.org/2000/svg\" height=\"24px\"viewBox=\"0 0 24 24\"\n",
              "       width=\"24px\">\n",
              "    <path d=\"M0 0h24v24H0V0z\" fill=\"none\"/>\n",
              "    <path d=\"M18.56 5.44l.94 2.06.94-2.06 2.06-.94-2.06-.94-.94-2.06-.94 2.06-2.06.94zm-11 1L8.5 8.5l.94-2.06 2.06-.94-2.06-.94L8.5 2.5l-.94 2.06-2.06.94zm10 10l.94 2.06.94-2.06 2.06-.94-2.06-.94-.94-2.06-.94 2.06-2.06.94z\"/><path d=\"M17.41 7.96l-1.37-1.37c-.4-.4-.92-.59-1.43-.59-.52 0-1.04.2-1.43.59L10.3 9.45l-7.72 7.72c-.78.78-.78 2.05 0 2.83L4 21.41c.39.39.9.59 1.41.59.51 0 1.02-.2 1.41-.59l7.78-7.78 2.81-2.81c.8-.78.8-2.07 0-2.86zM5.41 20L4 18.59l7.72-7.72 1.47 1.35L5.41 20z\"/>\n",
              "  </svg>\n",
              "      </button>\n",
              "      \n",
              "  <style>\n",
              "    .colab-df-container {\n",
              "      display:flex;\n",
              "      flex-wrap:wrap;\n",
              "      gap: 12px;\n",
              "    }\n",
              "\n",
              "    .colab-df-convert {\n",
              "      background-color: #E8F0FE;\n",
              "      border: none;\n",
              "      border-radius: 50%;\n",
              "      cursor: pointer;\n",
              "      display: none;\n",
              "      fill: #1967D2;\n",
              "      height: 32px;\n",
              "      padding: 0 0 0 0;\n",
              "      width: 32px;\n",
              "    }\n",
              "\n",
              "    .colab-df-convert:hover {\n",
              "      background-color: #E2EBFA;\n",
              "      box-shadow: 0px 1px 2px rgba(60, 64, 67, 0.3), 0px 1px 3px 1px rgba(60, 64, 67, 0.15);\n",
              "      fill: #174EA6;\n",
              "    }\n",
              "\n",
              "    [theme=dark] .colab-df-convert {\n",
              "      background-color: #3B4455;\n",
              "      fill: #D2E3FC;\n",
              "    }\n",
              "\n",
              "    [theme=dark] .colab-df-convert:hover {\n",
              "      background-color: #434B5C;\n",
              "      box-shadow: 0px 1px 3px 1px rgba(0, 0, 0, 0.15);\n",
              "      filter: drop-shadow(0px 1px 2px rgba(0, 0, 0, 0.3));\n",
              "      fill: #FFFFFF;\n",
              "    }\n",
              "  </style>\n",
              "\n",
              "      <script>\n",
              "        const buttonEl =\n",
              "          document.querySelector('#df-df4b54e7-f4fc-4e1c-868a-86a363ed8a0f button.colab-df-convert');\n",
              "        buttonEl.style.display =\n",
              "          google.colab.kernel.accessAllowed ? 'block' : 'none';\n",
              "\n",
              "        async function convertToInteractive(key) {\n",
              "          const element = document.querySelector('#df-df4b54e7-f4fc-4e1c-868a-86a363ed8a0f');\n",
              "          const dataTable =\n",
              "            await google.colab.kernel.invokeFunction('convertToInteractive',\n",
              "                                                     [key], {});\n",
              "          if (!dataTable) return;\n",
              "\n",
              "          const docLinkHtml = 'Like what you see? Visit the ' +\n",
              "            '<a target=\"_blank\" href=https://colab.research.google.com/notebooks/data_table.ipynb>data table notebook</a>'\n",
              "            + ' to learn more about interactive tables.';\n",
              "          element.innerHTML = '';\n",
              "          dataTable['output_type'] = 'display_data';\n",
              "          await google.colab.output.renderOutput(dataTable, element);\n",
              "          const docLink = document.createElement('div');\n",
              "          docLink.innerHTML = docLinkHtml;\n",
              "          element.appendChild(docLink);\n",
              "        }\n",
              "      </script>\n",
              "    </div>\n",
              "  </div>\n",
              "  "
            ]
          },
          "metadata": {},
          "execution_count": 19
        }
      ]
    },
    {
      "cell_type": "code",
      "source": [
        "# Caso queira deletar uma linha use o código abaixo\n",
        "# Use a propriedade label para especificar o índice da linha\n",
        "#resultados = resultados.drop(labels=1, axis=0)\n",
        "#resultados = resultados.reset_index(drop=True)\n",
        "#resultados"
      ],
      "metadata": {
        "id": "nP3enYmss2v9"
      },
      "execution_count": 20,
      "outputs": []
    },
    {
      "cell_type": "code",
      "source": [
        "# Salva arquivo de saída\n",
        "resultados.to_csv(PATH_ARQ_SAIDA)"
      ],
      "metadata": {
        "id": "y519ohA8u9jW"
      },
      "execution_count": 21,
      "outputs": []
    },
    {
      "cell_type": "code",
      "source": [
        "tf.keras.utils.plot_model(model1, to_file='/meuarquivo.png', show_shapes=True)"
      ],
      "metadata": {
        "id": "SqzyjKSXJ6Tq",
        "outputId": "d39d825d-cc12-4f42-a6f2-a2693d7f8cb1",
        "colab": {
          "base_uri": "https://localhost:8080/",
          "height": 422
        }
      },
      "execution_count": 22,
      "outputs": [
        {
          "output_type": "execute_result",
          "data": {
            "text/plain": [
              "<IPython.core.display.Image object>"
            ],
            "image/png": "[encoded data removed]"
          },
          "metadata": {},
          "execution_count": 22
        }
      ]
    }
  ]
}