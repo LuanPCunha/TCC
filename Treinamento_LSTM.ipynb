{
  "nbformat": 4,
  "nbformat_minor": 0,
  "metadata": {
    "colab": {
      "name": "Treinamento_LSTM.ipynb",
      "provenance": [],
      "include_colab_link": true
    },
    "kernelspec": {
      "name": "python3",
      "display_name": "Python 3"
    },
    "language_info": {
      "name": "python"
    },
    "accelerator": "GPU"
  },
  "cells": [
    {
      "cell_type": "markdown",
      "metadata": {
        "id": "view-in-github",
        "colab_type": "text"
      },
      "source": [
        "<a href=\"https://colab.research.google.com/github/LuanPCunha/TCC/blob/main/Treinamento_LSTM.ipynb\" target=\"_parent\"><img src=\"https://colab.research.google.com/assets/colab-badge.svg\" alt=\"Open In Colab\"/></a>"
      ]
    },
    {
      "cell_type": "markdown",
      "source": [
        "# Downloads e imports"
      ],
      "metadata": {
        "id": "EvS_6l_yMUeH"
      }
    },
    {
      "cell_type": "code",
      "source": [
        "# Tentando tornar os resultados deterministicos (não conseguimos)\n",
        "# https://stackoverflow.com/questions/36288235/how-to-get-stable-results-with-tensorflow-setting-random-seed\n",
        "import tensorflow as tf\n",
        "import os\n",
        "import numpy as np\n",
        "import random\n",
        "\n",
        "SEED = 1\n",
        "def set_seeds(seed=SEED):\n",
        "    os.environ['PYTHONHASHSEED'] = str(seed)\n",
        "    random.seed(seed)\n",
        "    tf.random.set_seed(seed)\n",
        "    np.random.seed(seed)\n",
        "\n",
        "def set_global_determinism(seed=SEED):\n",
        "    set_seeds(seed=seed)\n",
        "\n",
        "    #os.environ['TF_DETERMINISTIC_OPS'] = '1'\n",
        "    os.environ['TF_CUDNN_DETERMINISTIC'] = '1'\n",
        "    \n",
        "    #tf.config.threading.set_inter_op_parallelism_threads(1)\n",
        "    #tf.config.threading.set_intra_op_parallelism_threads(1)\n",
        "\n",
        "# Call the above function with seed value\n",
        "set_global_determinism(seed=SEED)"
      ],
      "metadata": {
        "id": "KMvZfXGKY-UP"
      },
      "execution_count": 1,
      "outputs": []
    },
    {
      "cell_type": "code",
      "source": [
        "# !pip install tensorflow\n",
        "# !pip install keras"
      ],
      "metadata": {
        "id": "N5Vhr4_vECld"
      },
      "execution_count": 2,
      "outputs": []
    },
    {
      "cell_type": "code",
      "source": [
        "from google.colab import drive\n",
        "drive.mount('/content/drive')"
      ],
      "metadata": {
        "colab": {
          "base_uri": "https://localhost:8080/"
        },
        "id": "ptoQwAGEDQnl",
        "outputId": "3965caed-6cfa-4fb2-a8ef-1b83ccde1e0f"
      },
      "execution_count": 3,
      "outputs": [
        {
          "output_type": "stream",
          "name": "stdout",
          "text": [
            "Drive already mounted at /content/drive; to attempt to forcibly remount, call drive.mount(\"/content/drive\", force_remount=True).\n"
          ]
        }
      ]
    },
    {
      "cell_type": "code",
      "source": [
        "import sklearn\n",
        "import numpy as np\n",
        "import pandas as pd\n",
        "from numpy import loadtxt\n",
        "import matplotlib.pyplot as plt\n",
        "from sklearn.model_selection import train_test_split\n",
        "\n",
        "import tensorflow as tf\n",
        "from tensorflow import keras\n",
        "from keras import optimizers\n",
        "from keras import layers\n",
        "from keras.layers import Dropout, Conv1D, MaxPooling1D, Flatten, Dense, SpatialDropout1D, BatchNormalization\n",
        "from keras.preprocessing.text import Tokenizer\n",
        "from keras.preprocessing.sequence import pad_sequences\n",
        "from tensorflow.keras.optimizers import schedules, Adam, Adadelta, SGD, RMSprop, Adagrad, Adamax, Nadam, Ftrl # Estamos usando só o Nadam\n",
        "from keras.models import Sequential\n",
        "from keras.layers.embeddings import Embedding\n",
        "\n",
        "from numpy.random import seed  "
      ],
      "metadata": {
        "id": "OeOYrHW9Bxs_"
      },
      "execution_count": 4,
      "outputs": []
    },
    {
      "cell_type": "code",
      "source": [
        "#tf.random.set_seed(1)\n",
        "#seed(1)"
      ],
      "metadata": {
        "id": "l13IN8fCW1NT"
      },
      "execution_count": 5,
      "outputs": []
    },
    {
      "cell_type": "code",
      "source": [
        "def tokenize(tweets_list):\n",
        "    tokenizer = Tokenizer()\n",
        "    tokenizer.fit_on_texts(tweets_list)\n",
        "    return tokenizer.texts_to_sequences(tweets_list), tokenizer"
      ],
      "metadata": {
        "id": "db4KNc_2Ixyu"
      },
      "execution_count": 6,
      "outputs": []
    },
    {
      "cell_type": "code",
      "source": [
        "def pad(text_tokenized, length=None):\n",
        "    return pad_sequences(text_tokenized, maxlen=length, padding='post')"
      ],
      "metadata": {
        "id": "pwcjgZd9I6AD"
      },
      "execution_count": 7,
      "outputs": []
    },
    {
      "cell_type": "code",
      "source": [
        "def preprocess(tweets_list, max_text_length):\n",
        "    preprocess_tweets_list, tweets_list_tokenizer = tokenize(tweets_list)\n",
        "\n",
        "    preprocess_tweets_list = pad(preprocess_tweets_list, length=max_text_length)\n",
        "\n",
        "    return preprocess_tweets_list, tweets_list_tokenizer"
      ],
      "metadata": {
        "id": "fNMyJgcsI8AU"
      },
      "execution_count": 8,
      "outputs": []
    },
    {
      "cell_type": "code",
      "source": [
        "def logits_to_text(logits, tokenizer):\n",
        "    index_to_words = {id: word for word, id in tokenizer.word_index.items()}\n",
        "    index_to_words[0] = '<PAD>'\n",
        "\n",
        "    return ' '.join([index_to_words[prediction] for prediction in np.argmax(logits, 1)])"
      ],
      "metadata": {
        "id": "pX78imOBI9l8"
      },
      "execution_count": 9,
      "outputs": []
    },
    {
      "cell_type": "code",
      "source": [
        "# Plot de Gráficos\n",
        "\n",
        "def plot_accuracy(history, miny=None):\n",
        "  loss, accuracy, val_loss, val_accuracy = list(history.history.keys())\n",
        "  print(accuracy,val_accuracy,loss,val_loss)\n",
        "  acc = history.history[accuracy]\n",
        "  test_acc = history.history[val_accuracy]\n",
        "  epochs = range(len(acc))\n",
        "  plt.plot(epochs, acc)\n",
        "  plt.plot(epochs, test_acc)\n",
        "  if miny:\n",
        "    plt.ylim(miny, 1.0)\n",
        "  plt.legend(['train', 'test'], loc='upper left')\n",
        "  plt.title('accuracy') \n",
        "  plt.xlabel('epoch')\n",
        "  plt.show()\n",
        "  \n",
        "  loss = history.history[loss]\n",
        "  val_loss = history.history[val_loss]\n",
        "  epochs = range(len(loss))\n",
        "  plt.plot(epochs, loss)\n",
        "  plt.plot(epochs, val_loss)\n",
        "  if miny:\n",
        "    plt.ylim(miny, 1.0)\n",
        "  plt.legend(['train', 'test'], loc='upper left')\n",
        "  plt.title('loss') \n",
        "  plt.xlabel('epoch')\n",
        "  plt.show()"
      ],
      "metadata": {
        "id": "hTMVKvfRrQ9x"
      },
      "execution_count": 10,
      "outputs": []
    },
    {
      "cell_type": "markdown",
      "source": [
        "# Carrega arquivo de saída (resultados)"
      ],
      "metadata": {
        "id": "rbA3XJK6kIrM"
      }
    },
    {
      "cell_type": "code",
      "source": [
        "# CONSTANTES DOS RESULTADOS\n",
        "\n",
        "REDE_CNN = 'CNN'\n",
        "REDE_LSTM = 'LSTM'\n",
        "REDE_BILSTM = 'Bi-LSTM'\n",
        "\n",
        "BASE_1 = 'BASE 1'\n",
        "BASE_2 = 'BASE 2'\n",
        "\n",
        "FUNCAO_ATV_SIGMOID = 'SIGMOID'\n",
        "FUNCAO_ATV_SOFTMAX = 'SOFTMAX'\n",
        "FUNCAO_ATV_RELU = 'RELU'\n",
        "\n",
        "OTIMIZADOR_1 = '1'\n",
        "OTIMIZADOR_2 = '2'\n",
        "OTIMIZADOR_3 = '3'\n",
        "OTIMIZADOR_4 = '4'\n",
        "\n",
        "# Caminho arquivo de saída\n",
        "PATH_ARQ_SAIDA = \"/content/drive/MyDrive/TCC/resultados/resultados.csv\"\n",
        "\n",
        "resultados = pd.read_csv(PATH_ARQ_SAIDA, index_col=0)\n",
        "resultados.head()"
      ],
      "metadata": {
        "id": "wvPJKDAQnAUQ",
        "outputId": "d1b08f99-7038-449e-b941-c127ce341deb",
        "colab": {
          "base_uri": "https://localhost:8080/",
          "height": 206
        }
      },
      "execution_count": 11,
      "outputs": [
        {
          "output_type": "execute_result",
          "data": {
            "text/plain": [
              "        rede       base   funcao_ativacao       otimizador            acuracia\n",
              "0  nome_rede  nome_base  nome_funcao_ativ  nome_otimizador            acuracia\n",
              "1       LSTM     BASE 1           SIGMOID                2   0.944208025932312\n",
              "2       LSTM     BASE 1           SIGMOID                2   0.922931432723999\n",
              "3       LSTM     BASE 1           SIGMOID                2  0.9607564806938171\n",
              "4       LSTM     BASE 1           SIGMOID                2  0.9498817920684814"
            ],
            "text/html": [
              "\n",
              "  <div id=\"df-ca8f89ee-d3b3-4e38-96a7-c08ea5285c6f\">\n",
              "    <div class=\"colab-df-container\">\n",
              "      <div>\n",
              "<style scoped>\n",
              "    .dataframe tbody tr th:only-of-type {\n",
              "        vertical-align: middle;\n",
              "    }\n",
              "\n",
              "    .dataframe tbody tr th {\n",
              "        vertical-align: top;\n",
              "    }\n",
              "\n",
              "    .dataframe thead th {\n",
              "        text-align: right;\n",
              "    }\n",
              "</style>\n",
              "<table border=\"1\" class=\"dataframe\">\n",
              "  <thead>\n",
              "    <tr style=\"text-align: right;\">\n",
              "      <th></th>\n",
              "      <th>rede</th>\n",
              "      <th>base</th>\n",
              "      <th>funcao_ativacao</th>\n",
              "      <th>otimizador</th>\n",
              "      <th>acuracia</th>\n",
              "    </tr>\n",
              "  </thead>\n",
              "  <tbody>\n",
              "    <tr>\n",
              "      <th>0</th>\n",
              "      <td>nome_rede</td>\n",
              "      <td>nome_base</td>\n",
              "      <td>nome_funcao_ativ</td>\n",
              "      <td>nome_otimizador</td>\n",
              "      <td>acuracia</td>\n",
              "    </tr>\n",
              "    <tr>\n",
              "      <th>1</th>\n",
              "      <td>LSTM</td>\n",
              "      <td>BASE 1</td>\n",
              "      <td>SIGMOID</td>\n",
              "      <td>2</td>\n",
              "      <td>0.944208025932312</td>\n",
              "    </tr>\n",
              "    <tr>\n",
              "      <th>2</th>\n",
              "      <td>LSTM</td>\n",
              "      <td>BASE 1</td>\n",
              "      <td>SIGMOID</td>\n",
              "      <td>2</td>\n",
              "      <td>0.922931432723999</td>\n",
              "    </tr>\n",
              "    <tr>\n",
              "      <th>3</th>\n",
              "      <td>LSTM</td>\n",
              "      <td>BASE 1</td>\n",
              "      <td>SIGMOID</td>\n",
              "      <td>2</td>\n",
              "      <td>0.9607564806938171</td>\n",
              "    </tr>\n",
              "    <tr>\n",
              "      <th>4</th>\n",
              "      <td>LSTM</td>\n",
              "      <td>BASE 1</td>\n",
              "      <td>SIGMOID</td>\n",
              "      <td>2</td>\n",
              "      <td>0.9498817920684814</td>\n",
              "    </tr>\n",
              "  </tbody>\n",
              "</table>\n",
              "</div>\n",
              "      <button class=\"colab-df-convert\" onclick=\"convertToInteractive('df-ca8f89ee-d3b3-4e38-96a7-c08ea5285c6f')\"\n",
              "              title=\"Convert this dataframe to an interactive table.\"\n",
              "              style=\"display:none;\">\n",
              "        \n",
              "  <svg xmlns=\"http://www.w3.org/2000/svg\" height=\"24px\"viewBox=\"0 0 24 24\"\n",
              "       width=\"24px\">\n",
              "    <path d=\"M0 0h24v24H0V0z\" fill=\"none\"/>\n",
              "    <path d=\"M18.56 5.44l.94 2.06.94-2.06 2.06-.94-2.06-.94-.94-2.06-.94 2.06-2.06.94zm-11 1L8.5 8.5l.94-2.06 2.06-.94-2.06-.94L8.5 2.5l-.94 2.06-2.06.94zm10 10l.94 2.06.94-2.06 2.06-.94-2.06-.94-.94-2.06-.94 2.06-2.06.94z\"/><path d=\"M17.41 7.96l-1.37-1.37c-.4-.4-.92-.59-1.43-.59-.52 0-1.04.2-1.43.59L10.3 9.45l-7.72 7.72c-.78.78-.78 2.05 0 2.83L4 21.41c.39.39.9.59 1.41.59.51 0 1.02-.2 1.41-.59l7.78-7.78 2.81-2.81c.8-.78.8-2.07 0-2.86zM5.41 20L4 18.59l7.72-7.72 1.47 1.35L5.41 20z\"/>\n",
              "  </svg>\n",
              "      </button>\n",
              "      \n",
              "  <style>\n",
              "    .colab-df-container {\n",
              "      display:flex;\n",
              "      flex-wrap:wrap;\n",
              "      gap: 12px;\n",
              "    }\n",
              "\n",
              "    .colab-df-convert {\n",
              "      background-color: #E8F0FE;\n",
              "      border: none;\n",
              "      border-radius: 50%;\n",
              "      cursor: pointer;\n",
              "      display: none;\n",
              "      fill: #1967D2;\n",
              "      height: 32px;\n",
              "      padding: 0 0 0 0;\n",
              "      width: 32px;\n",
              "    }\n",
              "\n",
              "    .colab-df-convert:hover {\n",
              "      background-color: #E2EBFA;\n",
              "      box-shadow: 0px 1px 2px rgba(60, 64, 67, 0.3), 0px 1px 3px 1px rgba(60, 64, 67, 0.15);\n",
              "      fill: #174EA6;\n",
              "    }\n",
              "\n",
              "    [theme=dark] .colab-df-convert {\n",
              "      background-color: #3B4455;\n",
              "      fill: #D2E3FC;\n",
              "    }\n",
              "\n",
              "    [theme=dark] .colab-df-convert:hover {\n",
              "      background-color: #434B5C;\n",
              "      box-shadow: 0px 1px 3px 1px rgba(0, 0, 0, 0.15);\n",
              "      filter: drop-shadow(0px 1px 2px rgba(0, 0, 0, 0.3));\n",
              "      fill: #FFFFFF;\n",
              "    }\n",
              "  </style>\n",
              "\n",
              "      <script>\n",
              "        const buttonEl =\n",
              "          document.querySelector('#df-ca8f89ee-d3b3-4e38-96a7-c08ea5285c6f button.colab-df-convert');\n",
              "        buttonEl.style.display =\n",
              "          google.colab.kernel.accessAllowed ? 'block' : 'none';\n",
              "\n",
              "        async function convertToInteractive(key) {\n",
              "          const element = document.querySelector('#df-ca8f89ee-d3b3-4e38-96a7-c08ea5285c6f');\n",
              "          const dataTable =\n",
              "            await google.colab.kernel.invokeFunction('convertToInteractive',\n",
              "                                                     [key], {});\n",
              "          if (!dataTable) return;\n",
              "\n",
              "          const docLinkHtml = 'Like what you see? Visit the ' +\n",
              "            '<a target=\"_blank\" href=https://colab.research.google.com/notebooks/data_table.ipynb>data table notebook</a>'\n",
              "            + ' to learn more about interactive tables.';\n",
              "          element.innerHTML = '';\n",
              "          dataTable['output_type'] = 'display_data';\n",
              "          await google.colab.output.renderOutput(dataTable, element);\n",
              "          const docLink = document.createElement('div');\n",
              "          docLink.innerHTML = docLinkHtml;\n",
              "          element.appendChild(docLink);\n",
              "        }\n",
              "      </script>\n",
              "    </div>\n",
              "  </div>\n",
              "  "
            ]
          },
          "metadata": {},
          "execution_count": 11
        }
      ]
    },
    {
      "cell_type": "markdown",
      "source": [
        "# Carrega base"
      ],
      "metadata": {
        "id": "kMO-knebMcYH"
      }
    },
    {
      "cell_type": "code",
      "source": [
        "# Base1 Com StopWords\n",
        "PATH_BASE1_JUNTO_COM_DA_LEILA_BALANCEADA = \"/content/drive/MyDrive/TCC/dados/processadas/balanceadas/Base1JuntaHateENotHateDaLeila_balanceada.csv\"\n",
        "#MATRIZ_CBOW_300_BASE_1 = loadtxt(\"/content/drive/MyDrive/TCC/dados/word_embeddings/Matriz_Base1JuntaHateENotHateDaLeila_balanceada_CBOW300.CSV\", delimiter=',')\n",
        "\n",
        "# Base2 Sem StopWords\n",
        "PATH_BASE2_LEILA_LIMPISSIMA_BALANCEADA = \"/content/drive/MyDrive/TCC/dados/processadas/balanceadas/Base2_maior4_menor25_limpissima_balanceada.csv\"\n",
        "#MATRIZ_CBOW_300_BASE_2_LEILA = loadtxt(\"/content/drive/MyDrive/TCC/dados/word_embeddings/Matriz_Base2_maior4_menor25_limpissima_balanceada_CBOW300.CSV\", delimiter=',')\n",
        "\n",
        "PATH_BASE_1_CLASSIFICADA_BALANCEADA = r\"/content/drive/MyDrive/TCC/dados/processadas/balanceadas/Base1_classificada_balanceada.csv\" #entrada\n",
        "\n",
        "PATH_BASE_2_CLASSIFICADA_BALANCEADA = r\"/content/drive/MyDrive/TCC/dados/processadas/balanceadas/Base2_classificada_balanceada.csv\" #entrada\n",
        "MATRIZ_CBOW_300_BASE_2 = loadtxt(\"/content/drive/MyDrive/TCC/dados/word_embeddings/Matriz_Base2_classificada_balanceada_CBOW300.csv\", delimiter=',') #saida"
      ],
      "metadata": {
        "id": "xf_v4U5DDfU8"
      },
      "execution_count": 12,
      "outputs": []
    },
    {
      "cell_type": "markdown",
      "source": [
        "# Execução modelo"
      ],
      "metadata": {
        "id": "W9pdFxE7Ml6H"
      }
    },
    {
      "cell_type": "code",
      "source": [
        "tweets = pd.read_csv(PATH_BASE_2_CLASSIFICADA_BALANCEADA, index_col=0)\n",
        "text_column = tweets['text']\n",
        "text_column"
      ],
      "metadata": {
        "id": "7wJXwK7jCkyx",
        "outputId": "1c0ba128-1806-41eb-9b34-37daa1383b6c",
        "colab": {
          "base_uri": "https://localhost:8080/"
        }
      },
      "execution_count": 13,
      "outputs": [
        {
          "output_type": "execute_result",
          "data": {
            "text/plain": [
              "0        retwet bahia fazer sendo governada pt sei baia...\n",
              "1        k imagine atitude mental negativa f idiota fec...\n",
              "2        general heleno é bolsonaro rosna late late lat...\n",
              "3        alan ser cara pau achar havendo ruptura nesse ...\n",
              "4        canalhascomunistas caçarão chapa presidencialn...\n",
              "                               ...                        \n",
              "10569               af hein amiga mandar outro número mail\n",
              "10570    egoísmo é grande parte produto sociedade émile...\n",
              "10571    abençoado novo linda querida obrigada carinho ...\n",
              "10572                              leva gente amorzinhos d\n",
              "10573                                   k k ata meia sonsa\n",
              "Name: text, Length: 10574, dtype: object"
            ]
          },
          "metadata": {},
          "execution_count": 13
        }
      ]
    },
    {
      "cell_type": "code",
      "source": [
        "# Pega a média de caracteres dos tweets de toda a base\n",
        "max_text_length = int(text_column.apply(lambda x: len(str(x).split(' '))).max())\n",
        "max_text_length"
      ],
      "metadata": {
        "id": "ud3ADezRSHtI",
        "outputId": "398a4ec4-b1aa-46c8-eb7a-c3305ea3bbea",
        "colab": {
          "base_uri": "https://localhost:8080/"
        }
      },
      "execution_count": 14,
      "outputs": [
        {
          "output_type": "execute_result",
          "data": {
            "text/plain": [
              "55"
            ]
          },
          "metadata": {},
          "execution_count": 14
        }
      ]
    },
    {
      "cell_type": "code",
      "execution_count": 15,
      "metadata": {
        "colab": {
          "base_uri": "https://localhost:8080/"
        },
        "id": "UxNdO2PW2E5a",
        "outputId": "bdcdb811-dfc7-412b-da88-f353798988a7"
      },
      "outputs": [
        {
          "output_type": "stream",
          "name": "stdout",
          "text": [
            "Vocabulary size: 19043\n"
          ]
        }
      ],
      "source": [
        "output_label = tweets['label']\n",
        "input_data, text_tokenizer = preprocess(text_column, None)\n",
        "    \n",
        "text_vocab_size = len(text_tokenizer.word_index)\n",
        "print(\"Vocabulary size:\", text_vocab_size)"
      ]
    },
    {
      "cell_type": "code",
      "source": [
        "# parametros:\n",
        "BATCH_SIZE = 64\n",
        "EPOCHS = 10\n",
        "VAL_AND_TST_SIZE = 0.2\n",
        "LEARN_RATE = 0.0001\n",
        "# ******\n",
        "BETA_1 = 0.09\n",
        "BETA_2 = 0.0999\n",
        "EPSILON = 1e-07\n",
        "# *****\n",
        "EMBEDDING_DIMENSION = 300  \n",
        "MAX_TEXT_SIZE = max_text_length \n",
        "VOCAB_SIZE = text_vocab_size"
      ],
      "metadata": {
        "id": "yBGbbGdfL7ps"
      },
      "execution_count": 16,
      "outputs": []
    },
    {
      "cell_type": "code",
      "source": [
        "def optimize (learning_rate, beta_1, beta_2, epsilon):\n",
        "  \n",
        "  #return Nadam(learning_rate=learning_rate, beta_1=beta_1, beta_2=beta_2, epsilon=epsilon, name=\"Nadam\")\n",
        "  return RMSprop(learning_rate=0.001,rho=0.9,momentum=0.0,epsilon=1e-07,centered=True,name=\"RMSprop\")"
      ],
      "metadata": {
        "id": "bPL3sYgZ1h7j"
      },
      "execution_count": 17,
      "outputs": []
    },
    {
      "cell_type": "code",
      "source": [
        "# #optimizer = Adadelta(learning_rate=0.001, rho=0.95, epsilon=1e-07, name=\"Adadelta\") \n",
        "# #optimizer = SGD(learning_rate=0.01, momentum=0.0, nesterov=True, name=\"SGD\")\n",
        "# #optimizer = RMSprop(learning_rate=0.001,rho=0.9,momentum=0.0,epsilon=1e-07,centered=True,name=\"RMSprop\")\n",
        "# #optimizer = Adam(learning_rate=0.001, beta_1=0.9, beta_2=0.999, epsilon=1e-07, amsgrad=True, name=\"Adam\")\n",
        "# #optimizer = Adagrad(learning_rate=0.001, initial_accumulator_value=0.1, epsilon=1e-07, name=\"Adagrad\")\n",
        "# #optimizer = Adamax(learning_rate=0.001, beta_1=0.9, beta_2=0.999, epsilon=1e-07, name=\"Adamax\")\n",
        "# #optimizer = Nadam(learning_rate=0.001, beta_1=0.9, beta_2=0.999, epsilon=1e-07, name=\"Nadam\") # 96% Embedding Treinado /\n",
        "# #optimizer = Ftrl(learning_rate=0.001, learning_rate_power=-0.5, initial_accumulator_value=0.1, l1_regularization_strength=0.1, l2_regularization_strength=0.1, l2_shrinkage_regularization_strength=0.001, beta=0.0001, name=\"Ftrl\")"
      ],
      "metadata": {
        "id": "1x4MvEYPdC7q"
      },
      "execution_count": 18,
      "outputs": []
    },
    {
      "cell_type": "code",
      "source": [
        "def create_lstm (vocab_size, embedding_dimen, max_text_size ):\n",
        "\n",
        "  modelo = keras.Sequential([\n",
        "    keras.layers.Embedding(VOCAB_SIZE, EMBEDDING_DIMENSION, input_length=max_text_size),\n",
        "    # keras.layers.Embedding(input_dim=MATRIZ_CBOW_300_BASE_2.shape[0],\n",
        "                            # output_dim=MATRIZ_CBOW_300_BASE_2.shape[1],\n",
        "                            # weights=[MATRIZ_CBOW_300_BASE_2],\n",
        "                            # embeddings_initializer=keras.initializers.Constant(MATRIZ_CBOW_300_BASE_2),\n",
        "                            # input_length=max_text_size,\n",
        "                            # trainable=True),\n",
        "    keras.layers.LSTM(100, dropout=0.15, name=\"LSTM\"),\n",
        "    keras.layers.Dense(1, activation='sigmoid')\n",
        "    ])\n",
        "\n",
        "  return modelo  "
      ],
      "metadata": {
        "id": "wKH2mHM5r8_6"
      },
      "execution_count": 19,
      "outputs": []
    },
    {
      "cell_type": "code",
      "source": [
        "def train_model(input_data, output_label, embedding_dimen, batch_size, epochs, validation_and_test_size):\n",
        "    \n",
        "    x_train, x_test, y_train, y_test = train_test_split(input_data, output_label, test_size=validation_and_test_size, random_state=1)\n",
        "\n",
        "    optimizer = optimize(LEARN_RATE, BETA_1, BETA_2, EPSILON)\n",
        "    \n",
        "    model = create_lstm(VOCAB_SIZE, EMBEDDING_DIMENSION, MAX_TEXT_SIZE)\n",
        "    model.summary()\n",
        "    #model.compile(loss=tf.keras.losses.SparseCategoricalCrossentropy(from_logits=False), optimizer=optimizer, metrics=['accuracy'])\n",
        "    model.compile(loss=tf.keras.losses.BinaryCrossentropy(), optimizer=optimizer, metrics=['accuracy'])                                                                                                 \n",
        "    history = model.fit(x_train, y_train, batch_size=batch_size, epochs=epochs, validation_split = validation_and_test_size, verbose=2, use_multiprocessing=True)\n",
        "    scores = model.evaluate(x_test, y_test, verbose=1)\n",
        "    \n",
        "    return history, model, x_test, y_test, scores"
      ],
      "metadata": {
        "id": "wYnrq-34uZX5"
      },
      "execution_count": 20,
      "outputs": []
    },
    {
      "cell_type": "code",
      "source": [
        "# plot dos gráficos\n",
        "history, model1, x_test, y_test, scores = train_model(input_data, output_label, EMBEDDING_DIMENSION, BATCH_SIZE, EPOCHS, VAL_AND_TST_SIZE)"
      ],
      "metadata": {
        "id": "9YLL1kZTDzUG",
        "outputId": "6eb52ed9-a512-44d0-bdb2-5225bd4a921c",
        "colab": {
          "base_uri": "https://localhost:8080/"
        }
      },
      "execution_count": 30,
      "outputs": [
        {
          "output_type": "stream",
          "name": "stdout",
          "text": [
            "Model: \"sequential_1\"\n",
            "_________________________________________________________________\n",
            " Layer (type)                Output Shape              Param #   \n",
            "=================================================================\n",
            " embedding_1 (Embedding)     (None, 55, 300)           5712900   \n",
            "                                                                 \n",
            " LSTM (LSTM)                 (None, 100)               160400    \n",
            "                                                                 \n",
            " dense_1 (Dense)             (None, 1)                 101       \n",
            "                                                                 \n",
            "=================================================================\n",
            "Total params: 5,873,401\n",
            "Trainable params: 5,873,401\n",
            "Non-trainable params: 0\n",
            "_________________________________________________________________\n",
            "Epoch 1/10\n",
            "106/106 - 3s - loss: 0.6942 - accuracy: 0.5029 - val_loss: 0.6938 - val_accuracy: 0.4888 - 3s/epoch - 30ms/step\n",
            "Epoch 2/10\n",
            "106/106 - 1s - loss: 0.6936 - accuracy: 0.4962 - val_loss: 0.6929 - val_accuracy: 0.5112 - 957ms/epoch - 9ms/step\n",
            "Epoch 3/10\n",
            "106/106 - 1s - loss: 0.6854 - accuracy: 0.5280 - val_loss: 0.6351 - val_accuracy: 0.6342 - 902ms/epoch - 9ms/step\n",
            "Epoch 4/10\n",
            "106/106 - 1s - loss: 0.6255 - accuracy: 0.6477 - val_loss: 0.6759 - val_accuracy: 0.5532 - 893ms/epoch - 8ms/step\n",
            "Epoch 5/10\n",
            "106/106 - 1s - loss: 0.6108 - accuracy: 0.6654 - val_loss: 0.6171 - val_accuracy: 0.6879 - 954ms/epoch - 9ms/step\n",
            "Epoch 6/10\n",
            "106/106 - 1s - loss: 0.5092 - accuracy: 0.7823 - val_loss: 0.6370 - val_accuracy: 0.6649 - 967ms/epoch - 9ms/step\n",
            "Epoch 7/10\n",
            "106/106 - 1s - loss: 0.4115 - accuracy: 0.8506 - val_loss: 0.4661 - val_accuracy: 0.8203 - 943ms/epoch - 9ms/step\n",
            "Epoch 8/10\n",
            "106/106 - 1s - loss: 0.3404 - accuracy: 0.8771 - val_loss: 0.4040 - val_accuracy: 0.8664 - 893ms/epoch - 8ms/step\n",
            "Epoch 9/10\n",
            "106/106 - 1s - loss: 0.2434 - accuracy: 0.9266 - val_loss: 0.4233 - val_accuracy: 0.8723 - 880ms/epoch - 8ms/step\n",
            "Epoch 10/10\n",
            "106/106 - 1s - loss: 0.1891 - accuracy: 0.9502 - val_loss: 0.2745 - val_accuracy: 0.9232 - 877ms/epoch - 8ms/step\n",
            "67/67 [==============================] - 0s 3ms/step - loss: 0.2922 - accuracy: 0.9191\n"
          ]
        }
      ]
    },
    {
      "cell_type": "code",
      "source": [
        "# Parâmetros\n",
        "NOME_REDE = REDE_LSTM\n",
        "NOME_BASE = BASE_1\n",
        "NOME_FUNCAO = FUNCAO_ATV_SIGMOID\n",
        "NOME_OTIMIZADOR = OTIMIZADOR_2\n",
        "\n",
        "# Salvando resultado do modelo\n",
        "registro_resultado = {resultados.columns[0]: NOME_REDE, \n",
        "                      resultados.columns[1]: NOME_BASE, \n",
        "                      resultados.columns[2]: NOME_FUNCAO, \n",
        "                      resultados.columns[3]: NOME_OTIMIZADOR, \n",
        "                      resultados.columns[4]: scores[1]}\n",
        "resultados = resultados.append(registro_resultado, ignore_index=True)\n",
        "resultados"
      ],
      "metadata": {
        "id": "wjgeZV9tsZVy",
        "outputId": "b6151e49-5081-4133-c413-0f2a3be9fdc3",
        "colab": {
          "base_uri": "https://localhost:8080/",
          "height": 896
        }
      },
      "execution_count": 31,
      "outputs": [
        {
          "output_type": "execute_result",
          "data": {
            "text/plain": [
              "         rede       base   funcao_ativacao       otimizador  \\\n",
              "0   nome_rede  nome_base  nome_funcao_ativ  nome_otimizador   \n",
              "1        LSTM     BASE 1           SIGMOID                2   \n",
              "2        LSTM     BASE 1           SIGMOID                2   \n",
              "3        LSTM     BASE 1           SIGMOID                2   \n",
              "4        LSTM     BASE 1           SIGMOID                2   \n",
              "5        LSTM     BASE 1           SIGMOID                2   \n",
              "6        LSTM     BASE 1           SIGMOID                2   \n",
              "7        LSTM     BASE 1           SIGMOID                2   \n",
              "8        LSTM     BASE 1           SIGMOID                2   \n",
              "9        LSTM     BASE 1           SIGMOID                2   \n",
              "10       LSTM     BASE 1           SIGMOID                2   \n",
              "11       LSTM     BASE 1           SIGMOID                2   \n",
              "12       LSTM     BASE 1           SIGMOID                2   \n",
              "13       LSTM     BASE 1           SIGMOID                2   \n",
              "14       LSTM     BASE 1           SIGMOID                2   \n",
              "15       LSTM     BASE 1           SIGMOID                2   \n",
              "16       LSTM     BASE 1           SIGMOID                2   \n",
              "17       LSTM     BASE 1           SIGMOID                2   \n",
              "18       LSTM     BASE 1           SIGMOID                2   \n",
              "19       LSTM     BASE 1           SIGMOID                2   \n",
              "20       LSTM     BASE 1           SIGMOID                2   \n",
              "21       LSTM     BASE 1           SIGMOID                2   \n",
              "22       LSTM     BASE 1           SIGMOID                2   \n",
              "23       LSTM     BASE 1           SIGMOID                2   \n",
              "24       LSTM     BASE 1           SIGMOID                2   \n",
              "25       LSTM     BASE 1           SIGMOID                2   \n",
              "26       LSTM     BASE 1           SIGMOID                2   \n",
              "\n",
              "              acuracia  \n",
              "0             acuracia  \n",
              "1    0.944208025932312  \n",
              "2    0.922931432723999  \n",
              "3   0.9607564806938171  \n",
              "4   0.9498817920684814  \n",
              "5    0.957446813583374  \n",
              "6   0.8562647700309753  \n",
              "7   0.7806146740913391  \n",
              "8   0.7796690464019775  \n",
              "9   0.8208037614822388  \n",
              "10  0.7782505750656128  \n",
              "11   0.785342812538147  \n",
              "12  0.8208037614822388  \n",
              "13   0.778723418712616  \n",
              "14  0.7820330858230591  \n",
              "15  0.8208037614822388  \n",
              "16  0.7796690464019775  \n",
              "17  0.7820330858230591  \n",
              "18  0.8212766051292419  \n",
              "19  0.7796690464019775  \n",
              "20   0.778723418712616  \n",
              "21  0.7773049473762512  \n",
              "22   0.778723418712616  \n",
              "23  0.8586288690567017  \n",
              "24  0.8146572113037109  \n",
              "25            0.780142  \n",
              "26            0.919149  "
            ],
            "text/html": [
              "\n",
              "  <div id=\"df-fa284eec-1b06-474c-92e8-e7cde11f08a4\">\n",
              "    <div class=\"colab-df-container\">\n",
              "      <div>\n",
              "<style scoped>\n",
              "    .dataframe tbody tr th:only-of-type {\n",
              "        vertical-align: middle;\n",
              "    }\n",
              "\n",
              "    .dataframe tbody tr th {\n",
              "        vertical-align: top;\n",
              "    }\n",
              "\n",
              "    .dataframe thead th {\n",
              "        text-align: right;\n",
              "    }\n",
              "</style>\n",
              "<table border=\"1\" class=\"dataframe\">\n",
              "  <thead>\n",
              "    <tr style=\"text-align: right;\">\n",
              "      <th></th>\n",
              "      <th>rede</th>\n",
              "      <th>base</th>\n",
              "      <th>funcao_ativacao</th>\n",
              "      <th>otimizador</th>\n",
              "      <th>acuracia</th>\n",
              "    </tr>\n",
              "  </thead>\n",
              "  <tbody>\n",
              "    <tr>\n",
              "      <th>0</th>\n",
              "      <td>nome_rede</td>\n",
              "      <td>nome_base</td>\n",
              "      <td>nome_funcao_ativ</td>\n",
              "      <td>nome_otimizador</td>\n",
              "      <td>acuracia</td>\n",
              "    </tr>\n",
              "    <tr>\n",
              "      <th>1</th>\n",
              "      <td>LSTM</td>\n",
              "      <td>BASE 1</td>\n",
              "      <td>SIGMOID</td>\n",
              "      <td>2</td>\n",
              "      <td>0.944208025932312</td>\n",
              "    </tr>\n",
              "    <tr>\n",
              "      <th>2</th>\n",
              "      <td>LSTM</td>\n",
              "      <td>BASE 1</td>\n",
              "      <td>SIGMOID</td>\n",
              "      <td>2</td>\n",
              "      <td>0.922931432723999</td>\n",
              "    </tr>\n",
              "    <tr>\n",
              "      <th>3</th>\n",
              "      <td>LSTM</td>\n",
              "      <td>BASE 1</td>\n",
              "      <td>SIGMOID</td>\n",
              "      <td>2</td>\n",
              "      <td>0.9607564806938171</td>\n",
              "    </tr>\n",
              "    <tr>\n",
              "      <th>4</th>\n",
              "      <td>LSTM</td>\n",
              "      <td>BASE 1</td>\n",
              "      <td>SIGMOID</td>\n",
              "      <td>2</td>\n",
              "      <td>0.9498817920684814</td>\n",
              "    </tr>\n",
              "    <tr>\n",
              "      <th>5</th>\n",
              "      <td>LSTM</td>\n",
              "      <td>BASE 1</td>\n",
              "      <td>SIGMOID</td>\n",
              "      <td>2</td>\n",
              "      <td>0.957446813583374</td>\n",
              "    </tr>\n",
              "    <tr>\n",
              "      <th>6</th>\n",
              "      <td>LSTM</td>\n",
              "      <td>BASE 1</td>\n",
              "      <td>SIGMOID</td>\n",
              "      <td>2</td>\n",
              "      <td>0.8562647700309753</td>\n",
              "    </tr>\n",
              "    <tr>\n",
              "      <th>7</th>\n",
              "      <td>LSTM</td>\n",
              "      <td>BASE 1</td>\n",
              "      <td>SIGMOID</td>\n",
              "      <td>2</td>\n",
              "      <td>0.7806146740913391</td>\n",
              "    </tr>\n",
              "    <tr>\n",
              "      <th>8</th>\n",
              "      <td>LSTM</td>\n",
              "      <td>BASE 1</td>\n",
              "      <td>SIGMOID</td>\n",
              "      <td>2</td>\n",
              "      <td>0.7796690464019775</td>\n",
              "    </tr>\n",
              "    <tr>\n",
              "      <th>9</th>\n",
              "      <td>LSTM</td>\n",
              "      <td>BASE 1</td>\n",
              "      <td>SIGMOID</td>\n",
              "      <td>2</td>\n",
              "      <td>0.8208037614822388</td>\n",
              "    </tr>\n",
              "    <tr>\n",
              "      <th>10</th>\n",
              "      <td>LSTM</td>\n",
              "      <td>BASE 1</td>\n",
              "      <td>SIGMOID</td>\n",
              "      <td>2</td>\n",
              "      <td>0.7782505750656128</td>\n",
              "    </tr>\n",
              "    <tr>\n",
              "      <th>11</th>\n",
              "      <td>LSTM</td>\n",
              "      <td>BASE 1</td>\n",
              "      <td>SIGMOID</td>\n",
              "      <td>2</td>\n",
              "      <td>0.785342812538147</td>\n",
              "    </tr>\n",
              "    <tr>\n",
              "      <th>12</th>\n",
              "      <td>LSTM</td>\n",
              "      <td>BASE 1</td>\n",
              "      <td>SIGMOID</td>\n",
              "      <td>2</td>\n",
              "      <td>0.8208037614822388</td>\n",
              "    </tr>\n",
              "    <tr>\n",
              "      <th>13</th>\n",
              "      <td>LSTM</td>\n",
              "      <td>BASE 1</td>\n",
              "      <td>SIGMOID</td>\n",
              "      <td>2</td>\n",
              "      <td>0.778723418712616</td>\n",
              "    </tr>\n",
              "    <tr>\n",
              "      <th>14</th>\n",
              "      <td>LSTM</td>\n",
              "      <td>BASE 1</td>\n",
              "      <td>SIGMOID</td>\n",
              "      <td>2</td>\n",
              "      <td>0.7820330858230591</td>\n",
              "    </tr>\n",
              "    <tr>\n",
              "      <th>15</th>\n",
              "      <td>LSTM</td>\n",
              "      <td>BASE 1</td>\n",
              "      <td>SIGMOID</td>\n",
              "      <td>2</td>\n",
              "      <td>0.8208037614822388</td>\n",
              "    </tr>\n",
              "    <tr>\n",
              "      <th>16</th>\n",
              "      <td>LSTM</td>\n",
              "      <td>BASE 1</td>\n",
              "      <td>SIGMOID</td>\n",
              "      <td>2</td>\n",
              "      <td>0.7796690464019775</td>\n",
              "    </tr>\n",
              "    <tr>\n",
              "      <th>17</th>\n",
              "      <td>LSTM</td>\n",
              "      <td>BASE 1</td>\n",
              "      <td>SIGMOID</td>\n",
              "      <td>2</td>\n",
              "      <td>0.7820330858230591</td>\n",
              "    </tr>\n",
              "    <tr>\n",
              "      <th>18</th>\n",
              "      <td>LSTM</td>\n",
              "      <td>BASE 1</td>\n",
              "      <td>SIGMOID</td>\n",
              "      <td>2</td>\n",
              "      <td>0.8212766051292419</td>\n",
              "    </tr>\n",
              "    <tr>\n",
              "      <th>19</th>\n",
              "      <td>LSTM</td>\n",
              "      <td>BASE 1</td>\n",
              "      <td>SIGMOID</td>\n",
              "      <td>2</td>\n",
              "      <td>0.7796690464019775</td>\n",
              "    </tr>\n",
              "    <tr>\n",
              "      <th>20</th>\n",
              "      <td>LSTM</td>\n",
              "      <td>BASE 1</td>\n",
              "      <td>SIGMOID</td>\n",
              "      <td>2</td>\n",
              "      <td>0.778723418712616</td>\n",
              "    </tr>\n",
              "    <tr>\n",
              "      <th>21</th>\n",
              "      <td>LSTM</td>\n",
              "      <td>BASE 1</td>\n",
              "      <td>SIGMOID</td>\n",
              "      <td>2</td>\n",
              "      <td>0.7773049473762512</td>\n",
              "    </tr>\n",
              "    <tr>\n",
              "      <th>22</th>\n",
              "      <td>LSTM</td>\n",
              "      <td>BASE 1</td>\n",
              "      <td>SIGMOID</td>\n",
              "      <td>2</td>\n",
              "      <td>0.778723418712616</td>\n",
              "    </tr>\n",
              "    <tr>\n",
              "      <th>23</th>\n",
              "      <td>LSTM</td>\n",
              "      <td>BASE 1</td>\n",
              "      <td>SIGMOID</td>\n",
              "      <td>2</td>\n",
              "      <td>0.8586288690567017</td>\n",
              "    </tr>\n",
              "    <tr>\n",
              "      <th>24</th>\n",
              "      <td>LSTM</td>\n",
              "      <td>BASE 1</td>\n",
              "      <td>SIGMOID</td>\n",
              "      <td>2</td>\n",
              "      <td>0.8146572113037109</td>\n",
              "    </tr>\n",
              "    <tr>\n",
              "      <th>25</th>\n",
              "      <td>LSTM</td>\n",
              "      <td>BASE 1</td>\n",
              "      <td>SIGMOID</td>\n",
              "      <td>2</td>\n",
              "      <td>0.780142</td>\n",
              "    </tr>\n",
              "    <tr>\n",
              "      <th>26</th>\n",
              "      <td>LSTM</td>\n",
              "      <td>BASE 1</td>\n",
              "      <td>SIGMOID</td>\n",
              "      <td>2</td>\n",
              "      <td>0.919149</td>\n",
              "    </tr>\n",
              "  </tbody>\n",
              "</table>\n",
              "</div>\n",
              "      <button class=\"colab-df-convert\" onclick=\"convertToInteractive('df-fa284eec-1b06-474c-92e8-e7cde11f08a4')\"\n",
              "              title=\"Convert this dataframe to an interactive table.\"\n",
              "              style=\"display:none;\">\n",
              "        \n",
              "  <svg xmlns=\"http://www.w3.org/2000/svg\" height=\"24px\"viewBox=\"0 0 24 24\"\n",
              "       width=\"24px\">\n",
              "    <path d=\"M0 0h24v24H0V0z\" fill=\"none\"/>\n",
              "    <path d=\"M18.56 5.44l.94 2.06.94-2.06 2.06-.94-2.06-.94-.94-2.06-.94 2.06-2.06.94zm-11 1L8.5 8.5l.94-2.06 2.06-.94-2.06-.94L8.5 2.5l-.94 2.06-2.06.94zm10 10l.94 2.06.94-2.06 2.06-.94-2.06-.94-.94-2.06-.94 2.06-2.06.94z\"/><path d=\"M17.41 7.96l-1.37-1.37c-.4-.4-.92-.59-1.43-.59-.52 0-1.04.2-1.43.59L10.3 9.45l-7.72 7.72c-.78.78-.78 2.05 0 2.83L4 21.41c.39.39.9.59 1.41.59.51 0 1.02-.2 1.41-.59l7.78-7.78 2.81-2.81c.8-.78.8-2.07 0-2.86zM5.41 20L4 18.59l7.72-7.72 1.47 1.35L5.41 20z\"/>\n",
              "  </svg>\n",
              "      </button>\n",
              "      \n",
              "  <style>\n",
              "    .colab-df-container {\n",
              "      display:flex;\n",
              "      flex-wrap:wrap;\n",
              "      gap: 12px;\n",
              "    }\n",
              "\n",
              "    .colab-df-convert {\n",
              "      background-color: #E8F0FE;\n",
              "      border: none;\n",
              "      border-radius: 50%;\n",
              "      cursor: pointer;\n",
              "      display: none;\n",
              "      fill: #1967D2;\n",
              "      height: 32px;\n",
              "      padding: 0 0 0 0;\n",
              "      width: 32px;\n",
              "    }\n",
              "\n",
              "    .colab-df-convert:hover {\n",
              "      background-color: #E2EBFA;\n",
              "      box-shadow: 0px 1px 2px rgba(60, 64, 67, 0.3), 0px 1px 3px 1px rgba(60, 64, 67, 0.15);\n",
              "      fill: #174EA6;\n",
              "    }\n",
              "\n",
              "    [theme=dark] .colab-df-convert {\n",
              "      background-color: #3B4455;\n",
              "      fill: #D2E3FC;\n",
              "    }\n",
              "\n",
              "    [theme=dark] .colab-df-convert:hover {\n",
              "      background-color: #434B5C;\n",
              "      box-shadow: 0px 1px 3px 1px rgba(0, 0, 0, 0.15);\n",
              "      filter: drop-shadow(0px 1px 2px rgba(0, 0, 0, 0.3));\n",
              "      fill: #FFFFFF;\n",
              "    }\n",
              "  </style>\n",
              "\n",
              "      <script>\n",
              "        const buttonEl =\n",
              "          document.querySelector('#df-fa284eec-1b06-474c-92e8-e7cde11f08a4 button.colab-df-convert');\n",
              "        buttonEl.style.display =\n",
              "          google.colab.kernel.accessAllowed ? 'block' : 'none';\n",
              "\n",
              "        async function convertToInteractive(key) {\n",
              "          const element = document.querySelector('#df-fa284eec-1b06-474c-92e8-e7cde11f08a4');\n",
              "          const dataTable =\n",
              "            await google.colab.kernel.invokeFunction('convertToInteractive',\n",
              "                                                     [key], {});\n",
              "          if (!dataTable) return;\n",
              "\n",
              "          const docLinkHtml = 'Like what you see? Visit the ' +\n",
              "            '<a target=\"_blank\" href=https://colab.research.google.com/notebooks/data_table.ipynb>data table notebook</a>'\n",
              "            + ' to learn more about interactive tables.';\n",
              "          element.innerHTML = '';\n",
              "          dataTable['output_type'] = 'display_data';\n",
              "          await google.colab.output.renderOutput(dataTable, element);\n",
              "          const docLink = document.createElement('div');\n",
              "          docLink.innerHTML = docLinkHtml;\n",
              "          element.appendChild(docLink);\n",
              "        }\n",
              "      </script>\n",
              "    </div>\n",
              "  </div>\n",
              "  "
            ]
          },
          "metadata": {},
          "execution_count": 31
        }
      ]
    },
    {
      "cell_type": "markdown",
      "source": [
        "Execução: Reiniciar e executar tudo  \n",
        "\n",
        "batch size: 32  \n",
        "otimizador: RMSprop  \n",
        "19 \tLSTM \tBASE 1 \tSIGMOID \t2 \t0.7796690464019775  \n",
        "20 \tLSTM \tBASE 1 \tSIGMOID \t2 \t0.778723418712616  \n",
        "21 \tLSTM \tBASE 1 \tSIGMOID \t2 \t0.7773049473762512  \n",
        "22 \tLSTM \tBASE 1 \tSIGMOID \t2 \t0.778723418712616  \n",
        "\n",
        "batch size: 64  \n",
        "otimizador: NAdam  \n",
        "23 \tLSTM \tBASE 1 \tSIGMOID \t2 \t0.8586288690567017  \n",
        "24 \tLSTM \tBASE 1 \tSIGMOID \t2 \t0.8146572113037109  \n",
        "25 \tLSTM \tBASE 1 \tSIGMOID \t2 \t0.780142  \n",
        "26 \tLSTM \tBASE 1 \tSIGMOID \t2 \t0.919149  "
      ],
      "metadata": {
        "id": "AFGb1FnOmuTO"
      }
    },
    {
      "cell_type": "code",
      "source": [
        "# Caso queira deletar uma linha use o código abaixo\n",
        "# Use a propriedade label para especificar o índice da linha\n",
        "#resultados = resultados.drop(labels=1, axis=0)\n",
        "#resultados = resultados.reset_index(drop=True)\n",
        "#resultados"
      ],
      "metadata": {
        "id": "nP3enYmss2v9"
      },
      "execution_count": 23,
      "outputs": []
    },
    {
      "cell_type": "code",
      "source": [
        "# Salva arquivo de saída\n",
        "resultados.to_csv(PATH_ARQ_SAIDA)"
      ],
      "metadata": {
        "id": "y519ohA8u9jW"
      },
      "execution_count": 24,
      "outputs": []
    },
    {
      "cell_type": "code",
      "source": [
        "### LSTM ###\n",
        "# 67/67 [==============================] - 0s 3ms/step - loss: 0.5935 - accuracy: 0.6969 -> Com Embeddings\n",
        "# 67/67 [==============================] - 0s 4ms/step - loss: 0.3518 - accuracy: 0.8544 -> Sem Embeddings\n",
        "\n",
        "### CNN ###\n",
        "# 67/67 [==============================] - 0s 3ms/step - loss: 0.5627 - accuracy: 0.7059 -> Com Embeddings\n",
        "# 67/67 [==============================] - 0s 3ms/step - loss: 0.4298 - accuracy: 0.8113 -> Sem Embeddings"
      ],
      "metadata": {
        "id": "75yZp3uxd4oK"
      },
      "execution_count": 25,
      "outputs": []
    },
    {
      "cell_type": "code",
      "source": [
        "plot_accuracy(history)"
      ],
      "metadata": {
        "id": "rHqQtBxJAMZY",
        "outputId": "75b3ec0b-985e-47d7-acf1-c25d76f2b8b7",
        "colab": {
          "base_uri": "https://localhost:8080/",
          "height": 591
        }
      },
      "execution_count": 26,
      "outputs": [
        {
          "output_type": "stream",
          "name": "stdout",
          "text": [
            "accuracy val_accuracy loss val_loss\n"
          ]
        },
        {
          "output_type": "display_data",
          "data": {
            "text/plain": [
              "<Figure size 432x288 with 1 Axes>"
            ],
            "image/png": "[encoded data removed]"
          },
          "metadata": {
            "needs_background": "light"
          }
        },
        {
          "output_type": "display_data",
          "data": {
            "text/plain": [
              "<Figure size 432x288 with 1 Axes>"
            ],
            "image/png": "[encoded data removed]"
          },
          "metadata": {
            "needs_background": "light"
          }
        }
      ]
    },
    {
      "cell_type": "code",
      "source": [
        "y_prob = model1.predict(x_test) \n",
        "#y_labelpred = y_prob.argmax(axis=-1)\n",
        "y_labelpred = y_prob.round()\n",
        "print(y_prob)\n",
        "y_labeltrue=y_test\n",
        "print(y_test)"
      ],
      "metadata": {
        "id": "FR-idj87D4-N",
        "outputId": "d200f311-e015-440d-ba34-bdf211039d24",
        "colab": {
          "base_uri": "https://localhost:8080/"
        }
      },
      "execution_count": 27,
      "outputs": [
        {
          "output_type": "stream",
          "name": "stdout",
          "text": [
            "[[0.8674852 ]\n",
            " [0.8673447 ]\n",
            " [0.01631256]\n",
            " ...\n",
            " [0.86755127]\n",
            " [0.86612904]\n",
            " [0.8667243 ]]\n",
            "3280    1\n",
            "220     1\n",
            "9005    0\n",
            "7093    0\n",
            "1790    1\n",
            "       ..\n",
            "5631    0\n",
            "5752    0\n",
            "1156    1\n",
            "3773    1\n",
            "8153    0\n",
            "Name: label, Length: 2115, dtype: int64\n"
          ]
        }
      ]
    },
    {
      "cell_type": "code",
      "metadata": {
        "id": "rYpv7sUlaqPH",
        "colab": {
          "base_uri": "https://localhost:8080/",
          "height": 629
        },
        "outputId": "839b025a-4f95-40c6-8476-1e05cfb357d0"
      },
      "source": [
        "from mlxtend.plotting import plot_confusion_matrix\n",
        "from sklearn.metrics import confusion_matrix\n",
        "import matplotlib.pyplot as plt\n",
        "\n",
        "classes = confusion_matrix(y_labeltrue,y_labelpred)\n",
        "\n",
        "fig,ax = plot_confusion_matrix(figsize=(11, 11),conf_mat=classes,\n",
        "                                colorbar=True,\n",
        "                                show_absolute=True,\n",
        "                                show_normed=True,\n",
        "                              )\n",
        "plt.show()"
      ],
      "execution_count": 28,
      "outputs": [
        {
          "output_type": "display_data",
          "data": {
            "text/plain": [
              "<Figure size 792x792 with 2 Axes>"
            ],
            "image/png": "[encoded data removed]"
          },
          "metadata": {
            "needs_background": "light"
          }
        }
      ]
    },
    {
      "cell_type": "code",
      "source": [
        "tf.keras.utils.plot_model(model1, to_file='/meuarquivo.png', show_shapes=True)"
      ],
      "metadata": {
        "id": "SqzyjKSXJ6Tq",
        "outputId": "d4b7eda7-afde-4cbf-cf3d-88d21e8993b5",
        "colab": {
          "base_uri": "https://localhost:8080/",
          "height": 422
        }
      },
      "execution_count": 29,
      "outputs": [
        {
          "output_type": "execute_result",
          "data": {
            "text/plain": [
              "<IPython.core.display.Image object>"
            ],
            "image/png": "[encoded data removed]"
          },
          "metadata": {},
          "execution_count": 29
        }
      ]
    }
  ]
}