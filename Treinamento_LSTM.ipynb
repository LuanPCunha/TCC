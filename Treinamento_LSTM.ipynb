{
  "nbformat": 4,
  "nbformat_minor": 0,
  "metadata": {
    "colab": {
      "name": "Treinamento_LSTM.ipynb",
      "provenance": [],
      "authorship_tag": "ABX9TyPAyjsiBOkMW2A7vwElTHLJ",
      "include_colab_link": true
    },
    "kernelspec": {
      "name": "python3",
      "display_name": "Python 3"
    },
    "language_info": {
      "name": "python"
    }
  },
  "cells": [
    {
      "cell_type": "markdown",
      "metadata": {
        "id": "view-in-github",
        "colab_type": "text"
      },
      "source": [
        "<a href=\"https://colab.research.google.com/github/LuanPCunha/TCC/blob/main/Treinamento_LSTM.ipynb\" target=\"_parent\"><img src=\"https://colab.research.google.com/assets/colab-badge.svg\" alt=\"Open In Colab\"/></a>"
      ]
    },
    {
      "cell_type": "markdown",
      "source": [
        "#LSTM MEI CHUCHU"
      ],
      "metadata": {
        "id": "EGijF9Vd3Al_"
      }
    },
    {
      "cell_type": "code",
      "source": [
        "from sklearn import metrics\n",
        "from keras import layers, models, optimizers\n",
        "\n",
        "def train_model(classifier, feature_vector_train, label, feature_vector_valid):\n",
        "    # fit the training dataset on the classifier\n",
        "    classifier.compile(loss='binary_crossentropy', optimizer='adam', metrics=['accuracy'])\n",
        "    print(classifier.summary())\n",
        "    classifier.fit(feature_vector_train, label, epochs=3)\n",
        "    return classifier\n",
        "\n",
        "def create_rnn_lstm(embedding_matrix):\n",
        "  \n",
        "  model_input = layers.Input(shape=(50, ),name=\"input\",dtype='int32')\n",
        "  embedding = layers.Embedding(len(word_index) + 1, 50, weights=[embedding_matrix])(model_input)\n",
        "  embedding = layers.SpatialDropout1D(0.3)(embedding)\n",
        "  lstm = layers.LSTM(1000, dropout =0.1, name=\"LSTM\")(embedding)\n",
        "  output = layers.Dense(1, activation='sigmoid',name='sigmoid')(lstm)\n",
        "  model = models.Model(inputs=model_input,outputs=output)\n",
        "  return model\n",
        "\n",
        "classifier = create_rnn_lstm(embedding_matrix)\n",
        "trainedModel = train_model(classifier, train_seq_x, train_y, valid_seq_x)\n",
        "# predict the labels on validation dataset\n",
        "predictions = trainedModel.predict(valid_seq_x)\n",
        "predictions = predictions.round()\n",
        "\n",
        "print(\"RNN-LSTM, Word Embeddings\",  metrics.accuracy_score(valid_y,predictions))\n",
        "print(predictions)"
      ],
      "metadata": {
        "id": "hyJNDeOp5II9"
      },
      "execution_count": null,
      "outputs": []
    }
  ]
}