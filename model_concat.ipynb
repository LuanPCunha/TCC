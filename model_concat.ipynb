{
  "nbformat": 4,
  "nbformat_minor": 0,
  "metadata": {
    "colab": {
      "name": "model-concat.ipynb",
      "provenance": [],
      "collapsed_sections": [],
      "include_colab_link": true
    },
    "kernelspec": {
      "display_name": "Python 3",
      "language": "python",
      "name": "python3"
    },
    "language_info": {
      "codemirror_mode": {
        "name": "ipython",
        "version": 3
      },
      "file_extension": ".py",
      "mimetype": "text/x-python",
      "name": "python",
      "nbconvert_exporter": "python",
      "pygments_lexer": "ipython3",
      "version": "3.6.8"
    },
    "accelerator": "GPU"
  },
  "cells": [
    {
      "cell_type": "markdown",
      "metadata": {
        "id": "view-in-github",
        "colab_type": "text"
      },
      "source": [
        "<a href=\"https://colab.research.google.com/github/LuanPCunha/TCC/blob/main/model_concat.ipynb\" target=\"_parent\"><img src=\"https://colab.research.google.com/assets/colab-badge.svg\" alt=\"Open In Colab\"/></a>"
      ]
    },
    {
      "cell_type": "code",
      "source": [
        "from google.colab import drive\n",
        "drive.mount('/content/drive')"
      ],
      "metadata": {
        "id": "QRHdLGvSmLDU",
        "colab": {
          "base_uri": "https://localhost:8080/"
        },
        "outputId": "6854eb6f-47fd-42c3-f63e-3a7deada15ca"
      },
      "execution_count": null,
      "outputs": [
        {
          "output_type": "stream",
          "name": "stdout",
          "text": [
            "Mounted at /content/drive\n"
          ]
        }
      ]
    },
    {
      "cell_type": "code",
      "source": [
        "# instalar apenas um vez\n",
        "!pip install fasttext"
      ],
      "metadata": {
        "id": "fTdyQIzclpbx",
        "colab": {
          "base_uri": "https://localhost:8080/"
        },
        "outputId": "597e6fed-94c7-444c-8d48-33fe21ecd8e7"
      },
      "execution_count": null,
      "outputs": [
        {
          "output_type": "stream",
          "name": "stdout",
          "text": [
            "Looking in indexes: https://pypi.org/simple, https://us-python.pkg.dev/colab-wheels/public/simple/\n",
            "Collecting fasttext\n",
            "  Downloading fasttext-0.9.2.tar.gz (68 kB)\n",
            "\u001b[K     |████████████████████████████████| 68 kB 3.5 MB/s \n",
            "\u001b[?25hCollecting pybind11>=2.2\n",
            "  Using cached pybind11-2.9.2-py2.py3-none-any.whl (213 kB)\n",
            "Requirement already satisfied: setuptools>=0.7.0 in /usr/local/lib/python3.7/dist-packages (from fasttext) (57.4.0)\n",
            "Requirement already satisfied: numpy in /usr/local/lib/python3.7/dist-packages (from fasttext) (1.21.6)\n",
            "Building wheels for collected packages: fasttext\n",
            "  Building wheel for fasttext (setup.py) ... \u001b[?25l\u001b[?25hdone\n",
            "  Created wheel for fasttext: filename=fasttext-0.9.2-cp37-cp37m-linux_x86_64.whl size=3143776 sha256=b647cb976c8c26f493bb8980789f92fa44e1e6fec0b241c116c060d04a12ec88\n",
            "  Stored in directory: /root/.cache/pip/wheels/4e/ca/bf/b020d2be95f7641801a6597a29c8f4f19e38f9c02a345bab9b\n",
            "Successfully built fasttext\n",
            "Installing collected packages: pybind11, fasttext\n",
            "Successfully installed fasttext-0.9.2 pybind11-2.9.2\n"
          ]
        }
      ]
    },
    {
      "cell_type": "code",
      "source": [
        "# Downloading fasttext word vectors\n",
        "# https://fasttext.cc/docs/en/crawl-vectors.html\n",
        "!wget https://dl.fbaipublicfiles.com/fasttext/vectors-crawl/cc.pt.300.vec.gz\n",
        "! gunzip cc.pt.300.vec.gz\n",
        "\n"
      ],
      "metadata": {
        "id": "X-gmzj7clkjK",
        "colab": {
          "base_uri": "https://localhost:8080/"
        },
        "outputId": "6143cae6-f849-45e6-81dc-8ff5dc790209"
      },
      "execution_count": null,
      "outputs": [
        {
          "output_type": "stream",
          "name": "stdout",
          "text": [
            "--2022-05-23 23:01:15--  https://dl.fbaipublicfiles.com/fasttext/vectors-crawl/cc.pt.300.vec.gz\n",
            "Resolving dl.fbaipublicfiles.com (dl.fbaipublicfiles.com)... 104.22.74.142, 172.67.9.4, 104.22.75.142, ...\n",
            "Connecting to dl.fbaipublicfiles.com (dl.fbaipublicfiles.com)|104.22.74.142|:443... connected.\n",
            "HTTP request sent, awaiting response... 200 OK\n",
            "Length: 1271093660 (1.2G) [binary/octet-stream]\n",
            "Saving to: ‘cc.pt.300.vec.gz’\n",
            "\n",
            "cc.pt.300.vec.gz    100%[===================>]   1.18G  29.5MB/s    in 37s     \n",
            "\n",
            "2022-05-23 23:01:53 (33.1 MB/s) - ‘cc.pt.300.vec.gz’ saved [1271093660/1271093660]\n",
            "\n"
          ]
        }
      ]
    },
    {
      "cell_type": "code",
      "metadata": {
        "id": "9_i7odg5ZeQB",
        "colab": {
          "base_uri": "https://localhost:8080/"
        },
        "outputId": "fa8cde22-be9d-40b6-8156-85044c213375"
      },
      "source": [
        "!pip install pyvi\n",
        "!pip install emoji\n",
        "from numpy.random import seed\n",
        "import gensim "
      ],
      "execution_count": null,
      "outputs": [
        {
          "output_type": "stream",
          "name": "stdout",
          "text": [
            "Looking in indexes: https://pypi.org/simple, https://us-python.pkg.dev/colab-wheels/public/simple/\n",
            "Collecting pyvi\n",
            "  Downloading pyvi-0.1.1-py2.py3-none-any.whl (8.5 MB)\n",
            "\u001b[K     |████████████████████████████████| 8.5 MB 5.4 MB/s \n",
            "\u001b[?25hCollecting sklearn-crfsuite\n",
            "  Downloading sklearn_crfsuite-0.3.6-py2.py3-none-any.whl (12 kB)\n",
            "Requirement already satisfied: scikit-learn in /usr/local/lib/python3.7/dist-packages (from pyvi) (1.0.2)\n",
            "Requirement already satisfied: joblib>=0.11 in /usr/local/lib/python3.7/dist-packages (from scikit-learn->pyvi) (1.1.0)\n",
            "Requirement already satisfied: threadpoolctl>=2.0.0 in /usr/local/lib/python3.7/dist-packages (from scikit-learn->pyvi) (3.1.0)\n",
            "Requirement already satisfied: numpy>=1.14.6 in /usr/local/lib/python3.7/dist-packages (from scikit-learn->pyvi) (1.21.6)\n",
            "Requirement already satisfied: scipy>=1.1.0 in /usr/local/lib/python3.7/dist-packages (from scikit-learn->pyvi) (1.4.1)\n",
            "Requirement already satisfied: six in /usr/local/lib/python3.7/dist-packages (from sklearn-crfsuite->pyvi) (1.15.0)\n",
            "Collecting python-crfsuite>=0.8.3\n",
            "  Downloading python_crfsuite-0.9.8-cp37-cp37m-manylinux_2_17_x86_64.manylinux2014_x86_64.whl (965 kB)\n",
            "\u001b[K     |████████████████████████████████| 965 kB 46.9 MB/s \n",
            "\u001b[?25hRequirement already satisfied: tabulate in /usr/local/lib/python3.7/dist-packages (from sklearn-crfsuite->pyvi) (0.8.9)\n",
            "Requirement already satisfied: tqdm>=2.0 in /usr/local/lib/python3.7/dist-packages (from sklearn-crfsuite->pyvi) (4.64.0)\n",
            "Installing collected packages: python-crfsuite, sklearn-crfsuite, pyvi\n",
            "Successfully installed python-crfsuite-0.9.8 pyvi-0.1.1 sklearn-crfsuite-0.3.6\n",
            "Looking in indexes: https://pypi.org/simple, https://us-python.pkg.dev/colab-wheels/public/simple/\n",
            "Collecting emoji\n",
            "  Downloading emoji-1.7.0.tar.gz (175 kB)\n",
            "\u001b[K     |████████████████████████████████| 175 kB 4.9 MB/s \n",
            "\u001b[?25hBuilding wheels for collected packages: emoji\n",
            "  Building wheel for emoji (setup.py) ... \u001b[?25l\u001b[?25hdone\n",
            "  Created wheel for emoji: filename=emoji-1.7.0-py3-none-any.whl size=171046 sha256=bd5bf8efc59137ae39237f2dfb550765fb530cb5e89e327cb95e47bd09f4f6ef\n",
            "  Stored in directory: /root/.cache/pip/wheels/8a/4e/b6/57b01db010d17ef6ea9b40300af725ef3e210cb1acfb7ac8b6\n",
            "Successfully built emoji\n",
            "Installing collected packages: emoji\n",
            "Successfully installed emoji-1.7.0\n"
          ]
        }
      ]
    },
    {
      "cell_type": "code",
      "metadata": {
        "id": "yP1633VcZkFP"
      },
      "source": [
        "import time\n",
        "start_time = time.time()\n",
        "from sklearn.model_selection import train_test_split\n",
        "import sys, os, re, csv, codecs, numpy as np, pandas as pd\n",
        "np.random.seed(32)\n",
        "os.environ[\"OMP_NUM_THREADS\"] = \"4\"\n",
        "from keras.preprocessing.text import Tokenizer\n",
        "from keras.preprocessing.sequence import pad_sequences\n",
        "from keras.layers import Dense, Input, LSTM, Embedding, Dropout, Activation, Conv1D, GRU\n",
        "from keras.layers import Bidirectional, GlobalMaxPool1D, MaxPooling1D, Add, Flatten\n",
        "from keras.layers import GlobalAveragePooling1D, GlobalMaxPooling1D, concatenate, SpatialDropout1D\n",
        "from keras.models import Model, load_model\n",
        "from keras import initializers, regularizers, constraints, optimizers, layers, callbacks\n",
        "from keras import backend as K\n",
        "#from keras.engine import InputSpec, Layer\n",
        "from tensorflow.keras.layers import InputSpec\n",
        "import logging\n",
        "from sklearn.metrics import roc_auc_score\n",
        "from keras.callbacks import Callback"
      ],
      "execution_count": null,
      "outputs": []
    },
    {
      "cell_type": "markdown",
      "source": [
        "## Li que a acurácia não é um bom avaliador de desempenho para bases desbalanceadas por isso usa curva ROC"
      ],
      "metadata": {
        "id": "Kvdrfn2Kjqg3"
      }
    },
    {
      "cell_type": "code",
      "metadata": {
        "id": "J9-8hdlEZkHZ"
      },
      "source": [
        "class RocAucEvaluation(Callback):\n",
        "    def __init__(self, validation_data=(), interval=1):\n",
        "        super(Callback, self).__init__()\n",
        "\n",
        "        self.interval = interval\n",
        "        self.X_val, self.y_val = validation_data\n",
        "\n",
        "    def on_epoch_end(self, epoch, logs={}):\n",
        "        if epoch % self.interval == 0:\n",
        "            y_pred = self.model.predict(self.X_val, verbose=0)\n",
        "            score = roc_auc_score(self.y_val, y_pred)\n",
        "            print(\"\\n ROC-AUC - epoch: {:d} - score: {:.6f}\".format(epoch+1, score))"
      ],
      "execution_count": null,
      "outputs": []
    },
    {
      "cell_type": "markdown",
      "source": [
        "## Tem que alterar os nomes da varáveis para não ter que fazer isso em todo o programa, fiz isso no nosso arquivo csv no notepad mesmo\n",
        "\n",
        "\n",
        "*   label será label_id\n",
        "*   text será free_text\n",
        "\n"
      ],
      "metadata": {
        "id": "xnXWxKY4jAI1"
      }
    },
    {
      "cell_type": "code",
      "source": [
        "# lendo arquivo da base a ser classificada\n",
        "dataText = pd.read_csv('/content/drive/MyDrive/TCC/dados/processadas/balanceadas/Base2_classificada_balanceada.csv')\n"
      ],
      "metadata": {
        "id": "oTLf5lvQBfCT"
      },
      "execution_count": null,
      "outputs": []
    },
    {
      "cell_type": "code",
      "source": [
        "#verificando quantas colunas a base tem\n",
        "# tem uma coluna a mais\n",
        "dataText.shape"
      ],
      "metadata": {
        "colab": {
          "base_uri": "https://localhost:8080/"
        },
        "id": "d1fUGeUUlezQ",
        "outputId": "2d8e9eb5-73dc-40c6-e84d-3ec02c8bd723"
      },
      "execution_count": null,
      "outputs": [
        {
          "output_type": "execute_result",
          "data": {
            "text/plain": [
              "(10574, 3)"
            ]
          },
          "metadata": {},
          "execution_count": 10
        }
      ]
    },
    {
      "cell_type": "code",
      "source": [
        "# vertificando o nome da coluna para dropar\n",
        "print(dataText.columns.tolist())"
      ],
      "metadata": {
        "colab": {
          "base_uri": "https://localhost:8080/"
        },
        "id": "sg7SByvAllT8",
        "outputId": "cbdf5608-6f6d-47bf-d40b-fa0f337c2be2"
      },
      "execution_count": null,
      "outputs": [
        {
          "output_type": "stream",
          "name": "stdout",
          "text": [
            "['Unnamed: 0', 'text', 'label']\n"
          ]
        }
      ]
    },
    {
      "cell_type": "code",
      "source": [
        "dataText.rename(columns = {'text':'free_text', 'label':'label_id'}, inplace = True)"
      ],
      "metadata": {
        "id": "Oxfi5APoKgre"
      },
      "execution_count": null,
      "outputs": []
    },
    {
      "cell_type": "code",
      "source": [
        "dataText = dataText.drop(['id'], axis =1)"
      ],
      "metadata": {
        "id": "IMUVoN8DmDef",
        "colab": {
          "base_uri": "https://localhost:8080/",
          "height": 311
        },
        "outputId": "58c94c65-b788-46b7-e667-22303fbe5cc0"
      },
      "execution_count": null,
      "outputs": [
        {
          "output_type": "error",
          "ename": "KeyError",
          "evalue": "ignored",
          "traceback": [
            "\u001b[0;31m---------------------------------------------------------------------------\u001b[0m",
            "\u001b[0;31mKeyError\u001b[0m                                  Traceback (most recent call last)",
            "\u001b[0;32m<ipython-input-20-fffb7f4b6ed1>\u001b[0m in \u001b[0;36m<module>\u001b[0;34m()\u001b[0m\n\u001b[0;32m----> 1\u001b[0;31m \u001b[0mdataText\u001b[0m \u001b[0;34m=\u001b[0m \u001b[0mdataText\u001b[0m\u001b[0;34m.\u001b[0m\u001b[0mdrop\u001b[0m\u001b[0;34m(\u001b[0m\u001b[0;34m[\u001b[0m\u001b[0;34m'id'\u001b[0m\u001b[0;34m]\u001b[0m\u001b[0;34m,\u001b[0m \u001b[0maxis\u001b[0m \u001b[0;34m=\u001b[0m\u001b[0;36m1\u001b[0m\u001b[0;34m)\u001b[0m\u001b[0;34m\u001b[0m\u001b[0;34m\u001b[0m\u001b[0m\n\u001b[0m",
            "\u001b[0;32m/usr/local/lib/python3.7/dist-packages/pandas/util/_decorators.py\u001b[0m in \u001b[0;36mwrapper\u001b[0;34m(*args, **kwargs)\u001b[0m\n\u001b[1;32m    309\u001b[0m                     \u001b[0mstacklevel\u001b[0m\u001b[0;34m=\u001b[0m\u001b[0mstacklevel\u001b[0m\u001b[0;34m,\u001b[0m\u001b[0;34m\u001b[0m\u001b[0;34m\u001b[0m\u001b[0m\n\u001b[1;32m    310\u001b[0m                 )\n\u001b[0;32m--> 311\u001b[0;31m             \u001b[0;32mreturn\u001b[0m \u001b[0mfunc\u001b[0m\u001b[0;34m(\u001b[0m\u001b[0;34m*\u001b[0m\u001b[0margs\u001b[0m\u001b[0;34m,\u001b[0m \u001b[0;34m**\u001b[0m\u001b[0mkwargs\u001b[0m\u001b[0;34m)\u001b[0m\u001b[0;34m\u001b[0m\u001b[0;34m\u001b[0m\u001b[0m\n\u001b[0m\u001b[1;32m    312\u001b[0m \u001b[0;34m\u001b[0m\u001b[0m\n\u001b[1;32m    313\u001b[0m         \u001b[0;32mreturn\u001b[0m \u001b[0mwrapper\u001b[0m\u001b[0;34m\u001b[0m\u001b[0;34m\u001b[0m\u001b[0m\n",
            "\u001b[0;32m/usr/local/lib/python3.7/dist-packages/pandas/core/frame.py\u001b[0m in \u001b[0;36mdrop\u001b[0;34m(self, labels, axis, index, columns, level, inplace, errors)\u001b[0m\n\u001b[1;32m   4911\u001b[0m             \u001b[0mlevel\u001b[0m\u001b[0;34m=\u001b[0m\u001b[0mlevel\u001b[0m\u001b[0;34m,\u001b[0m\u001b[0;34m\u001b[0m\u001b[0;34m\u001b[0m\u001b[0m\n\u001b[1;32m   4912\u001b[0m             \u001b[0minplace\u001b[0m\u001b[0;34m=\u001b[0m\u001b[0minplace\u001b[0m\u001b[0;34m,\u001b[0m\u001b[0;34m\u001b[0m\u001b[0;34m\u001b[0m\u001b[0m\n\u001b[0;32m-> 4913\u001b[0;31m             \u001b[0merrors\u001b[0m\u001b[0;34m=\u001b[0m\u001b[0merrors\u001b[0m\u001b[0;34m,\u001b[0m\u001b[0;34m\u001b[0m\u001b[0;34m\u001b[0m\u001b[0m\n\u001b[0m\u001b[1;32m   4914\u001b[0m         )\n\u001b[1;32m   4915\u001b[0m \u001b[0;34m\u001b[0m\u001b[0m\n",
            "\u001b[0;32m/usr/local/lib/python3.7/dist-packages/pandas/core/generic.py\u001b[0m in \u001b[0;36mdrop\u001b[0;34m(self, labels, axis, index, columns, level, inplace, errors)\u001b[0m\n\u001b[1;32m   4148\u001b[0m         \u001b[0;32mfor\u001b[0m \u001b[0maxis\u001b[0m\u001b[0;34m,\u001b[0m \u001b[0mlabels\u001b[0m \u001b[0;32min\u001b[0m \u001b[0maxes\u001b[0m\u001b[0;34m.\u001b[0m\u001b[0mitems\u001b[0m\u001b[0;34m(\u001b[0m\u001b[0;34m)\u001b[0m\u001b[0;34m:\u001b[0m\u001b[0;34m\u001b[0m\u001b[0;34m\u001b[0m\u001b[0m\n\u001b[1;32m   4149\u001b[0m             \u001b[0;32mif\u001b[0m \u001b[0mlabels\u001b[0m \u001b[0;32mis\u001b[0m \u001b[0;32mnot\u001b[0m \u001b[0;32mNone\u001b[0m\u001b[0;34m:\u001b[0m\u001b[0;34m\u001b[0m\u001b[0;34m\u001b[0m\u001b[0m\n\u001b[0;32m-> 4150\u001b[0;31m                 \u001b[0mobj\u001b[0m \u001b[0;34m=\u001b[0m \u001b[0mobj\u001b[0m\u001b[0;34m.\u001b[0m\u001b[0m_drop_axis\u001b[0m\u001b[0;34m(\u001b[0m\u001b[0mlabels\u001b[0m\u001b[0;34m,\u001b[0m \u001b[0maxis\u001b[0m\u001b[0;34m,\u001b[0m \u001b[0mlevel\u001b[0m\u001b[0;34m=\u001b[0m\u001b[0mlevel\u001b[0m\u001b[0;34m,\u001b[0m \u001b[0merrors\u001b[0m\u001b[0;34m=\u001b[0m\u001b[0merrors\u001b[0m\u001b[0;34m)\u001b[0m\u001b[0;34m\u001b[0m\u001b[0;34m\u001b[0m\u001b[0m\n\u001b[0m\u001b[1;32m   4151\u001b[0m \u001b[0;34m\u001b[0m\u001b[0m\n\u001b[1;32m   4152\u001b[0m         \u001b[0;32mif\u001b[0m \u001b[0minplace\u001b[0m\u001b[0;34m:\u001b[0m\u001b[0;34m\u001b[0m\u001b[0;34m\u001b[0m\u001b[0m\n",
            "\u001b[0;32m/usr/local/lib/python3.7/dist-packages/pandas/core/generic.py\u001b[0m in \u001b[0;36m_drop_axis\u001b[0;34m(self, labels, axis, level, errors)\u001b[0m\n\u001b[1;32m   4183\u001b[0m                 \u001b[0mnew_axis\u001b[0m \u001b[0;34m=\u001b[0m \u001b[0maxis\u001b[0m\u001b[0;34m.\u001b[0m\u001b[0mdrop\u001b[0m\u001b[0;34m(\u001b[0m\u001b[0mlabels\u001b[0m\u001b[0;34m,\u001b[0m \u001b[0mlevel\u001b[0m\u001b[0;34m=\u001b[0m\u001b[0mlevel\u001b[0m\u001b[0;34m,\u001b[0m \u001b[0merrors\u001b[0m\u001b[0;34m=\u001b[0m\u001b[0merrors\u001b[0m\u001b[0;34m)\u001b[0m\u001b[0;34m\u001b[0m\u001b[0;34m\u001b[0m\u001b[0m\n\u001b[1;32m   4184\u001b[0m             \u001b[0;32melse\u001b[0m\u001b[0;34m:\u001b[0m\u001b[0;34m\u001b[0m\u001b[0;34m\u001b[0m\u001b[0m\n\u001b[0;32m-> 4185\u001b[0;31m                 \u001b[0mnew_axis\u001b[0m \u001b[0;34m=\u001b[0m \u001b[0maxis\u001b[0m\u001b[0;34m.\u001b[0m\u001b[0mdrop\u001b[0m\u001b[0;34m(\u001b[0m\u001b[0mlabels\u001b[0m\u001b[0;34m,\u001b[0m \u001b[0merrors\u001b[0m\u001b[0;34m=\u001b[0m\u001b[0merrors\u001b[0m\u001b[0;34m)\u001b[0m\u001b[0;34m\u001b[0m\u001b[0;34m\u001b[0m\u001b[0m\n\u001b[0m\u001b[1;32m   4186\u001b[0m             \u001b[0mresult\u001b[0m \u001b[0;34m=\u001b[0m \u001b[0mself\u001b[0m\u001b[0;34m.\u001b[0m\u001b[0mreindex\u001b[0m\u001b[0;34m(\u001b[0m\u001b[0;34m**\u001b[0m\u001b[0;34m{\u001b[0m\u001b[0maxis_name\u001b[0m\u001b[0;34m:\u001b[0m \u001b[0mnew_axis\u001b[0m\u001b[0;34m}\u001b[0m\u001b[0;34m)\u001b[0m\u001b[0;34m\u001b[0m\u001b[0;34m\u001b[0m\u001b[0m\n\u001b[1;32m   4187\u001b[0m \u001b[0;34m\u001b[0m\u001b[0m\n",
            "\u001b[0;32m/usr/local/lib/python3.7/dist-packages/pandas/core/indexes/base.py\u001b[0m in \u001b[0;36mdrop\u001b[0;34m(self, labels, errors)\u001b[0m\n\u001b[1;32m   6015\u001b[0m         \u001b[0;32mif\u001b[0m \u001b[0mmask\u001b[0m\u001b[0;34m.\u001b[0m\u001b[0many\u001b[0m\u001b[0;34m(\u001b[0m\u001b[0;34m)\u001b[0m\u001b[0;34m:\u001b[0m\u001b[0;34m\u001b[0m\u001b[0;34m\u001b[0m\u001b[0m\n\u001b[1;32m   6016\u001b[0m             \u001b[0;32mif\u001b[0m \u001b[0merrors\u001b[0m \u001b[0;34m!=\u001b[0m \u001b[0;34m\"ignore\"\u001b[0m\u001b[0;34m:\u001b[0m\u001b[0;34m\u001b[0m\u001b[0;34m\u001b[0m\u001b[0m\n\u001b[0;32m-> 6017\u001b[0;31m                 \u001b[0;32mraise\u001b[0m \u001b[0mKeyError\u001b[0m\u001b[0;34m(\u001b[0m\u001b[0;34mf\"{labels[mask]} not found in axis\"\u001b[0m\u001b[0;34m)\u001b[0m\u001b[0;34m\u001b[0m\u001b[0;34m\u001b[0m\u001b[0m\n\u001b[0m\u001b[1;32m   6018\u001b[0m             \u001b[0mindexer\u001b[0m \u001b[0;34m=\u001b[0m \u001b[0mindexer\u001b[0m\u001b[0;34m[\u001b[0m\u001b[0;34m~\u001b[0m\u001b[0mmask\u001b[0m\u001b[0;34m]\u001b[0m\u001b[0;34m\u001b[0m\u001b[0;34m\u001b[0m\u001b[0m\n\u001b[1;32m   6019\u001b[0m         \u001b[0;32mreturn\u001b[0m \u001b[0mself\u001b[0m\u001b[0;34m.\u001b[0m\u001b[0mdelete\u001b[0m\u001b[0;34m(\u001b[0m\u001b[0mindexer\u001b[0m\u001b[0;34m)\u001b[0m\u001b[0;34m\u001b[0m\u001b[0;34m\u001b[0m\u001b[0m\n",
            "\u001b[0;31mKeyError\u001b[0m: \"['id'] not found in axis\""
          ]
        }
      ]
    },
    {
      "cell_type": "code",
      "source": [
        "dataText.shape"
      ],
      "metadata": {
        "colab": {
          "base_uri": "https://localhost:8080/"
        },
        "id": "WHjbev_hmdRp",
        "outputId": "9292e7d6-af6a-4be8-f7f4-8054eb7e02d4"
      },
      "execution_count": null,
      "outputs": [
        {
          "output_type": "execute_result",
          "data": {
            "text/plain": [
              "(10574, 3)"
            ]
          },
          "metadata": {},
          "execution_count": 21
        }
      ]
    },
    {
      "cell_type": "code",
      "source": [
        "from sklearn import model_selection\n",
        "from sklearn.model_selection import train_test_split\n",
        "# separando a base\n",
        "# test_size = 20% para redes  DL é o permitido\n",
        "# random_starte = 42\n",
        "\n",
        "\n",
        "train_x, valid_x, train_y, valid_y = model_selection.train_test_split(dataText['free_text'], dataText['label_id'], test_size = 0.20, random_state=42)"
      ],
      "metadata": {
        "id": "H_23BIr8kwqI"
      },
      "execution_count": null,
      "outputs": []
    },
    {
      "cell_type": "markdown",
      "source": [
        "## Código original onde se lê os arquivos mas foi feito em tempo de execução a divisão"
      ],
      "metadata": {
        "id": "bURTs4syi1et"
      }
    },
    {
      "cell_type": "code",
      "source": [
        "\n",
        "\n",
        "# dataTrainText= train_x\n",
        "# pd.DataFrame(dataTrainText).to_csv(\"/content/drive/MyDrive/Colab Notebooks/BASES/concat/dataTrainText.csv\",index=False)\n",
        "\n",
        "\n",
        "# dataTrainLabel= train_y\n",
        "# pd.DataFrame(dataTrainLabel).to_csv(\"/content/drive/MyDrive/Colab Notebooks/BASES/concat/dataTrainLabel.csv\",index=False)\n",
        "\n",
        "# dataTestText= valid_x\n",
        "# pd.DataFrame(dataTestText).to_csv(\"/content/drive/MyDrive/Colab Notebooks/BASES/concat/dataTestText.csv\",index=False)\n",
        "\n",
        "# dataTestLabel = valid_y\n",
        "# pd.DataFrame(dataTestLabel).to_csv(\"/content/drive/MyDrive/Colab Notebooks/BASES/concat/dataTestLabel.csv\",index=False)\n"
      ],
      "metadata": {
        "id": "Gp84pqZVhEUC"
      },
      "execution_count": null,
      "outputs": []
    },
    {
      "cell_type": "markdown",
      "source": [
        "## contando a quantidade de palavras unicas\n",
        "\n",
        "### não precisava fazer"
      ],
      "metadata": {
        "id": "SbKIQrWPnNM-"
      }
    },
    {
      "cell_type": "code",
      "source": [
        "#Número de palavras únicas em cada linha\n",
        "# é o valor do max_features\n",
        "\n",
        "palavras_unicas = list(dataText['free_text'].str.split(' ', expand=True).stack().unique())\n",
        "len(palavras_unicas)"
      ],
      "metadata": {
        "colab": {
          "base_uri": "https://localhost:8080/"
        },
        "id": "NJsu8QXCnMk5",
        "outputId": "d330584d-a449-47d6-a632-6cc4dc098dec"
      },
      "execution_count": null,
      "outputs": [
        {
          "output_type": "execute_result",
          "data": {
            "text/plain": [
              "19043"
            ]
          },
          "metadata": {},
          "execution_count": 24
        }
      ]
    },
    {
      "cell_type": "code",
      "metadata": {
        "id": "iOTzM0KsZkTk"
      },
      "source": [
        "# Apos extrair os embeddings chamar no raiz ou pode salvar depois no drive para não ter que fazer download sempre\n",
        "embedding_path = \"/content/cc.pt.300.vec\"\n",
        "\n",
        "#tamanho do wordvector fasttext\n",
        "embed_size = 300\n",
        "\n",
        "#palavras unicas apesar de terem 9144 na base deu erro ao inserir este valor no trienamento\n",
        "max_features = 5000\n",
        "\n",
        "# máximo numero de palavras  nos tweets\n",
        "max_len = 150"
      ],
      "execution_count": null,
      "outputs": []
    },
    {
      "cell_type": "markdown",
      "source": [
        "## Apenas alterei para ter os nomes das varáveis que o programa usa"
      ],
      "metadata": {
        "id": "XfRC2Xs2iY9z"
      }
    },
    {
      "cell_type": "code",
      "metadata": {
        "id": "I0StwyNwZkWr"
      },
      "source": [
        "#train_x, valid_x, train_y, valid_y\n",
        "train_descs = train_x\n",
        "\n",
        "\n",
        "y_train = train_y\n",
        " \n",
        "test_descs = valid_x\n",
        "\n",
        "y_test = valid_y\n",
        "\n",
        "test_text=dataText['free_text']"
      ],
      "execution_count": null,
      "outputs": []
    },
    {
      "cell_type": "markdown",
      "source": [
        "## Não precisa rodar essa rotina mas eu rodei !!!\n",
        "\n",
        "### não faz diferença"
      ],
      "metadata": {
        "id": "4REKCdNXiG_u"
      }
    },
    {
      "cell_type": "code",
      "metadata": {
        "id": "oyWGueEYZkji"
      },
      "source": [
        "#preprocessing data\n",
        "import re \n",
        "import emoji\n",
        "def Preprocess(string):\n",
        "#Remove extended characters Ex:đẹppppppp\n",
        "    string = re.sub(r'([A-Z])\\1+', lambda m: m.group(1).upper(), string, flags=re.IGNORECASE)\n",
        "#Remove special characters\n",
        "    string = gensim.utils.simple_preprocess(string)\n",
        "    string = ' '.join(string)\n",
        "    string = re.sub(r\"[-()\\\\\\\"#/@;:<>{}`+=~|.!?,%/]\", \"\",string)\n",
        "    string = re.sub('\\n', ' ',string)\n",
        "    string = re.sub('--', '',string)\n",
        "    string = re.sub('  ', ' ',string)\n",
        "    string = re.sub('   ', ' ',string)\n",
        "    string = re.sub('    ', ' ',string)\n",
        "#lowercase\n",
        "    string = string.lower()\n",
        "#Remove link\n",
        "    string = re.sub('<.*?>', '', string).strip()\n",
        "    string = re.sub('(\\s)+', r'\\1', string)\n",
        "#Remove number\n",
        "    string = re.sub(r\"\\d+\", \"\", string)\n",
        "#Remove useless English phrases\n",
        "    string = re.sub(\"added.*photo\", \"\", string)\n",
        "    string = re.sub(\"added.*photos\", \"\", string)\n",
        "    string = re.sub(\"is.*post\", \"\", string)\n",
        "    string = re.sub(\"Photos.*post\", \"\", string)\n",
        "    string = re.sub(\"from.*post\", \"\", string)\n",
        "    string = re.sub(\"shared.*group\", \"\", string)\n",
        "    string = re.sub(\"shared.*post\", \"\", string)\n",
        "    string = re.sub(\"shared.*video\", \"\", string)\n",
        "    string = re.sub(\"is.*motivated\", \"\", string)\n",
        "    string = re.sub(\"is.*with\", \"\", string)\n",
        "    \n",
        "#Remove redundant characters\n",
        "    string = string.replace(u'\"', u' ')\n",
        "    string = string.replace(u'️', u'')\n",
        "    string = string.replace('🏻','')\n",
        "    string = string.replace('_',' ')\n",
        "    string = string.replace('—',' ')\n",
        "    string = \" \".join(string.split())\n",
        "    string = string.replace('url','')\n",
        "    return string\n",
        "\n",
        "for i in range(len(train_descs)): \n",
        "    train_descs.values[i]=Preprocess(train_descs.values[i])\n",
        "    \n",
        "for i in range(len(test_descs)): \n",
        "    test_descs.values[i]=Preprocess(test_descs.values[i])   \n",
        "\n",
        "for i in range(len(test_text)): \n",
        "    test_text.values[i]=Preprocess(test_text.values[i])    \n",
        "    \n",
        "#Remove emoji  \n",
        "def give_emoji_free_text(text):\n",
        "    allchars = [str for str in text]\n",
        "    emoji_list = [c for c in allchars if c in emoji.UNICODE_EMOJI]\n",
        "    clean_text = ' '.join([str for str in text.split() if not any(i in str for i in emoji_list)])\n",
        "\n",
        "    return clean_text\n",
        "\n",
        "for i in range(len(train_descs)):\n",
        "    train_descs.values[i]=give_emoji_free_text(train_descs.values[i])\n",
        "    \n",
        "for i in range(len(test_descs)): \n",
        "    test_descs.values[i]=give_emoji_free_text(test_descs.values[i])   \n",
        "\n",
        "for i in range(len(test_text)): \n",
        "    test_text.values[i]=give_emoji_free_text(test_text.values[i])    \n",
        "    "
      ],
      "execution_count": null,
      "outputs": []
    },
    {
      "cell_type": "code",
      "metadata": {
        "id": "BI8YpIQJZk0m"
      },
      "source": [
        "## aceertar isso , porque é para vietnamita\n",
        "\n",
        "\n",
        "from pyvi import ViTokenizer, ViPosTagger \n",
        "from tqdm import tqdm\n",
        "import numpy as np\n",
        "\n",
        "def word_segment(string):\n",
        "    string=ViTokenizer.tokenize(string)\n",
        "    return string\n",
        "                                  \n",
        "for i in range(len(train_descs)): \n",
        "    train_descs.values[i]=word_segment(train_descs.values[i])\n",
        "    \n",
        "for i in range(len(test_descs)): \n",
        "    test_descs.values[i]=word_segment(test_descs.values[i])   \n",
        "\n",
        "for i in range(len(test_text)): \n",
        "    test_text.values[i]=word_segment(test_text.values[i]) "
      ],
      "execution_count": null,
      "outputs": []
    },
    {
      "cell_type": "code",
      "metadata": {
        "id": "AckzG3_MZk6-"
      },
      "source": [
        "tk = Tokenizer(num_words = max_features, lower = True)\n",
        "\n",
        "tk.fit_on_texts(train_descs)\n",
        "\n",
        "x_train = tk.texts_to_sequences(train_descs)\n",
        "\n",
        "x_test = tk.texts_to_sequences(test_descs)\n",
        "\n",
        "x_test_text = tk.texts_to_sequences(test_text)"
      ],
      "execution_count": null,
      "outputs": []
    },
    {
      "cell_type": "code",
      "metadata": {
        "id": "L0fTWAjMZk9_"
      },
      "source": [
        "\n",
        "from sklearn.preprocessing import LabelBinarizer\n",
        "x_train = pad_sequences(x_train, maxlen = max_len)\n",
        "x_test = pad_sequences(x_test, maxlen = max_len)\n",
        "x_test_text= pad_sequences(x_test_text, maxlen = max_len)\n",
        "\n",
        "encoder = LabelBinarizer()\n",
        "encoder.fit(y_train)\n",
        "Y_train = encoder.transform(y_train)\n",
        "Y_test = encoder.transform(y_test)"
      ],
      "execution_count": null,
      "outputs": []
    },
    {
      "cell_type": "code",
      "source": [
        "len(Y_train)"
      ],
      "metadata": {
        "colab": {
          "base_uri": "https://localhost:8080/"
        },
        "id": "g8nlW3T666HQ",
        "outputId": "cfb67ab0-f353-453f-e845-84f4dab47258"
      },
      "execution_count": null,
      "outputs": [
        {
          "output_type": "execute_result",
          "data": {
            "text/plain": [
              "8459"
            ]
          },
          "metadata": {},
          "execution_count": 31
        }
      ]
    },
    {
      "cell_type": "code",
      "source": [
        "len(Y_test)"
      ],
      "metadata": {
        "colab": {
          "base_uri": "https://localhost:8080/"
        },
        "id": "m0VcOBR77BmJ",
        "outputId": "39340bf4-cf40-4a12-fc5d-2c457cfce18f"
      },
      "execution_count": null,
      "outputs": [
        {
          "output_type": "execute_result",
          "data": {
            "text/plain": [
              "2115"
            ]
          },
          "metadata": {},
          "execution_count": 32
        }
      ]
    },
    {
      "cell_type": "markdown",
      "source": [
        "## Essa função get_coefs demora um pouco"
      ],
      "metadata": {
        "id": "OaclfqgpraWX"
      }
    },
    {
      "cell_type": "code",
      "metadata": {
        "id": "ID_VqBA_ZlDQ"
      },
      "source": [
        "def get_coefs(word,*arr): return word, np.asarray(arr, dtype='float32')\n",
        "embedding_index = dict(get_coefs(*o.strip().split(\" \")) for o in open(embedding_path))\n",
        "\n",
        "word_index = tk.word_index\n",
        "#nb_words = min(max_features, len(word_index)+1)\n",
        "nb_words = max_features\n",
        "embedding_matrix = np.zeros((nb_words, embed_size))\n",
        "for word, i in word_index.items():\n",
        "    if i >= max_features: continue\n",
        "    embedding_vector = embedding_index.get(word)\n",
        "    if embedding_vector is not None: embedding_matrix[i] = embedding_vector"
      ],
      "execution_count": null,
      "outputs": []
    },
    {
      "cell_type": "code",
      "metadata": {
        "id": "KckWAdU4ZlAd"
      },
      "source": [
        "\n",
        "from tensorflow.keras.optimizers import Adam, RMSprop\n",
        "from keras.callbacks import EarlyStopping, ModelCheckpoint, LearningRateScheduler\n",
        "from keras.layers import GRU, BatchNormalization, Conv1D, MaxPooling1D\n",
        "\n",
        "#Retirei aqui está apenas checando o modelo criado e salvando\n",
        "#file_path = \"/content/best_model.hdf5\"\n",
        "#check_point = ModelCheckpoint(monitor = \"val_loss\", verbose = 1,save_best_only = True, mode = \"min\")\n",
        "\n",
        "\n",
        "ra_val = RocAucEvaluation(validation_data=(x_test, Y_test), interval = 1)\n",
        "early_stop = EarlyStopping(monitor = \"val_loss\", mode = \"min\", patience = 5)"
      ],
      "execution_count": null,
      "outputs": []
    },
    {
      "cell_type": "code",
      "metadata": {
        "id": "s9N0x0f0Zk2i"
      },
      "source": [
        "from keras.callbacks import CSVLogger\n",
        "def build_model(lr = 0.0, lr_d = 0.0, units = 0, dr = 0.0):\n",
        "    inp = Input(shape = (max_len,))\n",
        "    #x = Embedding(len(word_index)+1, embed_size, weights = [embedding_matrix], trainable = False)(inp)\n",
        "    x = Embedding(5000, embed_size, weights = [embedding_matrix], trainable = False)(inp) \n",
        "\n",
        "    x1 = SpatialDropout1D(dr)(x)\n",
        "\n",
        "    x = Bidirectional(GRU(units, return_sequences = True))(x1)\n",
        "    x = Conv1D(int(units/2), kernel_size = 2, padding = \"valid\", kernel_initializer = \"he_uniform\")(x)\n",
        "    \n",
        "    y = Bidirectional(LSTM(units, return_sequences = True))(x1)\n",
        "    y = Conv1D(int(units/2), kernel_size = 2, padding = \"valid\", kernel_initializer = \"he_uniform\")(y)\n",
        "    \n",
        "    avg_pool1 = GlobalAveragePooling1D()(x)\n",
        "    max_pool1 = GlobalMaxPooling1D()(x)\n",
        "    \n",
        "    avg_pool2 = GlobalAveragePooling1D()(y)\n",
        "    max_pool2 = GlobalMaxPooling1D()(y)\n",
        "    \n",
        "    \n",
        "    x = concatenate([avg_pool1, max_pool1, avg_pool2, max_pool2])\n",
        "\n",
        "    x = Dense(1, activation = \"sigmoid\")(x)\n",
        "    model = Model(inputs = inp, outputs = x)\n",
        "    csv_logger = CSVLogger('log.csv', append=True, separator=';')\n",
        "    model.compile(loss = \"binary_crossentropy\", optimizer = Adam(lr = lr, decay = lr_d), metrics = ['accuracy'])\n",
        "    history = model.fit(x_train, Y_train, batch_size = 128, epochs = 10, validation_data = (x_test, Y_test), \n",
        "                        verbose = 1, callbacks = [ra_val,early_stop,csv_logger])\n",
        "     #model = load_model(file_path)\n",
        "    history_dict = history.history\n",
        "    print(history.history.keys())\n",
        "  \n",
        "    return model\n",
        "  "
      ],
      "execution_count": null,
      "outputs": []
    },
    {
      "cell_type": "code",
      "metadata": {
        "id": "Hjf_s9MrZky2",
        "colab": {
          "base_uri": "https://localhost:8080/"
        },
        "outputId": "5fb8429f-fb82-4bae-ae12-fd376703cac0"
      },
      "source": [
        "from numpy.random import seed  \n",
        "#from tensorflow import set_random_seed\n",
        "import tensorflow as tf\n",
        "tf.random.set_seed(1)\n",
        "tf.random.set_seed(2)\n",
        "\n",
        "#seed(1)\n",
        "#set_random_seed(1)\n",
        "model = build_model(lr = 1e-3, lr_d = 0, units = 32, dr = 0.5)\n",
        "\n",
        "#seed(2)\n",
        "#set_random_seed(2)\n",
        "pred = model.predict(x_test_text, batch_size = 1024, verbose = 1)\n",
        "\n",
        "\n",
        "\n"
      ],
      "execution_count": null,
      "outputs": [
        {
          "output_type": "stream",
          "name": "stdout",
          "text": [
            "Epoch 1/10\n"
          ]
        },
        {
          "output_type": "stream",
          "name": "stderr",
          "text": [
            "/usr/local/lib/python3.7/dist-packages/keras/optimizer_v2/adam.py:105: UserWarning: The `lr` argument is deprecated, use `learning_rate` instead.\n",
            "  super(Adam, self).__init__(name, **kwargs)\n"
          ]
        },
        {
          "output_type": "stream",
          "name": "stdout",
          "text": [
            "66/67 [============================>.] - ETA: 0s - loss: 0.6031 - accuracy: 0.7015\n",
            " ROC-AUC - epoch: 1 - score: 0.904645\n",
            "67/67 [==============================] - 13s 96ms/step - loss: 0.6029 - accuracy: 0.7015 - val_loss: 0.4494 - val_accuracy: 0.7887\n",
            "Epoch 2/10\n",
            "67/67 [==============================] - ETA: 0s - loss: 0.4383 - accuracy: 0.8012\n",
            " ROC-AUC - epoch: 2 - score: 0.932337\n",
            "67/67 [==============================] - 4s 53ms/step - loss: 0.4383 - accuracy: 0.8012 - val_loss: 0.3616 - val_accuracy: 0.8567\n",
            "Epoch 3/10\n",
            "67/67 [==============================] - ETA: 0s - loss: 0.3844 - accuracy: 0.8350\n",
            " ROC-AUC - epoch: 3 - score: 0.949673\n",
            "67/67 [==============================] - 3s 52ms/step - loss: 0.3844 - accuracy: 0.8350 - val_loss: 0.3148 - val_accuracy: 0.8799\n",
            "Epoch 4/10\n",
            "67/67 [==============================] - ETA: 0s - loss: 0.3430 - accuracy: 0.8570\n",
            " ROC-AUC - epoch: 4 - score: 0.959988\n",
            "67/67 [==============================] - 3s 52ms/step - loss: 0.3430 - accuracy: 0.8570 - val_loss: 0.2713 - val_accuracy: 0.8979\n",
            "Epoch 5/10\n",
            "67/67 [==============================] - ETA: 0s - loss: 0.3253 - accuracy: 0.8671\n",
            " ROC-AUC - epoch: 5 - score: 0.966896\n",
            "67/67 [==============================] - 3s 52ms/step - loss: 0.3253 - accuracy: 0.8671 - val_loss: 0.2449 - val_accuracy: 0.9149\n",
            "Epoch 6/10\n",
            "67/67 [==============================] - ETA: 0s - loss: 0.3123 - accuracy: 0.8752\n",
            " ROC-AUC - epoch: 6 - score: 0.968390\n",
            "67/67 [==============================] - 3s 52ms/step - loss: 0.3123 - accuracy: 0.8752 - val_loss: 0.2350 - val_accuracy: 0.9177\n",
            "Epoch 7/10\n",
            "67/67 [==============================] - ETA: 0s - loss: 0.3004 - accuracy: 0.8800\n",
            " ROC-AUC - epoch: 7 - score: 0.968990\n",
            "67/67 [==============================] - 3s 52ms/step - loss: 0.3004 - accuracy: 0.8800 - val_loss: 0.2319 - val_accuracy: 0.9196\n",
            "Epoch 8/10\n",
            "66/67 [============================>.] - ETA: 0s - loss: 0.2940 - accuracy: 0.8799\n",
            " ROC-AUC - epoch: 8 - score: 0.968870\n",
            "67/67 [==============================] - 4s 53ms/step - loss: 0.2944 - accuracy: 0.8795 - val_loss: 0.2288 - val_accuracy: 0.9201\n",
            "Epoch 9/10\n",
            "67/67 [==============================] - ETA: 0s - loss: 0.2886 - accuracy: 0.8859\n",
            " ROC-AUC - epoch: 9 - score: 0.970411\n",
            "67/67 [==============================] - 4s 54ms/step - loss: 0.2886 - accuracy: 0.8859 - val_loss: 0.2218 - val_accuracy: 0.9225\n",
            "Epoch 10/10\n",
            "67/67 [==============================] - ETA: 0s - loss: 0.2769 - accuracy: 0.8893\n",
            " ROC-AUC - epoch: 10 - score: 0.969653\n",
            "67/67 [==============================] - 4s 53ms/step - loss: 0.2769 - accuracy: 0.8893 - val_loss: 0.2193 - val_accuracy: 0.9225\n",
            "dict_keys(['loss', 'accuracy', 'val_loss', 'val_accuracy'])\n",
            "11/11 [==============================] - 1s 47ms/step\n"
          ]
        }
      ]
    },
    {
      "cell_type": "code",
      "metadata": {
        "id": "Xe-8g0MEZkhs",
        "colab": {
          "base_uri": "https://localhost:8080/"
        },
        "outputId": "ccfece41-1b78-43f1-802d-ea75e1e84faa"
      },
      "source": [
        "print(\"[{}] Completed!\".format(time.time() - start_time))"
      ],
      "execution_count": null,
      "outputs": [
        {
          "output_type": "stream",
          "name": "stdout",
          "text": [
            "[1287.6652703285217] Completed!\n"
          ]
        }
      ]
    },
    {
      "cell_type": "code",
      "metadata": {
        "id": "8D0On_KvZkgK",
        "colab": {
          "base_uri": "https://localhost:8080/"
        },
        "outputId": "5a255774-3082-4226-e7cd-8494415cd655"
      },
      "source": [
        "score = model.evaluate(x_test, Y_test, batch_size = 128, verbose = True)\n",
        " \n",
        "print('\\nTest val_loss:', score[0])\n",
        "print('Categorical accuracy:', score[1])\n"
      ],
      "execution_count": null,
      "outputs": [
        {
          "output_type": "stream",
          "name": "stdout",
          "text": [
            "17/17 [==============================] - 0s 18ms/step - loss: 0.2193 - accuracy: 0.9225\n",
            "\n",
            "Test val_loss: 0.21927669644355774\n",
            "Categorical accuracy: 0.9224586486816406\n"
          ]
        }
      ]
    },
    {
      "cell_type": "code",
      "metadata": {
        "id": "hZcvqRkBZkes",
        "colab": {
          "base_uri": "https://localhost:8080/"
        },
        "outputId": "c4e0493b-ef3a-4270-f26a-babf251c6e48"
      },
      "source": [
        "y_prob = model.predict(x_test) \n",
        "y_labelpred = y_prob.argmax(axis=-1)\n",
        "#len(y_prob)\n",
        "len(y_labelpred)\n",
        "#for i in y_labelpred:\n",
        " #    print(i)"
      ],
      "execution_count": null,
      "outputs": [
        {
          "output_type": "execute_result",
          "data": {
            "text/plain": [
              "2115"
            ]
          },
          "metadata": {},
          "execution_count": 101
        }
      ]
    },
    {
      "cell_type": "code",
      "source": [
        "import pandas as pd\n",
        "his = pd.read_csv('log.csv',sep=';') \n",
        "his.head(10)"
      ],
      "metadata": {
        "colab": {
          "base_uri": "https://localhost:8080/",
          "height": 363
        },
        "id": "I4VfaVQjCxnh",
        "outputId": "e48077ef-396c-46ec-8bd8-957ca10b06d5"
      },
      "execution_count": null,
      "outputs": [
        {
          "output_type": "execute_result",
          "data": {
            "text/plain": [
              "   epoch  accuracy      loss  val_accuracy  val_loss\n",
              "0      0  0.701501  0.602871      0.788652  0.449410\n",
              "1      1  0.801159  0.438303      0.856738  0.361634\n",
              "2      2  0.834969  0.384366      0.879905  0.314778\n",
              "3      3  0.856957  0.342988      0.897872  0.271322\n",
              "4      4  0.867124  0.325280      0.914894  0.244858\n",
              "5      5  0.875163  0.312253      0.917731  0.235046\n",
              "6      6  0.880009  0.300425      0.919622  0.231948\n",
              "7      7  0.879537  0.294440      0.920095  0.228800\n",
              "8      8  0.885920  0.288617      0.922459  0.221757\n",
              "9      9  0.889349  0.276924      0.922459  0.219277"
            ],
            "text/html": [
              "\n",
              "  <div id=\"df-4995d2a5-512c-4ba7-997b-a7c348f865c9\">\n",
              "    <div class=\"colab-df-container\">\n",
              "      <div>\n",
              "<style scoped>\n",
              "    .dataframe tbody tr th:only-of-type {\n",
              "        vertical-align: middle;\n",
              "    }\n",
              "\n",
              "    .dataframe tbody tr th {\n",
              "        vertical-align: top;\n",
              "    }\n",
              "\n",
              "    .dataframe thead th {\n",
              "        text-align: right;\n",
              "    }\n",
              "</style>\n",
              "<table border=\"1\" class=\"dataframe\">\n",
              "  <thead>\n",
              "    <tr style=\"text-align: right;\">\n",
              "      <th></th>\n",
              "      <th>epoch</th>\n",
              "      <th>accuracy</th>\n",
              "      <th>loss</th>\n",
              "      <th>val_accuracy</th>\n",
              "      <th>val_loss</th>\n",
              "    </tr>\n",
              "  </thead>\n",
              "  <tbody>\n",
              "    <tr>\n",
              "      <th>0</th>\n",
              "      <td>0</td>\n",
              "      <td>0.701501</td>\n",
              "      <td>0.602871</td>\n",
              "      <td>0.788652</td>\n",
              "      <td>0.449410</td>\n",
              "    </tr>\n",
              "    <tr>\n",
              "      <th>1</th>\n",
              "      <td>1</td>\n",
              "      <td>0.801159</td>\n",
              "      <td>0.438303</td>\n",
              "      <td>0.856738</td>\n",
              "      <td>0.361634</td>\n",
              "    </tr>\n",
              "    <tr>\n",
              "      <th>2</th>\n",
              "      <td>2</td>\n",
              "      <td>0.834969</td>\n",
              "      <td>0.384366</td>\n",
              "      <td>0.879905</td>\n",
              "      <td>0.314778</td>\n",
              "    </tr>\n",
              "    <tr>\n",
              "      <th>3</th>\n",
              "      <td>3</td>\n",
              "      <td>0.856957</td>\n",
              "      <td>0.342988</td>\n",
              "      <td>0.897872</td>\n",
              "      <td>0.271322</td>\n",
              "    </tr>\n",
              "    <tr>\n",
              "      <th>4</th>\n",
              "      <td>4</td>\n",
              "      <td>0.867124</td>\n",
              "      <td>0.325280</td>\n",
              "      <td>0.914894</td>\n",
              "      <td>0.244858</td>\n",
              "    </tr>\n",
              "    <tr>\n",
              "      <th>5</th>\n",
              "      <td>5</td>\n",
              "      <td>0.875163</td>\n",
              "      <td>0.312253</td>\n",
              "      <td>0.917731</td>\n",
              "      <td>0.235046</td>\n",
              "    </tr>\n",
              "    <tr>\n",
              "      <th>6</th>\n",
              "      <td>6</td>\n",
              "      <td>0.880009</td>\n",
              "      <td>0.300425</td>\n",
              "      <td>0.919622</td>\n",
              "      <td>0.231948</td>\n",
              "    </tr>\n",
              "    <tr>\n",
              "      <th>7</th>\n",
              "      <td>7</td>\n",
              "      <td>0.879537</td>\n",
              "      <td>0.294440</td>\n",
              "      <td>0.920095</td>\n",
              "      <td>0.228800</td>\n",
              "    </tr>\n",
              "    <tr>\n",
              "      <th>8</th>\n",
              "      <td>8</td>\n",
              "      <td>0.885920</td>\n",
              "      <td>0.288617</td>\n",
              "      <td>0.922459</td>\n",
              "      <td>0.221757</td>\n",
              "    </tr>\n",
              "    <tr>\n",
              "      <th>9</th>\n",
              "      <td>9</td>\n",
              "      <td>0.889349</td>\n",
              "      <td>0.276924</td>\n",
              "      <td>0.922459</td>\n",
              "      <td>0.219277</td>\n",
              "    </tr>\n",
              "  </tbody>\n",
              "</table>\n",
              "</div>\n",
              "      <button class=\"colab-df-convert\" onclick=\"convertToInteractive('df-4995d2a5-512c-4ba7-997b-a7c348f865c9')\"\n",
              "              title=\"Convert this dataframe to an interactive table.\"\n",
              "              style=\"display:none;\">\n",
              "        \n",
              "  <svg xmlns=\"http://www.w3.org/2000/svg\" height=\"24px\"viewBox=\"0 0 24 24\"\n",
              "       width=\"24px\">\n",
              "    <path d=\"M0 0h24v24H0V0z\" fill=\"none\"/>\n",
              "    <path d=\"M18.56 5.44l.94 2.06.94-2.06 2.06-.94-2.06-.94-.94-2.06-.94 2.06-2.06.94zm-11 1L8.5 8.5l.94-2.06 2.06-.94-2.06-.94L8.5 2.5l-.94 2.06-2.06.94zm10 10l.94 2.06.94-2.06 2.06-.94-2.06-.94-.94-2.06-.94 2.06-2.06.94z\"/><path d=\"M17.41 7.96l-1.37-1.37c-.4-.4-.92-.59-1.43-.59-.52 0-1.04.2-1.43.59L10.3 9.45l-7.72 7.72c-.78.78-.78 2.05 0 2.83L4 21.41c.39.39.9.59 1.41.59.51 0 1.02-.2 1.41-.59l7.78-7.78 2.81-2.81c.8-.78.8-2.07 0-2.86zM5.41 20L4 18.59l7.72-7.72 1.47 1.35L5.41 20z\"/>\n",
              "  </svg>\n",
              "      </button>\n",
              "      \n",
              "  <style>\n",
              "    .colab-df-container {\n",
              "      display:flex;\n",
              "      flex-wrap:wrap;\n",
              "      gap: 12px;\n",
              "    }\n",
              "\n",
              "    .colab-df-convert {\n",
              "      background-color: #E8F0FE;\n",
              "      border: none;\n",
              "      border-radius: 50%;\n",
              "      cursor: pointer;\n",
              "      display: none;\n",
              "      fill: #1967D2;\n",
              "      height: 32px;\n",
              "      padding: 0 0 0 0;\n",
              "      width: 32px;\n",
              "    }\n",
              "\n",
              "    .colab-df-convert:hover {\n",
              "      background-color: #E2EBFA;\n",
              "      box-shadow: 0px 1px 2px rgba(60, 64, 67, 0.3), 0px 1px 3px 1px rgba(60, 64, 67, 0.15);\n",
              "      fill: #174EA6;\n",
              "    }\n",
              "\n",
              "    [theme=dark] .colab-df-convert {\n",
              "      background-color: #3B4455;\n",
              "      fill: #D2E3FC;\n",
              "    }\n",
              "\n",
              "    [theme=dark] .colab-df-convert:hover {\n",
              "      background-color: #434B5C;\n",
              "      box-shadow: 0px 1px 3px 1px rgba(0, 0, 0, 0.15);\n",
              "      filter: drop-shadow(0px 1px 2px rgba(0, 0, 0, 0.3));\n",
              "      fill: #FFFFFF;\n",
              "    }\n",
              "  </style>\n",
              "\n",
              "      <script>\n",
              "        const buttonEl =\n",
              "          document.querySelector('#df-4995d2a5-512c-4ba7-997b-a7c348f865c9 button.colab-df-convert');\n",
              "        buttonEl.style.display =\n",
              "          google.colab.kernel.accessAllowed ? 'block' : 'none';\n",
              "\n",
              "        async function convertToInteractive(key) {\n",
              "          const element = document.querySelector('#df-4995d2a5-512c-4ba7-997b-a7c348f865c9');\n",
              "          const dataTable =\n",
              "            await google.colab.kernel.invokeFunction('convertToInteractive',\n",
              "                                                     [key], {});\n",
              "          if (!dataTable) return;\n",
              "\n",
              "          const docLinkHtml = 'Like what you see? Visit the ' +\n",
              "            '<a target=\"_blank\" href=https://colab.research.google.com/notebooks/data_table.ipynb>data table notebook</a>'\n",
              "            + ' to learn more about interactive tables.';\n",
              "          element.innerHTML = '';\n",
              "          dataTable['output_type'] = 'display_data';\n",
              "          await google.colab.output.renderOutput(dataTable, element);\n",
              "          const docLink = document.createElement('div');\n",
              "          docLink.innerHTML = docLinkHtml;\n",
              "          element.appendChild(docLink);\n",
              "        }\n",
              "      </script>\n",
              "    </div>\n",
              "  </div>\n",
              "  "
            ]
          },
          "metadata": {},
          "execution_count": 102
        }
      ]
    },
    {
      "cell_type": "code",
      "source": [
        "import matplotlib.pyplot as plt\n",
        "\n",
        "# line 1 points\n",
        "x1 = his['epoch']\n",
        "y1= his['accuracy']\n",
        "# plotting the line 1 points\n",
        "plt.plot(x1, y1, label = \"Accuracy\")\n",
        "\n",
        "# line 2 points\n",
        "y2 = his['val_accuracy']\n",
        "# plotting the line 2 points\n",
        "plt.plot(x1, y2, label = \"Validation Accuracy\")\n",
        "\n",
        "# naming the x axis\n",
        "plt.xlabel('epoch')\n",
        "# naming the y axis\n",
        "# plt.ylabel('accuracy')\n",
        "# giving a title to my graph\n",
        "plt.title('Model history!')\n",
        "\n",
        "# show a legend on the plot\n",
        "plt.legend()\n",
        "\n",
        "# function to show the plot\n",
        "plt.show()\n"
      ],
      "metadata": {
        "colab": {
          "base_uri": "https://localhost:8080/",
          "height": 295
        },
        "id": "jKhotV2dGOza",
        "outputId": "f02233d5-a6c2-43bc-ffc5-ef8d2e0a6bf4"
      },
      "execution_count": null,
      "outputs": [
        {
          "output_type": "display_data",
          "data": {
            "text/plain": [
              "<Figure size 432x288 with 1 Axes>"
            ],
            "image/png": "[encoded data removed]"
          },
          "metadata": {
            "needs_background": "light"
          }
        }
      ]
    },
    {
      "cell_type": "code",
      "source": [
        "import matplotlib.pyplot as plt\n",
        "\n",
        "# line 1 points\n",
        "x1 = his['epoch']\n",
        "y3= his['loss']\n",
        "# plotting the line 1 points\n",
        "plt.plot(x1, y3, label = \"Loss\")\n",
        "\n",
        "# line 2 points\n",
        "y4 = his['val_loss']\n",
        "# plotting the line 2 points\n",
        "plt.plot(x1, y4, label = \"Validation Loss\")\n",
        "\n",
        "# naming the x axis\n",
        "plt.xlabel('epoch')\n",
        "# naming the y axis\n",
        "# plt.ylabel('accuracy')\n",
        "# giving a title to my graph\n",
        "plt.title('Model history!')\n",
        "\n",
        "# show a legend on the plot\n",
        "plt.legend()\n",
        "\n",
        "# function to show the plot\n",
        "plt.show()\n"
      ],
      "metadata": {
        "colab": {
          "base_uri": "https://localhost:8080/",
          "height": 295
        },
        "id": "u2itcr-KHuO_",
        "outputId": "f6dae16c-e635-4d3a-a411-e8a1f6189020"
      },
      "execution_count": null,
      "outputs": [
        {
          "output_type": "display_data",
          "data": {
            "text/plain": [
              "<Figure size 432x288 with 1 Axes>"
            ],
            "image/png": "[encoded data removed]"
          },
          "metadata": {
            "needs_background": "light"
          }
        }
      ]
    },
    {
      "cell_type": "code",
      "metadata": {
        "id": "Qjrmy4i6ZkR5",
        "colab": {
          "base_uri": "https://localhost:8080/"
        },
        "outputId": "7d064e11-525c-479a-f938-07dbdbdcc9e1"
      },
      "source": [
        "y_labeltrue=Y_test\n",
        "len(y_labeltrue)\n",
        "#for i in y_labeltrue:\n",
        "#     print(i)"
      ],
      "execution_count": null,
      "outputs": [
        {
          "output_type": "execute_result",
          "data": {
            "text/plain": [
              "2115"
            ]
          },
          "metadata": {},
          "execution_count": 105
        }
      ]
    },
    {
      "cell_type": "code",
      "metadata": {
        "id": "5f_8tQU4ZkLT"
      },
      "source": [
        "y_test_text = model.predict(x_test_text) \n",
        "\n",
        "testText = pred\n",
        "\n"
      ],
      "execution_count": null,
      "outputs": []
    },
    {
      "cell_type": "code",
      "source": [
        "len(y_test_text)"
      ],
      "metadata": {
        "colab": {
          "base_uri": "https://localhost:8080/"
        },
        "id": "5wX9P36P4mhH",
        "outputId": "0ec77be4-3048-4eab-f855-15f1cedbccd7"
      },
      "execution_count": null,
      "outputs": [
        {
          "output_type": "execute_result",
          "data": {
            "text/plain": [
              "10574"
            ]
          },
          "metadata": {},
          "execution_count": 107
        }
      ]
    },
    {
      "cell_type": "code",
      "metadata": {
        "id": "27ETsuTnZkJa",
        "colab": {
          "base_uri": "https://localhost:8080/"
        },
        "outputId": "8ad29274-1936-4eaf-d8f9-2761795a5665"
      },
      "source": [
        "from sklearn.metrics import f1_score, precision_recall_fscore_support as score\n",
        "print('macro_F1: ',f1_score(y_labeltrue,y_labelpred, average='macro'))\n",
        "print('micro_F1: ',f1_score(y_labeltrue,y_labelpred, average='micro'))"
      ],
      "execution_count": null,
      "outputs": [
        {
          "output_type": "stream",
          "name": "stdout",
          "text": [
            "macro_F1:  0.33111954459203036\n",
            "micro_F1:  0.4950354609929078\n"
          ]
        }
      ]
    },
    {
      "cell_type": "code",
      "source": [
        "from sklearn.metrics import hamming_loss\n",
        "hamming_loss(y_labeltrue,y_labelpred)"
      ],
      "metadata": {
        "colab": {
          "base_uri": "https://localhost:8080/"
        },
        "id": "WIu-N2Tf_sQ3",
        "outputId": "b01e7d04-1aca-4a6a-bc27-5cfdc461c48a"
      },
      "execution_count": null,
      "outputs": [
        {
          "output_type": "execute_result",
          "data": {
            "text/plain": [
              "0.5049645390070922"
            ]
          },
          "metadata": {},
          "execution_count": 109
        }
      ]
    },
    {
      "cell_type": "code",
      "metadata": {
        "id": "rYpv7sUlaqPH",
        "colab": {
          "base_uri": "https://localhost:8080/",
          "height": 635
        },
        "outputId": "9d977e11-b384-44a1-d456-6cb78055f07a"
      },
      "source": [
        "from mlxtend.plotting import plot_confusion_matrix\n",
        "from sklearn.metrics import confusion_matrix\n",
        "import matplotlib.pyplot as plt\n",
        "\n",
        "target_names = ['0', '1']\n",
        "\n",
        "classes = confusion_matrix(y_labeltrue,y_labelpred)\n",
        "\n",
        "fig,ax = plot_confusion_matrix(figsize=(11, 11),conf_mat=classes,\n",
        "                                colorbar=True,\n",
        "                                show_absolute=True,\n",
        "                                show_normed=True,\n",
        "#                                 class_names=target_names,\n",
        "                              )\n",
        "plt.show()"
      ],
      "execution_count": null,
      "outputs": [
        {
          "output_type": "display_data",
          "data": {
            "text/plain": [
              "<Figure size 792x792 with 2 Axes>"
            ],
            "image/png": "[encoded data removed]"
          },
          "metadata": {
            "needs_background": "light"
          }
        }
      ]
    },
    {
      "cell_type": "code",
      "source": [
        "# Get the predictions\n",
        "#\n",
        "\n",
        "#\n",
        "# Calculate the confusion matrix\n",
        "#\n",
        "conf_matrix = confusion_matrix(y_labeltrue,y_labelpred)\n",
        "#\n",
        "# Print the confusion matrix using Matplotlib\n",
        "#\n",
        "fig, ax = plt.subplots(figsize=(7.5, 7.5))\n",
        "ax.matshow(conf_matrix, cmap=plt.cm.Blues, alpha=0.3)\n",
        "for i in range(conf_matrix.shape[0]):\n",
        "    for j in range(conf_matrix.shape[1]):\n",
        "        ax.text(x=j, y=i,s=conf_matrix[i, j], va='center', ha='center', size='xx-large')\n",
        " \n",
        "plt.xlabel('Predictions', fontsize=18)\n",
        "plt.ylabel('Actuals', fontsize=18)\n",
        "plt.title('Confusion Matrix', fontsize=18)\n",
        "plt.show()"
      ],
      "metadata": {
        "colab": {
          "base_uri": "https://localhost:8080/",
          "height": 501
        },
        "id": "m-CvggKB0-WR",
        "outputId": "6db8f345-ca91-44f4-8bff-756f40fea00e"
      },
      "execution_count": null,
      "outputs": [
        {
          "output_type": "display_data",
          "data": {
            "text/plain": [
              "<Figure size 540x540 with 1 Axes>"
            ],
            "image/png": "[encoded data removed]"
          },
          "metadata": {
            "needs_background": "light"
          }
        }
      ]
    }
  ]
}